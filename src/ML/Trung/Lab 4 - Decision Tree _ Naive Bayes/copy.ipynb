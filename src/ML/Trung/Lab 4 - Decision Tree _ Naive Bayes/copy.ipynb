{
 "cells": [
  {
   "attachments": {},
   "cell_type": "markdown",
   "metadata": {
    "colab_type": "text",
    "id": "b76YngfGGfyD"
   },
   "source": [
    "# Lab04: Decision Tree and Naive Bayes\n",
    "\n",
    "- Student ID: 20127370\n",
    "- Student name: Mai Quý Trung"
   ]
  },
  {
   "cell_type": "markdown",
   "metadata": {
    "colab_type": "text",
    "id": "-xZqh-Z7GfyF"
   },
   "source": [
    "**How to do your homework**\n",
    "\n",
    "\n",
    "You will work directly on this notebook; the word `TODO` indicate the parts you need to do.\n",
    "\n",
    "You can discuss ideas with classmates as well as finding information from the internet, book, etc...; but *this homework must be your*.\n",
    "\n",
    "**How to submit your homework**\n",
    "\n",
    "Before submitting, rerun the notebook (`Kernel` ->` Restart & Run All`).\n",
    "\n",
    "Then create a folder named `ID` (for example, if your ID is 1234567, then name the folder `1234567`) Copy file notebook to this folder, compress and submit it on moodle.\n",
    "\n",
    "**Contents:**\n",
    "\n",
    "- Decision Tree.\n",
    "- Naive Bayes"
   ]
  },
  {
   "cell_type": "markdown",
   "metadata": {},
   "source": [
    "### Import libs"
   ]
  },
  {
   "cell_type": "code",
   "execution_count": 1,
   "metadata": {},
   "outputs": [],
   "source": [
    "using MLDatasets, Plots\n",
    "using Statistics, Distributions\n",
    "using MLJ\n",
    "using Random"
   ]
  },
  {
   "cell_type": "markdown",
   "metadata": {},
   "source": [
    "### Load Iris dataset"
   ]
  },
  {
   "cell_type": "code",
   "execution_count": 2,
   "metadata": {},
   "outputs": [
    {
     "data": {
      "text/plain": [
       "150-element Vector{Any}:\n",
       " 0\n",
       " 0\n",
       " 0\n",
       " 0\n",
       " 0\n",
       " 0\n",
       " 0\n",
       " 0\n",
       " 0\n",
       " 0\n",
       " ⋮\n",
       " 2\n",
       " 2\n",
       " 2\n",
       " 2\n",
       " 2\n",
       " 2\n",
       " 2\n",
       " 2\n",
       " 2"
      ]
     },
     "metadata": {},
     "output_type": "display_data"
    }
   ],
   "source": [
    "X = MLDatasets.Iris.features()\n",
    "X = transpose(X)\n",
    "y = MLDatasets.Iris.labels()\n",
    "y = replace(y, \"Iris-setosa\" => 0, \"Iris-versicolor\" => 1, \"Iris-virginica\" => 2)"
   ]
  },
  {
   "cell_type": "code",
   "execution_count": 3,
   "metadata": {},
   "outputs": [
    {
     "data": {
      "text/plain": [
       "((100, 4), (100,), (50, 4), (50,))"
      ]
     },
     "metadata": {},
     "output_type": "display_data"
    }
   ],
   "source": [
    "Random.seed!(2022)\n",
    "\n",
    "function train_test_split(X, y, test_size=0.33)\n",
    "    \"\"\"\n",
    "    Parameters:\n",
    "    -----------\n",
    "    X (Vector<array>) : features array\n",
    "    y (Vector<string>) : lables array\n",
    "    test_size (float) : proportion of test dataset\n",
    "    \"\"\"\n",
    "    n = size(X)[1]\n",
    "    idx = shuffle(1:n)\n",
    "    train_size = 1 - test_size\n",
    "    train_idx = view(idx, 1:floor(Int, train_size*n))\n",
    "    test_idx = view(idx, (floor(Int, train_size*n)+1):n)\n",
    "    return X[train_idx,:], y[train_idx], X[test_idx,:], y[test_idx]\n",
    "end\n",
    "\n",
    "train_x, train_y, test_x, test_y = train_test_split(X, y, 0.33)\n",
    "\n",
    "size(train_x), size(train_y), size(test_x), size(test_y)"
   ]
  },
  {
   "attachments": {},
   "cell_type": "markdown",
   "metadata": {},
   "source": [
    "## 1. Decision Tree: Iterative Dichotomiser 3 (ID3)"
   ]
  },
  {
   "attachments": {},
   "cell_type": "markdown",
   "metadata": {},
   "source": [
    "### 1.1 Information Gain"
   ]
  },
  {
   "attachments": {},
   "cell_type": "markdown",
   "metadata": {},
   "source": [
    "Expected value of the self-information (entropy):"
   ]
  },
  {
   "attachments": {},
   "cell_type": "markdown",
   "metadata": {},
   "source": [
    "$$Entropy=..."
   ]
  },
  {
   "attachments": {},
   "cell_type": "markdown",
   "metadata": {},
   "source": [
    "The entropy function gets the smallest value if there is a value of $p_i$ equal to 1, reaches the maximum value if all $ p_i $ are equal. These properties of the entropy function make it is an expression of the disorder, or randomness of a system, ..."
   ]
  },
  {
   "cell_type": "code",
   "execution_count": 4,
   "metadata": {},
   "outputs": [
    {
     "data": {
      "text/plain": [
       "entropy (generic function with 1 method)"
      ]
     },
     "metadata": {},
     "output_type": "display_data"
    }
   ],
   "source": [
    "function entropy(counts, n_samples)\n",
    "    \"\"\"\n",
    "    Parameters:\n",
    "    -----------\n",
    "    counts: shape (n_classes): list number of samples in each class\n",
    "    n_samples: number of data samples\n",
    "    \n",
    "    -----------\n",
    "    return entropy \n",
    "    \"\"\"\n",
    "    sum = 0\n",
    "    #TODO sum of entropy of each class\n",
    "\n",
    "    return sum\n",
    "end"
   ]
  },
  {
   "cell_type": "code",
   "execution_count": 5,
   "metadata": {},
   "outputs": [
    {
     "data": {
      "text/plain": [
       "get_entropy (generic function with 1 method)"
      ]
     },
     "metadata": {},
     "output_type": "display_data"
    }
   ],
   "source": [
    "function entropy_of_one_division(division)\n",
    "    \"\"\"\n",
    "    Returns entropy of a divided group of data\n",
    "    Data may have multiple classes\n",
    "    \"\"\"\n",
    "    n_samples = size(division, 1)\n",
    "    n_classes = Set(division)\n",
    "    \n",
    "    counts=[]\n",
    "    #count samples in each class then store it to list counts\n",
    "    #TODO:\n",
    "\n",
    "    entropy_val = entropy(counts, n_samples)\n",
    "    return entropy_val, n_samples\n",
    "end\n",
    "\n",
    "function get_entropy(y_predict, y)\n",
    "    \"\"\"\n",
    "    Returns entropy of a split\n",
    "    y_predict is the split decision by cutoff, True/Fasle\n",
    "    \"\"\"\n",
    "    n = size(y,1)\n",
    "    entropy_true, n_true = entropy_of_one_division(y[y_predict]) # left hand side entropy\n",
    "    entropy_false, n_false = entropy_of_one_division(y[.~y_predict]) # right hand side entropy\n",
    "    # overall entropy\n",
    "    #TODO: s=\n",
    "\n",
    "    return s\n",
    "end"
   ]
  },
  {
   "cell_type": "markdown",
   "metadata": {
    "colab_type": "text",
    "id": "dWhnKZm9Gfyi"
   },
   "source": [
    "The information gain of classifying information set D by attribute A:\n",
    "$$ Gain(A)=Entrophy(D)-Entrophy_{A}(D)$$\n",
    "\n",
    "At each node in ID3, an attribute is chosen if its information gain is highest compare to others.\n",
    "\n",
    "All attributes of the Iris set are represented by continuous values. Therefore we need to represent them with discrete values. The simple way is to use a `cutoff` threshold to separate values of the data on each attribute into two part:` <cutoff` and `> = cutoff`.\n",
    "\n",
    "To find the best `cutoff` for an attribute, we replace` cutoff` with its values then compute the entropy, best `cutoff` achieved when value of entropy is smallest  $ \\left (\\arg \\min Entrophy_ {A} (D) \\right) $."
   ]
  },
  {
   "cell_type": "markdown",
   "metadata": {
    "colab_type": "text",
    "id": "tTKwaSw-Gfyj"
   },
   "source": [
    "### 1.2 Decision tree"
   ]
  },
  {
   "cell_type": "code",
   "execution_count": 6,
   "metadata": {
    "colab": {},
    "colab_type": "code",
    "id": "xp6omaz2Gfyj"
   },
   "outputs": [
    {
     "data": {
      "text/plain": [
       "find_best_split (generic function with 1 method)"
      ]
     },
     "metadata": {},
     "output_type": "display_data"
    }
   ],
   "source": [
    "function fit(X, y, node=Dict(), depth=0)\n",
    "    \"\"\"\n",
    "    Parameter:\n",
    "    -----------------\n",
    "    X: training data\n",
    "    y: label of training data\n",
    "    ------------------\n",
    "    return: node \n",
    "    \n",
    "    node: each node represented by cutoff value and column index, value and children.\n",
    "        - cutoff value is thresold where you divide your attribute\n",
    "        - column index is your data attribute index\n",
    "        - value of node is mean value of label indexes, \n",
    "        if a node is leaf all data samples will have same label\n",
    "    \n",
    "    Note that: we divide each attribute into 2 part => each node will have 2 children: left, right.\n",
    "    \"\"\"\n",
    "    \n",
    "    #Stop conditions\n",
    "    \n",
    "    #if all value of y are the same \n",
    "    if all(y.==y[1])\n",
    "        return Dict(\"val\"=>y[1])\n",
    "    else \n",
    "        col_idx, cutoff, entropy = find_best_split_of_all(X, y)    # find one split given an information gain \n",
    "        y_left = y[X[:,col_idx] .< cutoff]\n",
    "        y_right = y[X[:,col_idx] .>= cutoff]\n",
    "        node = Dict(\"index_col\"=>col_idx,\n",
    "                    \"cutoff\"=>cutoff,\n",
    "                    \"val\"=>mean(y),\n",
    "                    \"left\"=> Any,\n",
    "                    \"right\"=> Any)\n",
    "        left = fit(X[X[:,col_idx] .< cutoff, :], y_left, Dict(), depth+1)\n",
    "        right= fit(X[X[:,col_idx] .>= cutoff, :], y_right, Dict(), depth+1)\n",
    "        push!(node, \"left\" => left)\n",
    "        push!(node, \"right\" => right)\n",
    "        depth += 1 \n",
    "    end\n",
    "    return node\n",
    "end\n",
    "\n",
    "function find_best_split_of_all(X, y)\n",
    "    col_idx = nothing\n",
    "    min_entropy = 1\n",
    "    cutoff = nothing\n",
    "\n",
    "    for i in 1:size(X,2)\n",
    "        col_data = X[:,i]\n",
    "        entropy, cur_cutoff = find_best_split(col_data, y)\n",
    "        if entropy == 0                   #best entropy\n",
    "            return i, cur_cutoff, entropy\n",
    "        elseif entropy <= min_entropy\n",
    "            min_entropy = entropy\n",
    "            col_idx = i\n",
    "            cutoff = cur_cutoff\n",
    "        end\n",
    "    end\n",
    "    return col_idx, cutoff, min_entropy\n",
    "end\n",
    "\n",
    "function find_best_split(col_data, y)\n",
    "    \"\"\" \n",
    "    Parameters:\n",
    "    -------------\n",
    "    col_data: data samples in column\n",
    "    \"\"\"\n",
    "    min_entropy = 10\n",
    "    cutoff = 0\n",
    "    #Loop through col_data find cutoff where entropy is minimum\n",
    "    \n",
    "    for value in Set(col_data)\n",
    "        y_predict = col_data .< value\n",
    "        my_entropy = get_entropy(y_predict, y)\n",
    "        #TODO\n",
    "        #min entropy=?, cutoff=?\n",
    "\n",
    "    end\n",
    "    return min_entropy, cutoff\n",
    "end"
   ]
  },
  {
   "cell_type": "code",
   "execution_count": 7,
   "metadata": {},
   "outputs": [
    {
     "data": {
      "text/plain": [
       "_predict (generic function with 1 method)"
      ]
     },
     "metadata": {},
     "output_type": "display_data"
    }
   ],
   "source": [
    "function predict(data, tree)\n",
    "    pred = []\n",
    "    n_sample = size(data, 1)\n",
    "    for i in 1:n_sample\n",
    "        push!(pred, _predict(data[i,:], tree))\n",
    "    end\n",
    "    return pred\n",
    "end\n",
    "\n",
    "function _predict(row, tree)\n",
    "    cur_layer = tree\n",
    "    while haskey(cur_layer, \"cutoff\")\n",
    "            if row[cur_layer[\"index_col\"]] < cur_layer[\"cutoff\"]\n",
    "                cur_layer = cur_layer[\"left\"]\n",
    "            else\n",
    "                cur_layer = cur_layer[\"right\"]\n",
    "            end\n",
    "        end\n",
    "    if !haskey(cur_layer, \"cutoff\")\n",
    "        return get(cur_layer, \"val\", false)\n",
    "    end\n",
    "end"
   ]
  },
  {
   "cell_type": "markdown",
   "metadata": {
    "colab_type": "text",
    "id": "v_OsIHd-Gfyq"
   },
   "source": [
    "### 1.3 Classification on Iris Dataset"
   ]
  },
  {
   "cell_type": "code",
   "execution_count": 8,
   "metadata": {
    "colab": {},
    "colab_type": "code",
    "id": "BNgHip1dGfyr",
    "outputId": "12173b62-c713-4ad2-ca10-81d8addc7112"
   },
   "outputs": [
    {
     "data": {
      "text/plain": [
       "Dict{String, Any} with 5 entries:\n",
       "  \"left\"      => Dict(\"val\"=>0)\n",
       "  \"cutoff\"    => 1.0\n",
       "  \"right\"     => Dict{String, Any}(\"left\"=>Dict(\"val\"=>1), \"cutoff\"=>4.8, \"righ…\n",
       "  \"val\"       => 0.92\n",
       "  \"index_col\" => 4"
      ]
     },
     "metadata": {},
     "output_type": "display_data"
    }
   ],
   "source": [
    "tree = fit(train_x, train_y)"
   ]
  },
  {
   "cell_type": "code",
   "execution_count": 9,
   "metadata": {},
   "outputs": [
    {
     "name": "stdout",
     "output_type": "stream",
     "text": [
      "Label of X_test[10]: "
     ]
    },
    {
     "name": "stdout",
     "output_type": "stream",
     "text": [
      "1\n",
      "Our histogram after update X_test[10]: 1"
     ]
    }
   ],
   "source": [
    "#label of test_y[10]\n",
    "print(\"Label of X_test[10]: \", test_y[10])\n",
    "\n",
    "#update model and show histogram with X_test[10]:\n",
    "print(\"\\nOur histogram after update X_test[10]: \", _predict(test_x[10,:], tree))\n"
   ]
  },
  {
   "cell_type": "code",
   "execution_count": 10,
   "metadata": {},
   "outputs": [
    {
     "name": "stdout",
     "output_type": "stream",
     "text": [
      "Accuracy of your Gaussian Naive Bayes model:0.94"
     ]
    }
   ],
   "source": [
    "pred=predict(test_x, tree)\n",
    "print(\"Accuracy of your Gaussian Naive Bayes model:\", accuracy(test_y,pred))\n"
   ]
  },
  {
   "attachments": {},
   "cell_type": "markdown",
   "metadata": {
    "colab_type": "text",
    "id": "2rXS4sPCGfyz"
   },
   "source": [
    "## 2. Bayes Theorem\n",
    "\n",
    "Bayes formulation\n",
    "$$\\begin{equation}\n",
    "P\\left(A|B\\right)= ...\n",
    "\\end{equation}$$\n",
    "\n",
    "If $B$ is our data $\\mathcal{D}$, $A$ and $w$ are parameters we need to estimate:\n",
    "\n",
    "$$ \\begin{align}\n",
    "    \\underbrace{P(w|\\mathcal{D})}_{Posterior}= \\dfrac{1}{\\underbrace{P(\\mathcal{D})}_{Normalization}} \\overbrace{P(\\mathcal{D}|w)}^{\\text{Likelihood}} \\overbrace{P(w)}^{Prior}\n",
    "    \\end{align}\n",
    "$$"
   ]
  },
  {
   "attachments": {},
   "cell_type": "markdown",
   "metadata": {
    "colab_type": "text",
    "id": "zuPXhYHzGfy1"
   },
   "source": [
    "#### Naive Bayes\n",
    "To make it simple, it is often assumed that the components of the $D$ random variable (or the features of the $D$ data) are independent with each other, if $w$ is known. It mean:\n",
    "\n",
    "$$P(\\mathcal{D}|w)=...$$\n",
    "\n",
    "- $d$: number of features\n",
    "\n"
   ]
  },
  {
   "cell_type": "markdown",
   "metadata": {
    "colab_type": "text",
    "id": "1m4AZLwgGfy3"
   },
   "source": [
    "### 2.1. Probability Density Function"
   ]
  },
  {
   "cell_type": "code",
   "execution_count": 11,
   "metadata": {
    "colab": {},
    "colab_type": "code",
    "id": "fA3arZy8Gfy4"
   },
   "outputs": [
    {
     "data": {
      "text/plain": [
       "maxHypo (generic function with 1 method)"
      ]
     },
     "metadata": {},
     "output_type": "display_data"
    }
   ],
   "source": [
    "#virtual function\n",
    "function likelihood(_mean=nothing, _std=nothing ,data=nothing, hypo=nothing)\n",
    "    # We will implement it later\n",
    "end\n",
    "\n",
    "#update histogram for new data \n",
    "function update(_hist, _mean, _std, data)\n",
    "    \"\"\"\n",
    "    P(hypo/data)=P(data/hypo)*P(hypo)*(1/P(data))\n",
    "    \"\"\"\n",
    "    hist = copy(_hist)\n",
    "\n",
    "    #Likelihood * Prior \n",
    "    #TODO\n",
    "    for hypo in keys(hist)\n",
    "        #hist[hypo]=?\n",
    "        \n",
    "    end    \n",
    "\n",
    "    #Normalization\n",
    "    #TODO: s=P(data)\n",
    "    s = 0\n",
    "    for hypo in keys(hist)\n",
    "        #s=?\n",
    "    end    \n",
    "    \n",
    "    for hypo in keys(hist)\n",
    "        hist[hypo] = hist[hypo]/s\n",
    "    end\n",
    "    return hist\n",
    "end\n",
    "    \n",
    "\n",
    "function maxHypo(hist)\n",
    "    #find the hypothesis with maximum probability from hist\n",
    "    #TODO\n",
    "\n",
    "end\n",
    " \n",
    "\n"
   ]
  },
  {
   "cell_type": "markdown",
   "metadata": {
    "colab_type": "text",
    "id": "x89nTrIEGfy7"
   },
   "source": [
    "### 2.2 Classification on Iris Dataset"
   ]
  },
  {
   "cell_type": "markdown",
   "metadata": {
    "colab_type": "text",
    "id": "y9moO4N2Gfy8"
   },
   "source": [
    "#### Gaussian Naive Bayes"
   ]
  },
  {
   "cell_type": "markdown",
   "metadata": {
    "colab_type": "text",
    "id": "rhLm2pD-Gfy-"
   },
   "source": [
    "- Naive Bayes can be extended to use on continuous data, most commonly by using a normal distribution (Gaussian distribution).\n",
    "\n",
    "- This extension called Gaussian Naive Bayes. Other functions can be used to estimate data distribution, but Gauss (or the normal distribution) is the easiest to work with since we only need to estimate the mean and standard deviation from the training data."
   ]
  },
  {
   "cell_type": "markdown",
   "metadata": {
    "colab_type": "text",
    "id": "VDbWOYQ-GfzA"
   },
   "source": [
    "#### Define Gauss function"
   ]
  },
  {
   "attachments": {},
   "cell_type": "markdown",
   "metadata": {
    "colab_type": "text",
    "id": "TmlbwFHPGfzA"
   },
   "source": [
    "$$ f\\left(x;\\mu,\\sigma \\right)= ... $$"
   ]
  },
  {
   "cell_type": "code",
   "execution_count": 12,
   "metadata": {
    "colab": {},
    "colab_type": "code",
    "id": "-OpY89tkGfzB"
   },
   "outputs": [
    {
     "data": {
      "text/plain": [
       "Gauss (generic function with 1 method)"
      ]
     },
     "metadata": {},
     "output_type": "display_data"
    }
   ],
   "source": [
    "function Gauss(std, mean, x)\n",
    "    #Compute the Gaussian probability distribution function for x\n",
    "    #TODO \n",
    "end\n"
   ]
  },
  {
   "cell_type": "code",
   "execution_count": 13,
   "metadata": {
    "colab": {},
    "colab_type": "code",
    "id": "RIutnepWGfzH"
   },
   "outputs": [
    {
     "data": {
      "text/plain": [
       "predict (generic function with 2 methods)"
      ]
     },
     "metadata": {},
     "output_type": "display_data"
    }
   ],
   "source": [
    "function likelihood(_mean=nothing, _std=nothing ,data=nothing, hypo=nothing)\n",
    "    \"\"\"\n",
    "    Returns: res=P(data/hypo)\n",
    "    -----------------\n",
    "    Naive bayes:\n",
    "        Atributes are assumed to be conditionally independent given the class value.\n",
    "    \"\"\"\n",
    "\n",
    "    std=_std[hypo]\n",
    "    mean=_mean[hypo]\n",
    "    res=1\n",
    "    #TODO\n",
    "    #res=res*P(x1/hypo)*P(x2/hypo)...\n",
    "\n",
    "    return res     \n",
    "end\n",
    "\n",
    "function fit(X, y, _std=nothing, _mean=nothing, _hist=nothing)\n",
    "    \"\"\"Parameters:\n",
    "    X: training data\n",
    "    y: labels of training data\n",
    "    \"\"\"\n",
    "    n=size(X,1)\n",
    "    \n",
    "    hist=Dict()\n",
    "    mean=Dict()\n",
    "    std=Dict()\n",
    "    \n",
    "    #separate  dataset into rows by class\n",
    "    for hypo in Set(y)\n",
    "        #rows have hypo label\n",
    "        #TODO rows=\n",
    "\n",
    "        #histogram for each hypo\n",
    "        #TODO probability=?\n",
    "\n",
    "        hist[hypo]=probability\n",
    "\n",
    "        #Each hypothesis represented by its mean and standard derivation\n",
    "        \"\"\"mean and standard derivation should be calculated for each column (or each attribute)\"\"\"\n",
    "        #TODO mean[hypo]=?, std[hypo]=?\n",
    "\n",
    "        \n",
    "    end\n",
    "    _mean=mean\n",
    "    _std=std\n",
    "    _hist=hist\n",
    "    return _hist, _mean, _std\n",
    "end\n",
    "\n",
    "function plot_pdf(_hist)\n",
    "    Plots.bar(_hist, kind=\"bar\")\n",
    "end\n",
    "\n",
    "function _predict(_hist, _mean, _std, data, plot=true)\n",
    "    \"\"\"\n",
    "    Predict label for only 1 data sample\n",
    "    ------------\n",
    "    Parameters:\n",
    "    data: data sample\n",
    "    plot: True: draw histogram after update new record\n",
    "    -----------\n",
    "    return: label of data\n",
    "    \"\"\"\n",
    "    hist = update(_hist, _mean, _std, data)\n",
    "    if (plot == true)\n",
    "        plot_pdf(hist)\n",
    "    end\n",
    "    return maxHypo(hist)\n",
    "end\n",
    "\n",
    "\n",
    "function predict(_hist, _mean, _std, data)\n",
    "    \"\"\"Parameters:\n",
    "    Data: test data\n",
    "    ----------\n",
    "    return labels of test data\n",
    "    \"\"\"\n",
    "    pred=[]\n",
    "    n_sample = size(data, 1)\n",
    "    for i in 1:n_sample\n",
    "        push!(pred, _predict(_hist, _mean, _std, data[i,:]))\n",
    "    end\n",
    "    return pred\n",
    "end    "
   ]
  },
  {
   "cell_type": "markdown",
   "metadata": {
    "colab_type": "text",
    "id": "1Gmv2qqxGfzM"
   },
   "source": [
    "#### Show histogram of training data"
   ]
  },
  {
   "cell_type": "code",
   "execution_count": 14,
   "metadata": {
    "colab": {},
    "colab_type": "code",
    "id": "BkjhuGkLGfzN",
    "outputId": "0cacea13-c482-4706-f759-2da97552fe4d"
   },
   "outputs": [
    {
     "data": {
      "image/png": "[encoded data removed]",
      "image/svg+xml": "<?xml version=\"1.0\" encoding=\"utf-8\"?>\n<svg xmlns=\"http://www.w3.org/2000/svg\" xmlns:xlink=\"http://www.w3.org/1999/xlink\" width=\"600\" height=\"400\" viewBox=\"0 0 2400 1600\">\n<defs>\n  <clipPath id=\"clip680\">\n    <rect x=\"0\" y=\"0\" width=\"2400\" height=\"1600\"/>\n  </clipPath>\n</defs>\n<path clip-path=\"url(#clip680)\" d=\"\nM0 1600 L2400 1600 L2400 0 L0 0  Z\n  \" fill=\"#ffffff\" fill-rule=\"evenodd\" fill-opacity=\"1\"/>\n<defs>\n  <clipPath id=\"clip681\">\n    <rect x=\"480\" y=\"0\" width=\"1681\" height=\"1600\"/>\n  </clipPath>\n</defs>\n<path clip-path=\"url(#clip680)\" d=\"\nM156.112 1486.45 L2352.76 1486.45 L2352.76 47.2441 L156.112 47.2441  Z\n  \" fill=\"#ffffff\" fill-rule=\"evenodd\" fill-opacity=\"1\"/>\n<defs>\n  <clipPath id=\"clip682\">\n    <rect x=\"156\" y=\"47\" width=\"2198\" height=\"1440\"/>\n  </clipPath>\n</defs>\n<polyline clip-path=\"url(#clip682)\" style=\"stroke:#000000; stroke-linecap:round; stroke-linejoin:round; stroke-width:2; stroke-opacity:0.1; fill:none\" points=\"\n  207.11,1486.45 207.11,47.2441 \n  \"/>\n<polyline clip-path=\"url(#clip682)\" style=\"stroke:#000000; stroke-linecap:round; stroke-linejoin:round; stroke-width:2; stroke-opacity:0.1; fill:none\" points=\"\n  556.218,1486.45 556.218,47.2441 \n  \"/>\n<polyline clip-path=\"url(#clip682)\" style=\"stroke:#000000; stroke-linecap:round; stroke-linejoin:round; stroke-width:2; stroke-opacity:0.1; fill:none\" points=\"\n  905.326,1486.45 905.326,47.2441 \n  \"/>\n<polyline clip-path=\"url(#clip682)\" style=\"stroke:#000000; stroke-linecap:round; stroke-linejoin:round; stroke-width:2; stroke-opacity:0.1; fill:none\" points=\"\n  1254.43,1486.45 1254.43,47.2441 \n  \"/>\n<polyline clip-path=\"url(#clip682)\" style=\"stroke:#000000; stroke-linecap:round; stroke-linejoin:round; stroke-width:2; stroke-opacity:0.1; fill:none\" points=\"\n  1603.54,1486.45 1603.54,47.2441 \n  \"/>\n<polyline clip-path=\"url(#clip682)\" style=\"stroke:#000000; stroke-linecap:round; stroke-linejoin:round; stroke-width:2; stroke-opacity:0.1; fill:none\" points=\"\n  1952.65,1486.45 1952.65,47.2441 \n  \"/>\n<polyline clip-path=\"url(#clip682)\" style=\"stroke:#000000; stroke-linecap:round; stroke-linejoin:round; stroke-width:2; stroke-opacity:0.1; fill:none\" points=\"\n  2301.76,1486.45 2301.76,47.2441 \n  \"/>\n<polyline clip-path=\"url(#clip680)\" style=\"stroke:#000000; stroke-linecap:round; stroke-linejoin:round; stroke-width:4; stroke-opacity:1; fill:none\" points=\"\n  156.112,1486.45 2352.76,1486.45 \n  \"/>\n<polyline clip-path=\"url(#clip680)\" style=\"stroke:#000000; stroke-linecap:round; stroke-linejoin:round; stroke-width:4; stroke-opacity:1; fill:none\" points=\"\n  207.11,1486.45 207.11,1467.55 \n  \"/>\n<polyline clip-path=\"url(#clip680)\" style=\"stroke:#000000; stroke-linecap:round; stroke-linejoin:round; stroke-width:4; stroke-opacity:1; fill:none\" points=\"\n  556.218,1486.45 556.218,1467.55 \n  \"/>\n<polyline clip-path=\"url(#clip680)\" style=\"stroke:#000000; stroke-linecap:round; stroke-linejoin:round; stroke-width:4; stroke-opacity:1; fill:none\" points=\"\n  905.326,1486.45 905.326,1467.55 \n  \"/>\n<polyline clip-path=\"url(#clip680)\" style=\"stroke:#000000; stroke-linecap:round; stroke-linejoin:round; stroke-width:4; stroke-opacity:1; fill:none\" points=\"\n  1254.43,1486.45 1254.43,1467.55 \n  \"/>\n<polyline clip-path=\"url(#clip680)\" style=\"stroke:#000000; stroke-linecap:round; stroke-linejoin:round; stroke-width:4; stroke-opacity:1; fill:none\" points=\"\n  1603.54,1486.45 1603.54,1467.55 \n  \"/>\n<polyline clip-path=\"url(#clip680)\" style=\"stroke:#000000; stroke-linecap:round; stroke-linejoin:round; stroke-width:4; stroke-opacity:1; fill:none\" points=\"\n  1952.65,1486.45 1952.65,1467.55 \n  \"/>\n<polyline clip-path=\"url(#clip680)\" style=\"stroke:#000000; stroke-linecap:round; stroke-linejoin:round; stroke-width:4; stroke-opacity:1; fill:none\" points=\"\n  2301.76,1486.45 2301.76,1467.55 \n  \"/>\n<path clip-path=\"url(#clip680)\" d=\"M154.136 1532.02 L183.811 1532.02 L183.811 1535.95 L154.136 1535.95 L154.136 1532.02 Z\" fill=\"#000000\" fill-rule=\"evenodd\" fill-opacity=\"1\" /><path clip-path=\"url(#clip680)\" d=\"M203.904 1517.37 Q200.293 1517.37 198.464 1520.93 Q196.658 1524.47 196.658 1531.6 Q196.658 1538.71 198.464 1542.27 Q200.293 1545.82 203.904 1545.82 Q207.538 1545.82 209.344 1542.27 Q211.172 1538.71 211.172 1531.6 Q211.172 1524.47 209.344 1520.93 Q207.538 1517.37 203.904 1517.37 M203.904 1513.66 Q209.714 1513.66 212.77 1518.27 Q215.848 1522.85 215.848 1531.6 Q215.848 1540.33 212.77 1544.94 Q209.714 1549.52 203.904 1549.52 Q198.094 1549.52 195.015 1544.94 Q191.959 1540.33 191.959 1531.6 Q191.959 1522.85 195.015 1518.27 Q198.094 1513.66 203.904 1513.66 Z\" fill=\"#000000\" fill-rule=\"evenodd\" fill-opacity=\"1\" /><path clip-path=\"url(#clip680)\" d=\"M224.066 1542.97 L228.95 1542.97 L228.95 1548.85 L224.066 1548.85 L224.066 1542.97 Z\" fill=\"#000000\" fill-rule=\"evenodd\" fill-opacity=\"1\" /><path clip-path=\"url(#clip680)\" d=\"M239.181 1514.29 L257.538 1514.29 L257.538 1518.22 L243.464 1518.22 L243.464 1526.7 Q244.482 1526.35 245.501 1526.19 Q246.519 1526 247.538 1526 Q253.325 1526 256.704 1529.17 Q260.084 1532.34 260.084 1537.76 Q260.084 1543.34 256.612 1546.44 Q253.14 1549.52 246.82 1549.52 Q244.644 1549.52 242.376 1549.15 Q240.13 1548.78 237.723 1548.04 L237.723 1543.34 Q239.806 1544.47 242.029 1545.03 Q244.251 1545.58 246.728 1545.58 Q250.732 1545.58 253.07 1543.48 Q255.408 1541.37 255.408 1537.76 Q255.408 1534.15 253.07 1532.04 Q250.732 1529.94 246.728 1529.94 Q244.853 1529.94 242.978 1530.35 Q241.126 1530.77 239.181 1531.65 L239.181 1514.29 Z\" fill=\"#000000\" fill-rule=\"evenodd\" fill-opacity=\"1\" /><path clip-path=\"url(#clip680)\" d=\"M533.602 1517.37 Q529.991 1517.37 528.162 1520.93 Q526.357 1524.47 526.357 1531.6 Q526.357 1538.71 528.162 1542.27 Q529.991 1545.82 533.602 1545.82 Q537.237 1545.82 539.042 1542.27 Q540.871 1538.71 540.871 1531.6 Q540.871 1524.47 539.042 1520.93 Q537.237 1517.37 533.602 1517.37 M533.602 1513.66 Q539.412 1513.66 542.468 1518.27 Q545.547 1522.85 545.547 1531.6 Q545.547 1540.33 542.468 1544.94 Q539.412 1549.52 533.602 1549.52 Q527.792 1549.52 524.713 1544.94 Q521.658 1540.33 521.658 1531.6 Q521.658 1522.85 524.713 1518.27 Q527.792 1513.66 533.602 1513.66 Z\" fill=\"#000000\" fill-rule=\"evenodd\" fill-opacity=\"1\" /><path clip-path=\"url(#clip680)\" d=\"M553.764 1542.97 L558.648 1542.97 L558.648 1548.85 L553.764 1548.85 L553.764 1542.97 Z\" fill=\"#000000\" fill-rule=\"evenodd\" fill-opacity=\"1\" /><path clip-path=\"url(#clip680)\" d=\"M578.834 1517.37 Q575.222 1517.37 573.394 1520.93 Q571.588 1524.47 571.588 1531.6 Q571.588 1538.71 573.394 1542.27 Q575.222 1545.82 578.834 1545.82 Q582.468 1545.82 584.273 1542.27 Q586.102 1538.71 586.102 1531.6 Q586.102 1524.47 584.273 1520.93 Q582.468 1517.37 578.834 1517.37 M578.834 1513.66 Q584.644 1513.66 587.699 1518.27 Q590.778 1522.85 590.778 1531.6 Q590.778 1540.33 587.699 1544.94 Q584.644 1549.52 578.834 1549.52 Q573.023 1549.52 569.945 1544.94 Q566.889 1540.33 566.889 1531.6 Q566.889 1522.85 569.945 1518.27 Q573.023 1513.66 578.834 1513.66 Z\" fill=\"#000000\" fill-rule=\"evenodd\" fill-opacity=\"1\" /><path clip-path=\"url(#clip680)\" d=\"M883.208 1517.37 Q879.597 1517.37 877.768 1520.93 Q875.963 1524.47 875.963 1531.6 Q875.963 1538.71 877.768 1542.27 Q879.597 1545.82 883.208 1545.82 Q886.842 1545.82 888.648 1542.27 Q890.476 1538.71 890.476 1531.6 Q890.476 1524.47 888.648 1520.93 Q886.842 1517.37 883.208 1517.37 M883.208 1513.66 Q889.018 1513.66 892.074 1518.27 Q895.152 1522.85 895.152 1531.6 Q895.152 1540.33 892.074 1544.94 Q889.018 1549.52 883.208 1549.52 Q877.398 1549.52 874.319 1544.94 Q871.264 1540.33 871.264 1531.6 Q871.264 1522.85 874.319 1518.27 Q877.398 1513.66 883.208 1513.66 Z\" fill=\"#000000\" fill-rule=\"evenodd\" fill-opacity=\"1\" /><path clip-path=\"url(#clip680)\" d=\"M903.37 1542.97 L908.254 1542.97 L908.254 1548.85 L903.37 1548.85 L903.37 1542.97 Z\" fill=\"#000000\" fill-rule=\"evenodd\" fill-opacity=\"1\" /><path clip-path=\"url(#clip680)\" d=\"M918.486 1514.29 L936.842 1514.29 L936.842 1518.22 L922.768 1518.22 L922.768 1526.7 Q923.787 1526.35 924.805 1526.19 Q925.824 1526 926.842 1526 Q932.629 1526 936.009 1529.17 Q939.388 1532.34 939.388 1537.76 Q939.388 1543.34 935.916 1546.44 Q932.444 1549.52 926.124 1549.52 Q923.949 1549.52 921.68 1549.15 Q919.435 1548.78 917.027 1548.04 L917.027 1543.34 Q919.111 1544.47 921.333 1545.03 Q923.555 1545.58 926.032 1545.58 Q930.036 1545.58 932.374 1543.48 Q934.712 1541.37 934.712 1537.76 Q934.712 1534.15 932.374 1532.04 Q930.036 1529.94 926.032 1529.94 Q924.157 1529.94 922.282 1530.35 Q920.43 1530.77 918.486 1531.65 L918.486 1514.29 Z\" fill=\"#000000\" fill-rule=\"evenodd\" fill-opacity=\"1\" /><path clip-path=\"url(#clip680)\" d=\"M1221.59 1544.91 L1229.23 1544.91 L1229.23 1518.55 L1220.92 1520.21 L1220.92 1515.95 L1229.18 1514.29 L1233.86 1514.29 L1233.86 1544.91 L1241.49 1544.91 L1241.49 1548.85 L1221.59 1548.85 L1221.59 1544.91 Z\" fill=\"#000000\" fill-rule=\"evenodd\" fill-opacity=\"1\" /><path clip-path=\"url(#clip680)\" d=\"M1250.94 1542.97 L1255.82 1542.97 L1255.82 1548.85 L1250.94 1548.85 L1250.94 1542.97 Z\" fill=\"#000000\" fill-rule=\"evenodd\" fill-opacity=\"1\" /><path clip-path=\"url(#clip680)\" d=\"M1276.01 1517.37 Q1272.4 1517.37 1270.57 1520.93 Q1268.76 1524.47 1268.76 1531.6 Q1268.76 1538.71 1270.57 1542.27 Q1272.4 1545.82 1276.01 1545.82 Q1279.64 1545.82 1281.45 1542.27 Q1283.28 1538.71 1283.28 1531.6 Q1283.28 1524.47 1281.45 1520.93 Q1279.64 1517.37 1276.01 1517.37 M1276.01 1513.66 Q1281.82 1513.66 1284.87 1518.27 Q1287.95 1522.85 1287.95 1531.6 Q1287.95 1540.33 1284.87 1544.94 Q1281.82 1549.52 1276.01 1549.52 Q1270.2 1549.52 1267.12 1544.94 Q1264.06 1540.33 1264.06 1531.6 Q1264.06 1522.85 1267.12 1518.27 Q1270.2 1513.66 1276.01 1513.66 Z\" fill=\"#000000\" fill-rule=\"evenodd\" fill-opacity=\"1\" /><path clip-path=\"url(#clip680)\" d=\"M1571.19 1544.91 L1578.83 1544.91 L1578.83 1518.55 L1570.52 1520.21 L1570.52 1515.95 L1578.79 1514.29 L1583.46 1514.29 L1583.46 1544.91 L1591.1 1544.91 L1591.1 1548.85 L1571.19 1548.85 L1571.19 1544.91 Z\" fill=\"#000000\" fill-rule=\"evenodd\" fill-opacity=\"1\" /><path clip-path=\"url(#clip680)\" d=\"M1600.54 1542.97 L1605.43 1542.97 L1605.43 1548.85 L1600.54 1548.85 L1600.54 1542.97 Z\" fill=\"#000000\" fill-rule=\"evenodd\" fill-opacity=\"1\" /><path clip-path=\"url(#clip680)\" d=\"M1615.66 1514.29 L1634.02 1514.29 L1634.02 1518.22 L1619.94 1518.22 L1619.94 1526.7 Q1620.96 1526.35 1621.98 1526.19 Q1623 1526 1624.02 1526 Q1629.8 1526 1633.18 1529.17 Q1636.56 1532.34 1636.56 1537.76 Q1636.56 1543.34 1633.09 1546.44 Q1629.62 1549.52 1623.3 1549.52 Q1621.12 1549.52 1618.85 1549.15 Q1616.61 1548.78 1614.2 1548.04 L1614.2 1543.34 Q1616.29 1544.47 1618.51 1545.03 Q1620.73 1545.58 1623.21 1545.58 Q1627.21 1545.58 1629.55 1543.48 Q1631.89 1541.37 1631.89 1537.76 Q1631.89 1534.15 1629.55 1532.04 Q1627.21 1529.94 1623.21 1529.94 Q1621.33 1529.94 1619.46 1530.35 Q1617.6 1530.77 1615.66 1531.65 L1615.66 1514.29 Z\" fill=\"#000000\" fill-rule=\"evenodd\" fill-opacity=\"1\" /><path clip-path=\"url(#clip680)\" d=\"M1923.89 1544.91 L1940.21 1544.91 L1940.21 1548.85 L1918.26 1548.85 L1918.26 1544.91 Q1920.93 1542.16 1925.51 1537.53 Q1930.12 1532.88 1931.3 1531.53 Q1933.54 1529.01 1934.42 1527.27 Q1935.32 1525.51 1935.32 1523.82 Q1935.32 1521.07 1933.38 1519.33 Q1931.46 1517.6 1928.36 1517.6 Q1926.16 1517.6 1923.7 1518.36 Q1921.27 1519.13 1918.5 1520.68 L1918.5 1515.95 Q1921.32 1514.82 1923.77 1514.24 Q1926.23 1513.66 1928.26 1513.66 Q1933.63 1513.66 1936.83 1516.35 Q1940.02 1519.03 1940.02 1523.52 Q1940.02 1525.65 1939.21 1527.57 Q1938.43 1529.47 1936.32 1532.07 Q1935.74 1532.74 1932.64 1535.95 Q1929.54 1539.15 1923.89 1544.91 Z\" fill=\"#000000\" fill-rule=\"evenodd\" fill-opacity=\"1\" /><path clip-path=\"url(#clip680)\" d=\"M1950.02 1542.97 L1954.91 1542.97 L1954.91 1548.85 L1950.02 1548.85 L1950.02 1542.97 Z\" fill=\"#000000\" fill-rule=\"evenodd\" fill-opacity=\"1\" /><path clip-path=\"url(#clip680)\" d=\"M1975.09 1517.37 Q1971.48 1517.37 1969.65 1520.93 Q1967.85 1524.47 1967.85 1531.6 Q1967.85 1538.71 1969.65 1542.27 Q1971.48 1545.82 1975.09 1545.82 Q1978.73 1545.82 1980.53 1542.27 Q1982.36 1538.71 1982.36 1531.6 Q1982.36 1524.47 1980.53 1520.93 Q1978.73 1517.37 1975.09 1517.37 M1975.09 1513.66 Q1980.9 1513.66 1983.96 1518.27 Q1987.04 1522.85 1987.04 1531.6 Q1987.04 1540.33 1983.96 1544.94 Q1980.9 1549.52 1975.09 1549.52 Q1969.28 1549.52 1966.2 1544.94 Q1963.15 1540.33 1963.15 1531.6 Q1963.15 1522.85 1966.2 1518.27 Q1969.28 1513.66 1975.09 1513.66 Z\" fill=\"#000000\" fill-rule=\"evenodd\" fill-opacity=\"1\" /><path clip-path=\"url(#clip680)\" d=\"M2273.49 1544.91 L2289.81 1544.91 L2289.81 1548.85 L2267.87 1548.85 L2267.87 1544.91 Q2270.53 1542.16 2275.11 1537.53 Q2279.72 1532.88 2280.9 1531.53 Q2283.15 1529.01 2284.03 1527.27 Q2284.93 1525.51 2284.93 1523.82 Q2284.93 1521.07 2282.99 1519.33 Q2281.06 1517.6 2277.96 1517.6 Q2275.76 1517.6 2273.31 1518.36 Q2270.88 1519.13 2268.1 1520.68 L2268.1 1515.95 Q2270.93 1514.82 2273.38 1514.24 Q2275.83 1513.66 2277.87 1513.66 Q2283.24 1513.66 2286.43 1516.35 Q2289.63 1519.03 2289.63 1523.52 Q2289.63 1525.65 2288.82 1527.57 Q2288.03 1529.47 2285.92 1532.07 Q2285.35 1532.74 2282.24 1535.95 Q2279.14 1539.15 2273.49 1544.91 Z\" fill=\"#000000\" fill-rule=\"evenodd\" fill-opacity=\"1\" /><path clip-path=\"url(#clip680)\" d=\"M2299.63 1542.97 L2304.51 1542.97 L2304.51 1548.85 L2299.63 1548.85 L2299.63 1542.97 Z\" fill=\"#000000\" fill-rule=\"evenodd\" fill-opacity=\"1\" /><path clip-path=\"url(#clip680)\" d=\"M2314.74 1514.29 L2333.1 1514.29 L2333.1 1518.22 L2319.03 1518.22 L2319.03 1526.7 Q2320.05 1526.35 2321.06 1526.19 Q2322.08 1526 2323.1 1526 Q2328.89 1526 2332.27 1529.17 Q2335.65 1532.34 2335.65 1537.76 Q2335.65 1543.34 2332.17 1546.44 Q2328.7 1549.52 2322.38 1549.52 Q2320.21 1549.52 2317.94 1549.15 Q2315.69 1548.78 2313.29 1548.04 L2313.29 1543.34 Q2315.37 1544.47 2317.59 1545.03 Q2319.81 1545.58 2322.29 1545.58 Q2326.3 1545.58 2328.63 1543.48 Q2330.97 1541.37 2330.97 1537.76 Q2330.97 1534.15 2328.63 1532.04 Q2326.3 1529.94 2322.29 1529.94 Q2320.42 1529.94 2318.54 1530.35 Q2316.69 1530.77 2314.74 1531.65 L2314.74 1514.29 Z\" fill=\"#000000\" fill-rule=\"evenodd\" fill-opacity=\"1\" /><polyline clip-path=\"url(#clip682)\" style=\"stroke:#000000; stroke-linecap:round; stroke-linejoin:round; stroke-width:2; stroke-opacity:0.1; fill:none\" points=\"\n  156.112,1445.72 2352.76,1445.72 \n  \"/>\n<polyline clip-path=\"url(#clip682)\" style=\"stroke:#000000; stroke-linecap:round; stroke-linejoin:round; stroke-width:2; stroke-opacity:0.1; fill:none\" points=\"\n  156.112,1068.57 2352.76,1068.57 \n  \"/>\n<polyline clip-path=\"url(#clip682)\" style=\"stroke:#000000; stroke-linecap:round; stroke-linejoin:round; stroke-width:2; stroke-opacity:0.1; fill:none\" points=\"\n  156.112,691.416 2352.76,691.416 \n  \"/>\n<polyline clip-path=\"url(#clip682)\" style=\"stroke:#000000; stroke-linecap:round; stroke-linejoin:round; stroke-width:2; stroke-opacity:0.1; fill:none\" points=\"\n  156.112,314.266 2352.76,314.266 \n  \"/>\n<polyline clip-path=\"url(#clip680)\" style=\"stroke:#000000; stroke-linecap:round; stroke-linejoin:round; stroke-width:4; stroke-opacity:1; fill:none\" points=\"\n  156.112,1486.45 156.112,47.2441 \n  \"/>\n<polyline clip-path=\"url(#clip680)\" style=\"stroke:#000000; stroke-linecap:round; stroke-linejoin:round; stroke-width:4; stroke-opacity:1; fill:none\" points=\"\n  156.112,1445.72 175.01,1445.72 \n  \"/>\n<polyline clip-path=\"url(#clip680)\" style=\"stroke:#000000; stroke-linecap:round; stroke-linejoin:round; stroke-width:4; stroke-opacity:1; fill:none\" points=\"\n  156.112,1068.57 175.01,1068.57 \n  \"/>\n<polyline clip-path=\"url(#clip680)\" style=\"stroke:#000000; stroke-linecap:round; stroke-linejoin:round; stroke-width:4; stroke-opacity:1; fill:none\" points=\"\n  156.112,691.416 175.01,691.416 \n  \"/>\n<polyline clip-path=\"url(#clip680)\" style=\"stroke:#000000; stroke-linecap:round; stroke-linejoin:round; stroke-width:4; stroke-opacity:1; fill:none\" points=\"\n  156.112,314.266 175.01,314.266 \n  \"/>\n<path clip-path=\"url(#clip680)\" d=\"M62.9365 1431.51 Q59.3254 1431.51 57.4967 1435.08 Q55.6912 1438.62 55.6912 1445.75 Q55.6912 1452.86 57.4967 1456.42 Q59.3254 1459.96 62.9365 1459.96 Q66.5707 1459.96 68.3763 1456.42 Q70.205 1452.86 70.205 1445.75 Q70.205 1438.62 68.3763 1435.08 Q66.5707 1431.51 62.9365 1431.51 M62.9365 1427.81 Q68.7467 1427.81 71.8022 1432.42 Q74.8809 1437 74.8809 1445.75 Q74.8809 1454.48 71.8022 1459.08 Q68.7467 1463.67 62.9365 1463.67 Q57.1264 1463.67 54.0477 1459.08 Q50.9921 1454.48 50.9921 1445.75 Q50.9921 1437 54.0477 1432.42 Q57.1264 1427.81 62.9365 1427.81 Z\" fill=\"#000000\" fill-rule=\"evenodd\" fill-opacity=\"1\" /><path clip-path=\"url(#clip680)\" d=\"M83.0984 1457.12 L87.9827 1457.12 L87.9827 1463 L83.0984 1463 L83.0984 1457.12 Z\" fill=\"#000000\" fill-rule=\"evenodd\" fill-opacity=\"1\" /><path clip-path=\"url(#clip680)\" d=\"M108.168 1431.51 Q104.557 1431.51 102.728 1435.08 Q100.922 1438.62 100.922 1445.75 Q100.922 1452.86 102.728 1456.42 Q104.557 1459.96 108.168 1459.96 Q111.802 1459.96 113.608 1456.42 Q115.436 1452.86 115.436 1445.75 Q115.436 1438.62 113.608 1435.08 Q111.802 1431.51 108.168 1431.51 M108.168 1427.81 Q113.978 1427.81 117.033 1432.42 Q120.112 1437 120.112 1445.75 Q120.112 1454.48 117.033 1459.08 Q113.978 1463.67 108.168 1463.67 Q102.358 1463.67 99.2789 1459.08 Q96.2234 1454.48 96.2234 1445.75 Q96.2234 1437 99.2789 1432.42 Q102.358 1427.81 108.168 1427.81 Z\" fill=\"#000000\" fill-rule=\"evenodd\" fill-opacity=\"1\" /><path clip-path=\"url(#clip680)\" d=\"M64.1634 1054.36 Q60.5523 1054.36 58.7236 1057.93 Q56.918 1061.47 56.918 1068.6 Q56.918 1075.71 58.7236 1079.27 Q60.5523 1082.81 64.1634 1082.81 Q67.7976 1082.81 69.6031 1079.27 Q71.4318 1075.71 71.4318 1068.6 Q71.4318 1061.47 69.6031 1057.93 Q67.7976 1054.36 64.1634 1054.36 M64.1634 1050.66 Q69.9735 1050.66 73.029 1055.27 Q76.1077 1059.85 76.1077 1068.6 Q76.1077 1077.33 73.029 1081.93 Q69.9735 1086.52 64.1634 1086.52 Q58.3532 1086.52 55.2745 1081.93 Q52.219 1077.33 52.219 1068.6 Q52.219 1059.85 55.2745 1055.27 Q58.3532 1050.66 64.1634 1050.66 Z\" fill=\"#000000\" fill-rule=\"evenodd\" fill-opacity=\"1\" /><path clip-path=\"url(#clip680)\" d=\"M84.3253 1079.97 L89.2095 1079.97 L89.2095 1085.85 L84.3253 1085.85 L84.3253 1079.97 Z\" fill=\"#000000\" fill-rule=\"evenodd\" fill-opacity=\"1\" /><path clip-path=\"url(#clip680)\" d=\"M100.205 1081.91 L107.844 1081.91 L107.844 1055.55 L99.5335 1057.21 L99.5335 1052.95 L107.797 1051.29 L112.473 1051.29 L112.473 1081.91 L120.112 1081.91 L120.112 1085.85 L100.205 1085.85 L100.205 1081.91 Z\" fill=\"#000000\" fill-rule=\"evenodd\" fill-opacity=\"1\" /><path clip-path=\"url(#clip680)\" d=\"M64.5337 677.215 Q60.9226 677.215 59.0939 680.779 Q57.2884 684.321 57.2884 691.451 Q57.2884 698.557 59.0939 702.122 Q60.9226 705.664 64.5337 705.664 Q68.168 705.664 69.9735 702.122 Q71.8022 698.557 71.8022 691.451 Q71.8022 684.321 69.9735 680.779 Q68.168 677.215 64.5337 677.215 M64.5337 673.511 Q70.3439 673.511 73.3994 678.117 Q76.4781 682.701 76.4781 691.451 Q76.4781 700.178 73.3994 704.784 Q70.3439 709.367 64.5337 709.367 Q58.7236 709.367 55.6449 704.784 Q52.5893 700.178 52.5893 691.451 Q52.5893 682.701 55.6449 678.117 Q58.7236 673.511 64.5337 673.511 Z\" fill=\"#000000\" fill-rule=\"evenodd\" fill-opacity=\"1\" /><path clip-path=\"url(#clip680)\" d=\"M84.6956 702.816 L89.5799 702.816 L89.5799 708.696 L84.6956 708.696 L84.6956 702.816 Z\" fill=\"#000000\" fill-rule=\"evenodd\" fill-opacity=\"1\" /><path clip-path=\"url(#clip680)\" d=\"M103.793 704.761 L120.112 704.761 L120.112 708.696 L98.1678 708.696 L98.1678 704.761 Q100.83 702.006 105.413 697.377 Q110.02 692.724 111.2 691.381 Q113.445 688.858 114.325 687.122 Q115.228 685.363 115.228 683.673 Q115.228 680.918 113.283 679.182 Q111.362 677.446 108.26 677.446 Q106.061 677.446 103.608 678.21 Q101.177 678.974 98.3993 680.525 L98.3993 675.803 Q101.223 674.668 103.677 674.09 Q106.131 673.511 108.168 673.511 Q113.538 673.511 116.733 676.196 Q119.927 678.881 119.927 683.372 Q119.927 685.502 119.117 687.423 Q118.33 689.321 116.223 691.914 Q115.645 692.585 112.543 695.803 Q109.441 698.997 103.793 704.761 Z\" fill=\"#000000\" fill-rule=\"evenodd\" fill-opacity=\"1\" /><path clip-path=\"url(#clip680)\" d=\"M63.5847 300.065 Q59.9736 300.065 58.1449 303.63 Q56.3393 307.171 56.3393 314.301 Q56.3393 321.407 58.1449 324.972 Q59.9736 328.514 63.5847 328.514 Q67.2189 328.514 69.0244 324.972 Q70.8531 321.407 70.8531 314.301 Q70.8531 307.171 69.0244 303.63 Q67.2189 300.065 63.5847 300.065 M63.5847 296.361 Q69.3948 296.361 72.4503 300.968 Q75.529 305.551 75.529 314.301 Q75.529 323.028 72.4503 327.634 Q69.3948 332.217 63.5847 332.217 Q57.7745 332.217 54.6958 327.634 Q51.6403 323.028 51.6403 314.301 Q51.6403 305.551 54.6958 300.968 Q57.7745 296.361 63.5847 296.361 Z\" fill=\"#000000\" fill-rule=\"evenodd\" fill-opacity=\"1\" /><path clip-path=\"url(#clip680)\" d=\"M83.7466 325.667 L88.6308 325.667 L88.6308 331.546 L83.7466 331.546 L83.7466 325.667 Z\" fill=\"#000000\" fill-rule=\"evenodd\" fill-opacity=\"1\" /><path clip-path=\"url(#clip680)\" d=\"M112.983 312.912 Q116.339 313.63 118.214 315.898 Q120.112 318.167 120.112 321.5 Q120.112 326.616 116.594 329.417 Q113.075 332.217 106.594 332.217 Q104.418 332.217 102.103 331.778 Q99.8113 331.361 97.3576 330.505 L97.3576 325.991 Q99.3021 327.125 101.617 327.704 Q103.932 328.282 106.455 328.282 Q110.853 328.282 113.145 326.546 Q115.459 324.81 115.459 321.5 Q115.459 318.444 113.307 316.731 Q111.177 314.995 107.358 314.995 L103.33 314.995 L103.33 311.153 L107.543 311.153 Q110.992 311.153 112.82 309.787 Q114.649 308.398 114.649 305.806 Q114.649 303.144 112.751 301.732 Q110.876 300.296 107.358 300.296 Q105.436 300.296 103.237 300.713 Q101.038 301.13 98.3993 302.009 L98.3993 297.843 Q101.061 297.102 103.376 296.732 Q105.714 296.361 107.774 296.361 Q113.098 296.361 116.2 298.792 Q119.302 301.199 119.302 305.319 Q119.302 308.19 117.658 310.181 Q116.015 312.148 112.983 312.912 Z\" fill=\"#000000\" fill-rule=\"evenodd\" fill-opacity=\"1\" /><path clip-path=\"url(#clip682)\" d=\"\nM276.931 87.9763 L276.931 1445.72 L835.504 1445.72 L835.504 87.9763 L276.931 87.9763 L276.931 87.9763  Z\n  \" fill=\"#009af9\" fill-rule=\"evenodd\" fill-opacity=\"1\"/>\n<polyline clip-path=\"url(#clip682)\" style=\"stroke:#000000; stroke-linecap:round; stroke-linejoin:round; stroke-width:4; stroke-opacity:1; fill:none\" points=\"\n  276.931,87.9763 276.931,1445.72 835.504,1445.72 835.504,87.9763 276.931,87.9763 \n  \"/>\n<path clip-path=\"url(#clip682)\" d=\"\nM1673.36 389.696 L1673.36 1445.72 L2231.94 1445.72 L2231.94 389.696 L1673.36 389.696 L1673.36 389.696  Z\n  \" fill=\"#009af9\" fill-rule=\"evenodd\" fill-opacity=\"1\"/>\n<polyline clip-path=\"url(#clip682)\" style=\"stroke:#000000; stroke-linecap:round; stroke-linejoin:round; stroke-width:4; stroke-opacity:1; fill:none\" points=\"\n  1673.36,389.696 1673.36,1445.72 2231.94,1445.72 2231.94,389.696 1673.36,389.696 \n  \"/>\n<path clip-path=\"url(#clip682)\" d=\"\nM975.148 87.9763 L975.148 1445.72 L1533.72 1445.72 L1533.72 87.9763 L975.148 87.9763 L975.148 87.9763  Z\n  \" fill=\"#009af9\" fill-rule=\"evenodd\" fill-opacity=\"1\"/>\n<polyline clip-path=\"url(#clip682)\" style=\"stroke:#000000; stroke-linecap:round; stroke-linejoin:round; stroke-width:4; stroke-opacity:1; fill:none\" points=\"\n  975.148,87.9763 975.148,1445.72 1533.72,1445.72 1533.72,87.9763 975.148,87.9763 \n  \"/>\n<circle clip-path=\"url(#clip682)\" style=\"fill:#009af9; stroke:none; fill-opacity:0\" cx=\"556.218\" cy=\"87.9763\" r=\"2\"/>\n<circle clip-path=\"url(#clip682)\" style=\"fill:#009af9; stroke:none; fill-opacity:0\" cx=\"1952.65\" cy=\"389.696\" r=\"2\"/>\n<circle clip-path=\"url(#clip682)\" style=\"fill:#009af9; stroke:none; fill-opacity:0\" cx=\"1254.43\" cy=\"87.9763\" r=\"2\"/>\n<path clip-path=\"url(#clip680)\" d=\"\nM2007.44 198.898 L2279.53 198.898 L2279.53 95.2176 L2007.44 95.2176  Z\n  \" fill=\"#ffffff\" fill-rule=\"evenodd\" fill-opacity=\"1\"/>\n<polyline clip-path=\"url(#clip680)\" style=\"stroke:#000000; stroke-linecap:round; stroke-linejoin:round; stroke-width:4; stroke-opacity:1; fill:none\" points=\"\n  2007.44,198.898 2279.53,198.898 2279.53,95.2176 2007.44,95.2176 2007.44,198.898 \n  \"/>\n<path clip-path=\"url(#clip680)\" d=\"\nM2031.85 167.794 L2178.29 167.794 L2178.29 126.322 L2031.85 126.322 L2031.85 167.794  Z\n  \" fill=\"#009af9\" fill-rule=\"evenodd\" fill-opacity=\"1\"/>\n<polyline clip-path=\"url(#clip680)\" style=\"stroke:#000000; stroke-linecap:round; stroke-linejoin:round; stroke-width:4; stroke-opacity:1; fill:none\" points=\"\n  2031.85,167.794 2178.29,167.794 2178.29,126.322 2031.85,126.322 2031.85,167.794 \n  \"/>\n<path clip-path=\"url(#clip680)\" d=\"M2216.54 166.745 Q2214.73 171.375 2213.02 172.787 Q2211.31 174.199 2208.44 174.199 L2205.03 174.199 L2205.03 170.634 L2207.53 170.634 Q2209.29 170.634 2210.27 169.8 Q2211.24 168.967 2212.42 165.865 L2213.18 163.921 L2202.7 138.412 L2207.21 138.412 L2215.31 158.689 L2223.41 138.412 L2227.93 138.412 L2216.54 166.745 Z\" fill=\"#000000\" fill-rule=\"evenodd\" fill-opacity=\"1\" /><path clip-path=\"url(#clip680)\" d=\"M2235.22 160.402 L2242.86 160.402 L2242.86 134.037 L2234.55 135.703 L2234.55 131.444 L2242.81 129.778 L2247.49 129.778 L2247.49 160.402 L2255.13 160.402 L2255.13 164.338 L2235.22 164.338 L2235.22 160.402 Z\" fill=\"#000000\" fill-rule=\"evenodd\" fill-opacity=\"1\" /></svg>\n",
      "text/html": [
       "<?xml version=\"1.0\" encoding=\"utf-8\"?>\n",
       "<svg xmlns=\"http://www.w3.org/2000/svg\" xmlns:xlink=\"http://www.w3.org/1999/xlink\" width=\"600\" height=\"400\" viewBox=\"0 0 2400 1600\">\n",
       "<defs>\n",
       "  <clipPath id=\"clip730\">\n",
       "    <rect x=\"0\" y=\"0\" width=\"2400\" height=\"1600\"/>\n",
       "  </clipPath>\n",
       "</defs>\n",
       "<path clip-path=\"url(#clip730)\" d=\"\n",
       "M0 1600 L2400 1600 L2400 0 L0 0  Z\n",
       "  \" fill=\"#ffffff\" fill-rule=\"evenodd\" fill-opacity=\"1\"/>\n",
       "<defs>\n",
       "  <clipPath id=\"clip731\">\n",
       "    <rect x=\"480\" y=\"0\" width=\"1681\" height=\"1600\"/>\n",
       "  </clipPath>\n",
       "</defs>\n",
       "<path clip-path=\"url(#clip730)\" d=\"\n",
       "M156.112 1486.45 L2352.76 1486.45 L2352.76 47.2441 L156.112 47.2441  Z\n",
       "  \" fill=\"#ffffff\" fill-rule=\"evenodd\" fill-opacity=\"1\"/>\n",
       "<defs>\n",
       "  <clipPath id=\"clip732\">\n",
       "    <rect x=\"156\" y=\"47\" width=\"2198\" height=\"1440\"/>\n",
       "  </clipPath>\n",
       "</defs>\n",
       "<polyline clip-path=\"url(#clip732)\" style=\"stroke:#000000; stroke-linecap:round; stroke-linejoin:round; stroke-width:2; stroke-opacity:0.1; fill:none\" points=\"\n",
       "  207.11,1486.45 207.11,47.2441 \n",
       "  \"/>\n",
       "<polyline clip-path=\"url(#clip732)\" style=\"stroke:#000000; stroke-linecap:round; stroke-linejoin:round; stroke-width:2; stroke-opacity:0.1; fill:none\" points=\"\n",
       "  556.218,1486.45 556.218,47.2441 \n",
       "  \"/>\n",
       "<polyline clip-path=\"url(#clip732)\" style=\"stroke:#000000; stroke-linecap:round; stroke-linejoin:round; stroke-width:2; stroke-opacity:0.1; fill:none\" points=\"\n",
       "  905.326,1486.45 905.326,47.2441 \n",
       "  \"/>\n",
       "<polyline clip-path=\"url(#clip732)\" style=\"stroke:#000000; stroke-linecap:round; stroke-linejoin:round; stroke-width:2; stroke-opacity:0.1; fill:none\" points=\"\n",
       "  1254.43,1486.45 1254.43,47.2441 \n",
       "  \"/>\n",
       "<polyline clip-path=\"url(#clip732)\" style=\"stroke:#000000; stroke-linecap:round; stroke-linejoin:round; stroke-width:2; stroke-opacity:0.1; fill:none\" points=\"\n",
       "  1603.54,1486.45 1603.54,47.2441 \n",
       "  \"/>\n",
       "<polyline clip-path=\"url(#clip732)\" style=\"stroke:#000000; stroke-linecap:round; stroke-linejoin:round; stroke-width:2; stroke-opacity:0.1; fill:none\" points=\"\n",
       "  1952.65,1486.45 1952.65,47.2441 \n",
       "  \"/>\n",
       "<polyline clip-path=\"url(#clip732)\" style=\"stroke:#000000; stroke-linecap:round; stroke-linejoin:round; stroke-width:2; stroke-opacity:0.1; fill:none\" points=\"\n",
       "  2301.76,1486.45 2301.76,47.2441 \n",
       "  \"/>\n",
       "<polyline clip-path=\"url(#clip730)\" style=\"stroke:#000000; stroke-linecap:round; stroke-linejoin:round; stroke-width:4; stroke-opacity:1; fill:none\" points=\"\n",
       "  156.112,1486.45 2352.76,1486.45 \n",
       "  \"/>\n",
       "<polyline clip-path=\"url(#clip730)\" style=\"stroke:#000000; stroke-linecap:round; stroke-linejoin:round; stroke-width:4; stroke-opacity:1; fill:none\" points=\"\n",
       "  207.11,1486.45 207.11,1467.55 \n",
       "  \"/>\n",
       "<polyline clip-path=\"url(#clip730)\" style=\"stroke:#000000; stroke-linecap:round; stroke-linejoin:round; stroke-width:4; stroke-opacity:1; fill:none\" points=\"\n",
       "  556.218,1486.45 556.218,1467.55 \n",
       "  \"/>\n",
       "<polyline clip-path=\"url(#clip730)\" style=\"stroke:#000000; stroke-linecap:round; stroke-linejoin:round; stroke-width:4; stroke-opacity:1; fill:none\" points=\"\n",
       "  905.326,1486.45 905.326,1467.55 \n",
       "  \"/>\n",
       "<polyline clip-path=\"url(#clip730)\" style=\"stroke:#000000; stroke-linecap:round; stroke-linejoin:round; stroke-width:4; stroke-opacity:1; fill:none\" points=\"\n",
       "  1254.43,1486.45 1254.43,1467.55 \n",
       "  \"/>\n",
       "<polyline clip-path=\"url(#clip730)\" style=\"stroke:#000000; stroke-linecap:round; stroke-linejoin:round; stroke-width:4; stroke-opacity:1; fill:none\" points=\"\n",
       "  1603.54,1486.45 1603.54,1467.55 \n",
       "  \"/>\n",
       "<polyline clip-path=\"url(#clip730)\" style=\"stroke:#000000; stroke-linecap:round; stroke-linejoin:round; stroke-width:4; stroke-opacity:1; fill:none\" points=\"\n",
       "  1952.65,1486.45 1952.65,1467.55 \n",
       "  \"/>\n",
       "<polyline clip-path=\"url(#clip730)\" style=\"stroke:#000000; stroke-linecap:round; stroke-linejoin:round; stroke-width:4; stroke-opacity:1; fill:none\" points=\"\n",
       "  2301.76,1486.45 2301.76,1467.55 \n",
       "  \"/>\n",
       "<path clip-path=\"url(#clip730)\" d=\"M154.136 1532.02 L183.811 1532.02 L183.811 1535.95 L154.136 1535.95 L154.136 1532.02 Z\" fill=\"#000000\" fill-rule=\"evenodd\" fill-opacity=\"1\" /><path clip-path=\"url(#clip730)\" d=\"M203.904 1517.37 Q200.293 1517.37 198.464 1520.93 Q196.658 1524.47 196.658 1531.6 Q196.658 1538.71 198.464 1542.27 Q200.293 1545.82 203.904 1545.82 Q207.538 1545.82 209.344 1542.27 Q211.172 1538.71 211.172 1531.6 Q211.172 1524.47 209.344 1520.93 Q207.538 1517.37 203.904 1517.37 M203.904 1513.66 Q209.714 1513.66 212.77 1518.27 Q215.848 1522.85 215.848 1531.6 Q215.848 1540.33 212.77 1544.94 Q209.714 1549.52 203.904 1549.52 Q198.094 1549.52 195.015 1544.94 Q191.959 1540.33 191.959 1531.6 Q191.959 1522.85 195.015 1518.27 Q198.094 1513.66 203.904 1513.66 Z\" fill=\"#000000\" fill-rule=\"evenodd\" fill-opacity=\"1\" /><path clip-path=\"url(#clip730)\" d=\"M224.066 1542.97 L228.95 1542.97 L228.95 1548.85 L224.066 1548.85 L224.066 1542.97 Z\" fill=\"#000000\" fill-rule=\"evenodd\" fill-opacity=\"1\" /><path clip-path=\"url(#clip730)\" d=\"M239.181 1514.29 L257.538 1514.29 L257.538 1518.22 L243.464 1518.22 L243.464 1526.7 Q244.482 1526.35 245.501 1526.19 Q246.519 1526 247.538 1526 Q253.325 1526 256.704 1529.17 Q260.084 1532.34 260.084 1537.76 Q260.084 1543.34 256.612 1546.44 Q253.14 1549.52 246.82 1549.52 Q244.644 1549.52 242.376 1549.15 Q240.13 1548.78 237.723 1548.04 L237.723 1543.34 Q239.806 1544.47 242.029 1545.03 Q244.251 1545.58 246.728 1545.58 Q250.732 1545.58 253.07 1543.48 Q255.408 1541.37 255.408 1537.76 Q255.408 1534.15 253.07 1532.04 Q250.732 1529.94 246.728 1529.94 Q244.853 1529.94 242.978 1530.35 Q241.126 1530.77 239.181 1531.65 L239.181 1514.29 Z\" fill=\"#000000\" fill-rule=\"evenodd\" fill-opacity=\"1\" /><path clip-path=\"url(#clip730)\" d=\"M533.602 1517.37 Q529.991 1517.37 528.162 1520.93 Q526.357 1524.47 526.357 1531.6 Q526.357 1538.71 528.162 1542.27 Q529.991 1545.82 533.602 1545.82 Q537.237 1545.82 539.042 1542.27 Q540.871 1538.71 540.871 1531.6 Q540.871 1524.47 539.042 1520.93 Q537.237 1517.37 533.602 1517.37 M533.602 1513.66 Q539.412 1513.66 542.468 1518.27 Q545.547 1522.85 545.547 1531.6 Q545.547 1540.33 542.468 1544.94 Q539.412 1549.52 533.602 1549.52 Q527.792 1549.52 524.713 1544.94 Q521.658 1540.33 521.658 1531.6 Q521.658 1522.85 524.713 1518.27 Q527.792 1513.66 533.602 1513.66 Z\" fill=\"#000000\" fill-rule=\"evenodd\" fill-opacity=\"1\" /><path clip-path=\"url(#clip730)\" d=\"M553.764 1542.97 L558.648 1542.97 L558.648 1548.85 L553.764 1548.85 L553.764 1542.97 Z\" fill=\"#000000\" fill-rule=\"evenodd\" fill-opacity=\"1\" /><path clip-path=\"url(#clip730)\" d=\"M578.834 1517.37 Q575.222 1517.37 573.394 1520.93 Q571.588 1524.47 571.588 1531.6 Q571.588 1538.71 573.394 1542.27 Q575.222 1545.82 578.834 1545.82 Q582.468 1545.82 584.273 1542.27 Q586.102 1538.71 586.102 1531.6 Q586.102 1524.47 584.273 1520.93 Q582.468 1517.37 578.834 1517.37 M578.834 1513.66 Q584.644 1513.66 587.699 1518.27 Q590.778 1522.85 590.778 1531.6 Q590.778 1540.33 587.699 1544.94 Q584.644 1549.52 578.834 1549.52 Q573.023 1549.52 569.945 1544.94 Q566.889 1540.33 566.889 1531.6 Q566.889 1522.85 569.945 1518.27 Q573.023 1513.66 578.834 1513.66 Z\" fill=\"#000000\" fill-rule=\"evenodd\" fill-opacity=\"1\" /><path clip-path=\"url(#clip730)\" d=\"M883.208 1517.37 Q879.597 1517.37 877.768 1520.93 Q875.963 1524.47 875.963 1531.6 Q875.963 1538.71 877.768 1542.27 Q879.597 1545.82 883.208 1545.82 Q886.842 1545.82 888.648 1542.27 Q890.476 1538.71 890.476 1531.6 Q890.476 1524.47 888.648 1520.93 Q886.842 1517.37 883.208 1517.37 M883.208 1513.66 Q889.018 1513.66 892.074 1518.27 Q895.152 1522.85 895.152 1531.6 Q895.152 1540.33 892.074 1544.94 Q889.018 1549.52 883.208 1549.52 Q877.398 1549.52 874.319 1544.94 Q871.264 1540.33 871.264 1531.6 Q871.264 1522.85 874.319 1518.27 Q877.398 1513.66 883.208 1513.66 Z\" fill=\"#000000\" fill-rule=\"evenodd\" fill-opacity=\"1\" /><path clip-path=\"url(#clip730)\" d=\"M903.37 1542.97 L908.254 1542.97 L908.254 1548.85 L903.37 1548.85 L903.37 1542.97 Z\" fill=\"#000000\" fill-rule=\"evenodd\" fill-opacity=\"1\" /><path clip-path=\"url(#clip730)\" d=\"M918.486 1514.29 L936.842 1514.29 L936.842 1518.22 L922.768 1518.22 L922.768 1526.7 Q923.787 1526.35 924.805 1526.19 Q925.824 1526 926.842 1526 Q932.629 1526 936.009 1529.17 Q939.388 1532.34 939.388 1537.76 Q939.388 1543.34 935.916 1546.44 Q932.444 1549.52 926.124 1549.52 Q923.949 1549.52 921.68 1549.15 Q919.435 1548.78 917.027 1548.04 L917.027 1543.34 Q919.111 1544.47 921.333 1545.03 Q923.555 1545.58 926.032 1545.58 Q930.036 1545.58 932.374 1543.48 Q934.712 1541.37 934.712 1537.76 Q934.712 1534.15 932.374 1532.04 Q930.036 1529.94 926.032 1529.94 Q924.157 1529.94 922.282 1530.35 Q920.43 1530.77 918.486 1531.65 L918.486 1514.29 Z\" fill=\"#000000\" fill-rule=\"evenodd\" fill-opacity=\"1\" /><path clip-path=\"url(#clip730)\" d=\"M1221.59 1544.91 L1229.23 1544.91 L1229.23 1518.55 L1220.92 1520.21 L1220.92 1515.95 L1229.18 1514.29 L1233.86 1514.29 L1233.86 1544.91 L1241.49 1544.91 L1241.49 1548.85 L1221.59 1548.85 L1221.59 1544.91 Z\" fill=\"#000000\" fill-rule=\"evenodd\" fill-opacity=\"1\" /><path clip-path=\"url(#clip730)\" d=\"M1250.94 1542.97 L1255.82 1542.97 L1255.82 1548.85 L1250.94 1548.85 L1250.94 1542.97 Z\" fill=\"#000000\" fill-rule=\"evenodd\" fill-opacity=\"1\" /><path clip-path=\"url(#clip730)\" d=\"M1276.01 1517.37 Q1272.4 1517.37 1270.57 1520.93 Q1268.76 1524.47 1268.76 1531.6 Q1268.76 1538.71 1270.57 1542.27 Q1272.4 1545.82 1276.01 1545.82 Q1279.64 1545.82 1281.45 1542.27 Q1283.28 1538.71 1283.28 1531.6 Q1283.28 1524.47 1281.45 1520.93 Q1279.64 1517.37 1276.01 1517.37 M1276.01 1513.66 Q1281.82 1513.66 1284.87 1518.27 Q1287.95 1522.85 1287.95 1531.6 Q1287.95 1540.33 1284.87 1544.94 Q1281.82 1549.52 1276.01 1549.52 Q1270.2 1549.52 1267.12 1544.94 Q1264.06 1540.33 1264.06 1531.6 Q1264.06 1522.85 1267.12 1518.27 Q1270.2 1513.66 1276.01 1513.66 Z\" fill=\"#000000\" fill-rule=\"evenodd\" fill-opacity=\"1\" /><path clip-path=\"url(#clip730)\" d=\"M1571.19 1544.91 L1578.83 1544.91 L1578.83 1518.55 L1570.52 1520.21 L1570.52 1515.95 L1578.79 1514.29 L1583.46 1514.29 L1583.46 1544.91 L1591.1 1544.91 L1591.1 1548.85 L1571.19 1548.85 L1571.19 1544.91 Z\" fill=\"#000000\" fill-rule=\"evenodd\" fill-opacity=\"1\" /><path clip-path=\"url(#clip730)\" d=\"M1600.54 1542.97 L1605.43 1542.97 L1605.43 1548.85 L1600.54 1548.85 L1600.54 1542.97 Z\" fill=\"#000000\" fill-rule=\"evenodd\" fill-opacity=\"1\" /><path clip-path=\"url(#clip730)\" d=\"M1615.66 1514.29 L1634.02 1514.29 L1634.02 1518.22 L1619.94 1518.22 L1619.94 1526.7 Q1620.96 1526.35 1621.98 1526.19 Q1623 1526 1624.02 1526 Q1629.8 1526 1633.18 1529.17 Q1636.56 1532.34 1636.56 1537.76 Q1636.56 1543.34 1633.09 1546.44 Q1629.62 1549.52 1623.3 1549.52 Q1621.12 1549.52 1618.85 1549.15 Q1616.61 1548.78 1614.2 1548.04 L1614.2 1543.34 Q1616.29 1544.47 1618.51 1545.03 Q1620.73 1545.58 1623.21 1545.58 Q1627.21 1545.58 1629.55 1543.48 Q1631.89 1541.37 1631.89 1537.76 Q1631.89 1534.15 1629.55 1532.04 Q1627.21 1529.94 1623.21 1529.94 Q1621.33 1529.94 1619.46 1530.35 Q1617.6 1530.77 1615.66 1531.65 L1615.66 1514.29 Z\" fill=\"#000000\" fill-rule=\"evenodd\" fill-opacity=\"1\" /><path clip-path=\"url(#clip730)\" d=\"M1923.89 1544.91 L1940.21 1544.91 L1940.21 1548.85 L1918.26 1548.85 L1918.26 1544.91 Q1920.93 1542.16 1925.51 1537.53 Q1930.12 1532.88 1931.3 1531.53 Q1933.54 1529.01 1934.42 1527.27 Q1935.32 1525.51 1935.32 1523.82 Q1935.32 1521.07 1933.38 1519.33 Q1931.46 1517.6 1928.36 1517.6 Q1926.16 1517.6 1923.7 1518.36 Q1921.27 1519.13 1918.5 1520.68 L1918.5 1515.95 Q1921.32 1514.82 1923.77 1514.24 Q1926.23 1513.66 1928.26 1513.66 Q1933.63 1513.66 1936.83 1516.35 Q1940.02 1519.03 1940.02 1523.52 Q1940.02 1525.65 1939.21 1527.57 Q1938.43 1529.47 1936.32 1532.07 Q1935.74 1532.74 1932.64 1535.95 Q1929.54 1539.15 1923.89 1544.91 Z\" fill=\"#000000\" fill-rule=\"evenodd\" fill-opacity=\"1\" /><path clip-path=\"url(#clip730)\" d=\"M1950.02 1542.97 L1954.91 1542.97 L1954.91 1548.85 L1950.02 1548.85 L1950.02 1542.97 Z\" fill=\"#000000\" fill-rule=\"evenodd\" fill-opacity=\"1\" /><path clip-path=\"url(#clip730)\" d=\"M1975.09 1517.37 Q1971.48 1517.37 1969.65 1520.93 Q1967.85 1524.47 1967.85 1531.6 Q1967.85 1538.71 1969.65 1542.27 Q1971.48 1545.82 1975.09 1545.82 Q1978.73 1545.82 1980.53 1542.27 Q1982.36 1538.71 1982.36 1531.6 Q1982.36 1524.47 1980.53 1520.93 Q1978.73 1517.37 1975.09 1517.37 M1975.09 1513.66 Q1980.9 1513.66 1983.96 1518.27 Q1987.04 1522.85 1987.04 1531.6 Q1987.04 1540.33 1983.96 1544.94 Q1980.9 1549.52 1975.09 1549.52 Q1969.28 1549.52 1966.2 1544.94 Q1963.15 1540.33 1963.15 1531.6 Q1963.15 1522.85 1966.2 1518.27 Q1969.28 1513.66 1975.09 1513.66 Z\" fill=\"#000000\" fill-rule=\"evenodd\" fill-opacity=\"1\" /><path clip-path=\"url(#clip730)\" d=\"M2273.49 1544.91 L2289.81 1544.91 L2289.81 1548.85 L2267.87 1548.85 L2267.87 1544.91 Q2270.53 1542.16 2275.11 1537.53 Q2279.72 1532.88 2280.9 1531.53 Q2283.15 1529.01 2284.03 1527.27 Q2284.93 1525.51 2284.93 1523.82 Q2284.93 1521.07 2282.99 1519.33 Q2281.06 1517.6 2277.96 1517.6 Q2275.76 1517.6 2273.31 1518.36 Q2270.88 1519.13 2268.1 1520.68 L2268.1 1515.95 Q2270.93 1514.82 2273.38 1514.24 Q2275.83 1513.66 2277.87 1513.66 Q2283.24 1513.66 2286.43 1516.35 Q2289.63 1519.03 2289.63 1523.52 Q2289.63 1525.65 2288.82 1527.57 Q2288.03 1529.47 2285.92 1532.07 Q2285.35 1532.74 2282.24 1535.95 Q2279.14 1539.15 2273.49 1544.91 Z\" fill=\"#000000\" fill-rule=\"evenodd\" fill-opacity=\"1\" /><path clip-path=\"url(#clip730)\" d=\"M2299.63 1542.97 L2304.51 1542.97 L2304.51 1548.85 L2299.63 1548.85 L2299.63 1542.97 Z\" fill=\"#000000\" fill-rule=\"evenodd\" fill-opacity=\"1\" /><path clip-path=\"url(#clip730)\" d=\"M2314.74 1514.29 L2333.1 1514.29 L2333.1 1518.22 L2319.03 1518.22 L2319.03 1526.7 Q2320.05 1526.35 2321.06 1526.19 Q2322.08 1526 2323.1 1526 Q2328.89 1526 2332.27 1529.17 Q2335.65 1532.34 2335.65 1537.76 Q2335.65 1543.34 2332.17 1546.44 Q2328.7 1549.52 2322.38 1549.52 Q2320.21 1549.52 2317.94 1549.15 Q2315.69 1548.78 2313.29 1548.04 L2313.29 1543.34 Q2315.37 1544.47 2317.59 1545.03 Q2319.81 1545.58 2322.29 1545.58 Q2326.3 1545.58 2328.63 1543.48 Q2330.97 1541.37 2330.97 1537.76 Q2330.97 1534.15 2328.63 1532.04 Q2326.3 1529.94 2322.29 1529.94 Q2320.42 1529.94 2318.54 1530.35 Q2316.69 1530.77 2314.74 1531.65 L2314.74 1514.29 Z\" fill=\"#000000\" fill-rule=\"evenodd\" fill-opacity=\"1\" /><polyline clip-path=\"url(#clip732)\" style=\"stroke:#000000; stroke-linecap:round; stroke-linejoin:round; stroke-width:2; stroke-opacity:0.1; fill:none\" points=\"\n",
       "  156.112,1445.72 2352.76,1445.72 \n",
       "  \"/>\n",
       "<polyline clip-path=\"url(#clip732)\" style=\"stroke:#000000; stroke-linecap:round; stroke-linejoin:round; stroke-width:2; stroke-opacity:0.1; fill:none\" points=\"\n",
       "  156.112,1068.57 2352.76,1068.57 \n",
       "  \"/>\n",
       "<polyline clip-path=\"url(#clip732)\" style=\"stroke:#000000; stroke-linecap:round; stroke-linejoin:round; stroke-width:2; stroke-opacity:0.1; fill:none\" points=\"\n",
       "  156.112,691.416 2352.76,691.416 \n",
       "  \"/>\n",
       "<polyline clip-path=\"url(#clip732)\" style=\"stroke:#000000; stroke-linecap:round; stroke-linejoin:round; stroke-width:2; stroke-opacity:0.1; fill:none\" points=\"\n",
       "  156.112,314.266 2352.76,314.266 \n",
       "  \"/>\n",
       "<polyline clip-path=\"url(#clip730)\" style=\"stroke:#000000; stroke-linecap:round; stroke-linejoin:round; stroke-width:4; stroke-opacity:1; fill:none\" points=\"\n",
       "  156.112,1486.45 156.112,47.2441 \n",
       "  \"/>\n",
       "<polyline clip-path=\"url(#clip730)\" style=\"stroke:#000000; stroke-linecap:round; stroke-linejoin:round; stroke-width:4; stroke-opacity:1; fill:none\" points=\"\n",
       "  156.112,1445.72 175.01,1445.72 \n",
       "  \"/>\n",
       "<polyline clip-path=\"url(#clip730)\" style=\"stroke:#000000; stroke-linecap:round; stroke-linejoin:round; stroke-width:4; stroke-opacity:1; fill:none\" points=\"\n",
       "  156.112,1068.57 175.01,1068.57 \n",
       "  \"/>\n",
       "<polyline clip-path=\"url(#clip730)\" style=\"stroke:#000000; stroke-linecap:round; stroke-linejoin:round; stroke-width:4; stroke-opacity:1; fill:none\" points=\"\n",
       "  156.112,691.416 175.01,691.416 \n",
       "  \"/>\n",
       "<polyline clip-path=\"url(#clip730)\" style=\"stroke:#000000; stroke-linecap:round; stroke-linejoin:round; stroke-width:4; stroke-opacity:1; fill:none\" points=\"\n",
       "  156.112,314.266 175.01,314.266 \n",
       "  \"/>\n",
       "<path clip-path=\"url(#clip730)\" d=\"M62.9365 1431.51 Q59.3254 1431.51 57.4967 1435.08 Q55.6912 1438.62 55.6912 1445.75 Q55.6912 1452.86 57.4967 1456.42 Q59.3254 1459.96 62.9365 1459.96 Q66.5707 1459.96 68.3763 1456.42 Q70.205 1452.86 70.205 1445.75 Q70.205 1438.62 68.3763 1435.08 Q66.5707 1431.51 62.9365 1431.51 M62.9365 1427.81 Q68.7467 1427.81 71.8022 1432.42 Q74.8809 1437 74.8809 1445.75 Q74.8809 1454.48 71.8022 1459.08 Q68.7467 1463.67 62.9365 1463.67 Q57.1264 1463.67 54.0477 1459.08 Q50.9921 1454.48 50.9921 1445.75 Q50.9921 1437 54.0477 1432.42 Q57.1264 1427.81 62.9365 1427.81 Z\" fill=\"#000000\" fill-rule=\"evenodd\" fill-opacity=\"1\" /><path clip-path=\"url(#clip730)\" d=\"M83.0984 1457.12 L87.9827 1457.12 L87.9827 1463 L83.0984 1463 L83.0984 1457.12 Z\" fill=\"#000000\" fill-rule=\"evenodd\" fill-opacity=\"1\" /><path clip-path=\"url(#clip730)\" d=\"M108.168 1431.51 Q104.557 1431.51 102.728 1435.08 Q100.922 1438.62 100.922 1445.75 Q100.922 1452.86 102.728 1456.42 Q104.557 1459.96 108.168 1459.96 Q111.802 1459.96 113.608 1456.42 Q115.436 1452.86 115.436 1445.75 Q115.436 1438.62 113.608 1435.08 Q111.802 1431.51 108.168 1431.51 M108.168 1427.81 Q113.978 1427.81 117.033 1432.42 Q120.112 1437 120.112 1445.75 Q120.112 1454.48 117.033 1459.08 Q113.978 1463.67 108.168 1463.67 Q102.358 1463.67 99.2789 1459.08 Q96.2234 1454.48 96.2234 1445.75 Q96.2234 1437 99.2789 1432.42 Q102.358 1427.81 108.168 1427.81 Z\" fill=\"#000000\" fill-rule=\"evenodd\" fill-opacity=\"1\" /><path clip-path=\"url(#clip730)\" d=\"M64.1634 1054.36 Q60.5523 1054.36 58.7236 1057.93 Q56.918 1061.47 56.918 1068.6 Q56.918 1075.71 58.7236 1079.27 Q60.5523 1082.81 64.1634 1082.81 Q67.7976 1082.81 69.6031 1079.27 Q71.4318 1075.71 71.4318 1068.6 Q71.4318 1061.47 69.6031 1057.93 Q67.7976 1054.36 64.1634 1054.36 M64.1634 1050.66 Q69.9735 1050.66 73.029 1055.27 Q76.1077 1059.85 76.1077 1068.6 Q76.1077 1077.33 73.029 1081.93 Q69.9735 1086.52 64.1634 1086.52 Q58.3532 1086.52 55.2745 1081.93 Q52.219 1077.33 52.219 1068.6 Q52.219 1059.85 55.2745 1055.27 Q58.3532 1050.66 64.1634 1050.66 Z\" fill=\"#000000\" fill-rule=\"evenodd\" fill-opacity=\"1\" /><path clip-path=\"url(#clip730)\" d=\"M84.3253 1079.97 L89.2095 1079.97 L89.2095 1085.85 L84.3253 1085.85 L84.3253 1079.97 Z\" fill=\"#000000\" fill-rule=\"evenodd\" fill-opacity=\"1\" /><path clip-path=\"url(#clip730)\" d=\"M100.205 1081.91 L107.844 1081.91 L107.844 1055.55 L99.5335 1057.21 L99.5335 1052.95 L107.797 1051.29 L112.473 1051.29 L112.473 1081.91 L120.112 1081.91 L120.112 1085.85 L100.205 1085.85 L100.205 1081.91 Z\" fill=\"#000000\" fill-rule=\"evenodd\" fill-opacity=\"1\" /><path clip-path=\"url(#clip730)\" d=\"M64.5337 677.215 Q60.9226 677.215 59.0939 680.779 Q57.2884 684.321 57.2884 691.451 Q57.2884 698.557 59.0939 702.122 Q60.9226 705.664 64.5337 705.664 Q68.168 705.664 69.9735 702.122 Q71.8022 698.557 71.8022 691.451 Q71.8022 684.321 69.9735 680.779 Q68.168 677.215 64.5337 677.215 M64.5337 673.511 Q70.3439 673.511 73.3994 678.117 Q76.4781 682.701 76.4781 691.451 Q76.4781 700.178 73.3994 704.784 Q70.3439 709.367 64.5337 709.367 Q58.7236 709.367 55.6449 704.784 Q52.5893 700.178 52.5893 691.451 Q52.5893 682.701 55.6449 678.117 Q58.7236 673.511 64.5337 673.511 Z\" fill=\"#000000\" fill-rule=\"evenodd\" fill-opacity=\"1\" /><path clip-path=\"url(#clip730)\" d=\"M84.6956 702.816 L89.5799 702.816 L89.5799 708.696 L84.6956 708.696 L84.6956 702.816 Z\" fill=\"#000000\" fill-rule=\"evenodd\" fill-opacity=\"1\" /><path clip-path=\"url(#clip730)\" d=\"M103.793 704.761 L120.112 704.761 L120.112 708.696 L98.1678 708.696 L98.1678 704.761 Q100.83 702.006 105.413 697.377 Q110.02 692.724 111.2 691.381 Q113.445 688.858 114.325 687.122 Q115.228 685.363 115.228 683.673 Q115.228 680.918 113.283 679.182 Q111.362 677.446 108.26 677.446 Q106.061 677.446 103.608 678.21 Q101.177 678.974 98.3993 680.525 L98.3993 675.803 Q101.223 674.668 103.677 674.09 Q106.131 673.511 108.168 673.511 Q113.538 673.511 116.733 676.196 Q119.927 678.881 119.927 683.372 Q119.927 685.502 119.117 687.423 Q118.33 689.321 116.223 691.914 Q115.645 692.585 112.543 695.803 Q109.441 698.997 103.793 704.761 Z\" fill=\"#000000\" fill-rule=\"evenodd\" fill-opacity=\"1\" /><path clip-path=\"url(#clip730)\" d=\"M63.5847 300.065 Q59.9736 300.065 58.1449 303.63 Q56.3393 307.171 56.3393 314.301 Q56.3393 321.407 58.1449 324.972 Q59.9736 328.514 63.5847 328.514 Q67.2189 328.514 69.0244 324.972 Q70.8531 321.407 70.8531 314.301 Q70.8531 307.171 69.0244 303.63 Q67.2189 300.065 63.5847 300.065 M63.5847 296.361 Q69.3948 296.361 72.4503 300.968 Q75.529 305.551 75.529 314.301 Q75.529 323.028 72.4503 327.634 Q69.3948 332.217 63.5847 332.217 Q57.7745 332.217 54.6958 327.634 Q51.6403 323.028 51.6403 314.301 Q51.6403 305.551 54.6958 300.968 Q57.7745 296.361 63.5847 296.361 Z\" fill=\"#000000\" fill-rule=\"evenodd\" fill-opacity=\"1\" /><path clip-path=\"url(#clip730)\" d=\"M83.7466 325.667 L88.6308 325.667 L88.6308 331.546 L83.7466 331.546 L83.7466 325.667 Z\" fill=\"#000000\" fill-rule=\"evenodd\" fill-opacity=\"1\" /><path clip-path=\"url(#clip730)\" d=\"M112.983 312.912 Q116.339 313.63 118.214 315.898 Q120.112 318.167 120.112 321.5 Q120.112 326.616 116.594 329.417 Q113.075 332.217 106.594 332.217 Q104.418 332.217 102.103 331.778 Q99.8113 331.361 97.3576 330.505 L97.3576 325.991 Q99.3021 327.125 101.617 327.704 Q103.932 328.282 106.455 328.282 Q110.853 328.282 113.145 326.546 Q115.459 324.81 115.459 321.5 Q115.459 318.444 113.307 316.731 Q111.177 314.995 107.358 314.995 L103.33 314.995 L103.33 311.153 L107.543 311.153 Q110.992 311.153 112.82 309.787 Q114.649 308.398 114.649 305.806 Q114.649 303.144 112.751 301.732 Q110.876 300.296 107.358 300.296 Q105.436 300.296 103.237 300.713 Q101.038 301.13 98.3993 302.009 L98.3993 297.843 Q101.061 297.102 103.376 296.732 Q105.714 296.361 107.774 296.361 Q113.098 296.361 116.2 298.792 Q119.302 301.199 119.302 305.319 Q119.302 308.19 117.658 310.181 Q116.015 312.148 112.983 312.912 Z\" fill=\"#000000\" fill-rule=\"evenodd\" fill-opacity=\"1\" /><path clip-path=\"url(#clip732)\" d=\"\n",
       "M276.931 87.9763 L276.931 1445.72 L835.504 1445.72 L835.504 87.9763 L276.931 87.9763 L276.931 87.9763  Z\n",
       "  \" fill=\"#009af9\" fill-rule=\"evenodd\" fill-opacity=\"1\"/>\n",
       "<polyline clip-path=\"url(#clip732)\" style=\"stroke:#000000; stroke-linecap:round; stroke-linejoin:round; stroke-width:4; stroke-opacity:1; fill:none\" points=\"\n",
       "  276.931,87.9763 276.931,1445.72 835.504,1445.72 835.504,87.9763 276.931,87.9763 \n",
       "  \"/>\n",
       "<path clip-path=\"url(#clip732)\" d=\"\n",
       "M1673.36 389.696 L1673.36 1445.72 L2231.94 1445.72 L2231.94 389.696 L1673.36 389.696 L1673.36 389.696  Z\n",
       "  \" fill=\"#009af9\" fill-rule=\"evenodd\" fill-opacity=\"1\"/>\n",
       "<polyline clip-path=\"url(#clip732)\" style=\"stroke:#000000; stroke-linecap:round; stroke-linejoin:round; stroke-width:4; stroke-opacity:1; fill:none\" points=\"\n",
       "  1673.36,389.696 1673.36,1445.72 2231.94,1445.72 2231.94,389.696 1673.36,389.696 \n",
       "  \"/>\n",
       "<path clip-path=\"url(#clip732)\" d=\"\n",
       "M975.148 87.9763 L975.148 1445.72 L1533.72 1445.72 L1533.72 87.9763 L975.148 87.9763 L975.148 87.9763  Z\n",
       "  \" fill=\"#009af9\" fill-rule=\"evenodd\" fill-opacity=\"1\"/>\n",
       "<polyline clip-path=\"url(#clip732)\" style=\"stroke:#000000; stroke-linecap:round; stroke-linejoin:round; stroke-width:4; stroke-opacity:1; fill:none\" points=\"\n",
       "  975.148,87.9763 975.148,1445.72 1533.72,1445.72 1533.72,87.9763 975.148,87.9763 \n",
       "  \"/>\n",
       "<circle clip-path=\"url(#clip732)\" style=\"fill:#009af9; stroke:none; fill-opacity:0\" cx=\"556.218\" cy=\"87.9763\" r=\"2\"/>\n",
       "<circle clip-path=\"url(#clip732)\" style=\"fill:#009af9; stroke:none; fill-opacity:0\" cx=\"1952.65\" cy=\"389.696\" r=\"2\"/>\n",
       "<circle clip-path=\"url(#clip732)\" style=\"fill:#009af9; stroke:none; fill-opacity:0\" cx=\"1254.43\" cy=\"87.9763\" r=\"2\"/>\n",
       "<path clip-path=\"url(#clip730)\" d=\"\n",
       "M2007.44 198.898 L2279.53 198.898 L2279.53 95.2176 L2007.44 95.2176  Z\n",
       "  \" fill=\"#ffffff\" fill-rule=\"evenodd\" fill-opacity=\"1\"/>\n",
       "<polyline clip-path=\"url(#clip730)\" style=\"stroke:#000000; stroke-linecap:round; stroke-linejoin:round; stroke-width:4; stroke-opacity:1; fill:none\" points=\"\n",
       "  2007.44,198.898 2279.53,198.898 2279.53,95.2176 2007.44,95.2176 2007.44,198.898 \n",
       "  \"/>\n",
       "<path clip-path=\"url(#clip730)\" d=\"\n",
       "M2031.85 167.794 L2178.29 167.794 L2178.29 126.322 L2031.85 126.322 L2031.85 167.794  Z\n",
       "  \" fill=\"#009af9\" fill-rule=\"evenodd\" fill-opacity=\"1\"/>\n",
       "<polyline clip-path=\"url(#clip730)\" style=\"stroke:#000000; stroke-linecap:round; stroke-linejoin:round; stroke-width:4; stroke-opacity:1; fill:none\" points=\"\n",
       "  2031.85,167.794 2178.29,167.794 2178.29,126.322 2031.85,126.322 2031.85,167.794 \n",
       "  \"/>\n",
       "<path clip-path=\"url(#clip730)\" d=\"M2216.54 166.745 Q2214.73 171.375 2213.02 172.787 Q2211.31 174.199 2208.44 174.199 L2205.03 174.199 L2205.03 170.634 L2207.53 170.634 Q2209.29 170.634 2210.27 169.8 Q2211.24 168.967 2212.42 165.865 L2213.18 163.921 L2202.7 138.412 L2207.21 138.412 L2215.31 158.689 L2223.41 138.412 L2227.93 138.412 L2216.54 166.745 Z\" fill=\"#000000\" fill-rule=\"evenodd\" fill-opacity=\"1\" /><path clip-path=\"url(#clip730)\" d=\"M2235.22 160.402 L2242.86 160.402 L2242.86 134.037 L2234.55 135.703 L2234.55 131.444 L2242.81 129.778 L2247.49 129.778 L2247.49 160.402 L2255.13 160.402 L2255.13 164.338 L2235.22 164.338 L2235.22 160.402 Z\" fill=\"#000000\" fill-rule=\"evenodd\" fill-opacity=\"1\" /></svg>\n"
      ]
     },
     "metadata": {},
     "output_type": "display_data"
    }
   ],
   "source": [
    "_hist, _mean, _std = fit(train_x, train_y)\n",
    "plot_pdf(_hist)"
   ]
  },
  {
   "attachments": {},
   "cell_type": "markdown",
   "metadata": {
    "colab_type": "text",
    "id": "itiPerhxGfzW"
   },
   "source": [
    "#### Test with 1 data record"
   ]
  },
  {
   "cell_type": "code",
   "execution_count": 15,
   "metadata": {
    "colab": {},
    "colab_type": "code",
    "id": "ev9UTlb6GfzX",
    "outputId": "ad1d31ca-6cf9-4081-a0fe-ff7c65963db3"
   },
   "outputs": [
    {
     "name": "stdout",
     "output_type": "stream",
     "text": [
      "Label of X_test[10]: "
     ]
    },
    {
     "name": "stdout",
     "output_type": "stream",
     "text": [
      "1\n",
      "Our histogram after update X_test[10]: 1"
     ]
    }
   ],
   "source": [
    "#label of test_y[10]\n",
    "print(\"Label of X_test[10]: \", test_y[10])\n",
    "\n",
    "#update model and show histogram with X_test[10]:\n",
    "print(\"\\nOur histogram after update X_test[10]: \", _predict(_hist, _mean, _std, test_x[10,:]))\n"
   ]
  },
  {
   "cell_type": "markdown",
   "metadata": {
    "colab_type": "text",
    "id": "CAhcGUTgGfzd"
   },
   "source": [
    "#### Evaluate your Gaussian Naive Bayes model"
   ]
  },
  {
   "cell_type": "code",
   "execution_count": 16,
   "metadata": {
    "colab": {},
    "colab_type": "code",
    "id": "S5Kvk-rUGfze",
    "outputId": "9ba3c648-275d-446f-d3f2-b0256a07a241"
   },
   "outputs": [
    {
     "name": "stdout",
     "output_type": "stream",
     "text": [
      "Accuracy of your Gaussian Naive Bayes model:0.94"
     ]
    }
   ],
   "source": [
    "pred=predict(_hist, _mean, _std, test_x)\n",
    "print(\"Accuracy of your Gaussian Naive Bayes model:\", accuracy(test_y,pred))"
   ]
  },
  {
   "cell_type": "markdown",
   "metadata": {
    "colab_type": "text",
    "id": "gJaWYqt5Jvmp"
   },
   "source": [
    "**TODO**: F1, Recall and Precision report"
   ]
  },
  {
   "cell_type": "markdown",
   "metadata": {},
   "source": []
  }
 ],
 "metadata": {
  "kernelspec": {
   "display_name": "Julia 1.8.2",
   "language": "julia",
   "name": "julia-1.8"
  },
  "language_info": {
   "file_extension": ".jl",
   "mimetype": "application/julia",
   "name": "julia",
   "version": "1.8.2"
  },
  "orig_nbformat": 4,
  "vscode": {
   "interpreter": {
    "hash": "805ec58a42bb74078ef34e0b09d8887d595db0068f7caef1a8723b55c6fd7fba"
   }
  }
 },
 "nbformat": 4,
 "nbformat_minor": 2
}
