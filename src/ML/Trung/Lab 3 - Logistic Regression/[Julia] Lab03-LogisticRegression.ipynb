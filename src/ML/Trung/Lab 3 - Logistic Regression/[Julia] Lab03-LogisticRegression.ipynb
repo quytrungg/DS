{
 "cells": [
  {
   "cell_type": "markdown",
   "id": "81e33c21",
   "metadata": {
    "colab_type": "text",
    "id": "joowx9GCrRAw"
   },
   "source": [
    "# Lab03: Logistic Regression.\n",
    "\n",
    "- Student ID: 20127370\n",
    "- Student name: Mai Quý Trung"
   ]
  },
  {
   "cell_type": "markdown",
   "id": "f4f1d521",
   "metadata": {
    "colab_type": "text",
    "id": "0XnaW0UKrRA0"
   },
   "source": [
    "**How to do your homework**\n",
    "\n",
    "\n",
    "You will work directly on this notebook; the word `TODO` indicate the parts you need to do.\n",
    "\n",
    "You can discuss ideas with classmates as well as finding information from the internet, book, etc...; but *this homework must be your*.\n",
    "\n",
    "**How to submit your homework**\n",
    "\n",
    "Before submitting, rerun the notebook (`Kernel` ->` Restart & Run All`).\n",
    "\n",
    "Then create a folder named `ID` (for example, if your ID is 1234567, then name the folder `1234567`). Copy file notebook to this folder, compress and submit it on moodle.\n",
    "\n",
    "**Contents:**\n",
    "- Logistic Regression."
   ]
  },
  {
   "cell_type": "markdown",
   "id": "51673795",
   "metadata": {
    "colab_type": "text",
    "id": "J53xGOE7rRA1"
   },
   "source": [
    "## 1. Feature Extraction"
   ]
  },
  {
   "cell_type": "markdown",
   "id": "dc78eb95",
   "metadata": {
    "colab_type": "text",
    "id": "kG06cwK8rRA3"
   },
   "source": [
    "### Import Library"
   ]
  },
  {
   "cell_type": "code",
   "execution_count": 1,
   "id": "a894d2db",
   "metadata": {},
   "outputs": [
    {
     "data": {
      "text/plain": [
       "Plots.GRBackend()"
      ]
     },
     "metadata": {},
     "output_type": "display_data"
    }
   ],
   "source": [
    "using Flux, Images, MLDatasets, Plots\n",
    "using Statistics, Distributions\n",
    "using MLJ \n",
    "gr()"
   ]
  },
  {
   "cell_type": "markdown",
   "id": "1705b618",
   "metadata": {
    "colab_type": "text",
    "id": "sPfHpi6orRBN"
   },
   "source": [
    "### Load data"
   ]
  },
  {
   "cell_type": "code",
   "execution_count": 2,
   "id": "a29abad1",
   "metadata": {},
   "outputs": [
    {
     "name": "stderr",
     "output_type": "stream",
     "text": [
      "┌ Warning: MNIST.traindata() is deprecated, use `MNIST(split=:train)[:]` instead.\n",
      "└ @ MLDatasets /Users/quytrungg/.julia/packages/MLDatasets/A3giY/src/datasets/vision/mnist.jl:187\n",
      "┌ Warning: MNIST.testdata() is deprecated, use `MNIST(split=:test)[:]` instead.\n",
      "└ @ MLDatasets /Users/quytrungg/.julia/packages/MLDatasets/A3giY/src/datasets/vision/mnist.jl:195\n"
     ]
    },
    {
     "data": {
      "text/plain": [
       "((60000, 784), (60000,), (10000, 784), (10000,))"
      ]
     },
     "metadata": {},
     "output_type": "display_data"
    }
   ],
   "source": [
    "train_x, train_y = MNIST.traindata(Int64);\n",
    "test_x, test_y = MNIST.testdata(Int64);\n",
    "\n",
    "train_x_flatten = Flux.flatten(train_x)'\n",
    "test_x_flatten = Flux.flatten(test_x)'\n",
    "\n",
    "size(train_x_flatten), size(train_y), size(test_x_flatten), size(test_y)"
   ]
  },
  {
   "cell_type": "markdown",
   "id": "102d5ef8",
   "metadata": {
    "colab_type": "text",
    "id": "x7D18ySErRBr"
   },
   "source": [
    "### Extract Features"
   ]
  },
  {
   "cell_type": "markdown",
   "id": "83f6cab6",
   "metadata": {
    "colab_type": "text",
    "id": "NlYT1LtnrRBt"
   },
   "source": [
    "So we basically have 70000 samples with each sample having 784 features - pixels in this case and a label - the digit the image represent.\n",
    "\n",
    "Let’s play around and see if we can extract any features from the pixels that can be more informative. First I’d like to know more about average intensity - that is the average value of a pixel in an image for the different digits"
   ]
  },
  {
   "cell_type": "code",
   "execution_count": 3,
   "id": "42d2e2ae",
   "metadata": {},
   "outputs": [],
   "source": [
    "function compute_average_intensity(x, y)\n",
    "    mean = zeros(10) # 10 is number of labels\n",
    "    #TODO compute average intensity for each label\n",
    "    count = zeros(10)\n",
    "    for i in 1:length(y)\n",
    "        count[y[i]+1] += 1\n",
    "    end\n",
    "\n",
    "    for i in 1:length(y)\n",
    "        mean[y[i]+1] += sum(x[i, :])\n",
    "    end\n",
    "\n",
    "    for i in 1:10\n",
    "        mean[i] /= count[i]\n",
    "    end\n",
    "    return mean\n",
    "end\n",
    "\n",
    "l_mean = compute_average_intensity(train_x_flatten, train_y);"
   ]
  },
  {
   "cell_type": "markdown",
   "id": "fb235f3d",
   "metadata": {
    "colab_type": "text",
    "id": "WMykV-q5rRB2"
   },
   "source": [
    "Plot the average intensity using matplotlib"
   ]
  },
  {
   "cell_type": "code",
   "execution_count": 4,
   "id": "baf91a21",
   "metadata": {},
   "outputs": [
    {
     "data": {
      "image/png": "[encoded data removed]",
      "image/svg+xml": "<?xml version=\"1.0\" encoding=\"utf-8\"?>\n<svg xmlns=\"http://www.w3.org/2000/svg\" xmlns:xlink=\"http://www.w3.org/1999/xlink\" width=\"600\" height=\"400\" viewBox=\"0 0 2400 1600\">\n<defs>\n  <clipPath id=\"clip280\">\n    <rect x=\"0\" y=\"0\" width=\"2400\" height=\"1600\"/>\n  </clipPath>\n</defs>\n<path clip-path=\"url(#clip280)\" d=\"\nM0 1600 L2400 1600 L2400 0 L0 0  Z\n  \" fill=\"#ffffff\" fill-rule=\"evenodd\" fill-opacity=\"1\"/>\n<defs>\n  <clipPath id=\"clip281\">\n    <rect x=\"480\" y=\"0\" width=\"1681\" height=\"1600\"/>\n  </clipPath>\n</defs>\n<path clip-path=\"url(#clip280)\" d=\"\nM276.274 1486.45 L2352.76 1486.45 L2352.76 47.2441 L276.274 47.2441  Z\n  \" fill=\"#ffffff\" fill-rule=\"evenodd\" fill-opacity=\"1\"/>\n<defs>\n  <clipPath id=\"clip282\">\n    <rect x=\"276\" y=\"47\" width=\"2077\" height=\"1440\"/>\n  </clipPath>\n</defs>\n<polyline clip-path=\"url(#clip282)\" style=\"stroke:#000000; stroke-linecap:round; stroke-linejoin:round; stroke-width:2; stroke-opacity:0.1; fill:none\" points=\"\n  465.915,1486.45 465.915,47.2441 \n  \"/>\n<polyline clip-path=\"url(#clip282)\" style=\"stroke:#000000; stroke-linecap:round; stroke-linejoin:round; stroke-width:2; stroke-opacity:0.1; fill:none\" points=\"\n  937.359,1486.45 937.359,47.2441 \n  \"/>\n<polyline clip-path=\"url(#clip282)\" style=\"stroke:#000000; stroke-linecap:round; stroke-linejoin:round; stroke-width:2; stroke-opacity:0.1; fill:none\" points=\"\n  1408.8,1486.45 1408.8,47.2441 \n  \"/>\n<polyline clip-path=\"url(#clip282)\" style=\"stroke:#000000; stroke-linecap:round; stroke-linejoin:round; stroke-width:2; stroke-opacity:0.1; fill:none\" points=\"\n  1880.25,1486.45 1880.25,47.2441 \n  \"/>\n<polyline clip-path=\"url(#clip282)\" style=\"stroke:#000000; stroke-linecap:round; stroke-linejoin:round; stroke-width:2; stroke-opacity:0.1; fill:none\" points=\"\n  2351.69,1486.45 2351.69,47.2441 \n  \"/>\n<polyline clip-path=\"url(#clip280)\" style=\"stroke:#000000; stroke-linecap:round; stroke-linejoin:round; stroke-width:4; stroke-opacity:1; fill:none\" points=\"\n  276.274,1486.45 2352.76,1486.45 \n  \"/>\n<polyline clip-path=\"url(#clip280)\" style=\"stroke:#000000; stroke-linecap:round; stroke-linejoin:round; stroke-width:4; stroke-opacity:1; fill:none\" points=\"\n  465.915,1486.45 465.915,1467.55 \n  \"/>\n<polyline clip-path=\"url(#clip280)\" style=\"stroke:#000000; stroke-linecap:round; stroke-linejoin:round; stroke-width:4; stroke-opacity:1; fill:none\" points=\"\n  937.359,1486.45 937.359,1467.55 \n  \"/>\n<polyline clip-path=\"url(#clip280)\" style=\"stroke:#000000; stroke-linecap:round; stroke-linejoin:round; stroke-width:4; stroke-opacity:1; fill:none\" points=\"\n  1408.8,1486.45 1408.8,1467.55 \n  \"/>\n<polyline clip-path=\"url(#clip280)\" style=\"stroke:#000000; stroke-linecap:round; stroke-linejoin:round; stroke-width:4; stroke-opacity:1; fill:none\" points=\"\n  1880.25,1486.45 1880.25,1467.55 \n  \"/>\n<polyline clip-path=\"url(#clip280)\" style=\"stroke:#000000; stroke-linecap:round; stroke-linejoin:round; stroke-width:4; stroke-opacity:1; fill:none\" points=\"\n  2351.69,1486.45 2351.69,1467.55 \n  \"/>\n<path clip-path=\"url(#clip280)\" d=\"M443.299 1517.37 Q439.688 1517.37 437.859 1520.93 Q436.054 1524.47 436.054 1531.6 Q436.054 1538.71 437.859 1542.27 Q439.688 1545.82 443.299 1545.82 Q446.933 1545.82 448.739 1542.27 Q450.568 1538.71 450.568 1531.6 Q450.568 1524.47 448.739 1520.93 Q446.933 1517.37 443.299 1517.37 M443.299 1513.66 Q449.109 1513.66 452.165 1518.27 Q455.244 1522.85 455.244 1531.6 Q455.244 1540.33 452.165 1544.94 Q449.109 1549.52 443.299 1549.52 Q437.489 1549.52 434.41 1544.94 Q431.355 1540.33 431.355 1531.6 Q431.355 1522.85 434.41 1518.27 Q437.489 1513.66 443.299 1513.66 Z\" fill=\"#000000\" fill-rule=\"evenodd\" fill-opacity=\"1\" /><path clip-path=\"url(#clip280)\" d=\"M463.461 1542.97 L468.345 1542.97 L468.345 1548.85 L463.461 1548.85 L463.461 1542.97 Z\" fill=\"#000000\" fill-rule=\"evenodd\" fill-opacity=\"1\" /><path clip-path=\"url(#clip280)\" d=\"M488.53 1517.37 Q484.919 1517.37 483.091 1520.93 Q481.285 1524.47 481.285 1531.6 Q481.285 1538.71 483.091 1542.27 Q484.919 1545.82 488.53 1545.82 Q492.165 1545.82 493.97 1542.27 Q495.799 1538.71 495.799 1531.6 Q495.799 1524.47 493.97 1520.93 Q492.165 1517.37 488.53 1517.37 M488.53 1513.66 Q494.341 1513.66 497.396 1518.27 Q500.475 1522.85 500.475 1531.6 Q500.475 1540.33 497.396 1544.94 Q494.341 1549.52 488.53 1549.52 Q482.72 1549.52 479.642 1544.94 Q476.586 1540.33 476.586 1531.6 Q476.586 1522.85 479.642 1518.27 Q482.72 1513.66 488.53 1513.66 Z\" fill=\"#000000\" fill-rule=\"evenodd\" fill-opacity=\"1\" /><path clip-path=\"url(#clip280)\" d=\"M909.095 1544.91 L925.415 1544.91 L925.415 1548.85 L903.471 1548.85 L903.471 1544.91 Q906.133 1542.16 910.716 1537.53 Q915.322 1532.88 916.503 1531.53 Q918.748 1529.01 919.628 1527.27 Q920.531 1525.51 920.531 1523.82 Q920.531 1521.07 918.586 1519.33 Q916.665 1517.6 913.563 1517.6 Q911.364 1517.6 908.91 1518.36 Q906.48 1519.13 903.702 1520.68 L903.702 1515.95 Q906.526 1514.82 908.98 1514.24 Q911.433 1513.66 913.47 1513.66 Q918.841 1513.66 922.035 1516.35 Q925.23 1519.03 925.23 1523.52 Q925.23 1525.65 924.419 1527.57 Q923.632 1529.47 921.526 1532.07 Q920.947 1532.74 917.845 1535.95 Q914.744 1539.15 909.095 1544.91 Z\" fill=\"#000000\" fill-rule=\"evenodd\" fill-opacity=\"1\" /><path clip-path=\"url(#clip280)\" d=\"M935.23 1542.97 L940.114 1542.97 L940.114 1548.85 L935.23 1548.85 L935.23 1542.97 Z\" fill=\"#000000\" fill-rule=\"evenodd\" fill-opacity=\"1\" /><path clip-path=\"url(#clip280)\" d=\"M950.345 1514.29 L968.702 1514.29 L968.702 1518.22 L954.628 1518.22 L954.628 1526.7 Q955.646 1526.35 956.665 1526.19 Q957.683 1526 958.702 1526 Q964.489 1526 967.868 1529.17 Q971.248 1532.34 971.248 1537.76 Q971.248 1543.34 967.776 1546.44 Q964.304 1549.52 957.984 1549.52 Q955.808 1549.52 953.54 1549.15 Q951.294 1548.78 948.887 1548.04 L948.887 1543.34 Q950.97 1544.47 953.192 1545.03 Q955.415 1545.58 957.892 1545.58 Q961.896 1545.58 964.234 1543.48 Q966.572 1541.37 966.572 1537.76 Q966.572 1534.15 964.234 1532.04 Q961.896 1529.94 957.892 1529.94 Q956.017 1529.94 954.142 1530.35 Q952.29 1530.77 950.345 1531.65 L950.345 1514.29 Z\" fill=\"#000000\" fill-rule=\"evenodd\" fill-opacity=\"1\" /><path clip-path=\"url(#clip280)\" d=\"M1375.97 1514.29 L1394.32 1514.29 L1394.32 1518.22 L1380.25 1518.22 L1380.25 1526.7 Q1381.27 1526.35 1382.29 1526.19 Q1383.31 1526 1384.32 1526 Q1390.11 1526 1393.49 1529.17 Q1396.87 1532.34 1396.87 1537.76 Q1396.87 1543.34 1393.4 1546.44 Q1389.93 1549.52 1383.61 1549.52 Q1381.43 1549.52 1379.16 1549.15 Q1376.92 1548.78 1374.51 1548.04 L1374.51 1543.34 Q1376.59 1544.47 1378.82 1545.03 Q1381.04 1545.58 1383.51 1545.58 Q1387.52 1545.58 1389.86 1543.48 Q1392.19 1541.37 1392.19 1537.76 Q1392.19 1534.15 1389.86 1532.04 Q1387.52 1529.94 1383.51 1529.94 Q1381.64 1529.94 1379.76 1530.35 Q1377.91 1530.77 1375.97 1531.65 L1375.97 1514.29 Z\" fill=\"#000000\" fill-rule=\"evenodd\" fill-opacity=\"1\" /><path clip-path=\"url(#clip280)\" d=\"M1406.08 1542.97 L1410.97 1542.97 L1410.97 1548.85 L1406.08 1548.85 L1406.08 1542.97 Z\" fill=\"#000000\" fill-rule=\"evenodd\" fill-opacity=\"1\" /><path clip-path=\"url(#clip280)\" d=\"M1431.15 1517.37 Q1427.54 1517.37 1425.71 1520.93 Q1423.91 1524.47 1423.91 1531.6 Q1423.91 1538.71 1425.71 1542.27 Q1427.54 1545.82 1431.15 1545.82 Q1434.79 1545.82 1436.59 1542.27 Q1438.42 1538.71 1438.42 1531.6 Q1438.42 1524.47 1436.59 1520.93 Q1434.79 1517.37 1431.15 1517.37 M1431.15 1513.66 Q1436.96 1513.66 1440.02 1518.27 Q1443.1 1522.85 1443.1 1531.6 Q1443.1 1540.33 1440.02 1544.94 Q1436.96 1549.52 1431.15 1549.52 Q1425.34 1549.52 1422.26 1544.94 Q1419.21 1540.33 1419.21 1531.6 Q1419.21 1522.85 1422.26 1518.27 Q1425.34 1513.66 1431.15 1513.66 Z\" fill=\"#000000\" fill-rule=\"evenodd\" fill-opacity=\"1\" /><path clip-path=\"url(#clip280)\" d=\"M1846.57 1514.29 L1868.79 1514.29 L1868.79 1516.28 L1856.24 1548.85 L1851.36 1548.85 L1863.16 1518.22 L1846.57 1518.22 L1846.57 1514.29 Z\" fill=\"#000000\" fill-rule=\"evenodd\" fill-opacity=\"1\" /><path clip-path=\"url(#clip280)\" d=\"M1877.91 1542.97 L1882.79 1542.97 L1882.79 1548.85 L1877.91 1548.85 L1877.91 1542.97 Z\" fill=\"#000000\" fill-rule=\"evenodd\" fill-opacity=\"1\" /><path clip-path=\"url(#clip280)\" d=\"M1893.03 1514.29 L1911.38 1514.29 L1911.38 1518.22 L1897.31 1518.22 L1897.31 1526.7 Q1898.33 1526.35 1899.35 1526.19 Q1900.36 1526 1901.38 1526 Q1907.17 1526 1910.55 1529.17 Q1913.93 1532.34 1913.93 1537.76 Q1913.93 1543.34 1910.46 1546.44 Q1906.98 1549.52 1900.66 1549.52 Q1898.49 1549.52 1896.22 1549.15 Q1893.97 1548.78 1891.57 1548.04 L1891.57 1543.34 Q1893.65 1544.47 1895.87 1545.03 Q1898.1 1545.58 1900.57 1545.58 Q1904.58 1545.58 1906.91 1543.48 Q1909.25 1541.37 1909.25 1537.76 Q1909.25 1534.15 1906.91 1532.04 Q1904.58 1529.94 1900.57 1529.94 Q1898.7 1529.94 1896.82 1530.35 Q1894.97 1530.77 1893.03 1531.65 L1893.03 1514.29 Z\" fill=\"#000000\" fill-rule=\"evenodd\" fill-opacity=\"1\" /><path clip-path=\"url(#clip280)\" d=\"M2303.76 1544.91 L2311.4 1544.91 L2311.4 1518.55 L2303.09 1520.21 L2303.09 1515.95 L2311.36 1514.29 L2316.03 1514.29 L2316.03 1544.91 L2323.67 1544.91 L2323.67 1548.85 L2303.76 1548.85 L2303.76 1544.91 Z\" fill=\"#000000\" fill-rule=\"evenodd\" fill-opacity=\"1\" /><path clip-path=\"url(#clip280)\" d=\"M2343.12 1517.37 Q2339.5 1517.37 2337.68 1520.93 Q2335.87 1524.47 2335.87 1531.6 Q2335.87 1538.71 2337.68 1542.27 Q2339.5 1545.82 2343.12 1545.82 Q2346.75 1545.82 2348.56 1542.27 Q2350.38 1538.71 2350.38 1531.6 Q2350.38 1524.47 2348.56 1520.93 Q2346.75 1517.37 2343.12 1517.37 M2343.12 1513.66 Q2348.93 1513.66 2351.98 1518.27 Q2355.06 1522.85 2355.06 1531.6 Q2355.06 1540.33 2351.98 1544.94 Q2348.93 1549.52 2343.12 1549.52 Q2337.31 1549.52 2334.23 1544.94 Q2331.17 1540.33 2331.17 1531.6 Q2331.17 1522.85 2334.23 1518.27 Q2337.31 1513.66 2343.12 1513.66 Z\" fill=\"#000000\" fill-rule=\"evenodd\" fill-opacity=\"1\" /><path clip-path=\"url(#clip280)\" d=\"M2363.28 1542.97 L2368.16 1542.97 L2368.16 1548.85 L2363.28 1548.85 L2363.28 1542.97 Z\" fill=\"#000000\" fill-rule=\"evenodd\" fill-opacity=\"1\" /><path clip-path=\"url(#clip280)\" d=\"M2388.35 1517.37 Q2384.74 1517.37 2382.91 1520.93 Q2381.1 1524.47 2381.1 1531.6 Q2381.1 1538.71 2382.91 1542.27 Q2384.74 1545.82 2388.35 1545.82 Q2391.98 1545.82 2393.79 1542.27 Q2395.62 1538.71 2395.62 1531.6 Q2395.62 1524.47 2393.79 1520.93 Q2391.98 1517.37 2388.35 1517.37 M2388.35 1513.66 Q2394.16 1513.66 2397.21 1518.27 Q2400.29 1522.85 2400.29 1531.6 Q2400.29 1540.33 2397.21 1544.94 Q2394.16 1549.52 2388.35 1549.52 Q2382.54 1549.52 2379.46 1544.94 Q2376.4 1540.33 2376.4 1531.6 Q2376.4 1522.85 2379.46 1518.27 Q2382.54 1513.66 2388.35 1513.66 Z\" fill=\"#000000\" fill-rule=\"evenodd\" fill-opacity=\"1\" /><polyline clip-path=\"url(#clip282)\" style=\"stroke:#000000; stroke-linecap:round; stroke-linejoin:round; stroke-width:2; stroke-opacity:0.1; fill:none\" points=\"\n  276.274,1445.72 2352.76,1445.72 \n  \"/>\n<polyline clip-path=\"url(#clip282)\" style=\"stroke:#000000; stroke-linecap:round; stroke-linejoin:round; stroke-width:2; stroke-opacity:0.1; fill:none\" points=\"\n  276.274,1054.05 2352.76,1054.05 \n  \"/>\n<polyline clip-path=\"url(#clip282)\" style=\"stroke:#000000; stroke-linecap:round; stroke-linejoin:round; stroke-width:2; stroke-opacity:0.1; fill:none\" points=\"\n  276.274,662.389 2352.76,662.389 \n  \"/>\n<polyline clip-path=\"url(#clip282)\" style=\"stroke:#000000; stroke-linecap:round; stroke-linejoin:round; stroke-width:2; stroke-opacity:0.1; fill:none\" points=\"\n  276.274,270.726 2352.76,270.726 \n  \"/>\n<polyline clip-path=\"url(#clip280)\" style=\"stroke:#000000; stroke-linecap:round; stroke-linejoin:round; stroke-width:4; stroke-opacity:1; fill:none\" points=\"\n  276.274,1486.45 276.274,47.2441 \n  \"/>\n<polyline clip-path=\"url(#clip280)\" style=\"stroke:#000000; stroke-linecap:round; stroke-linejoin:round; stroke-width:4; stroke-opacity:1; fill:none\" points=\"\n  276.274,1445.72 295.171,1445.72 \n  \"/>\n<polyline clip-path=\"url(#clip280)\" style=\"stroke:#000000; stroke-linecap:round; stroke-linejoin:round; stroke-width:4; stroke-opacity:1; fill:none\" points=\"\n  276.274,1054.05 295.171,1054.05 \n  \"/>\n<polyline clip-path=\"url(#clip280)\" style=\"stroke:#000000; stroke-linecap:round; stroke-linejoin:round; stroke-width:4; stroke-opacity:1; fill:none\" points=\"\n  276.274,662.389 295.171,662.389 \n  \"/>\n<polyline clip-path=\"url(#clip280)\" style=\"stroke:#000000; stroke-linecap:round; stroke-linejoin:round; stroke-width:4; stroke-opacity:1; fill:none\" points=\"\n  276.274,270.726 295.171,270.726 \n  \"/>\n<path clip-path=\"url(#clip280)\" d=\"M228.329 1431.51 Q224.718 1431.51 222.889 1435.08 Q221.084 1438.62 221.084 1445.75 Q221.084 1452.86 222.889 1456.42 Q224.718 1459.96 228.329 1459.96 Q231.963 1459.96 233.769 1456.42 Q235.598 1452.86 235.598 1445.75 Q235.598 1438.62 233.769 1435.08 Q231.963 1431.51 228.329 1431.51 M228.329 1427.81 Q234.139 1427.81 237.195 1432.42 Q240.274 1437 240.274 1445.75 Q240.274 1454.48 237.195 1459.08 Q234.139 1463.67 228.329 1463.67 Q222.519 1463.67 219.44 1459.08 Q216.385 1454.48 216.385 1445.75 Q216.385 1437 219.44 1432.42 Q222.519 1427.81 228.329 1427.81 Z\" fill=\"#000000\" fill-rule=\"evenodd\" fill-opacity=\"1\" /><path clip-path=\"url(#clip280)\" d=\"M53.3995 1073.84 L61.0384 1073.84 L61.0384 1047.48 L52.7282 1049.15 L52.7282 1044.89 L60.9921 1043.22 L65.668 1043.22 L65.668 1073.84 L73.3068 1073.84 L73.3068 1077.78 L53.3995 1077.78 L53.3995 1073.84 Z\" fill=\"#000000\" fill-rule=\"evenodd\" fill-opacity=\"1\" /><path clip-path=\"url(#clip280)\" d=\"M82.7512 1071.9 L87.6354 1071.9 L87.6354 1077.78 L82.7512 1077.78 L82.7512 1071.9 Z\" fill=\"#000000\" fill-rule=\"evenodd\" fill-opacity=\"1\" /><path clip-path=\"url(#clip280)\" d=\"M107.821 1046.3 Q104.209 1046.3 102.381 1049.86 Q100.575 1053.41 100.575 1060.53 Q100.575 1067.64 102.381 1071.21 Q104.209 1074.75 107.821 1074.75 Q111.455 1074.75 113.26 1071.21 Q115.089 1067.64 115.089 1060.53 Q115.089 1053.41 113.26 1049.86 Q111.455 1046.3 107.821 1046.3 M107.821 1042.6 Q113.631 1042.6 116.686 1047.2 Q119.765 1051.78 119.765 1060.53 Q119.765 1069.26 116.686 1073.87 Q113.631 1078.45 107.821 1078.45 Q102.01 1078.45 98.9317 1073.87 Q95.8761 1069.26 95.8761 1060.53 Q95.8761 1051.78 98.9317 1047.2 Q102.01 1042.6 107.821 1042.6 Z\" fill=\"#000000\" fill-rule=\"evenodd\" fill-opacity=\"1\" /><path clip-path=\"url(#clip280)\" d=\"M156.154 1052.32 L145.575 1062.94 L156.154 1073.52 L153.399 1076.32 L142.774 1065.7 L132.149 1076.32 L129.418 1073.52 L139.973 1062.94 L129.418 1052.32 L132.149 1049.52 L142.774 1060.14 L153.399 1049.52 L156.154 1052.32 Z\" fill=\"#000000\" fill-rule=\"evenodd\" fill-opacity=\"1\" /><path clip-path=\"url(#clip280)\" d=\"M168.515 1073.84 L176.153 1073.84 L176.153 1047.48 L167.843 1049.15 L167.843 1044.89 L176.107 1043.22 L180.783 1043.22 L180.783 1073.84 L188.422 1073.84 L188.422 1077.78 L168.515 1077.78 L168.515 1073.84 Z\" fill=\"#000000\" fill-rule=\"evenodd\" fill-opacity=\"1\" /><path clip-path=\"url(#clip280)\" d=\"M207.866 1046.3 Q204.255 1046.3 202.426 1049.86 Q200.621 1053.41 200.621 1060.53 Q200.621 1067.64 202.426 1071.21 Q204.255 1074.75 207.866 1074.75 Q211.501 1074.75 213.306 1071.21 Q215.135 1067.64 215.135 1060.53 Q215.135 1053.41 213.306 1049.86 Q211.501 1046.3 207.866 1046.3 M207.866 1042.6 Q213.676 1042.6 216.732 1047.2 Q219.811 1051.78 219.811 1060.53 Q219.811 1069.26 216.732 1073.87 Q213.676 1078.45 207.866 1078.45 Q202.056 1078.45 198.977 1073.87 Q195.922 1069.26 195.922 1060.53 Q195.922 1051.78 198.977 1047.2 Q202.056 1042.6 207.866 1042.6 Z\" fill=\"#000000\" fill-rule=\"evenodd\" fill-opacity=\"1\" /><path clip-path=\"url(#clip280)\" d=\"M232.487 1025.6 L222.895 1040.59 L232.487 1040.59 L232.487 1025.6 M231.49 1022.29 L236.267 1022.29 L236.267 1040.59 L240.274 1040.59 L240.274 1043.75 L236.267 1043.75 L236.267 1050.37 L232.487 1050.37 L232.487 1043.75 L219.811 1043.75 L219.811 1040.08 L231.49 1022.29 Z\" fill=\"#000000\" fill-rule=\"evenodd\" fill-opacity=\"1\" /><path clip-path=\"url(#clip280)\" d=\"M56.6171 682.182 L72.9365 682.182 L72.9365 686.117 L50.9921 686.117 L50.9921 682.182 Q53.6541 679.427 58.2375 674.797 Q62.8439 670.145 64.0245 668.802 Q66.2698 666.279 67.1494 664.543 Q68.0522 662.784 68.0522 661.094 Q68.0522 658.339 66.1078 656.603 Q64.1865 654.867 61.0847 654.867 Q58.8856 654.867 56.4319 655.631 Q54.0014 656.395 51.2236 657.946 L51.2236 653.224 Q54.0477 652.089 56.5014 651.511 Q58.955 650.932 60.9921 650.932 Q66.3624 650.932 69.5568 653.617 Q72.7513 656.302 72.7513 660.793 Q72.7513 662.923 71.9411 664.844 Q71.1541 666.742 69.0476 669.335 Q68.4689 670.006 65.367 673.223 Q62.2652 676.418 56.6171 682.182 Z\" fill=\"#000000\" fill-rule=\"evenodd\" fill-opacity=\"1\" /><path clip-path=\"url(#clip280)\" d=\"M82.7512 680.237 L87.6354 680.237 L87.6354 686.117 L82.7512 686.117 L82.7512 680.237 Z\" fill=\"#000000\" fill-rule=\"evenodd\" fill-opacity=\"1\" /><path clip-path=\"url(#clip280)\" d=\"M107.821 654.636 Q104.209 654.636 102.381 658.2 Q100.575 661.742 100.575 668.872 Q100.575 675.978 102.381 679.543 Q104.209 683.084 107.821 683.084 Q111.455 683.084 113.26 679.543 Q115.089 675.978 115.089 668.872 Q115.089 661.742 113.26 658.2 Q111.455 654.636 107.821 654.636 M107.821 650.932 Q113.631 650.932 116.686 655.538 Q119.765 660.122 119.765 668.872 Q119.765 677.598 116.686 682.205 Q113.631 686.788 107.821 686.788 Q102.01 686.788 98.9317 682.205 Q95.8761 677.598 95.8761 668.872 Q95.8761 660.122 98.9317 655.538 Q102.01 650.932 107.821 650.932 Z\" fill=\"#000000\" fill-rule=\"evenodd\" fill-opacity=\"1\" /><path clip-path=\"url(#clip280)\" d=\"M156.154 660.654 L145.575 671.279 L156.154 681.858 L153.399 684.659 L142.774 674.034 L132.149 684.659 L129.418 681.858 L139.973 671.279 L129.418 660.654 L132.149 657.853 L142.774 668.478 L153.399 657.853 L156.154 660.654 Z\" fill=\"#000000\" fill-rule=\"evenodd\" fill-opacity=\"1\" /><path clip-path=\"url(#clip280)\" d=\"M168.515 682.182 L176.153 682.182 L176.153 655.816 L167.843 657.483 L167.843 653.224 L176.107 651.557 L180.783 651.557 L180.783 682.182 L188.422 682.182 L188.422 686.117 L168.515 686.117 L168.515 682.182 Z\" fill=\"#000000\" fill-rule=\"evenodd\" fill-opacity=\"1\" /><path clip-path=\"url(#clip280)\" d=\"M207.866 654.636 Q204.255 654.636 202.426 658.2 Q200.621 661.742 200.621 668.872 Q200.621 675.978 202.426 679.543 Q204.255 683.084 207.866 683.084 Q211.501 683.084 213.306 679.543 Q215.135 675.978 215.135 668.872 Q215.135 661.742 213.306 658.2 Q211.501 654.636 207.866 654.636 M207.866 650.932 Q213.676 650.932 216.732 655.538 Q219.811 660.122 219.811 668.872 Q219.811 677.598 216.732 682.205 Q213.676 686.788 207.866 686.788 Q202.056 686.788 198.977 682.205 Q195.922 677.598 195.922 668.872 Q195.922 660.122 198.977 655.538 Q202.056 650.932 207.866 650.932 Z\" fill=\"#000000\" fill-rule=\"evenodd\" fill-opacity=\"1\" /><path clip-path=\"url(#clip280)\" d=\"M232.487 633.937 L222.895 648.926 L232.487 648.926 L232.487 633.937 M231.49 630.626 L236.267 630.626 L236.267 648.926 L240.274 648.926 L240.274 652.086 L236.267 652.086 L236.267 658.706 L232.487 658.706 L232.487 652.086 L219.811 652.086 L219.811 648.419 L231.49 630.626 Z\" fill=\"#000000\" fill-rule=\"evenodd\" fill-opacity=\"1\" /><path clip-path=\"url(#clip280)\" d=\"M66.7559 275.82 Q70.1124 276.537 71.9874 278.806 Q73.8855 281.074 73.8855 284.407 Q73.8855 289.523 70.367 292.324 Q66.8485 295.125 60.3671 295.125 Q58.1912 295.125 55.8764 294.685 Q53.5847 294.268 51.131 293.412 L51.131 288.898 Q53.0754 290.032 55.3903 290.611 Q57.7051 291.19 60.2282 291.19 Q64.6263 291.19 66.918 289.454 Q69.2328 287.718 69.2328 284.407 Q69.2328 281.352 67.08 279.639 Q64.9504 277.903 61.131 277.903 L57.1032 277.903 L57.1032 274.06 L61.3161 274.06 Q64.7652 274.06 66.5939 272.695 Q68.4226 271.306 68.4226 268.713 Q68.4226 266.051 66.5245 264.639 Q64.6495 263.204 61.131 263.204 Q59.2097 263.204 57.0106 263.62 Q54.8115 264.037 52.1727 264.917 L52.1727 260.75 Q54.8347 260.009 57.1495 259.639 Q59.4875 259.269 61.5476 259.269 Q66.8717 259.269 69.9735 261.699 Q73.0753 264.107 73.0753 268.227 Q73.0753 271.097 71.4318 273.088 Q69.7883 275.056 66.7559 275.82 Z\" fill=\"#000000\" fill-rule=\"evenodd\" fill-opacity=\"1\" /><path clip-path=\"url(#clip280)\" d=\"M82.7512 288.574 L87.6354 288.574 L87.6354 294.454 L82.7512 294.454 L82.7512 288.574 Z\" fill=\"#000000\" fill-rule=\"evenodd\" fill-opacity=\"1\" /><path clip-path=\"url(#clip280)\" d=\"M107.821 262.972 Q104.209 262.972 102.381 266.537 Q100.575 270.079 100.575 277.208 Q100.575 284.315 102.381 287.88 Q104.209 291.421 107.821 291.421 Q111.455 291.421 113.26 287.88 Q115.089 284.315 115.089 277.208 Q115.089 270.079 113.26 266.537 Q111.455 262.972 107.821 262.972 M107.821 259.269 Q113.631 259.269 116.686 263.875 Q119.765 268.458 119.765 277.208 Q119.765 285.935 116.686 290.542 Q113.631 295.125 107.821 295.125 Q102.01 295.125 98.9317 290.542 Q95.8761 285.935 95.8761 277.208 Q95.8761 268.458 98.9317 263.875 Q102.01 259.269 107.821 259.269 Z\" fill=\"#000000\" fill-rule=\"evenodd\" fill-opacity=\"1\" /><path clip-path=\"url(#clip280)\" d=\"M156.154 268.991 L145.575 279.616 L156.154 290.194 L153.399 292.995 L142.774 282.37 L132.149 292.995 L129.418 290.194 L139.973 279.616 L129.418 268.991 L132.149 266.19 L142.774 276.815 L153.399 266.19 L156.154 268.991 Z\" fill=\"#000000\" fill-rule=\"evenodd\" fill-opacity=\"1\" /><path clip-path=\"url(#clip280)\" d=\"M168.515 290.518 L176.153 290.518 L176.153 264.153 L167.843 265.82 L167.843 261.56 L176.107 259.894 L180.783 259.894 L180.783 290.518 L188.422 290.518 L188.422 294.454 L168.515 294.454 L168.515 290.518 Z\" fill=\"#000000\" fill-rule=\"evenodd\" fill-opacity=\"1\" /><path clip-path=\"url(#clip280)\" d=\"M207.866 262.972 Q204.255 262.972 202.426 266.537 Q200.621 270.079 200.621 277.208 Q200.621 284.315 202.426 287.88 Q204.255 291.421 207.866 291.421 Q211.501 291.421 213.306 287.88 Q215.135 284.315 215.135 277.208 Q215.135 270.079 213.306 266.537 Q211.501 262.972 207.866 262.972 M207.866 259.269 Q213.676 259.269 216.732 263.875 Q219.811 268.458 219.811 277.208 Q219.811 285.935 216.732 290.542 Q213.676 295.125 207.866 295.125 Q202.056 295.125 198.977 290.542 Q195.922 285.935 195.922 277.208 Q195.922 268.458 198.977 263.875 Q202.056 259.269 207.866 259.269 Z\" fill=\"#000000\" fill-rule=\"evenodd\" fill-opacity=\"1\" /><path clip-path=\"url(#clip280)\" d=\"M232.487 242.273 L222.895 257.263 L232.487 257.263 L232.487 242.273 M231.49 238.963 L236.267 238.963 L236.267 257.263 L240.274 257.263 L240.274 260.423 L236.267 260.423 L236.267 267.043 L232.487 267.043 L232.487 260.423 L219.811 260.423 L219.811 256.755 L231.49 238.963 Z\" fill=\"#000000\" fill-rule=\"evenodd\" fill-opacity=\"1\" /><path clip-path=\"url(#clip282)\" d=\"\nM390.484 87.9763 L390.484 1445.72 L541.346 1445.72 L541.346 87.9763 L390.484 87.9763 L390.484 87.9763  Z\n  \" fill=\"#009af9\" fill-rule=\"evenodd\" fill-opacity=\"1\"/>\n<polyline clip-path=\"url(#clip282)\" style=\"stroke:#000000; stroke-linecap:round; stroke-linejoin:round; stroke-width:4; stroke-opacity:1; fill:none\" points=\"\n  390.484,87.9763 390.484,1445.72 541.346,1445.72 541.346,87.9763 390.484,87.9763 \n  \"/>\n<path clip-path=\"url(#clip282)\" d=\"\nM579.061 850.636 L579.061 1445.72 L729.924 1445.72 L729.924 850.636 L579.061 850.636 L579.061 850.636  Z\n  \" fill=\"#009af9\" fill-rule=\"evenodd\" fill-opacity=\"1\"/>\n<polyline clip-path=\"url(#clip282)\" style=\"stroke:#000000; stroke-linecap:round; stroke-linejoin:round; stroke-width:4; stroke-opacity:1; fill:none\" points=\"\n  579.061,850.636 579.061,1445.72 729.924,1445.72 729.924,850.636 579.061,850.636 \n  \"/>\n<path clip-path=\"url(#clip282)\" d=\"\nM767.639 279.221 L767.639 1445.72 L918.501 1445.72 L918.501 279.221 L767.639 279.221 L767.639 279.221  Z\n  \" fill=\"#009af9\" fill-rule=\"evenodd\" fill-opacity=\"1\"/>\n<polyline clip-path=\"url(#clip282)\" style=\"stroke:#000000; stroke-linecap:round; stroke-linejoin:round; stroke-width:4; stroke-opacity:1; fill:none\" points=\"\n  767.639,279.221 767.639,1445.72 918.501,1445.72 918.501,279.221 767.639,279.221 \n  \"/>\n<path clip-path=\"url(#clip282)\" d=\"\nM956.217 337.516 L956.217 1445.72 L1107.08 1445.72 L1107.08 337.516 L956.217 337.516 L956.217 337.516  Z\n  \" fill=\"#009af9\" fill-rule=\"evenodd\" fill-opacity=\"1\"/>\n<polyline clip-path=\"url(#clip282)\" style=\"stroke:#000000; stroke-linecap:round; stroke-linejoin:round; stroke-width:4; stroke-opacity:1; fill:none\" points=\"\n  956.217,337.516 956.217,1445.72 1107.08,1445.72 1107.08,337.516 956.217,337.516 \n  \"/>\n<path clip-path=\"url(#clip282)\" d=\"\nM1144.79 495.407 L1144.79 1445.72 L1295.66 1445.72 L1295.66 495.407 L1144.79 495.407 L1144.79 495.407  Z\n  \" fill=\"#009af9\" fill-rule=\"evenodd\" fill-opacity=\"1\"/>\n<polyline clip-path=\"url(#clip282)\" style=\"stroke:#000000; stroke-linecap:round; stroke-linejoin:round; stroke-width:4; stroke-opacity:1; fill:none\" points=\"\n  1144.79,495.407 1144.79,1445.72 1295.66,1445.72 1295.66,495.407 1144.79,495.407 \n  \"/>\n<path clip-path=\"url(#clip282)\" d=\"\nM1333.37 437.591 L1333.37 1445.72 L1484.23 1445.72 L1484.23 437.591 L1333.37 437.591 L1333.37 437.591  Z\n  \" fill=\"#009af9\" fill-rule=\"evenodd\" fill-opacity=\"1\"/>\n<polyline clip-path=\"url(#clip282)\" style=\"stroke:#000000; stroke-linecap:round; stroke-linejoin:round; stroke-width:4; stroke-opacity:1; fill:none\" points=\"\n  1333.37,437.591 1333.37,1445.72 1484.23,1445.72 1484.23,437.591 1333.37,437.591 \n  \"/>\n<path clip-path=\"url(#clip282)\" d=\"\nM1521.95 370.625 L1521.95 1445.72 L1672.81 1445.72 L1672.81 370.625 L1521.95 370.625 L1521.95 370.625  Z\n  \" fill=\"#009af9\" fill-rule=\"evenodd\" fill-opacity=\"1\"/>\n<polyline clip-path=\"url(#clip282)\" style=\"stroke:#000000; stroke-linecap:round; stroke-linejoin:round; stroke-width:4; stroke-opacity:1; fill:none\" points=\"\n  1521.95,370.625 1521.95,1445.72 1672.81,1445.72 1672.81,370.625 1521.95,370.625 \n  \"/>\n<path clip-path=\"url(#clip282)\" d=\"\nM1710.53 548.949 L1710.53 1445.72 L1861.39 1445.72 L1861.39 548.949 L1710.53 548.949 L1710.53 548.949  Z\n  \" fill=\"#009af9\" fill-rule=\"evenodd\" fill-opacity=\"1\"/>\n<polyline clip-path=\"url(#clip282)\" style=\"stroke:#000000; stroke-linecap:round; stroke-linejoin:round; stroke-width:4; stroke-opacity:1; fill:none\" points=\"\n  1710.53,548.949 1710.53,1445.72 1861.39,1445.72 1861.39,548.949 1710.53,548.949 \n  \"/>\n<path clip-path=\"url(#clip282)\" d=\"\nM1899.11 269.975 L1899.11 1445.72 L2049.97 1445.72 L2049.97 269.975 L1899.11 269.975 L1899.11 269.975  Z\n  \" fill=\"#009af9\" fill-rule=\"evenodd\" fill-opacity=\"1\"/>\n<polyline clip-path=\"url(#clip282)\" style=\"stroke:#000000; stroke-linecap:round; stroke-linejoin:round; stroke-width:4; stroke-opacity:1; fill:none\" points=\"\n  1899.11,269.975 1899.11,1445.72 2049.97,1445.72 2049.97,269.975 1899.11,269.975 \n  \"/>\n<path clip-path=\"url(#clip282)\" d=\"\nM2087.68 485.82 L2087.68 1445.72 L2238.55 1445.72 L2238.55 485.82 L2087.68 485.82 L2087.68 485.82  Z\n  \" fill=\"#009af9\" fill-rule=\"evenodd\" fill-opacity=\"1\"/>\n<polyline clip-path=\"url(#clip282)\" style=\"stroke:#000000; stroke-linecap:round; stroke-linejoin:round; stroke-width:4; stroke-opacity:1; fill:none\" points=\"\n  2087.68,485.82 2087.68,1445.72 2238.55,1445.72 2238.55,485.82 2087.68,485.82 \n  \"/>\n<circle clip-path=\"url(#clip282)\" style=\"fill:#009af9; stroke:none; fill-opacity:0\" cx=\"465.915\" cy=\"87.9763\" r=\"2\"/>\n<circle clip-path=\"url(#clip282)\" style=\"fill:#009af9; stroke:none; fill-opacity:0\" cx=\"654.493\" cy=\"850.636\" r=\"2\"/>\n<circle clip-path=\"url(#clip282)\" style=\"fill:#009af9; stroke:none; fill-opacity:0\" cx=\"843.07\" cy=\"279.221\" r=\"2\"/>\n<circle clip-path=\"url(#clip282)\" style=\"fill:#009af9; stroke:none; fill-opacity:0\" cx=\"1031.65\" cy=\"337.516\" r=\"2\"/>\n<circle clip-path=\"url(#clip282)\" style=\"fill:#009af9; stroke:none; fill-opacity:0\" cx=\"1220.23\" cy=\"495.407\" r=\"2\"/>\n<circle clip-path=\"url(#clip282)\" style=\"fill:#009af9; stroke:none; fill-opacity:0\" cx=\"1408.8\" cy=\"437.591\" r=\"2\"/>\n<circle clip-path=\"url(#clip282)\" style=\"fill:#009af9; stroke:none; fill-opacity:0\" cx=\"1597.38\" cy=\"370.625\" r=\"2\"/>\n<circle clip-path=\"url(#clip282)\" style=\"fill:#009af9; stroke:none; fill-opacity:0\" cx=\"1785.96\" cy=\"548.949\" r=\"2\"/>\n<circle clip-path=\"url(#clip282)\" style=\"fill:#009af9; stroke:none; fill-opacity:0\" cx=\"1974.54\" cy=\"269.975\" r=\"2\"/>\n<circle clip-path=\"url(#clip282)\" style=\"fill:#009af9; stroke:none; fill-opacity:0\" cx=\"2163.11\" cy=\"485.82\" r=\"2\"/>\n</svg>\n",
      "text/html": [
       "<?xml version=\"1.0\" encoding=\"utf-8\"?>\n",
       "<svg xmlns=\"http://www.w3.org/2000/svg\" xmlns:xlink=\"http://www.w3.org/1999/xlink\" width=\"600\" height=\"400\" viewBox=\"0 0 2400 1600\">\n",
       "<defs>\n",
       "  <clipPath id=\"clip330\">\n",
       "    <rect x=\"0\" y=\"0\" width=\"2400\" height=\"1600\"/>\n",
       "  </clipPath>\n",
       "</defs>\n",
       "<path clip-path=\"url(#clip330)\" d=\"\n",
       "M0 1600 L2400 1600 L2400 0 L0 0  Z\n",
       "  \" fill=\"#ffffff\" fill-rule=\"evenodd\" fill-opacity=\"1\"/>\n",
       "<defs>\n",
       "  <clipPath id=\"clip331\">\n",
       "    <rect x=\"480\" y=\"0\" width=\"1681\" height=\"1600\"/>\n",
       "  </clipPath>\n",
       "</defs>\n",
       "<path clip-path=\"url(#clip330)\" d=\"\n",
       "M276.274 1486.45 L2352.76 1486.45 L2352.76 47.2441 L276.274 47.2441  Z\n",
       "  \" fill=\"#ffffff\" fill-rule=\"evenodd\" fill-opacity=\"1\"/>\n",
       "<defs>\n",
       "  <clipPath id=\"clip332\">\n",
       "    <rect x=\"276\" y=\"47\" width=\"2077\" height=\"1440\"/>\n",
       "  </clipPath>\n",
       "</defs>\n",
       "<polyline clip-path=\"url(#clip332)\" style=\"stroke:#000000; stroke-linecap:round; stroke-linejoin:round; stroke-width:2; stroke-opacity:0.1; fill:none\" points=\"\n",
       "  465.915,1486.45 465.915,47.2441 \n",
       "  \"/>\n",
       "<polyline clip-path=\"url(#clip332)\" style=\"stroke:#000000; stroke-linecap:round; stroke-linejoin:round; stroke-width:2; stroke-opacity:0.1; fill:none\" points=\"\n",
       "  937.359,1486.45 937.359,47.2441 \n",
       "  \"/>\n",
       "<polyline clip-path=\"url(#clip332)\" style=\"stroke:#000000; stroke-linecap:round; stroke-linejoin:round; stroke-width:2; stroke-opacity:0.1; fill:none\" points=\"\n",
       "  1408.8,1486.45 1408.8,47.2441 \n",
       "  \"/>\n",
       "<polyline clip-path=\"url(#clip332)\" style=\"stroke:#000000; stroke-linecap:round; stroke-linejoin:round; stroke-width:2; stroke-opacity:0.1; fill:none\" points=\"\n",
       "  1880.25,1486.45 1880.25,47.2441 \n",
       "  \"/>\n",
       "<polyline clip-path=\"url(#clip332)\" style=\"stroke:#000000; stroke-linecap:round; stroke-linejoin:round; stroke-width:2; stroke-opacity:0.1; fill:none\" points=\"\n",
       "  2351.69,1486.45 2351.69,47.2441 \n",
       "  \"/>\n",
       "<polyline clip-path=\"url(#clip330)\" style=\"stroke:#000000; stroke-linecap:round; stroke-linejoin:round; stroke-width:4; stroke-opacity:1; fill:none\" points=\"\n",
       "  276.274,1486.45 2352.76,1486.45 \n",
       "  \"/>\n",
       "<polyline clip-path=\"url(#clip330)\" style=\"stroke:#000000; stroke-linecap:round; stroke-linejoin:round; stroke-width:4; stroke-opacity:1; fill:none\" points=\"\n",
       "  465.915,1486.45 465.915,1467.55 \n",
       "  \"/>\n",
       "<polyline clip-path=\"url(#clip330)\" style=\"stroke:#000000; stroke-linecap:round; stroke-linejoin:round; stroke-width:4; stroke-opacity:1; fill:none\" points=\"\n",
       "  937.359,1486.45 937.359,1467.55 \n",
       "  \"/>\n",
       "<polyline clip-path=\"url(#clip330)\" style=\"stroke:#000000; stroke-linecap:round; stroke-linejoin:round; stroke-width:4; stroke-opacity:1; fill:none\" points=\"\n",
       "  1408.8,1486.45 1408.8,1467.55 \n",
       "  \"/>\n",
       "<polyline clip-path=\"url(#clip330)\" style=\"stroke:#000000; stroke-linecap:round; stroke-linejoin:round; stroke-width:4; stroke-opacity:1; fill:none\" points=\"\n",
       "  1880.25,1486.45 1880.25,1467.55 \n",
       "  \"/>\n",
       "<polyline clip-path=\"url(#clip330)\" style=\"stroke:#000000; stroke-linecap:round; stroke-linejoin:round; stroke-width:4; stroke-opacity:1; fill:none\" points=\"\n",
       "  2351.69,1486.45 2351.69,1467.55 \n",
       "  \"/>\n",
       "<path clip-path=\"url(#clip330)\" d=\"M443.299 1517.37 Q439.688 1517.37 437.859 1520.93 Q436.054 1524.47 436.054 1531.6 Q436.054 1538.71 437.859 1542.27 Q439.688 1545.82 443.299 1545.82 Q446.933 1545.82 448.739 1542.27 Q450.568 1538.71 450.568 1531.6 Q450.568 1524.47 448.739 1520.93 Q446.933 1517.37 443.299 1517.37 M443.299 1513.66 Q449.109 1513.66 452.165 1518.27 Q455.244 1522.85 455.244 1531.6 Q455.244 1540.33 452.165 1544.94 Q449.109 1549.52 443.299 1549.52 Q437.489 1549.52 434.41 1544.94 Q431.355 1540.33 431.355 1531.6 Q431.355 1522.85 434.41 1518.27 Q437.489 1513.66 443.299 1513.66 Z\" fill=\"#000000\" fill-rule=\"evenodd\" fill-opacity=\"1\" /><path clip-path=\"url(#clip330)\" d=\"M463.461 1542.97 L468.345 1542.97 L468.345 1548.85 L463.461 1548.85 L463.461 1542.97 Z\" fill=\"#000000\" fill-rule=\"evenodd\" fill-opacity=\"1\" /><path clip-path=\"url(#clip330)\" d=\"M488.53 1517.37 Q484.919 1517.37 483.091 1520.93 Q481.285 1524.47 481.285 1531.6 Q481.285 1538.71 483.091 1542.27 Q484.919 1545.82 488.53 1545.82 Q492.165 1545.82 493.97 1542.27 Q495.799 1538.71 495.799 1531.6 Q495.799 1524.47 493.97 1520.93 Q492.165 1517.37 488.53 1517.37 M488.53 1513.66 Q494.341 1513.66 497.396 1518.27 Q500.475 1522.85 500.475 1531.6 Q500.475 1540.33 497.396 1544.94 Q494.341 1549.52 488.53 1549.52 Q482.72 1549.52 479.642 1544.94 Q476.586 1540.33 476.586 1531.6 Q476.586 1522.85 479.642 1518.27 Q482.72 1513.66 488.53 1513.66 Z\" fill=\"#000000\" fill-rule=\"evenodd\" fill-opacity=\"1\" /><path clip-path=\"url(#clip330)\" d=\"M909.095 1544.91 L925.415 1544.91 L925.415 1548.85 L903.471 1548.85 L903.471 1544.91 Q906.133 1542.16 910.716 1537.53 Q915.322 1532.88 916.503 1531.53 Q918.748 1529.01 919.628 1527.27 Q920.531 1525.51 920.531 1523.82 Q920.531 1521.07 918.586 1519.33 Q916.665 1517.6 913.563 1517.6 Q911.364 1517.6 908.91 1518.36 Q906.48 1519.13 903.702 1520.68 L903.702 1515.95 Q906.526 1514.82 908.98 1514.24 Q911.433 1513.66 913.47 1513.66 Q918.841 1513.66 922.035 1516.35 Q925.23 1519.03 925.23 1523.52 Q925.23 1525.65 924.419 1527.57 Q923.632 1529.47 921.526 1532.07 Q920.947 1532.74 917.845 1535.95 Q914.744 1539.15 909.095 1544.91 Z\" fill=\"#000000\" fill-rule=\"evenodd\" fill-opacity=\"1\" /><path clip-path=\"url(#clip330)\" d=\"M935.23 1542.97 L940.114 1542.97 L940.114 1548.85 L935.23 1548.85 L935.23 1542.97 Z\" fill=\"#000000\" fill-rule=\"evenodd\" fill-opacity=\"1\" /><path clip-path=\"url(#clip330)\" d=\"M950.345 1514.29 L968.702 1514.29 L968.702 1518.22 L954.628 1518.22 L954.628 1526.7 Q955.646 1526.35 956.665 1526.19 Q957.683 1526 958.702 1526 Q964.489 1526 967.868 1529.17 Q971.248 1532.34 971.248 1537.76 Q971.248 1543.34 967.776 1546.44 Q964.304 1549.52 957.984 1549.52 Q955.808 1549.52 953.54 1549.15 Q951.294 1548.78 948.887 1548.04 L948.887 1543.34 Q950.97 1544.47 953.192 1545.03 Q955.415 1545.58 957.892 1545.58 Q961.896 1545.58 964.234 1543.48 Q966.572 1541.37 966.572 1537.76 Q966.572 1534.15 964.234 1532.04 Q961.896 1529.94 957.892 1529.94 Q956.017 1529.94 954.142 1530.35 Q952.29 1530.77 950.345 1531.65 L950.345 1514.29 Z\" fill=\"#000000\" fill-rule=\"evenodd\" fill-opacity=\"1\" /><path clip-path=\"url(#clip330)\" d=\"M1375.97 1514.29 L1394.32 1514.29 L1394.32 1518.22 L1380.25 1518.22 L1380.25 1526.7 Q1381.27 1526.35 1382.29 1526.19 Q1383.31 1526 1384.32 1526 Q1390.11 1526 1393.49 1529.17 Q1396.87 1532.34 1396.87 1537.76 Q1396.87 1543.34 1393.4 1546.44 Q1389.93 1549.52 1383.61 1549.52 Q1381.43 1549.52 1379.16 1549.15 Q1376.92 1548.78 1374.51 1548.04 L1374.51 1543.34 Q1376.59 1544.47 1378.82 1545.03 Q1381.04 1545.58 1383.51 1545.58 Q1387.52 1545.58 1389.86 1543.48 Q1392.19 1541.37 1392.19 1537.76 Q1392.19 1534.15 1389.86 1532.04 Q1387.52 1529.94 1383.51 1529.94 Q1381.64 1529.94 1379.76 1530.35 Q1377.91 1530.77 1375.97 1531.65 L1375.97 1514.29 Z\" fill=\"#000000\" fill-rule=\"evenodd\" fill-opacity=\"1\" /><path clip-path=\"url(#clip330)\" d=\"M1406.08 1542.97 L1410.97 1542.97 L1410.97 1548.85 L1406.08 1548.85 L1406.08 1542.97 Z\" fill=\"#000000\" fill-rule=\"evenodd\" fill-opacity=\"1\" /><path clip-path=\"url(#clip330)\" d=\"M1431.15 1517.37 Q1427.54 1517.37 1425.71 1520.93 Q1423.91 1524.47 1423.91 1531.6 Q1423.91 1538.71 1425.71 1542.27 Q1427.54 1545.82 1431.15 1545.82 Q1434.79 1545.82 1436.59 1542.27 Q1438.42 1538.71 1438.42 1531.6 Q1438.42 1524.47 1436.59 1520.93 Q1434.79 1517.37 1431.15 1517.37 M1431.15 1513.66 Q1436.96 1513.66 1440.02 1518.27 Q1443.1 1522.85 1443.1 1531.6 Q1443.1 1540.33 1440.02 1544.94 Q1436.96 1549.52 1431.15 1549.52 Q1425.34 1549.52 1422.26 1544.94 Q1419.21 1540.33 1419.21 1531.6 Q1419.21 1522.85 1422.26 1518.27 Q1425.34 1513.66 1431.15 1513.66 Z\" fill=\"#000000\" fill-rule=\"evenodd\" fill-opacity=\"1\" /><path clip-path=\"url(#clip330)\" d=\"M1846.57 1514.29 L1868.79 1514.29 L1868.79 1516.28 L1856.24 1548.85 L1851.36 1548.85 L1863.16 1518.22 L1846.57 1518.22 L1846.57 1514.29 Z\" fill=\"#000000\" fill-rule=\"evenodd\" fill-opacity=\"1\" /><path clip-path=\"url(#clip330)\" d=\"M1877.91 1542.97 L1882.79 1542.97 L1882.79 1548.85 L1877.91 1548.85 L1877.91 1542.97 Z\" fill=\"#000000\" fill-rule=\"evenodd\" fill-opacity=\"1\" /><path clip-path=\"url(#clip330)\" d=\"M1893.03 1514.29 L1911.38 1514.29 L1911.38 1518.22 L1897.31 1518.22 L1897.31 1526.7 Q1898.33 1526.35 1899.35 1526.19 Q1900.36 1526 1901.38 1526 Q1907.17 1526 1910.55 1529.17 Q1913.93 1532.34 1913.93 1537.76 Q1913.93 1543.34 1910.46 1546.44 Q1906.98 1549.52 1900.66 1549.52 Q1898.49 1549.52 1896.22 1549.15 Q1893.97 1548.78 1891.57 1548.04 L1891.57 1543.34 Q1893.65 1544.47 1895.87 1545.03 Q1898.1 1545.58 1900.57 1545.58 Q1904.58 1545.58 1906.91 1543.48 Q1909.25 1541.37 1909.25 1537.76 Q1909.25 1534.15 1906.91 1532.04 Q1904.58 1529.94 1900.57 1529.94 Q1898.7 1529.94 1896.82 1530.35 Q1894.97 1530.77 1893.03 1531.65 L1893.03 1514.29 Z\" fill=\"#000000\" fill-rule=\"evenodd\" fill-opacity=\"1\" /><path clip-path=\"url(#clip330)\" d=\"M2303.76 1544.91 L2311.4 1544.91 L2311.4 1518.55 L2303.09 1520.21 L2303.09 1515.95 L2311.36 1514.29 L2316.03 1514.29 L2316.03 1544.91 L2323.67 1544.91 L2323.67 1548.85 L2303.76 1548.85 L2303.76 1544.91 Z\" fill=\"#000000\" fill-rule=\"evenodd\" fill-opacity=\"1\" /><path clip-path=\"url(#clip330)\" d=\"M2343.12 1517.37 Q2339.5 1517.37 2337.68 1520.93 Q2335.87 1524.47 2335.87 1531.6 Q2335.87 1538.71 2337.68 1542.27 Q2339.5 1545.82 2343.12 1545.82 Q2346.75 1545.82 2348.56 1542.27 Q2350.38 1538.71 2350.38 1531.6 Q2350.38 1524.47 2348.56 1520.93 Q2346.75 1517.37 2343.12 1517.37 M2343.12 1513.66 Q2348.93 1513.66 2351.98 1518.27 Q2355.06 1522.85 2355.06 1531.6 Q2355.06 1540.33 2351.98 1544.94 Q2348.93 1549.52 2343.12 1549.52 Q2337.31 1549.52 2334.23 1544.94 Q2331.17 1540.33 2331.17 1531.6 Q2331.17 1522.85 2334.23 1518.27 Q2337.31 1513.66 2343.12 1513.66 Z\" fill=\"#000000\" fill-rule=\"evenodd\" fill-opacity=\"1\" /><path clip-path=\"url(#clip330)\" d=\"M2363.28 1542.97 L2368.16 1542.97 L2368.16 1548.85 L2363.28 1548.85 L2363.28 1542.97 Z\" fill=\"#000000\" fill-rule=\"evenodd\" fill-opacity=\"1\" /><path clip-path=\"url(#clip330)\" d=\"M2388.35 1517.37 Q2384.74 1517.37 2382.91 1520.93 Q2381.1 1524.47 2381.1 1531.6 Q2381.1 1538.71 2382.91 1542.27 Q2384.74 1545.82 2388.35 1545.82 Q2391.98 1545.82 2393.79 1542.27 Q2395.62 1538.71 2395.62 1531.6 Q2395.62 1524.47 2393.79 1520.93 Q2391.98 1517.37 2388.35 1517.37 M2388.35 1513.66 Q2394.16 1513.66 2397.21 1518.27 Q2400.29 1522.85 2400.29 1531.6 Q2400.29 1540.33 2397.21 1544.94 Q2394.16 1549.52 2388.35 1549.52 Q2382.54 1549.52 2379.46 1544.94 Q2376.4 1540.33 2376.4 1531.6 Q2376.4 1522.85 2379.46 1518.27 Q2382.54 1513.66 2388.35 1513.66 Z\" fill=\"#000000\" fill-rule=\"evenodd\" fill-opacity=\"1\" /><polyline clip-path=\"url(#clip332)\" style=\"stroke:#000000; stroke-linecap:round; stroke-linejoin:round; stroke-width:2; stroke-opacity:0.1; fill:none\" points=\"\n",
       "  276.274,1445.72 2352.76,1445.72 \n",
       "  \"/>\n",
       "<polyline clip-path=\"url(#clip332)\" style=\"stroke:#000000; stroke-linecap:round; stroke-linejoin:round; stroke-width:2; stroke-opacity:0.1; fill:none\" points=\"\n",
       "  276.274,1054.05 2352.76,1054.05 \n",
       "  \"/>\n",
       "<polyline clip-path=\"url(#clip332)\" style=\"stroke:#000000; stroke-linecap:round; stroke-linejoin:round; stroke-width:2; stroke-opacity:0.1; fill:none\" points=\"\n",
       "  276.274,662.389 2352.76,662.389 \n",
       "  \"/>\n",
       "<polyline clip-path=\"url(#clip332)\" style=\"stroke:#000000; stroke-linecap:round; stroke-linejoin:round; stroke-width:2; stroke-opacity:0.1; fill:none\" points=\"\n",
       "  276.274,270.726 2352.76,270.726 \n",
       "  \"/>\n",
       "<polyline clip-path=\"url(#clip330)\" style=\"stroke:#000000; stroke-linecap:round; stroke-linejoin:round; stroke-width:4; stroke-opacity:1; fill:none\" points=\"\n",
       "  276.274,1486.45 276.274,47.2441 \n",
       "  \"/>\n",
       "<polyline clip-path=\"url(#clip330)\" style=\"stroke:#000000; stroke-linecap:round; stroke-linejoin:round; stroke-width:4; stroke-opacity:1; fill:none\" points=\"\n",
       "  276.274,1445.72 295.171,1445.72 \n",
       "  \"/>\n",
       "<polyline clip-path=\"url(#clip330)\" style=\"stroke:#000000; stroke-linecap:round; stroke-linejoin:round; stroke-width:4; stroke-opacity:1; fill:none\" points=\"\n",
       "  276.274,1054.05 295.171,1054.05 \n",
       "  \"/>\n",
       "<polyline clip-path=\"url(#clip330)\" style=\"stroke:#000000; stroke-linecap:round; stroke-linejoin:round; stroke-width:4; stroke-opacity:1; fill:none\" points=\"\n",
       "  276.274,662.389 295.171,662.389 \n",
       "  \"/>\n",
       "<polyline clip-path=\"url(#clip330)\" style=\"stroke:#000000; stroke-linecap:round; stroke-linejoin:round; stroke-width:4; stroke-opacity:1; fill:none\" points=\"\n",
       "  276.274,270.726 295.171,270.726 \n",
       "  \"/>\n",
       "<path clip-path=\"url(#clip330)\" d=\"M228.329 1431.51 Q224.718 1431.51 222.889 1435.08 Q221.084 1438.62 221.084 1445.75 Q221.084 1452.86 222.889 1456.42 Q224.718 1459.96 228.329 1459.96 Q231.963 1459.96 233.769 1456.42 Q235.598 1452.86 235.598 1445.75 Q235.598 1438.62 233.769 1435.08 Q231.963 1431.51 228.329 1431.51 M228.329 1427.81 Q234.139 1427.81 237.195 1432.42 Q240.274 1437 240.274 1445.75 Q240.274 1454.48 237.195 1459.08 Q234.139 1463.67 228.329 1463.67 Q222.519 1463.67 219.44 1459.08 Q216.385 1454.48 216.385 1445.75 Q216.385 1437 219.44 1432.42 Q222.519 1427.81 228.329 1427.81 Z\" fill=\"#000000\" fill-rule=\"evenodd\" fill-opacity=\"1\" /><path clip-path=\"url(#clip330)\" d=\"M53.3995 1073.84 L61.0384 1073.84 L61.0384 1047.48 L52.7282 1049.15 L52.7282 1044.89 L60.9921 1043.22 L65.668 1043.22 L65.668 1073.84 L73.3068 1073.84 L73.3068 1077.78 L53.3995 1077.78 L53.3995 1073.84 Z\" fill=\"#000000\" fill-rule=\"evenodd\" fill-opacity=\"1\" /><path clip-path=\"url(#clip330)\" d=\"M82.7512 1071.9 L87.6354 1071.9 L87.6354 1077.78 L82.7512 1077.78 L82.7512 1071.9 Z\" fill=\"#000000\" fill-rule=\"evenodd\" fill-opacity=\"1\" /><path clip-path=\"url(#clip330)\" d=\"M107.821 1046.3 Q104.209 1046.3 102.381 1049.86 Q100.575 1053.41 100.575 1060.53 Q100.575 1067.64 102.381 1071.21 Q104.209 1074.75 107.821 1074.75 Q111.455 1074.75 113.26 1071.21 Q115.089 1067.64 115.089 1060.53 Q115.089 1053.41 113.26 1049.86 Q111.455 1046.3 107.821 1046.3 M107.821 1042.6 Q113.631 1042.6 116.686 1047.2 Q119.765 1051.78 119.765 1060.53 Q119.765 1069.26 116.686 1073.87 Q113.631 1078.45 107.821 1078.45 Q102.01 1078.45 98.9317 1073.87 Q95.8761 1069.26 95.8761 1060.53 Q95.8761 1051.78 98.9317 1047.2 Q102.01 1042.6 107.821 1042.6 Z\" fill=\"#000000\" fill-rule=\"evenodd\" fill-opacity=\"1\" /><path clip-path=\"url(#clip330)\" d=\"M156.154 1052.32 L145.575 1062.94 L156.154 1073.52 L153.399 1076.32 L142.774 1065.7 L132.149 1076.32 L129.418 1073.52 L139.973 1062.94 L129.418 1052.32 L132.149 1049.52 L142.774 1060.14 L153.399 1049.52 L156.154 1052.32 Z\" fill=\"#000000\" fill-rule=\"evenodd\" fill-opacity=\"1\" /><path clip-path=\"url(#clip330)\" d=\"M168.515 1073.84 L176.153 1073.84 L176.153 1047.48 L167.843 1049.15 L167.843 1044.89 L176.107 1043.22 L180.783 1043.22 L180.783 1073.84 L188.422 1073.84 L188.422 1077.78 L168.515 1077.78 L168.515 1073.84 Z\" fill=\"#000000\" fill-rule=\"evenodd\" fill-opacity=\"1\" /><path clip-path=\"url(#clip330)\" d=\"M207.866 1046.3 Q204.255 1046.3 202.426 1049.86 Q200.621 1053.41 200.621 1060.53 Q200.621 1067.64 202.426 1071.21 Q204.255 1074.75 207.866 1074.75 Q211.501 1074.75 213.306 1071.21 Q215.135 1067.64 215.135 1060.53 Q215.135 1053.41 213.306 1049.86 Q211.501 1046.3 207.866 1046.3 M207.866 1042.6 Q213.676 1042.6 216.732 1047.2 Q219.811 1051.78 219.811 1060.53 Q219.811 1069.26 216.732 1073.87 Q213.676 1078.45 207.866 1078.45 Q202.056 1078.45 198.977 1073.87 Q195.922 1069.26 195.922 1060.53 Q195.922 1051.78 198.977 1047.2 Q202.056 1042.6 207.866 1042.6 Z\" fill=\"#000000\" fill-rule=\"evenodd\" fill-opacity=\"1\" /><path clip-path=\"url(#clip330)\" d=\"M232.487 1025.6 L222.895 1040.59 L232.487 1040.59 L232.487 1025.6 M231.49 1022.29 L236.267 1022.29 L236.267 1040.59 L240.274 1040.59 L240.274 1043.75 L236.267 1043.75 L236.267 1050.37 L232.487 1050.37 L232.487 1043.75 L219.811 1043.75 L219.811 1040.08 L231.49 1022.29 Z\" fill=\"#000000\" fill-rule=\"evenodd\" fill-opacity=\"1\" /><path clip-path=\"url(#clip330)\" d=\"M56.6171 682.182 L72.9365 682.182 L72.9365 686.117 L50.9921 686.117 L50.9921 682.182 Q53.6541 679.427 58.2375 674.797 Q62.8439 670.145 64.0245 668.802 Q66.2698 666.279 67.1494 664.543 Q68.0522 662.784 68.0522 661.094 Q68.0522 658.339 66.1078 656.603 Q64.1865 654.867 61.0847 654.867 Q58.8856 654.867 56.4319 655.631 Q54.0014 656.395 51.2236 657.946 L51.2236 653.224 Q54.0477 652.089 56.5014 651.511 Q58.955 650.932 60.9921 650.932 Q66.3624 650.932 69.5568 653.617 Q72.7513 656.302 72.7513 660.793 Q72.7513 662.923 71.9411 664.844 Q71.1541 666.742 69.0476 669.335 Q68.4689 670.006 65.367 673.223 Q62.2652 676.418 56.6171 682.182 Z\" fill=\"#000000\" fill-rule=\"evenodd\" fill-opacity=\"1\" /><path clip-path=\"url(#clip330)\" d=\"M82.7512 680.237 L87.6354 680.237 L87.6354 686.117 L82.7512 686.117 L82.7512 680.237 Z\" fill=\"#000000\" fill-rule=\"evenodd\" fill-opacity=\"1\" /><path clip-path=\"url(#clip330)\" d=\"M107.821 654.636 Q104.209 654.636 102.381 658.2 Q100.575 661.742 100.575 668.872 Q100.575 675.978 102.381 679.543 Q104.209 683.084 107.821 683.084 Q111.455 683.084 113.26 679.543 Q115.089 675.978 115.089 668.872 Q115.089 661.742 113.26 658.2 Q111.455 654.636 107.821 654.636 M107.821 650.932 Q113.631 650.932 116.686 655.538 Q119.765 660.122 119.765 668.872 Q119.765 677.598 116.686 682.205 Q113.631 686.788 107.821 686.788 Q102.01 686.788 98.9317 682.205 Q95.8761 677.598 95.8761 668.872 Q95.8761 660.122 98.9317 655.538 Q102.01 650.932 107.821 650.932 Z\" fill=\"#000000\" fill-rule=\"evenodd\" fill-opacity=\"1\" /><path clip-path=\"url(#clip330)\" d=\"M156.154 660.654 L145.575 671.279 L156.154 681.858 L153.399 684.659 L142.774 674.034 L132.149 684.659 L129.418 681.858 L139.973 671.279 L129.418 660.654 L132.149 657.853 L142.774 668.478 L153.399 657.853 L156.154 660.654 Z\" fill=\"#000000\" fill-rule=\"evenodd\" fill-opacity=\"1\" /><path clip-path=\"url(#clip330)\" d=\"M168.515 682.182 L176.153 682.182 L176.153 655.816 L167.843 657.483 L167.843 653.224 L176.107 651.557 L180.783 651.557 L180.783 682.182 L188.422 682.182 L188.422 686.117 L168.515 686.117 L168.515 682.182 Z\" fill=\"#000000\" fill-rule=\"evenodd\" fill-opacity=\"1\" /><path clip-path=\"url(#clip330)\" d=\"M207.866 654.636 Q204.255 654.636 202.426 658.2 Q200.621 661.742 200.621 668.872 Q200.621 675.978 202.426 679.543 Q204.255 683.084 207.866 683.084 Q211.501 683.084 213.306 679.543 Q215.135 675.978 215.135 668.872 Q215.135 661.742 213.306 658.2 Q211.501 654.636 207.866 654.636 M207.866 650.932 Q213.676 650.932 216.732 655.538 Q219.811 660.122 219.811 668.872 Q219.811 677.598 216.732 682.205 Q213.676 686.788 207.866 686.788 Q202.056 686.788 198.977 682.205 Q195.922 677.598 195.922 668.872 Q195.922 660.122 198.977 655.538 Q202.056 650.932 207.866 650.932 Z\" fill=\"#000000\" fill-rule=\"evenodd\" fill-opacity=\"1\" /><path clip-path=\"url(#clip330)\" d=\"M232.487 633.937 L222.895 648.926 L232.487 648.926 L232.487 633.937 M231.49 630.626 L236.267 630.626 L236.267 648.926 L240.274 648.926 L240.274 652.086 L236.267 652.086 L236.267 658.706 L232.487 658.706 L232.487 652.086 L219.811 652.086 L219.811 648.419 L231.49 630.626 Z\" fill=\"#000000\" fill-rule=\"evenodd\" fill-opacity=\"1\" /><path clip-path=\"url(#clip330)\" d=\"M66.7559 275.82 Q70.1124 276.537 71.9874 278.806 Q73.8855 281.074 73.8855 284.407 Q73.8855 289.523 70.367 292.324 Q66.8485 295.125 60.3671 295.125 Q58.1912 295.125 55.8764 294.685 Q53.5847 294.268 51.131 293.412 L51.131 288.898 Q53.0754 290.032 55.3903 290.611 Q57.7051 291.19 60.2282 291.19 Q64.6263 291.19 66.918 289.454 Q69.2328 287.718 69.2328 284.407 Q69.2328 281.352 67.08 279.639 Q64.9504 277.903 61.131 277.903 L57.1032 277.903 L57.1032 274.06 L61.3161 274.06 Q64.7652 274.06 66.5939 272.695 Q68.4226 271.306 68.4226 268.713 Q68.4226 266.051 66.5245 264.639 Q64.6495 263.204 61.131 263.204 Q59.2097 263.204 57.0106 263.62 Q54.8115 264.037 52.1727 264.917 L52.1727 260.75 Q54.8347 260.009 57.1495 259.639 Q59.4875 259.269 61.5476 259.269 Q66.8717 259.269 69.9735 261.699 Q73.0753 264.107 73.0753 268.227 Q73.0753 271.097 71.4318 273.088 Q69.7883 275.056 66.7559 275.82 Z\" fill=\"#000000\" fill-rule=\"evenodd\" fill-opacity=\"1\" /><path clip-path=\"url(#clip330)\" d=\"M82.7512 288.574 L87.6354 288.574 L87.6354 294.454 L82.7512 294.454 L82.7512 288.574 Z\" fill=\"#000000\" fill-rule=\"evenodd\" fill-opacity=\"1\" /><path clip-path=\"url(#clip330)\" d=\"M107.821 262.972 Q104.209 262.972 102.381 266.537 Q100.575 270.079 100.575 277.208 Q100.575 284.315 102.381 287.88 Q104.209 291.421 107.821 291.421 Q111.455 291.421 113.26 287.88 Q115.089 284.315 115.089 277.208 Q115.089 270.079 113.26 266.537 Q111.455 262.972 107.821 262.972 M107.821 259.269 Q113.631 259.269 116.686 263.875 Q119.765 268.458 119.765 277.208 Q119.765 285.935 116.686 290.542 Q113.631 295.125 107.821 295.125 Q102.01 295.125 98.9317 290.542 Q95.8761 285.935 95.8761 277.208 Q95.8761 268.458 98.9317 263.875 Q102.01 259.269 107.821 259.269 Z\" fill=\"#000000\" fill-rule=\"evenodd\" fill-opacity=\"1\" /><path clip-path=\"url(#clip330)\" d=\"M156.154 268.991 L145.575 279.616 L156.154 290.194 L153.399 292.995 L142.774 282.37 L132.149 292.995 L129.418 290.194 L139.973 279.616 L129.418 268.991 L132.149 266.19 L142.774 276.815 L153.399 266.19 L156.154 268.991 Z\" fill=\"#000000\" fill-rule=\"evenodd\" fill-opacity=\"1\" /><path clip-path=\"url(#clip330)\" d=\"M168.515 290.518 L176.153 290.518 L176.153 264.153 L167.843 265.82 L167.843 261.56 L176.107 259.894 L180.783 259.894 L180.783 290.518 L188.422 290.518 L188.422 294.454 L168.515 294.454 L168.515 290.518 Z\" fill=\"#000000\" fill-rule=\"evenodd\" fill-opacity=\"1\" /><path clip-path=\"url(#clip330)\" d=\"M207.866 262.972 Q204.255 262.972 202.426 266.537 Q200.621 270.079 200.621 277.208 Q200.621 284.315 202.426 287.88 Q204.255 291.421 207.866 291.421 Q211.501 291.421 213.306 287.88 Q215.135 284.315 215.135 277.208 Q215.135 270.079 213.306 266.537 Q211.501 262.972 207.866 262.972 M207.866 259.269 Q213.676 259.269 216.732 263.875 Q219.811 268.458 219.811 277.208 Q219.811 285.935 216.732 290.542 Q213.676 295.125 207.866 295.125 Q202.056 295.125 198.977 290.542 Q195.922 285.935 195.922 277.208 Q195.922 268.458 198.977 263.875 Q202.056 259.269 207.866 259.269 Z\" fill=\"#000000\" fill-rule=\"evenodd\" fill-opacity=\"1\" /><path clip-path=\"url(#clip330)\" d=\"M232.487 242.273 L222.895 257.263 L232.487 257.263 L232.487 242.273 M231.49 238.963 L236.267 238.963 L236.267 257.263 L240.274 257.263 L240.274 260.423 L236.267 260.423 L236.267 267.043 L232.487 267.043 L232.487 260.423 L219.811 260.423 L219.811 256.755 L231.49 238.963 Z\" fill=\"#000000\" fill-rule=\"evenodd\" fill-opacity=\"1\" /><path clip-path=\"url(#clip332)\" d=\"\n",
       "M390.484 87.9763 L390.484 1445.72 L541.346 1445.72 L541.346 87.9763 L390.484 87.9763 L390.484 87.9763  Z\n",
       "  \" fill=\"#009af9\" fill-rule=\"evenodd\" fill-opacity=\"1\"/>\n",
       "<polyline clip-path=\"url(#clip332)\" style=\"stroke:#000000; stroke-linecap:round; stroke-linejoin:round; stroke-width:4; stroke-opacity:1; fill:none\" points=\"\n",
       "  390.484,87.9763 390.484,1445.72 541.346,1445.72 541.346,87.9763 390.484,87.9763 \n",
       "  \"/>\n",
       "<path clip-path=\"url(#clip332)\" d=\"\n",
       "M579.061 850.636 L579.061 1445.72 L729.924 1445.72 L729.924 850.636 L579.061 850.636 L579.061 850.636  Z\n",
       "  \" fill=\"#009af9\" fill-rule=\"evenodd\" fill-opacity=\"1\"/>\n",
       "<polyline clip-path=\"url(#clip332)\" style=\"stroke:#000000; stroke-linecap:round; stroke-linejoin:round; stroke-width:4; stroke-opacity:1; fill:none\" points=\"\n",
       "  579.061,850.636 579.061,1445.72 729.924,1445.72 729.924,850.636 579.061,850.636 \n",
       "  \"/>\n",
       "<path clip-path=\"url(#clip332)\" d=\"\n",
       "M767.639 279.221 L767.639 1445.72 L918.501 1445.72 L918.501 279.221 L767.639 279.221 L767.639 279.221  Z\n",
       "  \" fill=\"#009af9\" fill-rule=\"evenodd\" fill-opacity=\"1\"/>\n",
       "<polyline clip-path=\"url(#clip332)\" style=\"stroke:#000000; stroke-linecap:round; stroke-linejoin:round; stroke-width:4; stroke-opacity:1; fill:none\" points=\"\n",
       "  767.639,279.221 767.639,1445.72 918.501,1445.72 918.501,279.221 767.639,279.221 \n",
       "  \"/>\n",
       "<path clip-path=\"url(#clip332)\" d=\"\n",
       "M956.217 337.516 L956.217 1445.72 L1107.08 1445.72 L1107.08 337.516 L956.217 337.516 L956.217 337.516  Z\n",
       "  \" fill=\"#009af9\" fill-rule=\"evenodd\" fill-opacity=\"1\"/>\n",
       "<polyline clip-path=\"url(#clip332)\" style=\"stroke:#000000; stroke-linecap:round; stroke-linejoin:round; stroke-width:4; stroke-opacity:1; fill:none\" points=\"\n",
       "  956.217,337.516 956.217,1445.72 1107.08,1445.72 1107.08,337.516 956.217,337.516 \n",
       "  \"/>\n",
       "<path clip-path=\"url(#clip332)\" d=\"\n",
       "M1144.79 495.407 L1144.79 1445.72 L1295.66 1445.72 L1295.66 495.407 L1144.79 495.407 L1144.79 495.407  Z\n",
       "  \" fill=\"#009af9\" fill-rule=\"evenodd\" fill-opacity=\"1\"/>\n",
       "<polyline clip-path=\"url(#clip332)\" style=\"stroke:#000000; stroke-linecap:round; stroke-linejoin:round; stroke-width:4; stroke-opacity:1; fill:none\" points=\"\n",
       "  1144.79,495.407 1144.79,1445.72 1295.66,1445.72 1295.66,495.407 1144.79,495.407 \n",
       "  \"/>\n",
       "<path clip-path=\"url(#clip332)\" d=\"\n",
       "M1333.37 437.591 L1333.37 1445.72 L1484.23 1445.72 L1484.23 437.591 L1333.37 437.591 L1333.37 437.591  Z\n",
       "  \" fill=\"#009af9\" fill-rule=\"evenodd\" fill-opacity=\"1\"/>\n",
       "<polyline clip-path=\"url(#clip332)\" style=\"stroke:#000000; stroke-linecap:round; stroke-linejoin:round; stroke-width:4; stroke-opacity:1; fill:none\" points=\"\n",
       "  1333.37,437.591 1333.37,1445.72 1484.23,1445.72 1484.23,437.591 1333.37,437.591 \n",
       "  \"/>\n",
       "<path clip-path=\"url(#clip332)\" d=\"\n",
       "M1521.95 370.625 L1521.95 1445.72 L1672.81 1445.72 L1672.81 370.625 L1521.95 370.625 L1521.95 370.625  Z\n",
       "  \" fill=\"#009af9\" fill-rule=\"evenodd\" fill-opacity=\"1\"/>\n",
       "<polyline clip-path=\"url(#clip332)\" style=\"stroke:#000000; stroke-linecap:round; stroke-linejoin:round; stroke-width:4; stroke-opacity:1; fill:none\" points=\"\n",
       "  1521.95,370.625 1521.95,1445.72 1672.81,1445.72 1672.81,370.625 1521.95,370.625 \n",
       "  \"/>\n",
       "<path clip-path=\"url(#clip332)\" d=\"\n",
       "M1710.53 548.949 L1710.53 1445.72 L1861.39 1445.72 L1861.39 548.949 L1710.53 548.949 L1710.53 548.949  Z\n",
       "  \" fill=\"#009af9\" fill-rule=\"evenodd\" fill-opacity=\"1\"/>\n",
       "<polyline clip-path=\"url(#clip332)\" style=\"stroke:#000000; stroke-linecap:round; stroke-linejoin:round; stroke-width:4; stroke-opacity:1; fill:none\" points=\"\n",
       "  1710.53,548.949 1710.53,1445.72 1861.39,1445.72 1861.39,548.949 1710.53,548.949 \n",
       "  \"/>\n",
       "<path clip-path=\"url(#clip332)\" d=\"\n",
       "M1899.11 269.975 L1899.11 1445.72 L2049.97 1445.72 L2049.97 269.975 L1899.11 269.975 L1899.11 269.975  Z\n",
       "  \" fill=\"#009af9\" fill-rule=\"evenodd\" fill-opacity=\"1\"/>\n",
       "<polyline clip-path=\"url(#clip332)\" style=\"stroke:#000000; stroke-linecap:round; stroke-linejoin:round; stroke-width:4; stroke-opacity:1; fill:none\" points=\"\n",
       "  1899.11,269.975 1899.11,1445.72 2049.97,1445.72 2049.97,269.975 1899.11,269.975 \n",
       "  \"/>\n",
       "<path clip-path=\"url(#clip332)\" d=\"\n",
       "M2087.68 485.82 L2087.68 1445.72 L2238.55 1445.72 L2238.55 485.82 L2087.68 485.82 L2087.68 485.82  Z\n",
       "  \" fill=\"#009af9\" fill-rule=\"evenodd\" fill-opacity=\"1\"/>\n",
       "<polyline clip-path=\"url(#clip332)\" style=\"stroke:#000000; stroke-linecap:round; stroke-linejoin:round; stroke-width:4; stroke-opacity:1; fill:none\" points=\"\n",
       "  2087.68,485.82 2087.68,1445.72 2238.55,1445.72 2238.55,485.82 2087.68,485.82 \n",
       "  \"/>\n",
       "<circle clip-path=\"url(#clip332)\" style=\"fill:#009af9; stroke:none; fill-opacity:0\" cx=\"465.915\" cy=\"87.9763\" r=\"2\"/>\n",
       "<circle clip-path=\"url(#clip332)\" style=\"fill:#009af9; stroke:none; fill-opacity:0\" cx=\"654.493\" cy=\"850.636\" r=\"2\"/>\n",
       "<circle clip-path=\"url(#clip332)\" style=\"fill:#009af9; stroke:none; fill-opacity:0\" cx=\"843.07\" cy=\"279.221\" r=\"2\"/>\n",
       "<circle clip-path=\"url(#clip332)\" style=\"fill:#009af9; stroke:none; fill-opacity:0\" cx=\"1031.65\" cy=\"337.516\" r=\"2\"/>\n",
       "<circle clip-path=\"url(#clip332)\" style=\"fill:#009af9; stroke:none; fill-opacity:0\" cx=\"1220.23\" cy=\"495.407\" r=\"2\"/>\n",
       "<circle clip-path=\"url(#clip332)\" style=\"fill:#009af9; stroke:none; fill-opacity:0\" cx=\"1408.8\" cy=\"437.591\" r=\"2\"/>\n",
       "<circle clip-path=\"url(#clip332)\" style=\"fill:#009af9; stroke:none; fill-opacity:0\" cx=\"1597.38\" cy=\"370.625\" r=\"2\"/>\n",
       "<circle clip-path=\"url(#clip332)\" style=\"fill:#009af9; stroke:none; fill-opacity:0\" cx=\"1785.96\" cy=\"548.949\" r=\"2\"/>\n",
       "<circle clip-path=\"url(#clip332)\" style=\"fill:#009af9; stroke:none; fill-opacity:0\" cx=\"1974.54\" cy=\"269.975\" r=\"2\"/>\n",
       "<circle clip-path=\"url(#clip332)\" style=\"fill:#009af9; stroke:none; fill-opacity:0\" cx=\"2163.11\" cy=\"485.82\" r=\"2\"/>\n",
       "</svg>\n"
      ]
     },
     "metadata": {},
     "output_type": "display_data"
    }
   ],
   "source": [
    "bar(0:9, l_mean, legend=false)"
   ]
  },
  {
   "cell_type": "markdown",
   "id": "ec8766a0",
   "metadata": {
    "colab_type": "text",
    "id": "sABXrPHwrRCU"
   },
   "source": [
    "As we can see there are some differences in intensity. The digit “1” is the less intense while the digit “0” is the most intense. So this new feature seems to have some predictive value if you wanted to know if say your digit is a “1” or not."
   ]
  },
  {
   "cell_type": "code",
   "execution_count": 5,
   "id": "504bc748",
   "metadata": {},
   "outputs": [
    {
     "data": {
      "text/plain": [
       "(60000, 1)"
      ]
     },
     "metadata": {},
     "output_type": "display_data"
    }
   ],
   "source": [
    "#TODO compute average intensity for each data sample\n",
    "intensity = mean(train_x_flatten, dims=2)\n",
    "size(intensity)"
   ]
  },
  {
   "cell_type": "markdown",
   "id": "498e0421",
   "metadata": {
    "colab_type": "text",
    "id": "xff4VjFerRCn"
   },
   "source": [
    "Some digits are symmetric (1, 3, 8, 0) some are not (2, 4, 5, 6, 9). Creating a new feature capturing this could be useful. Specifically, we calculate $s = -\\frac{s_1 + s_2}{2}$ for each image:\n",
    "- $s_1$: flip the image along y-axis and compute the mean value of result\n",
    "- $s_2$: flip the image along x-axis and compute the mean value of result"
   ]
  },
  {
   "cell_type": "code",
   "execution_count": 6,
   "id": "13b9bbd9",
   "metadata": {},
   "outputs": [
    {
     "data": {
      "text/plain": [
       "(60000,)"
      ]
     },
     "metadata": {},
     "output_type": "display_data"
    }
   ],
   "source": [
    "function compute_symmetry(train_x)\n",
    "    symmetry = []\n",
    "    for i in 1:size(train_x)[1]\n",
    "        img = reshape(train_x[i,:], (28,28))\n",
    "        s1 = mean(abs.(img - reverse(img, dims=1)))\n",
    "        s2 = mean(abs.(img - reverse(img, dims=2)))\n",
    "        s = -0.5 .* (s1 + s2)\n",
    "        append!(symmetry, s)\n",
    "    end\n",
    "    return symmetry\n",
    "end\n",
    "\n",
    "symmetry = compute_symmetry(train_x_flatten)\n",
    "size(symmetry)"
   ]
  },
  {
   "cell_type": "markdown",
   "id": "a8b78faf",
   "metadata": {},
   "source": [
    "Visualize 10 samples in order to illustrate symmetry"
   ]
  },
  {
   "cell_type": "code",
   "execution_count": 7,
   "id": "4b8b85e5",
   "metadata": {},
   "outputs": [
    {
     "data": {
      "text/html": [
       "<table><tbody><tr><td style='text-align:center;vertical-align:middle; margin: 0.5em;border:1px #90999f solid;border-collapse:collapse'><img style='max-width: 100px; max-height:100px;display:inline' src=\"data:image/png;base64,iVBORw0KGgoAAAANSUhEUgAAAHAAAABwCAAAAADji6uXAAAABGdBTUEAALGPC/xhBQAAAAFzUkdCAK7OHOkAAAAgY0hSTQAAeiYAAICEAAD6AAAAgOgAAHUwAADqYAAAOpgAABdwnLpRPAAAARlJREFUaAW9wUtuYgEQwEC35PtfuWfBAiUI3oeMqyQmMYlJTGISk5jEJCYxiUlMYhKTmMQkJjGJSUwuWq4ZfpKYxCQmB5a/JTGJSUw+WL4zvJKYxCQmf2Q4R2ISk5h8MMDy3gDLNRKTmMTkwADLq+FhuEZiEpOYnDA8LE8LDNdJTGISk5jEJCYxuWCA5Wl5Gs6RmMQkJhcNsLxaYDgmMYlJTG4YYHm1wPCZxCQmMblpgOU6iUlMYvKF4WF5WmB4T2ISk5jctNwjMYlJTC5aPhs+k5jEJCYnLceGYxKTmMTkwHLOcI7EJCYxeWM5Z7hGYhKTmPyynDPcIzGJSUwuGr4jMYlJTH4Z/i+JSUxiEpOYxCQmMYlJTGL/AOuLGMQ6CbkDAAAAAElFTkSuQmCC\"></td><td style='text-align:center;vertical-align:middle; margin: 0.5em;border:1px #90999f solid;border-collapse:collapse'><img style='max-width: 100px; max-height:100px;display:inline' src=\"data:image/png;base64,iVBORw0KGgoAAAANSUhEUgAAAHAAAABwCAAAAADji6uXAAAABGdBTUEAALGPC/xhBQAAAAFzUkdCAK7OHOkAAAAgY0hSTQAAeiYAAICEAAD6AAAAgOgAAHUwAADqYAAAOpgAABdwnLpRPAAAAQJJREFUaAW9wUGOg0AQwECP5P9/ufeQU0QgBFhXSUxiEpOYxCQmMYlJTGISk5jEJCYxickNw9bimMQkJjG5aLhGYhKTmFww7BteFp9JTGISkx8M90lMYhKTmMQkJjE5aXiGxCQmMTlh+G7xMrwMsNiSmMQkJl8Mny2ukZjEJCYHhudJTGISkx8s7pOYxCQmJy2eITGJSUx2DP9DYhKTmDxkOEdiEpOYnLA4NmwtPpOYxCQmNw3vFsckJjGJyQ3Du8V3EpOYxOSE4TkSk5jE5AGL8yQmMYnJDYvfSUxiEpMdCxj2La6RmMQkJgcWz5OYxCQmMYlJTGISk5jEJCYxiUlMYn+JIhO/PQpEBAAAAABJRU5ErkJg\"></td><td style='text-align:center;vertical-align:middle; margin: 0.5em;border:1px #90999f solid;border-collapse:collapse'><img style='max-width: 100px; max-height:100px;display:inline' src=\"data:image/png;base64,iVBORw0KGgoAAAANSUhEUgAAAHAAAABwCAAAAADji6uXAAAABGdBTUEAALGPC/xhBQAAAAFzUkdCAK7OHOkAAAAgY0hSTQAAeiYAAICEAAD6AAAAgOgAAHUwAADqYAAAOpgAABdwnLpRPAAAAOFJREFUaAW9wUkOAkEQwLC0lP9/uThwALGOoCe2xCQmMYlJTGISk5jEJCYxiUlMYhKTmMQkJjGJyWbDzeKZxCQmMXkwXC3OITGJSUw2Gr6TmMQkJidZvCYxiUlMYhKTmMTkznA+iUlMYrLJcIzEJCYxiUlMYhKTPwyvLd6TmMQkJgcM+0hMYhKTN4bfLD6TmMQkJncWMHy2eDYcJzGJSUweLM4lMYlJTGISk5jEJCYxiUlMYhKTmMQkJjGJSUxiEpOYxCQmMYlJTGISk5jEZIPFcRKTmMQkJjGJSUxiEpOYxC6wPQvAxfFFGAAAAABJRU5ErkJg\"></td><td style='text-align:center;vertical-align:middle; margin: 0.5em;border:1px #90999f solid;border-collapse:collapse'><img style='max-width: 100px; max-height:100px;display:inline' src=\"data:image/png;base64,iVBORw0KGgoAAAANSUhEUgAAAHAAAABwCAAAAADji6uXAAAABGdBTUEAALGPC/xhBQAAAAFzUkdCAK7OHOkAAAAgY0hSTQAAeiYAAICEAAD6AAAAgOgAAHUwAADqYAAAOpgAABdwnLpRPAAAAOVJREFUaAW9wUFqwDAQwEAZ9P8vb88lpYkToxmJSUxiEpOYxCQmMYlJTGISk5jEJCYxiUlMYhKTQ4bfFn+TmMQkJgcMz0lMYhKTmMQkJjH5aNgjMYlJTD4Yrhb/k5jEJCYHLe5JTGISk5eGdyQmMYnJC8PV4hmJSUxiEpOYxCQmm4arxXMSk5jEZMNwtdgjMYlJTGISk5jE5KHharFPYhKTmMQkJjGJyUuLdyQmMYnJA8M5EpOYxOTGcJbEJCYx2bT4RmISk5jEJCYxiUlMYhKTmNxYnCUxiUlMYhKTmMQkJjGJSewHh+wMwBjFURMAAAAASUVORK5C\"></td><td style='text-align:center;vertical-align:middle; margin: 0.5em;border:1px #90999f solid;border-collapse:collapse'><img style='max-width: 100px; max-height:100px;display:inline' src=\"data:image/png;base64,iVBORw0KGgoAAAANSUhEUgAAAHAAAABwCAAAAADji6uXAAAABGdBTUEAALGPC/xhBQAAAAFzUkdCAK7OHOkAAAAgY0hSTQAAeiYAAICEAAD6AAAAgOgAAHUwAADqYAAAOpgAABdwnLpRPAAAAQFJREFUaAW9wUGO20AQwEA2wP9/uXPYQxA4tqVZgVUSk5jEJCYxiUlMYhKTmMQkJjGJSUxiEpOYxCQmMYlJTGISk5jEJCY3Ld8N70lMYhKTG5bfk5jEJCYXLM+RmMQkJoeGH8s9EpOYxOSL5dXw3vCZxCQmMflgeTX8WF4N30lMYhKTN5Z/DX8t5yQmMYnJRctnwzUSk5jE5AHDdRKTmMTkjQGW50lMYhKTD4b/W85JTGISk5jEJCYxOTDAckZiEpOYHFjOSUxiEpOYxCQmMYlJTGISkwMDLGckJjGJyQMWGK6RmMQkJg9ZYPhOYhKTmBwaYLlPYhKTmPzCcJ/EJCaxP4awE8CyhygFAAAAAElFTkSuQmCC\"></td><td style='text-align:center;vertical-align:middle; margin: 0.5em;border:1px #90999f solid;border-collapse:collapse'><img style='max-width: 100px; max-height:100px;display:inline' src=\"data:image/png;base64,iVBORw0KGgoAAAANSUhEUgAAAHAAAABwCAAAAADji6uXAAAABGdBTUEAALGPC/xhBQAAAAFzUkdCAK7OHOkAAAAgY0hSTQAAeiYAAICEAAD6AAAAgOgAAHUwAADqYAAAOpgAABdwnLpRPAAAAQ1JREFUaAW9wTFywgAQwEDdjP7/5UuRggIbjEm0KzGJSUxiEpOYxCQmMYlJTGISk5jEJCYxiUlMYvKF5dnwmsQkJjG5YblPYhKTmHxgeW+B4ZzEJCYxuWD5OxKTmMTkSwMs10lMYhKTLwyfk5jEJCY3DPdJTGISkwuGvyMxiUlMbljuk5jEJCYXLdcMr0lMYhKTN5bPLDCck5jEJCYvLMcGWM4tMByTmMQkJieWYwMs7y0Pw4PEJCYxObAcG2B5NsByjcQkJjH5wPJs+DU8LOckJjGJyReGY8M5iUlMYnLTcI/EJCYx+cDwPYlJTGJyYPg/EpOYxCQmMYlJTGISk5jEJCYxiUlMYhKTmMR+AEzLFsHwL8oLAAAAAElFTkSuQmCC\"></td><td style='text-align:center;vertical-align:middle; margin: 0.5em;border:1px #90999f solid;border-collapse:collapse'><img style='max-width: 100px; max-height:100px;display:inline' src=\"data:image/png;base64,iVBORw0KGgoAAAANSUhEUgAAAHAAAABwCAAAAADji6uXAAAABGdBTUEAALGPC/xhBQAAAAFzUkdCAK7OHOkAAAAgY0hSTQAAeiYAAICEAAD6AAAAgOgAAHUwAADqYAAAOpgAABdwnLpRPAAAANlJREFUaAW9wbFtBDEABDEKmP5blmNH/vszlsxYxjKWsYxlLGMZy1jGMpaxjGUsYxnLQ9dvxzMZy1jG8sD1XsYylrGMZSxjGcsDB9c7GctYxvLA9V7GMpaxvHRxfC5jGctYHji43slYxjKWhw6u72UsYxnLWMYylrGMZSxjGctYxjKWsYxlLGMZy1jGMpax/IOL4zMZy1jGMpaxjGUsYxnLWMbyhYPrt4vjbxnLWMYylrGMZSxjGctYxjKWsYxlLF86vpOxjGUsYxnLWMYylrGMZSxjGctYxn4A32YLwPT9QrYAAAAASUVORK5C\"></td><td style='text-align:center;vertical-align:middle; margin: 0.5em;border:1px #90999f solid;border-collapse:collapse'><img style='max-width: 100px; max-height:100px;display:inline' src=\"data:image/png;base64,iVBORw0KGgoAAAANSUhEUgAAAHAAAABwCAAAAADji6uXAAAABGdBTUEAALGPC/xhBQAAAAFzUkdCAK7OHOkAAAAgY0hSTQAAeiYAAICEAAD6AAAAgOgAAHUwAADqYAAAOpgAABdwnLpRPAAAAP9JREFUaAW9wVFOwzAUAMG1tPe/8uMTIRJqp2VnJCYxiUlMYhKTmMQkJjGJSUxiEpOYxCQmMYlJTA4M+xbXJCYxicmG4dwAi98kJjGJSUxiEpOYxCQmMYnJA4ufhn0Sk5jEZMPi3OKaxCQmMXnTcEZiEpOYPDQ8IzGJSUw2DGcW9yQmMYnJC8O+xWsSk5jE5IMGWPxNYhKTmLywgOFzJCYxicmGxb3hjMQkJjGJSUxiEpMbw7fFteGcxCQmMbkw/G14TmISk5hsGPYsXpOYxCQmH7LYIzGJSUzetDgjMYlJTC4sYLi3eE5iEpOY3Fj8D4lJTGISk5jEJCYxiUlMYl/UrBLBewH0uQAAAABJRU5ErkJg\"></td><td style='text-align:center;vertical-align:middle; margin: 0.5em;border:1px #90999f solid;border-collapse:collapse'><img style='max-width: 100px; max-height:100px;display:inline' src=\"data:image/png;base64,iVBORw0KGgoAAAANSUhEUgAAAHAAAABwCAAAAADji6uXAAAABGdBTUEAALGPC/xhBQAAAAFzUkdCAK7OHOkAAAAgY0hSTQAAeiYAAICEAAD6AAAAgOgAAHUwAADqYAAAOpgAABdwnLpRPAAAAMhJREFUaAW9wbENwDAMwDAZ0P8vu2PXJgVESkxiEpOYxCQmMYlJTGISk5jEJCYxiUlMYhKTmBxaXsM5iUlMYvLDAsMZiUlMYhKTmMQkJjGJSUxiEpOYxCQmMYlJTGISk5jEJCaHBljuSUxiEpOYxCQmMYlJTGISk5jEJCYxiUlMYhKTnxYYvpOYxCQmMYlJTGJyYYDljsQkJjGJSUxiEpOYxCQmMYlJTGISk5jEJCYxiUlMYhKTS8MdiUlMYhKTmMQkJjGJSUxiD80uBsIuYeKkAAAAAElFTkSuQmCC\"></td><td style='text-align:center;vertical-align:middle; margin: 0.5em;border:1px #90999f solid;border-collapse:collapse'><img style='max-width: 100px; max-height:100px;display:inline' src=\"data:image/png;base64,iVBORw0KGgoAAAANSUhEUgAAAHAAAABwCAAAAADji6uXAAAABGdBTUEAALGPC/xhBQAAAAFzUkdCAK7OHOkAAAAgY0hSTQAAeiYAAICEAAD6AAAAgOgAAHUwAADqYAAAOpgAABdwnLpRPAAAAQhJREFUaAW9wUmKw1AUwEA90P2v/HvRi2DieAiOqiQmMYlJTGISk5jEJCYxiUlMYhKTmMTkRxb/hi2JSUxi8gOLzyQmMYnJwxbHJCYxickPDe8kJjGJyU2Ll2FrcU5iEpOY/MiwT2ISk5g8ZHGNxCQmMblhsW9xncQkJjG5aLE17BuOSUxiEpMLFlvDy+IeiUlMYnJgsW+xbzgnMYlJTB4yXCMxiUlMPljcs/g3HJOYxCQmFwwvi8+GcxKTmMTkxPAsiUlMYvLB8G6xNdwnMYlJTGISk5jE5KLF1vAdiUlMYvKF4XsSk5jEJCYxiUlMLhqeITGJSUxiEpOYxCQmMYlJTGISk5jE/gCVNBPB/mKP8wAAAABJRU5ErkJg\"></td></tr></tbody></table><div><small>(a vector displayed as a row to save space)</small></div>"
      ],
      "text/plain": [
       "10-element Vector{Base.ReinterpretArray{Gray{Float32}, 2, Float32, Matrix{Float32}, true}}:\n",
       " [Gray{Float32}(0.0f0) Gray{Float32}(0.0f0) … Gray{Float32}(0.0f0) Gray{Float32}(0.0f0); Gray{Float32}(0.0f0) Gray{Float32}(0.0f0) … Gray{Float32}(0.0f0) Gray{Float32}(0.0f0); … ; Gray{Float32}(0.0f0) Gray{Float32}(0.0f0) … Gray{Float32}(0.0f0) Gray{Float32}(0.0f0); Gray{Float32}(0.0f0) Gray{Float32}(0.0f0) … Gray{Float32}(0.0f0) Gray{Float32}(0.0f0)]\n",
       " [Gray{Float32}(0.0f0) Gray{Float32}(0.0f0) … Gray{Float32}(0.0f0) Gray{Float32}(0.0f0); Gray{Float32}(0.0f0) Gray{Float32}(0.0f0) … Gray{Float32}(0.0f0) Gray{Float32}(0.0f0); … ; Gray{Float32}(0.0f0) Gray{Float32}(0.0f0) … Gray{Float32}(0.0f0) Gray{Float32}(0.0f0); Gray{Float32}(0.0f0) Gray{Float32}(0.0f0) … Gray{Float32}(0.0f0) Gray{Float32}(0.0f0)]\n",
       " [Gray{Float32}(0.0f0) Gray{Float32}(0.0f0) … Gray{Float32}(0.0f0) Gray{Float32}(0.0f0); Gray{Float32}(0.0f0) Gray{Float32}(0.0f0) … Gray{Float32}(0.0f0) Gray{Float32}(0.0f0); … ; Gray{Float32}(0.0f0) Gray{Float32}(0.0f0) … Gray{Float32}(0.0f0) Gray{Float32}(0.0f0); Gray{Float32}(0.0f0) Gray{Float32}(0.0f0) … Gray{Float32}(0.0f0) Gray{Float32}(0.0f0)]\n",
       " [Gray{Float32}(0.0f0) Gray{Float32}(0.0f0) … Gray{Float32}(0.0f0) Gray{Float32}(0.0f0); Gray{Float32}(0.0f0) Gray{Float32}(0.0f0) … Gray{Float32}(0.0f0) Gray{Float32}(0.0f0); … ; Gray{Float32}(0.0f0) Gray{Float32}(0.0f0) … Gray{Float32}(0.0f0) Gray{Float32}(0.0f0); Gray{Float32}(0.0f0) Gray{Float32}(0.0f0) … Gray{Float32}(0.0f0) Gray{Float32}(0.0f0)]\n",
       " [Gray{Float32}(0.0f0) Gray{Float32}(0.0f0) … Gray{Float32}(0.0f0) Gray{Float32}(0.0f0); Gray{Float32}(0.0f0) Gray{Float32}(0.0f0) … Gray{Float32}(0.0f0) Gray{Float32}(0.0f0); … ; Gray{Float32}(0.0f0) Gray{Float32}(0.0f0) … Gray{Float32}(0.0f0) Gray{Float32}(0.0f0); Gray{Float32}(0.0f0) Gray{Float32}(0.0f0) … Gray{Float32}(0.0f0) Gray{Float32}(0.0f0)]\n",
       " [Gray{Float32}(0.0f0) Gray{Float32}(0.0f0) … Gray{Float32}(0.0f0) Gray{Float32}(0.0f0); Gray{Float32}(0.0f0) Gray{Float32}(0.0f0) … Gray{Float32}(0.0f0) Gray{Float32}(0.0f0); … ; Gray{Float32}(0.0f0) Gray{Float32}(0.0f0) … Gray{Float32}(0.0f0) Gray{Float32}(0.0f0); Gray{Float32}(0.0f0) Gray{Float32}(0.0f0) … Gray{Float32}(0.0f0) Gray{Float32}(0.0f0)]\n",
       " [Gray{Float32}(0.0f0) Gray{Float32}(0.0f0) … Gray{Float32}(0.0f0) Gray{Float32}(0.0f0); Gray{Float32}(0.0f0) Gray{Float32}(0.0f0) … Gray{Float32}(0.0f0) Gray{Float32}(0.0f0); … ; Gray{Float32}(0.0f0) Gray{Float32}(0.0f0) … Gray{Float32}(0.0f0) Gray{Float32}(0.0f0); Gray{Float32}(0.0f0) Gray{Float32}(0.0f0) … Gray{Float32}(0.0f0) Gray{Float32}(0.0f0)]\n",
       " [Gray{Float32}(0.0f0) Gray{Float32}(0.0f0) … Gray{Float32}(0.0f0) Gray{Float32}(0.0f0); Gray{Float32}(0.0f0) Gray{Float32}(0.0f0) … Gray{Float32}(0.0f0) Gray{Float32}(0.0f0); … ; Gray{Float32}(0.0f0) Gray{Float32}(0.0f0) … Gray{Float32}(0.0f0) Gray{Float32}(0.0f0); Gray{Float32}(0.0f0) Gray{Float32}(0.0f0) … Gray{Float32}(0.0f0) Gray{Float32}(0.0f0)]\n",
       " [Gray{Float32}(0.0f0) Gray{Float32}(0.0f0) … Gray{Float32}(0.0f0) Gray{Float32}(0.0f0); Gray{Float32}(0.0f0) Gray{Float32}(0.0f0) … Gray{Float32}(0.0f0) Gray{Float32}(0.0f0); … ; Gray{Float32}(0.0f0) Gray{Float32}(0.0f0) … Gray{Float32}(0.0f0) Gray{Float32}(0.0f0); Gray{Float32}(0.0f0) Gray{Float32}(0.0f0) … Gray{Float32}(0.0f0) Gray{Float32}(0.0f0)]\n",
       " [Gray{Float32}(0.0f0) Gray{Float32}(0.0f0) … Gray{Float32}(0.0f0) Gray{Float32}(0.0f0); Gray{Float32}(0.0f0) Gray{Float32}(0.0f0) … Gray{Float32}(0.0f0) Gray{Float32}(0.0f0); … ; Gray{Float32}(0.0f0) Gray{Float32}(0.0f0) … Gray{Float32}(0.0f0) Gray{Float32}(0.0f0); Gray{Float32}(0.0f0) Gray{Float32}(0.0f0) … Gray{Float32}(0.0f0) Gray{Float32}(0.0f0)]"
      ]
     },
     "metadata": {},
     "output_type": "display_data"
    }
   ],
   "source": [
    "num_img = 10\n",
    "img_flat = train_x_flatten[1:num_img,:]\n",
    "img = [reshape(img_flat[i,:], (28,28))' for i in 1:num_img]\n",
    "[colorview(Gray, Float32.(img[i])) for i in 1:num_img]"
   ]
  },
  {
   "cell_type": "code",
   "execution_count": 8,
   "id": "9710ae50",
   "metadata": {},
   "outputs": [
    {
     "data": {
      "text/html": [
       "<table><tbody><tr><td style='text-align:center;vertical-align:middle; margin: 0.5em;border:1px #90999f solid;border-collapse:collapse'><img style='max-width: 100px; max-height:100px;display:inline' src=\"data:image/png;base64,iVBORw0KGgoAAAANSUhEUgAAAHAAAABwCAAAAADji6uXAAAABGdBTUEAALGPC/xhBQAAAAFzUkdCAK7OHOkAAAAgY0hSTQAAeiYAAICEAAD6AAAAgOgAAHUwAADqYAAAOpgAABdwnLpRPAAAARhJREFUaAW9wUFOwwAQwECv5P9/eTn0UAElTVLhGYlJTGISk5jEJCYxiUlMYhKTDy3Hhu8kJjGJyU3LPRKTmMTkouWc4TWJSUxictJyznBMYhKTmJywvDecIzGJSUzeWI4N10hMYhKTA8vfhnskJjGJyQXD5yQmMYnJgQGWp+VhuE9iEpOY3LDAcI/EJCYxeWOA5bcFhuskJjGJyQkDLL8tMFwjMYlJTE4anpanBYbzJCYxiUlMYhKTmNwwwPK0PAzvSUxiEpOTlocBltcWGI5JTGISk4uWYwsMf5OYxCQmLyz/R2ISk5j8sHxmOCYxiUlMPjRcIzGJSUx+GP6XxCQmMYlJTGISk5jEJCYxiUlMYhKTmMQkJrEvpmAawI0E0F8AAAAASUVORK5C\"></td><td style='text-align:center;vertical-align:middle; margin: 0.5em;border:1px #90999f solid;border-collapse:collapse'><img style='max-width: 100px; max-height:100px;display:inline' src=\"data:image/png;base64,iVBORw0KGgoAAAANSUhEUgAAAHAAAABwCAAAAADji6uXAAAABGdBTUEAALGPC/xhBQAAAAFzUkdCAK7OHOkAAAAgY0hSTQAAeiYAAICEAAD6AAAAgOgAAHUwAADqYAAAOpgAABdwnLpRPAAAAQNJREFUaAW9wTFuw0AQwEAuwP9/+VK4CixZylnhjMQkJjGJSUxiEpOYxCQmMYlJTGISk5hsWpwbzklMYhKTDYvPFjAck5jEJCZ/sPiexCQmMblh8RyJSUxismE4trgmMYlJTC4sfhu+IzGJSUxOLN4N35OYxCQmBxbvhs8W90hMYhKTC8OzJCYxick/GM5JTGISkwcs7pOYxCQmmxZ7JCYxicnDhs8kJjGJyU2La8M1iUlMYnJggMXL4p7hHolJTGLygOE+iUlMYhKTmMQkJl8Y/k5iEpOYnBheFseGPRKTmMRkw7BPYhKTmFwYniUxiUlMYhKTmMQkJjGJSUxiEpOYxH4A58URw47uoDUAAAAASUVORK5C\"></td><td style='text-align:center;vertical-align:middle; margin: 0.5em;border:1px #90999f solid;border-collapse:collapse'><img style='max-width: 100px; max-height:100px;display:inline' src=\"data:image/png;base64,iVBORw0KGgoAAAANSUhEUgAAAHAAAABwCAAAAADji6uXAAAABGdBTUEAALGPC/xhBQAAAAFzUkdCAK7OHOkAAAAgY0hSTQAAeiYAAICEAAD6AAAAgOgAAHUwAADqYAAAOpgAABdwnLpRPAAAAOBJREFUaAW9wUEOglAUwMC+pPe/8ndJSBBFoTMSk5jEJCYxiUlMYhKTmMQkJh8sNsP/JCYxiUlMYhKTmMQkJjGJSUxiEpOYxCQmMYlJTGISk5jEJCYxiUlMYhKTmPxpcW7Yk5jEJCYXLK5bwLCRmMQkJicW1wybxTGJSUxi8oPhdxKTmMTkjcXecA+JSUxiEpOYxCQmXxjuIzGJSUweNuxJTGISk5jEJCYxObB4jsQkJjH5YLiXxCQmMXnIcExiEpOYHBieIzGJSUxiEpOYxCQmMYlJTGISk5jEJCYxiUnsBR1SCcScxkxGAAAAAElFTkSuQmCC\"></td><td style='text-align:center;vertical-align:middle; margin: 0.5em;border:1px #90999f solid;border-collapse:collapse'><img style='max-width: 100px; max-height:100px;display:inline' src=\"data:image/png;base64,iVBORw0KGgoAAAANSUhEUgAAAHAAAABwCAAAAADji6uXAAAABGdBTUEAALGPC/xhBQAAAAFzUkdCAK7OHOkAAAAgY0hSTQAAeiYAAICEAAD6AAAAgOgAAHUwAADqYAAAOpgAABdwnLpRPAAAAOZJREFUaAW9wUGOg0AQwEC35P9/eXKO2GxgIK6SmMQkJjGJSUxiEpOYxCQmMblp8W74n8QkJjGJSUxiEpOYxCQmMdm02CMxiUlMHjR8JzGJSUweMpwjMYlJTDYs9klMYhKTmMQkJjG5aHE0nCcxiUlMYhKTmMTkgsXRcI3EJCYxOWlxNFwnMYlJTGISk5jE5ITF0bBHYhKTmGwY9klMYhKTLxbPkpjEJCYfLP423CMxiUlMLhjuk5jEJCYxiUlMYnLS8AyJSUxi8sHwGxKTmMQkJjGJSUxiEpOYxCQmMYlJTGISk5jEXvC3CsSgEMRuAAAAAElFTkSuQmCC\"></td><td style='text-align:center;vertical-align:middle; margin: 0.5em;border:1px #90999f solid;border-collapse:collapse'><img style='max-width: 100px; max-height:100px;display:inline' src=\"data:image/png;base64,iVBORw0KGgoAAAANSUhEUgAAAHAAAABwCAAAAADji6uXAAAABGdBTUEAALGPC/xhBQAAAAFzUkdCAK7OHOkAAAAgY0hSTQAAeiYAAICEAAD6AAAAgOgAAHUwAADqYAAAOpgAABdwnLpRPAAAAQFJREFUaAW9wUluwwAMwEAK4P+/rB56KIJsjp1yRmISk5jE5IDl1nCexCQmMTlhgeEciUlMYnLAAMt3SExiEpODBliuk5jEJCYnLTB8TmISk5jEJCYxiUlMYhKTmJw0nCMxiUlMTlpg+JzEJCYxiUlMYhKTC5bHhuckJjGJyT9YYHhMYhKTmBy0fIfEJCYxOWB5bPizHCMxiUlMThp+LfeG5yQmMYnJG8ut4c9yb3hNYhKTmLywPLfcG96TmMQkJh9arpGYxCQmXzAcJzGJSUwuGj4jMYlJTF4Yvk9iEpOYxCQmMYlJTGISk5jEJCYxiUlMYhKTmMQkJjGJSUxiEpPYD9T9EsLiq5gXAAAAAElFTkSuQmCC\"></td><td style='text-align:center;vertical-align:middle; margin: 0.5em;border:1px #90999f solid;border-collapse:collapse'><img style='max-width: 100px; max-height:100px;display:inline' src=\"data:image/png;base64,iVBORw0KGgoAAAANSUhEUgAAAHAAAABwCAAAAADji6uXAAAABGdBTUEAALGPC/xhBQAAAAFzUkdCAK7OHOkAAAAgY0hSTQAAeiYAAICEAAD6AAAAgOgAAHUwAADqYAAAOpgAABdwnLpRPAAAAQ1JREFUaAW9wUFuwgAQwECv5P9/eXtsEZAmAXlGYhKTmMQkJjGJSUxiEpOYxCQmMYlJTGISk5jE5AuW14ZnEpOYxOSm5R6JSUxicsNyn8QkJjH5Y3k0PFs+IzGJSUwOLL8GWJ4NsJwnMYlJTE5ang2wvDa8JjGJSUz+GH4txwZYXhvek5jEJCZvDLC8t7w2HJOYxCQmBwZYzhnOkZjEJCYHlmPDdRKTmMTkguFzEpOYxOQDy6PhfxKTmMTkhuU+iUlMYnLR8hmJSUxicsHyOYlJTGLyBcN5EpOYxOTAAMt7w3USk5jE5IbhPolJTGLyj+G7JCYxiUlMYhKTmMQkJjGJSUxiEpOYxCQmMYn9AInrFsHOe5wjAAAAAElFTkSuQmCC\"></td><td style='text-align:center;vertical-align:middle; margin: 0.5em;border:1px #90999f solid;border-collapse:collapse'><img style='max-width: 100px; max-height:100px;display:inline' src=\"data:image/png;base64,iVBORw0KGgoAAAANSUhEUgAAAHAAAABwCAAAAADji6uXAAAABGdBTUEAALGPC/xhBQAAAAFzUkdCAK7OHOkAAAAgY0hSTQAAeiYAAICEAAD6AAAAgOgAAHUwAADqYAAAOpgAABdwnLpRPAAAANdJREFUaAW9wTFqwEAABDEdzP+/fKlDGjuGlTKWsYxlLGMZy1jGMpaxjGUsYxnLWMbywPXX8T8Zy1jGMpaxjGUsYxnLWMYylrGMZSwPHFy/XRzvZSxjGctYxjKWsYxlLGMZy0MH13cZy1jGMpaxjGUsYxnLWMYylrGMZSxjGctYxjKWsYxlLB9cHO9kLGMZy0cXx3MZy1jG8sLB9U3GMpaxfHS8k7GMZSwfXRzPZSxjGctYxjKWsXx0vJOxjGUsLx3fZCxjGctYxjKWsYxlLGMZy1jGMpaxH7YvCcTh0WjRAAAAAElFTkSuQmCC\"></td><td style='text-align:center;vertical-align:middle; margin: 0.5em;border:1px #90999f solid;border-collapse:collapse'><img style='max-width: 100px; max-height:100px;display:inline' src=\"data:image/png;base64,iVBORw0KGgoAAAANSUhEUgAAAHAAAABwCAAAAADji6uXAAAABGdBTUEAALGPC/xhBQAAAAFzUkdCAK7OHOkAAAAgY0hSTQAAeiYAAICEAAD6AAAAgOgAAHUwAADqYAAAOpgAABdwnLpRPAAAAP5JREFUaAW9wUFuhEAQwEC35P9/eXJeBXYgEFdJTGISk5jEJCYxiUlMYhKTmDywODcck5jEJCY3La5ZwPCbxCQmMblo8Q6JSUxicsHiPRKTmMRkY3Fu+LTYk5jEJCZ/MOwNxyQmMYnJTcO5YU9iEpOYxCQmMYnJTYtzw57EJCYxedEChu8kJjGJycYAi/dITGISky8W9wx7EpOYxOTE4rvhbyQmMYnJTcMzEpOYxOSG4TmJSUxicmBxzeLTsCcxiUlMblg8JzGJSUxiEpOYxCQmMYlJTA4MsLhuuE5iEpOYnBj+h8QkJjGJSUxiEpOYxCQmMYlJTGISk5jEJCaxH7x5EcMRGDWnAAAAAElFTkSuQmCC\"></td><td style='text-align:center;vertical-align:middle; margin: 0.5em;border:1px #90999f solid;border-collapse:collapse'><img style='max-width: 100px; max-height:100px;display:inline' src=\"data:image/png;base64,iVBORw0KGgoAAAANSUhEUgAAAHAAAABwCAAAAADji6uXAAAABGdBTUEAALGPC/xhBQAAAAFzUkdCAK7OHOkAAAAgY0hSTQAAeiYAAICEAAD6AAAAgOgAAHUwAADqYAAAOpgAABdwnLpRPAAAAMhJREFUaAW9wbENA0EMwDAZ0P4rO2Xq8wMiJSYxiUlMYhKTmMQkJjGJSUweLH/DjcQkJjGJSUxiEpOYxCQmMYlJTGISk5jEJCYxiUlMYhKTowWGdxKTmMQkJjGJSUweDLB8IzGJSUxiEpOYxCQmMYlJTGISk5jEJCYxiUlMPlhgeCMxiUlMYhKTmMQkJjGJSUxiEpOYxCQmMYlJTGISk5jE5NEAy53EJCYxORjuJCYxiUlMYhKTmMQkJjGJSUxiEpOYxCQmMYn9AFyNBsLNRdQsAAAAAElFTkSuQmCC\"></td><td style='text-align:center;vertical-align:middle; margin: 0.5em;border:1px #90999f solid;border-collapse:collapse'><img style='max-width: 100px; max-height:100px;display:inline' src=\"data:image/png;base64,iVBORw0KGgoAAAANSUhEUgAAAHAAAABwCAAAAADji6uXAAAABGdBTUEAALGPC/xhBQAAAAFzUkdCAK7OHOkAAAAgY0hSTQAAeiYAAICEAAD6AAAAgOgAAHUwAADqYAAAOpgAABdwnLpRPAAAAQhJREFUaAW9wUFuwkAQAMEeqf//5c0hB2SC8UKgqyQmMYlJTGISk5jEJCYxiUlMYhKTmMTkHxY3wx6JSUxiEpOYxCQmb1q8R2ISk5i8YXE07JOYxCQmMYlJTGKyYXFuOFr8Gh6TmMQkJh+0uCYxiUlMLiyeW7xGYhKTmFwYfi32DeckJjGJyYbF50hMYhKTC4uj4WZxNFyTmMQkJi8YbhZHwx6JSUxicmJxbnE07JOYxCQmm4bHhtdITGISkw3D50hMYhKTBxbfIzGJSUwuDH8N75OYxCQmdxbfJTGJSUyeGD5PYhKTmJwYvkNiEpOY3Bm+S2ISk5jEJCYxiUlMYhKTmMQkJjGJ/QCSfxLDf5alBwAAAABJRU5ErkJg\"></td></tr></tbody></table><div><small>(a vector displayed as a row to save space)</small></div>"
      ],
      "text/plain": [
       "10-element Vector{Base.ReinterpretArray{Gray{Float32}, 2, Float32, Matrix{Float32}, true}}:\n",
       " [Gray{Float32}(0.0f0) Gray{Float32}(0.0f0) … Gray{Float32}(0.0f0) Gray{Float32}(0.0f0); Gray{Float32}(0.0f0) Gray{Float32}(0.0f0) … Gray{Float32}(0.0f0) Gray{Float32}(0.0f0); … ; Gray{Float32}(0.0f0) Gray{Float32}(0.0f0) … Gray{Float32}(0.0f0) Gray{Float32}(0.0f0); Gray{Float32}(0.0f0) Gray{Float32}(0.0f0) … Gray{Float32}(0.0f0) Gray{Float32}(0.0f0)]\n",
       " [Gray{Float32}(0.0f0) Gray{Float32}(0.0f0) … Gray{Float32}(0.0f0) Gray{Float32}(0.0f0); Gray{Float32}(0.0f0) Gray{Float32}(0.0f0) … Gray{Float32}(0.0f0) Gray{Float32}(0.0f0); … ; Gray{Float32}(0.0f0) Gray{Float32}(0.0f0) … Gray{Float32}(0.0f0) Gray{Float32}(0.0f0); Gray{Float32}(0.0f0) Gray{Float32}(0.0f0) … Gray{Float32}(0.0f0) Gray{Float32}(0.0f0)]\n",
       " [Gray{Float32}(0.0f0) Gray{Float32}(0.0f0) … Gray{Float32}(0.0f0) Gray{Float32}(0.0f0); Gray{Float32}(0.0f0) Gray{Float32}(0.0f0) … Gray{Float32}(0.0f0) Gray{Float32}(0.0f0); … ; Gray{Float32}(0.0f0) Gray{Float32}(0.0f0) … Gray{Float32}(0.0f0) Gray{Float32}(0.0f0); Gray{Float32}(0.0f0) Gray{Float32}(0.0f0) … Gray{Float32}(0.0f0) Gray{Float32}(0.0f0)]\n",
       " [Gray{Float32}(0.0f0) Gray{Float32}(0.0f0) … Gray{Float32}(0.0f0) Gray{Float32}(0.0f0); Gray{Float32}(0.0f0) Gray{Float32}(0.0f0) … Gray{Float32}(0.0f0) Gray{Float32}(0.0f0); … ; Gray{Float32}(0.0f0) Gray{Float32}(0.0f0) … Gray{Float32}(0.0f0) Gray{Float32}(0.0f0); Gray{Float32}(0.0f0) Gray{Float32}(0.0f0) … Gray{Float32}(0.0f0) Gray{Float32}(0.0f0)]\n",
       " [Gray{Float32}(0.0f0) Gray{Float32}(0.0f0) … Gray{Float32}(0.0f0) Gray{Float32}(0.0f0); Gray{Float32}(0.0f0) Gray{Float32}(0.0f0) … Gray{Float32}(0.0f0) Gray{Float32}(0.0f0); … ; Gray{Float32}(0.0f0) Gray{Float32}(0.0f0) … Gray{Float32}(0.0f0) Gray{Float32}(0.0f0); Gray{Float32}(0.0f0) Gray{Float32}(0.0f0) … Gray{Float32}(0.0f0) Gray{Float32}(0.0f0)]\n",
       " [Gray{Float32}(0.0f0) Gray{Float32}(0.0f0) … Gray{Float32}(0.0f0) Gray{Float32}(0.0f0); Gray{Float32}(0.0f0) Gray{Float32}(0.0f0) … Gray{Float32}(0.0f0) Gray{Float32}(0.0f0); … ; Gray{Float32}(0.0f0) Gray{Float32}(0.0f0) … Gray{Float32}(0.0f0) Gray{Float32}(0.0f0); Gray{Float32}(0.0f0) Gray{Float32}(0.0f0) … Gray{Float32}(0.0f0) Gray{Float32}(0.0f0)]\n",
       " [Gray{Float32}(0.0f0) Gray{Float32}(0.0f0) … Gray{Float32}(0.0f0) Gray{Float32}(0.0f0); Gray{Float32}(0.0f0) Gray{Float32}(0.0f0) … Gray{Float32}(0.0f0) Gray{Float32}(0.0f0); … ; Gray{Float32}(0.0f0) Gray{Float32}(0.0f0) … Gray{Float32}(0.0f0) Gray{Float32}(0.0f0); Gray{Float32}(0.0f0) Gray{Float32}(0.0f0) … Gray{Float32}(0.0f0) Gray{Float32}(0.0f0)]\n",
       " [Gray{Float32}(0.0f0) Gray{Float32}(0.0f0) … Gray{Float32}(0.0f0) Gray{Float32}(0.0f0); Gray{Float32}(0.0f0) Gray{Float32}(0.0f0) … Gray{Float32}(0.0f0) Gray{Float32}(0.0f0); … ; Gray{Float32}(0.0f0) Gray{Float32}(0.0f0) … Gray{Float32}(0.0f0) Gray{Float32}(0.0f0); Gray{Float32}(0.0f0) Gray{Float32}(0.0f0) … Gray{Float32}(0.0f0) Gray{Float32}(0.0f0)]\n",
       " [Gray{Float32}(0.0f0) Gray{Float32}(0.0f0) … Gray{Float32}(0.0f0) Gray{Float32}(0.0f0); Gray{Float32}(0.0f0) Gray{Float32}(0.0f0) … Gray{Float32}(0.0f0) Gray{Float32}(0.0f0); … ; Gray{Float32}(0.0f0) Gray{Float32}(0.0f0) … Gray{Float32}(0.0f0) Gray{Float32}(0.0f0); Gray{Float32}(0.0f0) Gray{Float32}(0.0f0) … Gray{Float32}(0.0f0) Gray{Float32}(0.0f0)]\n",
       " [Gray{Float32}(0.0f0) Gray{Float32}(0.0f0) … Gray{Float32}(0.0f0) Gray{Float32}(0.0f0); Gray{Float32}(0.0f0) Gray{Float32}(0.0f0) … Gray{Float32}(0.0f0) Gray{Float32}(0.0f0); … ; Gray{Float32}(0.0f0) Gray{Float32}(0.0f0) … Gray{Float32}(0.0f0) Gray{Float32}(0.0f0); Gray{Float32}(0.0f0) Gray{Float32}(0.0f0) … Gray{Float32}(0.0f0) Gray{Float32}(0.0f0)]"
      ]
     },
     "metadata": {},
     "output_type": "display_data"
    }
   ],
   "source": [
    "img_reverse_flat = reverse(img_flat, dims=2)\n",
    "img_reverse = [reshape(img_reverse_flat[i,:], (28,28))' for i in 1:num_img]\n",
    "[colorview(Gray, Float32.(img_reverse[i])) for i in 1:num_img]"
   ]
  },
  {
   "cell_type": "markdown",
   "id": "42848d50",
   "metadata": {
    "colab_type": "text",
    "id": "7PP8w2NqrRC3"
   },
   "source": [
    "Our new training data will have 60000 samples and 2 features: intensity, symmetry."
   ]
  },
  {
   "cell_type": "code",
   "execution_count": 9,
   "id": "d544a8b6",
   "metadata": {},
   "outputs": [
    {
     "data": {
      "text/plain": [
       "(60000, 2)"
      ]
     },
     "metadata": {},
     "output_type": "display_data"
    }
   ],
   "source": [
    "#TODO create X_new by horizontal stack intensity and symmetry\n",
    "train_x_new = hcat(intensity, symmetry)\n",
    "size(train_x_new)"
   ]
  },
  {
   "cell_type": "markdown",
   "id": "d2457f30",
   "metadata": {
    "colab_type": "text",
    "id": "M3_pISperRDF"
   },
   "source": [
    "## 2. Training "
   ]
  },
  {
   "cell_type": "markdown",
   "id": "94cac8eb",
   "metadata": {
    "colab_type": "text",
    "id": "6-AXlZ4DrRDG"
   },
   "source": [
    "Usually logistic regression is a good first choice for classification. In this homework we use logistic regression for classifying digit 1 images and not digit 1's images."
   ]
  },
  {
   "cell_type": "markdown",
   "id": "bb6ac92a",
   "metadata": {
    "colab_type": "text",
    "id": "0pprRrTyrRDH"
   },
   "source": [
    "### Normalize data\n",
    "\n",
    "In data process, you will first process training data. The parameter obtained in the process will be reused for processing test set\n",
    "\n",
    "First normalize data using Z-score normalization\n",
    "- **TODO: Study about Z-score normalization**\n",
    "    - Z-score (also called standard score) is a measure of how many std below or above the mean a raw data is.\n",
    "    - Equation: $z = \\frac{x - \\bar{A}}{\\sigma}$\n",
    "    - $\\bar{A}$ is mean\n",
    "    - ${\\sigma}$ is standard deviation\n",
    "- **TODO: Why should we normalize data?**"
   ]
  },
  {
   "cell_type": "code",
   "execution_count": 10,
   "id": "63b44763",
   "metadata": {},
   "outputs": [
    {
     "data": {
      "image/png": "[encoded data removed]",
      "image/svg+xml": "<?xml version=\"1.0\" encoding=\"utf-8\"?>\n<svg xmlns=\"http://www.w3.org/2000/svg\" xmlns:xlink=\"http://www.w3.org/1999/xlink\" width=\"600\" height=\"400\" viewBox=\"0 0 2400 1600\">\n<defs>\n  <clipPath id=\"clip370\">\n    <rect x=\"0\" y=\"0\" width=\"2400\" height=\"1600\"/>\n  </clipPath>\n</defs>\n<path clip-path=\"url(#clip370)\" d=\"\nM0 1600 L2400 1600 L2400 0 L0 0  Z\n  \" fill=\"#ffffff\" fill-rule=\"evenodd\" fill-opacity=\"1\"/>\n<defs>\n  <clipPath id=\"clip371\">\n    <rect x=\"480\" y=\"0\" width=\"1681\" height=\"1600\"/>\n  </clipPath>\n</defs>\n<path clip-path=\"url(#clip370)\" d=\"\nM193.288 1486.45 L2352.76 1486.45 L2352.76 47.2441 L193.288 47.2441  Z\n  \" fill=\"#ffffff\" fill-rule=\"evenodd\" fill-opacity=\"1\"/>\n<defs>\n  <clipPath id=\"clip372\">\n    <rect x=\"193\" y=\"47\" width=\"2160\" height=\"1440\"/>\n  </clipPath>\n</defs>\n<polyline clip-path=\"url(#clip372)\" style=\"stroke:#000000; stroke-linecap:round; stroke-linejoin:round; stroke-width:2; stroke-opacity:0.1; fill:none\" points=\"\n  390.508,1486.45 390.508,47.2441 \n  \"/>\n<polyline clip-path=\"url(#clip372)\" style=\"stroke:#000000; stroke-linecap:round; stroke-linejoin:round; stroke-width:2; stroke-opacity:0.1; fill:none\" points=\"\n  880.794,1486.45 880.794,47.2441 \n  \"/>\n<polyline clip-path=\"url(#clip372)\" style=\"stroke:#000000; stroke-linecap:round; stroke-linejoin:round; stroke-width:2; stroke-opacity:0.1; fill:none\" points=\"\n  1371.08,1486.45 1371.08,47.2441 \n  \"/>\n<polyline clip-path=\"url(#clip372)\" style=\"stroke:#000000; stroke-linecap:round; stroke-linejoin:round; stroke-width:2; stroke-opacity:0.1; fill:none\" points=\"\n  1861.36,1486.45 1861.36,47.2441 \n  \"/>\n<polyline clip-path=\"url(#clip372)\" style=\"stroke:#000000; stroke-linecap:round; stroke-linejoin:round; stroke-width:2; stroke-opacity:0.1; fill:none\" points=\"\n  2351.65,1486.45 2351.65,47.2441 \n  \"/>\n<polyline clip-path=\"url(#clip370)\" style=\"stroke:#000000; stroke-linecap:round; stroke-linejoin:round; stroke-width:4; stroke-opacity:1; fill:none\" points=\"\n  193.288,1486.45 2352.76,1486.45 \n  \"/>\n<polyline clip-path=\"url(#clip370)\" style=\"stroke:#000000; stroke-linecap:round; stroke-linejoin:round; stroke-width:4; stroke-opacity:1; fill:none\" points=\"\n  390.508,1486.45 390.508,1467.55 \n  \"/>\n<polyline clip-path=\"url(#clip370)\" style=\"stroke:#000000; stroke-linecap:round; stroke-linejoin:round; stroke-width:4; stroke-opacity:1; fill:none\" points=\"\n  880.794,1486.45 880.794,1467.55 \n  \"/>\n<polyline clip-path=\"url(#clip370)\" style=\"stroke:#000000; stroke-linecap:round; stroke-linejoin:round; stroke-width:4; stroke-opacity:1; fill:none\" points=\"\n  1371.08,1486.45 1371.08,1467.55 \n  \"/>\n<polyline clip-path=\"url(#clip370)\" style=\"stroke:#000000; stroke-linecap:round; stroke-linejoin:round; stroke-width:4; stroke-opacity:1; fill:none\" points=\"\n  1861.36,1486.45 1861.36,1467.55 \n  \"/>\n<polyline clip-path=\"url(#clip370)\" style=\"stroke:#000000; stroke-linecap:round; stroke-linejoin:round; stroke-width:4; stroke-opacity:1; fill:none\" points=\"\n  2351.65,1486.45 2351.65,1467.55 \n  \"/>\n<path clip-path=\"url(#clip370)\" d=\"M367.892 1517.37 Q364.281 1517.37 362.453 1520.93 Q360.647 1524.47 360.647 1531.6 Q360.647 1538.71 362.453 1542.27 Q364.281 1545.82 367.892 1545.82 Q371.527 1545.82 373.332 1542.27 Q375.161 1538.71 375.161 1531.6 Q375.161 1524.47 373.332 1520.93 Q371.527 1517.37 367.892 1517.37 M367.892 1513.66 Q373.703 1513.66 376.758 1518.27 Q379.837 1522.85 379.837 1531.6 Q379.837 1540.33 376.758 1544.94 Q373.703 1549.52 367.892 1549.52 Q362.082 1549.52 359.004 1544.94 Q355.948 1540.33 355.948 1531.6 Q355.948 1522.85 359.004 1518.27 Q362.082 1513.66 367.892 1513.66 Z\" fill=\"#000000\" fill-rule=\"evenodd\" fill-opacity=\"1\" /><path clip-path=\"url(#clip370)\" d=\"M388.054 1542.97 L392.939 1542.97 L392.939 1548.85 L388.054 1548.85 L388.054 1542.97 Z\" fill=\"#000000\" fill-rule=\"evenodd\" fill-opacity=\"1\" /><path clip-path=\"url(#clip370)\" d=\"M413.124 1517.37 Q409.513 1517.37 407.684 1520.93 Q405.878 1524.47 405.878 1531.6 Q405.878 1538.71 407.684 1542.27 Q409.513 1545.82 413.124 1545.82 Q416.758 1545.82 418.564 1542.27 Q420.392 1538.71 420.392 1531.6 Q420.392 1524.47 418.564 1520.93 Q416.758 1517.37 413.124 1517.37 M413.124 1513.66 Q418.934 1513.66 421.989 1518.27 Q425.068 1522.85 425.068 1531.6 Q425.068 1540.33 421.989 1544.94 Q418.934 1549.52 413.124 1549.52 Q407.314 1549.52 404.235 1544.94 Q401.179 1540.33 401.179 1531.6 Q401.179 1522.85 404.235 1518.27 Q407.314 1513.66 413.124 1513.66 Z\" fill=\"#000000\" fill-rule=\"evenodd\" fill-opacity=\"1\" /><path clip-path=\"url(#clip370)\" d=\"M852.53 1544.91 L868.849 1544.91 L868.849 1548.85 L846.905 1548.85 L846.905 1544.91 Q849.567 1542.16 854.15 1537.53 Q858.757 1532.88 859.937 1531.53 Q862.183 1529.01 863.062 1527.27 Q863.965 1525.51 863.965 1523.82 Q863.965 1521.07 862.02 1519.33 Q860.099 1517.6 856.997 1517.6 Q854.798 1517.6 852.345 1518.36 Q849.914 1519.13 847.136 1520.68 L847.136 1515.95 Q849.96 1514.82 852.414 1514.24 Q854.868 1513.66 856.905 1513.66 Q862.275 1513.66 865.47 1516.35 Q868.664 1519.03 868.664 1523.52 Q868.664 1525.65 867.854 1527.57 Q867.067 1529.47 864.96 1532.07 Q864.382 1532.74 861.28 1535.95 Q858.178 1539.15 852.53 1544.91 Z\" fill=\"#000000\" fill-rule=\"evenodd\" fill-opacity=\"1\" /><path clip-path=\"url(#clip370)\" d=\"M878.664 1542.97 L883.548 1542.97 L883.548 1548.85 L878.664 1548.85 L878.664 1542.97 Z\" fill=\"#000000\" fill-rule=\"evenodd\" fill-opacity=\"1\" /><path clip-path=\"url(#clip370)\" d=\"M893.78 1514.29 L912.136 1514.29 L912.136 1518.22 L898.062 1518.22 L898.062 1526.7 Q899.08 1526.35 900.099 1526.19 Q901.118 1526 902.136 1526 Q907.923 1526 911.303 1529.17 Q914.682 1532.34 914.682 1537.76 Q914.682 1543.34 911.21 1546.44 Q907.738 1549.52 901.418 1549.52 Q899.243 1549.52 896.974 1549.15 Q894.729 1548.78 892.321 1548.04 L892.321 1543.34 Q894.405 1544.47 896.627 1545.03 Q898.849 1545.58 901.326 1545.58 Q905.33 1545.58 907.668 1543.48 Q910.006 1541.37 910.006 1537.76 Q910.006 1534.15 907.668 1532.04 Q905.33 1529.94 901.326 1529.94 Q899.451 1529.94 897.576 1530.35 Q895.724 1530.77 893.78 1531.65 L893.78 1514.29 Z\" fill=\"#000000\" fill-rule=\"evenodd\" fill-opacity=\"1\" /><path clip-path=\"url(#clip370)\" d=\"M1338.24 1514.29 L1356.6 1514.29 L1356.6 1518.22 L1342.53 1518.22 L1342.53 1526.7 Q1343.54 1526.35 1344.56 1526.19 Q1345.58 1526 1346.6 1526 Q1352.39 1526 1355.77 1529.17 Q1359.15 1532.34 1359.15 1537.76 Q1359.15 1543.34 1355.67 1546.44 Q1352.2 1549.52 1345.88 1549.52 Q1343.71 1549.52 1341.44 1549.15 Q1339.19 1548.78 1336.79 1548.04 L1336.79 1543.34 Q1338.87 1544.47 1341.09 1545.03 Q1343.31 1545.58 1345.79 1545.58 Q1349.79 1545.58 1352.13 1543.48 Q1354.47 1541.37 1354.47 1537.76 Q1354.47 1534.15 1352.13 1532.04 Q1349.79 1529.94 1345.79 1529.94 Q1343.91 1529.94 1342.04 1530.35 Q1340.19 1530.77 1338.24 1531.65 L1338.24 1514.29 Z\" fill=\"#000000\" fill-rule=\"evenodd\" fill-opacity=\"1\" /><path clip-path=\"url(#clip370)\" d=\"M1368.36 1542.97 L1373.24 1542.97 L1373.24 1548.85 L1368.36 1548.85 L1368.36 1542.97 Z\" fill=\"#000000\" fill-rule=\"evenodd\" fill-opacity=\"1\" /><path clip-path=\"url(#clip370)\" d=\"M1393.43 1517.37 Q1389.82 1517.37 1387.99 1520.93 Q1386.18 1524.47 1386.18 1531.6 Q1386.18 1538.71 1387.99 1542.27 Q1389.82 1545.82 1393.43 1545.82 Q1397.06 1545.82 1398.87 1542.27 Q1400.7 1538.71 1400.7 1531.6 Q1400.7 1524.47 1398.87 1520.93 Q1397.06 1517.37 1393.43 1517.37 M1393.43 1513.66 Q1399.24 1513.66 1402.29 1518.27 Q1405.37 1522.85 1405.37 1531.6 Q1405.37 1540.33 1402.29 1544.94 Q1399.24 1549.52 1393.43 1549.52 Q1387.62 1549.52 1384.54 1544.94 Q1381.48 1540.33 1381.48 1531.6 Q1381.48 1522.85 1384.54 1518.27 Q1387.62 1513.66 1393.43 1513.66 Z\" fill=\"#000000\" fill-rule=\"evenodd\" fill-opacity=\"1\" /><path clip-path=\"url(#clip370)\" d=\"M1827.68 1514.29 L1849.91 1514.29 L1849.91 1516.28 L1837.36 1548.85 L1832.48 1548.85 L1844.28 1518.22 L1827.68 1518.22 L1827.68 1514.29 Z\" fill=\"#000000\" fill-rule=\"evenodd\" fill-opacity=\"1\" /><path clip-path=\"url(#clip370)\" d=\"M1859.03 1542.97 L1863.91 1542.97 L1863.91 1548.85 L1859.03 1548.85 L1859.03 1542.97 Z\" fill=\"#000000\" fill-rule=\"evenodd\" fill-opacity=\"1\" /><path clip-path=\"url(#clip370)\" d=\"M1874.14 1514.29 L1892.5 1514.29 L1892.5 1518.22 L1878.42 1518.22 L1878.42 1526.7 Q1879.44 1526.35 1880.46 1526.19 Q1881.48 1526 1882.5 1526 Q1888.29 1526 1891.67 1529.17 Q1895.04 1532.34 1895.04 1537.76 Q1895.04 1543.34 1891.57 1546.44 Q1888.1 1549.52 1881.78 1549.52 Q1879.61 1549.52 1877.34 1549.15 Q1875.09 1548.78 1872.68 1548.04 L1872.68 1543.34 Q1874.77 1544.47 1876.99 1545.03 Q1879.21 1545.58 1881.69 1545.58 Q1885.69 1545.58 1888.03 1543.48 Q1890.37 1541.37 1890.37 1537.76 Q1890.37 1534.15 1888.03 1532.04 Q1885.69 1529.94 1881.69 1529.94 Q1879.81 1529.94 1877.94 1530.35 Q1876.09 1530.77 1874.14 1531.65 L1874.14 1514.29 Z\" fill=\"#000000\" fill-rule=\"evenodd\" fill-opacity=\"1\" /><path clip-path=\"url(#clip370)\" d=\"M2303.72 1544.91 L2311.36 1544.91 L2311.36 1518.55 L2303.05 1520.21 L2303.05 1515.95 L2311.31 1514.29 L2315.99 1514.29 L2315.99 1544.91 L2323.63 1544.91 L2323.63 1548.85 L2303.72 1548.85 L2303.72 1544.91 Z\" fill=\"#000000\" fill-rule=\"evenodd\" fill-opacity=\"1\" /><path clip-path=\"url(#clip370)\" d=\"M2343.07 1517.37 Q2339.46 1517.37 2337.63 1520.93 Q2335.83 1524.47 2335.83 1531.6 Q2335.83 1538.71 2337.63 1542.27 Q2339.46 1545.82 2343.07 1545.82 Q2346.71 1545.82 2348.51 1542.27 Q2350.34 1538.71 2350.34 1531.6 Q2350.34 1524.47 2348.51 1520.93 Q2346.71 1517.37 2343.07 1517.37 M2343.07 1513.66 Q2348.88 1513.66 2351.94 1518.27 Q2355.02 1522.85 2355.02 1531.6 Q2355.02 1540.33 2351.94 1544.94 Q2348.88 1549.52 2343.07 1549.52 Q2337.26 1549.52 2334.18 1544.94 Q2331.13 1540.33 2331.13 1531.6 Q2331.13 1522.85 2334.18 1518.27 Q2337.26 1513.66 2343.07 1513.66 Z\" fill=\"#000000\" fill-rule=\"evenodd\" fill-opacity=\"1\" /><path clip-path=\"url(#clip370)\" d=\"M2363.24 1542.97 L2368.12 1542.97 L2368.12 1548.85 L2363.24 1548.85 L2363.24 1542.97 Z\" fill=\"#000000\" fill-rule=\"evenodd\" fill-opacity=\"1\" /><path clip-path=\"url(#clip370)\" d=\"M2388.3 1517.37 Q2384.69 1517.37 2382.86 1520.93 Q2381.06 1524.47 2381.06 1531.6 Q2381.06 1538.71 2382.86 1542.27 Q2384.69 1545.82 2388.3 1545.82 Q2391.94 1545.82 2393.74 1542.27 Q2395.57 1538.71 2395.57 1531.6 Q2395.57 1524.47 2393.74 1520.93 Q2391.94 1517.37 2388.3 1517.37 M2388.3 1513.66 Q2394.11 1513.66 2397.17 1518.27 Q2400.25 1522.85 2400.25 1531.6 Q2400.25 1540.33 2397.17 1544.94 Q2394.11 1549.52 2388.3 1549.52 Q2382.49 1549.52 2379.42 1544.94 Q2376.36 1540.33 2376.36 1531.6 Q2376.36 1522.85 2379.42 1518.27 Q2382.49 1513.66 2388.3 1513.66 Z\" fill=\"#000000\" fill-rule=\"evenodd\" fill-opacity=\"1\" /><polyline clip-path=\"url(#clip372)\" style=\"stroke:#000000; stroke-linecap:round; stroke-linejoin:round; stroke-width:2; stroke-opacity:0.1; fill:none\" points=\"\n  193.288,1344.36 2352.76,1344.36 \n  \"/>\n<polyline clip-path=\"url(#clip372)\" style=\"stroke:#000000; stroke-linecap:round; stroke-linejoin:round; stroke-width:2; stroke-opacity:0.1; fill:none\" points=\"\n  193.288,1132.61 2352.76,1132.61 \n  \"/>\n<polyline clip-path=\"url(#clip372)\" style=\"stroke:#000000; stroke-linecap:round; stroke-linejoin:round; stroke-width:2; stroke-opacity:0.1; fill:none\" points=\"\n  193.288,920.865 2352.76,920.865 \n  \"/>\n<polyline clip-path=\"url(#clip372)\" style=\"stroke:#000000; stroke-linecap:round; stroke-linejoin:round; stroke-width:2; stroke-opacity:0.1; fill:none\" points=\"\n  193.288,709.119 2352.76,709.119 \n  \"/>\n<polyline clip-path=\"url(#clip372)\" style=\"stroke:#000000; stroke-linecap:round; stroke-linejoin:round; stroke-width:2; stroke-opacity:0.1; fill:none\" points=\"\n  193.288,497.372 2352.76,497.372 \n  \"/>\n<polyline clip-path=\"url(#clip372)\" style=\"stroke:#000000; stroke-linecap:round; stroke-linejoin:round; stroke-width:2; stroke-opacity:0.1; fill:none\" points=\"\n  193.288,285.626 2352.76,285.626 \n  \"/>\n<polyline clip-path=\"url(#clip372)\" style=\"stroke:#000000; stroke-linecap:round; stroke-linejoin:round; stroke-width:2; stroke-opacity:0.1; fill:none\" points=\"\n  193.288,73.8793 2352.76,73.8793 \n  \"/>\n<polyline clip-path=\"url(#clip370)\" style=\"stroke:#000000; stroke-linecap:round; stroke-linejoin:round; stroke-width:4; stroke-opacity:1; fill:none\" points=\"\n  193.288,1486.45 193.288,47.2441 \n  \"/>\n<polyline clip-path=\"url(#clip370)\" style=\"stroke:#000000; stroke-linecap:round; stroke-linejoin:round; stroke-width:4; stroke-opacity:1; fill:none\" points=\"\n  193.288,1344.36 212.185,1344.36 \n  \"/>\n<polyline clip-path=\"url(#clip370)\" style=\"stroke:#000000; stroke-linecap:round; stroke-linejoin:round; stroke-width:4; stroke-opacity:1; fill:none\" points=\"\n  193.288,1132.61 212.185,1132.61 \n  \"/>\n<polyline clip-path=\"url(#clip370)\" style=\"stroke:#000000; stroke-linecap:round; stroke-linejoin:round; stroke-width:4; stroke-opacity:1; fill:none\" points=\"\n  193.288,920.865 212.185,920.865 \n  \"/>\n<polyline clip-path=\"url(#clip370)\" style=\"stroke:#000000; stroke-linecap:round; stroke-linejoin:round; stroke-width:4; stroke-opacity:1; fill:none\" points=\"\n  193.288,709.119 212.185,709.119 \n  \"/>\n<polyline clip-path=\"url(#clip370)\" style=\"stroke:#000000; stroke-linecap:round; stroke-linejoin:round; stroke-width:4; stroke-opacity:1; fill:none\" points=\"\n  193.288,497.372 212.185,497.372 \n  \"/>\n<polyline clip-path=\"url(#clip370)\" style=\"stroke:#000000; stroke-linecap:round; stroke-linejoin:round; stroke-width:4; stroke-opacity:1; fill:none\" points=\"\n  193.288,285.626 212.185,285.626 \n  \"/>\n<polyline clip-path=\"url(#clip370)\" style=\"stroke:#000000; stroke-linecap:round; stroke-linejoin:round; stroke-width:4; stroke-opacity:1; fill:none\" points=\"\n  193.288,73.8793 212.185,73.8793 \n  \"/>\n<path clip-path=\"url(#clip370)\" d=\"M50.9921 1344.81 L80.6679 1344.81 L80.6679 1348.74 L50.9921 1348.74 L50.9921 1344.81 Z\" fill=\"#000000\" fill-rule=\"evenodd\" fill-opacity=\"1\" /><path clip-path=\"url(#clip370)\" d=\"M100.76 1330.16 Q97.1493 1330.16 95.3206 1333.72 Q93.515 1337.26 93.515 1344.39 Q93.515 1351.5 95.3206 1355.06 Q97.1493 1358.61 100.76 1358.61 Q104.395 1358.61 106.2 1355.06 Q108.029 1351.5 108.029 1344.39 Q108.029 1337.26 106.2 1333.72 Q104.395 1330.16 100.76 1330.16 M100.76 1326.45 Q106.571 1326.45 109.626 1331.06 Q112.705 1335.64 112.705 1344.39 Q112.705 1353.12 109.626 1357.73 Q106.571 1362.31 100.76 1362.31 Q94.9502 1362.31 91.8715 1357.73 Q88.816 1353.12 88.816 1344.39 Q88.816 1335.64 91.8715 1331.06 Q94.9502 1326.45 100.76 1326.45 Z\" fill=\"#000000\" fill-rule=\"evenodd\" fill-opacity=\"1\" /><path clip-path=\"url(#clip370)\" d=\"M120.922 1355.76 L125.807 1355.76 L125.807 1361.64 L120.922 1361.64 L120.922 1355.76 Z\" fill=\"#000000\" fill-rule=\"evenodd\" fill-opacity=\"1\" /><path clip-path=\"url(#clip370)\" d=\"M150.158 1343 Q153.515 1343.72 155.39 1345.99 Q157.288 1348.26 157.288 1351.59 Q157.288 1356.71 153.769 1359.51 Q150.251 1362.31 143.769 1362.31 Q141.593 1362.31 139.279 1361.87 Q136.987 1361.45 134.533 1360.6 L134.533 1356.08 Q136.478 1357.22 138.793 1357.8 Q141.107 1358.37 143.631 1358.37 Q148.029 1358.37 150.32 1356.64 Q152.635 1354.9 152.635 1351.59 Q152.635 1348.54 150.482 1346.82 Q148.353 1345.09 144.533 1345.09 L140.506 1345.09 L140.506 1341.24 L144.718 1341.24 Q148.168 1341.24 149.996 1339.88 Q151.825 1338.49 151.825 1335.9 Q151.825 1333.24 149.927 1331.82 Q148.052 1330.39 144.533 1330.39 Q142.612 1330.39 140.413 1330.81 Q138.214 1331.22 135.575 1332.1 L135.575 1327.93 Q138.237 1327.19 140.552 1326.82 Q142.89 1326.45 144.95 1326.45 Q150.274 1326.45 153.376 1328.88 Q156.478 1331.29 156.478 1335.41 Q156.478 1338.28 154.834 1340.27 Q153.191 1342.24 150.158 1343 Z\" fill=\"#000000\" fill-rule=\"evenodd\" fill-opacity=\"1\" /><path clip-path=\"url(#clip370)\" d=\"M51.9412 1133.06 L81.617 1133.06 L81.617 1137 L51.9412 1137 L51.9412 1133.06 Z\" fill=\"#000000\" fill-rule=\"evenodd\" fill-opacity=\"1\" /><path clip-path=\"url(#clip370)\" d=\"M101.709 1118.41 Q98.0984 1118.41 96.2697 1121.98 Q94.4641 1125.52 94.4641 1132.65 Q94.4641 1139.75 96.2697 1143.32 Q98.0984 1146.86 101.709 1146.86 Q105.344 1146.86 107.149 1143.32 Q108.978 1139.75 108.978 1132.65 Q108.978 1125.52 107.149 1121.98 Q105.344 1118.41 101.709 1118.41 M101.709 1114.71 Q107.52 1114.71 110.575 1119.31 Q113.654 1123.9 113.654 1132.65 Q113.654 1141.37 110.575 1145.98 Q107.52 1150.56 101.709 1150.56 Q95.8993 1150.56 92.8206 1145.98 Q89.7651 1141.37 89.7651 1132.65 Q89.7651 1123.9 92.8206 1119.31 Q95.8993 1114.71 101.709 1114.71 Z\" fill=\"#000000\" fill-rule=\"evenodd\" fill-opacity=\"1\" /><path clip-path=\"url(#clip370)\" d=\"M121.871 1144.01 L126.756 1144.01 L126.756 1149.89 L121.871 1149.89 L121.871 1144.01 Z\" fill=\"#000000\" fill-rule=\"evenodd\" fill-opacity=\"1\" /><path clip-path=\"url(#clip370)\" d=\"M140.968 1145.96 L157.288 1145.96 L157.288 1149.89 L135.344 1149.89 L135.344 1145.96 Q138.006 1143.2 142.589 1138.57 Q147.195 1133.92 148.376 1132.58 Q150.621 1130.05 151.501 1128.32 Q152.404 1126.56 152.404 1124.87 Q152.404 1122.11 150.459 1120.38 Q148.538 1118.64 145.436 1118.64 Q143.237 1118.64 140.783 1119.41 Q138.353 1120.17 135.575 1121.72 L135.575 1117 Q138.399 1115.86 140.853 1115.29 Q143.306 1114.71 145.343 1114.71 Q150.714 1114.71 153.908 1117.39 Q157.103 1120.08 157.103 1124.57 Q157.103 1126.7 156.292 1128.62 Q155.505 1130.52 153.399 1133.11 Q152.82 1133.78 149.718 1137 Q146.617 1140.19 140.968 1145.96 Z\" fill=\"#000000\" fill-rule=\"evenodd\" fill-opacity=\"1\" /><path clip-path=\"url(#clip370)\" d=\"M51.5708 921.317 L81.2466 921.317 L81.2466 925.252 L51.5708 925.252 L51.5708 921.317 Z\" fill=\"#000000\" fill-rule=\"evenodd\" fill-opacity=\"1\" /><path clip-path=\"url(#clip370)\" d=\"M101.339 906.664 Q97.728 906.664 95.8993 910.229 Q94.0937 913.77 94.0937 920.9 Q94.0937 928.006 95.8993 931.571 Q97.728 935.113 101.339 935.113 Q104.973 935.113 106.779 931.571 Q108.608 928.006 108.608 920.9 Q108.608 913.77 106.779 910.229 Q104.973 906.664 101.339 906.664 M101.339 902.96 Q107.149 902.96 110.205 907.567 Q113.283 912.15 113.283 920.9 Q113.283 929.627 110.205 934.233 Q107.149 938.817 101.339 938.817 Q95.5289 938.817 92.4502 934.233 Q89.3947 929.627 89.3947 920.9 Q89.3947 912.15 92.4502 907.567 Q95.5289 902.96 101.339 902.96 Z\" fill=\"#000000\" fill-rule=\"evenodd\" fill-opacity=\"1\" /><path clip-path=\"url(#clip370)\" d=\"M121.501 932.266 L126.385 932.266 L126.385 938.145 L121.501 938.145 L121.501 932.266 Z\" fill=\"#000000\" fill-rule=\"evenodd\" fill-opacity=\"1\" /><path clip-path=\"url(#clip370)\" d=\"M137.381 934.21 L145.019 934.21 L145.019 907.844 L136.709 909.511 L136.709 905.252 L144.973 903.585 L149.649 903.585 L149.649 934.21 L157.288 934.21 L157.288 938.145 L137.381 938.145 L137.381 934.21 Z\" fill=\"#000000\" fill-rule=\"evenodd\" fill-opacity=\"1\" /><path clip-path=\"url(#clip370)\" d=\"M100.112 694.917 Q96.5011 694.917 94.6724 698.482 Q92.8669 702.024 92.8669 709.153 Q92.8669 716.26 94.6724 719.825 Q96.5011 723.366 100.112 723.366 Q103.746 723.366 105.552 719.825 Q107.381 716.26 107.381 709.153 Q107.381 702.024 105.552 698.482 Q103.746 694.917 100.112 694.917 M100.112 691.214 Q105.922 691.214 108.978 695.82 Q112.057 700.404 112.057 709.153 Q112.057 717.88 108.978 722.487 Q105.922 727.07 100.112 727.07 Q94.3021 727.07 91.2234 722.487 Q88.1679 717.88 88.1679 709.153 Q88.1679 700.404 91.2234 695.82 Q94.3021 691.214 100.112 691.214 Z\" fill=\"#000000\" fill-rule=\"evenodd\" fill-opacity=\"1\" /><path clip-path=\"url(#clip370)\" d=\"M120.274 720.519 L125.158 720.519 L125.158 726.399 L120.274 726.399 L120.274 720.519 Z\" fill=\"#000000\" fill-rule=\"evenodd\" fill-opacity=\"1\" /><path clip-path=\"url(#clip370)\" d=\"M145.343 694.917 Q141.732 694.917 139.904 698.482 Q138.098 702.024 138.098 709.153 Q138.098 716.26 139.904 719.825 Q141.732 723.366 145.343 723.366 Q148.978 723.366 150.783 719.825 Q152.612 716.26 152.612 709.153 Q152.612 702.024 150.783 698.482 Q148.978 694.917 145.343 694.917 M145.343 691.214 Q151.154 691.214 154.209 695.82 Q157.288 700.404 157.288 709.153 Q157.288 717.88 154.209 722.487 Q151.154 727.07 145.343 727.07 Q139.533 727.07 136.455 722.487 Q133.399 717.88 133.399 709.153 Q133.399 700.404 136.455 695.82 Q139.533 691.214 145.343 691.214 Z\" fill=\"#000000\" fill-rule=\"evenodd\" fill-opacity=\"1\" /><path clip-path=\"url(#clip370)\" d=\"M101.339 483.171 Q97.728 483.171 95.8993 486.736 Q94.0937 490.277 94.0937 497.407 Q94.0937 504.513 95.8993 508.078 Q97.728 511.62 101.339 511.62 Q104.973 511.62 106.779 508.078 Q108.608 504.513 108.608 497.407 Q108.608 490.277 106.779 486.736 Q104.973 483.171 101.339 483.171 M101.339 479.467 Q107.149 479.467 110.205 484.074 Q113.283 488.657 113.283 497.407 Q113.283 506.134 110.205 510.74 Q107.149 515.324 101.339 515.324 Q95.5289 515.324 92.4502 510.74 Q89.3947 506.134 89.3947 497.407 Q89.3947 488.657 92.4502 484.074 Q95.5289 479.467 101.339 479.467 Z\" fill=\"#000000\" fill-rule=\"evenodd\" fill-opacity=\"1\" /><path clip-path=\"url(#clip370)\" d=\"M121.501 508.773 L126.385 508.773 L126.385 514.652 L121.501 514.652 L121.501 508.773 Z\" fill=\"#000000\" fill-rule=\"evenodd\" fill-opacity=\"1\" /><path clip-path=\"url(#clip370)\" d=\"M137.381 510.717 L145.019 510.717 L145.019 484.352 L136.709 486.018 L136.709 481.759 L144.973 480.092 L149.649 480.092 L149.649 510.717 L157.288 510.717 L157.288 514.652 L137.381 514.652 L137.381 510.717 Z\" fill=\"#000000\" fill-rule=\"evenodd\" fill-opacity=\"1\" /><path clip-path=\"url(#clip370)\" d=\"M101.709 271.424 Q98.0984 271.424 96.2697 274.989 Q94.4641 278.531 94.4641 285.661 Q94.4641 292.767 96.2697 296.332 Q98.0984 299.873 101.709 299.873 Q105.344 299.873 107.149 296.332 Q108.978 292.767 108.978 285.661 Q108.978 278.531 107.149 274.989 Q105.344 271.424 101.709 271.424 M101.709 267.721 Q107.52 267.721 110.575 272.327 Q113.654 276.911 113.654 285.661 Q113.654 294.387 110.575 298.994 Q107.52 303.577 101.709 303.577 Q95.8993 303.577 92.8206 298.994 Q89.7651 294.387 89.7651 285.661 Q89.7651 276.911 92.8206 272.327 Q95.8993 267.721 101.709 267.721 Z\" fill=\"#000000\" fill-rule=\"evenodd\" fill-opacity=\"1\" /><path clip-path=\"url(#clip370)\" d=\"M121.871 297.026 L126.756 297.026 L126.756 302.906 L121.871 302.906 L121.871 297.026 Z\" fill=\"#000000\" fill-rule=\"evenodd\" fill-opacity=\"1\" /><path clip-path=\"url(#clip370)\" d=\"M140.968 298.971 L157.288 298.971 L157.288 302.906 L135.344 302.906 L135.344 298.971 Q138.006 296.216 142.589 291.586 Q147.195 286.934 148.376 285.591 Q150.621 283.068 151.501 281.332 Q152.404 279.573 152.404 277.883 Q152.404 275.128 150.459 273.392 Q148.538 271.656 145.436 271.656 Q143.237 271.656 140.783 272.42 Q138.353 273.184 135.575 274.735 L135.575 270.012 Q138.399 268.878 140.853 268.299 Q143.306 267.721 145.343 267.721 Q150.714 267.721 153.908 270.406 Q157.103 273.091 157.103 277.582 Q157.103 279.711 156.292 281.633 Q155.505 283.531 153.399 286.123 Q152.82 286.795 149.718 290.012 Q146.617 293.207 140.968 298.971 Z\" fill=\"#000000\" fill-rule=\"evenodd\" fill-opacity=\"1\" /><path clip-path=\"url(#clip370)\" d=\"M100.76 59.678 Q97.1493 59.678 95.3206 63.2428 Q93.515 66.7844 93.515 73.914 Q93.515 81.0205 95.3206 84.5853 Q97.1493 88.1269 100.76 88.1269 Q104.395 88.1269 106.2 84.5853 Q108.029 81.0205 108.029 73.914 Q108.029 66.7844 106.2 63.2428 Q104.395 59.678 100.76 59.678 M100.76 55.9743 Q106.571 55.9743 109.626 60.5808 Q112.705 65.1641 112.705 73.914 Q112.705 82.6408 109.626 87.2473 Q106.571 91.8306 100.76 91.8306 Q94.9502 91.8306 91.8715 87.2473 Q88.816 82.6408 88.816 73.914 Q88.816 65.1641 91.8715 60.5808 Q94.9502 55.9743 100.76 55.9743 Z\" fill=\"#000000\" fill-rule=\"evenodd\" fill-opacity=\"1\" /><path clip-path=\"url(#clip370)\" d=\"M120.922 85.2797 L125.807 85.2797 L125.807 91.1593 L120.922 91.1593 L120.922 85.2797 Z\" fill=\"#000000\" fill-rule=\"evenodd\" fill-opacity=\"1\" /><path clip-path=\"url(#clip370)\" d=\"M150.158 72.5251 Q153.515 73.2427 155.39 75.5112 Q157.288 77.7797 157.288 81.1131 Q157.288 86.2288 153.769 89.0297 Q150.251 91.8306 143.769 91.8306 Q141.593 91.8306 139.279 91.3908 Q136.987 90.9741 134.533 90.1176 L134.533 85.6038 Q136.478 86.738 138.793 87.3167 Q141.107 87.8954 143.631 87.8954 Q148.029 87.8954 150.32 86.1593 Q152.635 84.4232 152.635 81.1131 Q152.635 78.0575 150.482 76.3446 Q148.353 74.6085 144.533 74.6085 L140.506 74.6085 L140.506 70.7659 L144.718 70.7659 Q148.168 70.7659 149.996 69.4002 Q151.825 68.0113 151.825 65.4187 Q151.825 62.7567 149.927 61.3446 Q148.052 59.9095 144.533 59.9095 Q142.612 59.9095 140.413 60.3261 Q138.214 60.7428 135.575 61.6224 L135.575 57.4558 Q138.237 56.715 140.552 56.3447 Q142.89 55.9743 144.95 55.9743 Q150.274 55.9743 153.376 58.4048 Q156.478 60.8122 156.478 64.9326 Q156.478 67.8029 154.834 69.7937 Q153.191 71.7613 150.158 72.5251 Z\" fill=\"#000000\" fill-rule=\"evenodd\" fill-opacity=\"1\" /><path clip-path=\"url(#clip372)\" d=\"\nM312.062 87.9763 L312.062 709.119 L468.954 709.119 L468.954 87.9763 L312.062 87.9763 L312.062 87.9763  Z\n  \" fill=\"#009af9\" fill-rule=\"evenodd\" fill-opacity=\"1\"/>\n<polyline clip-path=\"url(#clip372)\" style=\"stroke:#000000; stroke-linecap:round; stroke-linejoin:round; stroke-width:4; stroke-opacity:1; fill:none\" points=\"\n  312.062,87.9763 312.062,709.119 468.954,709.119 468.954,87.9763 312.062,87.9763 \n  \"/>\n<path clip-path=\"url(#clip372)\" d=\"\nM508.177 855.954 L508.177 709.119 L665.068 709.119 L665.068 855.954 L508.177 855.954 L508.177 855.954  Z\n  \" fill=\"#009af9\" fill-rule=\"evenodd\" fill-opacity=\"1\"/>\n<polyline clip-path=\"url(#clip372)\" style=\"stroke:#000000; stroke-linecap:round; stroke-linejoin:round; stroke-width:4; stroke-opacity:1; fill:none\" points=\"\n  508.177,855.954 508.177,709.119 665.068,709.119 665.068,855.954 508.177,855.954 \n  \"/>\n<path clip-path=\"url(#clip372)\" d=\"\nM704.291 966.292 L704.291 709.119 L861.182 709.119 L861.182 966.292 L704.291 966.292 L704.291 966.292  Z\n  \" fill=\"#009af9\" fill-rule=\"evenodd\" fill-opacity=\"1\"/>\n<polyline clip-path=\"url(#clip372)\" style=\"stroke:#000000; stroke-linecap:round; stroke-linejoin:round; stroke-width:4; stroke-opacity:1; fill:none\" points=\"\n  704.291,966.292 704.291,709.119 861.182,709.119 861.182,966.292 704.291,966.292 \n  \"/>\n<path clip-path=\"url(#clip372)\" d=\"\nM900.405 633.92 L900.405 709.119 L1057.3 709.119 L1057.3 633.92 L900.405 633.92 L900.405 633.92  Z\n  \" fill=\"#009af9\" fill-rule=\"evenodd\" fill-opacity=\"1\"/>\n<polyline clip-path=\"url(#clip372)\" style=\"stroke:#000000; stroke-linecap:round; stroke-linejoin:round; stroke-width:4; stroke-opacity:1; fill:none\" points=\"\n  900.405,633.92 900.405,709.119 1057.3,709.119 1057.3,633.92 900.405,633.92 \n  \"/>\n<path clip-path=\"url(#clip372)\" d=\"\nM1096.52 490.968 L1096.52 709.119 L1253.41 709.119 L1253.41 490.968 L1096.52 490.968 L1096.52 490.968  Z\n  \" fill=\"#009af9\" fill-rule=\"evenodd\" fill-opacity=\"1\"/>\n<polyline clip-path=\"url(#clip372)\" style=\"stroke:#000000; stroke-linecap:round; stroke-linejoin:round; stroke-width:4; stroke-opacity:1; fill:none\" points=\"\n  1096.52,490.968 1096.52,709.119 1253.41,709.119 1253.41,490.968 1096.52,490.968 \n  \"/>\n<path clip-path=\"url(#clip372)\" d=\"\nM1292.63 1445.72 L1292.63 709.119 L1449.52 709.119 L1449.52 1445.72 L1292.63 1445.72 L1292.63 1445.72  Z\n  \" fill=\"#009af9\" fill-rule=\"evenodd\" fill-opacity=\"1\"/>\n<polyline clip-path=\"url(#clip372)\" style=\"stroke:#000000; stroke-linecap:round; stroke-linejoin:round; stroke-width:4; stroke-opacity:1; fill:none\" points=\"\n  1292.63,1445.72 1292.63,709.119 1449.52,709.119 1449.52,1445.72 1292.63,1445.72 \n  \"/>\n<path clip-path=\"url(#clip372)\" d=\"\nM1488.75 484.899 L1488.75 709.119 L1645.64 709.119 L1645.64 484.899 L1488.75 484.899 L1488.75 484.899  Z\n  \" fill=\"#009af9\" fill-rule=\"evenodd\" fill-opacity=\"1\"/>\n<polyline clip-path=\"url(#clip372)\" style=\"stroke:#000000; stroke-linecap:round; stroke-linejoin:round; stroke-width:4; stroke-opacity:1; fill:none\" points=\"\n  1488.75,484.899 1488.75,709.119 1645.64,709.119 1645.64,484.899 1488.75,484.899 \n  \"/>\n<path clip-path=\"url(#clip372)\" d=\"\nM1684.86 1233.62 L1684.86 709.119 L1841.75 709.119 L1841.75 1233.62 L1684.86 1233.62 L1684.86 1233.62  Z\n  \" fill=\"#009af9\" fill-rule=\"evenodd\" fill-opacity=\"1\"/>\n<polyline clip-path=\"url(#clip372)\" style=\"stroke:#000000; stroke-linecap:round; stroke-linejoin:round; stroke-width:4; stroke-opacity:1; fill:none\" points=\"\n  1684.86,1233.62 1684.86,709.119 1841.75,709.119 1841.75,1233.62 1684.86,1233.62 \n  \"/>\n<path clip-path=\"url(#clip372)\" d=\"\nM1880.98 491.309 L1880.98 709.119 L2037.87 709.119 L2037.87 491.309 L1880.98 491.309 L1880.98 491.309  Z\n  \" fill=\"#009af9\" fill-rule=\"evenodd\" fill-opacity=\"1\"/>\n<polyline clip-path=\"url(#clip372)\" style=\"stroke:#000000; stroke-linecap:round; stroke-linejoin:round; stroke-width:4; stroke-opacity:1; fill:none\" points=\"\n  1880.98,491.309 1880.98,709.119 2037.87,709.119 2037.87,491.309 1880.98,491.309 \n  \"/>\n<path clip-path=\"url(#clip372)\" d=\"\nM2077.09 408.996 L2077.09 709.119 L2233.98 709.119 L2233.98 408.996 L2077.09 408.996 L2077.09 408.996  Z\n  \" fill=\"#009af9\" fill-rule=\"evenodd\" fill-opacity=\"1\"/>\n<polyline clip-path=\"url(#clip372)\" style=\"stroke:#000000; stroke-linecap:round; stroke-linejoin:round; stroke-width:4; stroke-opacity:1; fill:none\" points=\"\n  2077.09,408.996 2077.09,709.119 2233.98,709.119 2233.98,408.996 2077.09,408.996 \n  \"/>\n<circle clip-path=\"url(#clip372)\" style=\"fill:#009af9; stroke:none; fill-opacity:0\" cx=\"390.508\" cy=\"87.9763\" r=\"2\"/>\n<circle clip-path=\"url(#clip372)\" style=\"fill:#009af9; stroke:none; fill-opacity:0\" cx=\"586.622\" cy=\"855.954\" r=\"2\"/>\n<circle clip-path=\"url(#clip372)\" style=\"fill:#009af9; stroke:none; fill-opacity:0\" cx=\"782.736\" cy=\"966.292\" r=\"2\"/>\n<circle clip-path=\"url(#clip372)\" style=\"fill:#009af9; stroke:none; fill-opacity:0\" cx=\"978.851\" cy=\"633.92\" r=\"2\"/>\n<circle clip-path=\"url(#clip372)\" style=\"fill:#009af9; stroke:none; fill-opacity:0\" cx=\"1174.96\" cy=\"490.968\" r=\"2\"/>\n<circle clip-path=\"url(#clip372)\" style=\"fill:#009af9; stroke:none; fill-opacity:0\" cx=\"1371.08\" cy=\"1445.72\" r=\"2\"/>\n<circle clip-path=\"url(#clip372)\" style=\"fill:#009af9; stroke:none; fill-opacity:0\" cx=\"1567.19\" cy=\"484.899\" r=\"2\"/>\n<circle clip-path=\"url(#clip372)\" style=\"fill:#009af9; stroke:none; fill-opacity:0\" cx=\"1763.31\" cy=\"1233.62\" r=\"2\"/>\n<circle clip-path=\"url(#clip372)\" style=\"fill:#009af9; stroke:none; fill-opacity:0\" cx=\"1959.42\" cy=\"491.309\" r=\"2\"/>\n<circle clip-path=\"url(#clip372)\" style=\"fill:#009af9; stroke:none; fill-opacity:0\" cx=\"2155.54\" cy=\"408.996\" r=\"2\"/>\n</svg>\n",
      "text/html": [
       "<?xml version=\"1.0\" encoding=\"utf-8\"?>\n",
       "<svg xmlns=\"http://www.w3.org/2000/svg\" xmlns:xlink=\"http://www.w3.org/1999/xlink\" width=\"600\" height=\"400\" viewBox=\"0 0 2400 1600\">\n",
       "<defs>\n",
       "  <clipPath id=\"clip420\">\n",
       "    <rect x=\"0\" y=\"0\" width=\"2400\" height=\"1600\"/>\n",
       "  </clipPath>\n",
       "</defs>\n",
       "<path clip-path=\"url(#clip420)\" d=\"\n",
       "M0 1600 L2400 1600 L2400 0 L0 0  Z\n",
       "  \" fill=\"#ffffff\" fill-rule=\"evenodd\" fill-opacity=\"1\"/>\n",
       "<defs>\n",
       "  <clipPath id=\"clip421\">\n",
       "    <rect x=\"480\" y=\"0\" width=\"1681\" height=\"1600\"/>\n",
       "  </clipPath>\n",
       "</defs>\n",
       "<path clip-path=\"url(#clip420)\" d=\"\n",
       "M193.288 1486.45 L2352.76 1486.45 L2352.76 47.2441 L193.288 47.2441  Z\n",
       "  \" fill=\"#ffffff\" fill-rule=\"evenodd\" fill-opacity=\"1\"/>\n",
       "<defs>\n",
       "  <clipPath id=\"clip422\">\n",
       "    <rect x=\"193\" y=\"47\" width=\"2160\" height=\"1440\"/>\n",
       "  </clipPath>\n",
       "</defs>\n",
       "<polyline clip-path=\"url(#clip422)\" style=\"stroke:#000000; stroke-linecap:round; stroke-linejoin:round; stroke-width:2; stroke-opacity:0.1; fill:none\" points=\"\n",
       "  390.508,1486.45 390.508,47.2441 \n",
       "  \"/>\n",
       "<polyline clip-path=\"url(#clip422)\" style=\"stroke:#000000; stroke-linecap:round; stroke-linejoin:round; stroke-width:2; stroke-opacity:0.1; fill:none\" points=\"\n",
       "  880.794,1486.45 880.794,47.2441 \n",
       "  \"/>\n",
       "<polyline clip-path=\"url(#clip422)\" style=\"stroke:#000000; stroke-linecap:round; stroke-linejoin:round; stroke-width:2; stroke-opacity:0.1; fill:none\" points=\"\n",
       "  1371.08,1486.45 1371.08,47.2441 \n",
       "  \"/>\n",
       "<polyline clip-path=\"url(#clip422)\" style=\"stroke:#000000; stroke-linecap:round; stroke-linejoin:round; stroke-width:2; stroke-opacity:0.1; fill:none\" points=\"\n",
       "  1861.36,1486.45 1861.36,47.2441 \n",
       "  \"/>\n",
       "<polyline clip-path=\"url(#clip422)\" style=\"stroke:#000000; stroke-linecap:round; stroke-linejoin:round; stroke-width:2; stroke-opacity:0.1; fill:none\" points=\"\n",
       "  2351.65,1486.45 2351.65,47.2441 \n",
       "  \"/>\n",
       "<polyline clip-path=\"url(#clip420)\" style=\"stroke:#000000; stroke-linecap:round; stroke-linejoin:round; stroke-width:4; stroke-opacity:1; fill:none\" points=\"\n",
       "  193.288,1486.45 2352.76,1486.45 \n",
       "  \"/>\n",
       "<polyline clip-path=\"url(#clip420)\" style=\"stroke:#000000; stroke-linecap:round; stroke-linejoin:round; stroke-width:4; stroke-opacity:1; fill:none\" points=\"\n",
       "  390.508,1486.45 390.508,1467.55 \n",
       "  \"/>\n",
       "<polyline clip-path=\"url(#clip420)\" style=\"stroke:#000000; stroke-linecap:round; stroke-linejoin:round; stroke-width:4; stroke-opacity:1; fill:none\" points=\"\n",
       "  880.794,1486.45 880.794,1467.55 \n",
       "  \"/>\n",
       "<polyline clip-path=\"url(#clip420)\" style=\"stroke:#000000; stroke-linecap:round; stroke-linejoin:round; stroke-width:4; stroke-opacity:1; fill:none\" points=\"\n",
       "  1371.08,1486.45 1371.08,1467.55 \n",
       "  \"/>\n",
       "<polyline clip-path=\"url(#clip420)\" style=\"stroke:#000000; stroke-linecap:round; stroke-linejoin:round; stroke-width:4; stroke-opacity:1; fill:none\" points=\"\n",
       "  1861.36,1486.45 1861.36,1467.55 \n",
       "  \"/>\n",
       "<polyline clip-path=\"url(#clip420)\" style=\"stroke:#000000; stroke-linecap:round; stroke-linejoin:round; stroke-width:4; stroke-opacity:1; fill:none\" points=\"\n",
       "  2351.65,1486.45 2351.65,1467.55 \n",
       "  \"/>\n",
       "<path clip-path=\"url(#clip420)\" d=\"M367.892 1517.37 Q364.281 1517.37 362.453 1520.93 Q360.647 1524.47 360.647 1531.6 Q360.647 1538.71 362.453 1542.27 Q364.281 1545.82 367.892 1545.82 Q371.527 1545.82 373.332 1542.27 Q375.161 1538.71 375.161 1531.6 Q375.161 1524.47 373.332 1520.93 Q371.527 1517.37 367.892 1517.37 M367.892 1513.66 Q373.703 1513.66 376.758 1518.27 Q379.837 1522.85 379.837 1531.6 Q379.837 1540.33 376.758 1544.94 Q373.703 1549.52 367.892 1549.52 Q362.082 1549.52 359.004 1544.94 Q355.948 1540.33 355.948 1531.6 Q355.948 1522.85 359.004 1518.27 Q362.082 1513.66 367.892 1513.66 Z\" fill=\"#000000\" fill-rule=\"evenodd\" fill-opacity=\"1\" /><path clip-path=\"url(#clip420)\" d=\"M388.054 1542.97 L392.939 1542.97 L392.939 1548.85 L388.054 1548.85 L388.054 1542.97 Z\" fill=\"#000000\" fill-rule=\"evenodd\" fill-opacity=\"1\" /><path clip-path=\"url(#clip420)\" d=\"M413.124 1517.37 Q409.513 1517.37 407.684 1520.93 Q405.878 1524.47 405.878 1531.6 Q405.878 1538.71 407.684 1542.27 Q409.513 1545.82 413.124 1545.82 Q416.758 1545.82 418.564 1542.27 Q420.392 1538.71 420.392 1531.6 Q420.392 1524.47 418.564 1520.93 Q416.758 1517.37 413.124 1517.37 M413.124 1513.66 Q418.934 1513.66 421.989 1518.27 Q425.068 1522.85 425.068 1531.6 Q425.068 1540.33 421.989 1544.94 Q418.934 1549.52 413.124 1549.52 Q407.314 1549.52 404.235 1544.94 Q401.179 1540.33 401.179 1531.6 Q401.179 1522.85 404.235 1518.27 Q407.314 1513.66 413.124 1513.66 Z\" fill=\"#000000\" fill-rule=\"evenodd\" fill-opacity=\"1\" /><path clip-path=\"url(#clip420)\" d=\"M852.53 1544.91 L868.849 1544.91 L868.849 1548.85 L846.905 1548.85 L846.905 1544.91 Q849.567 1542.16 854.15 1537.53 Q858.757 1532.88 859.937 1531.53 Q862.183 1529.01 863.062 1527.27 Q863.965 1525.51 863.965 1523.82 Q863.965 1521.07 862.02 1519.33 Q860.099 1517.6 856.997 1517.6 Q854.798 1517.6 852.345 1518.36 Q849.914 1519.13 847.136 1520.68 L847.136 1515.95 Q849.96 1514.82 852.414 1514.24 Q854.868 1513.66 856.905 1513.66 Q862.275 1513.66 865.47 1516.35 Q868.664 1519.03 868.664 1523.52 Q868.664 1525.65 867.854 1527.57 Q867.067 1529.47 864.96 1532.07 Q864.382 1532.74 861.28 1535.95 Q858.178 1539.15 852.53 1544.91 Z\" fill=\"#000000\" fill-rule=\"evenodd\" fill-opacity=\"1\" /><path clip-path=\"url(#clip420)\" d=\"M878.664 1542.97 L883.548 1542.97 L883.548 1548.85 L878.664 1548.85 L878.664 1542.97 Z\" fill=\"#000000\" fill-rule=\"evenodd\" fill-opacity=\"1\" /><path clip-path=\"url(#clip420)\" d=\"M893.78 1514.29 L912.136 1514.29 L912.136 1518.22 L898.062 1518.22 L898.062 1526.7 Q899.08 1526.35 900.099 1526.19 Q901.118 1526 902.136 1526 Q907.923 1526 911.303 1529.17 Q914.682 1532.34 914.682 1537.76 Q914.682 1543.34 911.21 1546.44 Q907.738 1549.52 901.418 1549.52 Q899.243 1549.52 896.974 1549.15 Q894.729 1548.78 892.321 1548.04 L892.321 1543.34 Q894.405 1544.47 896.627 1545.03 Q898.849 1545.58 901.326 1545.58 Q905.33 1545.58 907.668 1543.48 Q910.006 1541.37 910.006 1537.76 Q910.006 1534.15 907.668 1532.04 Q905.33 1529.94 901.326 1529.94 Q899.451 1529.94 897.576 1530.35 Q895.724 1530.77 893.78 1531.65 L893.78 1514.29 Z\" fill=\"#000000\" fill-rule=\"evenodd\" fill-opacity=\"1\" /><path clip-path=\"url(#clip420)\" d=\"M1338.24 1514.29 L1356.6 1514.29 L1356.6 1518.22 L1342.53 1518.22 L1342.53 1526.7 Q1343.54 1526.35 1344.56 1526.19 Q1345.58 1526 1346.6 1526 Q1352.39 1526 1355.77 1529.17 Q1359.15 1532.34 1359.15 1537.76 Q1359.15 1543.34 1355.67 1546.44 Q1352.2 1549.52 1345.88 1549.52 Q1343.71 1549.52 1341.44 1549.15 Q1339.19 1548.78 1336.79 1548.04 L1336.79 1543.34 Q1338.87 1544.47 1341.09 1545.03 Q1343.31 1545.58 1345.79 1545.58 Q1349.79 1545.58 1352.13 1543.48 Q1354.47 1541.37 1354.47 1537.76 Q1354.47 1534.15 1352.13 1532.04 Q1349.79 1529.94 1345.79 1529.94 Q1343.91 1529.94 1342.04 1530.35 Q1340.19 1530.77 1338.24 1531.65 L1338.24 1514.29 Z\" fill=\"#000000\" fill-rule=\"evenodd\" fill-opacity=\"1\" /><path clip-path=\"url(#clip420)\" d=\"M1368.36 1542.97 L1373.24 1542.97 L1373.24 1548.85 L1368.36 1548.85 L1368.36 1542.97 Z\" fill=\"#000000\" fill-rule=\"evenodd\" fill-opacity=\"1\" /><path clip-path=\"url(#clip420)\" d=\"M1393.43 1517.37 Q1389.82 1517.37 1387.99 1520.93 Q1386.18 1524.47 1386.18 1531.6 Q1386.18 1538.71 1387.99 1542.27 Q1389.82 1545.82 1393.43 1545.82 Q1397.06 1545.82 1398.87 1542.27 Q1400.7 1538.71 1400.7 1531.6 Q1400.7 1524.47 1398.87 1520.93 Q1397.06 1517.37 1393.43 1517.37 M1393.43 1513.66 Q1399.24 1513.66 1402.29 1518.27 Q1405.37 1522.85 1405.37 1531.6 Q1405.37 1540.33 1402.29 1544.94 Q1399.24 1549.52 1393.43 1549.52 Q1387.62 1549.52 1384.54 1544.94 Q1381.48 1540.33 1381.48 1531.6 Q1381.48 1522.85 1384.54 1518.27 Q1387.62 1513.66 1393.43 1513.66 Z\" fill=\"#000000\" fill-rule=\"evenodd\" fill-opacity=\"1\" /><path clip-path=\"url(#clip420)\" d=\"M1827.68 1514.29 L1849.91 1514.29 L1849.91 1516.28 L1837.36 1548.85 L1832.48 1548.85 L1844.28 1518.22 L1827.68 1518.22 L1827.68 1514.29 Z\" fill=\"#000000\" fill-rule=\"evenodd\" fill-opacity=\"1\" /><path clip-path=\"url(#clip420)\" d=\"M1859.03 1542.97 L1863.91 1542.97 L1863.91 1548.85 L1859.03 1548.85 L1859.03 1542.97 Z\" fill=\"#000000\" fill-rule=\"evenodd\" fill-opacity=\"1\" /><path clip-path=\"url(#clip420)\" d=\"M1874.14 1514.29 L1892.5 1514.29 L1892.5 1518.22 L1878.42 1518.22 L1878.42 1526.7 Q1879.44 1526.35 1880.46 1526.19 Q1881.48 1526 1882.5 1526 Q1888.29 1526 1891.67 1529.17 Q1895.04 1532.34 1895.04 1537.76 Q1895.04 1543.34 1891.57 1546.44 Q1888.1 1549.52 1881.78 1549.52 Q1879.61 1549.52 1877.34 1549.15 Q1875.09 1548.78 1872.68 1548.04 L1872.68 1543.34 Q1874.77 1544.47 1876.99 1545.03 Q1879.21 1545.58 1881.69 1545.58 Q1885.69 1545.58 1888.03 1543.48 Q1890.37 1541.37 1890.37 1537.76 Q1890.37 1534.15 1888.03 1532.04 Q1885.69 1529.94 1881.69 1529.94 Q1879.81 1529.94 1877.94 1530.35 Q1876.09 1530.77 1874.14 1531.65 L1874.14 1514.29 Z\" fill=\"#000000\" fill-rule=\"evenodd\" fill-opacity=\"1\" /><path clip-path=\"url(#clip420)\" d=\"M2303.72 1544.91 L2311.36 1544.91 L2311.36 1518.55 L2303.05 1520.21 L2303.05 1515.95 L2311.31 1514.29 L2315.99 1514.29 L2315.99 1544.91 L2323.63 1544.91 L2323.63 1548.85 L2303.72 1548.85 L2303.72 1544.91 Z\" fill=\"#000000\" fill-rule=\"evenodd\" fill-opacity=\"1\" /><path clip-path=\"url(#clip420)\" d=\"M2343.07 1517.37 Q2339.46 1517.37 2337.63 1520.93 Q2335.83 1524.47 2335.83 1531.6 Q2335.83 1538.71 2337.63 1542.27 Q2339.46 1545.82 2343.07 1545.82 Q2346.71 1545.82 2348.51 1542.27 Q2350.34 1538.71 2350.34 1531.6 Q2350.34 1524.47 2348.51 1520.93 Q2346.71 1517.37 2343.07 1517.37 M2343.07 1513.66 Q2348.88 1513.66 2351.94 1518.27 Q2355.02 1522.85 2355.02 1531.6 Q2355.02 1540.33 2351.94 1544.94 Q2348.88 1549.52 2343.07 1549.52 Q2337.26 1549.52 2334.18 1544.94 Q2331.13 1540.33 2331.13 1531.6 Q2331.13 1522.85 2334.18 1518.27 Q2337.26 1513.66 2343.07 1513.66 Z\" fill=\"#000000\" fill-rule=\"evenodd\" fill-opacity=\"1\" /><path clip-path=\"url(#clip420)\" d=\"M2363.24 1542.97 L2368.12 1542.97 L2368.12 1548.85 L2363.24 1548.85 L2363.24 1542.97 Z\" fill=\"#000000\" fill-rule=\"evenodd\" fill-opacity=\"1\" /><path clip-path=\"url(#clip420)\" d=\"M2388.3 1517.37 Q2384.69 1517.37 2382.86 1520.93 Q2381.06 1524.47 2381.06 1531.6 Q2381.06 1538.71 2382.86 1542.27 Q2384.69 1545.82 2388.3 1545.82 Q2391.94 1545.82 2393.74 1542.27 Q2395.57 1538.71 2395.57 1531.6 Q2395.57 1524.47 2393.74 1520.93 Q2391.94 1517.37 2388.3 1517.37 M2388.3 1513.66 Q2394.11 1513.66 2397.17 1518.27 Q2400.25 1522.85 2400.25 1531.6 Q2400.25 1540.33 2397.17 1544.94 Q2394.11 1549.52 2388.3 1549.52 Q2382.49 1549.52 2379.42 1544.94 Q2376.36 1540.33 2376.36 1531.6 Q2376.36 1522.85 2379.42 1518.27 Q2382.49 1513.66 2388.3 1513.66 Z\" fill=\"#000000\" fill-rule=\"evenodd\" fill-opacity=\"1\" /><polyline clip-path=\"url(#clip422)\" style=\"stroke:#000000; stroke-linecap:round; stroke-linejoin:round; stroke-width:2; stroke-opacity:0.1; fill:none\" points=\"\n",
       "  193.288,1344.36 2352.76,1344.36 \n",
       "  \"/>\n",
       "<polyline clip-path=\"url(#clip422)\" style=\"stroke:#000000; stroke-linecap:round; stroke-linejoin:round; stroke-width:2; stroke-opacity:0.1; fill:none\" points=\"\n",
       "  193.288,1132.61 2352.76,1132.61 \n",
       "  \"/>\n",
       "<polyline clip-path=\"url(#clip422)\" style=\"stroke:#000000; stroke-linecap:round; stroke-linejoin:round; stroke-width:2; stroke-opacity:0.1; fill:none\" points=\"\n",
       "  193.288,920.865 2352.76,920.865 \n",
       "  \"/>\n",
       "<polyline clip-path=\"url(#clip422)\" style=\"stroke:#000000; stroke-linecap:round; stroke-linejoin:round; stroke-width:2; stroke-opacity:0.1; fill:none\" points=\"\n",
       "  193.288,709.119 2352.76,709.119 \n",
       "  \"/>\n",
       "<polyline clip-path=\"url(#clip422)\" style=\"stroke:#000000; stroke-linecap:round; stroke-linejoin:round; stroke-width:2; stroke-opacity:0.1; fill:none\" points=\"\n",
       "  193.288,497.372 2352.76,497.372 \n",
       "  \"/>\n",
       "<polyline clip-path=\"url(#clip422)\" style=\"stroke:#000000; stroke-linecap:round; stroke-linejoin:round; stroke-width:2; stroke-opacity:0.1; fill:none\" points=\"\n",
       "  193.288,285.626 2352.76,285.626 \n",
       "  \"/>\n",
       "<polyline clip-path=\"url(#clip422)\" style=\"stroke:#000000; stroke-linecap:round; stroke-linejoin:round; stroke-width:2; stroke-opacity:0.1; fill:none\" points=\"\n",
       "  193.288,73.8793 2352.76,73.8793 \n",
       "  \"/>\n",
       "<polyline clip-path=\"url(#clip420)\" style=\"stroke:#000000; stroke-linecap:round; stroke-linejoin:round; stroke-width:4; stroke-opacity:1; fill:none\" points=\"\n",
       "  193.288,1486.45 193.288,47.2441 \n",
       "  \"/>\n",
       "<polyline clip-path=\"url(#clip420)\" style=\"stroke:#000000; stroke-linecap:round; stroke-linejoin:round; stroke-width:4; stroke-opacity:1; fill:none\" points=\"\n",
       "  193.288,1344.36 212.185,1344.36 \n",
       "  \"/>\n",
       "<polyline clip-path=\"url(#clip420)\" style=\"stroke:#000000; stroke-linecap:round; stroke-linejoin:round; stroke-width:4; stroke-opacity:1; fill:none\" points=\"\n",
       "  193.288,1132.61 212.185,1132.61 \n",
       "  \"/>\n",
       "<polyline clip-path=\"url(#clip420)\" style=\"stroke:#000000; stroke-linecap:round; stroke-linejoin:round; stroke-width:4; stroke-opacity:1; fill:none\" points=\"\n",
       "  193.288,920.865 212.185,920.865 \n",
       "  \"/>\n",
       "<polyline clip-path=\"url(#clip420)\" style=\"stroke:#000000; stroke-linecap:round; stroke-linejoin:round; stroke-width:4; stroke-opacity:1; fill:none\" points=\"\n",
       "  193.288,709.119 212.185,709.119 \n",
       "  \"/>\n",
       "<polyline clip-path=\"url(#clip420)\" style=\"stroke:#000000; stroke-linecap:round; stroke-linejoin:round; stroke-width:4; stroke-opacity:1; fill:none\" points=\"\n",
       "  193.288,497.372 212.185,497.372 \n",
       "  \"/>\n",
       "<polyline clip-path=\"url(#clip420)\" style=\"stroke:#000000; stroke-linecap:round; stroke-linejoin:round; stroke-width:4; stroke-opacity:1; fill:none\" points=\"\n",
       "  193.288,285.626 212.185,285.626 \n",
       "  \"/>\n",
       "<polyline clip-path=\"url(#clip420)\" style=\"stroke:#000000; stroke-linecap:round; stroke-linejoin:round; stroke-width:4; stroke-opacity:1; fill:none\" points=\"\n",
       "  193.288,73.8793 212.185,73.8793 \n",
       "  \"/>\n",
       "<path clip-path=\"url(#clip420)\" d=\"M50.9921 1344.81 L80.6679 1344.81 L80.6679 1348.74 L50.9921 1348.74 L50.9921 1344.81 Z\" fill=\"#000000\" fill-rule=\"evenodd\" fill-opacity=\"1\" /><path clip-path=\"url(#clip420)\" d=\"M100.76 1330.16 Q97.1493 1330.16 95.3206 1333.72 Q93.515 1337.26 93.515 1344.39 Q93.515 1351.5 95.3206 1355.06 Q97.1493 1358.61 100.76 1358.61 Q104.395 1358.61 106.2 1355.06 Q108.029 1351.5 108.029 1344.39 Q108.029 1337.26 106.2 1333.72 Q104.395 1330.16 100.76 1330.16 M100.76 1326.45 Q106.571 1326.45 109.626 1331.06 Q112.705 1335.64 112.705 1344.39 Q112.705 1353.12 109.626 1357.73 Q106.571 1362.31 100.76 1362.31 Q94.9502 1362.31 91.8715 1357.73 Q88.816 1353.12 88.816 1344.39 Q88.816 1335.64 91.8715 1331.06 Q94.9502 1326.45 100.76 1326.45 Z\" fill=\"#000000\" fill-rule=\"evenodd\" fill-opacity=\"1\" /><path clip-path=\"url(#clip420)\" d=\"M120.922 1355.76 L125.807 1355.76 L125.807 1361.64 L120.922 1361.64 L120.922 1355.76 Z\" fill=\"#000000\" fill-rule=\"evenodd\" fill-opacity=\"1\" /><path clip-path=\"url(#clip420)\" d=\"M150.158 1343 Q153.515 1343.72 155.39 1345.99 Q157.288 1348.26 157.288 1351.59 Q157.288 1356.71 153.769 1359.51 Q150.251 1362.31 143.769 1362.31 Q141.593 1362.31 139.279 1361.87 Q136.987 1361.45 134.533 1360.6 L134.533 1356.08 Q136.478 1357.22 138.793 1357.8 Q141.107 1358.37 143.631 1358.37 Q148.029 1358.37 150.32 1356.64 Q152.635 1354.9 152.635 1351.59 Q152.635 1348.54 150.482 1346.82 Q148.353 1345.09 144.533 1345.09 L140.506 1345.09 L140.506 1341.24 L144.718 1341.24 Q148.168 1341.24 149.996 1339.88 Q151.825 1338.49 151.825 1335.9 Q151.825 1333.24 149.927 1331.82 Q148.052 1330.39 144.533 1330.39 Q142.612 1330.39 140.413 1330.81 Q138.214 1331.22 135.575 1332.1 L135.575 1327.93 Q138.237 1327.19 140.552 1326.82 Q142.89 1326.45 144.95 1326.45 Q150.274 1326.45 153.376 1328.88 Q156.478 1331.29 156.478 1335.41 Q156.478 1338.28 154.834 1340.27 Q153.191 1342.24 150.158 1343 Z\" fill=\"#000000\" fill-rule=\"evenodd\" fill-opacity=\"1\" /><path clip-path=\"url(#clip420)\" d=\"M51.9412 1133.06 L81.617 1133.06 L81.617 1137 L51.9412 1137 L51.9412 1133.06 Z\" fill=\"#000000\" fill-rule=\"evenodd\" fill-opacity=\"1\" /><path clip-path=\"url(#clip420)\" d=\"M101.709 1118.41 Q98.0984 1118.41 96.2697 1121.98 Q94.4641 1125.52 94.4641 1132.65 Q94.4641 1139.75 96.2697 1143.32 Q98.0984 1146.86 101.709 1146.86 Q105.344 1146.86 107.149 1143.32 Q108.978 1139.75 108.978 1132.65 Q108.978 1125.52 107.149 1121.98 Q105.344 1118.41 101.709 1118.41 M101.709 1114.71 Q107.52 1114.71 110.575 1119.31 Q113.654 1123.9 113.654 1132.65 Q113.654 1141.37 110.575 1145.98 Q107.52 1150.56 101.709 1150.56 Q95.8993 1150.56 92.8206 1145.98 Q89.7651 1141.37 89.7651 1132.65 Q89.7651 1123.9 92.8206 1119.31 Q95.8993 1114.71 101.709 1114.71 Z\" fill=\"#000000\" fill-rule=\"evenodd\" fill-opacity=\"1\" /><path clip-path=\"url(#clip420)\" d=\"M121.871 1144.01 L126.756 1144.01 L126.756 1149.89 L121.871 1149.89 L121.871 1144.01 Z\" fill=\"#000000\" fill-rule=\"evenodd\" fill-opacity=\"1\" /><path clip-path=\"url(#clip420)\" d=\"M140.968 1145.96 L157.288 1145.96 L157.288 1149.89 L135.344 1149.89 L135.344 1145.96 Q138.006 1143.2 142.589 1138.57 Q147.195 1133.92 148.376 1132.58 Q150.621 1130.05 151.501 1128.32 Q152.404 1126.56 152.404 1124.87 Q152.404 1122.11 150.459 1120.38 Q148.538 1118.64 145.436 1118.64 Q143.237 1118.64 140.783 1119.41 Q138.353 1120.17 135.575 1121.72 L135.575 1117 Q138.399 1115.86 140.853 1115.29 Q143.306 1114.71 145.343 1114.71 Q150.714 1114.71 153.908 1117.39 Q157.103 1120.08 157.103 1124.57 Q157.103 1126.7 156.292 1128.62 Q155.505 1130.52 153.399 1133.11 Q152.82 1133.78 149.718 1137 Q146.617 1140.19 140.968 1145.96 Z\" fill=\"#000000\" fill-rule=\"evenodd\" fill-opacity=\"1\" /><path clip-path=\"url(#clip420)\" d=\"M51.5708 921.317 L81.2466 921.317 L81.2466 925.252 L51.5708 925.252 L51.5708 921.317 Z\" fill=\"#000000\" fill-rule=\"evenodd\" fill-opacity=\"1\" /><path clip-path=\"url(#clip420)\" d=\"M101.339 906.664 Q97.728 906.664 95.8993 910.229 Q94.0937 913.77 94.0937 920.9 Q94.0937 928.006 95.8993 931.571 Q97.728 935.113 101.339 935.113 Q104.973 935.113 106.779 931.571 Q108.608 928.006 108.608 920.9 Q108.608 913.77 106.779 910.229 Q104.973 906.664 101.339 906.664 M101.339 902.96 Q107.149 902.96 110.205 907.567 Q113.283 912.15 113.283 920.9 Q113.283 929.627 110.205 934.233 Q107.149 938.817 101.339 938.817 Q95.5289 938.817 92.4502 934.233 Q89.3947 929.627 89.3947 920.9 Q89.3947 912.15 92.4502 907.567 Q95.5289 902.96 101.339 902.96 Z\" fill=\"#000000\" fill-rule=\"evenodd\" fill-opacity=\"1\" /><path clip-path=\"url(#clip420)\" d=\"M121.501 932.266 L126.385 932.266 L126.385 938.145 L121.501 938.145 L121.501 932.266 Z\" fill=\"#000000\" fill-rule=\"evenodd\" fill-opacity=\"1\" /><path clip-path=\"url(#clip420)\" d=\"M137.381 934.21 L145.019 934.21 L145.019 907.844 L136.709 909.511 L136.709 905.252 L144.973 903.585 L149.649 903.585 L149.649 934.21 L157.288 934.21 L157.288 938.145 L137.381 938.145 L137.381 934.21 Z\" fill=\"#000000\" fill-rule=\"evenodd\" fill-opacity=\"1\" /><path clip-path=\"url(#clip420)\" d=\"M100.112 694.917 Q96.5011 694.917 94.6724 698.482 Q92.8669 702.024 92.8669 709.153 Q92.8669 716.26 94.6724 719.825 Q96.5011 723.366 100.112 723.366 Q103.746 723.366 105.552 719.825 Q107.381 716.26 107.381 709.153 Q107.381 702.024 105.552 698.482 Q103.746 694.917 100.112 694.917 M100.112 691.214 Q105.922 691.214 108.978 695.82 Q112.057 700.404 112.057 709.153 Q112.057 717.88 108.978 722.487 Q105.922 727.07 100.112 727.07 Q94.3021 727.07 91.2234 722.487 Q88.1679 717.88 88.1679 709.153 Q88.1679 700.404 91.2234 695.82 Q94.3021 691.214 100.112 691.214 Z\" fill=\"#000000\" fill-rule=\"evenodd\" fill-opacity=\"1\" /><path clip-path=\"url(#clip420)\" d=\"M120.274 720.519 L125.158 720.519 L125.158 726.399 L120.274 726.399 L120.274 720.519 Z\" fill=\"#000000\" fill-rule=\"evenodd\" fill-opacity=\"1\" /><path clip-path=\"url(#clip420)\" d=\"M145.343 694.917 Q141.732 694.917 139.904 698.482 Q138.098 702.024 138.098 709.153 Q138.098 716.26 139.904 719.825 Q141.732 723.366 145.343 723.366 Q148.978 723.366 150.783 719.825 Q152.612 716.26 152.612 709.153 Q152.612 702.024 150.783 698.482 Q148.978 694.917 145.343 694.917 M145.343 691.214 Q151.154 691.214 154.209 695.82 Q157.288 700.404 157.288 709.153 Q157.288 717.88 154.209 722.487 Q151.154 727.07 145.343 727.07 Q139.533 727.07 136.455 722.487 Q133.399 717.88 133.399 709.153 Q133.399 700.404 136.455 695.82 Q139.533 691.214 145.343 691.214 Z\" fill=\"#000000\" fill-rule=\"evenodd\" fill-opacity=\"1\" /><path clip-path=\"url(#clip420)\" d=\"M101.339 483.171 Q97.728 483.171 95.8993 486.736 Q94.0937 490.277 94.0937 497.407 Q94.0937 504.513 95.8993 508.078 Q97.728 511.62 101.339 511.62 Q104.973 511.62 106.779 508.078 Q108.608 504.513 108.608 497.407 Q108.608 490.277 106.779 486.736 Q104.973 483.171 101.339 483.171 M101.339 479.467 Q107.149 479.467 110.205 484.074 Q113.283 488.657 113.283 497.407 Q113.283 506.134 110.205 510.74 Q107.149 515.324 101.339 515.324 Q95.5289 515.324 92.4502 510.74 Q89.3947 506.134 89.3947 497.407 Q89.3947 488.657 92.4502 484.074 Q95.5289 479.467 101.339 479.467 Z\" fill=\"#000000\" fill-rule=\"evenodd\" fill-opacity=\"1\" /><path clip-path=\"url(#clip420)\" d=\"M121.501 508.773 L126.385 508.773 L126.385 514.652 L121.501 514.652 L121.501 508.773 Z\" fill=\"#000000\" fill-rule=\"evenodd\" fill-opacity=\"1\" /><path clip-path=\"url(#clip420)\" d=\"M137.381 510.717 L145.019 510.717 L145.019 484.352 L136.709 486.018 L136.709 481.759 L144.973 480.092 L149.649 480.092 L149.649 510.717 L157.288 510.717 L157.288 514.652 L137.381 514.652 L137.381 510.717 Z\" fill=\"#000000\" fill-rule=\"evenodd\" fill-opacity=\"1\" /><path clip-path=\"url(#clip420)\" d=\"M101.709 271.424 Q98.0984 271.424 96.2697 274.989 Q94.4641 278.531 94.4641 285.661 Q94.4641 292.767 96.2697 296.332 Q98.0984 299.873 101.709 299.873 Q105.344 299.873 107.149 296.332 Q108.978 292.767 108.978 285.661 Q108.978 278.531 107.149 274.989 Q105.344 271.424 101.709 271.424 M101.709 267.721 Q107.52 267.721 110.575 272.327 Q113.654 276.911 113.654 285.661 Q113.654 294.387 110.575 298.994 Q107.52 303.577 101.709 303.577 Q95.8993 303.577 92.8206 298.994 Q89.7651 294.387 89.7651 285.661 Q89.7651 276.911 92.8206 272.327 Q95.8993 267.721 101.709 267.721 Z\" fill=\"#000000\" fill-rule=\"evenodd\" fill-opacity=\"1\" /><path clip-path=\"url(#clip420)\" d=\"M121.871 297.026 L126.756 297.026 L126.756 302.906 L121.871 302.906 L121.871 297.026 Z\" fill=\"#000000\" fill-rule=\"evenodd\" fill-opacity=\"1\" /><path clip-path=\"url(#clip420)\" d=\"M140.968 298.971 L157.288 298.971 L157.288 302.906 L135.344 302.906 L135.344 298.971 Q138.006 296.216 142.589 291.586 Q147.195 286.934 148.376 285.591 Q150.621 283.068 151.501 281.332 Q152.404 279.573 152.404 277.883 Q152.404 275.128 150.459 273.392 Q148.538 271.656 145.436 271.656 Q143.237 271.656 140.783 272.42 Q138.353 273.184 135.575 274.735 L135.575 270.012 Q138.399 268.878 140.853 268.299 Q143.306 267.721 145.343 267.721 Q150.714 267.721 153.908 270.406 Q157.103 273.091 157.103 277.582 Q157.103 279.711 156.292 281.633 Q155.505 283.531 153.399 286.123 Q152.82 286.795 149.718 290.012 Q146.617 293.207 140.968 298.971 Z\" fill=\"#000000\" fill-rule=\"evenodd\" fill-opacity=\"1\" /><path clip-path=\"url(#clip420)\" d=\"M100.76 59.678 Q97.1493 59.678 95.3206 63.2428 Q93.515 66.7844 93.515 73.914 Q93.515 81.0205 95.3206 84.5853 Q97.1493 88.1269 100.76 88.1269 Q104.395 88.1269 106.2 84.5853 Q108.029 81.0205 108.029 73.914 Q108.029 66.7844 106.2 63.2428 Q104.395 59.678 100.76 59.678 M100.76 55.9743 Q106.571 55.9743 109.626 60.5808 Q112.705 65.1641 112.705 73.914 Q112.705 82.6408 109.626 87.2473 Q106.571 91.8306 100.76 91.8306 Q94.9502 91.8306 91.8715 87.2473 Q88.816 82.6408 88.816 73.914 Q88.816 65.1641 91.8715 60.5808 Q94.9502 55.9743 100.76 55.9743 Z\" fill=\"#000000\" fill-rule=\"evenodd\" fill-opacity=\"1\" /><path clip-path=\"url(#clip420)\" d=\"M120.922 85.2797 L125.807 85.2797 L125.807 91.1593 L120.922 91.1593 L120.922 85.2797 Z\" fill=\"#000000\" fill-rule=\"evenodd\" fill-opacity=\"1\" /><path clip-path=\"url(#clip420)\" d=\"M150.158 72.5251 Q153.515 73.2427 155.39 75.5112 Q157.288 77.7797 157.288 81.1131 Q157.288 86.2288 153.769 89.0297 Q150.251 91.8306 143.769 91.8306 Q141.593 91.8306 139.279 91.3908 Q136.987 90.9741 134.533 90.1176 L134.533 85.6038 Q136.478 86.738 138.793 87.3167 Q141.107 87.8954 143.631 87.8954 Q148.029 87.8954 150.32 86.1593 Q152.635 84.4232 152.635 81.1131 Q152.635 78.0575 150.482 76.3446 Q148.353 74.6085 144.533 74.6085 L140.506 74.6085 L140.506 70.7659 L144.718 70.7659 Q148.168 70.7659 149.996 69.4002 Q151.825 68.0113 151.825 65.4187 Q151.825 62.7567 149.927 61.3446 Q148.052 59.9095 144.533 59.9095 Q142.612 59.9095 140.413 60.3261 Q138.214 60.7428 135.575 61.6224 L135.575 57.4558 Q138.237 56.715 140.552 56.3447 Q142.89 55.9743 144.95 55.9743 Q150.274 55.9743 153.376 58.4048 Q156.478 60.8122 156.478 64.9326 Q156.478 67.8029 154.834 69.7937 Q153.191 71.7613 150.158 72.5251 Z\" fill=\"#000000\" fill-rule=\"evenodd\" fill-opacity=\"1\" /><path clip-path=\"url(#clip422)\" d=\"\n",
       "M312.062 87.9763 L312.062 709.119 L468.954 709.119 L468.954 87.9763 L312.062 87.9763 L312.062 87.9763  Z\n",
       "  \" fill=\"#009af9\" fill-rule=\"evenodd\" fill-opacity=\"1\"/>\n",
       "<polyline clip-path=\"url(#clip422)\" style=\"stroke:#000000; stroke-linecap:round; stroke-linejoin:round; stroke-width:4; stroke-opacity:1; fill:none\" points=\"\n",
       "  312.062,87.9763 312.062,709.119 468.954,709.119 468.954,87.9763 312.062,87.9763 \n",
       "  \"/>\n",
       "<path clip-path=\"url(#clip422)\" d=\"\n",
       "M508.177 855.954 L508.177 709.119 L665.068 709.119 L665.068 855.954 L508.177 855.954 L508.177 855.954  Z\n",
       "  \" fill=\"#009af9\" fill-rule=\"evenodd\" fill-opacity=\"1\"/>\n",
       "<polyline clip-path=\"url(#clip422)\" style=\"stroke:#000000; stroke-linecap:round; stroke-linejoin:round; stroke-width:4; stroke-opacity:1; fill:none\" points=\"\n",
       "  508.177,855.954 508.177,709.119 665.068,709.119 665.068,855.954 508.177,855.954 \n",
       "  \"/>\n",
       "<path clip-path=\"url(#clip422)\" d=\"\n",
       "M704.291 966.292 L704.291 709.119 L861.182 709.119 L861.182 966.292 L704.291 966.292 L704.291 966.292  Z\n",
       "  \" fill=\"#009af9\" fill-rule=\"evenodd\" fill-opacity=\"1\"/>\n",
       "<polyline clip-path=\"url(#clip422)\" style=\"stroke:#000000; stroke-linecap:round; stroke-linejoin:round; stroke-width:4; stroke-opacity:1; fill:none\" points=\"\n",
       "  704.291,966.292 704.291,709.119 861.182,709.119 861.182,966.292 704.291,966.292 \n",
       "  \"/>\n",
       "<path clip-path=\"url(#clip422)\" d=\"\n",
       "M900.405 633.92 L900.405 709.119 L1057.3 709.119 L1057.3 633.92 L900.405 633.92 L900.405 633.92  Z\n",
       "  \" fill=\"#009af9\" fill-rule=\"evenodd\" fill-opacity=\"1\"/>\n",
       "<polyline clip-path=\"url(#clip422)\" style=\"stroke:#000000; stroke-linecap:round; stroke-linejoin:round; stroke-width:4; stroke-opacity:1; fill:none\" points=\"\n",
       "  900.405,633.92 900.405,709.119 1057.3,709.119 1057.3,633.92 900.405,633.92 \n",
       "  \"/>\n",
       "<path clip-path=\"url(#clip422)\" d=\"\n",
       "M1096.52 490.968 L1096.52 709.119 L1253.41 709.119 L1253.41 490.968 L1096.52 490.968 L1096.52 490.968  Z\n",
       "  \" fill=\"#009af9\" fill-rule=\"evenodd\" fill-opacity=\"1\"/>\n",
       "<polyline clip-path=\"url(#clip422)\" style=\"stroke:#000000; stroke-linecap:round; stroke-linejoin:round; stroke-width:4; stroke-opacity:1; fill:none\" points=\"\n",
       "  1096.52,490.968 1096.52,709.119 1253.41,709.119 1253.41,490.968 1096.52,490.968 \n",
       "  \"/>\n",
       "<path clip-path=\"url(#clip422)\" d=\"\n",
       "M1292.63 1445.72 L1292.63 709.119 L1449.52 709.119 L1449.52 1445.72 L1292.63 1445.72 L1292.63 1445.72  Z\n",
       "  \" fill=\"#009af9\" fill-rule=\"evenodd\" fill-opacity=\"1\"/>\n",
       "<polyline clip-path=\"url(#clip422)\" style=\"stroke:#000000; stroke-linecap:round; stroke-linejoin:round; stroke-width:4; stroke-opacity:1; fill:none\" points=\"\n",
       "  1292.63,1445.72 1292.63,709.119 1449.52,709.119 1449.52,1445.72 1292.63,1445.72 \n",
       "  \"/>\n",
       "<path clip-path=\"url(#clip422)\" d=\"\n",
       "M1488.75 484.899 L1488.75 709.119 L1645.64 709.119 L1645.64 484.899 L1488.75 484.899 L1488.75 484.899  Z\n",
       "  \" fill=\"#009af9\" fill-rule=\"evenodd\" fill-opacity=\"1\"/>\n",
       "<polyline clip-path=\"url(#clip422)\" style=\"stroke:#000000; stroke-linecap:round; stroke-linejoin:round; stroke-width:4; stroke-opacity:1; fill:none\" points=\"\n",
       "  1488.75,484.899 1488.75,709.119 1645.64,709.119 1645.64,484.899 1488.75,484.899 \n",
       "  \"/>\n",
       "<path clip-path=\"url(#clip422)\" d=\"\n",
       "M1684.86 1233.62 L1684.86 709.119 L1841.75 709.119 L1841.75 1233.62 L1684.86 1233.62 L1684.86 1233.62  Z\n",
       "  \" fill=\"#009af9\" fill-rule=\"evenodd\" fill-opacity=\"1\"/>\n",
       "<polyline clip-path=\"url(#clip422)\" style=\"stroke:#000000; stroke-linecap:round; stroke-linejoin:round; stroke-width:4; stroke-opacity:1; fill:none\" points=\"\n",
       "  1684.86,1233.62 1684.86,709.119 1841.75,709.119 1841.75,1233.62 1684.86,1233.62 \n",
       "  \"/>\n",
       "<path clip-path=\"url(#clip422)\" d=\"\n",
       "M1880.98 491.309 L1880.98 709.119 L2037.87 709.119 L2037.87 491.309 L1880.98 491.309 L1880.98 491.309  Z\n",
       "  \" fill=\"#009af9\" fill-rule=\"evenodd\" fill-opacity=\"1\"/>\n",
       "<polyline clip-path=\"url(#clip422)\" style=\"stroke:#000000; stroke-linecap:round; stroke-linejoin:round; stroke-width:4; stroke-opacity:1; fill:none\" points=\"\n",
       "  1880.98,491.309 1880.98,709.119 2037.87,709.119 2037.87,491.309 1880.98,491.309 \n",
       "  \"/>\n",
       "<path clip-path=\"url(#clip422)\" d=\"\n",
       "M2077.09 408.996 L2077.09 709.119 L2233.98 709.119 L2233.98 408.996 L2077.09 408.996 L2077.09 408.996  Z\n",
       "  \" fill=\"#009af9\" fill-rule=\"evenodd\" fill-opacity=\"1\"/>\n",
       "<polyline clip-path=\"url(#clip422)\" style=\"stroke:#000000; stroke-linecap:round; stroke-linejoin:round; stroke-width:4; stroke-opacity:1; fill:none\" points=\"\n",
       "  2077.09,408.996 2077.09,709.119 2233.98,709.119 2233.98,408.996 2077.09,408.996 \n",
       "  \"/>\n",
       "<circle clip-path=\"url(#clip422)\" style=\"fill:#009af9; stroke:none; fill-opacity:0\" cx=\"390.508\" cy=\"87.9763\" r=\"2\"/>\n",
       "<circle clip-path=\"url(#clip422)\" style=\"fill:#009af9; stroke:none; fill-opacity:0\" cx=\"586.622\" cy=\"855.954\" r=\"2\"/>\n",
       "<circle clip-path=\"url(#clip422)\" style=\"fill:#009af9; stroke:none; fill-opacity:0\" cx=\"782.736\" cy=\"966.292\" r=\"2\"/>\n",
       "<circle clip-path=\"url(#clip422)\" style=\"fill:#009af9; stroke:none; fill-opacity:0\" cx=\"978.851\" cy=\"633.92\" r=\"2\"/>\n",
       "<circle clip-path=\"url(#clip422)\" style=\"fill:#009af9; stroke:none; fill-opacity:0\" cx=\"1174.96\" cy=\"490.968\" r=\"2\"/>\n",
       "<circle clip-path=\"url(#clip422)\" style=\"fill:#009af9; stroke:none; fill-opacity:0\" cx=\"1371.08\" cy=\"1445.72\" r=\"2\"/>\n",
       "<circle clip-path=\"url(#clip422)\" style=\"fill:#009af9; stroke:none; fill-opacity:0\" cx=\"1567.19\" cy=\"484.899\" r=\"2\"/>\n",
       "<circle clip-path=\"url(#clip422)\" style=\"fill:#009af9; stroke:none; fill-opacity:0\" cx=\"1763.31\" cy=\"1233.62\" r=\"2\"/>\n",
       "<circle clip-path=\"url(#clip422)\" style=\"fill:#009af9; stroke:none; fill-opacity:0\" cx=\"1959.42\" cy=\"491.309\" r=\"2\"/>\n",
       "<circle clip-path=\"url(#clip422)\" style=\"fill:#009af9; stroke:none; fill-opacity:0\" cx=\"2155.54\" cy=\"408.996\" r=\"2\"/>\n",
       "</svg>\n"
      ]
     },
     "metadata": {},
     "output_type": "display_data"
    }
   ],
   "source": [
    "function normalize(x_train, mean_=nothing, std_=nothing)\n",
    "    if mean_ == nothing && std_ == nothing\n",
    "        #TODO normalize x_train\n",
    "        #return `normalized_train_x`, `mean_`, `std_`\n",
    "        #mean_ and std_ will be re-used to pre-process test set\n",
    "        mean_ = mean(x_train, dims=1)\n",
    "        std_ = std(x_train, dims=1)\n",
    "        z_score = (x_train .- mean_) ./ std_\n",
    "        return z_score, mean_, std_\n",
    "    end\n",
    "    return (x_train .- mean_) ./ std_\n",
    "end\n",
    "\n",
    "normalized_train_x, mean_, std_ = normalize(train_x_new)\n",
    "\n",
    "s_mean = compute_average_intensity(normalized_train_x, train_y)\n",
    "bar(0:9, s_mean, legend=false)"
   ]
  },
  {
   "cell_type": "markdown",
   "id": "ff7aa29a",
   "metadata": {
    "colab_type": "text",
    "id": "KRLBISDqrRDW"
   },
   "source": [
    "### Construct  data"
   ]
  },
  {
   "cell_type": "code",
   "execution_count": 11,
   "id": "efe8d064",
   "metadata": {},
   "outputs": [
    {
     "data": {
      "text/plain": [
       "(60000, 1)"
      ]
     },
     "metadata": {},
     "output_type": "display_data"
    }
   ],
   "source": [
    "# change the label: y=1 -> stay unchanged, y!=1 -> y=0\n",
    "train_y_new = reshape(deepcopy(train_y), (size(train_y)[1], 1))\n",
    "train_y_new[train_y_new .!= 1] .= 0\n",
    "size(train_y_new)"
   ]
  },
  {
   "cell_type": "code",
   "execution_count": 12,
   "id": "98dfb0f9",
   "metadata": {},
   "outputs": [
    {
     "data": {
      "text/plain": [
       "(60000, 3)"
      ]
     },
     "metadata": {},
     "output_type": "display_data"
    }
   ],
   "source": [
    "# contruct data by adding ones\n",
    "add_one_train_x = hcat(ones(size(normalized_train_x)[1],), normalized_train_x)\n",
    "size(add_one_train_x)"
   ]
  },
  {
   "cell_type": "markdown",
   "id": "ef20783b",
   "metadata": {
    "colab_type": "text",
    "id": "CIeY4oA8rRDo"
   },
   "source": [
    "### Sigmoid function and derivative of the sigmoid function"
   ]
  },
  {
   "cell_type": "code",
   "execution_count": 13,
   "id": "08a7c92c",
   "metadata": {},
   "outputs": [
    {
     "data": {
      "text/plain": [
       "sigmoid_deriv (generic function with 1 method)"
      ]
     },
     "metadata": {},
     "output_type": "display_data"
    }
   ],
   "source": [
    "function sigmoid_activation(x)\n",
    "    \"\"\"\n",
    "    Compute the sigmoid activation value for a given input\n",
    "    \"\"\"\n",
    "    return 1.0 ./ (1.0 .+ exp.(-x))\n",
    "end\n",
    "\n",
    "function sigmoid_deriv(x)\n",
    "    \"\"\"\n",
    "    Compute the derivative of the sigmoid function ASSUMING\n",
    "    that the input 'x' has already been passed through the sigmoid\n",
    "    activation function\n",
    "    \"\"\"\n",
    "    return x .* (1 .- x)\n",
    "end"
   ]
  },
  {
   "cell_type": "markdown",
   "id": "b378bcda",
   "metadata": {
    "colab_type": "text",
    "id": "bvFr3X38rRD0"
   },
   "source": [
    "### Compute output"
   ]
  },
  {
   "cell_type": "code",
   "execution_count": 14,
   "id": "37b4e61f",
   "metadata": {},
   "outputs": [
    {
     "data": {
      "text/plain": [
       "predict (generic function with 1 method)"
      ]
     },
     "metadata": {},
     "output_type": "display_data"
    }
   ],
   "source": [
    "function compute_h(W, X)\n",
    "    \"\"\"\n",
    "    Compute output: Take the inner product between our features 'X' and the weight\n",
    "    matrix 'W', then pass this value through our sigmoid activation function \n",
    "    \"\"\"\n",
    "    return X*W\n",
    "end\n",
    "\n",
    "function predict(W, X)\n",
    "    \"\"\"\n",
    "    Take the inner product between our features and weight matrix, \n",
    "    then pass this value through our sigmoid activation\n",
    "    \"\"\"\n",
    "    preds = sigmoid_activation(compute_h(W, X))\n",
    "\n",
    "    # apply a step function to threshold the outputs to binary\n",
    "    # class labels\n",
    "    preds[preds .<= 0.5] .= 0\n",
    "    preds[preds .> 0] .= 1\n",
    "\n",
    "    return preds\n",
    "end"
   ]
  },
  {
   "cell_type": "markdown",
   "id": "d4a09ea4",
   "metadata": {},
   "source": [
    "### Compute gradient"
   ]
  },
  {
   "cell_type": "markdown",
   "id": "7d90076f",
   "metadata": {},
   "source": [
    "**Loss Function: Average negative log likelihood**\n",
    "$$\\mathcal{L}=\\dfrac{1}{N} \\sum_{i=1}^{N} -\\left(y^{i}\\ln h_{\\mathbf{w}}\\left(\\mathbf{x}^{i}\\right)+\\left(1-y^{i}\\right)\\ln \\left(1-h_{\\mathbf{w}}\\left(x^{i}\\right)\\right)\\right) $$\n",
    "\n",
    "\n",
    "$$\\text{Sigmoid Activation: } z= \\sigma \\left(h\\right)= \\dfrac{1}{1+e^{-h}}$$\n",
    "\n",
    "$$\\text{Cross-entropy: } J(w)=-\\left({ylog(z)+(1-y)log(1-z)}\\right)$$\n",
    "\n",
    "$$\\text{Chain rule: } \\dfrac{\\partial J(w)}{\\partial w}=\\dfrac{\\partial J(w)}{\\partial z} \\dfrac{\\partial z}{\\partial h}\\dfrac{\\partial h}{\\partial w}  $$\n",
    "\n",
    "$$\\dfrac{\\partial J(w)}{\\partial z}=-\\left(\\dfrac{y}{z}-\\dfrac{1-y}{1-z}\\right)=\\dfrac{z-y}{z(1-z)}$$\n",
    "\n",
    "$$\\dfrac{\\partial z}{\\partial h}=z(1-z)$$\n",
    "\n",
    "$$\\dfrac{\\partial h}{\\partial w}=X$$\n",
    "\n",
    "$$\\dfrac{\\partial J(w)}{\\partial w}=X^T(z-y)$$"
   ]
  },
  {
   "cell_type": "code",
   "execution_count": 15,
   "id": "8a7fe449",
   "metadata": {},
   "outputs": [
    {
     "data": {
      "text/plain": [
       "compute_gradient (generic function with 1 method)"
      ]
     },
     "metadata": {},
     "output_type": "display_data"
    }
   ],
   "source": [
    "function compute_gradient(error, train_x)\n",
    "    \"\"\"\n",
    "    the gradient descent update is the dot product between our\n",
    "    features and the error of the sigmoid derivative of\n",
    "    our predictions\n",
    "    \"\"\"\n",
    "    #TODO compute gradient\n",
    "    gradient = train_x' * error\n",
    "    return gradient\n",
    "end"
   ]
  },
  {
   "cell_type": "code",
   "execution_count": 16,
   "id": "cd44a9dc",
   "metadata": {},
   "outputs": [
    {
     "data": {
      "text/plain": [
       "train (generic function with 1 method)"
      ]
     },
     "metadata": {},
     "output_type": "display_data"
    }
   ],
   "source": [
    "function train(W, train_x, train_y, learning_rate, num_epochs)\n",
    "    losses = []\n",
    "    for epoch in 1:num_epochs\n",
    "        y_hat = sigmoid_activation(compute_h(W, train_x))\n",
    "        error = y_hat - train_y\n",
    "        append!(losses, mean(-1 .* train_y .* log.(y_hat) .- (1 .- train_y) .* log.(1 .- y_hat)))\n",
    "        grad = compute_gradient(error, train_x)\n",
    "        W -= learning_rate * grad\n",
    "\n",
    "        if epoch == 1 || epoch % 50 == 0\n",
    "            print(\"Epoch=$epoch; Loss=$(losses[end])\\n\")\n",
    "        end\n",
    "    end\n",
    "    return W, losses\n",
    "end"
   ]
  },
  {
   "cell_type": "markdown",
   "id": "c7f5f22e",
   "metadata": {
    "colab_type": "text",
    "id": "ovhGMiV6rREb"
   },
   "source": [
    "### Train our model"
   ]
  },
  {
   "cell_type": "code",
   "execution_count": 24,
   "id": "73ee3728",
   "metadata": {
    "scrolled": true
   },
   "outputs": [
    {
     "name": "stdout",
     "output_type": "stream",
     "text": [
      "Epoch=1; Loss=0.8880910908428759\n",
      "Epoch=50; Loss=NaN\n"
     ]
    },
    {
     "name": "stdout",
     "output_type": "stream",
     "text": [
      "Epoch=100; Loss=NaN\n",
      "Epoch=150; Loss=NaN\n"
     ]
    },
    {
     "name": "stdout",
     "output_type": "stream",
     "text": [
      "Epoch=200; Loss=NaN\n",
      "Epoch=250; Loss=NaN\n"
     ]
    },
    {
     "name": "stdout",
     "output_type": "stream",
     "text": [
      "Epoch=300; Loss=NaN\n",
      "Epoch=350; Loss=NaN\n"
     ]
    },
    {
     "name": "stdout",
     "output_type": "stream",
     "text": [
      "Epoch=400; Loss=NaN\n",
      "Epoch=450; Loss=NaN\n"
     ]
    },
    {
     "name": "stdout",
     "output_type": "stream",
     "text": [
      "Epoch=500; Loss=NaN\n",
      "Epoch=550; Loss=NaN\n"
     ]
    },
    {
     "name": "stdout",
     "output_type": "stream",
     "text": [
      "Epoch=600; Loss=NaN\n",
      "Epoch=650; Loss=NaN\n"
     ]
    },
    {
     "name": "stdout",
     "output_type": "stream",
     "text": [
      "Epoch=700; Loss=NaN\n",
      "Epoch=750; Loss=NaN\n"
     ]
    },
    {
     "name": "stdout",
     "output_type": "stream",
     "text": [
      "Epoch=800; Loss=NaN\n",
      "Epoch=850; Loss=NaN\n"
     ]
    },
    {
     "name": "stdout",
     "output_type": "stream",
     "text": [
      "Epoch=900; Loss=NaN\n",
      "Epoch=950; Loss=NaN\n"
     ]
    },
    {
     "name": "stdout",
     "output_type": "stream",
     "text": [
      "Epoch=1000; Loss=NaN\n",
      "Epoch=1050; Loss=NaN\n"
     ]
    },
    {
     "name": "stdout",
     "output_type": "stream",
     "text": [
      "Epoch=1100; Loss=NaN\n",
      "Epoch=1150; Loss=NaN\n"
     ]
    },
    {
     "name": "stdout",
     "output_type": "stream",
     "text": [
      "Epoch=1200; Loss=NaN\n",
      "Epoch=1250; Loss=NaN\n"
     ]
    },
    {
     "name": "stdout",
     "output_type": "stream",
     "text": [
      "Epoch=1300; Loss=NaN\n",
      "Epoch=1350; Loss=NaN\n"
     ]
    },
    {
     "name": "stdout",
     "output_type": "stream",
     "text": [
      "Epoch=1400; Loss=NaN\n",
      "Epoch=1450; Loss=NaN\n"
     ]
    },
    {
     "name": "stdout",
     "output_type": "stream",
     "text": [
      "Epoch=1500; Loss=NaN\n",
      "Epoch=1550; Loss=NaN\n"
     ]
    },
    {
     "name": "stdout",
     "output_type": "stream",
     "text": [
      "Epoch=1600; Loss=NaN\n",
      "Epoch=1650; Loss=NaN\n"
     ]
    },
    {
     "name": "stdout",
     "output_type": "stream",
     "text": [
      "Epoch=1700; Loss=NaN\n",
      "Epoch=1750; Loss=NaN\n"
     ]
    },
    {
     "name": "stdout",
     "output_type": "stream",
     "text": [
      "Epoch=1800; Loss=NaN\n",
      "Epoch=1850; Loss=NaN\n"
     ]
    },
    {
     "name": "stdout",
     "output_type": "stream",
     "text": [
      "Epoch=1900; Loss=NaN\n",
      "Epoch=1950; Loss=NaN\n"
     ]
    },
    {
     "name": "stdout",
     "output_type": "stream",
     "text": [
      "Epoch=2000; Loss=NaN\n"
     ]
    }
   ],
   "source": [
    "W = rand(Normal(), (size(add_one_train_x)[2], 1))\n",
    "\n",
    "num_epochs=2000\n",
    "learning_rate=0.01\n",
    "W, losses = train(W, add_one_train_x, train_y_new, learning_rate, num_epochs);"
   ]
  },
  {
   "cell_type": "code",
   "execution_count": 25,
   "id": "ac5a2524",
   "metadata": {},
   "outputs": [
    {
     "data": {
      "image/png": "[encoded data removed]",
      "image/svg+xml": "<?xml version=\"1.0\" encoding=\"utf-8\"?>\n<svg xmlns=\"http://www.w3.org/2000/svg\" xmlns:xlink=\"http://www.w3.org/1999/xlink\" width=\"600\" height=\"400\" viewBox=\"0 0 2400 1600\">\n<defs>\n  <clipPath id=\"clip640\">\n    <rect x=\"0\" y=\"0\" width=\"2400\" height=\"1600\"/>\n  </clipPath>\n</defs>\n<path clip-path=\"url(#clip640)\" d=\"\nM0 1600 L2400 1600 L2400 0 L0 0  Z\n  \" fill=\"#ffffff\" fill-rule=\"evenodd\" fill-opacity=\"1\"/>\n<defs>\n  <clipPath id=\"clip641\">\n    <rect x=\"480\" y=\"0\" width=\"1681\" height=\"1600\"/>\n  </clipPath>\n</defs>\n<path clip-path=\"url(#clip640)\" d=\"\nM154.515 1486.45 L2352.76 1486.45 L2352.76 47.2441 L154.515 47.2441  Z\n  \" fill=\"#ffffff\" fill-rule=\"evenodd\" fill-opacity=\"1\"/>\n<defs>\n  <clipPath id=\"clip642\">\n    <rect x=\"154\" y=\"47\" width=\"2199\" height=\"1440\"/>\n  </clipPath>\n</defs>\n<polyline clip-path=\"url(#clip642)\" style=\"stroke:#000000; stroke-linecap:round; stroke-linejoin:round; stroke-width:2; stroke-opacity:0.1; fill:none\" points=\"\n  215.692,1486.45 215.692,47.2441 \n  \"/>\n<polyline clip-path=\"url(#clip642)\" style=\"stroke:#000000; stroke-linecap:round; stroke-linejoin:round; stroke-width:2; stroke-opacity:0.1; fill:none\" points=\"\n  734.404,1486.45 734.404,47.2441 \n  \"/>\n<polyline clip-path=\"url(#clip642)\" style=\"stroke:#000000; stroke-linecap:round; stroke-linejoin:round; stroke-width:2; stroke-opacity:0.1; fill:none\" points=\"\n  1253.12,1486.45 1253.12,47.2441 \n  \"/>\n<polyline clip-path=\"url(#clip642)\" style=\"stroke:#000000; stroke-linecap:round; stroke-linejoin:round; stroke-width:2; stroke-opacity:0.1; fill:none\" points=\"\n  1771.83,1486.45 1771.83,47.2441 \n  \"/>\n<polyline clip-path=\"url(#clip642)\" style=\"stroke:#000000; stroke-linecap:round; stroke-linejoin:round; stroke-width:2; stroke-opacity:0.1; fill:none\" points=\"\n  2290.54,1486.45 2290.54,47.2441 \n  \"/>\n<polyline clip-path=\"url(#clip640)\" style=\"stroke:#000000; stroke-linecap:round; stroke-linejoin:round; stroke-width:4; stroke-opacity:1; fill:none\" points=\"\n  154.515,1486.45 2352.76,1486.45 \n  \"/>\n<polyline clip-path=\"url(#clip640)\" style=\"stroke:#000000; stroke-linecap:round; stroke-linejoin:round; stroke-width:4; stroke-opacity:1; fill:none\" points=\"\n  215.692,1486.45 215.692,1467.55 \n  \"/>\n<polyline clip-path=\"url(#clip640)\" style=\"stroke:#000000; stroke-linecap:round; stroke-linejoin:round; stroke-width:4; stroke-opacity:1; fill:none\" points=\"\n  734.404,1486.45 734.404,1467.55 \n  \"/>\n<polyline clip-path=\"url(#clip640)\" style=\"stroke:#000000; stroke-linecap:round; stroke-linejoin:round; stroke-width:4; stroke-opacity:1; fill:none\" points=\"\n  1253.12,1486.45 1253.12,1467.55 \n  \"/>\n<polyline clip-path=\"url(#clip640)\" style=\"stroke:#000000; stroke-linecap:round; stroke-linejoin:round; stroke-width:4; stroke-opacity:1; fill:none\" points=\"\n  1771.83,1486.45 1771.83,1467.55 \n  \"/>\n<polyline clip-path=\"url(#clip640)\" style=\"stroke:#000000; stroke-linecap:round; stroke-linejoin:round; stroke-width:4; stroke-opacity:1; fill:none\" points=\"\n  2290.54,1486.45 2290.54,1467.55 \n  \"/>\n<path clip-path=\"url(#clip640)\" d=\"M215.692 1517.37 Q212.081 1517.37 210.252 1520.93 Q208.447 1524.47 208.447 1531.6 Q208.447 1538.71 210.252 1542.27 Q212.081 1545.82 215.692 1545.82 Q219.326 1545.82 221.132 1542.27 Q222.96 1538.71 222.96 1531.6 Q222.96 1524.47 221.132 1520.93 Q219.326 1517.37 215.692 1517.37 M215.692 1513.66 Q221.502 1513.66 224.558 1518.27 Q227.636 1522.85 227.636 1531.6 Q227.636 1540.33 224.558 1544.94 Q221.502 1549.52 215.692 1549.52 Q209.882 1549.52 206.803 1544.94 Q203.747 1540.33 203.747 1531.6 Q203.747 1522.85 206.803 1518.27 Q209.882 1513.66 215.692 1513.66 Z\" fill=\"#000000\" fill-rule=\"evenodd\" fill-opacity=\"1\" /><path clip-path=\"url(#clip640)\" d=\"M694.023 1514.29 L712.379 1514.29 L712.379 1518.22 L698.305 1518.22 L698.305 1526.7 Q699.323 1526.35 700.342 1526.19 Q701.36 1526 702.379 1526 Q708.166 1526 711.546 1529.17 Q714.925 1532.34 714.925 1537.76 Q714.925 1543.34 711.453 1546.44 Q707.981 1549.52 701.661 1549.52 Q699.485 1549.52 697.217 1549.15 Q694.972 1548.78 692.564 1548.04 L692.564 1543.34 Q694.648 1544.47 696.87 1545.03 Q699.092 1545.58 701.569 1545.58 Q705.573 1545.58 707.911 1543.48 Q710.249 1541.37 710.249 1537.76 Q710.249 1534.15 707.911 1532.04 Q705.573 1529.94 701.569 1529.94 Q699.694 1529.94 697.819 1530.35 Q695.967 1530.77 694.023 1531.65 L694.023 1514.29 Z\" fill=\"#000000\" fill-rule=\"evenodd\" fill-opacity=\"1\" /><path clip-path=\"url(#clip640)\" d=\"M734.138 1517.37 Q730.527 1517.37 728.698 1520.93 Q726.893 1524.47 726.893 1531.6 Q726.893 1538.71 728.698 1542.27 Q730.527 1545.82 734.138 1545.82 Q737.772 1545.82 739.578 1542.27 Q741.407 1538.71 741.407 1531.6 Q741.407 1524.47 739.578 1520.93 Q737.772 1517.37 734.138 1517.37 M734.138 1513.66 Q739.948 1513.66 743.004 1518.27 Q746.082 1522.85 746.082 1531.6 Q746.082 1540.33 743.004 1544.94 Q739.948 1549.52 734.138 1549.52 Q728.328 1549.52 725.249 1544.94 Q722.194 1540.33 722.194 1531.6 Q722.194 1522.85 725.249 1518.27 Q728.328 1513.66 734.138 1513.66 Z\" fill=\"#000000\" fill-rule=\"evenodd\" fill-opacity=\"1\" /><path clip-path=\"url(#clip640)\" d=\"M764.3 1517.37 Q760.689 1517.37 758.86 1520.93 Q757.055 1524.47 757.055 1531.6 Q757.055 1538.71 758.86 1542.27 Q760.689 1545.82 764.3 1545.82 Q767.934 1545.82 769.74 1542.27 Q771.568 1538.71 771.568 1531.6 Q771.568 1524.47 769.74 1520.93 Q767.934 1517.37 764.3 1517.37 M764.3 1513.66 Q770.11 1513.66 773.166 1518.27 Q776.244 1522.85 776.244 1531.6 Q776.244 1540.33 773.166 1544.94 Q770.11 1549.52 764.3 1549.52 Q758.49 1549.52 755.411 1544.94 Q752.356 1540.33 752.356 1531.6 Q752.356 1522.85 755.411 1518.27 Q758.49 1513.66 764.3 1513.66 Z\" fill=\"#000000\" fill-rule=\"evenodd\" fill-opacity=\"1\" /><path clip-path=\"url(#clip640)\" d=\"M1197.64 1544.91 L1205.28 1544.91 L1205.28 1518.55 L1196.97 1520.21 L1196.97 1515.95 L1205.24 1514.29 L1209.91 1514.29 L1209.91 1544.91 L1217.55 1544.91 L1217.55 1548.85 L1197.64 1548.85 L1197.64 1544.91 Z\" fill=\"#000000\" fill-rule=\"evenodd\" fill-opacity=\"1\" /><path clip-path=\"url(#clip640)\" d=\"M1236.99 1517.37 Q1233.38 1517.37 1231.55 1520.93 Q1229.75 1524.47 1229.75 1531.6 Q1229.75 1538.71 1231.55 1542.27 Q1233.38 1545.82 1236.99 1545.82 Q1240.63 1545.82 1242.43 1542.27 Q1244.26 1538.71 1244.26 1531.6 Q1244.26 1524.47 1242.43 1520.93 Q1240.63 1517.37 1236.99 1517.37 M1236.99 1513.66 Q1242.8 1513.66 1245.86 1518.27 Q1248.94 1522.85 1248.94 1531.6 Q1248.94 1540.33 1245.86 1544.94 Q1242.8 1549.52 1236.99 1549.52 Q1231.18 1549.52 1228.11 1544.94 Q1225.05 1540.33 1225.05 1531.6 Q1225.05 1522.85 1228.11 1518.27 Q1231.18 1513.66 1236.99 1513.66 Z\" fill=\"#000000\" fill-rule=\"evenodd\" fill-opacity=\"1\" /><path clip-path=\"url(#clip640)\" d=\"M1267.16 1517.37 Q1263.54 1517.37 1261.72 1520.93 Q1259.91 1524.47 1259.91 1531.6 Q1259.91 1538.71 1261.72 1542.27 Q1263.54 1545.82 1267.16 1545.82 Q1270.79 1545.82 1272.6 1542.27 Q1274.42 1538.71 1274.42 1531.6 Q1274.42 1524.47 1272.6 1520.93 Q1270.79 1517.37 1267.16 1517.37 M1267.16 1513.66 Q1272.97 1513.66 1276.02 1518.27 Q1279.1 1522.85 1279.1 1531.6 Q1279.1 1540.33 1276.02 1544.94 Q1272.97 1549.52 1267.16 1549.52 Q1261.35 1549.52 1258.27 1544.94 Q1255.21 1540.33 1255.21 1531.6 Q1255.21 1522.85 1258.27 1518.27 Q1261.35 1513.66 1267.16 1513.66 Z\" fill=\"#000000\" fill-rule=\"evenodd\" fill-opacity=\"1\" /><path clip-path=\"url(#clip640)\" d=\"M1297.32 1517.37 Q1293.71 1517.37 1291.88 1520.93 Q1290.07 1524.47 1290.07 1531.6 Q1290.07 1538.71 1291.88 1542.27 Q1293.71 1545.82 1297.32 1545.82 Q1300.95 1545.82 1302.76 1542.27 Q1304.59 1538.71 1304.59 1531.6 Q1304.59 1524.47 1302.76 1520.93 Q1300.95 1517.37 1297.32 1517.37 M1297.32 1513.66 Q1303.13 1513.66 1306.18 1518.27 Q1309.26 1522.85 1309.26 1531.6 Q1309.26 1540.33 1306.18 1544.94 Q1303.13 1549.52 1297.32 1549.52 Q1291.51 1549.52 1288.43 1544.94 Q1285.37 1540.33 1285.37 1531.6 Q1285.37 1522.85 1288.43 1518.27 Q1291.51 1513.66 1297.32 1513.66 Z\" fill=\"#000000\" fill-rule=\"evenodd\" fill-opacity=\"1\" /><path clip-path=\"url(#clip640)\" d=\"M1716.35 1544.91 L1723.99 1544.91 L1723.99 1518.55 L1715.68 1520.21 L1715.68 1515.95 L1723.95 1514.29 L1728.62 1514.29 L1728.62 1544.91 L1736.26 1544.91 L1736.26 1548.85 L1716.35 1548.85 L1716.35 1544.91 Z\" fill=\"#000000\" fill-rule=\"evenodd\" fill-opacity=\"1\" /><path clip-path=\"url(#clip640)\" d=\"M1745.75 1514.29 L1764.11 1514.29 L1764.11 1518.22 L1750.04 1518.22 L1750.04 1526.7 Q1751.05 1526.35 1752.07 1526.19 Q1753.09 1526 1754.11 1526 Q1759.9 1526 1763.28 1529.17 Q1766.66 1532.34 1766.66 1537.76 Q1766.66 1543.34 1763.18 1546.44 Q1759.71 1549.52 1753.39 1549.52 Q1751.22 1549.52 1748.95 1549.15 Q1746.7 1548.78 1744.29 1548.04 L1744.29 1543.34 Q1746.38 1544.47 1748.6 1545.03 Q1750.82 1545.58 1753.3 1545.58 Q1757.3 1545.58 1759.64 1543.48 Q1761.98 1541.37 1761.98 1537.76 Q1761.98 1534.15 1759.64 1532.04 Q1757.3 1529.94 1753.3 1529.94 Q1751.42 1529.94 1749.55 1530.35 Q1747.7 1530.77 1745.75 1531.65 L1745.75 1514.29 Z\" fill=\"#000000\" fill-rule=\"evenodd\" fill-opacity=\"1\" /><path clip-path=\"url(#clip640)\" d=\"M1785.87 1517.37 Q1782.26 1517.37 1780.43 1520.93 Q1778.62 1524.47 1778.62 1531.6 Q1778.62 1538.71 1780.43 1542.27 Q1782.26 1545.82 1785.87 1545.82 Q1789.5 1545.82 1791.31 1542.27 Q1793.14 1538.71 1793.14 1531.6 Q1793.14 1524.47 1791.31 1520.93 Q1789.5 1517.37 1785.87 1517.37 M1785.87 1513.66 Q1791.68 1513.66 1794.73 1518.27 Q1797.81 1522.85 1797.81 1531.6 Q1797.81 1540.33 1794.73 1544.94 Q1791.68 1549.52 1785.87 1549.52 Q1780.06 1549.52 1776.98 1544.94 Q1773.92 1540.33 1773.92 1531.6 Q1773.92 1522.85 1776.98 1518.27 Q1780.06 1513.66 1785.87 1513.66 Z\" fill=\"#000000\" fill-rule=\"evenodd\" fill-opacity=\"1\" /><path clip-path=\"url(#clip640)\" d=\"M1816.03 1517.37 Q1812.42 1517.37 1810.59 1520.93 Q1808.78 1524.47 1808.78 1531.6 Q1808.78 1538.71 1810.59 1542.27 Q1812.42 1545.82 1816.03 1545.82 Q1819.66 1545.82 1821.47 1542.27 Q1823.3 1538.71 1823.3 1531.6 Q1823.3 1524.47 1821.47 1520.93 Q1819.66 1517.37 1816.03 1517.37 M1816.03 1513.66 Q1821.84 1513.66 1824.9 1518.27 Q1827.97 1522.85 1827.97 1531.6 Q1827.97 1540.33 1824.9 1544.94 Q1821.84 1549.52 1816.03 1549.52 Q1810.22 1549.52 1807.14 1544.94 Q1804.09 1540.33 1804.09 1531.6 Q1804.09 1522.85 1807.14 1518.27 Q1810.22 1513.66 1816.03 1513.66 Z\" fill=\"#000000\" fill-rule=\"evenodd\" fill-opacity=\"1\" /><path clip-path=\"url(#clip640)\" d=\"M2239.15 1544.91 L2255.47 1544.91 L2255.47 1548.85 L2233.53 1548.85 L2233.53 1544.91 Q2236.19 1542.16 2240.77 1537.53 Q2245.38 1532.88 2246.56 1531.53 Q2248.81 1529.01 2249.69 1527.27 Q2250.59 1525.51 2250.59 1523.82 Q2250.59 1521.07 2248.64 1519.33 Q2246.72 1517.6 2243.62 1517.6 Q2241.42 1517.6 2238.97 1518.36 Q2236.54 1519.13 2233.76 1520.68 L2233.76 1515.95 Q2236.58 1514.82 2239.04 1514.24 Q2241.49 1513.66 2243.53 1513.66 Q2248.9 1513.66 2252.09 1516.35 Q2255.29 1519.03 2255.29 1523.52 Q2255.29 1525.65 2254.48 1527.57 Q2253.69 1529.47 2251.58 1532.07 Q2251 1532.74 2247.9 1535.95 Q2244.8 1539.15 2239.15 1544.91 Z\" fill=\"#000000\" fill-rule=\"evenodd\" fill-opacity=\"1\" /><path clip-path=\"url(#clip640)\" d=\"M2275.29 1517.37 Q2271.68 1517.37 2269.85 1520.93 Q2268.04 1524.47 2268.04 1531.6 Q2268.04 1538.71 2269.85 1542.27 Q2271.68 1545.82 2275.29 1545.82 Q2278.92 1545.82 2280.73 1542.27 Q2282.56 1538.71 2282.56 1531.6 Q2282.56 1524.47 2280.73 1520.93 Q2278.92 1517.37 2275.29 1517.37 M2275.29 1513.66 Q2281.1 1513.66 2284.15 1518.27 Q2287.23 1522.85 2287.23 1531.6 Q2287.23 1540.33 2284.15 1544.94 Q2281.1 1549.52 2275.29 1549.52 Q2269.48 1549.52 2266.4 1544.94 Q2263.34 1540.33 2263.34 1531.6 Q2263.34 1522.85 2266.4 1518.27 Q2269.48 1513.66 2275.29 1513.66 Z\" fill=\"#000000\" fill-rule=\"evenodd\" fill-opacity=\"1\" /><path clip-path=\"url(#clip640)\" d=\"M2305.45 1517.37 Q2301.84 1517.37 2300.01 1520.93 Q2298.2 1524.47 2298.2 1531.6 Q2298.2 1538.71 2300.01 1542.27 Q2301.84 1545.82 2305.45 1545.82 Q2309.08 1545.82 2310.89 1542.27 Q2312.72 1538.71 2312.72 1531.6 Q2312.72 1524.47 2310.89 1520.93 Q2309.08 1517.37 2305.45 1517.37 M2305.45 1513.66 Q2311.26 1513.66 2314.31 1518.27 Q2317.39 1522.85 2317.39 1531.6 Q2317.39 1540.33 2314.31 1544.94 Q2311.26 1549.52 2305.45 1549.52 Q2299.64 1549.52 2296.56 1544.94 Q2293.5 1540.33 2293.5 1531.6 Q2293.5 1522.85 2296.56 1518.27 Q2299.64 1513.66 2305.45 1513.66 Z\" fill=\"#000000\" fill-rule=\"evenodd\" fill-opacity=\"1\" /><path clip-path=\"url(#clip640)\" d=\"M2335.61 1517.37 Q2332 1517.37 2330.17 1520.93 Q2328.37 1524.47 2328.37 1531.6 Q2328.37 1538.71 2330.17 1542.27 Q2332 1545.82 2335.61 1545.82 Q2339.24 1545.82 2341.05 1542.27 Q2342.88 1538.71 2342.88 1531.6 Q2342.88 1524.47 2341.05 1520.93 Q2339.24 1517.37 2335.61 1517.37 M2335.61 1513.66 Q2341.42 1513.66 2344.48 1518.27 Q2347.56 1522.85 2347.56 1531.6 Q2347.56 1540.33 2344.48 1544.94 Q2341.42 1549.52 2335.61 1549.52 Q2329.8 1549.52 2326.72 1544.94 Q2323.67 1540.33 2323.67 1531.6 Q2323.67 1522.85 2326.72 1518.27 Q2329.8 1513.66 2335.61 1513.66 Z\" fill=\"#000000\" fill-rule=\"evenodd\" fill-opacity=\"1\" /><polyline clip-path=\"url(#clip642)\" style=\"stroke:#000000; stroke-linecap:round; stroke-linejoin:round; stroke-width:2; stroke-opacity:0.1; fill:none\" points=\"\n  154.515,1293.77 2352.76,1293.77 \n  \"/>\n<polyline clip-path=\"url(#clip642)\" style=\"stroke:#000000; stroke-linecap:round; stroke-linejoin:round; stroke-width:2; stroke-opacity:0.1; fill:none\" points=\"\n  154.515,1022.22 2352.76,1022.22 \n  \"/>\n<polyline clip-path=\"url(#clip642)\" style=\"stroke:#000000; stroke-linecap:round; stroke-linejoin:round; stroke-width:2; stroke-opacity:0.1; fill:none\" points=\"\n  154.515,750.677 2352.76,750.677 \n  \"/>\n<polyline clip-path=\"url(#clip642)\" style=\"stroke:#000000; stroke-linecap:round; stroke-linejoin:round; stroke-width:2; stroke-opacity:0.1; fill:none\" points=\"\n  154.515,479.129 2352.76,479.129 \n  \"/>\n<polyline clip-path=\"url(#clip642)\" style=\"stroke:#000000; stroke-linecap:round; stroke-linejoin:round; stroke-width:2; stroke-opacity:0.1; fill:none\" points=\"\n  154.515,207.581 2352.76,207.581 \n  \"/>\n<polyline clip-path=\"url(#clip640)\" style=\"stroke:#000000; stroke-linecap:round; stroke-linejoin:round; stroke-width:4; stroke-opacity:1; fill:none\" points=\"\n  154.515,1486.45 154.515,47.2441 \n  \"/>\n<polyline clip-path=\"url(#clip640)\" style=\"stroke:#000000; stroke-linecap:round; stroke-linejoin:round; stroke-width:4; stroke-opacity:1; fill:none\" points=\"\n  154.515,1293.77 173.413,1293.77 \n  \"/>\n<polyline clip-path=\"url(#clip640)\" style=\"stroke:#000000; stroke-linecap:round; stroke-linejoin:round; stroke-width:4; stroke-opacity:1; fill:none\" points=\"\n  154.515,1022.22 173.413,1022.22 \n  \"/>\n<polyline clip-path=\"url(#clip640)\" style=\"stroke:#000000; stroke-linecap:round; stroke-linejoin:round; stroke-width:4; stroke-opacity:1; fill:none\" points=\"\n  154.515,750.677 173.413,750.677 \n  \"/>\n<polyline clip-path=\"url(#clip640)\" style=\"stroke:#000000; stroke-linecap:round; stroke-linejoin:round; stroke-width:4; stroke-opacity:1; fill:none\" points=\"\n  154.515,479.129 173.413,479.129 \n  \"/>\n<polyline clip-path=\"url(#clip640)\" style=\"stroke:#000000; stroke-linecap:round; stroke-linejoin:round; stroke-width:4; stroke-opacity:1; fill:none\" points=\"\n  154.515,207.581 173.413,207.581 \n  \"/>\n<path clip-path=\"url(#clip640)\" d=\"M52.1495 1307.12 L59.7884 1307.12 L59.7884 1280.75 L51.4782 1282.42 L51.4782 1278.16 L59.7421 1276.49 L64.418 1276.49 L64.418 1307.12 L72.0568 1307.12 L72.0568 1311.05 L52.1495 1311.05 L52.1495 1307.12 Z\" fill=\"#000000\" fill-rule=\"evenodd\" fill-opacity=\"1\" /><path clip-path=\"url(#clip640)\" d=\"M81.5012 1305.17 L86.3855 1305.17 L86.3855 1311.05 L81.5012 1311.05 L81.5012 1305.17 Z\" fill=\"#000000\" fill-rule=\"evenodd\" fill-opacity=\"1\" /><path clip-path=\"url(#clip640)\" d=\"M106.571 1279.57 Q102.959 1279.57 101.131 1283.14 Q99.3252 1286.68 99.3252 1293.81 Q99.3252 1300.91 101.131 1304.48 Q102.959 1308.02 106.571 1308.02 Q110.205 1308.02 112.01 1304.48 Q113.839 1300.91 113.839 1293.81 Q113.839 1286.68 112.01 1283.14 Q110.205 1279.57 106.571 1279.57 M106.571 1275.87 Q112.381 1275.87 115.436 1280.47 Q118.515 1285.06 118.515 1293.81 Q118.515 1302.53 115.436 1307.14 Q112.381 1311.72 106.571 1311.72 Q100.76 1311.72 97.6817 1307.14 Q94.6262 1302.53 94.6262 1293.81 Q94.6262 1285.06 97.6817 1280.47 Q100.76 1275.87 106.571 1275.87 Z\" fill=\"#000000\" fill-rule=\"evenodd\" fill-opacity=\"1\" /><path clip-path=\"url(#clip640)\" d=\"M53.7467 1035.57 L61.3856 1035.57 L61.3856 1009.2 L53.0754 1010.87 L53.0754 1006.61 L61.3393 1004.94 L66.0152 1004.94 L66.0152 1035.57 L73.654 1035.57 L73.654 1039.5 L53.7467 1039.5 L53.7467 1035.57 Z\" fill=\"#000000\" fill-rule=\"evenodd\" fill-opacity=\"1\" /><path clip-path=\"url(#clip640)\" d=\"M83.0984 1033.63 L87.9827 1033.63 L87.9827 1039.5 L83.0984 1039.5 L83.0984 1033.63 Z\" fill=\"#000000\" fill-rule=\"evenodd\" fill-opacity=\"1\" /><path clip-path=\"url(#clip640)\" d=\"M102.196 1035.57 L118.515 1035.57 L118.515 1039.5 L96.5706 1039.5 L96.5706 1035.57 Q99.2326 1032.81 103.816 1028.19 Q108.422 1023.53 109.603 1022.19 Q111.848 1019.67 112.728 1017.93 Q113.631 1016.17 113.631 1014.48 Q113.631 1011.73 111.686 1009.99 Q109.765 1008.25 106.663 1008.25 Q104.464 1008.25 102.01 1009.02 Q99.5798 1009.78 96.8021 1011.33 L96.8021 1006.61 Q99.6261 1005.48 102.08 1004.9 Q104.534 1004.32 106.571 1004.32 Q111.941 1004.32 115.135 1007 Q118.33 1009.69 118.33 1014.18 Q118.33 1016.31 117.52 1018.23 Q116.733 1020.13 114.626 1022.72 Q114.047 1023.39 110.946 1026.61 Q107.844 1029.81 102.196 1035.57 Z\" fill=\"#000000\" fill-rule=\"evenodd\" fill-opacity=\"1\" /><path clip-path=\"url(#clip640)\" d=\"M51.6634 764.022 L59.3023 764.022 L59.3023 737.656 L50.9921 739.323 L50.9921 735.063 L59.256 733.397 L63.9319 733.397 L63.9319 764.022 L71.5707 764.022 L71.5707 767.957 L51.6634 767.957 L51.6634 764.022 Z\" fill=\"#000000\" fill-rule=\"evenodd\" fill-opacity=\"1\" /><path clip-path=\"url(#clip640)\" d=\"M81.0151 762.077 L85.8993 762.077 L85.8993 767.957 L81.0151 767.957 L81.0151 762.077 Z\" fill=\"#000000\" fill-rule=\"evenodd\" fill-opacity=\"1\" /><path clip-path=\"url(#clip640)\" d=\"M108.932 737.471 L97.1261 755.92 L108.932 755.92 L108.932 737.471 M107.705 733.397 L113.584 733.397 L113.584 755.92 L118.515 755.92 L118.515 759.809 L113.584 759.809 L113.584 767.957 L108.932 767.957 L108.932 759.809 L93.3299 759.809 L93.3299 755.295 L107.705 733.397 Z\" fill=\"#000000\" fill-rule=\"evenodd\" fill-opacity=\"1\" /><path clip-path=\"url(#clip640)\" d=\"M51.9875 492.474 L59.6263 492.474 L59.6263 466.108 L51.3162 467.775 L51.3162 463.516 L59.58 461.849 L64.2559 461.849 L64.2559 492.474 L71.8948 492.474 L71.8948 496.409 L51.9875 496.409 L51.9875 492.474 Z\" fill=\"#000000\" fill-rule=\"evenodd\" fill-opacity=\"1\" /><path clip-path=\"url(#clip640)\" d=\"M81.3392 490.529 L86.2234 490.529 L86.2234 496.409 L81.3392 496.409 L81.3392 490.529 Z\" fill=\"#000000\" fill-rule=\"evenodd\" fill-opacity=\"1\" /><path clip-path=\"url(#clip640)\" d=\"M106.987 477.265 Q103.839 477.265 101.987 479.418 Q100.159 481.571 100.159 485.321 Q100.159 489.048 101.987 491.224 Q103.839 493.377 106.987 493.377 Q110.135 493.377 111.964 491.224 Q113.816 489.048 113.816 485.321 Q113.816 481.571 111.964 479.418 Q110.135 477.265 106.987 477.265 M116.27 462.613 L116.27 466.872 Q114.51 466.039 112.705 465.599 Q110.922 465.159 109.163 465.159 Q104.534 465.159 102.08 468.284 Q99.6493 471.409 99.3021 477.728 Q100.668 475.715 102.728 474.65 Q104.788 473.562 107.265 473.562 Q112.473 473.562 115.483 476.733 Q118.515 479.881 118.515 485.321 Q118.515 490.645 115.367 493.863 Q112.219 497.08 106.987 497.08 Q100.992 497.08 97.8206 492.497 Q94.6493 487.89 94.6493 479.164 Q94.6493 470.969 98.5382 466.108 Q102.427 461.224 108.978 461.224 Q110.737 461.224 112.52 461.571 Q114.325 461.918 116.27 462.613 Z\" fill=\"#000000\" fill-rule=\"evenodd\" fill-opacity=\"1\" /><path clip-path=\"url(#clip640)\" d=\"M52.2421 220.926 L59.881 220.926 L59.881 194.56 L51.5708 196.227 L51.5708 191.968 L59.8347 190.301 L64.5106 190.301 L64.5106 220.926 L72.1494 220.926 L72.1494 224.861 L52.2421 224.861 L52.2421 220.926 Z\" fill=\"#000000\" fill-rule=\"evenodd\" fill-opacity=\"1\" /><path clip-path=\"url(#clip640)\" d=\"M81.5938 218.981 L86.478 218.981 L86.478 224.861 L81.5938 224.861 L81.5938 218.981 Z\" fill=\"#000000\" fill-rule=\"evenodd\" fill-opacity=\"1\" /><path clip-path=\"url(#clip640)\" d=\"M106.663 208.449 Q103.33 208.449 101.409 210.231 Q99.5104 212.014 99.5104 215.139 Q99.5104 218.264 101.409 220.046 Q103.33 221.829 106.663 221.829 Q109.996 221.829 111.918 220.046 Q113.839 218.241 113.839 215.139 Q113.839 212.014 111.918 210.231 Q110.02 208.449 106.663 208.449 M101.987 206.458 Q98.978 205.718 97.2882 203.657 Q95.6215 201.597 95.6215 198.634 Q95.6215 194.491 98.5613 192.083 Q101.524 189.676 106.663 189.676 Q111.825 189.676 114.765 192.083 Q117.705 194.491 117.705 198.634 Q117.705 201.597 116.015 203.657 Q114.348 205.718 111.362 206.458 Q114.742 207.245 116.617 209.537 Q118.515 211.829 118.515 215.139 Q118.515 220.162 115.436 222.847 Q112.381 225.532 106.663 225.532 Q100.946 225.532 97.8669 222.847 Q94.8113 220.162 94.8113 215.139 Q94.8113 211.829 96.7095 209.537 Q98.6076 207.245 101.987 206.458 M100.274 199.074 Q100.274 201.759 101.941 203.264 Q103.631 204.769 106.663 204.769 Q109.672 204.769 111.362 203.264 Q113.075 201.759 113.075 199.074 Q113.075 196.389 111.362 194.884 Q109.672 193.38 106.663 193.38 Q103.631 193.38 101.941 194.884 Q100.274 196.389 100.274 199.074 Z\" fill=\"#000000\" fill-rule=\"evenodd\" fill-opacity=\"1\" /></svg>\n",
      "text/html": [
       "<?xml version=\"1.0\" encoding=\"utf-8\"?>\n",
       "<svg xmlns=\"http://www.w3.org/2000/svg\" xmlns:xlink=\"http://www.w3.org/1999/xlink\" width=\"600\" height=\"400\" viewBox=\"0 0 2400 1600\">\n",
       "<defs>\n",
       "  <clipPath id=\"clip690\">\n",
       "    <rect x=\"0\" y=\"0\" width=\"2400\" height=\"1600\"/>\n",
       "  </clipPath>\n",
       "</defs>\n",
       "<path clip-path=\"url(#clip690)\" d=\"\n",
       "M0 1600 L2400 1600 L2400 0 L0 0  Z\n",
       "  \" fill=\"#ffffff\" fill-rule=\"evenodd\" fill-opacity=\"1\"/>\n",
       "<defs>\n",
       "  <clipPath id=\"clip691\">\n",
       "    <rect x=\"480\" y=\"0\" width=\"1681\" height=\"1600\"/>\n",
       "  </clipPath>\n",
       "</defs>\n",
       "<path clip-path=\"url(#clip690)\" d=\"\n",
       "M154.515 1486.45 L2352.76 1486.45 L2352.76 47.2441 L154.515 47.2441  Z\n",
       "  \" fill=\"#ffffff\" fill-rule=\"evenodd\" fill-opacity=\"1\"/>\n",
       "<defs>\n",
       "  <clipPath id=\"clip692\">\n",
       "    <rect x=\"154\" y=\"47\" width=\"2199\" height=\"1440\"/>\n",
       "  </clipPath>\n",
       "</defs>\n",
       "<polyline clip-path=\"url(#clip692)\" style=\"stroke:#000000; stroke-linecap:round; stroke-linejoin:round; stroke-width:2; stroke-opacity:0.1; fill:none\" points=\"\n",
       "  215.692,1486.45 215.692,47.2441 \n",
       "  \"/>\n",
       "<polyline clip-path=\"url(#clip692)\" style=\"stroke:#000000; stroke-linecap:round; stroke-linejoin:round; stroke-width:2; stroke-opacity:0.1; fill:none\" points=\"\n",
       "  734.404,1486.45 734.404,47.2441 \n",
       "  \"/>\n",
       "<polyline clip-path=\"url(#clip692)\" style=\"stroke:#000000; stroke-linecap:round; stroke-linejoin:round; stroke-width:2; stroke-opacity:0.1; fill:none\" points=\"\n",
       "  1253.12,1486.45 1253.12,47.2441 \n",
       "  \"/>\n",
       "<polyline clip-path=\"url(#clip692)\" style=\"stroke:#000000; stroke-linecap:round; stroke-linejoin:round; stroke-width:2; stroke-opacity:0.1; fill:none\" points=\"\n",
       "  1771.83,1486.45 1771.83,47.2441 \n",
       "  \"/>\n",
       "<polyline clip-path=\"url(#clip692)\" style=\"stroke:#000000; stroke-linecap:round; stroke-linejoin:round; stroke-width:2; stroke-opacity:0.1; fill:none\" points=\"\n",
       "  2290.54,1486.45 2290.54,47.2441 \n",
       "  \"/>\n",
       "<polyline clip-path=\"url(#clip690)\" style=\"stroke:#000000; stroke-linecap:round; stroke-linejoin:round; stroke-width:4; stroke-opacity:1; fill:none\" points=\"\n",
       "  154.515,1486.45 2352.76,1486.45 \n",
       "  \"/>\n",
       "<polyline clip-path=\"url(#clip690)\" style=\"stroke:#000000; stroke-linecap:round; stroke-linejoin:round; stroke-width:4; stroke-opacity:1; fill:none\" points=\"\n",
       "  215.692,1486.45 215.692,1467.55 \n",
       "  \"/>\n",
       "<polyline clip-path=\"url(#clip690)\" style=\"stroke:#000000; stroke-linecap:round; stroke-linejoin:round; stroke-width:4; stroke-opacity:1; fill:none\" points=\"\n",
       "  734.404,1486.45 734.404,1467.55 \n",
       "  \"/>\n",
       "<polyline clip-path=\"url(#clip690)\" style=\"stroke:#000000; stroke-linecap:round; stroke-linejoin:round; stroke-width:4; stroke-opacity:1; fill:none\" points=\"\n",
       "  1253.12,1486.45 1253.12,1467.55 \n",
       "  \"/>\n",
       "<polyline clip-path=\"url(#clip690)\" style=\"stroke:#000000; stroke-linecap:round; stroke-linejoin:round; stroke-width:4; stroke-opacity:1; fill:none\" points=\"\n",
       "  1771.83,1486.45 1771.83,1467.55 \n",
       "  \"/>\n",
       "<polyline clip-path=\"url(#clip690)\" style=\"stroke:#000000; stroke-linecap:round; stroke-linejoin:round; stroke-width:4; stroke-opacity:1; fill:none\" points=\"\n",
       "  2290.54,1486.45 2290.54,1467.55 \n",
       "  \"/>\n",
       "<path clip-path=\"url(#clip690)\" d=\"M215.692 1517.37 Q212.081 1517.37 210.252 1520.93 Q208.447 1524.47 208.447 1531.6 Q208.447 1538.71 210.252 1542.27 Q212.081 1545.82 215.692 1545.82 Q219.326 1545.82 221.132 1542.27 Q222.96 1538.71 222.96 1531.6 Q222.96 1524.47 221.132 1520.93 Q219.326 1517.37 215.692 1517.37 M215.692 1513.66 Q221.502 1513.66 224.558 1518.27 Q227.636 1522.85 227.636 1531.6 Q227.636 1540.33 224.558 1544.94 Q221.502 1549.52 215.692 1549.52 Q209.882 1549.52 206.803 1544.94 Q203.747 1540.33 203.747 1531.6 Q203.747 1522.85 206.803 1518.27 Q209.882 1513.66 215.692 1513.66 Z\" fill=\"#000000\" fill-rule=\"evenodd\" fill-opacity=\"1\" /><path clip-path=\"url(#clip690)\" d=\"M694.023 1514.29 L712.379 1514.29 L712.379 1518.22 L698.305 1518.22 L698.305 1526.7 Q699.323 1526.35 700.342 1526.19 Q701.36 1526 702.379 1526 Q708.166 1526 711.546 1529.17 Q714.925 1532.34 714.925 1537.76 Q714.925 1543.34 711.453 1546.44 Q707.981 1549.52 701.661 1549.52 Q699.485 1549.52 697.217 1549.15 Q694.972 1548.78 692.564 1548.04 L692.564 1543.34 Q694.648 1544.47 696.87 1545.03 Q699.092 1545.58 701.569 1545.58 Q705.573 1545.58 707.911 1543.48 Q710.249 1541.37 710.249 1537.76 Q710.249 1534.15 707.911 1532.04 Q705.573 1529.94 701.569 1529.94 Q699.694 1529.94 697.819 1530.35 Q695.967 1530.77 694.023 1531.65 L694.023 1514.29 Z\" fill=\"#000000\" fill-rule=\"evenodd\" fill-opacity=\"1\" /><path clip-path=\"url(#clip690)\" d=\"M734.138 1517.37 Q730.527 1517.37 728.698 1520.93 Q726.893 1524.47 726.893 1531.6 Q726.893 1538.71 728.698 1542.27 Q730.527 1545.82 734.138 1545.82 Q737.772 1545.82 739.578 1542.27 Q741.407 1538.71 741.407 1531.6 Q741.407 1524.47 739.578 1520.93 Q737.772 1517.37 734.138 1517.37 M734.138 1513.66 Q739.948 1513.66 743.004 1518.27 Q746.082 1522.85 746.082 1531.6 Q746.082 1540.33 743.004 1544.94 Q739.948 1549.52 734.138 1549.52 Q728.328 1549.52 725.249 1544.94 Q722.194 1540.33 722.194 1531.6 Q722.194 1522.85 725.249 1518.27 Q728.328 1513.66 734.138 1513.66 Z\" fill=\"#000000\" fill-rule=\"evenodd\" fill-opacity=\"1\" /><path clip-path=\"url(#clip690)\" d=\"M764.3 1517.37 Q760.689 1517.37 758.86 1520.93 Q757.055 1524.47 757.055 1531.6 Q757.055 1538.71 758.86 1542.27 Q760.689 1545.82 764.3 1545.82 Q767.934 1545.82 769.74 1542.27 Q771.568 1538.71 771.568 1531.6 Q771.568 1524.47 769.74 1520.93 Q767.934 1517.37 764.3 1517.37 M764.3 1513.66 Q770.11 1513.66 773.166 1518.27 Q776.244 1522.85 776.244 1531.6 Q776.244 1540.33 773.166 1544.94 Q770.11 1549.52 764.3 1549.52 Q758.49 1549.52 755.411 1544.94 Q752.356 1540.33 752.356 1531.6 Q752.356 1522.85 755.411 1518.27 Q758.49 1513.66 764.3 1513.66 Z\" fill=\"#000000\" fill-rule=\"evenodd\" fill-opacity=\"1\" /><path clip-path=\"url(#clip690)\" d=\"M1197.64 1544.91 L1205.28 1544.91 L1205.28 1518.55 L1196.97 1520.21 L1196.97 1515.95 L1205.24 1514.29 L1209.91 1514.29 L1209.91 1544.91 L1217.55 1544.91 L1217.55 1548.85 L1197.64 1548.85 L1197.64 1544.91 Z\" fill=\"#000000\" fill-rule=\"evenodd\" fill-opacity=\"1\" /><path clip-path=\"url(#clip690)\" d=\"M1236.99 1517.37 Q1233.38 1517.37 1231.55 1520.93 Q1229.75 1524.47 1229.75 1531.6 Q1229.75 1538.71 1231.55 1542.27 Q1233.38 1545.82 1236.99 1545.82 Q1240.63 1545.82 1242.43 1542.27 Q1244.26 1538.71 1244.26 1531.6 Q1244.26 1524.47 1242.43 1520.93 Q1240.63 1517.37 1236.99 1517.37 M1236.99 1513.66 Q1242.8 1513.66 1245.86 1518.27 Q1248.94 1522.85 1248.94 1531.6 Q1248.94 1540.33 1245.86 1544.94 Q1242.8 1549.52 1236.99 1549.52 Q1231.18 1549.52 1228.11 1544.94 Q1225.05 1540.33 1225.05 1531.6 Q1225.05 1522.85 1228.11 1518.27 Q1231.18 1513.66 1236.99 1513.66 Z\" fill=\"#000000\" fill-rule=\"evenodd\" fill-opacity=\"1\" /><path clip-path=\"url(#clip690)\" d=\"M1267.16 1517.37 Q1263.54 1517.37 1261.72 1520.93 Q1259.91 1524.47 1259.91 1531.6 Q1259.91 1538.71 1261.72 1542.27 Q1263.54 1545.82 1267.16 1545.82 Q1270.79 1545.82 1272.6 1542.27 Q1274.42 1538.71 1274.42 1531.6 Q1274.42 1524.47 1272.6 1520.93 Q1270.79 1517.37 1267.16 1517.37 M1267.16 1513.66 Q1272.97 1513.66 1276.02 1518.27 Q1279.1 1522.85 1279.1 1531.6 Q1279.1 1540.33 1276.02 1544.94 Q1272.97 1549.52 1267.16 1549.52 Q1261.35 1549.52 1258.27 1544.94 Q1255.21 1540.33 1255.21 1531.6 Q1255.21 1522.85 1258.27 1518.27 Q1261.35 1513.66 1267.16 1513.66 Z\" fill=\"#000000\" fill-rule=\"evenodd\" fill-opacity=\"1\" /><path clip-path=\"url(#clip690)\" d=\"M1297.32 1517.37 Q1293.71 1517.37 1291.88 1520.93 Q1290.07 1524.47 1290.07 1531.6 Q1290.07 1538.71 1291.88 1542.27 Q1293.71 1545.82 1297.32 1545.82 Q1300.95 1545.82 1302.76 1542.27 Q1304.59 1538.71 1304.59 1531.6 Q1304.59 1524.47 1302.76 1520.93 Q1300.95 1517.37 1297.32 1517.37 M1297.32 1513.66 Q1303.13 1513.66 1306.18 1518.27 Q1309.26 1522.85 1309.26 1531.6 Q1309.26 1540.33 1306.18 1544.94 Q1303.13 1549.52 1297.32 1549.52 Q1291.51 1549.52 1288.43 1544.94 Q1285.37 1540.33 1285.37 1531.6 Q1285.37 1522.85 1288.43 1518.27 Q1291.51 1513.66 1297.32 1513.66 Z\" fill=\"#000000\" fill-rule=\"evenodd\" fill-opacity=\"1\" /><path clip-path=\"url(#clip690)\" d=\"M1716.35 1544.91 L1723.99 1544.91 L1723.99 1518.55 L1715.68 1520.21 L1715.68 1515.95 L1723.95 1514.29 L1728.62 1514.29 L1728.62 1544.91 L1736.26 1544.91 L1736.26 1548.85 L1716.35 1548.85 L1716.35 1544.91 Z\" fill=\"#000000\" fill-rule=\"evenodd\" fill-opacity=\"1\" /><path clip-path=\"url(#clip690)\" d=\"M1745.75 1514.29 L1764.11 1514.29 L1764.11 1518.22 L1750.04 1518.22 L1750.04 1526.7 Q1751.05 1526.35 1752.07 1526.19 Q1753.09 1526 1754.11 1526 Q1759.9 1526 1763.28 1529.17 Q1766.66 1532.34 1766.66 1537.76 Q1766.66 1543.34 1763.18 1546.44 Q1759.71 1549.52 1753.39 1549.52 Q1751.22 1549.52 1748.95 1549.15 Q1746.7 1548.78 1744.29 1548.04 L1744.29 1543.34 Q1746.38 1544.47 1748.6 1545.03 Q1750.82 1545.58 1753.3 1545.58 Q1757.3 1545.58 1759.64 1543.48 Q1761.98 1541.37 1761.98 1537.76 Q1761.98 1534.15 1759.64 1532.04 Q1757.3 1529.94 1753.3 1529.94 Q1751.42 1529.94 1749.55 1530.35 Q1747.7 1530.77 1745.75 1531.65 L1745.75 1514.29 Z\" fill=\"#000000\" fill-rule=\"evenodd\" fill-opacity=\"1\" /><path clip-path=\"url(#clip690)\" d=\"M1785.87 1517.37 Q1782.26 1517.37 1780.43 1520.93 Q1778.62 1524.47 1778.62 1531.6 Q1778.62 1538.71 1780.43 1542.27 Q1782.26 1545.82 1785.87 1545.82 Q1789.5 1545.82 1791.31 1542.27 Q1793.14 1538.71 1793.14 1531.6 Q1793.14 1524.47 1791.31 1520.93 Q1789.5 1517.37 1785.87 1517.37 M1785.87 1513.66 Q1791.68 1513.66 1794.73 1518.27 Q1797.81 1522.85 1797.81 1531.6 Q1797.81 1540.33 1794.73 1544.94 Q1791.68 1549.52 1785.87 1549.52 Q1780.06 1549.52 1776.98 1544.94 Q1773.92 1540.33 1773.92 1531.6 Q1773.92 1522.85 1776.98 1518.27 Q1780.06 1513.66 1785.87 1513.66 Z\" fill=\"#000000\" fill-rule=\"evenodd\" fill-opacity=\"1\" /><path clip-path=\"url(#clip690)\" d=\"M1816.03 1517.37 Q1812.42 1517.37 1810.59 1520.93 Q1808.78 1524.47 1808.78 1531.6 Q1808.78 1538.71 1810.59 1542.27 Q1812.42 1545.82 1816.03 1545.82 Q1819.66 1545.82 1821.47 1542.27 Q1823.3 1538.71 1823.3 1531.6 Q1823.3 1524.47 1821.47 1520.93 Q1819.66 1517.37 1816.03 1517.37 M1816.03 1513.66 Q1821.84 1513.66 1824.9 1518.27 Q1827.97 1522.85 1827.97 1531.6 Q1827.97 1540.33 1824.9 1544.94 Q1821.84 1549.52 1816.03 1549.52 Q1810.22 1549.52 1807.14 1544.94 Q1804.09 1540.33 1804.09 1531.6 Q1804.09 1522.85 1807.14 1518.27 Q1810.22 1513.66 1816.03 1513.66 Z\" fill=\"#000000\" fill-rule=\"evenodd\" fill-opacity=\"1\" /><path clip-path=\"url(#clip690)\" d=\"M2239.15 1544.91 L2255.47 1544.91 L2255.47 1548.85 L2233.53 1548.85 L2233.53 1544.91 Q2236.19 1542.16 2240.77 1537.53 Q2245.38 1532.88 2246.56 1531.53 Q2248.81 1529.01 2249.69 1527.27 Q2250.59 1525.51 2250.59 1523.82 Q2250.59 1521.07 2248.64 1519.33 Q2246.72 1517.6 2243.62 1517.6 Q2241.42 1517.6 2238.97 1518.36 Q2236.54 1519.13 2233.76 1520.68 L2233.76 1515.95 Q2236.58 1514.82 2239.04 1514.24 Q2241.49 1513.66 2243.53 1513.66 Q2248.9 1513.66 2252.09 1516.35 Q2255.29 1519.03 2255.29 1523.52 Q2255.29 1525.65 2254.48 1527.57 Q2253.69 1529.47 2251.58 1532.07 Q2251 1532.74 2247.9 1535.95 Q2244.8 1539.15 2239.15 1544.91 Z\" fill=\"#000000\" fill-rule=\"evenodd\" fill-opacity=\"1\" /><path clip-path=\"url(#clip690)\" d=\"M2275.29 1517.37 Q2271.68 1517.37 2269.85 1520.93 Q2268.04 1524.47 2268.04 1531.6 Q2268.04 1538.71 2269.85 1542.27 Q2271.68 1545.82 2275.29 1545.82 Q2278.92 1545.82 2280.73 1542.27 Q2282.56 1538.71 2282.56 1531.6 Q2282.56 1524.47 2280.73 1520.93 Q2278.92 1517.37 2275.29 1517.37 M2275.29 1513.66 Q2281.1 1513.66 2284.15 1518.27 Q2287.23 1522.85 2287.23 1531.6 Q2287.23 1540.33 2284.15 1544.94 Q2281.1 1549.52 2275.29 1549.52 Q2269.48 1549.52 2266.4 1544.94 Q2263.34 1540.33 2263.34 1531.6 Q2263.34 1522.85 2266.4 1518.27 Q2269.48 1513.66 2275.29 1513.66 Z\" fill=\"#000000\" fill-rule=\"evenodd\" fill-opacity=\"1\" /><path clip-path=\"url(#clip690)\" d=\"M2305.45 1517.37 Q2301.84 1517.37 2300.01 1520.93 Q2298.2 1524.47 2298.2 1531.6 Q2298.2 1538.71 2300.01 1542.27 Q2301.84 1545.82 2305.45 1545.82 Q2309.08 1545.82 2310.89 1542.27 Q2312.72 1538.71 2312.72 1531.6 Q2312.72 1524.47 2310.89 1520.93 Q2309.08 1517.37 2305.45 1517.37 M2305.45 1513.66 Q2311.26 1513.66 2314.31 1518.27 Q2317.39 1522.85 2317.39 1531.6 Q2317.39 1540.33 2314.31 1544.94 Q2311.26 1549.52 2305.45 1549.52 Q2299.64 1549.52 2296.56 1544.94 Q2293.5 1540.33 2293.5 1531.6 Q2293.5 1522.85 2296.56 1518.27 Q2299.64 1513.66 2305.45 1513.66 Z\" fill=\"#000000\" fill-rule=\"evenodd\" fill-opacity=\"1\" /><path clip-path=\"url(#clip690)\" d=\"M2335.61 1517.37 Q2332 1517.37 2330.17 1520.93 Q2328.37 1524.47 2328.37 1531.6 Q2328.37 1538.71 2330.17 1542.27 Q2332 1545.82 2335.61 1545.82 Q2339.24 1545.82 2341.05 1542.27 Q2342.88 1538.71 2342.88 1531.6 Q2342.88 1524.47 2341.05 1520.93 Q2339.24 1517.37 2335.61 1517.37 M2335.61 1513.66 Q2341.42 1513.66 2344.48 1518.27 Q2347.56 1522.85 2347.56 1531.6 Q2347.56 1540.33 2344.48 1544.94 Q2341.42 1549.52 2335.61 1549.52 Q2329.8 1549.52 2326.72 1544.94 Q2323.67 1540.33 2323.67 1531.6 Q2323.67 1522.85 2326.72 1518.27 Q2329.8 1513.66 2335.61 1513.66 Z\" fill=\"#000000\" fill-rule=\"evenodd\" fill-opacity=\"1\" /><polyline clip-path=\"url(#clip692)\" style=\"stroke:#000000; stroke-linecap:round; stroke-linejoin:round; stroke-width:2; stroke-opacity:0.1; fill:none\" points=\"\n",
       "  154.515,1293.77 2352.76,1293.77 \n",
       "  \"/>\n",
       "<polyline clip-path=\"url(#clip692)\" style=\"stroke:#000000; stroke-linecap:round; stroke-linejoin:round; stroke-width:2; stroke-opacity:0.1; fill:none\" points=\"\n",
       "  154.515,1022.22 2352.76,1022.22 \n",
       "  \"/>\n",
       "<polyline clip-path=\"url(#clip692)\" style=\"stroke:#000000; stroke-linecap:round; stroke-linejoin:round; stroke-width:2; stroke-opacity:0.1; fill:none\" points=\"\n",
       "  154.515,750.677 2352.76,750.677 \n",
       "  \"/>\n",
       "<polyline clip-path=\"url(#clip692)\" style=\"stroke:#000000; stroke-linecap:round; stroke-linejoin:round; stroke-width:2; stroke-opacity:0.1; fill:none\" points=\"\n",
       "  154.515,479.129 2352.76,479.129 \n",
       "  \"/>\n",
       "<polyline clip-path=\"url(#clip692)\" style=\"stroke:#000000; stroke-linecap:round; stroke-linejoin:round; stroke-width:2; stroke-opacity:0.1; fill:none\" points=\"\n",
       "  154.515,207.581 2352.76,207.581 \n",
       "  \"/>\n",
       "<polyline clip-path=\"url(#clip690)\" style=\"stroke:#000000; stroke-linecap:round; stroke-linejoin:round; stroke-width:4; stroke-opacity:1; fill:none\" points=\"\n",
       "  154.515,1486.45 154.515,47.2441 \n",
       "  \"/>\n",
       "<polyline clip-path=\"url(#clip690)\" style=\"stroke:#000000; stroke-linecap:round; stroke-linejoin:round; stroke-width:4; stroke-opacity:1; fill:none\" points=\"\n",
       "  154.515,1293.77 173.413,1293.77 \n",
       "  \"/>\n",
       "<polyline clip-path=\"url(#clip690)\" style=\"stroke:#000000; stroke-linecap:round; stroke-linejoin:round; stroke-width:4; stroke-opacity:1; fill:none\" points=\"\n",
       "  154.515,1022.22 173.413,1022.22 \n",
       "  \"/>\n",
       "<polyline clip-path=\"url(#clip690)\" style=\"stroke:#000000; stroke-linecap:round; stroke-linejoin:round; stroke-width:4; stroke-opacity:1; fill:none\" points=\"\n",
       "  154.515,750.677 173.413,750.677 \n",
       "  \"/>\n",
       "<polyline clip-path=\"url(#clip690)\" style=\"stroke:#000000; stroke-linecap:round; stroke-linejoin:round; stroke-width:4; stroke-opacity:1; fill:none\" points=\"\n",
       "  154.515,479.129 173.413,479.129 \n",
       "  \"/>\n",
       "<polyline clip-path=\"url(#clip690)\" style=\"stroke:#000000; stroke-linecap:round; stroke-linejoin:round; stroke-width:4; stroke-opacity:1; fill:none\" points=\"\n",
       "  154.515,207.581 173.413,207.581 \n",
       "  \"/>\n",
       "<path clip-path=\"url(#clip690)\" d=\"M52.1495 1307.12 L59.7884 1307.12 L59.7884 1280.75 L51.4782 1282.42 L51.4782 1278.16 L59.7421 1276.49 L64.418 1276.49 L64.418 1307.12 L72.0568 1307.12 L72.0568 1311.05 L52.1495 1311.05 L52.1495 1307.12 Z\" fill=\"#000000\" fill-rule=\"evenodd\" fill-opacity=\"1\" /><path clip-path=\"url(#clip690)\" d=\"M81.5012 1305.17 L86.3855 1305.17 L86.3855 1311.05 L81.5012 1311.05 L81.5012 1305.17 Z\" fill=\"#000000\" fill-rule=\"evenodd\" fill-opacity=\"1\" /><path clip-path=\"url(#clip690)\" d=\"M106.571 1279.57 Q102.959 1279.57 101.131 1283.14 Q99.3252 1286.68 99.3252 1293.81 Q99.3252 1300.91 101.131 1304.48 Q102.959 1308.02 106.571 1308.02 Q110.205 1308.02 112.01 1304.48 Q113.839 1300.91 113.839 1293.81 Q113.839 1286.68 112.01 1283.14 Q110.205 1279.57 106.571 1279.57 M106.571 1275.87 Q112.381 1275.87 115.436 1280.47 Q118.515 1285.06 118.515 1293.81 Q118.515 1302.53 115.436 1307.14 Q112.381 1311.72 106.571 1311.72 Q100.76 1311.72 97.6817 1307.14 Q94.6262 1302.53 94.6262 1293.81 Q94.6262 1285.06 97.6817 1280.47 Q100.76 1275.87 106.571 1275.87 Z\" fill=\"#000000\" fill-rule=\"evenodd\" fill-opacity=\"1\" /><path clip-path=\"url(#clip690)\" d=\"M53.7467 1035.57 L61.3856 1035.57 L61.3856 1009.2 L53.0754 1010.87 L53.0754 1006.61 L61.3393 1004.94 L66.0152 1004.94 L66.0152 1035.57 L73.654 1035.57 L73.654 1039.5 L53.7467 1039.5 L53.7467 1035.57 Z\" fill=\"#000000\" fill-rule=\"evenodd\" fill-opacity=\"1\" /><path clip-path=\"url(#clip690)\" d=\"M83.0984 1033.63 L87.9827 1033.63 L87.9827 1039.5 L83.0984 1039.5 L83.0984 1033.63 Z\" fill=\"#000000\" fill-rule=\"evenodd\" fill-opacity=\"1\" /><path clip-path=\"url(#clip690)\" d=\"M102.196 1035.57 L118.515 1035.57 L118.515 1039.5 L96.5706 1039.5 L96.5706 1035.57 Q99.2326 1032.81 103.816 1028.19 Q108.422 1023.53 109.603 1022.19 Q111.848 1019.67 112.728 1017.93 Q113.631 1016.17 113.631 1014.48 Q113.631 1011.73 111.686 1009.99 Q109.765 1008.25 106.663 1008.25 Q104.464 1008.25 102.01 1009.02 Q99.5798 1009.78 96.8021 1011.33 L96.8021 1006.61 Q99.6261 1005.48 102.08 1004.9 Q104.534 1004.32 106.571 1004.32 Q111.941 1004.32 115.135 1007 Q118.33 1009.69 118.33 1014.18 Q118.33 1016.31 117.52 1018.23 Q116.733 1020.13 114.626 1022.72 Q114.047 1023.39 110.946 1026.61 Q107.844 1029.81 102.196 1035.57 Z\" fill=\"#000000\" fill-rule=\"evenodd\" fill-opacity=\"1\" /><path clip-path=\"url(#clip690)\" d=\"M51.6634 764.022 L59.3023 764.022 L59.3023 737.656 L50.9921 739.323 L50.9921 735.063 L59.256 733.397 L63.9319 733.397 L63.9319 764.022 L71.5707 764.022 L71.5707 767.957 L51.6634 767.957 L51.6634 764.022 Z\" fill=\"#000000\" fill-rule=\"evenodd\" fill-opacity=\"1\" /><path clip-path=\"url(#clip690)\" d=\"M81.0151 762.077 L85.8993 762.077 L85.8993 767.957 L81.0151 767.957 L81.0151 762.077 Z\" fill=\"#000000\" fill-rule=\"evenodd\" fill-opacity=\"1\" /><path clip-path=\"url(#clip690)\" d=\"M108.932 737.471 L97.1261 755.92 L108.932 755.92 L108.932 737.471 M107.705 733.397 L113.584 733.397 L113.584 755.92 L118.515 755.92 L118.515 759.809 L113.584 759.809 L113.584 767.957 L108.932 767.957 L108.932 759.809 L93.3299 759.809 L93.3299 755.295 L107.705 733.397 Z\" fill=\"#000000\" fill-rule=\"evenodd\" fill-opacity=\"1\" /><path clip-path=\"url(#clip690)\" d=\"M51.9875 492.474 L59.6263 492.474 L59.6263 466.108 L51.3162 467.775 L51.3162 463.516 L59.58 461.849 L64.2559 461.849 L64.2559 492.474 L71.8948 492.474 L71.8948 496.409 L51.9875 496.409 L51.9875 492.474 Z\" fill=\"#000000\" fill-rule=\"evenodd\" fill-opacity=\"1\" /><path clip-path=\"url(#clip690)\" d=\"M81.3392 490.529 L86.2234 490.529 L86.2234 496.409 L81.3392 496.409 L81.3392 490.529 Z\" fill=\"#000000\" fill-rule=\"evenodd\" fill-opacity=\"1\" /><path clip-path=\"url(#clip690)\" d=\"M106.987 477.265 Q103.839 477.265 101.987 479.418 Q100.159 481.571 100.159 485.321 Q100.159 489.048 101.987 491.224 Q103.839 493.377 106.987 493.377 Q110.135 493.377 111.964 491.224 Q113.816 489.048 113.816 485.321 Q113.816 481.571 111.964 479.418 Q110.135 477.265 106.987 477.265 M116.27 462.613 L116.27 466.872 Q114.51 466.039 112.705 465.599 Q110.922 465.159 109.163 465.159 Q104.534 465.159 102.08 468.284 Q99.6493 471.409 99.3021 477.728 Q100.668 475.715 102.728 474.65 Q104.788 473.562 107.265 473.562 Q112.473 473.562 115.483 476.733 Q118.515 479.881 118.515 485.321 Q118.515 490.645 115.367 493.863 Q112.219 497.08 106.987 497.08 Q100.992 497.08 97.8206 492.497 Q94.6493 487.89 94.6493 479.164 Q94.6493 470.969 98.5382 466.108 Q102.427 461.224 108.978 461.224 Q110.737 461.224 112.52 461.571 Q114.325 461.918 116.27 462.613 Z\" fill=\"#000000\" fill-rule=\"evenodd\" fill-opacity=\"1\" /><path clip-path=\"url(#clip690)\" d=\"M52.2421 220.926 L59.881 220.926 L59.881 194.56 L51.5708 196.227 L51.5708 191.968 L59.8347 190.301 L64.5106 190.301 L64.5106 220.926 L72.1494 220.926 L72.1494 224.861 L52.2421 224.861 L52.2421 220.926 Z\" fill=\"#000000\" fill-rule=\"evenodd\" fill-opacity=\"1\" /><path clip-path=\"url(#clip690)\" d=\"M81.5938 218.981 L86.478 218.981 L86.478 224.861 L81.5938 224.861 L81.5938 218.981 Z\" fill=\"#000000\" fill-rule=\"evenodd\" fill-opacity=\"1\" /><path clip-path=\"url(#clip690)\" d=\"M106.663 208.449 Q103.33 208.449 101.409 210.231 Q99.5104 212.014 99.5104 215.139 Q99.5104 218.264 101.409 220.046 Q103.33 221.829 106.663 221.829 Q109.996 221.829 111.918 220.046 Q113.839 218.241 113.839 215.139 Q113.839 212.014 111.918 210.231 Q110.02 208.449 106.663 208.449 M101.987 206.458 Q98.978 205.718 97.2882 203.657 Q95.6215 201.597 95.6215 198.634 Q95.6215 194.491 98.5613 192.083 Q101.524 189.676 106.663 189.676 Q111.825 189.676 114.765 192.083 Q117.705 194.491 117.705 198.634 Q117.705 201.597 116.015 203.657 Q114.348 205.718 111.362 206.458 Q114.742 207.245 116.617 209.537 Q118.515 211.829 118.515 215.139 Q118.515 220.162 115.436 222.847 Q112.381 225.532 106.663 225.532 Q100.946 225.532 97.8669 222.847 Q94.8113 220.162 94.8113 215.139 Q94.8113 211.829 96.7095 209.537 Q98.6076 207.245 101.987 206.458 M100.274 199.074 Q100.274 201.759 101.941 203.264 Q103.631 204.769 106.663 204.769 Q109.672 204.769 111.362 203.264 Q113.075 201.759 113.075 199.074 Q113.075 196.389 111.362 194.884 Q109.672 193.38 106.663 193.38 Q103.631 193.38 101.941 194.884 Q100.274 196.389 100.274 199.074 Z\" fill=\"#000000\" fill-rule=\"evenodd\" fill-opacity=\"1\" /></svg>\n"
      ]
     },
     "metadata": {},
     "output_type": "display_data"
    }
   ],
   "source": [
    "plot(1:num_epochs, losses, legend=false)"
   ]
  },
  {
   "cell_type": "markdown",
   "id": "d188cf7a",
   "metadata": {
    "colab_type": "text",
    "id": "iOdv_QdIrREr"
   },
   "source": [
    "## 3. Evaluate our model\n",
    "\n",
    "In this section, you will evaluate your model on train set and test set and make some comment about the result."
   ]
  },
  {
   "cell_type": "markdown",
   "id": "9617edaf",
   "metadata": {},
   "source": [
    "### Evaluate model on training set"
   ]
  },
  {
   "cell_type": "code",
   "execution_count": 26,
   "id": "3960bb52",
   "metadata": {},
   "outputs": [
    {
     "name": "stdout",
     "output_type": "stream",
     "text": [
      " acc: 0.8918\n",
      " precision: 0.9734848484848485\n",
      " recall: 0.038119252447345\n",
      " f1_score: 0.07336568655438197\n"
     ]
    },
    {
     "name": "stderr",
     "output_type": "stream",
     "text": [
      "┌ Warning: The classes are un-ordered,\n",
      "│ using: negative='0' and positive='1'.\n",
      "│ To suppress this warning, consider coercing to OrderedFactor.\n",
      "└ @ MLJBase /Users/quytrungg/.julia/packages/MLJBase/U4Dis/src/measures/confusion_matrix.jl:116\n",
      "┌ Warning: The classes are un-ordered,\n",
      "│ using: negative='0' and positive='1'.\n",
      "│ To suppress this warning, consider coercing to OrderedFactor.\n",
      "└ @ MLJBase /Users/quytrungg/.julia/packages/MLJBase/U4Dis/src/measures/confusion_matrix.jl:116\n"
     ]
    }
   ],
   "source": [
    "preds_train = predict(W, add_one_train_x)\n",
    "\n",
    "train_y_new = reshape(train_y_new, length(train_y_new), 1)\n",
    "acc = accuracy(preds_train, train_y_new)\n",
    "p = precision(preds_train, train_y_new)\n",
    "r = recall(preds_train, train_y_new)\n",
    "f1 = 2*p*r/(p + r)\n",
    "\n",
    "print(\" acc: $acc\\n precision: $p\\n recall: $r\\n f1_score: $f1\\n\")"
   ]
  },
  {
   "cell_type": "markdown",
   "id": "5a3c1298",
   "metadata": {},
   "source": [
    "### Evaluate model on test set\n",
    "\n",
    "In order to predict the result on test set, you have to perform data pre-process first. The pre-process is done exactly what we have done on train set. That means, you have to:\n",
    "\n",
    "- Change the label in `test_y` to `0` and `1` and store in a new variable named `test_y_new`\n",
    "- Calculate `test_intensity` and `test_symmetry` to form `test_x_new` (the shape should be `(10000,2)`)\n",
    "- Normalized `test_x_new` by z-score. Note the you will re-use variable `mean_` and `std_` to calculate `test_x_new` instead of compute new ones. You will store the result in `normalized_test_x`\n",
    "- Add a column that's full of one to `test_x_new` and store in `add_one_test_x` (the shape should be `(10000,3)`)"
   ]
  },
  {
   "cell_type": "code",
   "execution_count": 27,
   "id": "48cc1d4d",
   "metadata": {},
   "outputs": [
    {
     "data": {
      "text/plain": [
       "(10000, 3)"
      ]
     },
     "metadata": {},
     "output_type": "display_data"
    }
   ],
   "source": [
    "#TODO\n",
    "\n",
    "# compute test_y_new\n",
    "test_y_new = reshape(deepcopy(test_y), (size(test_y)[1], 1))\n",
    "test_y_new[test_y_new .!= 1] .= 0\n",
    "\n",
    "# compute test_intensity and test_symmetry to form test_x_new\n",
    "test_intensity = mean(test_x_flatten, dims=2)\n",
    "test_symmetry = compute_symmetry(test_x_flatten)\n",
    "test_x_new = hcat(test_intensity, test_symmetry)\n",
    "\n",
    "# normalize test_x_new to form normalized_test_x\n",
    "normalized_test_x = normalize(test_x_new, mean_, std_)\n",
    "\n",
    "# add column `ones` to test_x_new\n",
    "add_one_test_x = hcat(ones(size(normalized_test_x)[1],), normalized_test_x)\n",
    "size(add_one_test_x)"
   ]
  },
  {
   "cell_type": "markdown",
   "id": "be01a35a",
   "metadata": {},
   "source": [
    "After doing all these stuffs, you now can predict and evaluate your model"
   ]
  },
  {
   "cell_type": "code",
   "execution_count": 29,
   "id": "74b30e4b",
   "metadata": {},
   "outputs": [
    {
     "name": "stdout",
     "output_type": "stream",
     "text": [
      " acc: 0.8905\n",
      " precision: 0.8846153846153846\n",
      " recall: 0.04052863436123348\n",
      " f1_score: 0.07750631844987364\n"
     ]
    },
    {
     "name": "stderr",
     "output_type": "stream",
     "text": [
      "┌ Warning: The classes are un-ordered,\n",
      "│ using: negative='0' and positive='1'.\n",
      "│ To suppress this warning, consider coercing to OrderedFactor.\n",
      "└ @ MLJBase /Users/quytrungg/.julia/packages/MLJBase/U4Dis/src/measures/confusion_matrix.jl:116\n",
      "┌ Warning: The classes are un-ordered,\n",
      "│ using: negative='0' and positive='1'.\n",
      "│ To suppress this warning, consider coercing to OrderedFactor.\n",
      "└ @ MLJBase /Users/quytrungg/.julia/packages/MLJBase/U4Dis/src/measures/confusion_matrix.jl:116\n"
     ]
    }
   ],
   "source": [
    "preds_test = predict(W, add_one_test_x)\n",
    "\n",
    "test_y_new = reshape(test_y_new, length(test_y_new), 1)\n",
    "acc = accuracy(preds_test, test_y_new)\n",
    "p = precision(preds_test, test_y_new)\n",
    "r = recall(preds_test, test_y_new)\n",
    "f1 = 2*p*r/(p + r) #**TODO: Comment on the result**\n",
    "\n",
    "print(\" acc: $acc\\n precision: $p\\n recall: $r\\n f1_score: $f1\\n\")"
   ]
  },
  {
   "cell_type": "markdown",
   "id": "8acd6681",
   "metadata": {
    "colab_type": "text",
    "id": "B1pwx72_rRFe"
   },
   "source": [
    "**TODO: Comment on the result**\n",
    "- At first glance, the model's prediction on train data and test data has a very high accuracy, with 89.18% on train data and 89.05% on test data.\n",
    "- In details, the model's precision percentage on train and test data is also very high (> 88%), which means that everytime the model predicts a data sample to be number 1 (label 1), the high chance that prediction is correct.\n",
    "- On the other hand, the model's recall percentage is below 4% on train and test data, which means the percentage of the model recognizing a data sample to be number 1 (label 1) is not that high, many number 0s data is predicted to be number 1 by the model.\n",
    "- Overall, since the precision is high and recall is low, the f1_score (calculated by the artihmetic mean of its precision and recall) is also below 10% (approximately 7.5% on both train and test data).\n",
    "- The final conclusion of this model using logistic regression method above is that the accuracy of predicting number 1s data (label 1) is very high, meanwhile, if there are many not-number 1s data (label 0) in the data, chances are the model does not perform well on recognizing between label 1 and label 0 data."
   ]
  },
  {
   "cell_type": "markdown",
   "id": "a25e1609",
   "metadata": {},
   "source": []
  }
 ],
 "metadata": {
  "kernelspec": {
   "display_name": "Julia 1.8.2",
   "language": "julia",
   "name": "julia-1.8"
  },
  "language_info": {
   "file_extension": ".jl",
   "mimetype": "application/julia",
   "name": "julia",
   "version": "1.8.2"
  }
 },
 "nbformat": 4,
 "nbformat_minor": 5
}
