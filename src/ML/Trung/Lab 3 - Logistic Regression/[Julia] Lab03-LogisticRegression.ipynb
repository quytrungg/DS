{
 "cells": [
  {
   "cell_type": "markdown",
   "id": "81e33c21",
   "metadata": {
    "colab_type": "text",
    "id": "joowx9GCrRAw"
   },
   "source": [
    "# Lab03: Logistic Regression.\n",
    "\n",
    "- Student ID: 20127370\n",
    "- Student name: Mai Quý Trung"
   ]
  },
  {
   "cell_type": "markdown",
   "id": "f4f1d521",
   "metadata": {
    "colab_type": "text",
    "id": "0XnaW0UKrRA0"
   },
   "source": [
    "**How to do your homework**\n",
    "\n",
    "\n",
    "You will work directly on this notebook; the word `TODO` indicate the parts you need to do.\n",
    "\n",
    "You can discuss ideas with classmates as well as finding information from the internet, book, etc...; but *this homework must be your*.\n",
    "\n",
    "**How to submit your homework**\n",
    "\n",
    "Before submitting, rerun the notebook (`Kernel` ->` Restart & Run All`).\n",
    "\n",
    "Then create a folder named `ID` (for example, if your ID is 1234567, then name the folder `1234567`). Copy file notebook to this folder, compress and submit it on moodle.\n",
    "\n",
    "**Contents:**\n",
    "- Logistic Regression."
   ]
  },
  {
   "cell_type": "markdown",
   "id": "51673795",
   "metadata": {
    "colab_type": "text",
    "id": "J53xGOE7rRA1"
   },
   "source": [
    "## 1. Feature Extraction"
   ]
  },
  {
   "cell_type": "markdown",
   "id": "dc78eb95",
   "metadata": {
    "colab_type": "text",
    "id": "kG06cwK8rRA3"
   },
   "source": [
    "### Import Library"
   ]
  },
  {
   "cell_type": "code",
   "execution_count": 1,
   "id": "a894d2db",
   "metadata": {},
   "outputs": [
    {
     "data": {
      "text/plain": [
       "Plots.GRBackend()"
      ]
     },
     "metadata": {},
     "output_type": "display_data"
    }
   ],
   "source": [
    "using Flux, Images, MLDatasets, Plots\n",
    "using Statistics, Distributions\n",
    "using MLJ \n",
    "gr()"
   ]
  },
  {
   "cell_type": "markdown",
   "id": "1705b618",
   "metadata": {
    "colab_type": "text",
    "id": "sPfHpi6orRBN"
   },
   "source": [
    "### Load data"
   ]
  },
  {
   "cell_type": "code",
   "execution_count": 2,
   "id": "a29abad1",
   "metadata": {},
   "outputs": [
    {
     "name": "stderr",
     "output_type": "stream",
     "text": [
      "┌ Warning: MNIST.traindata() is deprecated, use `MNIST(split=:train)[:]` instead.\n",
      "└ @ MLDatasets /Users/quytrungg/.julia/packages/MLDatasets/A3giY/src/datasets/vision/mnist.jl:187\n",
      "┌ Warning: MNIST.testdata() is deprecated, use `MNIST(split=:test)[:]` instead.\n",
      "└ @ MLDatasets /Users/quytrungg/.julia/packages/MLDatasets/A3giY/src/datasets/vision/mnist.jl:195\n"
     ]
    },
    {
     "data": {
      "text/plain": [
       "((60000, 784), (60000,), (10000, 784), (10000,))"
      ]
     },
     "metadata": {},
     "output_type": "display_data"
    }
   ],
   "source": [
    "train_x, train_y = MNIST.traindata(Int64);\n",
    "test_x, test_y = MNIST.testdata(Int64);\n",
    "\n",
    "train_x_flatten = Flux.flatten(train_x)'\n",
    "test_x_flatten = Flux.flatten(test_x)'\n",
    "\n",
    "size(train_x_flatten), size(train_y), size(test_x_flatten), size(test_y)"
   ]
  },
  {
   "cell_type": "markdown",
   "id": "102d5ef8",
   "metadata": {
    "colab_type": "text",
    "id": "x7D18ySErRBr"
   },
   "source": [
    "### Extract Features"
   ]
  },
  {
   "cell_type": "markdown",
   "id": "83f6cab6",
   "metadata": {
    "colab_type": "text",
    "id": "NlYT1LtnrRBt"
   },
   "source": [
    "So we basically have 70000 samples with each sample having 784 features - pixels in this case and a label - the digit the image represent.\n",
    "\n",
    "Let’s play around and see if we can extract any features from the pixels that can be more informative. First I’d like to know more about average intensity - that is the average value of a pixel in an image for the different digits"
   ]
  },
  {
   "cell_type": "code",
   "execution_count": 3,
   "id": "42d2e2ae",
   "metadata": {},
   "outputs": [],
   "source": [
    "function compute_average_intensity(x, y)\n",
    "    mean = zeros(10) # 10 is number of labels\n",
    "    #TODO compute average intensity for each label\n",
    "    count = zeros(10)\n",
    "    for i in 1:length(y)\n",
    "        count[y[i]+1] += 1\n",
    "    end\n",
    "\n",
    "    for i in 1:length(y)\n",
    "        mean[y[i]+1] += sum(x[i, :])\n",
    "    end\n",
    "\n",
    "    for i in 1:10\n",
    "        mean[i] /= count[i]\n",
    "    end\n",
    "    return mean\n",
    "end\n",
    "\n",
    "l_mean = compute_average_intensity(train_x_flatten, train_y);"
   ]
  },
  {
   "cell_type": "markdown",
   "id": "fb235f3d",
   "metadata": {
    "colab_type": "text",
    "id": "WMykV-q5rRB2"
   },
   "source": [
    "Plot the average intensity using matplotlib"
   ]
  },
  {
   "cell_type": "code",
   "execution_count": 4,
   "id": "baf91a21",
   "metadata": {},
   "outputs": [
    {
     "data": {
      "image/png": "[encoded data removed]",
      "image/svg+xml": "<?xml version=\"1.0\" encoding=\"utf-8\"?>\n<svg xmlns=\"http://www.w3.org/2000/svg\" xmlns:xlink=\"http://www.w3.org/1999/xlink\" width=\"600\" height=\"400\" viewBox=\"0 0 2400 1600\">\n<defs>\n  <clipPath id=\"clip980\">\n    <rect x=\"0\" y=\"0\" width=\"2400\" height=\"1600\"/>\n  </clipPath>\n</defs>\n<path clip-path=\"url(#clip980)\" d=\"\nM0 1600 L2400 1600 L2400 0 L0 0  Z\n  \" fill=\"#ffffff\" fill-rule=\"evenodd\" fill-opacity=\"1\"/>\n<defs>\n  <clipPath id=\"clip981\">\n    <rect x=\"480\" y=\"0\" width=\"1681\" height=\"1600\"/>\n  </clipPath>\n</defs>\n<path clip-path=\"url(#clip980)\" d=\"\nM276.274 1486.45 L2352.76 1486.45 L2352.76 47.2441 L276.274 47.2441  Z\n  \" fill=\"#ffffff\" fill-rule=\"evenodd\" fill-opacity=\"1\"/>\n<defs>\n  <clipPath id=\"clip982\">\n    <rect x=\"276\" y=\"47\" width=\"2077\" height=\"1440\"/>\n  </clipPath>\n</defs>\n<polyline clip-path=\"url(#clip982)\" style=\"stroke:#000000; stroke-linecap:round; stroke-linejoin:round; stroke-width:2; stroke-opacity:0.1; fill:none\" points=\"\n  465.915,1486.45 465.915,47.2441 \n  \"/>\n<polyline clip-path=\"url(#clip982)\" style=\"stroke:#000000; stroke-linecap:round; stroke-linejoin:round; stroke-width:2; stroke-opacity:0.1; fill:none\" points=\"\n  937.359,1486.45 937.359,47.2441 \n  \"/>\n<polyline clip-path=\"url(#clip982)\" style=\"stroke:#000000; stroke-linecap:round; stroke-linejoin:round; stroke-width:2; stroke-opacity:0.1; fill:none\" points=\"\n  1408.8,1486.45 1408.8,47.2441 \n  \"/>\n<polyline clip-path=\"url(#clip982)\" style=\"stroke:#000000; stroke-linecap:round; stroke-linejoin:round; stroke-width:2; stroke-opacity:0.1; fill:none\" points=\"\n  1880.25,1486.45 1880.25,47.2441 \n  \"/>\n<polyline clip-path=\"url(#clip982)\" style=\"stroke:#000000; stroke-linecap:round; stroke-linejoin:round; stroke-width:2; stroke-opacity:0.1; fill:none\" points=\"\n  2351.69,1486.45 2351.69,47.2441 \n  \"/>\n<polyline clip-path=\"url(#clip980)\" style=\"stroke:#000000; stroke-linecap:round; stroke-linejoin:round; stroke-width:4; stroke-opacity:1; fill:none\" points=\"\n  276.274,1486.45 2352.76,1486.45 \n  \"/>\n<polyline clip-path=\"url(#clip980)\" style=\"stroke:#000000; stroke-linecap:round; stroke-linejoin:round; stroke-width:4; stroke-opacity:1; fill:none\" points=\"\n  465.915,1486.45 465.915,1467.55 \n  \"/>\n<polyline clip-path=\"url(#clip980)\" style=\"stroke:#000000; stroke-linecap:round; stroke-linejoin:round; stroke-width:4; stroke-opacity:1; fill:none\" points=\"\n  937.359,1486.45 937.359,1467.55 \n  \"/>\n<polyline clip-path=\"url(#clip980)\" style=\"stroke:#000000; stroke-linecap:round; stroke-linejoin:round; stroke-width:4; stroke-opacity:1; fill:none\" points=\"\n  1408.8,1486.45 1408.8,1467.55 \n  \"/>\n<polyline clip-path=\"url(#clip980)\" style=\"stroke:#000000; stroke-linecap:round; stroke-linejoin:round; stroke-width:4; stroke-opacity:1; fill:none\" points=\"\n  1880.25,1486.45 1880.25,1467.55 \n  \"/>\n<polyline clip-path=\"url(#clip980)\" style=\"stroke:#000000; stroke-linecap:round; stroke-linejoin:round; stroke-width:4; stroke-opacity:1; fill:none\" points=\"\n  2351.69,1486.45 2351.69,1467.55 \n  \"/>\n<path clip-path=\"url(#clip980)\" d=\"M443.299 1517.37 Q439.688 1517.37 437.859 1520.93 Q436.054 1524.47 436.054 1531.6 Q436.054 1538.71 437.859 1542.27 Q439.688 1545.82 443.299 1545.82 Q446.933 1545.82 448.739 1542.27 Q450.568 1538.71 450.568 1531.6 Q450.568 1524.47 448.739 1520.93 Q446.933 1517.37 443.299 1517.37 M443.299 1513.66 Q449.109 1513.66 452.165 1518.27 Q455.244 1522.85 455.244 1531.6 Q455.244 1540.33 452.165 1544.94 Q449.109 1549.52 443.299 1549.52 Q437.489 1549.52 434.41 1544.94 Q431.355 1540.33 431.355 1531.6 Q431.355 1522.85 434.41 1518.27 Q437.489 1513.66 443.299 1513.66 Z\" fill=\"#000000\" fill-rule=\"evenodd\" fill-opacity=\"1\" /><path clip-path=\"url(#clip980)\" d=\"M463.461 1542.97 L468.345 1542.97 L468.345 1548.85 L463.461 1548.85 L463.461 1542.97 Z\" fill=\"#000000\" fill-rule=\"evenodd\" fill-opacity=\"1\" /><path clip-path=\"url(#clip980)\" d=\"M488.53 1517.37 Q484.919 1517.37 483.091 1520.93 Q481.285 1524.47 481.285 1531.6 Q481.285 1538.71 483.091 1542.27 Q484.919 1545.82 488.53 1545.82 Q492.165 1545.82 493.97 1542.27 Q495.799 1538.71 495.799 1531.6 Q495.799 1524.47 493.97 1520.93 Q492.165 1517.37 488.53 1517.37 M488.53 1513.66 Q494.341 1513.66 497.396 1518.27 Q500.475 1522.85 500.475 1531.6 Q500.475 1540.33 497.396 1544.94 Q494.341 1549.52 488.53 1549.52 Q482.72 1549.52 479.642 1544.94 Q476.586 1540.33 476.586 1531.6 Q476.586 1522.85 479.642 1518.27 Q482.72 1513.66 488.53 1513.66 Z\" fill=\"#000000\" fill-rule=\"evenodd\" fill-opacity=\"1\" /><path clip-path=\"url(#clip980)\" d=\"M909.095 1544.91 L925.415 1544.91 L925.415 1548.85 L903.471 1548.85 L903.471 1544.91 Q906.133 1542.16 910.716 1537.53 Q915.322 1532.88 916.503 1531.53 Q918.748 1529.01 919.628 1527.27 Q920.531 1525.51 920.531 1523.82 Q920.531 1521.07 918.586 1519.33 Q916.665 1517.6 913.563 1517.6 Q911.364 1517.6 908.91 1518.36 Q906.48 1519.13 903.702 1520.68 L903.702 1515.95 Q906.526 1514.82 908.98 1514.24 Q911.433 1513.66 913.47 1513.66 Q918.841 1513.66 922.035 1516.35 Q925.23 1519.03 925.23 1523.52 Q925.23 1525.65 924.419 1527.57 Q923.632 1529.47 921.526 1532.07 Q920.947 1532.74 917.845 1535.95 Q914.744 1539.15 909.095 1544.91 Z\" fill=\"#000000\" fill-rule=\"evenodd\" fill-opacity=\"1\" /><path clip-path=\"url(#clip980)\" d=\"M935.23 1542.97 L940.114 1542.97 L940.114 1548.85 L935.23 1548.85 L935.23 1542.97 Z\" fill=\"#000000\" fill-rule=\"evenodd\" fill-opacity=\"1\" /><path clip-path=\"url(#clip980)\" d=\"M950.345 1514.29 L968.702 1514.29 L968.702 1518.22 L954.628 1518.22 L954.628 1526.7 Q955.646 1526.35 956.665 1526.19 Q957.683 1526 958.702 1526 Q964.489 1526 967.868 1529.17 Q971.248 1532.34 971.248 1537.76 Q971.248 1543.34 967.776 1546.44 Q964.304 1549.52 957.984 1549.52 Q955.808 1549.52 953.54 1549.15 Q951.294 1548.78 948.887 1548.04 L948.887 1543.34 Q950.97 1544.47 953.192 1545.03 Q955.415 1545.58 957.892 1545.58 Q961.896 1545.58 964.234 1543.48 Q966.572 1541.37 966.572 1537.76 Q966.572 1534.15 964.234 1532.04 Q961.896 1529.94 957.892 1529.94 Q956.017 1529.94 954.142 1530.35 Q952.29 1530.77 950.345 1531.65 L950.345 1514.29 Z\" fill=\"#000000\" fill-rule=\"evenodd\" fill-opacity=\"1\" /><path clip-path=\"url(#clip980)\" d=\"M1375.97 1514.29 L1394.32 1514.29 L1394.32 1518.22 L1380.25 1518.22 L1380.25 1526.7 Q1381.27 1526.35 1382.29 1526.19 Q1383.31 1526 1384.32 1526 Q1390.11 1526 1393.49 1529.17 Q1396.87 1532.34 1396.87 1537.76 Q1396.87 1543.34 1393.4 1546.44 Q1389.93 1549.52 1383.61 1549.52 Q1381.43 1549.52 1379.16 1549.15 Q1376.92 1548.78 1374.51 1548.04 L1374.51 1543.34 Q1376.59 1544.47 1378.82 1545.03 Q1381.04 1545.58 1383.51 1545.58 Q1387.52 1545.58 1389.86 1543.48 Q1392.19 1541.37 1392.19 1537.76 Q1392.19 1534.15 1389.86 1532.04 Q1387.52 1529.94 1383.51 1529.94 Q1381.64 1529.94 1379.76 1530.35 Q1377.91 1530.77 1375.97 1531.65 L1375.97 1514.29 Z\" fill=\"#000000\" fill-rule=\"evenodd\" fill-opacity=\"1\" /><path clip-path=\"url(#clip980)\" d=\"M1406.08 1542.97 L1410.97 1542.97 L1410.97 1548.85 L1406.08 1548.85 L1406.08 1542.97 Z\" fill=\"#000000\" fill-rule=\"evenodd\" fill-opacity=\"1\" /><path clip-path=\"url(#clip980)\" d=\"M1431.15 1517.37 Q1427.54 1517.37 1425.71 1520.93 Q1423.91 1524.47 1423.91 1531.6 Q1423.91 1538.71 1425.71 1542.27 Q1427.54 1545.82 1431.15 1545.82 Q1434.79 1545.82 1436.59 1542.27 Q1438.42 1538.71 1438.42 1531.6 Q1438.42 1524.47 1436.59 1520.93 Q1434.79 1517.37 1431.15 1517.37 M1431.15 1513.66 Q1436.96 1513.66 1440.02 1518.27 Q1443.1 1522.85 1443.1 1531.6 Q1443.1 1540.33 1440.02 1544.94 Q1436.96 1549.52 1431.15 1549.52 Q1425.34 1549.52 1422.26 1544.94 Q1419.21 1540.33 1419.21 1531.6 Q1419.21 1522.85 1422.26 1518.27 Q1425.34 1513.66 1431.15 1513.66 Z\" fill=\"#000000\" fill-rule=\"evenodd\" fill-opacity=\"1\" /><path clip-path=\"url(#clip980)\" d=\"M1846.57 1514.29 L1868.79 1514.29 L1868.79 1516.28 L1856.24 1548.85 L1851.36 1548.85 L1863.16 1518.22 L1846.57 1518.22 L1846.57 1514.29 Z\" fill=\"#000000\" fill-rule=\"evenodd\" fill-opacity=\"1\" /><path clip-path=\"url(#clip980)\" d=\"M1877.91 1542.97 L1882.79 1542.97 L1882.79 1548.85 L1877.91 1548.85 L1877.91 1542.97 Z\" fill=\"#000000\" fill-rule=\"evenodd\" fill-opacity=\"1\" /><path clip-path=\"url(#clip980)\" d=\"M1893.03 1514.29 L1911.38 1514.29 L1911.38 1518.22 L1897.31 1518.22 L1897.31 1526.7 Q1898.33 1526.35 1899.35 1526.19 Q1900.36 1526 1901.38 1526 Q1907.17 1526 1910.55 1529.17 Q1913.93 1532.34 1913.93 1537.76 Q1913.93 1543.34 1910.46 1546.44 Q1906.98 1549.52 1900.66 1549.52 Q1898.49 1549.52 1896.22 1549.15 Q1893.97 1548.78 1891.57 1548.04 L1891.57 1543.34 Q1893.65 1544.47 1895.87 1545.03 Q1898.1 1545.58 1900.57 1545.58 Q1904.58 1545.58 1906.91 1543.48 Q1909.25 1541.37 1909.25 1537.76 Q1909.25 1534.15 1906.91 1532.04 Q1904.58 1529.94 1900.57 1529.94 Q1898.7 1529.94 1896.82 1530.35 Q1894.97 1530.77 1893.03 1531.65 L1893.03 1514.29 Z\" fill=\"#000000\" fill-rule=\"evenodd\" fill-opacity=\"1\" /><path clip-path=\"url(#clip980)\" d=\"M2303.76 1544.91 L2311.4 1544.91 L2311.4 1518.55 L2303.09 1520.21 L2303.09 1515.95 L2311.36 1514.29 L2316.03 1514.29 L2316.03 1544.91 L2323.67 1544.91 L2323.67 1548.85 L2303.76 1548.85 L2303.76 1544.91 Z\" fill=\"#000000\" fill-rule=\"evenodd\" fill-opacity=\"1\" /><path clip-path=\"url(#clip980)\" d=\"M2343.12 1517.37 Q2339.5 1517.37 2337.68 1520.93 Q2335.87 1524.47 2335.87 1531.6 Q2335.87 1538.71 2337.68 1542.27 Q2339.5 1545.82 2343.12 1545.82 Q2346.75 1545.82 2348.56 1542.27 Q2350.38 1538.71 2350.38 1531.6 Q2350.38 1524.47 2348.56 1520.93 Q2346.75 1517.37 2343.12 1517.37 M2343.12 1513.66 Q2348.93 1513.66 2351.98 1518.27 Q2355.06 1522.85 2355.06 1531.6 Q2355.06 1540.33 2351.98 1544.94 Q2348.93 1549.52 2343.12 1549.52 Q2337.31 1549.52 2334.23 1544.94 Q2331.17 1540.33 2331.17 1531.6 Q2331.17 1522.85 2334.23 1518.27 Q2337.31 1513.66 2343.12 1513.66 Z\" fill=\"#000000\" fill-rule=\"evenodd\" fill-opacity=\"1\" /><path clip-path=\"url(#clip980)\" d=\"M2363.28 1542.97 L2368.16 1542.97 L2368.16 1548.85 L2363.28 1548.85 L2363.28 1542.97 Z\" fill=\"#000000\" fill-rule=\"evenodd\" fill-opacity=\"1\" /><path clip-path=\"url(#clip980)\" d=\"M2388.35 1517.37 Q2384.74 1517.37 2382.91 1520.93 Q2381.1 1524.47 2381.1 1531.6 Q2381.1 1538.71 2382.91 1542.27 Q2384.74 1545.82 2388.35 1545.82 Q2391.98 1545.82 2393.79 1542.27 Q2395.62 1538.71 2395.62 1531.6 Q2395.62 1524.47 2393.79 1520.93 Q2391.98 1517.37 2388.35 1517.37 M2388.35 1513.66 Q2394.16 1513.66 2397.21 1518.27 Q2400.29 1522.85 2400.29 1531.6 Q2400.29 1540.33 2397.21 1544.94 Q2394.16 1549.52 2388.35 1549.52 Q2382.54 1549.52 2379.46 1544.94 Q2376.4 1540.33 2376.4 1531.6 Q2376.4 1522.85 2379.46 1518.27 Q2382.54 1513.66 2388.35 1513.66 Z\" fill=\"#000000\" fill-rule=\"evenodd\" fill-opacity=\"1\" /><polyline clip-path=\"url(#clip982)\" style=\"stroke:#000000; stroke-linecap:round; stroke-linejoin:round; stroke-width:2; stroke-opacity:0.1; fill:none\" points=\"\n  276.274,1445.72 2352.76,1445.72 \n  \"/>\n<polyline clip-path=\"url(#clip982)\" style=\"stroke:#000000; stroke-linecap:round; stroke-linejoin:round; stroke-width:2; stroke-opacity:0.1; fill:none\" points=\"\n  276.274,1054.05 2352.76,1054.05 \n  \"/>\n<polyline clip-path=\"url(#clip982)\" style=\"stroke:#000000; stroke-linecap:round; stroke-linejoin:round; stroke-width:2; stroke-opacity:0.1; fill:none\" points=\"\n  276.274,662.389 2352.76,662.389 \n  \"/>\n<polyline clip-path=\"url(#clip982)\" style=\"stroke:#000000; stroke-linecap:round; stroke-linejoin:round; stroke-width:2; stroke-opacity:0.1; fill:none\" points=\"\n  276.274,270.726 2352.76,270.726 \n  \"/>\n<polyline clip-path=\"url(#clip980)\" style=\"stroke:#000000; stroke-linecap:round; stroke-linejoin:round; stroke-width:4; stroke-opacity:1; fill:none\" points=\"\n  276.274,1486.45 276.274,47.2441 \n  \"/>\n<polyline clip-path=\"url(#clip980)\" style=\"stroke:#000000; stroke-linecap:round; stroke-linejoin:round; stroke-width:4; stroke-opacity:1; fill:none\" points=\"\n  276.274,1445.72 295.171,1445.72 \n  \"/>\n<polyline clip-path=\"url(#clip980)\" style=\"stroke:#000000; stroke-linecap:round; stroke-linejoin:round; stroke-width:4; stroke-opacity:1; fill:none\" points=\"\n  276.274,1054.05 295.171,1054.05 \n  \"/>\n<polyline clip-path=\"url(#clip980)\" style=\"stroke:#000000; stroke-linecap:round; stroke-linejoin:round; stroke-width:4; stroke-opacity:1; fill:none\" points=\"\n  276.274,662.389 295.171,662.389 \n  \"/>\n<polyline clip-path=\"url(#clip980)\" style=\"stroke:#000000; stroke-linecap:round; stroke-linejoin:round; stroke-width:4; stroke-opacity:1; fill:none\" points=\"\n  276.274,270.726 295.171,270.726 \n  \"/>\n<path clip-path=\"url(#clip980)\" d=\"M228.329 1431.51 Q224.718 1431.51 222.889 1435.08 Q221.084 1438.62 221.084 1445.75 Q221.084 1452.86 222.889 1456.42 Q224.718 1459.96 228.329 1459.96 Q231.963 1459.96 233.769 1456.42 Q235.598 1452.86 235.598 1445.75 Q235.598 1438.62 233.769 1435.08 Q231.963 1431.51 228.329 1431.51 M228.329 1427.81 Q234.139 1427.81 237.195 1432.42 Q240.274 1437 240.274 1445.75 Q240.274 1454.48 237.195 1459.08 Q234.139 1463.67 228.329 1463.67 Q222.519 1463.67 219.44 1459.08 Q216.385 1454.48 216.385 1445.75 Q216.385 1437 219.44 1432.42 Q222.519 1427.81 228.329 1427.81 Z\" fill=\"#000000\" fill-rule=\"evenodd\" fill-opacity=\"1\" /><path clip-path=\"url(#clip980)\" d=\"M53.3995 1073.84 L61.0384 1073.84 L61.0384 1047.48 L52.7282 1049.15 L52.7282 1044.89 L60.9921 1043.22 L65.668 1043.22 L65.668 1073.84 L73.3068 1073.84 L73.3068 1077.78 L53.3995 1077.78 L53.3995 1073.84 Z\" fill=\"#000000\" fill-rule=\"evenodd\" fill-opacity=\"1\" /><path clip-path=\"url(#clip980)\" d=\"M82.7512 1071.9 L87.6354 1071.9 L87.6354 1077.78 L82.7512 1077.78 L82.7512 1071.9 Z\" fill=\"#000000\" fill-rule=\"evenodd\" fill-opacity=\"1\" /><path clip-path=\"url(#clip980)\" d=\"M107.821 1046.3 Q104.209 1046.3 102.381 1049.86 Q100.575 1053.41 100.575 1060.53 Q100.575 1067.64 102.381 1071.21 Q104.209 1074.75 107.821 1074.75 Q111.455 1074.75 113.26 1071.21 Q115.089 1067.64 115.089 1060.53 Q115.089 1053.41 113.26 1049.86 Q111.455 1046.3 107.821 1046.3 M107.821 1042.6 Q113.631 1042.6 116.686 1047.2 Q119.765 1051.78 119.765 1060.53 Q119.765 1069.26 116.686 1073.87 Q113.631 1078.45 107.821 1078.45 Q102.01 1078.45 98.9317 1073.87 Q95.8761 1069.26 95.8761 1060.53 Q95.8761 1051.78 98.9317 1047.2 Q102.01 1042.6 107.821 1042.6 Z\" fill=\"#000000\" fill-rule=\"evenodd\" fill-opacity=\"1\" /><path clip-path=\"url(#clip980)\" d=\"M156.154 1052.32 L145.575 1062.94 L156.154 1073.52 L153.399 1076.32 L142.774 1065.7 L132.149 1076.32 L129.418 1073.52 L139.973 1062.94 L129.418 1052.32 L132.149 1049.52 L142.774 1060.14 L153.399 1049.52 L156.154 1052.32 Z\" fill=\"#000000\" fill-rule=\"evenodd\" fill-opacity=\"1\" /><path clip-path=\"url(#clip980)\" d=\"M168.515 1073.84 L176.153 1073.84 L176.153 1047.48 L167.843 1049.15 L167.843 1044.89 L176.107 1043.22 L180.783 1043.22 L180.783 1073.84 L188.422 1073.84 L188.422 1077.78 L168.515 1077.78 L168.515 1073.84 Z\" fill=\"#000000\" fill-rule=\"evenodd\" fill-opacity=\"1\" /><path clip-path=\"url(#clip980)\" d=\"M207.866 1046.3 Q204.255 1046.3 202.426 1049.86 Q200.621 1053.41 200.621 1060.53 Q200.621 1067.64 202.426 1071.21 Q204.255 1074.75 207.866 1074.75 Q211.501 1074.75 213.306 1071.21 Q215.135 1067.64 215.135 1060.53 Q215.135 1053.41 213.306 1049.86 Q211.501 1046.3 207.866 1046.3 M207.866 1042.6 Q213.676 1042.6 216.732 1047.2 Q219.811 1051.78 219.811 1060.53 Q219.811 1069.26 216.732 1073.87 Q213.676 1078.45 207.866 1078.45 Q202.056 1078.45 198.977 1073.87 Q195.922 1069.26 195.922 1060.53 Q195.922 1051.78 198.977 1047.2 Q202.056 1042.6 207.866 1042.6 Z\" fill=\"#000000\" fill-rule=\"evenodd\" fill-opacity=\"1\" /><path clip-path=\"url(#clip980)\" d=\"M232.487 1025.6 L222.895 1040.59 L232.487 1040.59 L232.487 1025.6 M231.49 1022.29 L236.267 1022.29 L236.267 1040.59 L240.274 1040.59 L240.274 1043.75 L236.267 1043.75 L236.267 1050.37 L232.487 1050.37 L232.487 1043.75 L219.811 1043.75 L219.811 1040.08 L231.49 1022.29 Z\" fill=\"#000000\" fill-rule=\"evenodd\" fill-opacity=\"1\" /><path clip-path=\"url(#clip980)\" d=\"M56.6171 682.182 L72.9365 682.182 L72.9365 686.117 L50.9921 686.117 L50.9921 682.182 Q53.6541 679.427 58.2375 674.797 Q62.8439 670.145 64.0245 668.802 Q66.2698 666.279 67.1494 664.543 Q68.0522 662.784 68.0522 661.094 Q68.0522 658.339 66.1078 656.603 Q64.1865 654.867 61.0847 654.867 Q58.8856 654.867 56.4319 655.631 Q54.0014 656.395 51.2236 657.946 L51.2236 653.224 Q54.0477 652.089 56.5014 651.511 Q58.955 650.932 60.9921 650.932 Q66.3624 650.932 69.5568 653.617 Q72.7513 656.302 72.7513 660.793 Q72.7513 662.923 71.9411 664.844 Q71.1541 666.742 69.0476 669.335 Q68.4689 670.006 65.367 673.223 Q62.2652 676.418 56.6171 682.182 Z\" fill=\"#000000\" fill-rule=\"evenodd\" fill-opacity=\"1\" /><path clip-path=\"url(#clip980)\" d=\"M82.7512 680.237 L87.6354 680.237 L87.6354 686.117 L82.7512 686.117 L82.7512 680.237 Z\" fill=\"#000000\" fill-rule=\"evenodd\" fill-opacity=\"1\" /><path clip-path=\"url(#clip980)\" d=\"M107.821 654.636 Q104.209 654.636 102.381 658.2 Q100.575 661.742 100.575 668.872 Q100.575 675.978 102.381 679.543 Q104.209 683.084 107.821 683.084 Q111.455 683.084 113.26 679.543 Q115.089 675.978 115.089 668.872 Q115.089 661.742 113.26 658.2 Q111.455 654.636 107.821 654.636 M107.821 650.932 Q113.631 650.932 116.686 655.538 Q119.765 660.122 119.765 668.872 Q119.765 677.598 116.686 682.205 Q113.631 686.788 107.821 686.788 Q102.01 686.788 98.9317 682.205 Q95.8761 677.598 95.8761 668.872 Q95.8761 660.122 98.9317 655.538 Q102.01 650.932 107.821 650.932 Z\" fill=\"#000000\" fill-rule=\"evenodd\" fill-opacity=\"1\" /><path clip-path=\"url(#clip980)\" d=\"M156.154 660.654 L145.575 671.279 L156.154 681.858 L153.399 684.659 L142.774 674.034 L132.149 684.659 L129.418 681.858 L139.973 671.279 L129.418 660.654 L132.149 657.853 L142.774 668.478 L153.399 657.853 L156.154 660.654 Z\" fill=\"#000000\" fill-rule=\"evenodd\" fill-opacity=\"1\" /><path clip-path=\"url(#clip980)\" d=\"M168.515 682.182 L176.153 682.182 L176.153 655.816 L167.843 657.483 L167.843 653.224 L176.107 651.557 L180.783 651.557 L180.783 682.182 L188.422 682.182 L188.422 686.117 L168.515 686.117 L168.515 682.182 Z\" fill=\"#000000\" fill-rule=\"evenodd\" fill-opacity=\"1\" /><path clip-path=\"url(#clip980)\" d=\"M207.866 654.636 Q204.255 654.636 202.426 658.2 Q200.621 661.742 200.621 668.872 Q200.621 675.978 202.426 679.543 Q204.255 683.084 207.866 683.084 Q211.501 683.084 213.306 679.543 Q215.135 675.978 215.135 668.872 Q215.135 661.742 213.306 658.2 Q211.501 654.636 207.866 654.636 M207.866 650.932 Q213.676 650.932 216.732 655.538 Q219.811 660.122 219.811 668.872 Q219.811 677.598 216.732 682.205 Q213.676 686.788 207.866 686.788 Q202.056 686.788 198.977 682.205 Q195.922 677.598 195.922 668.872 Q195.922 660.122 198.977 655.538 Q202.056 650.932 207.866 650.932 Z\" fill=\"#000000\" fill-rule=\"evenodd\" fill-opacity=\"1\" /><path clip-path=\"url(#clip980)\" d=\"M232.487 633.937 L222.895 648.926 L232.487 648.926 L232.487 633.937 M231.49 630.626 L236.267 630.626 L236.267 648.926 L240.274 648.926 L240.274 652.086 L236.267 652.086 L236.267 658.706 L232.487 658.706 L232.487 652.086 L219.811 652.086 L219.811 648.419 L231.49 630.626 Z\" fill=\"#000000\" fill-rule=\"evenodd\" fill-opacity=\"1\" /><path clip-path=\"url(#clip980)\" d=\"M66.7559 275.82 Q70.1124 276.537 71.9874 278.806 Q73.8855 281.074 73.8855 284.407 Q73.8855 289.523 70.367 292.324 Q66.8485 295.125 60.3671 295.125 Q58.1912 295.125 55.8764 294.685 Q53.5847 294.268 51.131 293.412 L51.131 288.898 Q53.0754 290.032 55.3903 290.611 Q57.7051 291.19 60.2282 291.19 Q64.6263 291.19 66.918 289.454 Q69.2328 287.718 69.2328 284.407 Q69.2328 281.352 67.08 279.639 Q64.9504 277.903 61.131 277.903 L57.1032 277.903 L57.1032 274.06 L61.3161 274.06 Q64.7652 274.06 66.5939 272.695 Q68.4226 271.306 68.4226 268.713 Q68.4226 266.051 66.5245 264.639 Q64.6495 263.204 61.131 263.204 Q59.2097 263.204 57.0106 263.62 Q54.8115 264.037 52.1727 264.917 L52.1727 260.75 Q54.8347 260.009 57.1495 259.639 Q59.4875 259.269 61.5476 259.269 Q66.8717 259.269 69.9735 261.699 Q73.0753 264.107 73.0753 268.227 Q73.0753 271.097 71.4318 273.088 Q69.7883 275.056 66.7559 275.82 Z\" fill=\"#000000\" fill-rule=\"evenodd\" fill-opacity=\"1\" /><path clip-path=\"url(#clip980)\" d=\"M82.7512 288.574 L87.6354 288.574 L87.6354 294.454 L82.7512 294.454 L82.7512 288.574 Z\" fill=\"#000000\" fill-rule=\"evenodd\" fill-opacity=\"1\" /><path clip-path=\"url(#clip980)\" d=\"M107.821 262.972 Q104.209 262.972 102.381 266.537 Q100.575 270.079 100.575 277.208 Q100.575 284.315 102.381 287.88 Q104.209 291.421 107.821 291.421 Q111.455 291.421 113.26 287.88 Q115.089 284.315 115.089 277.208 Q115.089 270.079 113.26 266.537 Q111.455 262.972 107.821 262.972 M107.821 259.269 Q113.631 259.269 116.686 263.875 Q119.765 268.458 119.765 277.208 Q119.765 285.935 116.686 290.542 Q113.631 295.125 107.821 295.125 Q102.01 295.125 98.9317 290.542 Q95.8761 285.935 95.8761 277.208 Q95.8761 268.458 98.9317 263.875 Q102.01 259.269 107.821 259.269 Z\" fill=\"#000000\" fill-rule=\"evenodd\" fill-opacity=\"1\" /><path clip-path=\"url(#clip980)\" d=\"M156.154 268.991 L145.575 279.616 L156.154 290.194 L153.399 292.995 L142.774 282.37 L132.149 292.995 L129.418 290.194 L139.973 279.616 L129.418 268.991 L132.149 266.19 L142.774 276.815 L153.399 266.19 L156.154 268.991 Z\" fill=\"#000000\" fill-rule=\"evenodd\" fill-opacity=\"1\" /><path clip-path=\"url(#clip980)\" d=\"M168.515 290.518 L176.153 290.518 L176.153 264.153 L167.843 265.82 L167.843 261.56 L176.107 259.894 L180.783 259.894 L180.783 290.518 L188.422 290.518 L188.422 294.454 L168.515 294.454 L168.515 290.518 Z\" fill=\"#000000\" fill-rule=\"evenodd\" fill-opacity=\"1\" /><path clip-path=\"url(#clip980)\" d=\"M207.866 262.972 Q204.255 262.972 202.426 266.537 Q200.621 270.079 200.621 277.208 Q200.621 284.315 202.426 287.88 Q204.255 291.421 207.866 291.421 Q211.501 291.421 213.306 287.88 Q215.135 284.315 215.135 277.208 Q215.135 270.079 213.306 266.537 Q211.501 262.972 207.866 262.972 M207.866 259.269 Q213.676 259.269 216.732 263.875 Q219.811 268.458 219.811 277.208 Q219.811 285.935 216.732 290.542 Q213.676 295.125 207.866 295.125 Q202.056 295.125 198.977 290.542 Q195.922 285.935 195.922 277.208 Q195.922 268.458 198.977 263.875 Q202.056 259.269 207.866 259.269 Z\" fill=\"#000000\" fill-rule=\"evenodd\" fill-opacity=\"1\" /><path clip-path=\"url(#clip980)\" d=\"M232.487 242.273 L222.895 257.263 L232.487 257.263 L232.487 242.273 M231.49 238.963 L236.267 238.963 L236.267 257.263 L240.274 257.263 L240.274 260.423 L236.267 260.423 L236.267 267.043 L232.487 267.043 L232.487 260.423 L219.811 260.423 L219.811 256.755 L231.49 238.963 Z\" fill=\"#000000\" fill-rule=\"evenodd\" fill-opacity=\"1\" /><path clip-path=\"url(#clip982)\" d=\"\nM390.484 87.9763 L390.484 1445.72 L541.346 1445.72 L541.346 87.9763 L390.484 87.9763 L390.484 87.9763  Z\n  \" fill=\"#009af9\" fill-rule=\"evenodd\" fill-opacity=\"1\"/>\n<polyline clip-path=\"url(#clip982)\" style=\"stroke:#000000; stroke-linecap:round; stroke-linejoin:round; stroke-width:4; stroke-opacity:1; fill:none\" points=\"\n  390.484,87.9763 390.484,1445.72 541.346,1445.72 541.346,87.9763 390.484,87.9763 \n  \"/>\n<path clip-path=\"url(#clip982)\" d=\"\nM579.061 850.636 L579.061 1445.72 L729.924 1445.72 L729.924 850.636 L579.061 850.636 L579.061 850.636  Z\n  \" fill=\"#009af9\" fill-rule=\"evenodd\" fill-opacity=\"1\"/>\n<polyline clip-path=\"url(#clip982)\" style=\"stroke:#000000; stroke-linecap:round; stroke-linejoin:round; stroke-width:4; stroke-opacity:1; fill:none\" points=\"\n  579.061,850.636 579.061,1445.72 729.924,1445.72 729.924,850.636 579.061,850.636 \n  \"/>\n<path clip-path=\"url(#clip982)\" d=\"\nM767.639 279.221 L767.639 1445.72 L918.501 1445.72 L918.501 279.221 L767.639 279.221 L767.639 279.221  Z\n  \" fill=\"#009af9\" fill-rule=\"evenodd\" fill-opacity=\"1\"/>\n<polyline clip-path=\"url(#clip982)\" style=\"stroke:#000000; stroke-linecap:round; stroke-linejoin:round; stroke-width:4; stroke-opacity:1; fill:none\" points=\"\n  767.639,279.221 767.639,1445.72 918.501,1445.72 918.501,279.221 767.639,279.221 \n  \"/>\n<path clip-path=\"url(#clip982)\" d=\"\nM956.217 337.516 L956.217 1445.72 L1107.08 1445.72 L1107.08 337.516 L956.217 337.516 L956.217 337.516  Z\n  \" fill=\"#009af9\" fill-rule=\"evenodd\" fill-opacity=\"1\"/>\n<polyline clip-path=\"url(#clip982)\" style=\"stroke:#000000; stroke-linecap:round; stroke-linejoin:round; stroke-width:4; stroke-opacity:1; fill:none\" points=\"\n  956.217,337.516 956.217,1445.72 1107.08,1445.72 1107.08,337.516 956.217,337.516 \n  \"/>\n<path clip-path=\"url(#clip982)\" d=\"\nM1144.79 495.407 L1144.79 1445.72 L1295.66 1445.72 L1295.66 495.407 L1144.79 495.407 L1144.79 495.407  Z\n  \" fill=\"#009af9\" fill-rule=\"evenodd\" fill-opacity=\"1\"/>\n<polyline clip-path=\"url(#clip982)\" style=\"stroke:#000000; stroke-linecap:round; stroke-linejoin:round; stroke-width:4; stroke-opacity:1; fill:none\" points=\"\n  1144.79,495.407 1144.79,1445.72 1295.66,1445.72 1295.66,495.407 1144.79,495.407 \n  \"/>\n<path clip-path=\"url(#clip982)\" d=\"\nM1333.37 437.591 L1333.37 1445.72 L1484.23 1445.72 L1484.23 437.591 L1333.37 437.591 L1333.37 437.591  Z\n  \" fill=\"#009af9\" fill-rule=\"evenodd\" fill-opacity=\"1\"/>\n<polyline clip-path=\"url(#clip982)\" style=\"stroke:#000000; stroke-linecap:round; stroke-linejoin:round; stroke-width:4; stroke-opacity:1; fill:none\" points=\"\n  1333.37,437.591 1333.37,1445.72 1484.23,1445.72 1484.23,437.591 1333.37,437.591 \n  \"/>\n<path clip-path=\"url(#clip982)\" d=\"\nM1521.95 370.625 L1521.95 1445.72 L1672.81 1445.72 L1672.81 370.625 L1521.95 370.625 L1521.95 370.625  Z\n  \" fill=\"#009af9\" fill-rule=\"evenodd\" fill-opacity=\"1\"/>\n<polyline clip-path=\"url(#clip982)\" style=\"stroke:#000000; stroke-linecap:round; stroke-linejoin:round; stroke-width:4; stroke-opacity:1; fill:none\" points=\"\n  1521.95,370.625 1521.95,1445.72 1672.81,1445.72 1672.81,370.625 1521.95,370.625 \n  \"/>\n<path clip-path=\"url(#clip982)\" d=\"\nM1710.53 548.949 L1710.53 1445.72 L1861.39 1445.72 L1861.39 548.949 L1710.53 548.949 L1710.53 548.949  Z\n  \" fill=\"#009af9\" fill-rule=\"evenodd\" fill-opacity=\"1\"/>\n<polyline clip-path=\"url(#clip982)\" style=\"stroke:#000000; stroke-linecap:round; stroke-linejoin:round; stroke-width:4; stroke-opacity:1; fill:none\" points=\"\n  1710.53,548.949 1710.53,1445.72 1861.39,1445.72 1861.39,548.949 1710.53,548.949 \n  \"/>\n<path clip-path=\"url(#clip982)\" d=\"\nM1899.11 269.975 L1899.11 1445.72 L2049.97 1445.72 L2049.97 269.975 L1899.11 269.975 L1899.11 269.975  Z\n  \" fill=\"#009af9\" fill-rule=\"evenodd\" fill-opacity=\"1\"/>\n<polyline clip-path=\"url(#clip982)\" style=\"stroke:#000000; stroke-linecap:round; stroke-linejoin:round; stroke-width:4; stroke-opacity:1; fill:none\" points=\"\n  1899.11,269.975 1899.11,1445.72 2049.97,1445.72 2049.97,269.975 1899.11,269.975 \n  \"/>\n<path clip-path=\"url(#clip982)\" d=\"\nM2087.68 485.82 L2087.68 1445.72 L2238.55 1445.72 L2238.55 485.82 L2087.68 485.82 L2087.68 485.82  Z\n  \" fill=\"#009af9\" fill-rule=\"evenodd\" fill-opacity=\"1\"/>\n<polyline clip-path=\"url(#clip982)\" style=\"stroke:#000000; stroke-linecap:round; stroke-linejoin:round; stroke-width:4; stroke-opacity:1; fill:none\" points=\"\n  2087.68,485.82 2087.68,1445.72 2238.55,1445.72 2238.55,485.82 2087.68,485.82 \n  \"/>\n<circle clip-path=\"url(#clip982)\" style=\"fill:#009af9; stroke:none; fill-opacity:0\" cx=\"465.915\" cy=\"87.9763\" r=\"2\"/>\n<circle clip-path=\"url(#clip982)\" style=\"fill:#009af9; stroke:none; fill-opacity:0\" cx=\"654.493\" cy=\"850.636\" r=\"2\"/>\n<circle clip-path=\"url(#clip982)\" style=\"fill:#009af9; stroke:none; fill-opacity:0\" cx=\"843.07\" cy=\"279.221\" r=\"2\"/>\n<circle clip-path=\"url(#clip982)\" style=\"fill:#009af9; stroke:none; fill-opacity:0\" cx=\"1031.65\" cy=\"337.516\" r=\"2\"/>\n<circle clip-path=\"url(#clip982)\" style=\"fill:#009af9; stroke:none; fill-opacity:0\" cx=\"1220.23\" cy=\"495.407\" r=\"2\"/>\n<circle clip-path=\"url(#clip982)\" style=\"fill:#009af9; stroke:none; fill-opacity:0\" cx=\"1408.8\" cy=\"437.591\" r=\"2\"/>\n<circle clip-path=\"url(#clip982)\" style=\"fill:#009af9; stroke:none; fill-opacity:0\" cx=\"1597.38\" cy=\"370.625\" r=\"2\"/>\n<circle clip-path=\"url(#clip982)\" style=\"fill:#009af9; stroke:none; fill-opacity:0\" cx=\"1785.96\" cy=\"548.949\" r=\"2\"/>\n<circle clip-path=\"url(#clip982)\" style=\"fill:#009af9; stroke:none; fill-opacity:0\" cx=\"1974.54\" cy=\"269.975\" r=\"2\"/>\n<circle clip-path=\"url(#clip982)\" style=\"fill:#009af9; stroke:none; fill-opacity:0\" cx=\"2163.11\" cy=\"485.82\" r=\"2\"/>\n</svg>\n",
      "text/html": [
       "<?xml version=\"1.0\" encoding=\"utf-8\"?>\n",
       "<svg xmlns=\"http://www.w3.org/2000/svg\" xmlns:xlink=\"http://www.w3.org/1999/xlink\" width=\"600\" height=\"400\" viewBox=\"0 0 2400 1600\">\n",
       "<defs>\n",
       "  <clipPath id=\"clip030\">\n",
       "    <rect x=\"0\" y=\"0\" width=\"2400\" height=\"1600\"/>\n",
       "  </clipPath>\n",
       "</defs>\n",
       "<path clip-path=\"url(#clip030)\" d=\"\n",
       "M0 1600 L2400 1600 L2400 0 L0 0  Z\n",
       "  \" fill=\"#ffffff\" fill-rule=\"evenodd\" fill-opacity=\"1\"/>\n",
       "<defs>\n",
       "  <clipPath id=\"clip031\">\n",
       "    <rect x=\"480\" y=\"0\" width=\"1681\" height=\"1600\"/>\n",
       "  </clipPath>\n",
       "</defs>\n",
       "<path clip-path=\"url(#clip030)\" d=\"\n",
       "M276.274 1486.45 L2352.76 1486.45 L2352.76 47.2441 L276.274 47.2441  Z\n",
       "  \" fill=\"#ffffff\" fill-rule=\"evenodd\" fill-opacity=\"1\"/>\n",
       "<defs>\n",
       "  <clipPath id=\"clip032\">\n",
       "    <rect x=\"276\" y=\"47\" width=\"2077\" height=\"1440\"/>\n",
       "  </clipPath>\n",
       "</defs>\n",
       "<polyline clip-path=\"url(#clip032)\" style=\"stroke:#000000; stroke-linecap:round; stroke-linejoin:round; stroke-width:2; stroke-opacity:0.1; fill:none\" points=\"\n",
       "  465.915,1486.45 465.915,47.2441 \n",
       "  \"/>\n",
       "<polyline clip-path=\"url(#clip032)\" style=\"stroke:#000000; stroke-linecap:round; stroke-linejoin:round; stroke-width:2; stroke-opacity:0.1; fill:none\" points=\"\n",
       "  937.359,1486.45 937.359,47.2441 \n",
       "  \"/>\n",
       "<polyline clip-path=\"url(#clip032)\" style=\"stroke:#000000; stroke-linecap:round; stroke-linejoin:round; stroke-width:2; stroke-opacity:0.1; fill:none\" points=\"\n",
       "  1408.8,1486.45 1408.8,47.2441 \n",
       "  \"/>\n",
       "<polyline clip-path=\"url(#clip032)\" style=\"stroke:#000000; stroke-linecap:round; stroke-linejoin:round; stroke-width:2; stroke-opacity:0.1; fill:none\" points=\"\n",
       "  1880.25,1486.45 1880.25,47.2441 \n",
       "  \"/>\n",
       "<polyline clip-path=\"url(#clip032)\" style=\"stroke:#000000; stroke-linecap:round; stroke-linejoin:round; stroke-width:2; stroke-opacity:0.1; fill:none\" points=\"\n",
       "  2351.69,1486.45 2351.69,47.2441 \n",
       "  \"/>\n",
       "<polyline clip-path=\"url(#clip030)\" style=\"stroke:#000000; stroke-linecap:round; stroke-linejoin:round; stroke-width:4; stroke-opacity:1; fill:none\" points=\"\n",
       "  276.274,1486.45 2352.76,1486.45 \n",
       "  \"/>\n",
       "<polyline clip-path=\"url(#clip030)\" style=\"stroke:#000000; stroke-linecap:round; stroke-linejoin:round; stroke-width:4; stroke-opacity:1; fill:none\" points=\"\n",
       "  465.915,1486.45 465.915,1467.55 \n",
       "  \"/>\n",
       "<polyline clip-path=\"url(#clip030)\" style=\"stroke:#000000; stroke-linecap:round; stroke-linejoin:round; stroke-width:4; stroke-opacity:1; fill:none\" points=\"\n",
       "  937.359,1486.45 937.359,1467.55 \n",
       "  \"/>\n",
       "<polyline clip-path=\"url(#clip030)\" style=\"stroke:#000000; stroke-linecap:round; stroke-linejoin:round; stroke-width:4; stroke-opacity:1; fill:none\" points=\"\n",
       "  1408.8,1486.45 1408.8,1467.55 \n",
       "  \"/>\n",
       "<polyline clip-path=\"url(#clip030)\" style=\"stroke:#000000; stroke-linecap:round; stroke-linejoin:round; stroke-width:4; stroke-opacity:1; fill:none\" points=\"\n",
       "  1880.25,1486.45 1880.25,1467.55 \n",
       "  \"/>\n",
       "<polyline clip-path=\"url(#clip030)\" style=\"stroke:#000000; stroke-linecap:round; stroke-linejoin:round; stroke-width:4; stroke-opacity:1; fill:none\" points=\"\n",
       "  2351.69,1486.45 2351.69,1467.55 \n",
       "  \"/>\n",
       "<path clip-path=\"url(#clip030)\" d=\"M443.299 1517.37 Q439.688 1517.37 437.859 1520.93 Q436.054 1524.47 436.054 1531.6 Q436.054 1538.71 437.859 1542.27 Q439.688 1545.82 443.299 1545.82 Q446.933 1545.82 448.739 1542.27 Q450.568 1538.71 450.568 1531.6 Q450.568 1524.47 448.739 1520.93 Q446.933 1517.37 443.299 1517.37 M443.299 1513.66 Q449.109 1513.66 452.165 1518.27 Q455.244 1522.85 455.244 1531.6 Q455.244 1540.33 452.165 1544.94 Q449.109 1549.52 443.299 1549.52 Q437.489 1549.52 434.41 1544.94 Q431.355 1540.33 431.355 1531.6 Q431.355 1522.85 434.41 1518.27 Q437.489 1513.66 443.299 1513.66 Z\" fill=\"#000000\" fill-rule=\"evenodd\" fill-opacity=\"1\" /><path clip-path=\"url(#clip030)\" d=\"M463.461 1542.97 L468.345 1542.97 L468.345 1548.85 L463.461 1548.85 L463.461 1542.97 Z\" fill=\"#000000\" fill-rule=\"evenodd\" fill-opacity=\"1\" /><path clip-path=\"url(#clip030)\" d=\"M488.53 1517.37 Q484.919 1517.37 483.091 1520.93 Q481.285 1524.47 481.285 1531.6 Q481.285 1538.71 483.091 1542.27 Q484.919 1545.82 488.53 1545.82 Q492.165 1545.82 493.97 1542.27 Q495.799 1538.71 495.799 1531.6 Q495.799 1524.47 493.97 1520.93 Q492.165 1517.37 488.53 1517.37 M488.53 1513.66 Q494.341 1513.66 497.396 1518.27 Q500.475 1522.85 500.475 1531.6 Q500.475 1540.33 497.396 1544.94 Q494.341 1549.52 488.53 1549.52 Q482.72 1549.52 479.642 1544.94 Q476.586 1540.33 476.586 1531.6 Q476.586 1522.85 479.642 1518.27 Q482.72 1513.66 488.53 1513.66 Z\" fill=\"#000000\" fill-rule=\"evenodd\" fill-opacity=\"1\" /><path clip-path=\"url(#clip030)\" d=\"M909.095 1544.91 L925.415 1544.91 L925.415 1548.85 L903.471 1548.85 L903.471 1544.91 Q906.133 1542.16 910.716 1537.53 Q915.322 1532.88 916.503 1531.53 Q918.748 1529.01 919.628 1527.27 Q920.531 1525.51 920.531 1523.82 Q920.531 1521.07 918.586 1519.33 Q916.665 1517.6 913.563 1517.6 Q911.364 1517.6 908.91 1518.36 Q906.48 1519.13 903.702 1520.68 L903.702 1515.95 Q906.526 1514.82 908.98 1514.24 Q911.433 1513.66 913.47 1513.66 Q918.841 1513.66 922.035 1516.35 Q925.23 1519.03 925.23 1523.52 Q925.23 1525.65 924.419 1527.57 Q923.632 1529.47 921.526 1532.07 Q920.947 1532.74 917.845 1535.95 Q914.744 1539.15 909.095 1544.91 Z\" fill=\"#000000\" fill-rule=\"evenodd\" fill-opacity=\"1\" /><path clip-path=\"url(#clip030)\" d=\"M935.23 1542.97 L940.114 1542.97 L940.114 1548.85 L935.23 1548.85 L935.23 1542.97 Z\" fill=\"#000000\" fill-rule=\"evenodd\" fill-opacity=\"1\" /><path clip-path=\"url(#clip030)\" d=\"M950.345 1514.29 L968.702 1514.29 L968.702 1518.22 L954.628 1518.22 L954.628 1526.7 Q955.646 1526.35 956.665 1526.19 Q957.683 1526 958.702 1526 Q964.489 1526 967.868 1529.17 Q971.248 1532.34 971.248 1537.76 Q971.248 1543.34 967.776 1546.44 Q964.304 1549.52 957.984 1549.52 Q955.808 1549.52 953.54 1549.15 Q951.294 1548.78 948.887 1548.04 L948.887 1543.34 Q950.97 1544.47 953.192 1545.03 Q955.415 1545.58 957.892 1545.58 Q961.896 1545.58 964.234 1543.48 Q966.572 1541.37 966.572 1537.76 Q966.572 1534.15 964.234 1532.04 Q961.896 1529.94 957.892 1529.94 Q956.017 1529.94 954.142 1530.35 Q952.29 1530.77 950.345 1531.65 L950.345 1514.29 Z\" fill=\"#000000\" fill-rule=\"evenodd\" fill-opacity=\"1\" /><path clip-path=\"url(#clip030)\" d=\"M1375.97 1514.29 L1394.32 1514.29 L1394.32 1518.22 L1380.25 1518.22 L1380.25 1526.7 Q1381.27 1526.35 1382.29 1526.19 Q1383.31 1526 1384.32 1526 Q1390.11 1526 1393.49 1529.17 Q1396.87 1532.34 1396.87 1537.76 Q1396.87 1543.34 1393.4 1546.44 Q1389.93 1549.52 1383.61 1549.52 Q1381.43 1549.52 1379.16 1549.15 Q1376.92 1548.78 1374.51 1548.04 L1374.51 1543.34 Q1376.59 1544.47 1378.82 1545.03 Q1381.04 1545.58 1383.51 1545.58 Q1387.52 1545.58 1389.86 1543.48 Q1392.19 1541.37 1392.19 1537.76 Q1392.19 1534.15 1389.86 1532.04 Q1387.52 1529.94 1383.51 1529.94 Q1381.64 1529.94 1379.76 1530.35 Q1377.91 1530.77 1375.97 1531.65 L1375.97 1514.29 Z\" fill=\"#000000\" fill-rule=\"evenodd\" fill-opacity=\"1\" /><path clip-path=\"url(#clip030)\" d=\"M1406.08 1542.97 L1410.97 1542.97 L1410.97 1548.85 L1406.08 1548.85 L1406.08 1542.97 Z\" fill=\"#000000\" fill-rule=\"evenodd\" fill-opacity=\"1\" /><path clip-path=\"url(#clip030)\" d=\"M1431.15 1517.37 Q1427.54 1517.37 1425.71 1520.93 Q1423.91 1524.47 1423.91 1531.6 Q1423.91 1538.71 1425.71 1542.27 Q1427.54 1545.82 1431.15 1545.82 Q1434.79 1545.82 1436.59 1542.27 Q1438.42 1538.71 1438.42 1531.6 Q1438.42 1524.47 1436.59 1520.93 Q1434.79 1517.37 1431.15 1517.37 M1431.15 1513.66 Q1436.96 1513.66 1440.02 1518.27 Q1443.1 1522.85 1443.1 1531.6 Q1443.1 1540.33 1440.02 1544.94 Q1436.96 1549.52 1431.15 1549.52 Q1425.34 1549.52 1422.26 1544.94 Q1419.21 1540.33 1419.21 1531.6 Q1419.21 1522.85 1422.26 1518.27 Q1425.34 1513.66 1431.15 1513.66 Z\" fill=\"#000000\" fill-rule=\"evenodd\" fill-opacity=\"1\" /><path clip-path=\"url(#clip030)\" d=\"M1846.57 1514.29 L1868.79 1514.29 L1868.79 1516.28 L1856.24 1548.85 L1851.36 1548.85 L1863.16 1518.22 L1846.57 1518.22 L1846.57 1514.29 Z\" fill=\"#000000\" fill-rule=\"evenodd\" fill-opacity=\"1\" /><path clip-path=\"url(#clip030)\" d=\"M1877.91 1542.97 L1882.79 1542.97 L1882.79 1548.85 L1877.91 1548.85 L1877.91 1542.97 Z\" fill=\"#000000\" fill-rule=\"evenodd\" fill-opacity=\"1\" /><path clip-path=\"url(#clip030)\" d=\"M1893.03 1514.29 L1911.38 1514.29 L1911.38 1518.22 L1897.31 1518.22 L1897.31 1526.7 Q1898.33 1526.35 1899.35 1526.19 Q1900.36 1526 1901.38 1526 Q1907.17 1526 1910.55 1529.17 Q1913.93 1532.34 1913.93 1537.76 Q1913.93 1543.34 1910.46 1546.44 Q1906.98 1549.52 1900.66 1549.52 Q1898.49 1549.52 1896.22 1549.15 Q1893.97 1548.78 1891.57 1548.04 L1891.57 1543.34 Q1893.65 1544.47 1895.87 1545.03 Q1898.1 1545.58 1900.57 1545.58 Q1904.58 1545.58 1906.91 1543.48 Q1909.25 1541.37 1909.25 1537.76 Q1909.25 1534.15 1906.91 1532.04 Q1904.58 1529.94 1900.57 1529.94 Q1898.7 1529.94 1896.82 1530.35 Q1894.97 1530.77 1893.03 1531.65 L1893.03 1514.29 Z\" fill=\"#000000\" fill-rule=\"evenodd\" fill-opacity=\"1\" /><path clip-path=\"url(#clip030)\" d=\"M2303.76 1544.91 L2311.4 1544.91 L2311.4 1518.55 L2303.09 1520.21 L2303.09 1515.95 L2311.36 1514.29 L2316.03 1514.29 L2316.03 1544.91 L2323.67 1544.91 L2323.67 1548.85 L2303.76 1548.85 L2303.76 1544.91 Z\" fill=\"#000000\" fill-rule=\"evenodd\" fill-opacity=\"1\" /><path clip-path=\"url(#clip030)\" d=\"M2343.12 1517.37 Q2339.5 1517.37 2337.68 1520.93 Q2335.87 1524.47 2335.87 1531.6 Q2335.87 1538.71 2337.68 1542.27 Q2339.5 1545.82 2343.12 1545.82 Q2346.75 1545.82 2348.56 1542.27 Q2350.38 1538.71 2350.38 1531.6 Q2350.38 1524.47 2348.56 1520.93 Q2346.75 1517.37 2343.12 1517.37 M2343.12 1513.66 Q2348.93 1513.66 2351.98 1518.27 Q2355.06 1522.85 2355.06 1531.6 Q2355.06 1540.33 2351.98 1544.94 Q2348.93 1549.52 2343.12 1549.52 Q2337.31 1549.52 2334.23 1544.94 Q2331.17 1540.33 2331.17 1531.6 Q2331.17 1522.85 2334.23 1518.27 Q2337.31 1513.66 2343.12 1513.66 Z\" fill=\"#000000\" fill-rule=\"evenodd\" fill-opacity=\"1\" /><path clip-path=\"url(#clip030)\" d=\"M2363.28 1542.97 L2368.16 1542.97 L2368.16 1548.85 L2363.28 1548.85 L2363.28 1542.97 Z\" fill=\"#000000\" fill-rule=\"evenodd\" fill-opacity=\"1\" /><path clip-path=\"url(#clip030)\" d=\"M2388.35 1517.37 Q2384.74 1517.37 2382.91 1520.93 Q2381.1 1524.47 2381.1 1531.6 Q2381.1 1538.71 2382.91 1542.27 Q2384.74 1545.82 2388.35 1545.82 Q2391.98 1545.82 2393.79 1542.27 Q2395.62 1538.71 2395.62 1531.6 Q2395.62 1524.47 2393.79 1520.93 Q2391.98 1517.37 2388.35 1517.37 M2388.35 1513.66 Q2394.16 1513.66 2397.21 1518.27 Q2400.29 1522.85 2400.29 1531.6 Q2400.29 1540.33 2397.21 1544.94 Q2394.16 1549.52 2388.35 1549.52 Q2382.54 1549.52 2379.46 1544.94 Q2376.4 1540.33 2376.4 1531.6 Q2376.4 1522.85 2379.46 1518.27 Q2382.54 1513.66 2388.35 1513.66 Z\" fill=\"#000000\" fill-rule=\"evenodd\" fill-opacity=\"1\" /><polyline clip-path=\"url(#clip032)\" style=\"stroke:#000000; stroke-linecap:round; stroke-linejoin:round; stroke-width:2; stroke-opacity:0.1; fill:none\" points=\"\n",
       "  276.274,1445.72 2352.76,1445.72 \n",
       "  \"/>\n",
       "<polyline clip-path=\"url(#clip032)\" style=\"stroke:#000000; stroke-linecap:round; stroke-linejoin:round; stroke-width:2; stroke-opacity:0.1; fill:none\" points=\"\n",
       "  276.274,1054.05 2352.76,1054.05 \n",
       "  \"/>\n",
       "<polyline clip-path=\"url(#clip032)\" style=\"stroke:#000000; stroke-linecap:round; stroke-linejoin:round; stroke-width:2; stroke-opacity:0.1; fill:none\" points=\"\n",
       "  276.274,662.389 2352.76,662.389 \n",
       "  \"/>\n",
       "<polyline clip-path=\"url(#clip032)\" style=\"stroke:#000000; stroke-linecap:round; stroke-linejoin:round; stroke-width:2; stroke-opacity:0.1; fill:none\" points=\"\n",
       "  276.274,270.726 2352.76,270.726 \n",
       "  \"/>\n",
       "<polyline clip-path=\"url(#clip030)\" style=\"stroke:#000000; stroke-linecap:round; stroke-linejoin:round; stroke-width:4; stroke-opacity:1; fill:none\" points=\"\n",
       "  276.274,1486.45 276.274,47.2441 \n",
       "  \"/>\n",
       "<polyline clip-path=\"url(#clip030)\" style=\"stroke:#000000; stroke-linecap:round; stroke-linejoin:round; stroke-width:4; stroke-opacity:1; fill:none\" points=\"\n",
       "  276.274,1445.72 295.171,1445.72 \n",
       "  \"/>\n",
       "<polyline clip-path=\"url(#clip030)\" style=\"stroke:#000000; stroke-linecap:round; stroke-linejoin:round; stroke-width:4; stroke-opacity:1; fill:none\" points=\"\n",
       "  276.274,1054.05 295.171,1054.05 \n",
       "  \"/>\n",
       "<polyline clip-path=\"url(#clip030)\" style=\"stroke:#000000; stroke-linecap:round; stroke-linejoin:round; stroke-width:4; stroke-opacity:1; fill:none\" points=\"\n",
       "  276.274,662.389 295.171,662.389 \n",
       "  \"/>\n",
       "<polyline clip-path=\"url(#clip030)\" style=\"stroke:#000000; stroke-linecap:round; stroke-linejoin:round; stroke-width:4; stroke-opacity:1; fill:none\" points=\"\n",
       "  276.274,270.726 295.171,270.726 \n",
       "  \"/>\n",
       "<path clip-path=\"url(#clip030)\" d=\"M228.329 1431.51 Q224.718 1431.51 222.889 1435.08 Q221.084 1438.62 221.084 1445.75 Q221.084 1452.86 222.889 1456.42 Q224.718 1459.96 228.329 1459.96 Q231.963 1459.96 233.769 1456.42 Q235.598 1452.86 235.598 1445.75 Q235.598 1438.62 233.769 1435.08 Q231.963 1431.51 228.329 1431.51 M228.329 1427.81 Q234.139 1427.81 237.195 1432.42 Q240.274 1437 240.274 1445.75 Q240.274 1454.48 237.195 1459.08 Q234.139 1463.67 228.329 1463.67 Q222.519 1463.67 219.44 1459.08 Q216.385 1454.48 216.385 1445.75 Q216.385 1437 219.44 1432.42 Q222.519 1427.81 228.329 1427.81 Z\" fill=\"#000000\" fill-rule=\"evenodd\" fill-opacity=\"1\" /><path clip-path=\"url(#clip030)\" d=\"M53.3995 1073.84 L61.0384 1073.84 L61.0384 1047.48 L52.7282 1049.15 L52.7282 1044.89 L60.9921 1043.22 L65.668 1043.22 L65.668 1073.84 L73.3068 1073.84 L73.3068 1077.78 L53.3995 1077.78 L53.3995 1073.84 Z\" fill=\"#000000\" fill-rule=\"evenodd\" fill-opacity=\"1\" /><path clip-path=\"url(#clip030)\" d=\"M82.7512 1071.9 L87.6354 1071.9 L87.6354 1077.78 L82.7512 1077.78 L82.7512 1071.9 Z\" fill=\"#000000\" fill-rule=\"evenodd\" fill-opacity=\"1\" /><path clip-path=\"url(#clip030)\" d=\"M107.821 1046.3 Q104.209 1046.3 102.381 1049.86 Q100.575 1053.41 100.575 1060.53 Q100.575 1067.64 102.381 1071.21 Q104.209 1074.75 107.821 1074.75 Q111.455 1074.75 113.26 1071.21 Q115.089 1067.64 115.089 1060.53 Q115.089 1053.41 113.26 1049.86 Q111.455 1046.3 107.821 1046.3 M107.821 1042.6 Q113.631 1042.6 116.686 1047.2 Q119.765 1051.78 119.765 1060.53 Q119.765 1069.26 116.686 1073.87 Q113.631 1078.45 107.821 1078.45 Q102.01 1078.45 98.9317 1073.87 Q95.8761 1069.26 95.8761 1060.53 Q95.8761 1051.78 98.9317 1047.2 Q102.01 1042.6 107.821 1042.6 Z\" fill=\"#000000\" fill-rule=\"evenodd\" fill-opacity=\"1\" /><path clip-path=\"url(#clip030)\" d=\"M156.154 1052.32 L145.575 1062.94 L156.154 1073.52 L153.399 1076.32 L142.774 1065.7 L132.149 1076.32 L129.418 1073.52 L139.973 1062.94 L129.418 1052.32 L132.149 1049.52 L142.774 1060.14 L153.399 1049.52 L156.154 1052.32 Z\" fill=\"#000000\" fill-rule=\"evenodd\" fill-opacity=\"1\" /><path clip-path=\"url(#clip030)\" d=\"M168.515 1073.84 L176.153 1073.84 L176.153 1047.48 L167.843 1049.15 L167.843 1044.89 L176.107 1043.22 L180.783 1043.22 L180.783 1073.84 L188.422 1073.84 L188.422 1077.78 L168.515 1077.78 L168.515 1073.84 Z\" fill=\"#000000\" fill-rule=\"evenodd\" fill-opacity=\"1\" /><path clip-path=\"url(#clip030)\" d=\"M207.866 1046.3 Q204.255 1046.3 202.426 1049.86 Q200.621 1053.41 200.621 1060.53 Q200.621 1067.64 202.426 1071.21 Q204.255 1074.75 207.866 1074.75 Q211.501 1074.75 213.306 1071.21 Q215.135 1067.64 215.135 1060.53 Q215.135 1053.41 213.306 1049.86 Q211.501 1046.3 207.866 1046.3 M207.866 1042.6 Q213.676 1042.6 216.732 1047.2 Q219.811 1051.78 219.811 1060.53 Q219.811 1069.26 216.732 1073.87 Q213.676 1078.45 207.866 1078.45 Q202.056 1078.45 198.977 1073.87 Q195.922 1069.26 195.922 1060.53 Q195.922 1051.78 198.977 1047.2 Q202.056 1042.6 207.866 1042.6 Z\" fill=\"#000000\" fill-rule=\"evenodd\" fill-opacity=\"1\" /><path clip-path=\"url(#clip030)\" d=\"M232.487 1025.6 L222.895 1040.59 L232.487 1040.59 L232.487 1025.6 M231.49 1022.29 L236.267 1022.29 L236.267 1040.59 L240.274 1040.59 L240.274 1043.75 L236.267 1043.75 L236.267 1050.37 L232.487 1050.37 L232.487 1043.75 L219.811 1043.75 L219.811 1040.08 L231.49 1022.29 Z\" fill=\"#000000\" fill-rule=\"evenodd\" fill-opacity=\"1\" /><path clip-path=\"url(#clip030)\" d=\"M56.6171 682.182 L72.9365 682.182 L72.9365 686.117 L50.9921 686.117 L50.9921 682.182 Q53.6541 679.427 58.2375 674.797 Q62.8439 670.145 64.0245 668.802 Q66.2698 666.279 67.1494 664.543 Q68.0522 662.784 68.0522 661.094 Q68.0522 658.339 66.1078 656.603 Q64.1865 654.867 61.0847 654.867 Q58.8856 654.867 56.4319 655.631 Q54.0014 656.395 51.2236 657.946 L51.2236 653.224 Q54.0477 652.089 56.5014 651.511 Q58.955 650.932 60.9921 650.932 Q66.3624 650.932 69.5568 653.617 Q72.7513 656.302 72.7513 660.793 Q72.7513 662.923 71.9411 664.844 Q71.1541 666.742 69.0476 669.335 Q68.4689 670.006 65.367 673.223 Q62.2652 676.418 56.6171 682.182 Z\" fill=\"#000000\" fill-rule=\"evenodd\" fill-opacity=\"1\" /><path clip-path=\"url(#clip030)\" d=\"M82.7512 680.237 L87.6354 680.237 L87.6354 686.117 L82.7512 686.117 L82.7512 680.237 Z\" fill=\"#000000\" fill-rule=\"evenodd\" fill-opacity=\"1\" /><path clip-path=\"url(#clip030)\" d=\"M107.821 654.636 Q104.209 654.636 102.381 658.2 Q100.575 661.742 100.575 668.872 Q100.575 675.978 102.381 679.543 Q104.209 683.084 107.821 683.084 Q111.455 683.084 113.26 679.543 Q115.089 675.978 115.089 668.872 Q115.089 661.742 113.26 658.2 Q111.455 654.636 107.821 654.636 M107.821 650.932 Q113.631 650.932 116.686 655.538 Q119.765 660.122 119.765 668.872 Q119.765 677.598 116.686 682.205 Q113.631 686.788 107.821 686.788 Q102.01 686.788 98.9317 682.205 Q95.8761 677.598 95.8761 668.872 Q95.8761 660.122 98.9317 655.538 Q102.01 650.932 107.821 650.932 Z\" fill=\"#000000\" fill-rule=\"evenodd\" fill-opacity=\"1\" /><path clip-path=\"url(#clip030)\" d=\"M156.154 660.654 L145.575 671.279 L156.154 681.858 L153.399 684.659 L142.774 674.034 L132.149 684.659 L129.418 681.858 L139.973 671.279 L129.418 660.654 L132.149 657.853 L142.774 668.478 L153.399 657.853 L156.154 660.654 Z\" fill=\"#000000\" fill-rule=\"evenodd\" fill-opacity=\"1\" /><path clip-path=\"url(#clip030)\" d=\"M168.515 682.182 L176.153 682.182 L176.153 655.816 L167.843 657.483 L167.843 653.224 L176.107 651.557 L180.783 651.557 L180.783 682.182 L188.422 682.182 L188.422 686.117 L168.515 686.117 L168.515 682.182 Z\" fill=\"#000000\" fill-rule=\"evenodd\" fill-opacity=\"1\" /><path clip-path=\"url(#clip030)\" d=\"M207.866 654.636 Q204.255 654.636 202.426 658.2 Q200.621 661.742 200.621 668.872 Q200.621 675.978 202.426 679.543 Q204.255 683.084 207.866 683.084 Q211.501 683.084 213.306 679.543 Q215.135 675.978 215.135 668.872 Q215.135 661.742 213.306 658.2 Q211.501 654.636 207.866 654.636 M207.866 650.932 Q213.676 650.932 216.732 655.538 Q219.811 660.122 219.811 668.872 Q219.811 677.598 216.732 682.205 Q213.676 686.788 207.866 686.788 Q202.056 686.788 198.977 682.205 Q195.922 677.598 195.922 668.872 Q195.922 660.122 198.977 655.538 Q202.056 650.932 207.866 650.932 Z\" fill=\"#000000\" fill-rule=\"evenodd\" fill-opacity=\"1\" /><path clip-path=\"url(#clip030)\" d=\"M232.487 633.937 L222.895 648.926 L232.487 648.926 L232.487 633.937 M231.49 630.626 L236.267 630.626 L236.267 648.926 L240.274 648.926 L240.274 652.086 L236.267 652.086 L236.267 658.706 L232.487 658.706 L232.487 652.086 L219.811 652.086 L219.811 648.419 L231.49 630.626 Z\" fill=\"#000000\" fill-rule=\"evenodd\" fill-opacity=\"1\" /><path clip-path=\"url(#clip030)\" d=\"M66.7559 275.82 Q70.1124 276.537 71.9874 278.806 Q73.8855 281.074 73.8855 284.407 Q73.8855 289.523 70.367 292.324 Q66.8485 295.125 60.3671 295.125 Q58.1912 295.125 55.8764 294.685 Q53.5847 294.268 51.131 293.412 L51.131 288.898 Q53.0754 290.032 55.3903 290.611 Q57.7051 291.19 60.2282 291.19 Q64.6263 291.19 66.918 289.454 Q69.2328 287.718 69.2328 284.407 Q69.2328 281.352 67.08 279.639 Q64.9504 277.903 61.131 277.903 L57.1032 277.903 L57.1032 274.06 L61.3161 274.06 Q64.7652 274.06 66.5939 272.695 Q68.4226 271.306 68.4226 268.713 Q68.4226 266.051 66.5245 264.639 Q64.6495 263.204 61.131 263.204 Q59.2097 263.204 57.0106 263.62 Q54.8115 264.037 52.1727 264.917 L52.1727 260.75 Q54.8347 260.009 57.1495 259.639 Q59.4875 259.269 61.5476 259.269 Q66.8717 259.269 69.9735 261.699 Q73.0753 264.107 73.0753 268.227 Q73.0753 271.097 71.4318 273.088 Q69.7883 275.056 66.7559 275.82 Z\" fill=\"#000000\" fill-rule=\"evenodd\" fill-opacity=\"1\" /><path clip-path=\"url(#clip030)\" d=\"M82.7512 288.574 L87.6354 288.574 L87.6354 294.454 L82.7512 294.454 L82.7512 288.574 Z\" fill=\"#000000\" fill-rule=\"evenodd\" fill-opacity=\"1\" /><path clip-path=\"url(#clip030)\" d=\"M107.821 262.972 Q104.209 262.972 102.381 266.537 Q100.575 270.079 100.575 277.208 Q100.575 284.315 102.381 287.88 Q104.209 291.421 107.821 291.421 Q111.455 291.421 113.26 287.88 Q115.089 284.315 115.089 277.208 Q115.089 270.079 113.26 266.537 Q111.455 262.972 107.821 262.972 M107.821 259.269 Q113.631 259.269 116.686 263.875 Q119.765 268.458 119.765 277.208 Q119.765 285.935 116.686 290.542 Q113.631 295.125 107.821 295.125 Q102.01 295.125 98.9317 290.542 Q95.8761 285.935 95.8761 277.208 Q95.8761 268.458 98.9317 263.875 Q102.01 259.269 107.821 259.269 Z\" fill=\"#000000\" fill-rule=\"evenodd\" fill-opacity=\"1\" /><path clip-path=\"url(#clip030)\" d=\"M156.154 268.991 L145.575 279.616 L156.154 290.194 L153.399 292.995 L142.774 282.37 L132.149 292.995 L129.418 290.194 L139.973 279.616 L129.418 268.991 L132.149 266.19 L142.774 276.815 L153.399 266.19 L156.154 268.991 Z\" fill=\"#000000\" fill-rule=\"evenodd\" fill-opacity=\"1\" /><path clip-path=\"url(#clip030)\" d=\"M168.515 290.518 L176.153 290.518 L176.153 264.153 L167.843 265.82 L167.843 261.56 L176.107 259.894 L180.783 259.894 L180.783 290.518 L188.422 290.518 L188.422 294.454 L168.515 294.454 L168.515 290.518 Z\" fill=\"#000000\" fill-rule=\"evenodd\" fill-opacity=\"1\" /><path clip-path=\"url(#clip030)\" d=\"M207.866 262.972 Q204.255 262.972 202.426 266.537 Q200.621 270.079 200.621 277.208 Q200.621 284.315 202.426 287.88 Q204.255 291.421 207.866 291.421 Q211.501 291.421 213.306 287.88 Q215.135 284.315 215.135 277.208 Q215.135 270.079 213.306 266.537 Q211.501 262.972 207.866 262.972 M207.866 259.269 Q213.676 259.269 216.732 263.875 Q219.811 268.458 219.811 277.208 Q219.811 285.935 216.732 290.542 Q213.676 295.125 207.866 295.125 Q202.056 295.125 198.977 290.542 Q195.922 285.935 195.922 277.208 Q195.922 268.458 198.977 263.875 Q202.056 259.269 207.866 259.269 Z\" fill=\"#000000\" fill-rule=\"evenodd\" fill-opacity=\"1\" /><path clip-path=\"url(#clip030)\" d=\"M232.487 242.273 L222.895 257.263 L232.487 257.263 L232.487 242.273 M231.49 238.963 L236.267 238.963 L236.267 257.263 L240.274 257.263 L240.274 260.423 L236.267 260.423 L236.267 267.043 L232.487 267.043 L232.487 260.423 L219.811 260.423 L219.811 256.755 L231.49 238.963 Z\" fill=\"#000000\" fill-rule=\"evenodd\" fill-opacity=\"1\" /><path clip-path=\"url(#clip032)\" d=\"\n",
       "M390.484 87.9763 L390.484 1445.72 L541.346 1445.72 L541.346 87.9763 L390.484 87.9763 L390.484 87.9763  Z\n",
       "  \" fill=\"#009af9\" fill-rule=\"evenodd\" fill-opacity=\"1\"/>\n",
       "<polyline clip-path=\"url(#clip032)\" style=\"stroke:#000000; stroke-linecap:round; stroke-linejoin:round; stroke-width:4; stroke-opacity:1; fill:none\" points=\"\n",
       "  390.484,87.9763 390.484,1445.72 541.346,1445.72 541.346,87.9763 390.484,87.9763 \n",
       "  \"/>\n",
       "<path clip-path=\"url(#clip032)\" d=\"\n",
       "M579.061 850.636 L579.061 1445.72 L729.924 1445.72 L729.924 850.636 L579.061 850.636 L579.061 850.636  Z\n",
       "  \" fill=\"#009af9\" fill-rule=\"evenodd\" fill-opacity=\"1\"/>\n",
       "<polyline clip-path=\"url(#clip032)\" style=\"stroke:#000000; stroke-linecap:round; stroke-linejoin:round; stroke-width:4; stroke-opacity:1; fill:none\" points=\"\n",
       "  579.061,850.636 579.061,1445.72 729.924,1445.72 729.924,850.636 579.061,850.636 \n",
       "  \"/>\n",
       "<path clip-path=\"url(#clip032)\" d=\"\n",
       "M767.639 279.221 L767.639 1445.72 L918.501 1445.72 L918.501 279.221 L767.639 279.221 L767.639 279.221  Z\n",
       "  \" fill=\"#009af9\" fill-rule=\"evenodd\" fill-opacity=\"1\"/>\n",
       "<polyline clip-path=\"url(#clip032)\" style=\"stroke:#000000; stroke-linecap:round; stroke-linejoin:round; stroke-width:4; stroke-opacity:1; fill:none\" points=\"\n",
       "  767.639,279.221 767.639,1445.72 918.501,1445.72 918.501,279.221 767.639,279.221 \n",
       "  \"/>\n",
       "<path clip-path=\"url(#clip032)\" d=\"\n",
       "M956.217 337.516 L956.217 1445.72 L1107.08 1445.72 L1107.08 337.516 L956.217 337.516 L956.217 337.516  Z\n",
       "  \" fill=\"#009af9\" fill-rule=\"evenodd\" fill-opacity=\"1\"/>\n",
       "<polyline clip-path=\"url(#clip032)\" style=\"stroke:#000000; stroke-linecap:round; stroke-linejoin:round; stroke-width:4; stroke-opacity:1; fill:none\" points=\"\n",
       "  956.217,337.516 956.217,1445.72 1107.08,1445.72 1107.08,337.516 956.217,337.516 \n",
       "  \"/>\n",
       "<path clip-path=\"url(#clip032)\" d=\"\n",
       "M1144.79 495.407 L1144.79 1445.72 L1295.66 1445.72 L1295.66 495.407 L1144.79 495.407 L1144.79 495.407  Z\n",
       "  \" fill=\"#009af9\" fill-rule=\"evenodd\" fill-opacity=\"1\"/>\n",
       "<polyline clip-path=\"url(#clip032)\" style=\"stroke:#000000; stroke-linecap:round; stroke-linejoin:round; stroke-width:4; stroke-opacity:1; fill:none\" points=\"\n",
       "  1144.79,495.407 1144.79,1445.72 1295.66,1445.72 1295.66,495.407 1144.79,495.407 \n",
       "  \"/>\n",
       "<path clip-path=\"url(#clip032)\" d=\"\n",
       "M1333.37 437.591 L1333.37 1445.72 L1484.23 1445.72 L1484.23 437.591 L1333.37 437.591 L1333.37 437.591  Z\n",
       "  \" fill=\"#009af9\" fill-rule=\"evenodd\" fill-opacity=\"1\"/>\n",
       "<polyline clip-path=\"url(#clip032)\" style=\"stroke:#000000; stroke-linecap:round; stroke-linejoin:round; stroke-width:4; stroke-opacity:1; fill:none\" points=\"\n",
       "  1333.37,437.591 1333.37,1445.72 1484.23,1445.72 1484.23,437.591 1333.37,437.591 \n",
       "  \"/>\n",
       "<path clip-path=\"url(#clip032)\" d=\"\n",
       "M1521.95 370.625 L1521.95 1445.72 L1672.81 1445.72 L1672.81 370.625 L1521.95 370.625 L1521.95 370.625  Z\n",
       "  \" fill=\"#009af9\" fill-rule=\"evenodd\" fill-opacity=\"1\"/>\n",
       "<polyline clip-path=\"url(#clip032)\" style=\"stroke:#000000; stroke-linecap:round; stroke-linejoin:round; stroke-width:4; stroke-opacity:1; fill:none\" points=\"\n",
       "  1521.95,370.625 1521.95,1445.72 1672.81,1445.72 1672.81,370.625 1521.95,370.625 \n",
       "  \"/>\n",
       "<path clip-path=\"url(#clip032)\" d=\"\n",
       "M1710.53 548.949 L1710.53 1445.72 L1861.39 1445.72 L1861.39 548.949 L1710.53 548.949 L1710.53 548.949  Z\n",
       "  \" fill=\"#009af9\" fill-rule=\"evenodd\" fill-opacity=\"1\"/>\n",
       "<polyline clip-path=\"url(#clip032)\" style=\"stroke:#000000; stroke-linecap:round; stroke-linejoin:round; stroke-width:4; stroke-opacity:1; fill:none\" points=\"\n",
       "  1710.53,548.949 1710.53,1445.72 1861.39,1445.72 1861.39,548.949 1710.53,548.949 \n",
       "  \"/>\n",
       "<path clip-path=\"url(#clip032)\" d=\"\n",
       "M1899.11 269.975 L1899.11 1445.72 L2049.97 1445.72 L2049.97 269.975 L1899.11 269.975 L1899.11 269.975  Z\n",
       "  \" fill=\"#009af9\" fill-rule=\"evenodd\" fill-opacity=\"1\"/>\n",
       "<polyline clip-path=\"url(#clip032)\" style=\"stroke:#000000; stroke-linecap:round; stroke-linejoin:round; stroke-width:4; stroke-opacity:1; fill:none\" points=\"\n",
       "  1899.11,269.975 1899.11,1445.72 2049.97,1445.72 2049.97,269.975 1899.11,269.975 \n",
       "  \"/>\n",
       "<path clip-path=\"url(#clip032)\" d=\"\n",
       "M2087.68 485.82 L2087.68 1445.72 L2238.55 1445.72 L2238.55 485.82 L2087.68 485.82 L2087.68 485.82  Z\n",
       "  \" fill=\"#009af9\" fill-rule=\"evenodd\" fill-opacity=\"1\"/>\n",
       "<polyline clip-path=\"url(#clip032)\" style=\"stroke:#000000; stroke-linecap:round; stroke-linejoin:round; stroke-width:4; stroke-opacity:1; fill:none\" points=\"\n",
       "  2087.68,485.82 2087.68,1445.72 2238.55,1445.72 2238.55,485.82 2087.68,485.82 \n",
       "  \"/>\n",
       "<circle clip-path=\"url(#clip032)\" style=\"fill:#009af9; stroke:none; fill-opacity:0\" cx=\"465.915\" cy=\"87.9763\" r=\"2\"/>\n",
       "<circle clip-path=\"url(#clip032)\" style=\"fill:#009af9; stroke:none; fill-opacity:0\" cx=\"654.493\" cy=\"850.636\" r=\"2\"/>\n",
       "<circle clip-path=\"url(#clip032)\" style=\"fill:#009af9; stroke:none; fill-opacity:0\" cx=\"843.07\" cy=\"279.221\" r=\"2\"/>\n",
       "<circle clip-path=\"url(#clip032)\" style=\"fill:#009af9; stroke:none; fill-opacity:0\" cx=\"1031.65\" cy=\"337.516\" r=\"2\"/>\n",
       "<circle clip-path=\"url(#clip032)\" style=\"fill:#009af9; stroke:none; fill-opacity:0\" cx=\"1220.23\" cy=\"495.407\" r=\"2\"/>\n",
       "<circle clip-path=\"url(#clip032)\" style=\"fill:#009af9; stroke:none; fill-opacity:0\" cx=\"1408.8\" cy=\"437.591\" r=\"2\"/>\n",
       "<circle clip-path=\"url(#clip032)\" style=\"fill:#009af9; stroke:none; fill-opacity:0\" cx=\"1597.38\" cy=\"370.625\" r=\"2\"/>\n",
       "<circle clip-path=\"url(#clip032)\" style=\"fill:#009af9; stroke:none; fill-opacity:0\" cx=\"1785.96\" cy=\"548.949\" r=\"2\"/>\n",
       "<circle clip-path=\"url(#clip032)\" style=\"fill:#009af9; stroke:none; fill-opacity:0\" cx=\"1974.54\" cy=\"269.975\" r=\"2\"/>\n",
       "<circle clip-path=\"url(#clip032)\" style=\"fill:#009af9; stroke:none; fill-opacity:0\" cx=\"2163.11\" cy=\"485.82\" r=\"2\"/>\n",
       "</svg>\n"
      ]
     },
     "metadata": {},
     "output_type": "display_data"
    }
   ],
   "source": [
    "bar(0:9, l_mean, legend=false)"
   ]
  },
  {
   "cell_type": "markdown",
   "id": "ec8766a0",
   "metadata": {
    "colab_type": "text",
    "id": "sABXrPHwrRCU"
   },
   "source": [
    "As we can see there are some differences in intensity. The digit “1” is the less intense while the digit “0” is the most intense. So this new feature seems to have some predictive value if you wanted to know if say your digit is a “1” or not."
   ]
  },
  {
   "cell_type": "code",
   "execution_count": 5,
   "id": "504bc748",
   "metadata": {},
   "outputs": [
    {
     "data": {
      "text/plain": [
       "(60000, 1)"
      ]
     },
     "metadata": {},
     "output_type": "display_data"
    }
   ],
   "source": [
    "#TODO compute average intensity for each data sample\n",
    "intensity = mean(train_x_flatten, dims=2)\n",
    "size(intensity)"
   ]
  },
  {
   "cell_type": "markdown",
   "id": "498e0421",
   "metadata": {
    "colab_type": "text",
    "id": "xff4VjFerRCn"
   },
   "source": [
    "Some digits are symmetric (1, 3, 8, 0) some are not (2, 4, 5, 6, 9). Creating a new feature capturing this could be useful. Specifically, we calculate $s = -\\frac{s_1 + s_2}{2}$ for each image:\n",
    "- $s_1$: flip the image along y-axis and compute the mean value of result\n",
    "- $s_2$: flip the image along x-axis and compute the mean value of result"
   ]
  },
  {
   "cell_type": "code",
   "execution_count": 6,
   "id": "13b9bbd9",
   "metadata": {},
   "outputs": [
    {
     "data": {
      "text/plain": [
       "(60000,)"
      ]
     },
     "metadata": {},
     "output_type": "display_data"
    }
   ],
   "source": [
    "function compute_symmetry(train_x)\n",
    "    symmetry = []\n",
    "    for i in 1:size(train_x)[1]\n",
    "        img = reshape(train_x[i,:], (28,28))\n",
    "        s1 = mean(abs.(img - reverse(img, dims=1)))\n",
    "        s2 = mean(abs.(img - reverse(img, dims=2)))\n",
    "        s = -0.5 .* (s1 + s2)\n",
    "        append!(symmetry, s)\n",
    "    end\n",
    "    return symmetry\n",
    "end\n",
    "\n",
    "symmetry = compute_symmetry(train_x_flatten)\n",
    "size(symmetry)"
   ]
  },
  {
   "cell_type": "markdown",
   "id": "a8b78faf",
   "metadata": {},
   "source": [
    "Visualize 10 samples in order to illustrate symmetry"
   ]
  },
  {
   "cell_type": "code",
   "execution_count": 7,
   "id": "4b8b85e5",
   "metadata": {},
   "outputs": [
    {
     "data": {
      "text/html": [
       "<table><tbody><tr><td style='text-align:center;vertical-align:middle; margin: 0.5em;border:1px #90999f solid;border-collapse:collapse'><img style='max-width: 100px; max-height:100px;display:inline' src=\"data:image/png;base64,iVBORw0KGgoAAAANSUhEUgAAAHAAAABwCAAAAADji6uXAAAABGdBTUEAALGPC/xhBQAAAAFzUkdCAK7OHOkAAAAgY0hSTQAAeiYAAICEAAD6AAAAgOgAAHUwAADqYAAAOpgAABdwnLpRPAAAARlJREFUaAW9wUtuYgEQwEC35PtfuWfBAiUI3oeMqyQmMYlJTGISk5jEJCYxiUlMYhKTmMQkJjGJSUwuWq4ZfpKYxCQmB5a/JTGJSUw+WL4zvJKYxCQmf2Q4R2ISk5h8MMDy3gDLNRKTmMTkwADLq+FhuEZiEpOYnDA8LE8LDNdJTGISk5jEJCYxuWCA5Wl5Gs6RmMQkJhcNsLxaYDgmMYlJTG4YYHm1wPCZxCQmMblpgOU6iUlMYvKF4WF5WmB4T2ISk5jctNwjMYlJTC5aPhs+k5jEJCYnLceGYxKTmMTkwHLOcI7EJCYxeWM5Z7hGYhKTmPyynDPcIzGJSUwuGr4jMYlJTH4Z/i+JSUxiEpOYxCQmMYlJTGL/AOuLGMQ6CbkDAAAAAElFTkSuQmCC\"></td><td style='text-align:center;vertical-align:middle; margin: 0.5em;border:1px #90999f solid;border-collapse:collapse'><img style='max-width: 100px; max-height:100px;display:inline' src=\"data:image/png;base64,iVBORw0KGgoAAAANSUhEUgAAAHAAAABwCAAAAADji6uXAAAABGdBTUEAALGPC/xhBQAAAAFzUkdCAK7OHOkAAAAgY0hSTQAAeiYAAICEAAD6AAAAgOgAAHUwAADqYAAAOpgAABdwnLpRPAAAAQJJREFUaAW9wUGOg0AQwECP5P9/ufeQU0QgBFhXSUxiEpOYxCQmMYlJTGISk5jEJCYxickNw9bimMQkJjG5aLhGYhKTmFww7BteFp9JTGISkx8M90lMYhKTmMQkJjE5aXiGxCQmMTlh+G7xMrwMsNiSmMQkJl8Mny2ukZjEJCYHhudJTGISkx8s7pOYxCQmJy2eITGJSUx2DP9DYhKTmDxkOEdiEpOYnLA4NmwtPpOYxCQmNw3vFsckJjGJyQ3Du8V3EpOYxOSE4TkSk5jE5AGL8yQmMYnJDYvfSUxiEpMdCxj2La6RmMQkJgcWz5OYxCQmMYlJTGISk5jEJCYxiUlMYn+JIhO/PQpEBAAAAABJRU5ErkJg\"></td><td style='text-align:center;vertical-align:middle; margin: 0.5em;border:1px #90999f solid;border-collapse:collapse'><img style='max-width: 100px; max-height:100px;display:inline' src=\"data:image/png;base64,iVBORw0KGgoAAAANSUhEUgAAAHAAAABwCAAAAADji6uXAAAABGdBTUEAALGPC/xhBQAAAAFzUkdCAK7OHOkAAAAgY0hSTQAAeiYAAICEAAD6AAAAgOgAAHUwAADqYAAAOpgAABdwnLpRPAAAAOFJREFUaAW9wUkOAkEQwLC0lP9/uThwALGOoCe2xCQmMYlJTGISk5jEJCYxiUlMYhKTmMQkJjGJyWbDzeKZxCQmMXkwXC3OITGJSUw2Gr6TmMQkJidZvCYxiUlMYhKTmMTkznA+iUlMYrLJcIzEJCYxiUlMYhKTPwyvLd6TmMQkJgcM+0hMYhKTN4bfLD6TmMQkJncWMHy2eDYcJzGJSUweLM4lMYlJTGISk5jEJCYxiUlMYhKTmMQkJjGJSUxiEpOYxCQmMYlJTGISk5jEZIPFcRKTmMQkJjGJSUxiEpOYxC6wPQvAxfFFGAAAAABJRU5ErkJg\"></td><td style='text-align:center;vertical-align:middle; margin: 0.5em;border:1px #90999f solid;border-collapse:collapse'><img style='max-width: 100px; max-height:100px;display:inline' src=\"data:image/png;base64,iVBORw0KGgoAAAANSUhEUgAAAHAAAABwCAAAAADji6uXAAAABGdBTUEAALGPC/xhBQAAAAFzUkdCAK7OHOkAAAAgY0hSTQAAeiYAAICEAAD6AAAAgOgAAHUwAADqYAAAOpgAABdwnLpRPAAAAOVJREFUaAW9wUFqwDAQwEAZ9P8vb88lpYkToxmJSUxiEpOYxCQmMYlJTGISk5jEJCYxiUlMYhKTQ4bfFn+TmMQkJgcMz0lMYhKTmMQkJjH5aNgjMYlJTD4Yrhb/k5jEJCYHLe5JTGISk5eGdyQmMYnJC8PV4hmJSUxiEpOYxCQmm4arxXMSk5jEZMNwtdgjMYlJTGISk5jE5KHharFPYhKTmMQkJjGJyUuLdyQmMYnJA8M5EpOYxOTGcJbEJCYx2bT4RmISk5jEJCYxiUlMYhKTmNxYnCUxiUlMYhKTmMQkJjGJSewHh+wMwBjFURMAAAAASUVORK5C\"></td><td style='text-align:center;vertical-align:middle; margin: 0.5em;border:1px #90999f solid;border-collapse:collapse'><img style='max-width: 100px; max-height:100px;display:inline' src=\"data:image/png;base64,iVBORw0KGgoAAAANSUhEUgAAAHAAAABwCAAAAADji6uXAAAABGdBTUEAALGPC/xhBQAAAAFzUkdCAK7OHOkAAAAgY0hSTQAAeiYAAICEAAD6AAAAgOgAAHUwAADqYAAAOpgAABdwnLpRPAAAAQFJREFUaAW9wUGO20AQwEA2wP9/uXPYQxA4tqVZgVUSk5jEJCYxiUlMYhKTmMQkJjGJSUxiEpOYxCQmMYlJTGISk5jEJCY3Ld8N70lMYhKTG5bfk5jEJCYXLM+RmMQkJoeGH8s9EpOYxOSL5dXw3vCZxCQmMflgeTX8WF4N30lMYhKTN5Z/DX8t5yQmMYnJRctnwzUSk5jE5AHDdRKTmMTkjQGW50lMYhKTD4b/W85JTGISk5jEJCYxOTDAckZiEpOYHFjOSUxiEpOYxCQmMYlJTGISkwMDLGckJjGJyQMWGK6RmMQkJg9ZYPhOYhKTmBwaYLlPYhKTmPzCcJ/EJCaxP4awE8CyhygFAAAAAElFTkSuQmCC\"></td><td style='text-align:center;vertical-align:middle; margin: 0.5em;border:1px #90999f solid;border-collapse:collapse'><img style='max-width: 100px; max-height:100px;display:inline' src=\"data:image/png;base64,iVBORw0KGgoAAAANSUhEUgAAAHAAAABwCAAAAADji6uXAAAABGdBTUEAALGPC/xhBQAAAAFzUkdCAK7OHOkAAAAgY0hSTQAAeiYAAICEAAD6AAAAgOgAAHUwAADqYAAAOpgAABdwnLpRPAAAAQ1JREFUaAW9wTFywgAQwEDdjP7/5UuRggIbjEm0KzGJSUxiEpOYxCQmMYlJTGISk5jEJCYxiUlMYvKF5dnwmsQkJjG5YblPYhKTmHxgeW+B4ZzEJCYxuWD5OxKTmMTkSwMs10lMYhKTLwyfk5jEJCY3DPdJTGISkwuGvyMxiUlMbljuk5jEJCYXLdcMr0lMYhKTN5bPLDCck5jEJCYvLMcGWM4tMByTmMQkJieWYwMs7y0Pw4PEJCYxObAcG2B5NsByjcQkJjH5wPJs+DU8LOckJjGJyReGY8M5iUlMYnLTcI/EJCYx+cDwPYlJTGJyYPg/EpOYxCQmMYlJTGISk5jEJCYxiUlMYhKTmMR+AEzLFsHwL8oLAAAAAElFTkSuQmCC\"></td><td style='text-align:center;vertical-align:middle; margin: 0.5em;border:1px #90999f solid;border-collapse:collapse'><img style='max-width: 100px; max-height:100px;display:inline' src=\"data:image/png;base64,iVBORw0KGgoAAAANSUhEUgAAAHAAAABwCAAAAADji6uXAAAABGdBTUEAALGPC/xhBQAAAAFzUkdCAK7OHOkAAAAgY0hSTQAAeiYAAICEAAD6AAAAgOgAAHUwAADqYAAAOpgAABdwnLpRPAAAANlJREFUaAW9wbFtBDEABDEKmP5blmNH/vszlsxYxjKWsYxlLGMZy1jGMpaxjGUsYxnLQ9dvxzMZy1jG8sD1XsYylrGMZSxjGcsDB9c7GctYxvLA9V7GMpaxvHRxfC5jGctYHji43slYxjKWhw6u72UsYxnLWMYylrGMZSxjGctYxjKWsYxlLGMZy1jGMpax/IOL4zMZy1jGMpaxjGUsYxnLWMbyhYPrt4vjbxnLWMYylrGMZSxjGctYxjKWsYxlLF86vpOxjGUsYxnLWMYylrGMZSxjGctYxn4A32YLwPT9QrYAAAAASUVORK5C\"></td><td style='text-align:center;vertical-align:middle; margin: 0.5em;border:1px #90999f solid;border-collapse:collapse'><img style='max-width: 100px; max-height:100px;display:inline' src=\"data:image/png;base64,iVBORw0KGgoAAAANSUhEUgAAAHAAAABwCAAAAADji6uXAAAABGdBTUEAALGPC/xhBQAAAAFzUkdCAK7OHOkAAAAgY0hSTQAAeiYAAICEAAD6AAAAgOgAAHUwAADqYAAAOpgAABdwnLpRPAAAAP9JREFUaAW9wVFOwzAUAMG1tPe/8uMTIRJqp2VnJCYxiUlMYhKTmMQkJjGJSUxiEpOYxCQmMYlJTA4M+xbXJCYxicmG4dwAi98kJjGJSUxiEpOYxCQmMYnJA4ufhn0Sk5jEZMPi3OKaxCQmMXnTcEZiEpOYPDQ8IzGJSUw2DGcW9yQmMYnJC8O+xWsSk5jE5IMGWPxNYhKTmLywgOFzJCYxicmGxb3hjMQkJjGJSUxiEpMbw7fFteGcxCQmMbkw/G14TmISk5hsGPYsXpOYxCQmH7LYIzGJSUzetDgjMYlJTC4sYLi3eE5iEpOY3Fj8D4lJTGISk5jEJCYxiUlMYl/UrBLBewH0uQAAAABJRU5ErkJg\"></td><td style='text-align:center;vertical-align:middle; margin: 0.5em;border:1px #90999f solid;border-collapse:collapse'><img style='max-width: 100px; max-height:100px;display:inline' src=\"data:image/png;base64,iVBORw0KGgoAAAANSUhEUgAAAHAAAABwCAAAAADji6uXAAAABGdBTUEAALGPC/xhBQAAAAFzUkdCAK7OHOkAAAAgY0hSTQAAeiYAAICEAAD6AAAAgOgAAHUwAADqYAAAOpgAABdwnLpRPAAAAMhJREFUaAW9wbENwDAMwDAZ0P8vu2PXJgVESkxiEpOYxCQmMYlJTGISk5jEJCYxiUlMYhKTmBxaXsM5iUlMYvLDAsMZiUlMYhKTmMQkJjGJSUxiEpOYxCQmMYlJTGISk5jEJCaHBljuSUxiEpOYxCQmMYlJTGISk5jEJCYxiUlMYhKTnxYYvpOYxCQmMYlJTGJyYYDljsQkJjGJSUxiEpOYxCQmMYlJTGISk5jEJCYxiUlMYhKTS8MdiUlMYhKTmMQkJjGJSUxiD80uBsIuYeKkAAAAAElFTkSuQmCC\"></td><td style='text-align:center;vertical-align:middle; margin: 0.5em;border:1px #90999f solid;border-collapse:collapse'><img style='max-width: 100px; max-height:100px;display:inline' src=\"data:image/png;base64,iVBORw0KGgoAAAANSUhEUgAAAHAAAABwCAAAAADji6uXAAAABGdBTUEAALGPC/xhBQAAAAFzUkdCAK7OHOkAAAAgY0hSTQAAeiYAAICEAAD6AAAAgOgAAHUwAADqYAAAOpgAABdwnLpRPAAAAQhJREFUaAW9wUmKw1AUwEA90P2v/HvRi2DieAiOqiQmMYlJTGISk5jEJCYxiUlMYhKTmMTkRxb/hi2JSUxi8gOLzyQmMYnJwxbHJCYxickPDe8kJjGJyU2Ll2FrcU5iEpOY/MiwT2ISk5g8ZHGNxCQmMblhsW9xncQkJjG5aLE17BuOSUxiEpMLFlvDy+IeiUlMYnJgsW+xbzgnMYlJTB4yXCMxiUlMPljcs/g3HJOYxCQmFwwvi8+GcxKTmMTkxPAsiUlMYvLB8G6xNdwnMYlJTGISk5jE5KLF1vAdiUlMYvKF4XsSk5jEJCYxiUlMLhqeITGJSUxiEpOYxCQmMYlJTGISk5jE/gCVNBPB/mKP8wAAAABJRU5ErkJg\"></td></tr></tbody></table><div><small>(a vector displayed as a row to save space)</small></div>"
      ],
      "text/plain": [
       "10-element Vector{Base.ReinterpretArray{Gray{Float32}, 2, Float32, Matrix{Float32}, true}}:\n",
       " [Gray{Float32}(0.0f0) Gray{Float32}(0.0f0) … Gray{Float32}(0.0f0) Gray{Float32}(0.0f0); Gray{Float32}(0.0f0) Gray{Float32}(0.0f0) … Gray{Float32}(0.0f0) Gray{Float32}(0.0f0); … ; Gray{Float32}(0.0f0) Gray{Float32}(0.0f0) … Gray{Float32}(0.0f0) Gray{Float32}(0.0f0); Gray{Float32}(0.0f0) Gray{Float32}(0.0f0) … Gray{Float32}(0.0f0) Gray{Float32}(0.0f0)]\n",
       " [Gray{Float32}(0.0f0) Gray{Float32}(0.0f0) … Gray{Float32}(0.0f0) Gray{Float32}(0.0f0); Gray{Float32}(0.0f0) Gray{Float32}(0.0f0) … Gray{Float32}(0.0f0) Gray{Float32}(0.0f0); … ; Gray{Float32}(0.0f0) Gray{Float32}(0.0f0) … Gray{Float32}(0.0f0) Gray{Float32}(0.0f0); Gray{Float32}(0.0f0) Gray{Float32}(0.0f0) … Gray{Float32}(0.0f0) Gray{Float32}(0.0f0)]\n",
       " [Gray{Float32}(0.0f0) Gray{Float32}(0.0f0) … Gray{Float32}(0.0f0) Gray{Float32}(0.0f0); Gray{Float32}(0.0f0) Gray{Float32}(0.0f0) … Gray{Float32}(0.0f0) Gray{Float32}(0.0f0); … ; Gray{Float32}(0.0f0) Gray{Float32}(0.0f0) … Gray{Float32}(0.0f0) Gray{Float32}(0.0f0); Gray{Float32}(0.0f0) Gray{Float32}(0.0f0) … Gray{Float32}(0.0f0) Gray{Float32}(0.0f0)]\n",
       " [Gray{Float32}(0.0f0) Gray{Float32}(0.0f0) … Gray{Float32}(0.0f0) Gray{Float32}(0.0f0); Gray{Float32}(0.0f0) Gray{Float32}(0.0f0) … Gray{Float32}(0.0f0) Gray{Float32}(0.0f0); … ; Gray{Float32}(0.0f0) Gray{Float32}(0.0f0) … Gray{Float32}(0.0f0) Gray{Float32}(0.0f0); Gray{Float32}(0.0f0) Gray{Float32}(0.0f0) … Gray{Float32}(0.0f0) Gray{Float32}(0.0f0)]\n",
       " [Gray{Float32}(0.0f0) Gray{Float32}(0.0f0) … Gray{Float32}(0.0f0) Gray{Float32}(0.0f0); Gray{Float32}(0.0f0) Gray{Float32}(0.0f0) … Gray{Float32}(0.0f0) Gray{Float32}(0.0f0); … ; Gray{Float32}(0.0f0) Gray{Float32}(0.0f0) … Gray{Float32}(0.0f0) Gray{Float32}(0.0f0); Gray{Float32}(0.0f0) Gray{Float32}(0.0f0) … Gray{Float32}(0.0f0) Gray{Float32}(0.0f0)]\n",
       " [Gray{Float32}(0.0f0) Gray{Float32}(0.0f0) … Gray{Float32}(0.0f0) Gray{Float32}(0.0f0); Gray{Float32}(0.0f0) Gray{Float32}(0.0f0) … Gray{Float32}(0.0f0) Gray{Float32}(0.0f0); … ; Gray{Float32}(0.0f0) Gray{Float32}(0.0f0) … Gray{Float32}(0.0f0) Gray{Float32}(0.0f0); Gray{Float32}(0.0f0) Gray{Float32}(0.0f0) … Gray{Float32}(0.0f0) Gray{Float32}(0.0f0)]\n",
       " [Gray{Float32}(0.0f0) Gray{Float32}(0.0f0) … Gray{Float32}(0.0f0) Gray{Float32}(0.0f0); Gray{Float32}(0.0f0) Gray{Float32}(0.0f0) … Gray{Float32}(0.0f0) Gray{Float32}(0.0f0); … ; Gray{Float32}(0.0f0) Gray{Float32}(0.0f0) … Gray{Float32}(0.0f0) Gray{Float32}(0.0f0); Gray{Float32}(0.0f0) Gray{Float32}(0.0f0) … Gray{Float32}(0.0f0) Gray{Float32}(0.0f0)]\n",
       " [Gray{Float32}(0.0f0) Gray{Float32}(0.0f0) … Gray{Float32}(0.0f0) Gray{Float32}(0.0f0); Gray{Float32}(0.0f0) Gray{Float32}(0.0f0) … Gray{Float32}(0.0f0) Gray{Float32}(0.0f0); … ; Gray{Float32}(0.0f0) Gray{Float32}(0.0f0) … Gray{Float32}(0.0f0) Gray{Float32}(0.0f0); Gray{Float32}(0.0f0) Gray{Float32}(0.0f0) … Gray{Float32}(0.0f0) Gray{Float32}(0.0f0)]\n",
       " [Gray{Float32}(0.0f0) Gray{Float32}(0.0f0) … Gray{Float32}(0.0f0) Gray{Float32}(0.0f0); Gray{Float32}(0.0f0) Gray{Float32}(0.0f0) … Gray{Float32}(0.0f0) Gray{Float32}(0.0f0); … ; Gray{Float32}(0.0f0) Gray{Float32}(0.0f0) … Gray{Float32}(0.0f0) Gray{Float32}(0.0f0); Gray{Float32}(0.0f0) Gray{Float32}(0.0f0) … Gray{Float32}(0.0f0) Gray{Float32}(0.0f0)]\n",
       " [Gray{Float32}(0.0f0) Gray{Float32}(0.0f0) … Gray{Float32}(0.0f0) Gray{Float32}(0.0f0); Gray{Float32}(0.0f0) Gray{Float32}(0.0f0) … Gray{Float32}(0.0f0) Gray{Float32}(0.0f0); … ; Gray{Float32}(0.0f0) Gray{Float32}(0.0f0) … Gray{Float32}(0.0f0) Gray{Float32}(0.0f0); Gray{Float32}(0.0f0) Gray{Float32}(0.0f0) … Gray{Float32}(0.0f0) Gray{Float32}(0.0f0)]"
      ]
     },
     "metadata": {},
     "output_type": "display_data"
    }
   ],
   "source": [
    "num_img = 10\n",
    "img_flat = train_x_flatten[1:num_img,:]\n",
    "img = [reshape(img_flat[i,:], (28,28))' for i in 1:num_img]\n",
    "[colorview(Gray, Float32.(img[i])) for i in 1:num_img]"
   ]
  },
  {
   "cell_type": "code",
   "execution_count": 8,
   "id": "9710ae50",
   "metadata": {},
   "outputs": [
    {
     "data": {
      "text/html": [
       "<table><tbody><tr><td style='text-align:center;vertical-align:middle; margin: 0.5em;border:1px #90999f solid;border-collapse:collapse'><img style='max-width: 100px; max-height:100px;display:inline' src=\"data:image/png;base64,iVBORw0KGgoAAAANSUhEUgAAAHAAAABwCAAAAADji6uXAAAABGdBTUEAALGPC/xhBQAAAAFzUkdCAK7OHOkAAAAgY0hSTQAAeiYAAICEAAD6AAAAgOgAAHUwAADqYAAAOpgAABdwnLpRPAAAARhJREFUaAW9wUFOwwAQwECv5P9/eTn0UAElTVLhGYlJTGISk5jEJCYxiUlMYhKTDy3Hhu8kJjGJyU3LPRKTmMTkouWc4TWJSUxictJyznBMYhKTmJywvDecIzGJSUzeWI4N10hMYhKTA8vfhnskJjGJyQXD5yQmMYnJgQGWp+VhuE9iEpOY3LDAcI/EJCYxeWOA5bcFhuskJjGJyQkDLL8tMFwjMYlJTE4anpanBYbzJCYxiUlMYhKTmNwwwPK0PAzvSUxiEpOTlocBltcWGI5JTGISk4uWYwsMf5OYxCQmLyz/R2ISk5j8sHxmOCYxiUlMPjRcIzGJSUx+GP6XxCQmMYlJTGISk5jEJCYxiUlMYhKTmMQkJrEvpmAawI0E0F8AAAAASUVORK5C\"></td><td style='text-align:center;vertical-align:middle; margin: 0.5em;border:1px #90999f solid;border-collapse:collapse'><img style='max-width: 100px; max-height:100px;display:inline' src=\"data:image/png;base64,iVBORw0KGgoAAAANSUhEUgAAAHAAAABwCAAAAADji6uXAAAABGdBTUEAALGPC/xhBQAAAAFzUkdCAK7OHOkAAAAgY0hSTQAAeiYAAICEAAD6AAAAgOgAAHUwAADqYAAAOpgAABdwnLpRPAAAAQNJREFUaAW9wTFuw0AQwEAuwP9/+VK4CixZylnhjMQkJjGJSUxiEpOYxCQmMYlJTGISk5hsWpwbzklMYhKTDYvPFjAck5jEJCZ/sPiexCQmMblh8RyJSUxismE4trgmMYlJTC4sfhu+IzGJSUxOLN4N35OYxCQmBxbvhs8W90hMYhKTC8OzJCYxick/GM5JTGISkwcs7pOYxCQmmxZ7JCYxicnDhs8kJjGJyU2La8M1iUlMYnJggMXL4p7hHolJTGLygOE+iUlMYhKTmMQkJl8Y/k5iEpOYnBheFseGPRKTmMRkw7BPYhKTmFwYniUxiUlMYhKTmMQkJjGJSUxiEpOYxH4A58URw47uoDUAAAAASUVORK5C\"></td><td style='text-align:center;vertical-align:middle; margin: 0.5em;border:1px #90999f solid;border-collapse:collapse'><img style='max-width: 100px; max-height:100px;display:inline' src=\"data:image/png;base64,iVBORw0KGgoAAAANSUhEUgAAAHAAAABwCAAAAADji6uXAAAABGdBTUEAALGPC/xhBQAAAAFzUkdCAK7OHOkAAAAgY0hSTQAAeiYAAICEAAD6AAAAgOgAAHUwAADqYAAAOpgAABdwnLpRPAAAAOBJREFUaAW9wUEOglAUwMC+pPe/8ndJSBBFoTMSk5jEJCYxiUlMYhKTmMQkJh8sNsP/JCYxiUlMYhKTmMQkJjGJSUxiEpOYxCQmMYlJTGISk5jEJCYxiUlMYhKTmPxpcW7Yk5jEJCYXLK5bwLCRmMQkJicW1wybxTGJSUxi8oPhdxKTmMTkjcXecA+JSUxiEpOYxCQmXxjuIzGJSUweNuxJTGISk5jEJCYxObB4jsQkJjH5YLiXxCQmMXnIcExiEpOYHBieIzGJSUxiEpOYxCQmMYlJTGISk5jEJCYxiUnsBR1SCcScxkxGAAAAAElFTkSuQmCC\"></td><td style='text-align:center;vertical-align:middle; margin: 0.5em;border:1px #90999f solid;border-collapse:collapse'><img style='max-width: 100px; max-height:100px;display:inline' src=\"data:image/png;base64,iVBORw0KGgoAAAANSUhEUgAAAHAAAABwCAAAAADji6uXAAAABGdBTUEAALGPC/xhBQAAAAFzUkdCAK7OHOkAAAAgY0hSTQAAeiYAAICEAAD6AAAAgOgAAHUwAADqYAAAOpgAABdwnLpRPAAAAOZJREFUaAW9wUGOg0AQwEC35P9/eXKO2GxgIK6SmMQkJjGJSUxiEpOYxCQmMblp8W74n8QkJjGJSUxiEpOYxCQmMdm02CMxiUlMHjR8JzGJSUweMpwjMYlJTDYs9klMYhKTmMQkJjG5aHE0nCcxiUlMYhKTmMTkgsXRcI3EJCYxOWlxNFwnMYlJTGISk5jE5ITF0bBHYhKTmGwY9klMYhKTLxbPkpjEJCYfLP423CMxiUlMLhjuk5jEJCYxiUlMYnLS8AyJSUxi8sHwGxKTmMQkJjGJSUxiEpOYxCQmMYlJTGISk5jEXvC3CsSgEMRuAAAAAElFTkSuQmCC\"></td><td style='text-align:center;vertical-align:middle; margin: 0.5em;border:1px #90999f solid;border-collapse:collapse'><img style='max-width: 100px; max-height:100px;display:inline' src=\"data:image/png;base64,iVBORw0KGgoAAAANSUhEUgAAAHAAAABwCAAAAADji6uXAAAABGdBTUEAALGPC/xhBQAAAAFzUkdCAK7OHOkAAAAgY0hSTQAAeiYAAICEAAD6AAAAgOgAAHUwAADqYAAAOpgAABdwnLpRPAAAAQFJREFUaAW9wUluwwAMwEAK4P+/rB56KIJsjp1yRmISk5jE5IDl1nCexCQmMTlhgeEciUlMYnLAAMt3SExiEpODBliuk5jEJCYnLTB8TmISk5jEJCYxiUlMYhKTmJw0nCMxiUlMTlpg+JzEJCYxiUlMYhKTC5bHhuckJjGJyT9YYHhMYhKTmBy0fIfEJCYxOWB5bPizHCMxiUlMThp+LfeG5yQmMYnJG8ut4c9yb3hNYhKTmLywPLfcG96TmMQkJh9arpGYxCQmXzAcJzGJSUwuGj4jMYlJTF4Yvk9iEpOYxCQmMYlJTGISk5jEJCYxiUlMYhKTmMQkJjGJSUxiEpPYD9T9EsLiq5gXAAAAAElFTkSuQmCC\"></td><td style='text-align:center;vertical-align:middle; margin: 0.5em;border:1px #90999f solid;border-collapse:collapse'><img style='max-width: 100px; max-height:100px;display:inline' src=\"data:image/png;base64,iVBORw0KGgoAAAANSUhEUgAAAHAAAABwCAAAAADji6uXAAAABGdBTUEAALGPC/xhBQAAAAFzUkdCAK7OHOkAAAAgY0hSTQAAeiYAAICEAAD6AAAAgOgAAHUwAADqYAAAOpgAABdwnLpRPAAAAQ1JREFUaAW9wUFuwgAQwECv5P9/eXtsEZAmAXlGYhKTmMQkJjGJSUxiEpOYxCQmMYlJTGISk5jE5AuW14ZnEpOYxOSm5R6JSUxicsNyn8QkJjH5Y3k0PFs+IzGJSUwOLL8GWJ4NsJwnMYlJTE5ang2wvDa8JjGJSUz+GH4txwZYXhvek5jEJCZvDLC8t7w2HJOYxCQmBwZYzhnOkZjEJCYHlmPDdRKTmMTkguFzEpOYxOQDy6PhfxKTmMTkhuU+iUlMYnLR8hmJSUxicsHyOYlJTGLyBcN5EpOYxOTAAMt7w3USk5jE5IbhPolJTGLyj+G7JCYxiUlMYhKTmMQkJjGJSUxiEpOYxCQmMYn9AInrFsHOe5wjAAAAAElFTkSuQmCC\"></td><td style='text-align:center;vertical-align:middle; margin: 0.5em;border:1px #90999f solid;border-collapse:collapse'><img style='max-width: 100px; max-height:100px;display:inline' src=\"data:image/png;base64,iVBORw0KGgoAAAANSUhEUgAAAHAAAABwCAAAAADji6uXAAAABGdBTUEAALGPC/xhBQAAAAFzUkdCAK7OHOkAAAAgY0hSTQAAeiYAAICEAAD6AAAAgOgAAHUwAADqYAAAOpgAABdwnLpRPAAAANdJREFUaAW9wTFqwEAABDEdzP+/fKlDGjuGlTKWsYxlLGMZy1jGMpaxjGUsYxnLWMbywPXX8T8Zy1jGMpaxjGUsYxnLWMYylrGMZSwPHFy/XRzvZSxjGctYxjKWsYxlLGMZy0MH13cZy1jGMpaxjGUsYxnLWMYylrGMZSxjGctYxjKWsYxlLB9cHO9kLGMZy0cXx3MZy1jG8sLB9U3GMpaxfHS8k7GMZSwfXRzPZSxjGctYxjKWsXx0vJOxjGUsLx3fZCxjGctYxjKWsYxlLGMZy1jGMpaxH7YvCcTh0WjRAAAAAElFTkSuQmCC\"></td><td style='text-align:center;vertical-align:middle; margin: 0.5em;border:1px #90999f solid;border-collapse:collapse'><img style='max-width: 100px; max-height:100px;display:inline' src=\"data:image/png;base64,iVBORw0KGgoAAAANSUhEUgAAAHAAAABwCAAAAADji6uXAAAABGdBTUEAALGPC/xhBQAAAAFzUkdCAK7OHOkAAAAgY0hSTQAAeiYAAICEAAD6AAAAgOgAAHUwAADqYAAAOpgAABdwnLpRPAAAAP5JREFUaAW9wUFuhEAQwEC35P9/eXJeBXYgEFdJTGISk5jEJCYxiUlMYhKTmDywODcck5jEJCY3La5ZwPCbxCQmMblo8Q6JSUxicsHiPRKTmMRkY3Fu+LTYk5jEJCZ/MOwNxyQmMYnJTcO5YU9iEpOYxCQmMYnJTYtzw57EJCYxedEChu8kJjGJycYAi/dITGISky8W9wx7EpOYxOTE4rvhbyQmMYnJTcMzEpOYxOSG4TmJSUxicmBxzeLTsCcxiUlMblg8JzGJSUxiEpOYxCQmMYlJTA4MsLhuuE5iEpOYnBj+h8QkJjGJSUxiEpOYxCQmMYlJTGISk5jEJCaxH7x5EcMRGDWnAAAAAElFTkSuQmCC\"></td><td style='text-align:center;vertical-align:middle; margin: 0.5em;border:1px #90999f solid;border-collapse:collapse'><img style='max-width: 100px; max-height:100px;display:inline' src=\"data:image/png;base64,iVBORw0KGgoAAAANSUhEUgAAAHAAAABwCAAAAADji6uXAAAABGdBTUEAALGPC/xhBQAAAAFzUkdCAK7OHOkAAAAgY0hSTQAAeiYAAICEAAD6AAAAgOgAAHUwAADqYAAAOpgAABdwnLpRPAAAAMhJREFUaAW9wbENA0EMwDAZ0P4rO2Xq8wMiJSYxiUlMYhKTmMQkJjGJSUweLH/DjcQkJjGJSUxiEpOYxCQmMYlJTGISk5jEJCYxiUlMYhKTowWGdxKTmMQkJjGJSUweDLB8IzGJSUxiEpOYxCQmMYlJTGISk5jEJCYxiUlMPlhgeCMxiUlMYhKTmMQkJjGJSUxiEpOYxCQmMYlJTGISk5jE5NEAy53EJCYxORjuJCYxiUlMYhKTmMQkJjGJSUxiEpOYxCQmMYn9AFyNBsLNRdQsAAAAAElFTkSuQmCC\"></td><td style='text-align:center;vertical-align:middle; margin: 0.5em;border:1px #90999f solid;border-collapse:collapse'><img style='max-width: 100px; max-height:100px;display:inline' src=\"data:image/png;base64,iVBORw0KGgoAAAANSUhEUgAAAHAAAABwCAAAAADji6uXAAAABGdBTUEAALGPC/xhBQAAAAFzUkdCAK7OHOkAAAAgY0hSTQAAeiYAAICEAAD6AAAAgOgAAHUwAADqYAAAOpgAABdwnLpRPAAAAQhJREFUaAW9wUFuwkAQAMEeqf//5c0hB2SC8UKgqyQmMYlJTGISk5jEJCYxiUlMYhKTmMTkHxY3wx6JSUxiEpOYxCQmb1q8R2ISk5i8YXE07JOYxCQmMYlJTGKyYXFuOFr8Gh6TmMQkJh+0uCYxiUlMLiyeW7xGYhKTmFwYfi32DeckJjGJyYbF50hMYhKTC4uj4WZxNFyTmMQkJi8YbhZHwx6JSUxicmJxbnE07JOYxCQmm4bHhtdITGISkw3D50hMYhKTBxbfIzGJSUwuDH8N75OYxCQmdxbfJTGJSUyeGD5PYhKTmJwYvkNiEpOY3Bm+S2ISk5jEJCYxiUlMYhKTmMQkJjGJ/QCSfxLDf5alBwAAAABJRU5ErkJg\"></td></tr></tbody></table><div><small>(a vector displayed as a row to save space)</small></div>"
      ],
      "text/plain": [
       "10-element Vector{Base.ReinterpretArray{Gray{Float32}, 2, Float32, Matrix{Float32}, true}}:\n",
       " [Gray{Float32}(0.0f0) Gray{Float32}(0.0f0) … Gray{Float32}(0.0f0) Gray{Float32}(0.0f0); Gray{Float32}(0.0f0) Gray{Float32}(0.0f0) … Gray{Float32}(0.0f0) Gray{Float32}(0.0f0); … ; Gray{Float32}(0.0f0) Gray{Float32}(0.0f0) … Gray{Float32}(0.0f0) Gray{Float32}(0.0f0); Gray{Float32}(0.0f0) Gray{Float32}(0.0f0) … Gray{Float32}(0.0f0) Gray{Float32}(0.0f0)]\n",
       " [Gray{Float32}(0.0f0) Gray{Float32}(0.0f0) … Gray{Float32}(0.0f0) Gray{Float32}(0.0f0); Gray{Float32}(0.0f0) Gray{Float32}(0.0f0) … Gray{Float32}(0.0f0) Gray{Float32}(0.0f0); … ; Gray{Float32}(0.0f0) Gray{Float32}(0.0f0) … Gray{Float32}(0.0f0) Gray{Float32}(0.0f0); Gray{Float32}(0.0f0) Gray{Float32}(0.0f0) … Gray{Float32}(0.0f0) Gray{Float32}(0.0f0)]\n",
       " [Gray{Float32}(0.0f0) Gray{Float32}(0.0f0) … Gray{Float32}(0.0f0) Gray{Float32}(0.0f0); Gray{Float32}(0.0f0) Gray{Float32}(0.0f0) … Gray{Float32}(0.0f0) Gray{Float32}(0.0f0); … ; Gray{Float32}(0.0f0) Gray{Float32}(0.0f0) … Gray{Float32}(0.0f0) Gray{Float32}(0.0f0); Gray{Float32}(0.0f0) Gray{Float32}(0.0f0) … Gray{Float32}(0.0f0) Gray{Float32}(0.0f0)]\n",
       " [Gray{Float32}(0.0f0) Gray{Float32}(0.0f0) … Gray{Float32}(0.0f0) Gray{Float32}(0.0f0); Gray{Float32}(0.0f0) Gray{Float32}(0.0f0) … Gray{Float32}(0.0f0) Gray{Float32}(0.0f0); … ; Gray{Float32}(0.0f0) Gray{Float32}(0.0f0) … Gray{Float32}(0.0f0) Gray{Float32}(0.0f0); Gray{Float32}(0.0f0) Gray{Float32}(0.0f0) … Gray{Float32}(0.0f0) Gray{Float32}(0.0f0)]\n",
       " [Gray{Float32}(0.0f0) Gray{Float32}(0.0f0) … Gray{Float32}(0.0f0) Gray{Float32}(0.0f0); Gray{Float32}(0.0f0) Gray{Float32}(0.0f0) … Gray{Float32}(0.0f0) Gray{Float32}(0.0f0); … ; Gray{Float32}(0.0f0) Gray{Float32}(0.0f0) … Gray{Float32}(0.0f0) Gray{Float32}(0.0f0); Gray{Float32}(0.0f0) Gray{Float32}(0.0f0) … Gray{Float32}(0.0f0) Gray{Float32}(0.0f0)]\n",
       " [Gray{Float32}(0.0f0) Gray{Float32}(0.0f0) … Gray{Float32}(0.0f0) Gray{Float32}(0.0f0); Gray{Float32}(0.0f0) Gray{Float32}(0.0f0) … Gray{Float32}(0.0f0) Gray{Float32}(0.0f0); … ; Gray{Float32}(0.0f0) Gray{Float32}(0.0f0) … Gray{Float32}(0.0f0) Gray{Float32}(0.0f0); Gray{Float32}(0.0f0) Gray{Float32}(0.0f0) … Gray{Float32}(0.0f0) Gray{Float32}(0.0f0)]\n",
       " [Gray{Float32}(0.0f0) Gray{Float32}(0.0f0) … Gray{Float32}(0.0f0) Gray{Float32}(0.0f0); Gray{Float32}(0.0f0) Gray{Float32}(0.0f0) … Gray{Float32}(0.0f0) Gray{Float32}(0.0f0); … ; Gray{Float32}(0.0f0) Gray{Float32}(0.0f0) … Gray{Float32}(0.0f0) Gray{Float32}(0.0f0); Gray{Float32}(0.0f0) Gray{Float32}(0.0f0) … Gray{Float32}(0.0f0) Gray{Float32}(0.0f0)]\n",
       " [Gray{Float32}(0.0f0) Gray{Float32}(0.0f0) … Gray{Float32}(0.0f0) Gray{Float32}(0.0f0); Gray{Float32}(0.0f0) Gray{Float32}(0.0f0) … Gray{Float32}(0.0f0) Gray{Float32}(0.0f0); … ; Gray{Float32}(0.0f0) Gray{Float32}(0.0f0) … Gray{Float32}(0.0f0) Gray{Float32}(0.0f0); Gray{Float32}(0.0f0) Gray{Float32}(0.0f0) … Gray{Float32}(0.0f0) Gray{Float32}(0.0f0)]\n",
       " [Gray{Float32}(0.0f0) Gray{Float32}(0.0f0) … Gray{Float32}(0.0f0) Gray{Float32}(0.0f0); Gray{Float32}(0.0f0) Gray{Float32}(0.0f0) … Gray{Float32}(0.0f0) Gray{Float32}(0.0f0); … ; Gray{Float32}(0.0f0) Gray{Float32}(0.0f0) … Gray{Float32}(0.0f0) Gray{Float32}(0.0f0); Gray{Float32}(0.0f0) Gray{Float32}(0.0f0) … Gray{Float32}(0.0f0) Gray{Float32}(0.0f0)]\n",
       " [Gray{Float32}(0.0f0) Gray{Float32}(0.0f0) … Gray{Float32}(0.0f0) Gray{Float32}(0.0f0); Gray{Float32}(0.0f0) Gray{Float32}(0.0f0) … Gray{Float32}(0.0f0) Gray{Float32}(0.0f0); … ; Gray{Float32}(0.0f0) Gray{Float32}(0.0f0) … Gray{Float32}(0.0f0) Gray{Float32}(0.0f0); Gray{Float32}(0.0f0) Gray{Float32}(0.0f0) … Gray{Float32}(0.0f0) Gray{Float32}(0.0f0)]"
      ]
     },
     "metadata": {},
     "output_type": "display_data"
    }
   ],
   "source": [
    "img_reverse_flat = reverse(img_flat, dims=2)\n",
    "img_reverse = [reshape(img_reverse_flat[i,:], (28,28))' for i in 1:num_img]\n",
    "[colorview(Gray, Float32.(img_reverse[i])) for i in 1:num_img]"
   ]
  },
  {
   "cell_type": "markdown",
   "id": "42848d50",
   "metadata": {
    "colab_type": "text",
    "id": "7PP8w2NqrRC3"
   },
   "source": [
    "Our new training data will have 60000 samples and 2 features: intensity, symmetry."
   ]
  },
  {
   "cell_type": "code",
   "execution_count": 9,
   "id": "d544a8b6",
   "metadata": {},
   "outputs": [
    {
     "data": {
      "text/plain": [
       "(60000, 2)"
      ]
     },
     "metadata": {},
     "output_type": "display_data"
    }
   ],
   "source": [
    "#TODO create X_new by horizontal stack intensity and symmetry\n",
    "train_x_new = hcat(intensity, symmetry)\n",
    "size(train_x_new)"
   ]
  },
  {
   "cell_type": "markdown",
   "id": "d2457f30",
   "metadata": {
    "colab_type": "text",
    "id": "M3_pISperRDF"
   },
   "source": [
    "## 2. Training "
   ]
  },
  {
   "cell_type": "markdown",
   "id": "94cac8eb",
   "metadata": {
    "colab_type": "text",
    "id": "6-AXlZ4DrRDG"
   },
   "source": [
    "Usually logistic regression is a good first choice for classification. In this homework we use logistic regression for classifying digit 1 images and not digit 1's images."
   ]
  },
  {
   "cell_type": "markdown",
   "id": "bb6ac92a",
   "metadata": {
    "colab_type": "text",
    "id": "0pprRrTyrRDH"
   },
   "source": [
    "### Normalize data\n",
    "\n",
    "In data process, you will first process training data. The parameter obtained in the process will be reused for processing test set\n",
    "\n",
    "First normalize data using Z-score normalization\n",
    "- **TODO: Study about Z-score normalization**\n",
    "    - Z-score (also called standard score) is a measure of how many std below or above the mean a raw data is.\n",
    "    - Equation: $z = \\frac{x - \\bar{A}}{\\sigma}$\n",
    "    - $\\bar{A}$ is mean\n",
    "    - ${\\sigma}$ is standard deviation\n",
    "- **TODO: Why should we normalize data?**"
   ]
  },
  {
   "cell_type": "code",
   "execution_count": 10,
   "id": "63b44763",
   "metadata": {},
   "outputs": [
    {
     "data": {
      "image/png": "[encoded data removed]",
      "image/svg+xml": "<?xml version=\"1.0\" encoding=\"utf-8\"?>\n<svg xmlns=\"http://www.w3.org/2000/svg\" xmlns:xlink=\"http://www.w3.org/1999/xlink\" width=\"600\" height=\"400\" viewBox=\"0 0 2400 1600\">\n<defs>\n  <clipPath id=\"clip070\">\n    <rect x=\"0\" y=\"0\" width=\"2400\" height=\"1600\"/>\n  </clipPath>\n</defs>\n<path clip-path=\"url(#clip070)\" d=\"\nM0 1600 L2400 1600 L2400 0 L0 0  Z\n  \" fill=\"#ffffff\" fill-rule=\"evenodd\" fill-opacity=\"1\"/>\n<defs>\n  <clipPath id=\"clip071\">\n    <rect x=\"480\" y=\"0\" width=\"1681\" height=\"1600\"/>\n  </clipPath>\n</defs>\n<path clip-path=\"url(#clip070)\" d=\"\nM193.288 1486.45 L2352.76 1486.45 L2352.76 47.2441 L193.288 47.2441  Z\n  \" fill=\"#ffffff\" fill-rule=\"evenodd\" fill-opacity=\"1\"/>\n<defs>\n  <clipPath id=\"clip072\">\n    <rect x=\"193\" y=\"47\" width=\"2160\" height=\"1440\"/>\n  </clipPath>\n</defs>\n<polyline clip-path=\"url(#clip072)\" style=\"stroke:#000000; stroke-linecap:round; stroke-linejoin:round; stroke-width:2; stroke-opacity:0.1; fill:none\" points=\"\n  390.508,1486.45 390.508,47.2441 \n  \"/>\n<polyline clip-path=\"url(#clip072)\" style=\"stroke:#000000; stroke-linecap:round; stroke-linejoin:round; stroke-width:2; stroke-opacity:0.1; fill:none\" points=\"\n  880.794,1486.45 880.794,47.2441 \n  \"/>\n<polyline clip-path=\"url(#clip072)\" style=\"stroke:#000000; stroke-linecap:round; stroke-linejoin:round; stroke-width:2; stroke-opacity:0.1; fill:none\" points=\"\n  1371.08,1486.45 1371.08,47.2441 \n  \"/>\n<polyline clip-path=\"url(#clip072)\" style=\"stroke:#000000; stroke-linecap:round; stroke-linejoin:round; stroke-width:2; stroke-opacity:0.1; fill:none\" points=\"\n  1861.36,1486.45 1861.36,47.2441 \n  \"/>\n<polyline clip-path=\"url(#clip072)\" style=\"stroke:#000000; stroke-linecap:round; stroke-linejoin:round; stroke-width:2; stroke-opacity:0.1; fill:none\" points=\"\n  2351.65,1486.45 2351.65,47.2441 \n  \"/>\n<polyline clip-path=\"url(#clip070)\" style=\"stroke:#000000; stroke-linecap:round; stroke-linejoin:round; stroke-width:4; stroke-opacity:1; fill:none\" points=\"\n  193.288,1486.45 2352.76,1486.45 \n  \"/>\n<polyline clip-path=\"url(#clip070)\" style=\"stroke:#000000; stroke-linecap:round; stroke-linejoin:round; stroke-width:4; stroke-opacity:1; fill:none\" points=\"\n  390.508,1486.45 390.508,1467.55 \n  \"/>\n<polyline clip-path=\"url(#clip070)\" style=\"stroke:#000000; stroke-linecap:round; stroke-linejoin:round; stroke-width:4; stroke-opacity:1; fill:none\" points=\"\n  880.794,1486.45 880.794,1467.55 \n  \"/>\n<polyline clip-path=\"url(#clip070)\" style=\"stroke:#000000; stroke-linecap:round; stroke-linejoin:round; stroke-width:4; stroke-opacity:1; fill:none\" points=\"\n  1371.08,1486.45 1371.08,1467.55 \n  \"/>\n<polyline clip-path=\"url(#clip070)\" style=\"stroke:#000000; stroke-linecap:round; stroke-linejoin:round; stroke-width:4; stroke-opacity:1; fill:none\" points=\"\n  1861.36,1486.45 1861.36,1467.55 \n  \"/>\n<polyline clip-path=\"url(#clip070)\" style=\"stroke:#000000; stroke-linecap:round; stroke-linejoin:round; stroke-width:4; stroke-opacity:1; fill:none\" points=\"\n  2351.65,1486.45 2351.65,1467.55 \n  \"/>\n<path clip-path=\"url(#clip070)\" d=\"M367.892 1517.37 Q364.281 1517.37 362.453 1520.93 Q360.647 1524.47 360.647 1531.6 Q360.647 1538.71 362.453 1542.27 Q364.281 1545.82 367.892 1545.82 Q371.527 1545.82 373.332 1542.27 Q375.161 1538.71 375.161 1531.6 Q375.161 1524.47 373.332 1520.93 Q371.527 1517.37 367.892 1517.37 M367.892 1513.66 Q373.703 1513.66 376.758 1518.27 Q379.837 1522.85 379.837 1531.6 Q379.837 1540.33 376.758 1544.94 Q373.703 1549.52 367.892 1549.52 Q362.082 1549.52 359.004 1544.94 Q355.948 1540.33 355.948 1531.6 Q355.948 1522.85 359.004 1518.27 Q362.082 1513.66 367.892 1513.66 Z\" fill=\"#000000\" fill-rule=\"evenodd\" fill-opacity=\"1\" /><path clip-path=\"url(#clip070)\" d=\"M388.054 1542.97 L392.939 1542.97 L392.939 1548.85 L388.054 1548.85 L388.054 1542.97 Z\" fill=\"#000000\" fill-rule=\"evenodd\" fill-opacity=\"1\" /><path clip-path=\"url(#clip070)\" d=\"M413.124 1517.37 Q409.513 1517.37 407.684 1520.93 Q405.878 1524.47 405.878 1531.6 Q405.878 1538.71 407.684 1542.27 Q409.513 1545.82 413.124 1545.82 Q416.758 1545.82 418.564 1542.27 Q420.392 1538.71 420.392 1531.6 Q420.392 1524.47 418.564 1520.93 Q416.758 1517.37 413.124 1517.37 M413.124 1513.66 Q418.934 1513.66 421.989 1518.27 Q425.068 1522.85 425.068 1531.6 Q425.068 1540.33 421.989 1544.94 Q418.934 1549.52 413.124 1549.52 Q407.314 1549.52 404.235 1544.94 Q401.179 1540.33 401.179 1531.6 Q401.179 1522.85 404.235 1518.27 Q407.314 1513.66 413.124 1513.66 Z\" fill=\"#000000\" fill-rule=\"evenodd\" fill-opacity=\"1\" /><path clip-path=\"url(#clip070)\" d=\"M852.53 1544.91 L868.849 1544.91 L868.849 1548.85 L846.905 1548.85 L846.905 1544.91 Q849.567 1542.16 854.15 1537.53 Q858.757 1532.88 859.937 1531.53 Q862.183 1529.01 863.062 1527.27 Q863.965 1525.51 863.965 1523.82 Q863.965 1521.07 862.02 1519.33 Q860.099 1517.6 856.997 1517.6 Q854.798 1517.6 852.345 1518.36 Q849.914 1519.13 847.136 1520.68 L847.136 1515.95 Q849.96 1514.82 852.414 1514.24 Q854.868 1513.66 856.905 1513.66 Q862.275 1513.66 865.47 1516.35 Q868.664 1519.03 868.664 1523.52 Q868.664 1525.65 867.854 1527.57 Q867.067 1529.47 864.96 1532.07 Q864.382 1532.74 861.28 1535.95 Q858.178 1539.15 852.53 1544.91 Z\" fill=\"#000000\" fill-rule=\"evenodd\" fill-opacity=\"1\" /><path clip-path=\"url(#clip070)\" d=\"M878.664 1542.97 L883.548 1542.97 L883.548 1548.85 L878.664 1548.85 L878.664 1542.97 Z\" fill=\"#000000\" fill-rule=\"evenodd\" fill-opacity=\"1\" /><path clip-path=\"url(#clip070)\" d=\"M893.78 1514.29 L912.136 1514.29 L912.136 1518.22 L898.062 1518.22 L898.062 1526.7 Q899.08 1526.35 900.099 1526.19 Q901.118 1526 902.136 1526 Q907.923 1526 911.303 1529.17 Q914.682 1532.34 914.682 1537.76 Q914.682 1543.34 911.21 1546.44 Q907.738 1549.52 901.418 1549.52 Q899.243 1549.52 896.974 1549.15 Q894.729 1548.78 892.321 1548.04 L892.321 1543.34 Q894.405 1544.47 896.627 1545.03 Q898.849 1545.58 901.326 1545.58 Q905.33 1545.58 907.668 1543.48 Q910.006 1541.37 910.006 1537.76 Q910.006 1534.15 907.668 1532.04 Q905.33 1529.94 901.326 1529.94 Q899.451 1529.94 897.576 1530.35 Q895.724 1530.77 893.78 1531.65 L893.78 1514.29 Z\" fill=\"#000000\" fill-rule=\"evenodd\" fill-opacity=\"1\" /><path clip-path=\"url(#clip070)\" d=\"M1338.24 1514.29 L1356.6 1514.29 L1356.6 1518.22 L1342.53 1518.22 L1342.53 1526.7 Q1343.54 1526.35 1344.56 1526.19 Q1345.58 1526 1346.6 1526 Q1352.39 1526 1355.77 1529.17 Q1359.15 1532.34 1359.15 1537.76 Q1359.15 1543.34 1355.67 1546.44 Q1352.2 1549.52 1345.88 1549.52 Q1343.71 1549.52 1341.44 1549.15 Q1339.19 1548.78 1336.79 1548.04 L1336.79 1543.34 Q1338.87 1544.47 1341.09 1545.03 Q1343.31 1545.58 1345.79 1545.58 Q1349.79 1545.58 1352.13 1543.48 Q1354.47 1541.37 1354.47 1537.76 Q1354.47 1534.15 1352.13 1532.04 Q1349.79 1529.94 1345.79 1529.94 Q1343.91 1529.94 1342.04 1530.35 Q1340.19 1530.77 1338.24 1531.65 L1338.24 1514.29 Z\" fill=\"#000000\" fill-rule=\"evenodd\" fill-opacity=\"1\" /><path clip-path=\"url(#clip070)\" d=\"M1368.36 1542.97 L1373.24 1542.97 L1373.24 1548.85 L1368.36 1548.85 L1368.36 1542.97 Z\" fill=\"#000000\" fill-rule=\"evenodd\" fill-opacity=\"1\" /><path clip-path=\"url(#clip070)\" d=\"M1393.43 1517.37 Q1389.82 1517.37 1387.99 1520.93 Q1386.18 1524.47 1386.18 1531.6 Q1386.18 1538.71 1387.99 1542.27 Q1389.82 1545.82 1393.43 1545.82 Q1397.06 1545.82 1398.87 1542.27 Q1400.7 1538.71 1400.7 1531.6 Q1400.7 1524.47 1398.87 1520.93 Q1397.06 1517.37 1393.43 1517.37 M1393.43 1513.66 Q1399.24 1513.66 1402.29 1518.27 Q1405.37 1522.85 1405.37 1531.6 Q1405.37 1540.33 1402.29 1544.94 Q1399.24 1549.52 1393.43 1549.52 Q1387.62 1549.52 1384.54 1544.94 Q1381.48 1540.33 1381.48 1531.6 Q1381.48 1522.85 1384.54 1518.27 Q1387.62 1513.66 1393.43 1513.66 Z\" fill=\"#000000\" fill-rule=\"evenodd\" fill-opacity=\"1\" /><path clip-path=\"url(#clip070)\" d=\"M1827.68 1514.29 L1849.91 1514.29 L1849.91 1516.28 L1837.36 1548.85 L1832.48 1548.85 L1844.28 1518.22 L1827.68 1518.22 L1827.68 1514.29 Z\" fill=\"#000000\" fill-rule=\"evenodd\" fill-opacity=\"1\" /><path clip-path=\"url(#clip070)\" d=\"M1859.03 1542.97 L1863.91 1542.97 L1863.91 1548.85 L1859.03 1548.85 L1859.03 1542.97 Z\" fill=\"#000000\" fill-rule=\"evenodd\" fill-opacity=\"1\" /><path clip-path=\"url(#clip070)\" d=\"M1874.14 1514.29 L1892.5 1514.29 L1892.5 1518.22 L1878.42 1518.22 L1878.42 1526.7 Q1879.44 1526.35 1880.46 1526.19 Q1881.48 1526 1882.5 1526 Q1888.29 1526 1891.67 1529.17 Q1895.04 1532.34 1895.04 1537.76 Q1895.04 1543.34 1891.57 1546.44 Q1888.1 1549.52 1881.78 1549.52 Q1879.61 1549.52 1877.34 1549.15 Q1875.09 1548.78 1872.68 1548.04 L1872.68 1543.34 Q1874.77 1544.47 1876.99 1545.03 Q1879.21 1545.58 1881.69 1545.58 Q1885.69 1545.58 1888.03 1543.48 Q1890.37 1541.37 1890.37 1537.76 Q1890.37 1534.15 1888.03 1532.04 Q1885.69 1529.94 1881.69 1529.94 Q1879.81 1529.94 1877.94 1530.35 Q1876.09 1530.77 1874.14 1531.65 L1874.14 1514.29 Z\" fill=\"#000000\" fill-rule=\"evenodd\" fill-opacity=\"1\" /><path clip-path=\"url(#clip070)\" d=\"M2303.72 1544.91 L2311.36 1544.91 L2311.36 1518.55 L2303.05 1520.21 L2303.05 1515.95 L2311.31 1514.29 L2315.99 1514.29 L2315.99 1544.91 L2323.63 1544.91 L2323.63 1548.85 L2303.72 1548.85 L2303.72 1544.91 Z\" fill=\"#000000\" fill-rule=\"evenodd\" fill-opacity=\"1\" /><path clip-path=\"url(#clip070)\" d=\"M2343.07 1517.37 Q2339.46 1517.37 2337.63 1520.93 Q2335.83 1524.47 2335.83 1531.6 Q2335.83 1538.71 2337.63 1542.27 Q2339.46 1545.82 2343.07 1545.82 Q2346.71 1545.82 2348.51 1542.27 Q2350.34 1538.71 2350.34 1531.6 Q2350.34 1524.47 2348.51 1520.93 Q2346.71 1517.37 2343.07 1517.37 M2343.07 1513.66 Q2348.88 1513.66 2351.94 1518.27 Q2355.02 1522.85 2355.02 1531.6 Q2355.02 1540.33 2351.94 1544.94 Q2348.88 1549.52 2343.07 1549.52 Q2337.26 1549.52 2334.18 1544.94 Q2331.13 1540.33 2331.13 1531.6 Q2331.13 1522.85 2334.18 1518.27 Q2337.26 1513.66 2343.07 1513.66 Z\" fill=\"#000000\" fill-rule=\"evenodd\" fill-opacity=\"1\" /><path clip-path=\"url(#clip070)\" d=\"M2363.24 1542.97 L2368.12 1542.97 L2368.12 1548.85 L2363.24 1548.85 L2363.24 1542.97 Z\" fill=\"#000000\" fill-rule=\"evenodd\" fill-opacity=\"1\" /><path clip-path=\"url(#clip070)\" d=\"M2388.3 1517.37 Q2384.69 1517.37 2382.86 1520.93 Q2381.06 1524.47 2381.06 1531.6 Q2381.06 1538.71 2382.86 1542.27 Q2384.69 1545.82 2388.3 1545.82 Q2391.94 1545.82 2393.74 1542.27 Q2395.57 1538.71 2395.57 1531.6 Q2395.57 1524.47 2393.74 1520.93 Q2391.94 1517.37 2388.3 1517.37 M2388.3 1513.66 Q2394.11 1513.66 2397.17 1518.27 Q2400.25 1522.85 2400.25 1531.6 Q2400.25 1540.33 2397.17 1544.94 Q2394.11 1549.52 2388.3 1549.52 Q2382.49 1549.52 2379.42 1544.94 Q2376.36 1540.33 2376.36 1531.6 Q2376.36 1522.85 2379.42 1518.27 Q2382.49 1513.66 2388.3 1513.66 Z\" fill=\"#000000\" fill-rule=\"evenodd\" fill-opacity=\"1\" /><polyline clip-path=\"url(#clip072)\" style=\"stroke:#000000; stroke-linecap:round; stroke-linejoin:round; stroke-width:2; stroke-opacity:0.1; fill:none\" points=\"\n  193.288,1344.36 2352.76,1344.36 \n  \"/>\n<polyline clip-path=\"url(#clip072)\" style=\"stroke:#000000; stroke-linecap:round; stroke-linejoin:round; stroke-width:2; stroke-opacity:0.1; fill:none\" points=\"\n  193.288,1132.61 2352.76,1132.61 \n  \"/>\n<polyline clip-path=\"url(#clip072)\" style=\"stroke:#000000; stroke-linecap:round; stroke-linejoin:round; stroke-width:2; stroke-opacity:0.1; fill:none\" points=\"\n  193.288,920.865 2352.76,920.865 \n  \"/>\n<polyline clip-path=\"url(#clip072)\" style=\"stroke:#000000; stroke-linecap:round; stroke-linejoin:round; stroke-width:2; stroke-opacity:0.1; fill:none\" points=\"\n  193.288,709.119 2352.76,709.119 \n  \"/>\n<polyline clip-path=\"url(#clip072)\" style=\"stroke:#000000; stroke-linecap:round; stroke-linejoin:round; stroke-width:2; stroke-opacity:0.1; fill:none\" points=\"\n  193.288,497.372 2352.76,497.372 \n  \"/>\n<polyline clip-path=\"url(#clip072)\" style=\"stroke:#000000; stroke-linecap:round; stroke-linejoin:round; stroke-width:2; stroke-opacity:0.1; fill:none\" points=\"\n  193.288,285.626 2352.76,285.626 \n  \"/>\n<polyline clip-path=\"url(#clip072)\" style=\"stroke:#000000; stroke-linecap:round; stroke-linejoin:round; stroke-width:2; stroke-opacity:0.1; fill:none\" points=\"\n  193.288,73.8793 2352.76,73.8793 \n  \"/>\n<polyline clip-path=\"url(#clip070)\" style=\"stroke:#000000; stroke-linecap:round; stroke-linejoin:round; stroke-width:4; stroke-opacity:1; fill:none\" points=\"\n  193.288,1486.45 193.288,47.2441 \n  \"/>\n<polyline clip-path=\"url(#clip070)\" style=\"stroke:#000000; stroke-linecap:round; stroke-linejoin:round; stroke-width:4; stroke-opacity:1; fill:none\" points=\"\n  193.288,1344.36 212.185,1344.36 \n  \"/>\n<polyline clip-path=\"url(#clip070)\" style=\"stroke:#000000; stroke-linecap:round; stroke-linejoin:round; stroke-width:4; stroke-opacity:1; fill:none\" points=\"\n  193.288,1132.61 212.185,1132.61 \n  \"/>\n<polyline clip-path=\"url(#clip070)\" style=\"stroke:#000000; stroke-linecap:round; stroke-linejoin:round; stroke-width:4; stroke-opacity:1; fill:none\" points=\"\n  193.288,920.865 212.185,920.865 \n  \"/>\n<polyline clip-path=\"url(#clip070)\" style=\"stroke:#000000; stroke-linecap:round; stroke-linejoin:round; stroke-width:4; stroke-opacity:1; fill:none\" points=\"\n  193.288,709.119 212.185,709.119 \n  \"/>\n<polyline clip-path=\"url(#clip070)\" style=\"stroke:#000000; stroke-linecap:round; stroke-linejoin:round; stroke-width:4; stroke-opacity:1; fill:none\" points=\"\n  193.288,497.372 212.185,497.372 \n  \"/>\n<polyline clip-path=\"url(#clip070)\" style=\"stroke:#000000; stroke-linecap:round; stroke-linejoin:round; stroke-width:4; stroke-opacity:1; fill:none\" points=\"\n  193.288,285.626 212.185,285.626 \n  \"/>\n<polyline clip-path=\"url(#clip070)\" style=\"stroke:#000000; stroke-linecap:round; stroke-linejoin:round; stroke-width:4; stroke-opacity:1; fill:none\" points=\"\n  193.288,73.8793 212.185,73.8793 \n  \"/>\n<path clip-path=\"url(#clip070)\" d=\"M50.9921 1344.81 L80.6679 1344.81 L80.6679 1348.74 L50.9921 1348.74 L50.9921 1344.81 Z\" fill=\"#000000\" fill-rule=\"evenodd\" fill-opacity=\"1\" /><path clip-path=\"url(#clip070)\" d=\"M100.76 1330.16 Q97.1493 1330.16 95.3206 1333.72 Q93.515 1337.26 93.515 1344.39 Q93.515 1351.5 95.3206 1355.06 Q97.1493 1358.61 100.76 1358.61 Q104.395 1358.61 106.2 1355.06 Q108.029 1351.5 108.029 1344.39 Q108.029 1337.26 106.2 1333.72 Q104.395 1330.16 100.76 1330.16 M100.76 1326.45 Q106.571 1326.45 109.626 1331.06 Q112.705 1335.64 112.705 1344.39 Q112.705 1353.12 109.626 1357.73 Q106.571 1362.31 100.76 1362.31 Q94.9502 1362.31 91.8715 1357.73 Q88.816 1353.12 88.816 1344.39 Q88.816 1335.64 91.8715 1331.06 Q94.9502 1326.45 100.76 1326.45 Z\" fill=\"#000000\" fill-rule=\"evenodd\" fill-opacity=\"1\" /><path clip-path=\"url(#clip070)\" d=\"M120.922 1355.76 L125.807 1355.76 L125.807 1361.64 L120.922 1361.64 L120.922 1355.76 Z\" fill=\"#000000\" fill-rule=\"evenodd\" fill-opacity=\"1\" /><path clip-path=\"url(#clip070)\" d=\"M150.158 1343 Q153.515 1343.72 155.39 1345.99 Q157.288 1348.26 157.288 1351.59 Q157.288 1356.71 153.769 1359.51 Q150.251 1362.31 143.769 1362.31 Q141.593 1362.31 139.279 1361.87 Q136.987 1361.45 134.533 1360.6 L134.533 1356.08 Q136.478 1357.22 138.793 1357.8 Q141.107 1358.37 143.631 1358.37 Q148.029 1358.37 150.32 1356.64 Q152.635 1354.9 152.635 1351.59 Q152.635 1348.54 150.482 1346.82 Q148.353 1345.09 144.533 1345.09 L140.506 1345.09 L140.506 1341.24 L144.718 1341.24 Q148.168 1341.24 149.996 1339.88 Q151.825 1338.49 151.825 1335.9 Q151.825 1333.24 149.927 1331.82 Q148.052 1330.39 144.533 1330.39 Q142.612 1330.39 140.413 1330.81 Q138.214 1331.22 135.575 1332.1 L135.575 1327.93 Q138.237 1327.19 140.552 1326.82 Q142.89 1326.45 144.95 1326.45 Q150.274 1326.45 153.376 1328.88 Q156.478 1331.29 156.478 1335.41 Q156.478 1338.28 154.834 1340.27 Q153.191 1342.24 150.158 1343 Z\" fill=\"#000000\" fill-rule=\"evenodd\" fill-opacity=\"1\" /><path clip-path=\"url(#clip070)\" d=\"M51.9412 1133.06 L81.617 1133.06 L81.617 1137 L51.9412 1137 L51.9412 1133.06 Z\" fill=\"#000000\" fill-rule=\"evenodd\" fill-opacity=\"1\" /><path clip-path=\"url(#clip070)\" d=\"M101.709 1118.41 Q98.0984 1118.41 96.2697 1121.98 Q94.4641 1125.52 94.4641 1132.65 Q94.4641 1139.75 96.2697 1143.32 Q98.0984 1146.86 101.709 1146.86 Q105.344 1146.86 107.149 1143.32 Q108.978 1139.75 108.978 1132.65 Q108.978 1125.52 107.149 1121.98 Q105.344 1118.41 101.709 1118.41 M101.709 1114.71 Q107.52 1114.71 110.575 1119.31 Q113.654 1123.9 113.654 1132.65 Q113.654 1141.37 110.575 1145.98 Q107.52 1150.56 101.709 1150.56 Q95.8993 1150.56 92.8206 1145.98 Q89.7651 1141.37 89.7651 1132.65 Q89.7651 1123.9 92.8206 1119.31 Q95.8993 1114.71 101.709 1114.71 Z\" fill=\"#000000\" fill-rule=\"evenodd\" fill-opacity=\"1\" /><path clip-path=\"url(#clip070)\" d=\"M121.871 1144.01 L126.756 1144.01 L126.756 1149.89 L121.871 1149.89 L121.871 1144.01 Z\" fill=\"#000000\" fill-rule=\"evenodd\" fill-opacity=\"1\" /><path clip-path=\"url(#clip070)\" d=\"M140.968 1145.96 L157.288 1145.96 L157.288 1149.89 L135.344 1149.89 L135.344 1145.96 Q138.006 1143.2 142.589 1138.57 Q147.195 1133.92 148.376 1132.58 Q150.621 1130.05 151.501 1128.32 Q152.404 1126.56 152.404 1124.87 Q152.404 1122.11 150.459 1120.38 Q148.538 1118.64 145.436 1118.64 Q143.237 1118.64 140.783 1119.41 Q138.353 1120.17 135.575 1121.72 L135.575 1117 Q138.399 1115.86 140.853 1115.29 Q143.306 1114.71 145.343 1114.71 Q150.714 1114.71 153.908 1117.39 Q157.103 1120.08 157.103 1124.57 Q157.103 1126.7 156.292 1128.62 Q155.505 1130.52 153.399 1133.11 Q152.82 1133.78 149.718 1137 Q146.617 1140.19 140.968 1145.96 Z\" fill=\"#000000\" fill-rule=\"evenodd\" fill-opacity=\"1\" /><path clip-path=\"url(#clip070)\" d=\"M51.5708 921.317 L81.2466 921.317 L81.2466 925.252 L51.5708 925.252 L51.5708 921.317 Z\" fill=\"#000000\" fill-rule=\"evenodd\" fill-opacity=\"1\" /><path clip-path=\"url(#clip070)\" d=\"M101.339 906.664 Q97.728 906.664 95.8993 910.229 Q94.0937 913.77 94.0937 920.9 Q94.0937 928.006 95.8993 931.571 Q97.728 935.113 101.339 935.113 Q104.973 935.113 106.779 931.571 Q108.608 928.006 108.608 920.9 Q108.608 913.77 106.779 910.229 Q104.973 906.664 101.339 906.664 M101.339 902.96 Q107.149 902.96 110.205 907.567 Q113.283 912.15 113.283 920.9 Q113.283 929.627 110.205 934.233 Q107.149 938.817 101.339 938.817 Q95.5289 938.817 92.4502 934.233 Q89.3947 929.627 89.3947 920.9 Q89.3947 912.15 92.4502 907.567 Q95.5289 902.96 101.339 902.96 Z\" fill=\"#000000\" fill-rule=\"evenodd\" fill-opacity=\"1\" /><path clip-path=\"url(#clip070)\" d=\"M121.501 932.266 L126.385 932.266 L126.385 938.145 L121.501 938.145 L121.501 932.266 Z\" fill=\"#000000\" fill-rule=\"evenodd\" fill-opacity=\"1\" /><path clip-path=\"url(#clip070)\" d=\"M137.381 934.21 L145.019 934.21 L145.019 907.844 L136.709 909.511 L136.709 905.252 L144.973 903.585 L149.649 903.585 L149.649 934.21 L157.288 934.21 L157.288 938.145 L137.381 938.145 L137.381 934.21 Z\" fill=\"#000000\" fill-rule=\"evenodd\" fill-opacity=\"1\" /><path clip-path=\"url(#clip070)\" d=\"M100.112 694.917 Q96.5011 694.917 94.6724 698.482 Q92.8669 702.024 92.8669 709.153 Q92.8669 716.26 94.6724 719.825 Q96.5011 723.366 100.112 723.366 Q103.746 723.366 105.552 719.825 Q107.381 716.26 107.381 709.153 Q107.381 702.024 105.552 698.482 Q103.746 694.917 100.112 694.917 M100.112 691.214 Q105.922 691.214 108.978 695.82 Q112.057 700.404 112.057 709.153 Q112.057 717.88 108.978 722.487 Q105.922 727.07 100.112 727.07 Q94.3021 727.07 91.2234 722.487 Q88.1679 717.88 88.1679 709.153 Q88.1679 700.404 91.2234 695.82 Q94.3021 691.214 100.112 691.214 Z\" fill=\"#000000\" fill-rule=\"evenodd\" fill-opacity=\"1\" /><path clip-path=\"url(#clip070)\" d=\"M120.274 720.519 L125.158 720.519 L125.158 726.399 L120.274 726.399 L120.274 720.519 Z\" fill=\"#000000\" fill-rule=\"evenodd\" fill-opacity=\"1\" /><path clip-path=\"url(#clip070)\" d=\"M145.343 694.917 Q141.732 694.917 139.904 698.482 Q138.098 702.024 138.098 709.153 Q138.098 716.26 139.904 719.825 Q141.732 723.366 145.343 723.366 Q148.978 723.366 150.783 719.825 Q152.612 716.26 152.612 709.153 Q152.612 702.024 150.783 698.482 Q148.978 694.917 145.343 694.917 M145.343 691.214 Q151.154 691.214 154.209 695.82 Q157.288 700.404 157.288 709.153 Q157.288 717.88 154.209 722.487 Q151.154 727.07 145.343 727.07 Q139.533 727.07 136.455 722.487 Q133.399 717.88 133.399 709.153 Q133.399 700.404 136.455 695.82 Q139.533 691.214 145.343 691.214 Z\" fill=\"#000000\" fill-rule=\"evenodd\" fill-opacity=\"1\" /><path clip-path=\"url(#clip070)\" d=\"M101.339 483.171 Q97.728 483.171 95.8993 486.736 Q94.0937 490.277 94.0937 497.407 Q94.0937 504.513 95.8993 508.078 Q97.728 511.62 101.339 511.62 Q104.973 511.62 106.779 508.078 Q108.608 504.513 108.608 497.407 Q108.608 490.277 106.779 486.736 Q104.973 483.171 101.339 483.171 M101.339 479.467 Q107.149 479.467 110.205 484.074 Q113.283 488.657 113.283 497.407 Q113.283 506.134 110.205 510.74 Q107.149 515.324 101.339 515.324 Q95.5289 515.324 92.4502 510.74 Q89.3947 506.134 89.3947 497.407 Q89.3947 488.657 92.4502 484.074 Q95.5289 479.467 101.339 479.467 Z\" fill=\"#000000\" fill-rule=\"evenodd\" fill-opacity=\"1\" /><path clip-path=\"url(#clip070)\" d=\"M121.501 508.773 L126.385 508.773 L126.385 514.652 L121.501 514.652 L121.501 508.773 Z\" fill=\"#000000\" fill-rule=\"evenodd\" fill-opacity=\"1\" /><path clip-path=\"url(#clip070)\" d=\"M137.381 510.717 L145.019 510.717 L145.019 484.352 L136.709 486.018 L136.709 481.759 L144.973 480.092 L149.649 480.092 L149.649 510.717 L157.288 510.717 L157.288 514.652 L137.381 514.652 L137.381 510.717 Z\" fill=\"#000000\" fill-rule=\"evenodd\" fill-opacity=\"1\" /><path clip-path=\"url(#clip070)\" d=\"M101.709 271.424 Q98.0984 271.424 96.2697 274.989 Q94.4641 278.531 94.4641 285.661 Q94.4641 292.767 96.2697 296.332 Q98.0984 299.873 101.709 299.873 Q105.344 299.873 107.149 296.332 Q108.978 292.767 108.978 285.661 Q108.978 278.531 107.149 274.989 Q105.344 271.424 101.709 271.424 M101.709 267.721 Q107.52 267.721 110.575 272.327 Q113.654 276.911 113.654 285.661 Q113.654 294.387 110.575 298.994 Q107.52 303.577 101.709 303.577 Q95.8993 303.577 92.8206 298.994 Q89.7651 294.387 89.7651 285.661 Q89.7651 276.911 92.8206 272.327 Q95.8993 267.721 101.709 267.721 Z\" fill=\"#000000\" fill-rule=\"evenodd\" fill-opacity=\"1\" /><path clip-path=\"url(#clip070)\" d=\"M121.871 297.026 L126.756 297.026 L126.756 302.906 L121.871 302.906 L121.871 297.026 Z\" fill=\"#000000\" fill-rule=\"evenodd\" fill-opacity=\"1\" /><path clip-path=\"url(#clip070)\" d=\"M140.968 298.971 L157.288 298.971 L157.288 302.906 L135.344 302.906 L135.344 298.971 Q138.006 296.216 142.589 291.586 Q147.195 286.934 148.376 285.591 Q150.621 283.068 151.501 281.332 Q152.404 279.573 152.404 277.883 Q152.404 275.128 150.459 273.392 Q148.538 271.656 145.436 271.656 Q143.237 271.656 140.783 272.42 Q138.353 273.184 135.575 274.735 L135.575 270.012 Q138.399 268.878 140.853 268.299 Q143.306 267.721 145.343 267.721 Q150.714 267.721 153.908 270.406 Q157.103 273.091 157.103 277.582 Q157.103 279.711 156.292 281.633 Q155.505 283.531 153.399 286.123 Q152.82 286.795 149.718 290.012 Q146.617 293.207 140.968 298.971 Z\" fill=\"#000000\" fill-rule=\"evenodd\" fill-opacity=\"1\" /><path clip-path=\"url(#clip070)\" d=\"M100.76 59.678 Q97.1493 59.678 95.3206 63.2428 Q93.515 66.7844 93.515 73.914 Q93.515 81.0205 95.3206 84.5853 Q97.1493 88.1269 100.76 88.1269 Q104.395 88.1269 106.2 84.5853 Q108.029 81.0205 108.029 73.914 Q108.029 66.7844 106.2 63.2428 Q104.395 59.678 100.76 59.678 M100.76 55.9743 Q106.571 55.9743 109.626 60.5808 Q112.705 65.1641 112.705 73.914 Q112.705 82.6408 109.626 87.2473 Q106.571 91.8306 100.76 91.8306 Q94.9502 91.8306 91.8715 87.2473 Q88.816 82.6408 88.816 73.914 Q88.816 65.1641 91.8715 60.5808 Q94.9502 55.9743 100.76 55.9743 Z\" fill=\"#000000\" fill-rule=\"evenodd\" fill-opacity=\"1\" /><path clip-path=\"url(#clip070)\" d=\"M120.922 85.2797 L125.807 85.2797 L125.807 91.1593 L120.922 91.1593 L120.922 85.2797 Z\" fill=\"#000000\" fill-rule=\"evenodd\" fill-opacity=\"1\" /><path clip-path=\"url(#clip070)\" d=\"M150.158 72.5251 Q153.515 73.2427 155.39 75.5112 Q157.288 77.7797 157.288 81.1131 Q157.288 86.2288 153.769 89.0297 Q150.251 91.8306 143.769 91.8306 Q141.593 91.8306 139.279 91.3908 Q136.987 90.9741 134.533 90.1176 L134.533 85.6038 Q136.478 86.738 138.793 87.3167 Q141.107 87.8954 143.631 87.8954 Q148.029 87.8954 150.32 86.1593 Q152.635 84.4232 152.635 81.1131 Q152.635 78.0575 150.482 76.3446 Q148.353 74.6085 144.533 74.6085 L140.506 74.6085 L140.506 70.7659 L144.718 70.7659 Q148.168 70.7659 149.996 69.4002 Q151.825 68.0113 151.825 65.4187 Q151.825 62.7567 149.927 61.3446 Q148.052 59.9095 144.533 59.9095 Q142.612 59.9095 140.413 60.3261 Q138.214 60.7428 135.575 61.6224 L135.575 57.4558 Q138.237 56.715 140.552 56.3447 Q142.89 55.9743 144.95 55.9743 Q150.274 55.9743 153.376 58.4048 Q156.478 60.8122 156.478 64.9326 Q156.478 67.8029 154.834 69.7937 Q153.191 71.7613 150.158 72.5251 Z\" fill=\"#000000\" fill-rule=\"evenodd\" fill-opacity=\"1\" /><path clip-path=\"url(#clip072)\" d=\"\nM312.062 87.9763 L312.062 709.119 L468.954 709.119 L468.954 87.9763 L312.062 87.9763 L312.062 87.9763  Z\n  \" fill=\"#009af9\" fill-rule=\"evenodd\" fill-opacity=\"1\"/>\n<polyline clip-path=\"url(#clip072)\" style=\"stroke:#000000; stroke-linecap:round; stroke-linejoin:round; stroke-width:4; stroke-opacity:1; fill:none\" points=\"\n  312.062,87.9763 312.062,709.119 468.954,709.119 468.954,87.9763 312.062,87.9763 \n  \"/>\n<path clip-path=\"url(#clip072)\" d=\"\nM508.177 855.954 L508.177 709.119 L665.068 709.119 L665.068 855.954 L508.177 855.954 L508.177 855.954  Z\n  \" fill=\"#009af9\" fill-rule=\"evenodd\" fill-opacity=\"1\"/>\n<polyline clip-path=\"url(#clip072)\" style=\"stroke:#000000; stroke-linecap:round; stroke-linejoin:round; stroke-width:4; stroke-opacity:1; fill:none\" points=\"\n  508.177,855.954 508.177,709.119 665.068,709.119 665.068,855.954 508.177,855.954 \n  \"/>\n<path clip-path=\"url(#clip072)\" d=\"\nM704.291 966.292 L704.291 709.119 L861.182 709.119 L861.182 966.292 L704.291 966.292 L704.291 966.292  Z\n  \" fill=\"#009af9\" fill-rule=\"evenodd\" fill-opacity=\"1\"/>\n<polyline clip-path=\"url(#clip072)\" style=\"stroke:#000000; stroke-linecap:round; stroke-linejoin:round; stroke-width:4; stroke-opacity:1; fill:none\" points=\"\n  704.291,966.292 704.291,709.119 861.182,709.119 861.182,966.292 704.291,966.292 \n  \"/>\n<path clip-path=\"url(#clip072)\" d=\"\nM900.405 633.92 L900.405 709.119 L1057.3 709.119 L1057.3 633.92 L900.405 633.92 L900.405 633.92  Z\n  \" fill=\"#009af9\" fill-rule=\"evenodd\" fill-opacity=\"1\"/>\n<polyline clip-path=\"url(#clip072)\" style=\"stroke:#000000; stroke-linecap:round; stroke-linejoin:round; stroke-width:4; stroke-opacity:1; fill:none\" points=\"\n  900.405,633.92 900.405,709.119 1057.3,709.119 1057.3,633.92 900.405,633.92 \n  \"/>\n<path clip-path=\"url(#clip072)\" d=\"\nM1096.52 490.968 L1096.52 709.119 L1253.41 709.119 L1253.41 490.968 L1096.52 490.968 L1096.52 490.968  Z\n  \" fill=\"#009af9\" fill-rule=\"evenodd\" fill-opacity=\"1\"/>\n<polyline clip-path=\"url(#clip072)\" style=\"stroke:#000000; stroke-linecap:round; stroke-linejoin:round; stroke-width:4; stroke-opacity:1; fill:none\" points=\"\n  1096.52,490.968 1096.52,709.119 1253.41,709.119 1253.41,490.968 1096.52,490.968 \n  \"/>\n<path clip-path=\"url(#clip072)\" d=\"\nM1292.63 1445.72 L1292.63 709.119 L1449.52 709.119 L1449.52 1445.72 L1292.63 1445.72 L1292.63 1445.72  Z\n  \" fill=\"#009af9\" fill-rule=\"evenodd\" fill-opacity=\"1\"/>\n<polyline clip-path=\"url(#clip072)\" style=\"stroke:#000000; stroke-linecap:round; stroke-linejoin:round; stroke-width:4; stroke-opacity:1; fill:none\" points=\"\n  1292.63,1445.72 1292.63,709.119 1449.52,709.119 1449.52,1445.72 1292.63,1445.72 \n  \"/>\n<path clip-path=\"url(#clip072)\" d=\"\nM1488.75 484.899 L1488.75 709.119 L1645.64 709.119 L1645.64 484.899 L1488.75 484.899 L1488.75 484.899  Z\n  \" fill=\"#009af9\" fill-rule=\"evenodd\" fill-opacity=\"1\"/>\n<polyline clip-path=\"url(#clip072)\" style=\"stroke:#000000; stroke-linecap:round; stroke-linejoin:round; stroke-width:4; stroke-opacity:1; fill:none\" points=\"\n  1488.75,484.899 1488.75,709.119 1645.64,709.119 1645.64,484.899 1488.75,484.899 \n  \"/>\n<path clip-path=\"url(#clip072)\" d=\"\nM1684.86 1233.62 L1684.86 709.119 L1841.75 709.119 L1841.75 1233.62 L1684.86 1233.62 L1684.86 1233.62  Z\n  \" fill=\"#009af9\" fill-rule=\"evenodd\" fill-opacity=\"1\"/>\n<polyline clip-path=\"url(#clip072)\" style=\"stroke:#000000; stroke-linecap:round; stroke-linejoin:round; stroke-width:4; stroke-opacity:1; fill:none\" points=\"\n  1684.86,1233.62 1684.86,709.119 1841.75,709.119 1841.75,1233.62 1684.86,1233.62 \n  \"/>\n<path clip-path=\"url(#clip072)\" d=\"\nM1880.98 491.309 L1880.98 709.119 L2037.87 709.119 L2037.87 491.309 L1880.98 491.309 L1880.98 491.309  Z\n  \" fill=\"#009af9\" fill-rule=\"evenodd\" fill-opacity=\"1\"/>\n<polyline clip-path=\"url(#clip072)\" style=\"stroke:#000000; stroke-linecap:round; stroke-linejoin:round; stroke-width:4; stroke-opacity:1; fill:none\" points=\"\n  1880.98,491.309 1880.98,709.119 2037.87,709.119 2037.87,491.309 1880.98,491.309 \n  \"/>\n<path clip-path=\"url(#clip072)\" d=\"\nM2077.09 408.996 L2077.09 709.119 L2233.98 709.119 L2233.98 408.996 L2077.09 408.996 L2077.09 408.996  Z\n  \" fill=\"#009af9\" fill-rule=\"evenodd\" fill-opacity=\"1\"/>\n<polyline clip-path=\"url(#clip072)\" style=\"stroke:#000000; stroke-linecap:round; stroke-linejoin:round; stroke-width:4; stroke-opacity:1; fill:none\" points=\"\n  2077.09,408.996 2077.09,709.119 2233.98,709.119 2233.98,408.996 2077.09,408.996 \n  \"/>\n<circle clip-path=\"url(#clip072)\" style=\"fill:#009af9; stroke:none; fill-opacity:0\" cx=\"390.508\" cy=\"87.9763\" r=\"2\"/>\n<circle clip-path=\"url(#clip072)\" style=\"fill:#009af9; stroke:none; fill-opacity:0\" cx=\"586.622\" cy=\"855.954\" r=\"2\"/>\n<circle clip-path=\"url(#clip072)\" style=\"fill:#009af9; stroke:none; fill-opacity:0\" cx=\"782.736\" cy=\"966.292\" r=\"2\"/>\n<circle clip-path=\"url(#clip072)\" style=\"fill:#009af9; stroke:none; fill-opacity:0\" cx=\"978.851\" cy=\"633.92\" r=\"2\"/>\n<circle clip-path=\"url(#clip072)\" style=\"fill:#009af9; stroke:none; fill-opacity:0\" cx=\"1174.96\" cy=\"490.968\" r=\"2\"/>\n<circle clip-path=\"url(#clip072)\" style=\"fill:#009af9; stroke:none; fill-opacity:0\" cx=\"1371.08\" cy=\"1445.72\" r=\"2\"/>\n<circle clip-path=\"url(#clip072)\" style=\"fill:#009af9; stroke:none; fill-opacity:0\" cx=\"1567.19\" cy=\"484.899\" r=\"2\"/>\n<circle clip-path=\"url(#clip072)\" style=\"fill:#009af9; stroke:none; fill-opacity:0\" cx=\"1763.31\" cy=\"1233.62\" r=\"2\"/>\n<circle clip-path=\"url(#clip072)\" style=\"fill:#009af9; stroke:none; fill-opacity:0\" cx=\"1959.42\" cy=\"491.309\" r=\"2\"/>\n<circle clip-path=\"url(#clip072)\" style=\"fill:#009af9; stroke:none; fill-opacity:0\" cx=\"2155.54\" cy=\"408.996\" r=\"2\"/>\n</svg>\n",
      "text/html": [
       "<?xml version=\"1.0\" encoding=\"utf-8\"?>\n",
       "<svg xmlns=\"http://www.w3.org/2000/svg\" xmlns:xlink=\"http://www.w3.org/1999/xlink\" width=\"600\" height=\"400\" viewBox=\"0 0 2400 1600\">\n",
       "<defs>\n",
       "  <clipPath id=\"clip120\">\n",
       "    <rect x=\"0\" y=\"0\" width=\"2400\" height=\"1600\"/>\n",
       "  </clipPath>\n",
       "</defs>\n",
       "<path clip-path=\"url(#clip120)\" d=\"\n",
       "M0 1600 L2400 1600 L2400 0 L0 0  Z\n",
       "  \" fill=\"#ffffff\" fill-rule=\"evenodd\" fill-opacity=\"1\"/>\n",
       "<defs>\n",
       "  <clipPath id=\"clip121\">\n",
       "    <rect x=\"480\" y=\"0\" width=\"1681\" height=\"1600\"/>\n",
       "  </clipPath>\n",
       "</defs>\n",
       "<path clip-path=\"url(#clip120)\" d=\"\n",
       "M193.288 1486.45 L2352.76 1486.45 L2352.76 47.2441 L193.288 47.2441  Z\n",
       "  \" fill=\"#ffffff\" fill-rule=\"evenodd\" fill-opacity=\"1\"/>\n",
       "<defs>\n",
       "  <clipPath id=\"clip122\">\n",
       "    <rect x=\"193\" y=\"47\" width=\"2160\" height=\"1440\"/>\n",
       "  </clipPath>\n",
       "</defs>\n",
       "<polyline clip-path=\"url(#clip122)\" style=\"stroke:#000000; stroke-linecap:round; stroke-linejoin:round; stroke-width:2; stroke-opacity:0.1; fill:none\" points=\"\n",
       "  390.508,1486.45 390.508,47.2441 \n",
       "  \"/>\n",
       "<polyline clip-path=\"url(#clip122)\" style=\"stroke:#000000; stroke-linecap:round; stroke-linejoin:round; stroke-width:2; stroke-opacity:0.1; fill:none\" points=\"\n",
       "  880.794,1486.45 880.794,47.2441 \n",
       "  \"/>\n",
       "<polyline clip-path=\"url(#clip122)\" style=\"stroke:#000000; stroke-linecap:round; stroke-linejoin:round; stroke-width:2; stroke-opacity:0.1; fill:none\" points=\"\n",
       "  1371.08,1486.45 1371.08,47.2441 \n",
       "  \"/>\n",
       "<polyline clip-path=\"url(#clip122)\" style=\"stroke:#000000; stroke-linecap:round; stroke-linejoin:round; stroke-width:2; stroke-opacity:0.1; fill:none\" points=\"\n",
       "  1861.36,1486.45 1861.36,47.2441 \n",
       "  \"/>\n",
       "<polyline clip-path=\"url(#clip122)\" style=\"stroke:#000000; stroke-linecap:round; stroke-linejoin:round; stroke-width:2; stroke-opacity:0.1; fill:none\" points=\"\n",
       "  2351.65,1486.45 2351.65,47.2441 \n",
       "  \"/>\n",
       "<polyline clip-path=\"url(#clip120)\" style=\"stroke:#000000; stroke-linecap:round; stroke-linejoin:round; stroke-width:4; stroke-opacity:1; fill:none\" points=\"\n",
       "  193.288,1486.45 2352.76,1486.45 \n",
       "  \"/>\n",
       "<polyline clip-path=\"url(#clip120)\" style=\"stroke:#000000; stroke-linecap:round; stroke-linejoin:round; stroke-width:4; stroke-opacity:1; fill:none\" points=\"\n",
       "  390.508,1486.45 390.508,1467.55 \n",
       "  \"/>\n",
       "<polyline clip-path=\"url(#clip120)\" style=\"stroke:#000000; stroke-linecap:round; stroke-linejoin:round; stroke-width:4; stroke-opacity:1; fill:none\" points=\"\n",
       "  880.794,1486.45 880.794,1467.55 \n",
       "  \"/>\n",
       "<polyline clip-path=\"url(#clip120)\" style=\"stroke:#000000; stroke-linecap:round; stroke-linejoin:round; stroke-width:4; stroke-opacity:1; fill:none\" points=\"\n",
       "  1371.08,1486.45 1371.08,1467.55 \n",
       "  \"/>\n",
       "<polyline clip-path=\"url(#clip120)\" style=\"stroke:#000000; stroke-linecap:round; stroke-linejoin:round; stroke-width:4; stroke-opacity:1; fill:none\" points=\"\n",
       "  1861.36,1486.45 1861.36,1467.55 \n",
       "  \"/>\n",
       "<polyline clip-path=\"url(#clip120)\" style=\"stroke:#000000; stroke-linecap:round; stroke-linejoin:round; stroke-width:4; stroke-opacity:1; fill:none\" points=\"\n",
       "  2351.65,1486.45 2351.65,1467.55 \n",
       "  \"/>\n",
       "<path clip-path=\"url(#clip120)\" d=\"M367.892 1517.37 Q364.281 1517.37 362.453 1520.93 Q360.647 1524.47 360.647 1531.6 Q360.647 1538.71 362.453 1542.27 Q364.281 1545.82 367.892 1545.82 Q371.527 1545.82 373.332 1542.27 Q375.161 1538.71 375.161 1531.6 Q375.161 1524.47 373.332 1520.93 Q371.527 1517.37 367.892 1517.37 M367.892 1513.66 Q373.703 1513.66 376.758 1518.27 Q379.837 1522.85 379.837 1531.6 Q379.837 1540.33 376.758 1544.94 Q373.703 1549.52 367.892 1549.52 Q362.082 1549.52 359.004 1544.94 Q355.948 1540.33 355.948 1531.6 Q355.948 1522.85 359.004 1518.27 Q362.082 1513.66 367.892 1513.66 Z\" fill=\"#000000\" fill-rule=\"evenodd\" fill-opacity=\"1\" /><path clip-path=\"url(#clip120)\" d=\"M388.054 1542.97 L392.939 1542.97 L392.939 1548.85 L388.054 1548.85 L388.054 1542.97 Z\" fill=\"#000000\" fill-rule=\"evenodd\" fill-opacity=\"1\" /><path clip-path=\"url(#clip120)\" d=\"M413.124 1517.37 Q409.513 1517.37 407.684 1520.93 Q405.878 1524.47 405.878 1531.6 Q405.878 1538.71 407.684 1542.27 Q409.513 1545.82 413.124 1545.82 Q416.758 1545.82 418.564 1542.27 Q420.392 1538.71 420.392 1531.6 Q420.392 1524.47 418.564 1520.93 Q416.758 1517.37 413.124 1517.37 M413.124 1513.66 Q418.934 1513.66 421.989 1518.27 Q425.068 1522.85 425.068 1531.6 Q425.068 1540.33 421.989 1544.94 Q418.934 1549.52 413.124 1549.52 Q407.314 1549.52 404.235 1544.94 Q401.179 1540.33 401.179 1531.6 Q401.179 1522.85 404.235 1518.27 Q407.314 1513.66 413.124 1513.66 Z\" fill=\"#000000\" fill-rule=\"evenodd\" fill-opacity=\"1\" /><path clip-path=\"url(#clip120)\" d=\"M852.53 1544.91 L868.849 1544.91 L868.849 1548.85 L846.905 1548.85 L846.905 1544.91 Q849.567 1542.16 854.15 1537.53 Q858.757 1532.88 859.937 1531.53 Q862.183 1529.01 863.062 1527.27 Q863.965 1525.51 863.965 1523.82 Q863.965 1521.07 862.02 1519.33 Q860.099 1517.6 856.997 1517.6 Q854.798 1517.6 852.345 1518.36 Q849.914 1519.13 847.136 1520.68 L847.136 1515.95 Q849.96 1514.82 852.414 1514.24 Q854.868 1513.66 856.905 1513.66 Q862.275 1513.66 865.47 1516.35 Q868.664 1519.03 868.664 1523.52 Q868.664 1525.65 867.854 1527.57 Q867.067 1529.47 864.96 1532.07 Q864.382 1532.74 861.28 1535.95 Q858.178 1539.15 852.53 1544.91 Z\" fill=\"#000000\" fill-rule=\"evenodd\" fill-opacity=\"1\" /><path clip-path=\"url(#clip120)\" d=\"M878.664 1542.97 L883.548 1542.97 L883.548 1548.85 L878.664 1548.85 L878.664 1542.97 Z\" fill=\"#000000\" fill-rule=\"evenodd\" fill-opacity=\"1\" /><path clip-path=\"url(#clip120)\" d=\"M893.78 1514.29 L912.136 1514.29 L912.136 1518.22 L898.062 1518.22 L898.062 1526.7 Q899.08 1526.35 900.099 1526.19 Q901.118 1526 902.136 1526 Q907.923 1526 911.303 1529.17 Q914.682 1532.34 914.682 1537.76 Q914.682 1543.34 911.21 1546.44 Q907.738 1549.52 901.418 1549.52 Q899.243 1549.52 896.974 1549.15 Q894.729 1548.78 892.321 1548.04 L892.321 1543.34 Q894.405 1544.47 896.627 1545.03 Q898.849 1545.58 901.326 1545.58 Q905.33 1545.58 907.668 1543.48 Q910.006 1541.37 910.006 1537.76 Q910.006 1534.15 907.668 1532.04 Q905.33 1529.94 901.326 1529.94 Q899.451 1529.94 897.576 1530.35 Q895.724 1530.77 893.78 1531.65 L893.78 1514.29 Z\" fill=\"#000000\" fill-rule=\"evenodd\" fill-opacity=\"1\" /><path clip-path=\"url(#clip120)\" d=\"M1338.24 1514.29 L1356.6 1514.29 L1356.6 1518.22 L1342.53 1518.22 L1342.53 1526.7 Q1343.54 1526.35 1344.56 1526.19 Q1345.58 1526 1346.6 1526 Q1352.39 1526 1355.77 1529.17 Q1359.15 1532.34 1359.15 1537.76 Q1359.15 1543.34 1355.67 1546.44 Q1352.2 1549.52 1345.88 1549.52 Q1343.71 1549.52 1341.44 1549.15 Q1339.19 1548.78 1336.79 1548.04 L1336.79 1543.34 Q1338.87 1544.47 1341.09 1545.03 Q1343.31 1545.58 1345.79 1545.58 Q1349.79 1545.58 1352.13 1543.48 Q1354.47 1541.37 1354.47 1537.76 Q1354.47 1534.15 1352.13 1532.04 Q1349.79 1529.94 1345.79 1529.94 Q1343.91 1529.94 1342.04 1530.35 Q1340.19 1530.77 1338.24 1531.65 L1338.24 1514.29 Z\" fill=\"#000000\" fill-rule=\"evenodd\" fill-opacity=\"1\" /><path clip-path=\"url(#clip120)\" d=\"M1368.36 1542.97 L1373.24 1542.97 L1373.24 1548.85 L1368.36 1548.85 L1368.36 1542.97 Z\" fill=\"#000000\" fill-rule=\"evenodd\" fill-opacity=\"1\" /><path clip-path=\"url(#clip120)\" d=\"M1393.43 1517.37 Q1389.82 1517.37 1387.99 1520.93 Q1386.18 1524.47 1386.18 1531.6 Q1386.18 1538.71 1387.99 1542.27 Q1389.82 1545.82 1393.43 1545.82 Q1397.06 1545.82 1398.87 1542.27 Q1400.7 1538.71 1400.7 1531.6 Q1400.7 1524.47 1398.87 1520.93 Q1397.06 1517.37 1393.43 1517.37 M1393.43 1513.66 Q1399.24 1513.66 1402.29 1518.27 Q1405.37 1522.85 1405.37 1531.6 Q1405.37 1540.33 1402.29 1544.94 Q1399.24 1549.52 1393.43 1549.52 Q1387.62 1549.52 1384.54 1544.94 Q1381.48 1540.33 1381.48 1531.6 Q1381.48 1522.85 1384.54 1518.27 Q1387.62 1513.66 1393.43 1513.66 Z\" fill=\"#000000\" fill-rule=\"evenodd\" fill-opacity=\"1\" /><path clip-path=\"url(#clip120)\" d=\"M1827.68 1514.29 L1849.91 1514.29 L1849.91 1516.28 L1837.36 1548.85 L1832.48 1548.85 L1844.28 1518.22 L1827.68 1518.22 L1827.68 1514.29 Z\" fill=\"#000000\" fill-rule=\"evenodd\" fill-opacity=\"1\" /><path clip-path=\"url(#clip120)\" d=\"M1859.03 1542.97 L1863.91 1542.97 L1863.91 1548.85 L1859.03 1548.85 L1859.03 1542.97 Z\" fill=\"#000000\" fill-rule=\"evenodd\" fill-opacity=\"1\" /><path clip-path=\"url(#clip120)\" d=\"M1874.14 1514.29 L1892.5 1514.29 L1892.5 1518.22 L1878.42 1518.22 L1878.42 1526.7 Q1879.44 1526.35 1880.46 1526.19 Q1881.48 1526 1882.5 1526 Q1888.29 1526 1891.67 1529.17 Q1895.04 1532.34 1895.04 1537.76 Q1895.04 1543.34 1891.57 1546.44 Q1888.1 1549.52 1881.78 1549.52 Q1879.61 1549.52 1877.34 1549.15 Q1875.09 1548.78 1872.68 1548.04 L1872.68 1543.34 Q1874.77 1544.47 1876.99 1545.03 Q1879.21 1545.58 1881.69 1545.58 Q1885.69 1545.58 1888.03 1543.48 Q1890.37 1541.37 1890.37 1537.76 Q1890.37 1534.15 1888.03 1532.04 Q1885.69 1529.94 1881.69 1529.94 Q1879.81 1529.94 1877.94 1530.35 Q1876.09 1530.77 1874.14 1531.65 L1874.14 1514.29 Z\" fill=\"#000000\" fill-rule=\"evenodd\" fill-opacity=\"1\" /><path clip-path=\"url(#clip120)\" d=\"M2303.72 1544.91 L2311.36 1544.91 L2311.36 1518.55 L2303.05 1520.21 L2303.05 1515.95 L2311.31 1514.29 L2315.99 1514.29 L2315.99 1544.91 L2323.63 1544.91 L2323.63 1548.85 L2303.72 1548.85 L2303.72 1544.91 Z\" fill=\"#000000\" fill-rule=\"evenodd\" fill-opacity=\"1\" /><path clip-path=\"url(#clip120)\" d=\"M2343.07 1517.37 Q2339.46 1517.37 2337.63 1520.93 Q2335.83 1524.47 2335.83 1531.6 Q2335.83 1538.71 2337.63 1542.27 Q2339.46 1545.82 2343.07 1545.82 Q2346.71 1545.82 2348.51 1542.27 Q2350.34 1538.71 2350.34 1531.6 Q2350.34 1524.47 2348.51 1520.93 Q2346.71 1517.37 2343.07 1517.37 M2343.07 1513.66 Q2348.88 1513.66 2351.94 1518.27 Q2355.02 1522.85 2355.02 1531.6 Q2355.02 1540.33 2351.94 1544.94 Q2348.88 1549.52 2343.07 1549.52 Q2337.26 1549.52 2334.18 1544.94 Q2331.13 1540.33 2331.13 1531.6 Q2331.13 1522.85 2334.18 1518.27 Q2337.26 1513.66 2343.07 1513.66 Z\" fill=\"#000000\" fill-rule=\"evenodd\" fill-opacity=\"1\" /><path clip-path=\"url(#clip120)\" d=\"M2363.24 1542.97 L2368.12 1542.97 L2368.12 1548.85 L2363.24 1548.85 L2363.24 1542.97 Z\" fill=\"#000000\" fill-rule=\"evenodd\" fill-opacity=\"1\" /><path clip-path=\"url(#clip120)\" d=\"M2388.3 1517.37 Q2384.69 1517.37 2382.86 1520.93 Q2381.06 1524.47 2381.06 1531.6 Q2381.06 1538.71 2382.86 1542.27 Q2384.69 1545.82 2388.3 1545.82 Q2391.94 1545.82 2393.74 1542.27 Q2395.57 1538.71 2395.57 1531.6 Q2395.57 1524.47 2393.74 1520.93 Q2391.94 1517.37 2388.3 1517.37 M2388.3 1513.66 Q2394.11 1513.66 2397.17 1518.27 Q2400.25 1522.85 2400.25 1531.6 Q2400.25 1540.33 2397.17 1544.94 Q2394.11 1549.52 2388.3 1549.52 Q2382.49 1549.52 2379.42 1544.94 Q2376.36 1540.33 2376.36 1531.6 Q2376.36 1522.85 2379.42 1518.27 Q2382.49 1513.66 2388.3 1513.66 Z\" fill=\"#000000\" fill-rule=\"evenodd\" fill-opacity=\"1\" /><polyline clip-path=\"url(#clip122)\" style=\"stroke:#000000; stroke-linecap:round; stroke-linejoin:round; stroke-width:2; stroke-opacity:0.1; fill:none\" points=\"\n",
       "  193.288,1344.36 2352.76,1344.36 \n",
       "  \"/>\n",
       "<polyline clip-path=\"url(#clip122)\" style=\"stroke:#000000; stroke-linecap:round; stroke-linejoin:round; stroke-width:2; stroke-opacity:0.1; fill:none\" points=\"\n",
       "  193.288,1132.61 2352.76,1132.61 \n",
       "  \"/>\n",
       "<polyline clip-path=\"url(#clip122)\" style=\"stroke:#000000; stroke-linecap:round; stroke-linejoin:round; stroke-width:2; stroke-opacity:0.1; fill:none\" points=\"\n",
       "  193.288,920.865 2352.76,920.865 \n",
       "  \"/>\n",
       "<polyline clip-path=\"url(#clip122)\" style=\"stroke:#000000; stroke-linecap:round; stroke-linejoin:round; stroke-width:2; stroke-opacity:0.1; fill:none\" points=\"\n",
       "  193.288,709.119 2352.76,709.119 \n",
       "  \"/>\n",
       "<polyline clip-path=\"url(#clip122)\" style=\"stroke:#000000; stroke-linecap:round; stroke-linejoin:round; stroke-width:2; stroke-opacity:0.1; fill:none\" points=\"\n",
       "  193.288,497.372 2352.76,497.372 \n",
       "  \"/>\n",
       "<polyline clip-path=\"url(#clip122)\" style=\"stroke:#000000; stroke-linecap:round; stroke-linejoin:round; stroke-width:2; stroke-opacity:0.1; fill:none\" points=\"\n",
       "  193.288,285.626 2352.76,285.626 \n",
       "  \"/>\n",
       "<polyline clip-path=\"url(#clip122)\" style=\"stroke:#000000; stroke-linecap:round; stroke-linejoin:round; stroke-width:2; stroke-opacity:0.1; fill:none\" points=\"\n",
       "  193.288,73.8793 2352.76,73.8793 \n",
       "  \"/>\n",
       "<polyline clip-path=\"url(#clip120)\" style=\"stroke:#000000; stroke-linecap:round; stroke-linejoin:round; stroke-width:4; stroke-opacity:1; fill:none\" points=\"\n",
       "  193.288,1486.45 193.288,47.2441 \n",
       "  \"/>\n",
       "<polyline clip-path=\"url(#clip120)\" style=\"stroke:#000000; stroke-linecap:round; stroke-linejoin:round; stroke-width:4; stroke-opacity:1; fill:none\" points=\"\n",
       "  193.288,1344.36 212.185,1344.36 \n",
       "  \"/>\n",
       "<polyline clip-path=\"url(#clip120)\" style=\"stroke:#000000; stroke-linecap:round; stroke-linejoin:round; stroke-width:4; stroke-opacity:1; fill:none\" points=\"\n",
       "  193.288,1132.61 212.185,1132.61 \n",
       "  \"/>\n",
       "<polyline clip-path=\"url(#clip120)\" style=\"stroke:#000000; stroke-linecap:round; stroke-linejoin:round; stroke-width:4; stroke-opacity:1; fill:none\" points=\"\n",
       "  193.288,920.865 212.185,920.865 \n",
       "  \"/>\n",
       "<polyline clip-path=\"url(#clip120)\" style=\"stroke:#000000; stroke-linecap:round; stroke-linejoin:round; stroke-width:4; stroke-opacity:1; fill:none\" points=\"\n",
       "  193.288,709.119 212.185,709.119 \n",
       "  \"/>\n",
       "<polyline clip-path=\"url(#clip120)\" style=\"stroke:#000000; stroke-linecap:round; stroke-linejoin:round; stroke-width:4; stroke-opacity:1; fill:none\" points=\"\n",
       "  193.288,497.372 212.185,497.372 \n",
       "  \"/>\n",
       "<polyline clip-path=\"url(#clip120)\" style=\"stroke:#000000; stroke-linecap:round; stroke-linejoin:round; stroke-width:4; stroke-opacity:1; fill:none\" points=\"\n",
       "  193.288,285.626 212.185,285.626 \n",
       "  \"/>\n",
       "<polyline clip-path=\"url(#clip120)\" style=\"stroke:#000000; stroke-linecap:round; stroke-linejoin:round; stroke-width:4; stroke-opacity:1; fill:none\" points=\"\n",
       "  193.288,73.8793 212.185,73.8793 \n",
       "  \"/>\n",
       "<path clip-path=\"url(#clip120)\" d=\"M50.9921 1344.81 L80.6679 1344.81 L80.6679 1348.74 L50.9921 1348.74 L50.9921 1344.81 Z\" fill=\"#000000\" fill-rule=\"evenodd\" fill-opacity=\"1\" /><path clip-path=\"url(#clip120)\" d=\"M100.76 1330.16 Q97.1493 1330.16 95.3206 1333.72 Q93.515 1337.26 93.515 1344.39 Q93.515 1351.5 95.3206 1355.06 Q97.1493 1358.61 100.76 1358.61 Q104.395 1358.61 106.2 1355.06 Q108.029 1351.5 108.029 1344.39 Q108.029 1337.26 106.2 1333.72 Q104.395 1330.16 100.76 1330.16 M100.76 1326.45 Q106.571 1326.45 109.626 1331.06 Q112.705 1335.64 112.705 1344.39 Q112.705 1353.12 109.626 1357.73 Q106.571 1362.31 100.76 1362.31 Q94.9502 1362.31 91.8715 1357.73 Q88.816 1353.12 88.816 1344.39 Q88.816 1335.64 91.8715 1331.06 Q94.9502 1326.45 100.76 1326.45 Z\" fill=\"#000000\" fill-rule=\"evenodd\" fill-opacity=\"1\" /><path clip-path=\"url(#clip120)\" d=\"M120.922 1355.76 L125.807 1355.76 L125.807 1361.64 L120.922 1361.64 L120.922 1355.76 Z\" fill=\"#000000\" fill-rule=\"evenodd\" fill-opacity=\"1\" /><path clip-path=\"url(#clip120)\" d=\"M150.158 1343 Q153.515 1343.72 155.39 1345.99 Q157.288 1348.26 157.288 1351.59 Q157.288 1356.71 153.769 1359.51 Q150.251 1362.31 143.769 1362.31 Q141.593 1362.31 139.279 1361.87 Q136.987 1361.45 134.533 1360.6 L134.533 1356.08 Q136.478 1357.22 138.793 1357.8 Q141.107 1358.37 143.631 1358.37 Q148.029 1358.37 150.32 1356.64 Q152.635 1354.9 152.635 1351.59 Q152.635 1348.54 150.482 1346.82 Q148.353 1345.09 144.533 1345.09 L140.506 1345.09 L140.506 1341.24 L144.718 1341.24 Q148.168 1341.24 149.996 1339.88 Q151.825 1338.49 151.825 1335.9 Q151.825 1333.24 149.927 1331.82 Q148.052 1330.39 144.533 1330.39 Q142.612 1330.39 140.413 1330.81 Q138.214 1331.22 135.575 1332.1 L135.575 1327.93 Q138.237 1327.19 140.552 1326.82 Q142.89 1326.45 144.95 1326.45 Q150.274 1326.45 153.376 1328.88 Q156.478 1331.29 156.478 1335.41 Q156.478 1338.28 154.834 1340.27 Q153.191 1342.24 150.158 1343 Z\" fill=\"#000000\" fill-rule=\"evenodd\" fill-opacity=\"1\" /><path clip-path=\"url(#clip120)\" d=\"M51.9412 1133.06 L81.617 1133.06 L81.617 1137 L51.9412 1137 L51.9412 1133.06 Z\" fill=\"#000000\" fill-rule=\"evenodd\" fill-opacity=\"1\" /><path clip-path=\"url(#clip120)\" d=\"M101.709 1118.41 Q98.0984 1118.41 96.2697 1121.98 Q94.4641 1125.52 94.4641 1132.65 Q94.4641 1139.75 96.2697 1143.32 Q98.0984 1146.86 101.709 1146.86 Q105.344 1146.86 107.149 1143.32 Q108.978 1139.75 108.978 1132.65 Q108.978 1125.52 107.149 1121.98 Q105.344 1118.41 101.709 1118.41 M101.709 1114.71 Q107.52 1114.71 110.575 1119.31 Q113.654 1123.9 113.654 1132.65 Q113.654 1141.37 110.575 1145.98 Q107.52 1150.56 101.709 1150.56 Q95.8993 1150.56 92.8206 1145.98 Q89.7651 1141.37 89.7651 1132.65 Q89.7651 1123.9 92.8206 1119.31 Q95.8993 1114.71 101.709 1114.71 Z\" fill=\"#000000\" fill-rule=\"evenodd\" fill-opacity=\"1\" /><path clip-path=\"url(#clip120)\" d=\"M121.871 1144.01 L126.756 1144.01 L126.756 1149.89 L121.871 1149.89 L121.871 1144.01 Z\" fill=\"#000000\" fill-rule=\"evenodd\" fill-opacity=\"1\" /><path clip-path=\"url(#clip120)\" d=\"M140.968 1145.96 L157.288 1145.96 L157.288 1149.89 L135.344 1149.89 L135.344 1145.96 Q138.006 1143.2 142.589 1138.57 Q147.195 1133.92 148.376 1132.58 Q150.621 1130.05 151.501 1128.32 Q152.404 1126.56 152.404 1124.87 Q152.404 1122.11 150.459 1120.38 Q148.538 1118.64 145.436 1118.64 Q143.237 1118.64 140.783 1119.41 Q138.353 1120.17 135.575 1121.72 L135.575 1117 Q138.399 1115.86 140.853 1115.29 Q143.306 1114.71 145.343 1114.71 Q150.714 1114.71 153.908 1117.39 Q157.103 1120.08 157.103 1124.57 Q157.103 1126.7 156.292 1128.62 Q155.505 1130.52 153.399 1133.11 Q152.82 1133.78 149.718 1137 Q146.617 1140.19 140.968 1145.96 Z\" fill=\"#000000\" fill-rule=\"evenodd\" fill-opacity=\"1\" /><path clip-path=\"url(#clip120)\" d=\"M51.5708 921.317 L81.2466 921.317 L81.2466 925.252 L51.5708 925.252 L51.5708 921.317 Z\" fill=\"#000000\" fill-rule=\"evenodd\" fill-opacity=\"1\" /><path clip-path=\"url(#clip120)\" d=\"M101.339 906.664 Q97.728 906.664 95.8993 910.229 Q94.0937 913.77 94.0937 920.9 Q94.0937 928.006 95.8993 931.571 Q97.728 935.113 101.339 935.113 Q104.973 935.113 106.779 931.571 Q108.608 928.006 108.608 920.9 Q108.608 913.77 106.779 910.229 Q104.973 906.664 101.339 906.664 M101.339 902.96 Q107.149 902.96 110.205 907.567 Q113.283 912.15 113.283 920.9 Q113.283 929.627 110.205 934.233 Q107.149 938.817 101.339 938.817 Q95.5289 938.817 92.4502 934.233 Q89.3947 929.627 89.3947 920.9 Q89.3947 912.15 92.4502 907.567 Q95.5289 902.96 101.339 902.96 Z\" fill=\"#000000\" fill-rule=\"evenodd\" fill-opacity=\"1\" /><path clip-path=\"url(#clip120)\" d=\"M121.501 932.266 L126.385 932.266 L126.385 938.145 L121.501 938.145 L121.501 932.266 Z\" fill=\"#000000\" fill-rule=\"evenodd\" fill-opacity=\"1\" /><path clip-path=\"url(#clip120)\" d=\"M137.381 934.21 L145.019 934.21 L145.019 907.844 L136.709 909.511 L136.709 905.252 L144.973 903.585 L149.649 903.585 L149.649 934.21 L157.288 934.21 L157.288 938.145 L137.381 938.145 L137.381 934.21 Z\" fill=\"#000000\" fill-rule=\"evenodd\" fill-opacity=\"1\" /><path clip-path=\"url(#clip120)\" d=\"M100.112 694.917 Q96.5011 694.917 94.6724 698.482 Q92.8669 702.024 92.8669 709.153 Q92.8669 716.26 94.6724 719.825 Q96.5011 723.366 100.112 723.366 Q103.746 723.366 105.552 719.825 Q107.381 716.26 107.381 709.153 Q107.381 702.024 105.552 698.482 Q103.746 694.917 100.112 694.917 M100.112 691.214 Q105.922 691.214 108.978 695.82 Q112.057 700.404 112.057 709.153 Q112.057 717.88 108.978 722.487 Q105.922 727.07 100.112 727.07 Q94.3021 727.07 91.2234 722.487 Q88.1679 717.88 88.1679 709.153 Q88.1679 700.404 91.2234 695.82 Q94.3021 691.214 100.112 691.214 Z\" fill=\"#000000\" fill-rule=\"evenodd\" fill-opacity=\"1\" /><path clip-path=\"url(#clip120)\" d=\"M120.274 720.519 L125.158 720.519 L125.158 726.399 L120.274 726.399 L120.274 720.519 Z\" fill=\"#000000\" fill-rule=\"evenodd\" fill-opacity=\"1\" /><path clip-path=\"url(#clip120)\" d=\"M145.343 694.917 Q141.732 694.917 139.904 698.482 Q138.098 702.024 138.098 709.153 Q138.098 716.26 139.904 719.825 Q141.732 723.366 145.343 723.366 Q148.978 723.366 150.783 719.825 Q152.612 716.26 152.612 709.153 Q152.612 702.024 150.783 698.482 Q148.978 694.917 145.343 694.917 M145.343 691.214 Q151.154 691.214 154.209 695.82 Q157.288 700.404 157.288 709.153 Q157.288 717.88 154.209 722.487 Q151.154 727.07 145.343 727.07 Q139.533 727.07 136.455 722.487 Q133.399 717.88 133.399 709.153 Q133.399 700.404 136.455 695.82 Q139.533 691.214 145.343 691.214 Z\" fill=\"#000000\" fill-rule=\"evenodd\" fill-opacity=\"1\" /><path clip-path=\"url(#clip120)\" d=\"M101.339 483.171 Q97.728 483.171 95.8993 486.736 Q94.0937 490.277 94.0937 497.407 Q94.0937 504.513 95.8993 508.078 Q97.728 511.62 101.339 511.62 Q104.973 511.62 106.779 508.078 Q108.608 504.513 108.608 497.407 Q108.608 490.277 106.779 486.736 Q104.973 483.171 101.339 483.171 M101.339 479.467 Q107.149 479.467 110.205 484.074 Q113.283 488.657 113.283 497.407 Q113.283 506.134 110.205 510.74 Q107.149 515.324 101.339 515.324 Q95.5289 515.324 92.4502 510.74 Q89.3947 506.134 89.3947 497.407 Q89.3947 488.657 92.4502 484.074 Q95.5289 479.467 101.339 479.467 Z\" fill=\"#000000\" fill-rule=\"evenodd\" fill-opacity=\"1\" /><path clip-path=\"url(#clip120)\" d=\"M121.501 508.773 L126.385 508.773 L126.385 514.652 L121.501 514.652 L121.501 508.773 Z\" fill=\"#000000\" fill-rule=\"evenodd\" fill-opacity=\"1\" /><path clip-path=\"url(#clip120)\" d=\"M137.381 510.717 L145.019 510.717 L145.019 484.352 L136.709 486.018 L136.709 481.759 L144.973 480.092 L149.649 480.092 L149.649 510.717 L157.288 510.717 L157.288 514.652 L137.381 514.652 L137.381 510.717 Z\" fill=\"#000000\" fill-rule=\"evenodd\" fill-opacity=\"1\" /><path clip-path=\"url(#clip120)\" d=\"M101.709 271.424 Q98.0984 271.424 96.2697 274.989 Q94.4641 278.531 94.4641 285.661 Q94.4641 292.767 96.2697 296.332 Q98.0984 299.873 101.709 299.873 Q105.344 299.873 107.149 296.332 Q108.978 292.767 108.978 285.661 Q108.978 278.531 107.149 274.989 Q105.344 271.424 101.709 271.424 M101.709 267.721 Q107.52 267.721 110.575 272.327 Q113.654 276.911 113.654 285.661 Q113.654 294.387 110.575 298.994 Q107.52 303.577 101.709 303.577 Q95.8993 303.577 92.8206 298.994 Q89.7651 294.387 89.7651 285.661 Q89.7651 276.911 92.8206 272.327 Q95.8993 267.721 101.709 267.721 Z\" fill=\"#000000\" fill-rule=\"evenodd\" fill-opacity=\"1\" /><path clip-path=\"url(#clip120)\" d=\"M121.871 297.026 L126.756 297.026 L126.756 302.906 L121.871 302.906 L121.871 297.026 Z\" fill=\"#000000\" fill-rule=\"evenodd\" fill-opacity=\"1\" /><path clip-path=\"url(#clip120)\" d=\"M140.968 298.971 L157.288 298.971 L157.288 302.906 L135.344 302.906 L135.344 298.971 Q138.006 296.216 142.589 291.586 Q147.195 286.934 148.376 285.591 Q150.621 283.068 151.501 281.332 Q152.404 279.573 152.404 277.883 Q152.404 275.128 150.459 273.392 Q148.538 271.656 145.436 271.656 Q143.237 271.656 140.783 272.42 Q138.353 273.184 135.575 274.735 L135.575 270.012 Q138.399 268.878 140.853 268.299 Q143.306 267.721 145.343 267.721 Q150.714 267.721 153.908 270.406 Q157.103 273.091 157.103 277.582 Q157.103 279.711 156.292 281.633 Q155.505 283.531 153.399 286.123 Q152.82 286.795 149.718 290.012 Q146.617 293.207 140.968 298.971 Z\" fill=\"#000000\" fill-rule=\"evenodd\" fill-opacity=\"1\" /><path clip-path=\"url(#clip120)\" d=\"M100.76 59.678 Q97.1493 59.678 95.3206 63.2428 Q93.515 66.7844 93.515 73.914 Q93.515 81.0205 95.3206 84.5853 Q97.1493 88.1269 100.76 88.1269 Q104.395 88.1269 106.2 84.5853 Q108.029 81.0205 108.029 73.914 Q108.029 66.7844 106.2 63.2428 Q104.395 59.678 100.76 59.678 M100.76 55.9743 Q106.571 55.9743 109.626 60.5808 Q112.705 65.1641 112.705 73.914 Q112.705 82.6408 109.626 87.2473 Q106.571 91.8306 100.76 91.8306 Q94.9502 91.8306 91.8715 87.2473 Q88.816 82.6408 88.816 73.914 Q88.816 65.1641 91.8715 60.5808 Q94.9502 55.9743 100.76 55.9743 Z\" fill=\"#000000\" fill-rule=\"evenodd\" fill-opacity=\"1\" /><path clip-path=\"url(#clip120)\" d=\"M120.922 85.2797 L125.807 85.2797 L125.807 91.1593 L120.922 91.1593 L120.922 85.2797 Z\" fill=\"#000000\" fill-rule=\"evenodd\" fill-opacity=\"1\" /><path clip-path=\"url(#clip120)\" d=\"M150.158 72.5251 Q153.515 73.2427 155.39 75.5112 Q157.288 77.7797 157.288 81.1131 Q157.288 86.2288 153.769 89.0297 Q150.251 91.8306 143.769 91.8306 Q141.593 91.8306 139.279 91.3908 Q136.987 90.9741 134.533 90.1176 L134.533 85.6038 Q136.478 86.738 138.793 87.3167 Q141.107 87.8954 143.631 87.8954 Q148.029 87.8954 150.32 86.1593 Q152.635 84.4232 152.635 81.1131 Q152.635 78.0575 150.482 76.3446 Q148.353 74.6085 144.533 74.6085 L140.506 74.6085 L140.506 70.7659 L144.718 70.7659 Q148.168 70.7659 149.996 69.4002 Q151.825 68.0113 151.825 65.4187 Q151.825 62.7567 149.927 61.3446 Q148.052 59.9095 144.533 59.9095 Q142.612 59.9095 140.413 60.3261 Q138.214 60.7428 135.575 61.6224 L135.575 57.4558 Q138.237 56.715 140.552 56.3447 Q142.89 55.9743 144.95 55.9743 Q150.274 55.9743 153.376 58.4048 Q156.478 60.8122 156.478 64.9326 Q156.478 67.8029 154.834 69.7937 Q153.191 71.7613 150.158 72.5251 Z\" fill=\"#000000\" fill-rule=\"evenodd\" fill-opacity=\"1\" /><path clip-path=\"url(#clip122)\" d=\"\n",
       "M312.062 87.9763 L312.062 709.119 L468.954 709.119 L468.954 87.9763 L312.062 87.9763 L312.062 87.9763  Z\n",
       "  \" fill=\"#009af9\" fill-rule=\"evenodd\" fill-opacity=\"1\"/>\n",
       "<polyline clip-path=\"url(#clip122)\" style=\"stroke:#000000; stroke-linecap:round; stroke-linejoin:round; stroke-width:4; stroke-opacity:1; fill:none\" points=\"\n",
       "  312.062,87.9763 312.062,709.119 468.954,709.119 468.954,87.9763 312.062,87.9763 \n",
       "  \"/>\n",
       "<path clip-path=\"url(#clip122)\" d=\"\n",
       "M508.177 855.954 L508.177 709.119 L665.068 709.119 L665.068 855.954 L508.177 855.954 L508.177 855.954  Z\n",
       "  \" fill=\"#009af9\" fill-rule=\"evenodd\" fill-opacity=\"1\"/>\n",
       "<polyline clip-path=\"url(#clip122)\" style=\"stroke:#000000; stroke-linecap:round; stroke-linejoin:round; stroke-width:4; stroke-opacity:1; fill:none\" points=\"\n",
       "  508.177,855.954 508.177,709.119 665.068,709.119 665.068,855.954 508.177,855.954 \n",
       "  \"/>\n",
       "<path clip-path=\"url(#clip122)\" d=\"\n",
       "M704.291 966.292 L704.291 709.119 L861.182 709.119 L861.182 966.292 L704.291 966.292 L704.291 966.292  Z\n",
       "  \" fill=\"#009af9\" fill-rule=\"evenodd\" fill-opacity=\"1\"/>\n",
       "<polyline clip-path=\"url(#clip122)\" style=\"stroke:#000000; stroke-linecap:round; stroke-linejoin:round; stroke-width:4; stroke-opacity:1; fill:none\" points=\"\n",
       "  704.291,966.292 704.291,709.119 861.182,709.119 861.182,966.292 704.291,966.292 \n",
       "  \"/>\n",
       "<path clip-path=\"url(#clip122)\" d=\"\n",
       "M900.405 633.92 L900.405 709.119 L1057.3 709.119 L1057.3 633.92 L900.405 633.92 L900.405 633.92  Z\n",
       "  \" fill=\"#009af9\" fill-rule=\"evenodd\" fill-opacity=\"1\"/>\n",
       "<polyline clip-path=\"url(#clip122)\" style=\"stroke:#000000; stroke-linecap:round; stroke-linejoin:round; stroke-width:4; stroke-opacity:1; fill:none\" points=\"\n",
       "  900.405,633.92 900.405,709.119 1057.3,709.119 1057.3,633.92 900.405,633.92 \n",
       "  \"/>\n",
       "<path clip-path=\"url(#clip122)\" d=\"\n",
       "M1096.52 490.968 L1096.52 709.119 L1253.41 709.119 L1253.41 490.968 L1096.52 490.968 L1096.52 490.968  Z\n",
       "  \" fill=\"#009af9\" fill-rule=\"evenodd\" fill-opacity=\"1\"/>\n",
       "<polyline clip-path=\"url(#clip122)\" style=\"stroke:#000000; stroke-linecap:round; stroke-linejoin:round; stroke-width:4; stroke-opacity:1; fill:none\" points=\"\n",
       "  1096.52,490.968 1096.52,709.119 1253.41,709.119 1253.41,490.968 1096.52,490.968 \n",
       "  \"/>\n",
       "<path clip-path=\"url(#clip122)\" d=\"\n",
       "M1292.63 1445.72 L1292.63 709.119 L1449.52 709.119 L1449.52 1445.72 L1292.63 1445.72 L1292.63 1445.72  Z\n",
       "  \" fill=\"#009af9\" fill-rule=\"evenodd\" fill-opacity=\"1\"/>\n",
       "<polyline clip-path=\"url(#clip122)\" style=\"stroke:#000000; stroke-linecap:round; stroke-linejoin:round; stroke-width:4; stroke-opacity:1; fill:none\" points=\"\n",
       "  1292.63,1445.72 1292.63,709.119 1449.52,709.119 1449.52,1445.72 1292.63,1445.72 \n",
       "  \"/>\n",
       "<path clip-path=\"url(#clip122)\" d=\"\n",
       "M1488.75 484.899 L1488.75 709.119 L1645.64 709.119 L1645.64 484.899 L1488.75 484.899 L1488.75 484.899  Z\n",
       "  \" fill=\"#009af9\" fill-rule=\"evenodd\" fill-opacity=\"1\"/>\n",
       "<polyline clip-path=\"url(#clip122)\" style=\"stroke:#000000; stroke-linecap:round; stroke-linejoin:round; stroke-width:4; stroke-opacity:1; fill:none\" points=\"\n",
       "  1488.75,484.899 1488.75,709.119 1645.64,709.119 1645.64,484.899 1488.75,484.899 \n",
       "  \"/>\n",
       "<path clip-path=\"url(#clip122)\" d=\"\n",
       "M1684.86 1233.62 L1684.86 709.119 L1841.75 709.119 L1841.75 1233.62 L1684.86 1233.62 L1684.86 1233.62  Z\n",
       "  \" fill=\"#009af9\" fill-rule=\"evenodd\" fill-opacity=\"1\"/>\n",
       "<polyline clip-path=\"url(#clip122)\" style=\"stroke:#000000; stroke-linecap:round; stroke-linejoin:round; stroke-width:4; stroke-opacity:1; fill:none\" points=\"\n",
       "  1684.86,1233.62 1684.86,709.119 1841.75,709.119 1841.75,1233.62 1684.86,1233.62 \n",
       "  \"/>\n",
       "<path clip-path=\"url(#clip122)\" d=\"\n",
       "M1880.98 491.309 L1880.98 709.119 L2037.87 709.119 L2037.87 491.309 L1880.98 491.309 L1880.98 491.309  Z\n",
       "  \" fill=\"#009af9\" fill-rule=\"evenodd\" fill-opacity=\"1\"/>\n",
       "<polyline clip-path=\"url(#clip122)\" style=\"stroke:#000000; stroke-linecap:round; stroke-linejoin:round; stroke-width:4; stroke-opacity:1; fill:none\" points=\"\n",
       "  1880.98,491.309 1880.98,709.119 2037.87,709.119 2037.87,491.309 1880.98,491.309 \n",
       "  \"/>\n",
       "<path clip-path=\"url(#clip122)\" d=\"\n",
       "M2077.09 408.996 L2077.09 709.119 L2233.98 709.119 L2233.98 408.996 L2077.09 408.996 L2077.09 408.996  Z\n",
       "  \" fill=\"#009af9\" fill-rule=\"evenodd\" fill-opacity=\"1\"/>\n",
       "<polyline clip-path=\"url(#clip122)\" style=\"stroke:#000000; stroke-linecap:round; stroke-linejoin:round; stroke-width:4; stroke-opacity:1; fill:none\" points=\"\n",
       "  2077.09,408.996 2077.09,709.119 2233.98,709.119 2233.98,408.996 2077.09,408.996 \n",
       "  \"/>\n",
       "<circle clip-path=\"url(#clip122)\" style=\"fill:#009af9; stroke:none; fill-opacity:0\" cx=\"390.508\" cy=\"87.9763\" r=\"2\"/>\n",
       "<circle clip-path=\"url(#clip122)\" style=\"fill:#009af9; stroke:none; fill-opacity:0\" cx=\"586.622\" cy=\"855.954\" r=\"2\"/>\n",
       "<circle clip-path=\"url(#clip122)\" style=\"fill:#009af9; stroke:none; fill-opacity:0\" cx=\"782.736\" cy=\"966.292\" r=\"2\"/>\n",
       "<circle clip-path=\"url(#clip122)\" style=\"fill:#009af9; stroke:none; fill-opacity:0\" cx=\"978.851\" cy=\"633.92\" r=\"2\"/>\n",
       "<circle clip-path=\"url(#clip122)\" style=\"fill:#009af9; stroke:none; fill-opacity:0\" cx=\"1174.96\" cy=\"490.968\" r=\"2\"/>\n",
       "<circle clip-path=\"url(#clip122)\" style=\"fill:#009af9; stroke:none; fill-opacity:0\" cx=\"1371.08\" cy=\"1445.72\" r=\"2\"/>\n",
       "<circle clip-path=\"url(#clip122)\" style=\"fill:#009af9; stroke:none; fill-opacity:0\" cx=\"1567.19\" cy=\"484.899\" r=\"2\"/>\n",
       "<circle clip-path=\"url(#clip122)\" style=\"fill:#009af9; stroke:none; fill-opacity:0\" cx=\"1763.31\" cy=\"1233.62\" r=\"2\"/>\n",
       "<circle clip-path=\"url(#clip122)\" style=\"fill:#009af9; stroke:none; fill-opacity:0\" cx=\"1959.42\" cy=\"491.309\" r=\"2\"/>\n",
       "<circle clip-path=\"url(#clip122)\" style=\"fill:#009af9; stroke:none; fill-opacity:0\" cx=\"2155.54\" cy=\"408.996\" r=\"2\"/>\n",
       "</svg>\n"
      ]
     },
     "metadata": {},
     "output_type": "display_data"
    }
   ],
   "source": [
    "function normalize(x_train, mean_=nothing, std_=nothing)\n",
    "    if mean_ == nothing && std_ == nothing\n",
    "        #TODO normalize x_train\n",
    "        #return `normalized_train_x`, `mean_`, `std_`\n",
    "        #mean_ and std_ will be re-used to pre-process test set\n",
    "        mean_ = mean(x_train, dims=1)\n",
    "        std_ = std(x_train, dims=1)\n",
    "        z_score = (x_train .- mean_) ./ std_\n",
    "        return z_score, mean_, std_\n",
    "    end\n",
    "    return (x_train .- mean_) ./ std_\n",
    "end\n",
    "\n",
    "normalized_train_x, mean_, std_ = normalize(train_x_new)\n",
    "\n",
    "s_mean = compute_average_intensity(normalized_train_x, train_y)\n",
    "bar(0:9, s_mean, legend=false)"
   ]
  },
  {
   "cell_type": "markdown",
   "id": "ff7aa29a",
   "metadata": {
    "colab_type": "text",
    "id": "KRLBISDqrRDW"
   },
   "source": [
    "### Construct  data"
   ]
  },
  {
   "cell_type": "code",
   "execution_count": 11,
   "id": "efe8d064",
   "metadata": {},
   "outputs": [
    {
     "data": {
      "text/plain": [
       "(60000, 1)"
      ]
     },
     "metadata": {},
     "output_type": "display_data"
    }
   ],
   "source": [
    "# change the label: y=1 -> stay unchanged, y!=1 -> y=0\n",
    "train_y_new = reshape(deepcopy(train_y), (size(train_y)[1], 1))\n",
    "train_y_new[train_y_new .!= 1] .= 0\n",
    "size(train_y_new)"
   ]
  },
  {
   "cell_type": "code",
   "execution_count": 12,
   "id": "98dfb0f9",
   "metadata": {},
   "outputs": [
    {
     "data": {
      "text/plain": [
       "(60000, 3)"
      ]
     },
     "metadata": {},
     "output_type": "display_data"
    }
   ],
   "source": [
    "# contruct data by adding ones\n",
    "add_one_train_x = hcat(ones(size(normalized_train_x)[1],), normalized_train_x)\n",
    "size(add_one_train_x)"
   ]
  },
  {
   "cell_type": "markdown",
   "id": "ef20783b",
   "metadata": {
    "colab_type": "text",
    "id": "CIeY4oA8rRDo"
   },
   "source": [
    "### Sigmoid function and derivative of the sigmoid function"
   ]
  },
  {
   "cell_type": "code",
   "execution_count": 13,
   "id": "08a7c92c",
   "metadata": {},
   "outputs": [
    {
     "data": {
      "text/plain": [
       "sigmoid_deriv (generic function with 1 method)"
      ]
     },
     "metadata": {},
     "output_type": "display_data"
    }
   ],
   "source": [
    "function sigmoid_activation(x)\n",
    "    \"\"\"\n",
    "    Compute the sigmoid activation value for a given input\n",
    "    \"\"\"\n",
    "    return 1.0 ./ (1.0 .+ exp.(-x))\n",
    "end\n",
    "\n",
    "function sigmoid_deriv(x)\n",
    "    \"\"\"\n",
    "    Compute the derivative of the sigmoid function ASSUMING\n",
    "    that the input 'x' has already been passed through the sigmoid\n",
    "    activation function\n",
    "    \"\"\"\n",
    "    return x .* (1 .- x)\n",
    "end"
   ]
  },
  {
   "cell_type": "markdown",
   "id": "b378bcda",
   "metadata": {
    "colab_type": "text",
    "id": "bvFr3X38rRD0"
   },
   "source": [
    "### Compute output"
   ]
  },
  {
   "cell_type": "code",
   "execution_count": 14,
   "id": "37b4e61f",
   "metadata": {},
   "outputs": [
    {
     "data": {
      "text/plain": [
       "predict (generic function with 1 method)"
      ]
     },
     "metadata": {},
     "output_type": "display_data"
    }
   ],
   "source": [
    "function compute_h(W, X)\n",
    "    \"\"\"\n",
    "    Compute output: Take the inner product between our features 'X' and the weight\n",
    "    matrix 'W', then pass this value through our sigmoid activation function \n",
    "    \"\"\"\n",
    "    return X*W\n",
    "end\n",
    "\n",
    "function predict(W, X)\n",
    "    \"\"\"\n",
    "    Take the inner product between our features and weight matrix, \n",
    "    then pass this value through our sigmoid activation\n",
    "    \"\"\"\n",
    "    preds = sigmoid_activation(compute_h(W, X))\n",
    "\n",
    "    # apply a step function to threshold the outputs to binary\n",
    "    # class labels\n",
    "    preds[preds .<= 0.5] .= 0\n",
    "    preds[preds .> 0] .= 1\n",
    "\n",
    "    return preds\n",
    "end"
   ]
  },
  {
   "cell_type": "markdown",
   "id": "d4a09ea4",
   "metadata": {},
   "source": [
    "### Compute gradient"
   ]
  },
  {
   "cell_type": "markdown",
   "id": "7d90076f",
   "metadata": {},
   "source": [
    "**Loss Function: Average negative log likelihood**\n",
    "$$\\mathcal{L}=\\dfrac{1}{N} \\sum_{i=1}^{N} -\\left(y^{i}\\ln h_{\\mathbf{w}}\\left(\\mathbf{x}^{i}\\right)+\\left(1-y^{i}\\right)\\ln \\left(1-h_{\\mathbf{w}}\\left(x^{i}\\right)\\right)\\right) $$\n",
    "\n",
    "\n",
    "$$\\text{Sigmoid Activation: } z= \\sigma \\left(h\\right)= \\dfrac{1}{1+e^{-h}}$$\n",
    "\n",
    "$$\\text{Cross-entropy: } J(w)=-\\left({ylog(z)+(1-y)log(1-z)}\\right)$$\n",
    "\n",
    "$$\\text{Chain rule: } \\dfrac{\\partial J(w)}{\\partial w}=\\dfrac{\\partial J(w)}{\\partial z} \\dfrac{\\partial z}{\\partial h}\\dfrac{\\partial h}{\\partial w}  $$\n",
    "\n",
    "$$\\dfrac{\\partial J(w)}{\\partial z}=-\\left(\\dfrac{y}{z}-\\dfrac{1-y}{1-z}\\right)=\\dfrac{z-y}{z(1-z)}$$\n",
    "\n",
    "$$\\dfrac{\\partial z}{\\partial h}=z(1-z)$$\n",
    "\n",
    "$$\\dfrac{\\partial h}{\\partial w}=X$$\n",
    "\n",
    "$$\\dfrac{\\partial J(w)}{\\partial w}=X^T(z-y)$$"
   ]
  },
  {
   "cell_type": "code",
   "execution_count": 15,
   "id": "8a7fe449",
   "metadata": {},
   "outputs": [
    {
     "data": {
      "text/plain": [
       "compute_gradient (generic function with 1 method)"
      ]
     },
     "metadata": {},
     "output_type": "display_data"
    }
   ],
   "source": [
    "function compute_gradient(error, train_x)\n",
    "    \"\"\"\n",
    "    the gradient descent update is the dot product between our\n",
    "    features and the error of the sigmoid derivative of\n",
    "    our predictions\n",
    "    \"\"\"\n",
    "    #TODO compute gradient\n",
    "    gradient = (train_x' * error) / size(train_x)[1]\n",
    "    return gradient\n",
    "end"
   ]
  },
  {
   "cell_type": "code",
   "execution_count": 16,
   "id": "cd44a9dc",
   "metadata": {},
   "outputs": [
    {
     "data": {
      "text/plain": [
       "train (generic function with 1 method)"
      ]
     },
     "metadata": {},
     "output_type": "display_data"
    }
   ],
   "source": [
    "function train(W, train_x, train_y, learning_rate, num_epochs)\n",
    "    losses = []\n",
    "    for epoch in 1:num_epochs\n",
    "        y_hat = sigmoid_activation(compute_h(W, train_x))\n",
    "        error = y_hat - train_y\n",
    "        append!(losses, mean(-1 .* train_y .* log.(y_hat) .- (1 .- train_y) .* log.(1 .- y_hat)))\n",
    "        grad = compute_gradient(error, train_x)\n",
    "        W -= learning_rate * grad\n",
    "\n",
    "        if epoch == 1 || epoch % 50 == 0\n",
    "            print(\"Epoch=$epoch; Loss=$(losses[end])\\n\")\n",
    "        end\n",
    "    end\n",
    "    return W, losses\n",
    "end"
   ]
  },
  {
   "cell_type": "markdown",
   "id": "c7f5f22e",
   "metadata": {
    "colab_type": "text",
    "id": "ovhGMiV6rREb"
   },
   "source": [
    "### Train our model"
   ]
  },
  {
   "cell_type": "code",
   "execution_count": 26,
   "id": "73ee3728",
   "metadata": {
    "scrolled": true
   },
   "outputs": [
    {
     "name": "stdout",
     "output_type": "stream",
     "text": [
      "Epoch=1; Loss=0.5469361457717118\n",
      "Epoch=50; Loss=0.5023202495341512\n"
     ]
    },
    {
     "name": "stdout",
     "output_type": "stream",
     "text": [
      "Epoch=100; Loss=0.46589601163103506\n",
      "Epoch=150; Loss=0.43639449089335236\n"
     ]
    },
    {
     "name": "stdout",
     "output_type": "stream",
     "text": [
      "Epoch=200; Loss=0.4121689832212591\n",
      "Epoch=250; Loss=0.3920235976771426\n"
     ]
    },
    {
     "name": "stdout",
     "output_type": "stream",
     "text": [
      "Epoch=300; Loss=0.3750779410124907\n",
      "Epoch=350; Loss=0.3606744390668767\n"
     ]
    },
    {
     "name": "stdout",
     "output_type": "stream",
     "text": [
      "Epoch=400; Loss=0.3483149435776842\n",
      "Epoch=450; Loss=0.3376170163395046\n"
     ]
    },
    {
     "name": "stdout",
     "output_type": "stream",
     "text": [
      "Epoch=500; Loss=0.32828340739610057\n",
      "Epoch=550; Loss=0.32008044490994375\n"
     ]
    },
    {
     "name": "stdout",
     "output_type": "stream",
     "text": [
      "Epoch=600; Loss=0.31282251504692127\n",
      "Epoch=650; Loss=0.3063607603753689\n"
     ]
    },
    {
     "name": "stdout",
     "output_type": "stream",
     "text": [
      "Epoch=700; Loss=0.3005747418050664\n",
      "Epoch=750; Loss=0.2953662115389875\n"
     ]
    },
    {
     "name": "stdout",
     "output_type": "stream",
     "text": [
      "Epoch=800; Loss=0.29065440990685043\n",
      "Epoch=850; Loss=0.2863724761249126\n"
     ]
    },
    {
     "name": "stdout",
     "output_type": "stream",
     "text": [
      "Epoch=900; Loss=0.28246468287687637\n",
      "Epoch=950; Loss=0.27888428678316296\n"
     ]
    },
    {
     "name": "stdout",
     "output_type": "stream",
     "text": [
      "Epoch=1000; Loss=0.27559184392112374\n",
      "Epoch=1050; Loss=0.2725538797445481\n"
     ]
    },
    {
     "name": "stdout",
     "output_type": "stream",
     "text": [
      "Epoch=1100; Loss=0.2697418313838136\n",
      "Epoch=1150; Loss=0.2671312009456611\n"
     ]
    },
    {
     "name": "stdout",
     "output_type": "stream",
     "text": [
      "Epoch=1200; Loss=0.26470087346693266\n",
      "Epoch=1250; Loss=0.26243256424013356\n"
     ]
    },
    {
     "name": "stdout",
     "output_type": "stream",
     "text": [
      "Epoch=1300; Loss=0.26031036844514305\n",
      "Epoch=1350; Loss=0.25832039217596603\n"
     ]
    },
    {
     "name": "stdout",
     "output_type": "stream",
     "text": [
      "Epoch=1400; Loss=0.2564504485983821\n",
      "Epoch=1450; Loss=0.25468980650915285\n"
     ]
    },
    {
     "name": "stdout",
     "output_type": "stream",
     "text": [
      "Epoch=1500; Loss=0.2530289812749766\n",
      "Epoch=1550; Loss=0.25145956021679156\n"
     ]
    },
    {
     "name": "stdout",
     "output_type": "stream",
     "text": [
      "Epoch=1600; Loss=0.24997405612422263\n",
      "Epoch=1650; Loss=0.24856578384824315\n"
     ]
    },
    {
     "name": "stdout",
     "output_type": "stream",
     "text": [
      "Epoch=1700; Loss=0.24722875591111704\n",
      "Epoch=1750; Loss=0.245957593854135\n"
     ]
    },
    {
     "name": "stdout",
     "output_type": "stream",
     "text": [
      "Epoch=1800; Loss=0.24474745266291478\n",
      "Epoch=1850; Loss=0.2435939561030917\n"
     ]
    },
    {
     "name": "stdout",
     "output_type": "stream",
     "text": [
      "Epoch=1900; Loss=0.24249314119357684\n",
      "Epoch=1950; Loss=0.24144141036133712\n"
     ]
    },
    {
     "name": "stdout",
     "output_type": "stream",
     "text": [
      "Epoch=2000; Loss=0.24043549007717957\n"
     ]
    }
   ],
   "source": [
    "W = rand(Normal(), (size(add_one_train_x)[2], 1))\n",
    "\n",
    "num_epochs=2000\n",
    "learning_rate=0.01\n",
    "W, losses = train(W, add_one_train_x, train_y_new, learning_rate, num_epochs);"
   ]
  },
  {
   "cell_type": "code",
   "execution_count": 27,
   "id": "ac5a2524",
   "metadata": {},
   "outputs": [
    {
     "data": {
      "image/png": "[encoded data removed]",
      "image/svg+xml": "<?xml version=\"1.0\" encoding=\"utf-8\"?>\n<svg xmlns=\"http://www.w3.org/2000/svg\" xmlns:xlink=\"http://www.w3.org/1999/xlink\" width=\"600\" height=\"400\" viewBox=\"0 0 2400 1600\">\n<defs>\n  <clipPath id=\"clip430\">\n    <rect x=\"0\" y=\"0\" width=\"2400\" height=\"1600\"/>\n  </clipPath>\n</defs>\n<path clip-path=\"url(#clip430)\" d=\"\nM0 1600 L2400 1600 L2400 0 L0 0  Z\n  \" fill=\"#ffffff\" fill-rule=\"evenodd\" fill-opacity=\"1\"/>\n<defs>\n  <clipPath id=\"clip431\">\n    <rect x=\"480\" y=\"0\" width=\"1681\" height=\"1600\"/>\n  </clipPath>\n</defs>\n<path clip-path=\"url(#clip430)\" d=\"\nM186.274 1486.45 L2352.76 1486.45 L2352.76 47.2441 L186.274 47.2441  Z\n  \" fill=\"#ffffff\" fill-rule=\"evenodd\" fill-opacity=\"1\"/>\n<defs>\n  <clipPath id=\"clip432\">\n    <rect x=\"186\" y=\"47\" width=\"2167\" height=\"1440\"/>\n  </clipPath>\n</defs>\n<polyline clip-path=\"url(#clip432)\" style=\"stroke:#000000; stroke-linecap:round; stroke-linejoin:round; stroke-width:2; stroke-opacity:0.1; fill:none\" points=\"\n  246.567,1486.45 246.567,47.2441 \n  \"/>\n<polyline clip-path=\"url(#clip432)\" style=\"stroke:#000000; stroke-linecap:round; stroke-linejoin:round; stroke-width:2; stroke-opacity:0.1; fill:none\" points=\"\n  757.785,1486.45 757.785,47.2441 \n  \"/>\n<polyline clip-path=\"url(#clip432)\" style=\"stroke:#000000; stroke-linecap:round; stroke-linejoin:round; stroke-width:2; stroke-opacity:0.1; fill:none\" points=\"\n  1269,1486.45 1269,47.2441 \n  \"/>\n<polyline clip-path=\"url(#clip432)\" style=\"stroke:#000000; stroke-linecap:round; stroke-linejoin:round; stroke-width:2; stroke-opacity:0.1; fill:none\" points=\"\n  1780.22,1486.45 1780.22,47.2441 \n  \"/>\n<polyline clip-path=\"url(#clip432)\" style=\"stroke:#000000; stroke-linecap:round; stroke-linejoin:round; stroke-width:2; stroke-opacity:0.1; fill:none\" points=\"\n  2291.44,1486.45 2291.44,47.2441 \n  \"/>\n<polyline clip-path=\"url(#clip430)\" style=\"stroke:#000000; stroke-linecap:round; stroke-linejoin:round; stroke-width:4; stroke-opacity:1; fill:none\" points=\"\n  186.274,1486.45 2352.76,1486.45 \n  \"/>\n<polyline clip-path=\"url(#clip430)\" style=\"stroke:#000000; stroke-linecap:round; stroke-linejoin:round; stroke-width:4; stroke-opacity:1; fill:none\" points=\"\n  246.567,1486.45 246.567,1467.55 \n  \"/>\n<polyline clip-path=\"url(#clip430)\" style=\"stroke:#000000; stroke-linecap:round; stroke-linejoin:round; stroke-width:4; stroke-opacity:1; fill:none\" points=\"\n  757.785,1486.45 757.785,1467.55 \n  \"/>\n<polyline clip-path=\"url(#clip430)\" style=\"stroke:#000000; stroke-linecap:round; stroke-linejoin:round; stroke-width:4; stroke-opacity:1; fill:none\" points=\"\n  1269,1486.45 1269,1467.55 \n  \"/>\n<polyline clip-path=\"url(#clip430)\" style=\"stroke:#000000; stroke-linecap:round; stroke-linejoin:round; stroke-width:4; stroke-opacity:1; fill:none\" points=\"\n  1780.22,1486.45 1780.22,1467.55 \n  \"/>\n<polyline clip-path=\"url(#clip430)\" style=\"stroke:#000000; stroke-linecap:round; stroke-linejoin:round; stroke-width:4; stroke-opacity:1; fill:none\" points=\"\n  2291.44,1486.45 2291.44,1467.55 \n  \"/>\n<path clip-path=\"url(#clip430)\" d=\"M246.567 1517.37 Q242.956 1517.37 241.127 1520.93 Q239.322 1524.47 239.322 1531.6 Q239.322 1538.71 241.127 1542.27 Q242.956 1545.82 246.567 1545.82 Q250.201 1545.82 252.007 1542.27 Q253.836 1538.71 253.836 1531.6 Q253.836 1524.47 252.007 1520.93 Q250.201 1517.37 246.567 1517.37 M246.567 1513.66 Q252.377 1513.66 255.433 1518.27 Q258.511 1522.85 258.511 1531.6 Q258.511 1540.33 255.433 1544.94 Q252.377 1549.52 246.567 1549.52 Q240.757 1549.52 237.678 1544.94 Q234.623 1540.33 234.623 1531.6 Q234.623 1522.85 237.678 1518.27 Q240.757 1513.66 246.567 1513.66 Z\" fill=\"#000000\" fill-rule=\"evenodd\" fill-opacity=\"1\" /><path clip-path=\"url(#clip430)\" d=\"M717.404 1514.29 L735.76 1514.29 L735.76 1518.22 L721.686 1518.22 L721.686 1526.7 Q722.705 1526.35 723.723 1526.19 Q724.742 1526 725.76 1526 Q731.547 1526 734.927 1529.17 Q738.306 1532.34 738.306 1537.76 Q738.306 1543.34 734.834 1546.44 Q731.362 1549.52 725.043 1549.52 Q722.867 1549.52 720.598 1549.15 Q718.353 1548.78 715.945 1548.04 L715.945 1543.34 Q718.029 1544.47 720.251 1545.03 Q722.473 1545.58 724.95 1545.58 Q728.955 1545.58 731.292 1543.48 Q733.63 1541.37 733.63 1537.76 Q733.63 1534.15 731.292 1532.04 Q728.955 1529.94 724.95 1529.94 Q723.075 1529.94 721.2 1530.35 Q719.348 1530.77 717.404 1531.65 L717.404 1514.29 Z\" fill=\"#000000\" fill-rule=\"evenodd\" fill-opacity=\"1\" /><path clip-path=\"url(#clip430)\" d=\"M757.519 1517.37 Q753.908 1517.37 752.079 1520.93 Q750.274 1524.47 750.274 1531.6 Q750.274 1538.71 752.079 1542.27 Q753.908 1545.82 757.519 1545.82 Q761.153 1545.82 762.959 1542.27 Q764.788 1538.71 764.788 1531.6 Q764.788 1524.47 762.959 1520.93 Q761.153 1517.37 757.519 1517.37 M757.519 1513.66 Q763.329 1513.66 766.385 1518.27 Q769.464 1522.85 769.464 1531.6 Q769.464 1540.33 766.385 1544.94 Q763.329 1549.52 757.519 1549.52 Q751.709 1549.52 748.63 1544.94 Q745.575 1540.33 745.575 1531.6 Q745.575 1522.85 748.63 1518.27 Q751.709 1513.66 757.519 1513.66 Z\" fill=\"#000000\" fill-rule=\"evenodd\" fill-opacity=\"1\" /><path clip-path=\"url(#clip430)\" d=\"M787.681 1517.37 Q784.07 1517.37 782.241 1520.93 Q780.436 1524.47 780.436 1531.6 Q780.436 1538.71 782.241 1542.27 Q784.07 1545.82 787.681 1545.82 Q791.315 1545.82 793.121 1542.27 Q794.95 1538.71 794.95 1531.6 Q794.95 1524.47 793.121 1520.93 Q791.315 1517.37 787.681 1517.37 M787.681 1513.66 Q793.491 1513.66 796.547 1518.27 Q799.625 1522.85 799.625 1531.6 Q799.625 1540.33 796.547 1544.94 Q793.491 1549.52 787.681 1549.52 Q781.871 1549.52 778.792 1544.94 Q775.737 1540.33 775.737 1531.6 Q775.737 1522.85 778.792 1518.27 Q781.871 1513.66 787.681 1513.66 Z\" fill=\"#000000\" fill-rule=\"evenodd\" fill-opacity=\"1\" /><path clip-path=\"url(#clip430)\" d=\"M1213.53 1544.91 L1221.17 1544.91 L1221.17 1518.55 L1212.86 1520.21 L1212.86 1515.95 L1221.12 1514.29 L1225.8 1514.29 L1225.8 1544.91 L1233.44 1544.91 L1233.44 1548.85 L1213.53 1548.85 L1213.53 1544.91 Z\" fill=\"#000000\" fill-rule=\"evenodd\" fill-opacity=\"1\" /><path clip-path=\"url(#clip430)\" d=\"M1252.88 1517.37 Q1249.27 1517.37 1247.44 1520.93 Q1245.64 1524.47 1245.64 1531.6 Q1245.64 1538.71 1247.44 1542.27 Q1249.27 1545.82 1252.88 1545.82 Q1256.52 1545.82 1258.32 1542.27 Q1260.15 1538.71 1260.15 1531.6 Q1260.15 1524.47 1258.32 1520.93 Q1256.52 1517.37 1252.88 1517.37 M1252.88 1513.66 Q1258.69 1513.66 1261.75 1518.27 Q1264.83 1522.85 1264.83 1531.6 Q1264.83 1540.33 1261.75 1544.94 Q1258.69 1549.52 1252.88 1549.52 Q1247.07 1549.52 1243.99 1544.94 Q1240.94 1540.33 1240.94 1531.6 Q1240.94 1522.85 1243.99 1518.27 Q1247.07 1513.66 1252.88 1513.66 Z\" fill=\"#000000\" fill-rule=\"evenodd\" fill-opacity=\"1\" /><path clip-path=\"url(#clip430)\" d=\"M1283.04 1517.37 Q1279.43 1517.37 1277.6 1520.93 Q1275.8 1524.47 1275.8 1531.6 Q1275.8 1538.71 1277.6 1542.27 Q1279.43 1545.82 1283.04 1545.82 Q1286.68 1545.82 1288.48 1542.27 Q1290.31 1538.71 1290.31 1531.6 Q1290.31 1524.47 1288.48 1520.93 Q1286.68 1517.37 1283.04 1517.37 M1283.04 1513.66 Q1288.85 1513.66 1291.91 1518.27 Q1294.99 1522.85 1294.99 1531.6 Q1294.99 1540.33 1291.91 1544.94 Q1288.85 1549.52 1283.04 1549.52 Q1277.23 1549.52 1274.15 1544.94 Q1271.1 1540.33 1271.1 1531.6 Q1271.1 1522.85 1274.15 1518.27 Q1277.23 1513.66 1283.04 1513.66 Z\" fill=\"#000000\" fill-rule=\"evenodd\" fill-opacity=\"1\" /><path clip-path=\"url(#clip430)\" d=\"M1313.2 1517.37 Q1309.59 1517.37 1307.77 1520.93 Q1305.96 1524.47 1305.96 1531.6 Q1305.96 1538.71 1307.77 1542.27 Q1309.59 1545.82 1313.2 1545.82 Q1316.84 1545.82 1318.64 1542.27 Q1320.47 1538.71 1320.47 1531.6 Q1320.47 1524.47 1318.64 1520.93 Q1316.84 1517.37 1313.2 1517.37 M1313.2 1513.66 Q1319.02 1513.66 1322.07 1518.27 Q1325.15 1522.85 1325.15 1531.6 Q1325.15 1540.33 1322.07 1544.94 Q1319.02 1549.52 1313.2 1549.52 Q1307.39 1549.52 1304.32 1544.94 Q1301.26 1540.33 1301.26 1531.6 Q1301.26 1522.85 1304.32 1518.27 Q1307.39 1513.66 1313.2 1513.66 Z\" fill=\"#000000\" fill-rule=\"evenodd\" fill-opacity=\"1\" /><path clip-path=\"url(#clip430)\" d=\"M1724.75 1544.91 L1732.39 1544.91 L1732.39 1518.55 L1724.08 1520.21 L1724.08 1515.95 L1732.34 1514.29 L1737.02 1514.29 L1737.02 1544.91 L1744.66 1544.91 L1744.66 1548.85 L1724.75 1548.85 L1724.75 1544.91 Z\" fill=\"#000000\" fill-rule=\"evenodd\" fill-opacity=\"1\" /><path clip-path=\"url(#clip430)\" d=\"M1754.15 1514.29 L1772.5 1514.29 L1772.5 1518.22 L1758.43 1518.22 L1758.43 1526.7 Q1759.45 1526.35 1760.47 1526.19 Q1761.48 1526 1762.5 1526 Q1768.29 1526 1771.67 1529.17 Q1775.05 1532.34 1775.05 1537.76 Q1775.05 1543.34 1771.58 1546.44 Q1768.1 1549.52 1761.78 1549.52 Q1759.61 1549.52 1757.34 1549.15 Q1755.09 1548.78 1752.69 1548.04 L1752.69 1543.34 Q1754.77 1544.47 1756.99 1545.03 Q1759.22 1545.58 1761.69 1545.58 Q1765.7 1545.58 1768.03 1543.48 Q1770.37 1541.37 1770.37 1537.76 Q1770.37 1534.15 1768.03 1532.04 Q1765.7 1529.94 1761.69 1529.94 Q1759.82 1529.94 1757.94 1530.35 Q1756.09 1530.77 1754.15 1531.65 L1754.15 1514.29 Z\" fill=\"#000000\" fill-rule=\"evenodd\" fill-opacity=\"1\" /><path clip-path=\"url(#clip430)\" d=\"M1794.26 1517.37 Q1790.65 1517.37 1788.82 1520.93 Q1787.02 1524.47 1787.02 1531.6 Q1787.02 1538.71 1788.82 1542.27 Q1790.65 1545.82 1794.26 1545.82 Q1797.9 1545.82 1799.7 1542.27 Q1801.53 1538.71 1801.53 1531.6 Q1801.53 1524.47 1799.7 1520.93 Q1797.9 1517.37 1794.26 1517.37 M1794.26 1513.66 Q1800.07 1513.66 1803.13 1518.27 Q1806.21 1522.85 1806.21 1531.6 Q1806.21 1540.33 1803.13 1544.94 Q1800.07 1549.52 1794.26 1549.52 Q1788.45 1549.52 1785.37 1544.94 Q1782.32 1540.33 1782.32 1531.6 Q1782.32 1522.85 1785.37 1518.27 Q1788.45 1513.66 1794.26 1513.66 Z\" fill=\"#000000\" fill-rule=\"evenodd\" fill-opacity=\"1\" /><path clip-path=\"url(#clip430)\" d=\"M1824.42 1517.37 Q1820.81 1517.37 1818.98 1520.93 Q1817.18 1524.47 1817.18 1531.6 Q1817.18 1538.71 1818.98 1542.27 Q1820.81 1545.82 1824.42 1545.82 Q1828.06 1545.82 1829.86 1542.27 Q1831.69 1538.71 1831.69 1531.6 Q1831.69 1524.47 1829.86 1520.93 Q1828.06 1517.37 1824.42 1517.37 M1824.42 1513.66 Q1830.23 1513.66 1833.29 1518.27 Q1836.37 1522.85 1836.37 1531.6 Q1836.37 1540.33 1833.29 1544.94 Q1830.23 1549.52 1824.42 1549.52 Q1818.61 1549.52 1815.53 1544.94 Q1812.48 1540.33 1812.48 1531.6 Q1812.48 1522.85 1815.53 1518.27 Q1818.61 1513.66 1824.42 1513.66 Z\" fill=\"#000000\" fill-rule=\"evenodd\" fill-opacity=\"1\" /><path clip-path=\"url(#clip430)\" d=\"M2240.05 1544.91 L2256.37 1544.91 L2256.37 1548.85 L2234.43 1548.85 L2234.43 1544.91 Q2237.09 1542.16 2241.67 1537.53 Q2246.28 1532.88 2247.46 1531.53 Q2249.7 1529.01 2250.58 1527.27 Q2251.49 1525.51 2251.49 1523.82 Q2251.49 1521.07 2249.54 1519.33 Q2247.62 1517.6 2244.52 1517.6 Q2242.32 1517.6 2239.87 1518.36 Q2237.44 1519.13 2234.66 1520.68 L2234.66 1515.95 Q2237.48 1514.82 2239.94 1514.24 Q2242.39 1513.66 2244.43 1513.66 Q2249.8 1513.66 2252.99 1516.35 Q2256.19 1519.03 2256.19 1523.52 Q2256.19 1525.65 2255.38 1527.57 Q2254.59 1529.47 2252.48 1532.07 Q2251.9 1532.74 2248.8 1535.95 Q2245.7 1539.15 2240.05 1544.91 Z\" fill=\"#000000\" fill-rule=\"evenodd\" fill-opacity=\"1\" /><path clip-path=\"url(#clip430)\" d=\"M2276.19 1517.37 Q2272.57 1517.37 2270.75 1520.93 Q2268.94 1524.47 2268.94 1531.6 Q2268.94 1538.71 2270.75 1542.27 Q2272.57 1545.82 2276.19 1545.82 Q2279.82 1545.82 2281.63 1542.27 Q2283.45 1538.71 2283.45 1531.6 Q2283.45 1524.47 2281.63 1520.93 Q2279.82 1517.37 2276.19 1517.37 M2276.19 1513.66 Q2282 1513.66 2285.05 1518.27 Q2288.13 1522.85 2288.13 1531.6 Q2288.13 1540.33 2285.05 1544.94 Q2282 1549.52 2276.19 1549.52 Q2270.38 1549.52 2267.3 1544.94 Q2264.24 1540.33 2264.24 1531.6 Q2264.24 1522.85 2267.3 1518.27 Q2270.38 1513.66 2276.19 1513.66 Z\" fill=\"#000000\" fill-rule=\"evenodd\" fill-opacity=\"1\" /><path clip-path=\"url(#clip430)\" d=\"M2306.35 1517.37 Q2302.74 1517.37 2300.91 1520.93 Q2299.1 1524.47 2299.1 1531.6 Q2299.1 1538.71 2300.91 1542.27 Q2302.74 1545.82 2306.35 1545.82 Q2309.98 1545.82 2311.79 1542.27 Q2313.62 1538.71 2313.62 1531.6 Q2313.62 1524.47 2311.79 1520.93 Q2309.98 1517.37 2306.35 1517.37 M2306.35 1513.66 Q2312.16 1513.66 2315.21 1518.27 Q2318.29 1522.85 2318.29 1531.6 Q2318.29 1540.33 2315.21 1544.94 Q2312.16 1549.52 2306.35 1549.52 Q2300.54 1549.52 2297.46 1544.94 Q2294.4 1540.33 2294.4 1531.6 Q2294.4 1522.85 2297.46 1518.27 Q2300.54 1513.66 2306.35 1513.66 Z\" fill=\"#000000\" fill-rule=\"evenodd\" fill-opacity=\"1\" /><path clip-path=\"url(#clip430)\" d=\"M2336.51 1517.37 Q2332.9 1517.37 2331.07 1520.93 Q2329.26 1524.47 2329.26 1531.6 Q2329.26 1538.71 2331.07 1542.27 Q2332.9 1545.82 2336.51 1545.82 Q2340.14 1545.82 2341.95 1542.27 Q2343.78 1538.71 2343.78 1531.6 Q2343.78 1524.47 2341.95 1520.93 Q2340.14 1517.37 2336.51 1517.37 M2336.51 1513.66 Q2342.32 1513.66 2345.38 1518.27 Q2348.45 1522.85 2348.45 1531.6 Q2348.45 1540.33 2345.38 1544.94 Q2342.32 1549.52 2336.51 1549.52 Q2330.7 1549.52 2327.62 1544.94 Q2324.57 1540.33 2324.57 1531.6 Q2324.57 1522.85 2327.62 1518.27 Q2330.7 1513.66 2336.51 1513.66 Z\" fill=\"#000000\" fill-rule=\"evenodd\" fill-opacity=\"1\" /><polyline clip-path=\"url(#clip432)\" style=\"stroke:#000000; stroke-linecap:round; stroke-linejoin:round; stroke-width:2; stroke-opacity:0.1; fill:none\" points=\"\n  186.274,1403.35 2352.76,1403.35 \n  \"/>\n<polyline clip-path=\"url(#clip432)\" style=\"stroke:#000000; stroke-linecap:round; stroke-linejoin:round; stroke-width:2; stroke-opacity:0.1; fill:none\" points=\"\n  186.274,1181.86 2352.76,1181.86 \n  \"/>\n<polyline clip-path=\"url(#clip432)\" style=\"stroke:#000000; stroke-linecap:round; stroke-linejoin:round; stroke-width:2; stroke-opacity:0.1; fill:none\" points=\"\n  186.274,960.366 2352.76,960.366 \n  \"/>\n<polyline clip-path=\"url(#clip432)\" style=\"stroke:#000000; stroke-linecap:round; stroke-linejoin:round; stroke-width:2; stroke-opacity:0.1; fill:none\" points=\"\n  186.274,738.875 2352.76,738.875 \n  \"/>\n<polyline clip-path=\"url(#clip432)\" style=\"stroke:#000000; stroke-linecap:round; stroke-linejoin:round; stroke-width:2; stroke-opacity:0.1; fill:none\" points=\"\n  186.274,517.385 2352.76,517.385 \n  \"/>\n<polyline clip-path=\"url(#clip432)\" style=\"stroke:#000000; stroke-linecap:round; stroke-linejoin:round; stroke-width:2; stroke-opacity:0.1; fill:none\" points=\"\n  186.274,295.894 2352.76,295.894 \n  \"/>\n<polyline clip-path=\"url(#clip432)\" style=\"stroke:#000000; stroke-linecap:round; stroke-linejoin:round; stroke-width:2; stroke-opacity:0.1; fill:none\" points=\"\n  186.274,74.404 2352.76,74.404 \n  \"/>\n<polyline clip-path=\"url(#clip430)\" style=\"stroke:#000000; stroke-linecap:round; stroke-linejoin:round; stroke-width:4; stroke-opacity:1; fill:none\" points=\"\n  186.274,1486.45 186.274,47.2441 \n  \"/>\n<polyline clip-path=\"url(#clip430)\" style=\"stroke:#000000; stroke-linecap:round; stroke-linejoin:round; stroke-width:4; stroke-opacity:1; fill:none\" points=\"\n  186.274,1403.35 205.172,1403.35 \n  \"/>\n<polyline clip-path=\"url(#clip430)\" style=\"stroke:#000000; stroke-linecap:round; stroke-linejoin:round; stroke-width:4; stroke-opacity:1; fill:none\" points=\"\n  186.274,1181.86 205.172,1181.86 \n  \"/>\n<polyline clip-path=\"url(#clip430)\" style=\"stroke:#000000; stroke-linecap:round; stroke-linejoin:round; stroke-width:4; stroke-opacity:1; fill:none\" points=\"\n  186.274,960.366 205.172,960.366 \n  \"/>\n<polyline clip-path=\"url(#clip430)\" style=\"stroke:#000000; stroke-linecap:round; stroke-linejoin:round; stroke-width:4; stroke-opacity:1; fill:none\" points=\"\n  186.274,738.875 205.172,738.875 \n  \"/>\n<polyline clip-path=\"url(#clip430)\" style=\"stroke:#000000; stroke-linecap:round; stroke-linejoin:round; stroke-width:4; stroke-opacity:1; fill:none\" points=\"\n  186.274,517.385 205.172,517.385 \n  \"/>\n<polyline clip-path=\"url(#clip430)\" style=\"stroke:#000000; stroke-linecap:round; stroke-linejoin:round; stroke-width:4; stroke-opacity:1; fill:none\" points=\"\n  186.274,295.894 205.172,295.894 \n  \"/>\n<polyline clip-path=\"url(#clip430)\" style=\"stroke:#000000; stroke-linecap:round; stroke-linejoin:round; stroke-width:4; stroke-opacity:1; fill:none\" points=\"\n  186.274,74.404 205.172,74.404 \n  \"/>\n<path clip-path=\"url(#clip430)\" d=\"M63.9319 1389.15 Q60.3208 1389.15 58.4921 1392.71 Q56.6865 1396.25 56.6865 1403.38 Q56.6865 1410.49 58.4921 1414.05 Q60.3208 1417.59 63.9319 1417.59 Q67.5661 1417.59 69.3717 1414.05 Q71.2004 1410.49 71.2004 1403.38 Q71.2004 1396.25 69.3717 1392.71 Q67.5661 1389.15 63.9319 1389.15 M63.9319 1385.44 Q69.742 1385.44 72.7976 1390.05 Q75.8763 1394.63 75.8763 1403.38 Q75.8763 1412.11 72.7976 1416.71 Q69.742 1421.3 63.9319 1421.3 Q58.1217 1421.3 55.043 1416.71 Q51.9875 1412.11 51.9875 1403.38 Q51.9875 1394.63 55.043 1390.05 Q58.1217 1385.44 63.9319 1385.44 Z\" fill=\"#000000\" fill-rule=\"evenodd\" fill-opacity=\"1\" /><path clip-path=\"url(#clip430)\" d=\"M84.0938 1414.75 L88.978 1414.75 L88.978 1420.63 L84.0938 1420.63 L84.0938 1414.75 Z\" fill=\"#000000\" fill-rule=\"evenodd\" fill-opacity=\"1\" /><path clip-path=\"url(#clip430)\" d=\"M103.191 1416.69 L119.51 1416.69 L119.51 1420.63 L97.566 1420.63 L97.566 1416.69 Q100.228 1413.94 104.811 1409.31 Q109.418 1404.65 110.598 1403.31 Q112.844 1400.79 113.723 1399.05 Q114.626 1397.29 114.626 1395.6 Q114.626 1392.85 112.682 1391.11 Q110.76 1389.38 107.658 1389.38 Q105.459 1389.38 103.006 1390.14 Q100.575 1390.9 97.7974 1392.46 L97.7974 1387.73 Q100.621 1386.6 103.075 1386.02 Q105.529 1385.44 107.566 1385.44 Q112.936 1385.44 116.131 1388.13 Q119.325 1390.81 119.325 1395.3 Q119.325 1397.43 118.515 1399.35 Q117.728 1401.25 115.621 1403.84 Q115.043 1404.52 111.941 1407.73 Q108.839 1410.93 103.191 1416.69 Z\" fill=\"#000000\" fill-rule=\"evenodd\" fill-opacity=\"1\" /><path clip-path=\"url(#clip430)\" d=\"M129.371 1386.07 L147.728 1386.07 L147.728 1390 L133.654 1390 L133.654 1398.47 Q134.672 1398.13 135.691 1397.96 Q136.709 1397.78 137.728 1397.78 Q143.515 1397.78 146.894 1400.95 Q150.274 1404.12 150.274 1409.54 Q150.274 1415.12 146.802 1418.22 Q143.33 1421.3 137.01 1421.3 Q134.834 1421.3 132.566 1420.93 Q130.32 1420.56 127.913 1419.82 L127.913 1415.12 Q129.996 1416.25 132.219 1416.81 Q134.441 1417.36 136.918 1417.36 Q140.922 1417.36 143.26 1415.26 Q145.598 1413.15 145.598 1409.54 Q145.598 1405.93 143.26 1403.82 Q140.922 1401.71 136.918 1401.71 Q135.043 1401.71 133.168 1402.13 Q131.316 1402.55 129.371 1403.43 L129.371 1386.07 Z\" fill=\"#000000\" fill-rule=\"evenodd\" fill-opacity=\"1\" /><path clip-path=\"url(#clip430)\" d=\"M62.9365 1167.65 Q59.3254 1167.65 57.4967 1171.22 Q55.6912 1174.76 55.6912 1181.89 Q55.6912 1189 57.4967 1192.56 Q59.3254 1196.1 62.9365 1196.1 Q66.5707 1196.1 68.3763 1192.56 Q70.205 1189 70.205 1181.89 Q70.205 1174.76 68.3763 1171.22 Q66.5707 1167.65 62.9365 1167.65 M62.9365 1163.95 Q68.7467 1163.95 71.8022 1168.56 Q74.8809 1173.14 74.8809 1181.89 Q74.8809 1190.62 71.8022 1195.22 Q68.7467 1199.81 62.9365 1199.81 Q57.1264 1199.81 54.0477 1195.22 Q50.9921 1190.62 50.9921 1181.89 Q50.9921 1173.14 54.0477 1168.56 Q57.1264 1163.95 62.9365 1163.95 Z\" fill=\"#000000\" fill-rule=\"evenodd\" fill-opacity=\"1\" /><path clip-path=\"url(#clip430)\" d=\"M83.0984 1193.26 L87.9827 1193.26 L87.9827 1199.14 L83.0984 1199.14 L83.0984 1193.26 Z\" fill=\"#000000\" fill-rule=\"evenodd\" fill-opacity=\"1\" /><path clip-path=\"url(#clip430)\" d=\"M112.334 1180.5 Q115.691 1181.22 117.566 1183.49 Q119.464 1185.76 119.464 1189.09 Q119.464 1194.21 115.945 1197.01 Q112.427 1199.81 105.946 1199.81 Q103.77 1199.81 101.455 1199.37 Q99.1632 1198.95 96.7095 1198.09 L96.7095 1193.58 Q98.6539 1194.72 100.969 1195.29 Q103.284 1195.87 105.807 1195.87 Q110.205 1195.87 112.496 1194.14 Q114.811 1192.4 114.811 1189.09 Q114.811 1186.03 112.658 1184.32 Q110.529 1182.59 106.709 1182.59 L102.682 1182.59 L102.682 1178.74 L106.895 1178.74 Q110.344 1178.74 112.172 1177.38 Q114.001 1175.99 114.001 1173.4 Q114.001 1170.73 112.103 1169.32 Q110.228 1167.89 106.709 1167.89 Q104.788 1167.89 102.589 1168.3 Q100.39 1168.72 97.7511 1169.6 L97.7511 1165.43 Q100.413 1164.69 102.728 1164.32 Q105.066 1163.95 107.126 1163.95 Q112.45 1163.95 115.552 1166.38 Q118.654 1168.79 118.654 1172.91 Q118.654 1175.78 117.01 1177.77 Q115.367 1179.74 112.334 1180.5 Z\" fill=\"#000000\" fill-rule=\"evenodd\" fill-opacity=\"1\" /><path clip-path=\"url(#clip430)\" d=\"M138.33 1167.65 Q134.719 1167.65 132.89 1171.22 Q131.084 1174.76 131.084 1181.89 Q131.084 1189 132.89 1192.56 Q134.719 1196.1 138.33 1196.1 Q141.964 1196.1 143.769 1192.56 Q145.598 1189 145.598 1181.89 Q145.598 1174.76 143.769 1171.22 Q141.964 1167.65 138.33 1167.65 M138.33 1163.95 Q144.14 1163.95 147.195 1168.56 Q150.274 1173.14 150.274 1181.89 Q150.274 1190.62 147.195 1195.22 Q144.14 1199.81 138.33 1199.81 Q132.519 1199.81 129.441 1195.22 Q126.385 1190.62 126.385 1181.89 Q126.385 1173.14 129.441 1168.56 Q132.519 1163.95 138.33 1163.95 Z\" fill=\"#000000\" fill-rule=\"evenodd\" fill-opacity=\"1\" /><path clip-path=\"url(#clip430)\" d=\"M63.9319 946.165 Q60.3208 946.165 58.4921 949.729 Q56.6865 953.271 56.6865 960.401 Q56.6865 967.507 58.4921 971.072 Q60.3208 974.613 63.9319 974.613 Q67.5661 974.613 69.3717 971.072 Q71.2004 967.507 71.2004 960.401 Q71.2004 953.271 69.3717 949.729 Q67.5661 946.165 63.9319 946.165 M63.9319 942.461 Q69.742 942.461 72.7976 947.067 Q75.8763 951.651 75.8763 960.401 Q75.8763 969.127 72.7976 973.734 Q69.742 978.317 63.9319 978.317 Q58.1217 978.317 55.043 973.734 Q51.9875 969.127 51.9875 960.401 Q51.9875 951.651 55.043 947.067 Q58.1217 942.461 63.9319 942.461 Z\" fill=\"#000000\" fill-rule=\"evenodd\" fill-opacity=\"1\" /><path clip-path=\"url(#clip430)\" d=\"M84.0938 971.766 L88.978 971.766 L88.978 977.646 L84.0938 977.646 L84.0938 971.766 Z\" fill=\"#000000\" fill-rule=\"evenodd\" fill-opacity=\"1\" /><path clip-path=\"url(#clip430)\" d=\"M113.33 959.012 Q116.686 959.729 118.561 961.998 Q120.459 964.266 120.459 967.6 Q120.459 972.715 116.941 975.516 Q113.422 978.317 106.941 978.317 Q104.765 978.317 102.45 977.877 Q100.159 977.461 97.7048 976.604 L97.7048 972.09 Q99.6493 973.225 101.964 973.803 Q104.279 974.382 106.802 974.382 Q111.2 974.382 113.492 972.646 Q115.807 970.91 115.807 967.6 Q115.807 964.544 113.654 962.831 Q111.524 961.095 107.705 961.095 L103.677 961.095 L103.677 957.252 L107.89 957.252 Q111.339 957.252 113.168 955.887 Q114.996 954.498 114.996 951.905 Q114.996 949.243 113.098 947.831 Q111.223 946.396 107.705 946.396 Q105.783 946.396 103.584 946.813 Q101.385 947.229 98.7465 948.109 L98.7465 943.942 Q101.409 943.202 103.723 942.831 Q106.061 942.461 108.121 942.461 Q113.445 942.461 116.547 944.891 Q119.649 947.299 119.649 951.419 Q119.649 954.289 118.006 956.28 Q116.362 958.248 113.33 959.012 Z\" fill=\"#000000\" fill-rule=\"evenodd\" fill-opacity=\"1\" /><path clip-path=\"url(#clip430)\" d=\"M129.371 943.086 L147.728 943.086 L147.728 947.021 L133.654 947.021 L133.654 955.493 Q134.672 955.146 135.691 954.984 Q136.709 954.799 137.728 954.799 Q143.515 954.799 146.894 957.97 Q150.274 961.141 150.274 966.558 Q150.274 972.137 146.802 975.238 Q143.33 978.317 137.01 978.317 Q134.834 978.317 132.566 977.947 Q130.32 977.576 127.913 976.836 L127.913 972.137 Q129.996 973.271 132.219 973.826 Q134.441 974.382 136.918 974.382 Q140.922 974.382 143.26 972.275 Q145.598 970.169 145.598 966.558 Q145.598 962.947 143.26 960.84 Q140.922 958.734 136.918 958.734 Q135.043 958.734 133.168 959.151 Q131.316 959.567 129.371 960.447 L129.371 943.086 Z\" fill=\"#000000\" fill-rule=\"evenodd\" fill-opacity=\"1\" /><path clip-path=\"url(#clip430)\" d=\"M62.9365 724.674 Q59.3254 724.674 57.4967 728.239 Q55.6912 731.78 55.6912 738.91 Q55.6912 746.017 57.4967 749.581 Q59.3254 753.123 62.9365 753.123 Q66.5707 753.123 68.3763 749.581 Q70.205 746.017 70.205 738.91 Q70.205 731.78 68.3763 728.239 Q66.5707 724.674 62.9365 724.674 M62.9365 720.97 Q68.7467 720.97 71.8022 725.577 Q74.8809 730.16 74.8809 738.91 Q74.8809 747.637 71.8022 752.243 Q68.7467 756.827 62.9365 756.827 Q57.1264 756.827 54.0477 752.243 Q50.9921 747.637 50.9921 738.91 Q50.9921 730.16 54.0477 725.577 Q57.1264 720.97 62.9365 720.97 Z\" fill=\"#000000\" fill-rule=\"evenodd\" fill-opacity=\"1\" /><path clip-path=\"url(#clip430)\" d=\"M83.0984 750.276 L87.9827 750.276 L87.9827 756.155 L83.0984 756.155 L83.0984 750.276 Z\" fill=\"#000000\" fill-rule=\"evenodd\" fill-opacity=\"1\" /><path clip-path=\"url(#clip430)\" d=\"M111.015 725.669 L99.2095 744.118 L111.015 744.118 L111.015 725.669 M109.788 721.595 L115.668 721.595 L115.668 744.118 L120.598 744.118 L120.598 748.007 L115.668 748.007 L115.668 756.155 L111.015 756.155 L111.015 748.007 L95.4132 748.007 L95.4132 743.493 L109.788 721.595 Z\" fill=\"#000000\" fill-rule=\"evenodd\" fill-opacity=\"1\" /><path clip-path=\"url(#clip430)\" d=\"M138.33 724.674 Q134.719 724.674 132.89 728.239 Q131.084 731.78 131.084 738.91 Q131.084 746.017 132.89 749.581 Q134.719 753.123 138.33 753.123 Q141.964 753.123 143.769 749.581 Q145.598 746.017 145.598 738.91 Q145.598 731.78 143.769 728.239 Q141.964 724.674 138.33 724.674 M138.33 720.97 Q144.14 720.97 147.195 725.577 Q150.274 730.16 150.274 738.91 Q150.274 747.637 147.195 752.243 Q144.14 756.827 138.33 756.827 Q132.519 756.827 129.441 752.243 Q126.385 747.637 126.385 738.91 Q126.385 730.16 129.441 725.577 Q132.519 720.97 138.33 720.97 Z\" fill=\"#000000\" fill-rule=\"evenodd\" fill-opacity=\"1\" /><path clip-path=\"url(#clip430)\" d=\"M63.9319 503.184 Q60.3208 503.184 58.4921 506.748 Q56.6865 510.29 56.6865 517.42 Q56.6865 524.526 58.4921 528.091 Q60.3208 531.633 63.9319 531.633 Q67.5661 531.633 69.3717 528.091 Q71.2004 524.526 71.2004 517.42 Q71.2004 510.29 69.3717 506.748 Q67.5661 503.184 63.9319 503.184 M63.9319 499.48 Q69.742 499.48 72.7976 504.086 Q75.8763 508.67 75.8763 517.42 Q75.8763 526.146 72.7976 530.753 Q69.742 535.336 63.9319 535.336 Q58.1217 535.336 55.043 530.753 Q51.9875 526.146 51.9875 517.42 Q51.9875 508.67 55.043 504.086 Q58.1217 499.48 63.9319 499.48 Z\" fill=\"#000000\" fill-rule=\"evenodd\" fill-opacity=\"1\" /><path clip-path=\"url(#clip430)\" d=\"M84.0938 528.785 L88.978 528.785 L88.978 534.665 L84.0938 534.665 L84.0938 528.785 Z\" fill=\"#000000\" fill-rule=\"evenodd\" fill-opacity=\"1\" /><path clip-path=\"url(#clip430)\" d=\"M112.01 504.179 L100.205 522.628 L112.01 522.628 L112.01 504.179 M110.783 500.105 L116.663 500.105 L116.663 522.628 L121.594 522.628 L121.594 526.517 L116.663 526.517 L116.663 534.665 L112.01 534.665 L112.01 526.517 L96.4085 526.517 L96.4085 522.003 L110.783 500.105 Z\" fill=\"#000000\" fill-rule=\"evenodd\" fill-opacity=\"1\" /><path clip-path=\"url(#clip430)\" d=\"M129.371 500.105 L147.728 500.105 L147.728 504.04 L133.654 504.04 L133.654 512.512 Q134.672 512.165 135.691 512.003 Q136.709 511.818 137.728 511.818 Q143.515 511.818 146.894 514.989 Q150.274 518.16 150.274 523.577 Q150.274 529.156 146.802 532.258 Q143.33 535.336 137.01 535.336 Q134.834 535.336 132.566 534.966 Q130.32 534.595 127.913 533.855 L127.913 529.156 Q129.996 530.29 132.219 530.845 Q134.441 531.401 136.918 531.401 Q140.922 531.401 143.26 529.295 Q145.598 527.188 145.598 523.577 Q145.598 519.966 143.26 517.859 Q140.922 515.753 136.918 515.753 Q135.043 515.753 133.168 516.17 Q131.316 516.586 129.371 517.466 L129.371 500.105 Z\" fill=\"#000000\" fill-rule=\"evenodd\" fill-opacity=\"1\" /><path clip-path=\"url(#clip430)\" d=\"M62.9365 281.693 Q59.3254 281.693 57.4967 285.258 Q55.6912 288.8 55.6912 295.929 Q55.6912 303.036 57.4967 306.6 Q59.3254 310.142 62.9365 310.142 Q66.5707 310.142 68.3763 306.6 Q70.205 303.036 70.205 295.929 Q70.205 288.8 68.3763 285.258 Q66.5707 281.693 62.9365 281.693 M62.9365 277.989 Q68.7467 277.989 71.8022 282.596 Q74.8809 287.179 74.8809 295.929 Q74.8809 304.656 71.8022 309.262 Q68.7467 313.846 62.9365 313.846 Q57.1264 313.846 54.0477 309.262 Q50.9921 304.656 50.9921 295.929 Q50.9921 287.179 54.0477 282.596 Q57.1264 277.989 62.9365 277.989 Z\" fill=\"#000000\" fill-rule=\"evenodd\" fill-opacity=\"1\" /><path clip-path=\"url(#clip430)\" d=\"M83.0984 307.295 L87.9827 307.295 L87.9827 313.174 L83.0984 313.174 L83.0984 307.295 Z\" fill=\"#000000\" fill-rule=\"evenodd\" fill-opacity=\"1\" /><path clip-path=\"url(#clip430)\" d=\"M98.2141 278.614 L116.57 278.614 L116.57 282.55 L102.496 282.55 L102.496 291.022 Q103.515 290.675 104.534 290.513 Q105.552 290.327 106.571 290.327 Q112.358 290.327 115.737 293.499 Q119.117 296.67 119.117 302.087 Q119.117 307.665 115.645 310.767 Q112.172 313.846 105.853 313.846 Q103.677 313.846 101.409 313.475 Q99.1632 313.105 96.7558 312.364 L96.7558 307.665 Q98.8391 308.799 101.061 309.355 Q103.284 309.911 105.76 309.911 Q109.765 309.911 112.103 307.804 Q114.441 305.698 114.441 302.087 Q114.441 298.475 112.103 296.369 Q109.765 294.263 105.76 294.263 Q103.885 294.263 102.01 294.679 Q100.159 295.096 98.2141 295.975 L98.2141 278.614 Z\" fill=\"#000000\" fill-rule=\"evenodd\" fill-opacity=\"1\" /><path clip-path=\"url(#clip430)\" d=\"M138.33 281.693 Q134.719 281.693 132.89 285.258 Q131.084 288.8 131.084 295.929 Q131.084 303.036 132.89 306.6 Q134.719 310.142 138.33 310.142 Q141.964 310.142 143.769 306.6 Q145.598 303.036 145.598 295.929 Q145.598 288.8 143.769 285.258 Q141.964 281.693 138.33 281.693 M138.33 277.989 Q144.14 277.989 147.195 282.596 Q150.274 287.179 150.274 295.929 Q150.274 304.656 147.195 309.262 Q144.14 313.846 138.33 313.846 Q132.519 313.846 129.441 309.262 Q126.385 304.656 126.385 295.929 Q126.385 287.179 129.441 282.596 Q132.519 277.989 138.33 277.989 Z\" fill=\"#000000\" fill-rule=\"evenodd\" fill-opacity=\"1\" /><path clip-path=\"url(#clip430)\" d=\"M63.9319 60.2027 Q60.3208 60.2027 58.4921 63.7675 Q56.6865 67.3091 56.6865 74.4387 Q56.6865 81.5452 58.4921 85.1099 Q60.3208 88.6516 63.9319 88.6516 Q67.5661 88.6516 69.3717 85.1099 Q71.2004 81.5452 71.2004 74.4387 Q71.2004 67.3091 69.3717 63.7675 Q67.5661 60.2027 63.9319 60.2027 M63.9319 56.499 Q69.742 56.499 72.7976 61.1054 Q75.8763 65.6888 75.8763 74.4387 Q75.8763 83.1655 72.7976 87.772 Q69.742 92.3553 63.9319 92.3553 Q58.1217 92.3553 55.043 87.772 Q51.9875 83.1655 51.9875 74.4387 Q51.9875 65.6888 55.043 61.1054 Q58.1217 56.499 63.9319 56.499 Z\" fill=\"#000000\" fill-rule=\"evenodd\" fill-opacity=\"1\" /><path clip-path=\"url(#clip430)\" d=\"M84.0938 85.8044 L88.978 85.8044 L88.978 91.684 L84.0938 91.684 L84.0938 85.8044 Z\" fill=\"#000000\" fill-rule=\"evenodd\" fill-opacity=\"1\" /><path clip-path=\"url(#clip430)\" d=\"M99.2095 57.124 L117.566 57.124 L117.566 61.0592 L103.492 61.0592 L103.492 69.5313 Q104.51 69.1841 105.529 69.0221 Q106.547 68.8369 107.566 68.8369 Q113.353 68.8369 116.733 72.0082 Q120.112 75.1794 120.112 80.5961 Q120.112 86.1748 116.64 89.2766 Q113.168 92.3553 106.848 92.3553 Q104.672 92.3553 102.404 91.9849 Q100.159 91.6145 97.7511 90.8738 L97.7511 86.1748 Q99.8345 87.309 102.057 87.8646 Q104.279 88.4201 106.756 88.4201 Q110.76 88.4201 113.098 86.3136 Q115.436 84.2072 115.436 80.5961 Q115.436 76.985 113.098 74.8785 Q110.76 72.7721 106.756 72.7721 Q104.881 72.7721 103.006 73.1887 Q101.154 73.6054 99.2095 74.485 L99.2095 57.124 Z\" fill=\"#000000\" fill-rule=\"evenodd\" fill-opacity=\"1\" /><path clip-path=\"url(#clip430)\" d=\"M129.371 57.124 L147.728 57.124 L147.728 61.0592 L133.654 61.0592 L133.654 69.5313 Q134.672 69.1841 135.691 69.0221 Q136.709 68.8369 137.728 68.8369 Q143.515 68.8369 146.894 72.0082 Q150.274 75.1794 150.274 80.5961 Q150.274 86.1748 146.802 89.2766 Q143.33 92.3553 137.01 92.3553 Q134.834 92.3553 132.566 91.9849 Q130.32 91.6145 127.913 90.8738 L127.913 86.1748 Q129.996 87.309 132.219 87.8646 Q134.441 88.4201 136.918 88.4201 Q140.922 88.4201 143.26 86.3136 Q145.598 84.2072 145.598 80.5961 Q145.598 76.985 143.26 74.8785 Q140.922 72.7721 136.918 72.7721 Q135.043 72.7721 133.168 73.1887 Q131.316 73.6054 129.371 74.485 L129.371 57.124 Z\" fill=\"#000000\" fill-rule=\"evenodd\" fill-opacity=\"1\" /><polyline clip-path=\"url(#clip432)\" style=\"stroke:#009af9; stroke-linecap:round; stroke-linejoin:round; stroke-width:4; stroke-opacity:1; fill:none\" points=\"\n  247.59,87.9763 248.612,92.4815 249.634,96.9653 250.657,101.428 251.679,105.869 252.702,110.288 253.724,114.687 254.747,119.065 255.769,123.422 256.791,127.759 \n  257.814,132.075 258.836,136.37 259.859,140.646 260.881,144.901 261.904,149.136 262.926,153.351 263.949,157.546 264.971,161.722 265.993,165.878 267.016,170.015 \n  268.038,174.132 269.061,178.23 270.083,182.309 271.106,186.369 272.128,190.41 273.15,194.432 274.173,198.436 275.195,202.421 276.218,206.388 277.24,210.336 \n  278.263,214.266 279.285,218.178 280.307,222.072 281.33,225.948 282.352,229.807 283.375,233.647 284.397,237.47 285.42,241.276 286.442,245.064 287.465,248.835 \n  288.487,252.589 289.509,256.325 290.532,260.045 291.554,263.748 292.577,267.434 293.599,271.103 294.622,274.756 295.644,278.393 296.666,282.013 297.689,285.616 \n  298.711,289.204 299.734,292.775 300.756,296.33 301.779,299.87 302.801,303.393 303.824,306.901 304.846,310.394 305.868,313.87 306.891,317.332 307.913,320.778 \n  308.936,324.208 309.958,327.624 310.981,331.024 312.003,334.409 313.025,337.78 314.048,341.135 315.07,344.476 316.093,347.802 317.115,351.114 318.138,354.411 \n  319.16,357.693 320.183,360.961 321.205,364.215 322.227,367.455 323.25,370.681 324.272,373.893 325.295,377.09 326.317,380.274 327.34,383.445 328.362,386.601 \n  329.384,389.744 330.407,392.873 331.429,395.989 332.452,399.091 333.474,402.18 334.497,405.256 335.519,408.319 336.542,411.368 337.564,414.405 338.586,417.429 \n  339.609,420.439 340.631,423.437 341.654,426.423 342.676,429.395 343.699,432.355 344.721,435.303 345.743,438.238 346.766,441.16 347.788,444.071 348.811,446.969 \n  349.833,449.855 350.856,452.728 351.878,455.59 352.901,458.44 353.923,461.278 354.945,464.104 355.968,466.918 356.99,469.721 358.013,472.512 359.035,475.291 \n  360.058,478.059 361.08,480.815 362.102,483.56 363.125,486.294 364.147,489.016 365.17,491.727 366.192,494.427 367.215,497.116 368.237,499.794 369.259,502.461 \n  370.282,505.117 371.304,507.762 372.327,510.397 373.349,513.021 374.372,515.634 375.394,518.236 376.417,520.828 377.439,523.409 378.461,525.98 379.484,528.541 \n  380.506,531.091 381.529,533.631 382.551,536.161 383.574,538.68 384.596,541.19 385.618,543.689 386.641,546.179 387.663,548.658 388.686,551.128 389.708,553.587 \n  390.731,556.037 391.753,558.477 392.776,560.908 393.798,563.329 394.82,565.74 395.843,568.142 396.865,570.534 397.888,572.917 398.91,575.291 399.933,577.655 \n  400.955,580.01 401.977,582.355 403,584.692 404.022,587.019 405.045,589.337 406.067,591.646 407.09,593.946 408.112,596.238 409.135,598.52 410.157,600.794 \n  411.179,603.058 412.202,605.314 413.224,607.561 414.247,609.8 415.269,612.03 416.292,614.251 417.314,616.464 418.336,618.668 419.359,620.864 420.381,623.051 \n  421.404,625.23 422.426,627.401 423.449,629.563 424.471,631.718 425.494,633.864 426.516,636.001 427.538,638.131 428.561,640.253 429.583,642.367 430.606,644.472 \n  431.628,646.57 432.651,648.66 433.673,650.742 434.695,652.816 435.718,654.882 436.74,656.941 437.763,658.992 438.785,661.035 439.808,663.07 440.83,665.098 \n  441.852,667.119 442.875,669.132 443.897,671.137 444.92,673.135 445.942,675.126 446.965,677.109 447.987,679.085 449.01,681.054 450.032,683.015 451.054,684.969 \n  452.077,686.916 453.099,688.856 454.122,690.789 455.144,692.714 456.167,694.633 457.189,696.544 458.211,698.449 459.234,700.347 460.256,702.237 461.279,704.121 \n  462.301,705.998 463.324,707.868 464.346,709.732 465.369,711.589 466.391,713.439 467.413,715.282 468.436,717.119 469.458,718.949 470.481,720.773 471.503,722.59 \n  472.526,724.4 473.548,726.204 474.57,728.002 475.593,729.793 476.615,731.578 477.638,733.356 478.66,735.128 479.683,736.894 480.705,738.653 481.728,740.407 \n  482.75,742.154 483.772,743.895 484.795,745.63 485.817,747.358 486.84,749.081 487.862,750.797 488.885,752.508 489.907,754.212 490.929,755.911 491.952,757.604 \n  492.974,759.29 493.997,760.971 495.019,762.646 496.042,764.315 497.064,765.979 498.087,767.636 499.109,769.288 500.131,770.934 501.154,772.575 502.176,774.209 \n  503.199,775.838 504.221,777.462 505.244,779.08 506.266,780.692 507.288,782.299 508.311,783.9 509.333,785.496 510.356,787.087 511.378,788.672 512.401,790.251 \n  513.423,791.825 514.445,793.394 515.468,794.958 516.49,796.516 517.513,798.069 518.535,799.616 519.558,801.159 520.58,802.696 521.603,804.228 522.625,805.755 \n  523.647,807.277 524.67,808.793 525.692,810.305 526.715,811.811 527.737,813.313 528.76,814.809 529.782,816.301 530.804,817.787 531.827,819.268 532.849,820.745 \n  533.872,822.217 534.894,823.683 535.917,825.145 536.939,826.602 537.962,828.055 538.984,829.502 540.006,830.945 541.029,832.383 542.051,833.816 543.074,835.245 \n  544.096,836.668 545.119,838.088 546.141,839.502 547.163,840.912 548.186,842.317 549.208,843.718 550.231,845.114 551.253,846.506 552.276,847.893 553.298,849.275 \n  554.321,850.653 555.343,852.027 556.365,853.396 557.388,854.761 558.41,856.121 559.433,857.477 560.455,858.829 561.478,860.176 562.5,861.519 563.522,862.858 \n  564.545,864.192 565.567,865.522 566.59,866.848 567.612,868.17 568.635,869.487 569.657,870.8 570.68,872.109 571.702,873.414 572.724,874.715 573.747,876.012 \n  574.769,877.304 575.792,878.593 576.814,879.877 577.837,881.157 578.859,882.434 579.881,883.706 580.904,884.974 581.926,886.238 582.949,887.499 583.971,888.755 \n  584.994,890.008 586.016,891.256 587.038,892.501 588.061,893.742 589.083,894.978 590.106,896.212 591.128,897.441 592.151,898.666 593.173,899.888 594.196,901.106 \n  595.218,902.32 596.24,903.53 597.263,904.737 598.285,905.94 599.308,907.139 600.33,908.334 601.353,909.526 602.375,910.715 603.397,911.899 604.42,913.08 \n  605.442,914.257 606.465,915.431 607.487,916.601 608.51,917.768 609.532,918.931 610.555,920.091 611.577,921.247 612.599,922.399 613.622,923.548 614.644,924.694 \n  615.667,925.836 616.689,926.975 617.712,928.11 618.734,929.242 619.756,930.37 620.779,931.495 621.801,932.617 622.824,933.735 623.846,934.85 624.869,935.962 \n  625.891,937.07 626.914,938.175 627.936,939.277 628.958,940.376 629.981,941.471 631.003,942.563 632.026,943.652 633.048,944.737 634.071,945.82 635.093,946.899 \n  636.115,947.975 637.138,949.047 638.16,950.117 639.183,951.183 640.205,952.247 641.228,953.307 642.25,954.364 643.273,955.418 644.295,956.469 645.317,957.517 \n  646.34,958.562 647.362,959.604 648.385,960.643 649.407,961.678 650.43,962.711 651.452,963.741 652.474,964.768 653.497,965.792 654.519,966.812 655.542,967.83 \n  656.564,968.845 657.587,969.857 658.609,970.867 659.631,971.873 660.654,972.876 661.676,973.877 662.699,974.874 663.721,975.869 664.744,976.861 665.766,977.85 \n  666.789,978.837 667.811,979.82 668.833,980.801 669.856,981.779 670.878,982.754 671.901,983.726 672.923,984.696 673.946,985.663 674.968,986.627 675.99,987.588 \n  677.013,988.547 678.035,989.503 679.058,990.457 680.08,991.407 681.103,992.355 682.125,993.301 683.148,994.243 684.17,995.184 685.192,996.121 686.215,997.056 \n  687.237,997.988 688.26,998.918 689.282,999.845 690.305,1000.77 691.327,1001.69 692.349,1002.61 693.372,1003.53 694.394,1004.44 695.417,1005.35 696.439,1006.26 \n  697.462,1007.17 698.484,1008.07 699.507,1008.98 700.529,1009.88 701.551,1010.77 702.574,1011.67 703.596,1012.56 704.619,1013.45 705.641,1014.34 706.664,1015.22 \n  707.686,1016.1 708.708,1016.98 709.731,1017.86 710.753,1018.73 711.776,1019.61 712.798,1020.48 713.821,1021.35 714.843,1022.21 715.866,1023.08 716.888,1023.94 \n  717.91,1024.79 718.933,1025.65 719.955,1026.51 720.978,1027.36 722,1028.21 723.023,1029.05 724.045,1029.9 725.067,1030.74 726.09,1031.58 727.112,1032.42 \n  728.135,1033.26 729.157,1034.09 730.18,1034.92 731.202,1035.75 732.224,1036.58 733.247,1037.4 734.269,1038.23 735.292,1039.05 736.314,1039.87 737.337,1040.68 \n  738.359,1041.5 739.382,1042.31 740.404,1043.12 741.426,1043.93 742.449,1044.73 743.471,1045.53 744.494,1046.34 745.516,1047.13 746.539,1047.93 747.561,1048.73 \n  748.583,1049.52 749.606,1050.31 750.628,1051.1 751.651,1051.89 752.673,1052.67 753.696,1053.46 754.718,1054.24 755.741,1055.01 756.763,1055.79 757.785,1056.57 \n  758.808,1057.34 759.83,1058.11 760.853,1058.88 761.875,1059.65 762.898,1060.41 763.92,1061.17 764.942,1061.93 765.965,1062.69 766.987,1063.45 768.01,1064.21 \n  769.032,1064.96 770.055,1065.71 771.077,1066.46 772.1,1067.21 773.122,1067.95 774.144,1068.7 775.167,1069.44 776.189,1070.18 777.212,1070.92 778.234,1071.65 \n  779.257,1072.39 780.279,1073.12 781.301,1073.85 782.324,1074.58 783.346,1075.31 784.369,1076.03 785.391,1076.75 786.414,1077.48 787.436,1078.2 788.459,1078.91 \n  789.481,1079.63 790.503,1080.34 791.526,1081.06 792.548,1081.77 793.571,1082.48 794.593,1083.18 795.616,1083.89 796.638,1084.59 797.66,1085.29 798.683,1085.99 \n  799.705,1086.69 800.728,1087.39 801.75,1088.09 802.773,1088.78 803.795,1089.47 804.817,1090.16 805.84,1090.85 806.862,1091.54 807.885,1092.22 808.907,1092.9 \n  809.93,1093.59 810.952,1094.27 811.975,1094.94 812.997,1095.62 814.019,1096.3 815.042,1096.97 816.064,1097.64 817.087,1098.31 818.109,1098.98 819.132,1099.65 \n  820.154,1100.31 821.176,1100.97 822.199,1101.64 823.221,1102.3 824.244,1102.96 825.266,1103.61 826.289,1104.27 827.311,1104.92 828.334,1105.58 829.356,1106.23 \n  830.378,1106.88 831.401,1107.52 832.423,1108.17 833.446,1108.81 834.468,1109.46 835.491,1110.1 836.513,1110.74 837.535,1111.38 838.558,1112.02 839.58,1112.65 \n  840.603,1113.29 841.625,1113.92 842.648,1114.55 843.67,1115.18 844.693,1115.81 845.715,1116.43 846.737,1117.06 847.76,1117.68 848.782,1118.31 849.805,1118.93 \n  850.827,1119.55 851.85,1120.16 852.872,1120.78 853.894,1121.39 854.917,1122.01 855.939,1122.62 856.962,1123.23 857.984,1123.84 859.007,1124.45 860.029,1125.05 \n  861.052,1125.66 862.074,1126.26 863.096,1126.87 864.119,1127.47 865.141,1128.07 866.164,1128.66 867.186,1129.26 868.209,1129.86 869.231,1130.45 870.253,1131.04 \n  871.276,1131.63 872.298,1132.22 873.321,1132.81 874.343,1133.4 875.366,1133.99 876.388,1134.57 877.411,1135.15 878.433,1135.74 879.455,1136.32 880.478,1136.9 \n  881.5,1137.47 882.523,1138.05 883.545,1138.63 884.568,1139.2 885.59,1139.77 886.612,1140.34 887.635,1140.91 888.657,1141.48 889.68,1142.05 890.702,1142.62 \n  891.725,1143.18 892.747,1143.74 893.769,1144.31 894.792,1144.87 895.814,1145.43 896.837,1145.99 897.859,1146.54 898.882,1147.1 899.904,1147.66 900.927,1148.21 \n  901.949,1148.76 902.971,1149.31 903.994,1149.86 905.016,1150.41 906.039,1150.96 907.061,1151.51 908.084,1152.05 909.106,1152.6 910.128,1153.14 911.151,1153.68 \n  912.173,1154.22 913.196,1154.76 914.218,1155.3 915.241,1155.83 916.263,1156.37 917.286,1156.9 918.308,1157.44 919.33,1157.97 920.353,1158.5 921.375,1159.03 \n  922.398,1159.56 923.42,1160.09 924.443,1160.61 925.465,1161.14 926.487,1161.66 927.51,1162.18 928.532,1162.71 929.555,1163.23 930.577,1163.75 931.6,1164.26 \n  932.622,1164.78 933.645,1165.3 934.667,1165.81 935.689,1166.33 936.712,1166.84 937.734,1167.35 938.757,1167.86 939.779,1168.37 940.802,1168.88 941.824,1169.39 \n  942.846,1169.89 943.869,1170.4 944.891,1170.9 945.914,1171.41 946.936,1171.91 947.959,1172.41 948.981,1172.91 950.004,1173.41 951.026,1173.9 952.048,1174.4 \n  953.071,1174.9 954.093,1175.39 955.116,1175.88 956.138,1176.38 957.161,1176.87 958.183,1177.36 959.205,1177.85 960.228,1178.34 961.25,1178.82 962.273,1179.31 \n  963.295,1179.8 964.318,1180.28 965.34,1180.76 966.362,1181.25 967.385,1181.73 968.407,1182.21 969.43,1182.69 970.452,1183.16 971.475,1183.64 972.497,1184.12 \n  973.52,1184.59 974.542,1185.07 975.564,1185.54 976.587,1186.01 977.609,1186.48 978.632,1186.95 979.654,1187.42 980.677,1187.89 981.699,1188.36 982.721,1188.82 \n  983.744,1189.29 984.766,1189.75 985.789,1190.22 986.811,1190.68 987.834,1191.14 988.856,1191.6 989.879,1192.06 990.901,1192.52 991.923,1192.98 992.946,1193.44 \n  993.968,1193.89 994.991,1194.35 996.013,1194.8 997.036,1195.25 998.058,1195.71 999.08,1196.16 1000.1,1196.61 1001.13,1197.06 1002.15,1197.51 1003.17,1197.96 \n  1004.19,1198.4 1005.22,1198.85 1006.24,1199.29 1007.26,1199.74 1008.28,1200.18 1009.3,1200.62 1010.33,1201.06 1011.35,1201.5 1012.37,1201.94 1013.39,1202.38 \n  1014.42,1202.82 1015.44,1203.26 1016.46,1203.69 1017.48,1204.13 1018.51,1204.56 1019.53,1205 1020.55,1205.43 1021.57,1205.86 1022.6,1206.29 1023.62,1206.72 \n  1024.64,1207.15 1025.66,1207.58 1026.69,1208.01 1027.71,1208.44 1028.73,1208.86 1029.75,1209.29 1030.78,1209.71 1031.8,1210.13 1032.82,1210.56 1033.84,1210.98 \n  1034.87,1211.4 1035.89,1211.82 1036.91,1212.24 1037.93,1212.66 1038.96,1213.07 1039.98,1213.49 1041,1213.91 1042.02,1214.32 1043.05,1214.74 1044.07,1215.15 \n  1045.09,1215.56 1046.11,1215.98 1047.13,1216.39 1048.16,1216.8 1049.18,1217.21 1050.2,1217.61 1051.22,1218.02 1052.25,1218.43 1053.27,1218.84 1054.29,1219.24 \n  1055.31,1219.65 1056.34,1220.05 1057.36,1220.45 1058.38,1220.86 1059.4,1221.26 1060.43,1221.66 1061.45,1222.06 1062.47,1222.46 1063.49,1222.86 1064.52,1223.26 \n  1065.54,1223.65 1066.56,1224.05 1067.58,1224.44 1068.61,1224.84 1069.63,1225.23 1070.65,1225.63 1071.67,1226.02 1072.7,1226.41 1073.72,1226.8 1074.74,1227.19 \n  1075.76,1227.58 1076.79,1227.97 1077.81,1228.36 1078.83,1228.75 1079.85,1229.13 1080.88,1229.52 1081.9,1229.9 1082.92,1230.29 1083.94,1230.67 1084.97,1231.06 \n  1085.99,1231.44 1087.01,1231.82 1088.03,1232.2 1089.05,1232.58 1090.08,1232.96 1091.1,1233.34 1092.12,1233.72 1093.14,1234.1 1094.17,1234.47 1095.19,1234.85 \n  1096.21,1235.22 1097.23,1235.6 1098.26,1235.97 1099.28,1236.35 1100.3,1236.72 1101.32,1237.09 1102.35,1237.46 1103.37,1237.83 1104.39,1238.2 1105.41,1238.57 \n  1106.44,1238.94 1107.46,1239.31 1108.48,1239.67 1109.5,1240.04 1110.53,1240.41 1111.55,1240.77 1112.57,1241.13 1113.59,1241.5 1114.62,1241.86 1115.64,1242.22 \n  1116.66,1242.59 1117.68,1242.95 1118.71,1243.31 1119.73,1243.67 1120.75,1244.03 1121.77,1244.38 1122.8,1244.74 1123.82,1245.1 1124.84,1245.46 1125.86,1245.81 \n  1126.89,1246.17 1127.91,1246.52 1128.93,1246.87 1129.95,1247.23 1130.97,1247.58 1132,1247.93 1133.02,1248.28 1134.04,1248.63 1135.06,1248.98 1136.09,1249.33 \n  1137.11,1249.68 1138.13,1250.03 1139.15,1250.38 1140.18,1250.73 1141.2,1251.07 1142.22,1251.42 1143.24,1251.76 1144.27,1252.11 1145.29,1252.45 1146.31,1252.79 \n  1147.33,1253.14 1148.36,1253.48 1149.38,1253.82 1150.4,1254.16 1151.42,1254.5 1152.45,1254.84 1153.47,1255.18 1154.49,1255.52 1155.51,1255.86 1156.54,1256.19 \n  1157.56,1256.53 1158.58,1256.87 1159.6,1257.2 1160.63,1257.54 1161.65,1257.87 1162.67,1258.21 1163.69,1258.54 1164.72,1258.87 1165.74,1259.2 1166.76,1259.53 \n  1167.78,1259.87 1168.8,1260.2 1169.83,1260.53 1170.85,1260.85 1171.87,1261.18 1172.89,1261.51 1173.92,1261.84 1174.94,1262.16 1175.96,1262.49 1176.98,1262.82 \n  1178.01,1263.14 1179.03,1263.47 1180.05,1263.79 1181.07,1264.11 1182.1,1264.44 1183.12,1264.76 1184.14,1265.08 1185.16,1265.4 1186.19,1265.72 1187.21,1266.04 \n  1188.23,1266.36 1189.25,1266.68 1190.28,1267 1191.3,1267.32 1192.32,1267.63 1193.34,1267.95 1194.37,1268.27 1195.39,1268.58 1196.41,1268.9 1197.43,1269.21 \n  1198.46,1269.53 1199.48,1269.84 1200.5,1270.15 1201.52,1270.47 1202.55,1270.78 1203.57,1271.09 1204.59,1271.4 1205.61,1271.71 1206.64,1272.02 1207.66,1272.33 \n  1208.68,1272.64 1209.7,1272.95 1210.72,1273.25 1211.75,1273.56 1212.77,1273.87 1213.79,1274.18 1214.81,1274.48 1215.84,1274.79 1216.86,1275.09 1217.88,1275.39 \n  1218.9,1275.7 1219.93,1276 1220.95,1276.3 1221.97,1276.61 1222.99,1276.91 1224.02,1277.21 1225.04,1277.51 1226.06,1277.81 1227.08,1278.11 1228.11,1278.41 \n  1229.13,1278.71 1230.15,1279.01 1231.17,1279.3 1232.2,1279.6 1233.22,1279.9 1234.24,1280.19 1235.26,1280.49 1236.29,1280.78 1237.31,1281.08 1238.33,1281.37 \n  1239.35,1281.67 1240.38,1281.96 1241.4,1282.25 1242.42,1282.55 1243.44,1282.84 1244.47,1283.13 1245.49,1283.42 1246.51,1283.71 1247.53,1284 1248.56,1284.29 \n  1249.58,1284.58 1250.6,1284.87 1251.62,1285.15 1252.64,1285.44 1253.67,1285.73 1254.69,1286.02 1255.71,1286.3 1256.73,1286.59 1257.76,1286.87 1258.78,1287.16 \n  1259.8,1287.44 1260.82,1287.73 1261.85,1288.01 1262.87,1288.29 1263.89,1288.57 1264.91,1288.86 1265.94,1289.14 1266.96,1289.42 1267.98,1289.7 1269,1289.98 \n  1270.03,1290.26 1271.05,1290.54 1272.07,1290.82 1273.09,1291.1 1274.12,1291.37 1275.14,1291.65 1276.16,1291.93 1277.18,1292.21 1278.21,1292.48 1279.23,1292.76 \n  1280.25,1293.03 1281.27,1293.31 1282.3,1293.58 1283.32,1293.86 1284.34,1294.13 1285.36,1294.4 1286.39,1294.68 1287.41,1294.95 1288.43,1295.22 1289.45,1295.49 \n  1290.47,1295.76 1291.5,1296.03 1292.52,1296.3 1293.54,1296.57 1294.56,1296.84 1295.59,1297.11 1296.61,1297.38 1297.63,1297.65 1298.65,1297.91 1299.68,1298.18 \n  1300.7,1298.45 1301.72,1298.71 1302.74,1298.98 1303.77,1299.25 1304.79,1299.51 1305.81,1299.78 1306.83,1300.04 1307.86,1300.3 1308.88,1300.57 1309.9,1300.83 \n  1310.92,1301.09 1311.95,1301.35 1312.97,1301.62 1313.99,1301.88 1315.01,1302.14 1316.04,1302.4 1317.06,1302.66 1318.08,1302.92 1319.1,1303.18 1320.13,1303.44 \n  1321.15,1303.7 1322.17,1303.95 1323.19,1304.21 1324.22,1304.47 1325.24,1304.73 1326.26,1304.98 1327.28,1305.24 1328.31,1305.49 1329.33,1305.75 1330.35,1306.01 \n  1331.37,1306.26 1332.39,1306.51 1333.42,1306.77 1334.44,1307.02 1335.46,1307.27 1336.48,1307.53 1337.51,1307.78 1338.53,1308.03 1339.55,1308.28 1340.57,1308.53 \n  1341.6,1308.78 1342.62,1309.03 1343.64,1309.28 1344.66,1309.53 1345.69,1309.78 1346.71,1310.03 1347.73,1310.28 1348.75,1310.53 1349.78,1310.78 1350.8,1311.02 \n  1351.82,1311.27 1352.84,1311.52 1353.87,1311.76 1354.89,1312.01 1355.91,1312.26 1356.93,1312.5 1357.96,1312.75 1358.98,1312.99 1360,1313.23 1361.02,1313.48 \n  1362.05,1313.72 1363.07,1313.96 1364.09,1314.21 1365.11,1314.45 1366.14,1314.69 1367.16,1314.93 1368.18,1315.17 1369.2,1315.41 1370.22,1315.65 1371.25,1315.89 \n  1372.27,1316.13 1373.29,1316.37 1374.31,1316.61 1375.34,1316.85 1376.36,1317.09 1377.38,1317.33 1378.4,1317.56 1379.43,1317.8 1380.45,1318.04 1381.47,1318.28 \n  1382.49,1318.51 1383.52,1318.75 1384.54,1318.98 1385.56,1319.22 1386.58,1319.45 1387.61,1319.69 1388.63,1319.92 1389.65,1320.16 1390.67,1320.39 1391.7,1320.62 \n  1392.72,1320.85 1393.74,1321.09 1394.76,1321.32 1395.79,1321.55 1396.81,1321.78 1397.83,1322.01 1398.85,1322.24 1399.88,1322.47 1400.9,1322.7 1401.92,1322.93 \n  1402.94,1323.16 1403.97,1323.39 1404.99,1323.62 1406.01,1323.85 1407.03,1324.08 1408.06,1324.3 1409.08,1324.53 1410.1,1324.76 1411.12,1324.99 1412.14,1325.21 \n  1413.17,1325.44 1414.19,1325.66 1415.21,1325.89 1416.23,1326.11 1417.26,1326.34 1418.28,1326.56 1419.3,1326.79 1420.32,1327.01 1421.35,1327.24 1422.37,1327.46 \n  1423.39,1327.68 1424.41,1327.9 1425.44,1328.13 1426.46,1328.35 1427.48,1328.57 1428.5,1328.79 1429.53,1329.01 1430.55,1329.23 1431.57,1329.45 1432.59,1329.67 \n  1433.62,1329.89 1434.64,1330.11 1435.66,1330.33 1436.68,1330.55 1437.71,1330.77 1438.73,1330.99 1439.75,1331.2 1440.77,1331.42 1441.8,1331.64 1442.82,1331.86 \n  1443.84,1332.07 1444.86,1332.29 1445.89,1332.51 1446.91,1332.72 1447.93,1332.94 1448.95,1333.15 1449.98,1333.37 1451,1333.58 1452.02,1333.79 1453.04,1334.01 \n  1454.06,1334.22 1455.09,1334.44 1456.11,1334.65 1457.13,1334.86 1458.15,1335.07 1459.18,1335.29 1460.2,1335.5 1461.22,1335.71 1462.24,1335.92 1463.27,1336.13 \n  1464.29,1336.34 1465.31,1336.55 1466.33,1336.76 1467.36,1336.97 1468.38,1337.18 1469.4,1337.39 1470.42,1337.6 1471.45,1337.81 1472.47,1338.02 1473.49,1338.22 \n  1474.51,1338.43 1475.54,1338.64 1476.56,1338.85 1477.58,1339.05 1478.6,1339.26 1479.63,1339.47 1480.65,1339.67 1481.67,1339.88 1482.69,1340.08 1483.72,1340.29 \n  1484.74,1340.49 1485.76,1340.7 1486.78,1340.9 1487.81,1341.11 1488.83,1341.31 1489.85,1341.51 1490.87,1341.72 1491.89,1341.92 1492.92,1342.12 1493.94,1342.33 \n  1494.96,1342.53 1495.98,1342.73 1497.01,1342.93 1498.03,1343.13 1499.05,1343.33 1500.07,1343.53 1501.1,1343.74 1502.12,1343.94 1503.14,1344.14 1504.16,1344.33 \n  1505.19,1344.53 1506.21,1344.73 1507.23,1344.93 1508.25,1345.13 1509.28,1345.33 1510.3,1345.53 1511.32,1345.73 1512.34,1345.92 1513.37,1346.12 1514.39,1346.32 \n  1515.41,1346.51 1516.43,1346.71 1517.46,1346.91 1518.48,1347.1 1519.5,1347.3 1520.52,1347.49 1521.55,1347.69 1522.57,1347.88 1523.59,1348.08 1524.61,1348.27 \n  1525.64,1348.47 1526.66,1348.66 1527.68,1348.85 1528.7,1349.05 1529.73,1349.24 1530.75,1349.43 1531.77,1349.63 1532.79,1349.82 1533.81,1350.01 1534.84,1350.2 \n  1535.86,1350.39 1536.88,1350.59 1537.9,1350.78 1538.93,1350.97 1539.95,1351.16 1540.97,1351.35 1541.99,1351.54 1543.02,1351.73 1544.04,1351.92 1545.06,1352.11 \n  1546.08,1352.3 1547.11,1352.49 1548.13,1352.67 1549.15,1352.86 1550.17,1353.05 1551.2,1353.24 1552.22,1353.43 1553.24,1353.61 1554.26,1353.8 1555.29,1353.99 \n  1556.31,1354.17 1557.33,1354.36 1558.35,1354.55 1559.38,1354.73 1560.4,1354.92 1561.42,1355.1 1562.44,1355.29 1563.47,1355.47 1564.49,1355.66 1565.51,1355.84 \n  1566.53,1356.03 1567.56,1356.21 1568.58,1356.39 1569.6,1356.58 1570.62,1356.76 1571.64,1356.94 1572.67,1357.13 1573.69,1357.31 1574.71,1357.49 1575.73,1357.67 \n  1576.76,1357.86 1577.78,1358.04 1578.8,1358.22 1579.82,1358.4 1580.85,1358.58 1581.87,1358.76 1582.89,1358.94 1583.91,1359.12 1584.94,1359.3 1585.96,1359.48 \n  1586.98,1359.66 1588,1359.84 1589.03,1360.02 1590.05,1360.2 1591.07,1360.38 1592.09,1360.56 1593.12,1360.73 1594.14,1360.91 1595.16,1361.09 1596.18,1361.27 \n  1597.21,1361.44 1598.23,1361.62 1599.25,1361.8 1600.27,1361.97 1601.3,1362.15 1602.32,1362.33 1603.34,1362.5 1604.36,1362.68 1605.39,1362.85 1606.41,1363.03 \n  1607.43,1363.2 1608.45,1363.38 1609.48,1363.55 1610.5,1363.73 1611.52,1363.9 1612.54,1364.08 1613.56,1364.25 1614.59,1364.42 1615.61,1364.6 1616.63,1364.77 \n  1617.65,1364.94 1618.68,1365.12 1619.7,1365.29 1620.72,1365.46 1621.74,1365.63 1622.77,1365.8 1623.79,1365.98 1624.81,1366.15 1625.83,1366.32 1626.86,1366.49 \n  1627.88,1366.66 1628.9,1366.83 1629.92,1367 1630.95,1367.17 1631.97,1367.34 1632.99,1367.51 1634.01,1367.68 1635.04,1367.85 1636.06,1368.02 1637.08,1368.19 \n  1638.1,1368.36 1639.13,1368.52 1640.15,1368.69 1641.17,1368.86 1642.19,1369.03 1643.22,1369.2 1644.24,1369.36 1645.26,1369.53 1646.28,1369.7 1647.31,1369.86 \n  1648.33,1370.03 1649.35,1370.2 1650.37,1370.36 1651.4,1370.53 1652.42,1370.69 1653.44,1370.86 1654.46,1371.02 1655.48,1371.19 1656.51,1371.35 1657.53,1371.52 \n  1658.55,1371.68 1659.57,1371.85 1660.6,1372.01 1661.62,1372.18 1662.64,1372.34 1663.66,1372.5 1664.69,1372.67 1665.71,1372.83 1666.73,1372.99 1667.75,1373.16 \n  1668.78,1373.32 1669.8,1373.48 1670.82,1373.64 1671.84,1373.8 1672.87,1373.97 1673.89,1374.13 1674.91,1374.29 1675.93,1374.45 1676.96,1374.61 1677.98,1374.77 \n  1679,1374.93 1680.02,1375.09 1681.05,1375.25 1682.07,1375.41 1683.09,1375.57 1684.11,1375.73 1685.14,1375.89 1686.16,1376.05 1687.18,1376.21 1688.2,1376.37 \n  1689.23,1376.53 1690.25,1376.69 1691.27,1376.85 1692.29,1377 1693.31,1377.16 1694.34,1377.32 1695.36,1377.48 1696.38,1377.63 1697.4,1377.79 1698.43,1377.95 \n  1699.45,1378.1 1700.47,1378.26 1701.49,1378.42 1702.52,1378.57 1703.54,1378.73 1704.56,1378.89 1705.58,1379.04 1706.61,1379.2 1707.63,1379.35 1708.65,1379.51 \n  1709.67,1379.66 1710.7,1379.82 1711.72,1379.97 1712.74,1380.13 1713.76,1380.28 1714.79,1380.43 1715.81,1380.59 1716.83,1380.74 1717.85,1380.9 1718.88,1381.05 \n  1719.9,1381.2 1720.92,1381.35 1721.94,1381.51 1722.97,1381.66 1723.99,1381.81 1725.01,1381.96 1726.03,1382.12 1727.06,1382.27 1728.08,1382.42 1729.1,1382.57 \n  1730.12,1382.72 1731.15,1382.87 1732.17,1383.03 1733.19,1383.18 1734.21,1383.33 1735.23,1383.48 1736.26,1383.63 1737.28,1383.78 1738.3,1383.93 1739.32,1384.08 \n  1740.35,1384.23 1741.37,1384.38 1742.39,1384.53 1743.41,1384.67 1744.44,1384.82 1745.46,1384.97 1746.48,1385.12 1747.5,1385.27 1748.53,1385.42 1749.55,1385.57 \n  1750.57,1385.71 1751.59,1385.86 1752.62,1386.01 1753.64,1386.16 1754.66,1386.3 1755.68,1386.45 1756.71,1386.6 1757.73,1386.74 1758.75,1386.89 1759.77,1387.04 \n  1760.8,1387.18 1761.82,1387.33 1762.84,1387.47 1763.86,1387.62 1764.89,1387.77 1765.91,1387.91 1766.93,1388.06 1767.95,1388.2 1768.98,1388.35 1770,1388.49 \n  1771.02,1388.64 1772.04,1388.78 1773.07,1388.92 1774.09,1389.07 1775.11,1389.21 1776.13,1389.36 1777.15,1389.5 1778.18,1389.64 1779.2,1389.79 1780.22,1389.93 \n  1781.24,1390.07 1782.27,1390.21 1783.29,1390.36 1784.31,1390.5 1785.33,1390.64 1786.36,1390.78 1787.38,1390.93 1788.4,1391.07 1789.42,1391.21 1790.45,1391.35 \n  1791.47,1391.49 1792.49,1391.63 1793.51,1391.77 1794.54,1391.91 1795.56,1392.06 1796.58,1392.2 1797.6,1392.34 1798.63,1392.48 1799.65,1392.62 1800.67,1392.76 \n  1801.69,1392.9 1802.72,1393.04 1803.74,1393.18 1804.76,1393.31 1805.78,1393.45 1806.81,1393.59 1807.83,1393.73 1808.85,1393.87 1809.87,1394.01 1810.9,1394.15 \n  1811.92,1394.28 1812.94,1394.42 1813.96,1394.56 1814.98,1394.7 1816.01,1394.84 1817.03,1394.97 1818.05,1395.11 1819.07,1395.25 1820.1,1395.38 1821.12,1395.52 \n  1822.14,1395.66 1823.16,1395.79 1824.19,1395.93 1825.21,1396.07 1826.23,1396.2 1827.25,1396.34 1828.28,1396.47 1829.3,1396.61 1830.32,1396.75 1831.34,1396.88 \n  1832.37,1397.02 1833.39,1397.15 1834.41,1397.29 1835.43,1397.42 1836.46,1397.56 1837.48,1397.69 1838.5,1397.82 1839.52,1397.96 1840.55,1398.09 1841.57,1398.23 \n  1842.59,1398.36 1843.61,1398.49 1844.64,1398.63 1845.66,1398.76 1846.68,1398.89 1847.7,1399.03 1848.73,1399.16 1849.75,1399.29 1850.77,1399.42 1851.79,1399.56 \n  1852.82,1399.69 1853.84,1399.82 1854.86,1399.95 1855.88,1400.08 1856.9,1400.22 1857.93,1400.35 1858.95,1400.48 1859.97,1400.61 1860.99,1400.74 1862.02,1400.87 \n  1863.04,1401 1864.06,1401.13 1865.08,1401.26 1866.11,1401.39 1867.13,1401.52 1868.15,1401.65 1869.17,1401.78 1870.2,1401.91 1871.22,1402.04 1872.24,1402.17 \n  1873.26,1402.3 1874.29,1402.43 1875.31,1402.56 1876.33,1402.69 1877.35,1402.82 1878.38,1402.95 1879.4,1403.08 1880.42,1403.21 1881.44,1403.33 1882.47,1403.46 \n  1883.49,1403.59 1884.51,1403.72 1885.53,1403.85 1886.56,1403.97 1887.58,1404.1 1888.6,1404.23 1889.62,1404.35 1890.65,1404.48 1891.67,1404.61 1892.69,1404.74 \n  1893.71,1404.86 1894.73,1404.99 1895.76,1405.12 1896.78,1405.24 1897.8,1405.37 1898.82,1405.49 1899.85,1405.62 1900.87,1405.75 1901.89,1405.87 1902.91,1406 \n  1903.94,1406.12 1904.96,1406.25 1905.98,1406.37 1907,1406.5 1908.03,1406.62 1909.05,1406.75 1910.07,1406.87 1911.09,1407 1912.12,1407.12 1913.14,1407.24 \n  1914.16,1407.37 1915.18,1407.49 1916.21,1407.62 1917.23,1407.74 1918.25,1407.86 1919.27,1407.99 1920.3,1408.11 1921.32,1408.23 1922.34,1408.36 1923.36,1408.48 \n  1924.39,1408.6 1925.41,1408.72 1926.43,1408.85 1927.45,1408.97 1928.48,1409.09 1929.5,1409.21 1930.52,1409.33 1931.54,1409.46 1932.57,1409.58 1933.59,1409.7 \n  1934.61,1409.82 1935.63,1409.94 1936.65,1410.06 1937.68,1410.19 1938.7,1410.31 1939.72,1410.43 1940.74,1410.55 1941.77,1410.67 1942.79,1410.79 1943.81,1410.91 \n  1944.83,1411.03 1945.86,1411.15 1946.88,1411.27 1947.9,1411.39 1948.92,1411.51 1949.95,1411.63 1950.97,1411.75 1951.99,1411.87 1953.01,1411.99 1954.04,1412.11 \n  1955.06,1412.22 1956.08,1412.34 1957.1,1412.46 1958.13,1412.58 1959.15,1412.7 1960.17,1412.82 1961.19,1412.94 1962.22,1413.05 1963.24,1413.17 1964.26,1413.29 \n  1965.28,1413.41 1966.31,1413.53 1967.33,1413.64 1968.35,1413.76 1969.37,1413.88 1970.4,1413.99 1971.42,1414.11 1972.44,1414.23 1973.46,1414.35 1974.49,1414.46 \n  1975.51,1414.58 1976.53,1414.7 1977.55,1414.81 1978.57,1414.93 1979.6,1415.04 1980.62,1415.16 1981.64,1415.28 1982.66,1415.39 1983.69,1415.51 1984.71,1415.62 \n  1985.73,1415.74 1986.75,1415.85 1987.78,1415.97 1988.8,1416.08 1989.82,1416.2 1990.84,1416.31 1991.87,1416.43 1992.89,1416.54 1993.91,1416.66 1994.93,1416.77 \n  1995.96,1416.89 1996.98,1417 1998,1417.11 1999.02,1417.23 2000.05,1417.34 2001.07,1417.46 2002.09,1417.57 2003.11,1417.68 2004.14,1417.8 2005.16,1417.91 \n  2006.18,1418.02 2007.2,1418.14 2008.23,1418.25 2009.25,1418.36 2010.27,1418.47 2011.29,1418.59 2012.32,1418.7 2013.34,1418.81 2014.36,1418.92 2015.38,1419.04 \n  2016.4,1419.15 2017.43,1419.26 2018.45,1419.37 2019.47,1419.48 2020.49,1419.59 2021.52,1419.71 2022.54,1419.82 2023.56,1419.93 2024.58,1420.04 2025.61,1420.15 \n  2026.63,1420.26 2027.65,1420.37 2028.67,1420.48 2029.7,1420.59 2030.72,1420.7 2031.74,1420.81 2032.76,1420.92 2033.79,1421.03 2034.81,1421.14 2035.83,1421.25 \n  2036.85,1421.36 2037.88,1421.47 2038.9,1421.58 2039.92,1421.69 2040.94,1421.8 2041.97,1421.91 2042.99,1422.02 2044.01,1422.13 2045.03,1422.24 2046.06,1422.35 \n  2047.08,1422.46 2048.1,1422.56 2049.12,1422.67 2050.15,1422.78 2051.17,1422.89 2052.19,1423 2053.21,1423.11 2054.24,1423.21 2055.26,1423.32 2056.28,1423.43 \n  2057.3,1423.54 2058.32,1423.64 2059.35,1423.75 2060.37,1423.86 2061.39,1423.97 2062.41,1424.07 2063.44,1424.18 2064.46,1424.29 2065.48,1424.39 2066.5,1424.5 \n  2067.53,1424.61 2068.55,1424.71 2069.57,1424.82 2070.59,1424.93 2071.62,1425.03 2072.64,1425.14 2073.66,1425.25 2074.68,1425.35 2075.71,1425.46 2076.73,1425.56 \n  2077.75,1425.67 2078.77,1425.77 2079.8,1425.88 2080.82,1425.98 2081.84,1426.09 2082.86,1426.2 2083.89,1426.3 2084.91,1426.41 2085.93,1426.51 2086.95,1426.61 \n  2087.98,1426.72 2089,1426.82 2090.02,1426.93 2091.04,1427.03 2092.07,1427.14 2093.09,1427.24 2094.11,1427.34 2095.13,1427.45 2096.15,1427.55 2097.18,1427.66 \n  2098.2,1427.76 2099.22,1427.86 2100.24,1427.97 2101.27,1428.07 2102.29,1428.17 2103.31,1428.28 2104.33,1428.38 2105.36,1428.48 2106.38,1428.58 2107.4,1428.69 \n  2108.42,1428.79 2109.45,1428.89 2110.47,1429 2111.49,1429.1 2112.51,1429.2 2113.54,1429.3 2114.56,1429.4 2115.58,1429.51 2116.6,1429.61 2117.63,1429.71 \n  2118.65,1429.81 2119.67,1429.91 2120.69,1430.01 2121.72,1430.12 2122.74,1430.22 2123.76,1430.32 2124.78,1430.42 2125.81,1430.52 2126.83,1430.62 2127.85,1430.72 \n  2128.87,1430.82 2129.9,1430.92 2130.92,1431.02 2131.94,1431.12 2132.96,1431.22 2133.99,1431.32 2135.01,1431.42 2136.03,1431.52 2137.05,1431.62 2138.07,1431.72 \n  2139.1,1431.82 2140.12,1431.92 2141.14,1432.02 2142.16,1432.12 2143.19,1432.22 2144.21,1432.32 2145.23,1432.42 2146.25,1432.52 2147.28,1432.62 2148.3,1432.72 \n  2149.32,1432.82 2150.34,1432.92 2151.37,1433.01 2152.39,1433.11 2153.41,1433.21 2154.43,1433.31 2155.46,1433.41 2156.48,1433.51 2157.5,1433.6 2158.52,1433.7 \n  2159.55,1433.8 2160.57,1433.9 2161.59,1434 2162.61,1434.09 2163.64,1434.19 2164.66,1434.29 2165.68,1434.39 2166.7,1434.48 2167.73,1434.58 2168.75,1434.68 \n  2169.77,1434.77 2170.79,1434.87 2171.82,1434.97 2172.84,1435.06 2173.86,1435.16 2174.88,1435.26 2175.91,1435.35 2176.93,1435.45 2177.95,1435.55 2178.97,1435.64 \n  2179.99,1435.74 2181.02,1435.84 2182.04,1435.93 2183.06,1436.03 2184.08,1436.12 2185.11,1436.22 2186.13,1436.31 2187.15,1436.41 2188.17,1436.51 2189.2,1436.6 \n  2190.22,1436.7 2191.24,1436.79 2192.26,1436.89 2193.29,1436.98 2194.31,1437.08 2195.33,1437.17 2196.35,1437.27 2197.38,1437.36 2198.4,1437.45 2199.42,1437.55 \n  2200.44,1437.64 2201.47,1437.74 2202.49,1437.83 2203.51,1437.93 2204.53,1438.02 2205.56,1438.11 2206.58,1438.21 2207.6,1438.3 2208.62,1438.4 2209.65,1438.49 \n  2210.67,1438.58 2211.69,1438.68 2212.71,1438.77 2213.74,1438.86 2214.76,1438.96 2215.78,1439.05 2216.8,1439.14 2217.82,1439.24 2218.85,1439.33 2219.87,1439.42 \n  2220.89,1439.51 2221.91,1439.61 2222.94,1439.7 2223.96,1439.79 2224.98,1439.88 2226,1439.98 2227.03,1440.07 2228.05,1440.16 2229.07,1440.25 2230.09,1440.34 \n  2231.12,1440.44 2232.14,1440.53 2233.16,1440.62 2234.18,1440.71 2235.21,1440.8 2236.23,1440.89 2237.25,1440.99 2238.27,1441.08 2239.3,1441.17 2240.32,1441.26 \n  2241.34,1441.35 2242.36,1441.44 2243.39,1441.53 2244.41,1441.62 2245.43,1441.71 2246.45,1441.8 2247.48,1441.9 2248.5,1441.99 2249.52,1442.08 2250.54,1442.17 \n  2251.57,1442.26 2252.59,1442.35 2253.61,1442.44 2254.63,1442.53 2255.66,1442.62 2256.68,1442.71 2257.7,1442.8 2258.72,1442.89 2259.74,1442.98 2260.77,1443.07 \n  2261.79,1443.16 2262.81,1443.24 2263.83,1443.33 2264.86,1443.42 2265.88,1443.51 2266.9,1443.6 2267.92,1443.69 2268.95,1443.78 2269.97,1443.87 2270.99,1443.96 \n  2272.01,1444.05 2273.04,1444.13 2274.06,1444.22 2275.08,1444.31 2276.1,1444.4 2277.13,1444.49 2278.15,1444.58 2279.17,1444.66 2280.19,1444.75 2281.22,1444.84 \n  2282.24,1444.93 2283.26,1445.02 2284.28,1445.1 2285.31,1445.19 2286.33,1445.28 2287.35,1445.37 2288.37,1445.45 2289.4,1445.54 2290.42,1445.63 2291.44,1445.72 \n  \n  \"/>\n</svg>\n",
      "text/html": [
       "<?xml version=\"1.0\" encoding=\"utf-8\"?>\n",
       "<svg xmlns=\"http://www.w3.org/2000/svg\" xmlns:xlink=\"http://www.w3.org/1999/xlink\" width=\"600\" height=\"400\" viewBox=\"0 0 2400 1600\">\n",
       "<defs>\n",
       "  <clipPath id=\"clip480\">\n",
       "    <rect x=\"0\" y=\"0\" width=\"2400\" height=\"1600\"/>\n",
       "  </clipPath>\n",
       "</defs>\n",
       "<path clip-path=\"url(#clip480)\" d=\"\n",
       "M0 1600 L2400 1600 L2400 0 L0 0  Z\n",
       "  \" fill=\"#ffffff\" fill-rule=\"evenodd\" fill-opacity=\"1\"/>\n",
       "<defs>\n",
       "  <clipPath id=\"clip481\">\n",
       "    <rect x=\"480\" y=\"0\" width=\"1681\" height=\"1600\"/>\n",
       "  </clipPath>\n",
       "</defs>\n",
       "<path clip-path=\"url(#clip480)\" d=\"\n",
       "M186.274 1486.45 L2352.76 1486.45 L2352.76 47.2441 L186.274 47.2441  Z\n",
       "  \" fill=\"#ffffff\" fill-rule=\"evenodd\" fill-opacity=\"1\"/>\n",
       "<defs>\n",
       "  <clipPath id=\"clip482\">\n",
       "    <rect x=\"186\" y=\"47\" width=\"2167\" height=\"1440\"/>\n",
       "  </clipPath>\n",
       "</defs>\n",
       "<polyline clip-path=\"url(#clip482)\" style=\"stroke:#000000; stroke-linecap:round; stroke-linejoin:round; stroke-width:2; stroke-opacity:0.1; fill:none\" points=\"\n",
       "  246.567,1486.45 246.567,47.2441 \n",
       "  \"/>\n",
       "<polyline clip-path=\"url(#clip482)\" style=\"stroke:#000000; stroke-linecap:round; stroke-linejoin:round; stroke-width:2; stroke-opacity:0.1; fill:none\" points=\"\n",
       "  757.785,1486.45 757.785,47.2441 \n",
       "  \"/>\n",
       "<polyline clip-path=\"url(#clip482)\" style=\"stroke:#000000; stroke-linecap:round; stroke-linejoin:round; stroke-width:2; stroke-opacity:0.1; fill:none\" points=\"\n",
       "  1269,1486.45 1269,47.2441 \n",
       "  \"/>\n",
       "<polyline clip-path=\"url(#clip482)\" style=\"stroke:#000000; stroke-linecap:round; stroke-linejoin:round; stroke-width:2; stroke-opacity:0.1; fill:none\" points=\"\n",
       "  1780.22,1486.45 1780.22,47.2441 \n",
       "  \"/>\n",
       "<polyline clip-path=\"url(#clip482)\" style=\"stroke:#000000; stroke-linecap:round; stroke-linejoin:round; stroke-width:2; stroke-opacity:0.1; fill:none\" points=\"\n",
       "  2291.44,1486.45 2291.44,47.2441 \n",
       "  \"/>\n",
       "<polyline clip-path=\"url(#clip480)\" style=\"stroke:#000000; stroke-linecap:round; stroke-linejoin:round; stroke-width:4; stroke-opacity:1; fill:none\" points=\"\n",
       "  186.274,1486.45 2352.76,1486.45 \n",
       "  \"/>\n",
       "<polyline clip-path=\"url(#clip480)\" style=\"stroke:#000000; stroke-linecap:round; stroke-linejoin:round; stroke-width:4; stroke-opacity:1; fill:none\" points=\"\n",
       "  246.567,1486.45 246.567,1467.55 \n",
       "  \"/>\n",
       "<polyline clip-path=\"url(#clip480)\" style=\"stroke:#000000; stroke-linecap:round; stroke-linejoin:round; stroke-width:4; stroke-opacity:1; fill:none\" points=\"\n",
       "  757.785,1486.45 757.785,1467.55 \n",
       "  \"/>\n",
       "<polyline clip-path=\"url(#clip480)\" style=\"stroke:#000000; stroke-linecap:round; stroke-linejoin:round; stroke-width:4; stroke-opacity:1; fill:none\" points=\"\n",
       "  1269,1486.45 1269,1467.55 \n",
       "  \"/>\n",
       "<polyline clip-path=\"url(#clip480)\" style=\"stroke:#000000; stroke-linecap:round; stroke-linejoin:round; stroke-width:4; stroke-opacity:1; fill:none\" points=\"\n",
       "  1780.22,1486.45 1780.22,1467.55 \n",
       "  \"/>\n",
       "<polyline clip-path=\"url(#clip480)\" style=\"stroke:#000000; stroke-linecap:round; stroke-linejoin:round; stroke-width:4; stroke-opacity:1; fill:none\" points=\"\n",
       "  2291.44,1486.45 2291.44,1467.55 \n",
       "  \"/>\n",
       "<path clip-path=\"url(#clip480)\" d=\"M246.567 1517.37 Q242.956 1517.37 241.127 1520.93 Q239.322 1524.47 239.322 1531.6 Q239.322 1538.71 241.127 1542.27 Q242.956 1545.82 246.567 1545.82 Q250.201 1545.82 252.007 1542.27 Q253.836 1538.71 253.836 1531.6 Q253.836 1524.47 252.007 1520.93 Q250.201 1517.37 246.567 1517.37 M246.567 1513.66 Q252.377 1513.66 255.433 1518.27 Q258.511 1522.85 258.511 1531.6 Q258.511 1540.33 255.433 1544.94 Q252.377 1549.52 246.567 1549.52 Q240.757 1549.52 237.678 1544.94 Q234.623 1540.33 234.623 1531.6 Q234.623 1522.85 237.678 1518.27 Q240.757 1513.66 246.567 1513.66 Z\" fill=\"#000000\" fill-rule=\"evenodd\" fill-opacity=\"1\" /><path clip-path=\"url(#clip480)\" d=\"M717.404 1514.29 L735.76 1514.29 L735.76 1518.22 L721.686 1518.22 L721.686 1526.7 Q722.705 1526.35 723.723 1526.19 Q724.742 1526 725.76 1526 Q731.547 1526 734.927 1529.17 Q738.306 1532.34 738.306 1537.76 Q738.306 1543.34 734.834 1546.44 Q731.362 1549.52 725.043 1549.52 Q722.867 1549.52 720.598 1549.15 Q718.353 1548.78 715.945 1548.04 L715.945 1543.34 Q718.029 1544.47 720.251 1545.03 Q722.473 1545.58 724.95 1545.58 Q728.955 1545.58 731.292 1543.48 Q733.63 1541.37 733.63 1537.76 Q733.63 1534.15 731.292 1532.04 Q728.955 1529.94 724.95 1529.94 Q723.075 1529.94 721.2 1530.35 Q719.348 1530.77 717.404 1531.65 L717.404 1514.29 Z\" fill=\"#000000\" fill-rule=\"evenodd\" fill-opacity=\"1\" /><path clip-path=\"url(#clip480)\" d=\"M757.519 1517.37 Q753.908 1517.37 752.079 1520.93 Q750.274 1524.47 750.274 1531.6 Q750.274 1538.71 752.079 1542.27 Q753.908 1545.82 757.519 1545.82 Q761.153 1545.82 762.959 1542.27 Q764.788 1538.71 764.788 1531.6 Q764.788 1524.47 762.959 1520.93 Q761.153 1517.37 757.519 1517.37 M757.519 1513.66 Q763.329 1513.66 766.385 1518.27 Q769.464 1522.85 769.464 1531.6 Q769.464 1540.33 766.385 1544.94 Q763.329 1549.52 757.519 1549.52 Q751.709 1549.52 748.63 1544.94 Q745.575 1540.33 745.575 1531.6 Q745.575 1522.85 748.63 1518.27 Q751.709 1513.66 757.519 1513.66 Z\" fill=\"#000000\" fill-rule=\"evenodd\" fill-opacity=\"1\" /><path clip-path=\"url(#clip480)\" d=\"M787.681 1517.37 Q784.07 1517.37 782.241 1520.93 Q780.436 1524.47 780.436 1531.6 Q780.436 1538.71 782.241 1542.27 Q784.07 1545.82 787.681 1545.82 Q791.315 1545.82 793.121 1542.27 Q794.95 1538.71 794.95 1531.6 Q794.95 1524.47 793.121 1520.93 Q791.315 1517.37 787.681 1517.37 M787.681 1513.66 Q793.491 1513.66 796.547 1518.27 Q799.625 1522.85 799.625 1531.6 Q799.625 1540.33 796.547 1544.94 Q793.491 1549.52 787.681 1549.52 Q781.871 1549.52 778.792 1544.94 Q775.737 1540.33 775.737 1531.6 Q775.737 1522.85 778.792 1518.27 Q781.871 1513.66 787.681 1513.66 Z\" fill=\"#000000\" fill-rule=\"evenodd\" fill-opacity=\"1\" /><path clip-path=\"url(#clip480)\" d=\"M1213.53 1544.91 L1221.17 1544.91 L1221.17 1518.55 L1212.86 1520.21 L1212.86 1515.95 L1221.12 1514.29 L1225.8 1514.29 L1225.8 1544.91 L1233.44 1544.91 L1233.44 1548.85 L1213.53 1548.85 L1213.53 1544.91 Z\" fill=\"#000000\" fill-rule=\"evenodd\" fill-opacity=\"1\" /><path clip-path=\"url(#clip480)\" d=\"M1252.88 1517.37 Q1249.27 1517.37 1247.44 1520.93 Q1245.64 1524.47 1245.64 1531.6 Q1245.64 1538.71 1247.44 1542.27 Q1249.27 1545.82 1252.88 1545.82 Q1256.52 1545.82 1258.32 1542.27 Q1260.15 1538.71 1260.15 1531.6 Q1260.15 1524.47 1258.32 1520.93 Q1256.52 1517.37 1252.88 1517.37 M1252.88 1513.66 Q1258.69 1513.66 1261.75 1518.27 Q1264.83 1522.85 1264.83 1531.6 Q1264.83 1540.33 1261.75 1544.94 Q1258.69 1549.52 1252.88 1549.52 Q1247.07 1549.52 1243.99 1544.94 Q1240.94 1540.33 1240.94 1531.6 Q1240.94 1522.85 1243.99 1518.27 Q1247.07 1513.66 1252.88 1513.66 Z\" fill=\"#000000\" fill-rule=\"evenodd\" fill-opacity=\"1\" /><path clip-path=\"url(#clip480)\" d=\"M1283.04 1517.37 Q1279.43 1517.37 1277.6 1520.93 Q1275.8 1524.47 1275.8 1531.6 Q1275.8 1538.71 1277.6 1542.27 Q1279.43 1545.82 1283.04 1545.82 Q1286.68 1545.82 1288.48 1542.27 Q1290.31 1538.71 1290.31 1531.6 Q1290.31 1524.47 1288.48 1520.93 Q1286.68 1517.37 1283.04 1517.37 M1283.04 1513.66 Q1288.85 1513.66 1291.91 1518.27 Q1294.99 1522.85 1294.99 1531.6 Q1294.99 1540.33 1291.91 1544.94 Q1288.85 1549.52 1283.04 1549.52 Q1277.23 1549.52 1274.15 1544.94 Q1271.1 1540.33 1271.1 1531.6 Q1271.1 1522.85 1274.15 1518.27 Q1277.23 1513.66 1283.04 1513.66 Z\" fill=\"#000000\" fill-rule=\"evenodd\" fill-opacity=\"1\" /><path clip-path=\"url(#clip480)\" d=\"M1313.2 1517.37 Q1309.59 1517.37 1307.77 1520.93 Q1305.96 1524.47 1305.96 1531.6 Q1305.96 1538.71 1307.77 1542.27 Q1309.59 1545.82 1313.2 1545.82 Q1316.84 1545.82 1318.64 1542.27 Q1320.47 1538.71 1320.47 1531.6 Q1320.47 1524.47 1318.64 1520.93 Q1316.84 1517.37 1313.2 1517.37 M1313.2 1513.66 Q1319.02 1513.66 1322.07 1518.27 Q1325.15 1522.85 1325.15 1531.6 Q1325.15 1540.33 1322.07 1544.94 Q1319.02 1549.52 1313.2 1549.52 Q1307.39 1549.52 1304.32 1544.94 Q1301.26 1540.33 1301.26 1531.6 Q1301.26 1522.85 1304.32 1518.27 Q1307.39 1513.66 1313.2 1513.66 Z\" fill=\"#000000\" fill-rule=\"evenodd\" fill-opacity=\"1\" /><path clip-path=\"url(#clip480)\" d=\"M1724.75 1544.91 L1732.39 1544.91 L1732.39 1518.55 L1724.08 1520.21 L1724.08 1515.95 L1732.34 1514.29 L1737.02 1514.29 L1737.02 1544.91 L1744.66 1544.91 L1744.66 1548.85 L1724.75 1548.85 L1724.75 1544.91 Z\" fill=\"#000000\" fill-rule=\"evenodd\" fill-opacity=\"1\" /><path clip-path=\"url(#clip480)\" d=\"M1754.15 1514.29 L1772.5 1514.29 L1772.5 1518.22 L1758.43 1518.22 L1758.43 1526.7 Q1759.45 1526.35 1760.47 1526.19 Q1761.48 1526 1762.5 1526 Q1768.29 1526 1771.67 1529.17 Q1775.05 1532.34 1775.05 1537.76 Q1775.05 1543.34 1771.58 1546.44 Q1768.1 1549.52 1761.78 1549.52 Q1759.61 1549.52 1757.34 1549.15 Q1755.09 1548.78 1752.69 1548.04 L1752.69 1543.34 Q1754.77 1544.47 1756.99 1545.03 Q1759.22 1545.58 1761.69 1545.58 Q1765.7 1545.58 1768.03 1543.48 Q1770.37 1541.37 1770.37 1537.76 Q1770.37 1534.15 1768.03 1532.04 Q1765.7 1529.94 1761.69 1529.94 Q1759.82 1529.94 1757.94 1530.35 Q1756.09 1530.77 1754.15 1531.65 L1754.15 1514.29 Z\" fill=\"#000000\" fill-rule=\"evenodd\" fill-opacity=\"1\" /><path clip-path=\"url(#clip480)\" d=\"M1794.26 1517.37 Q1790.65 1517.37 1788.82 1520.93 Q1787.02 1524.47 1787.02 1531.6 Q1787.02 1538.71 1788.82 1542.27 Q1790.65 1545.82 1794.26 1545.82 Q1797.9 1545.82 1799.7 1542.27 Q1801.53 1538.71 1801.53 1531.6 Q1801.53 1524.47 1799.7 1520.93 Q1797.9 1517.37 1794.26 1517.37 M1794.26 1513.66 Q1800.07 1513.66 1803.13 1518.27 Q1806.21 1522.85 1806.21 1531.6 Q1806.21 1540.33 1803.13 1544.94 Q1800.07 1549.52 1794.26 1549.52 Q1788.45 1549.52 1785.37 1544.94 Q1782.32 1540.33 1782.32 1531.6 Q1782.32 1522.85 1785.37 1518.27 Q1788.45 1513.66 1794.26 1513.66 Z\" fill=\"#000000\" fill-rule=\"evenodd\" fill-opacity=\"1\" /><path clip-path=\"url(#clip480)\" d=\"M1824.42 1517.37 Q1820.81 1517.37 1818.98 1520.93 Q1817.18 1524.47 1817.18 1531.6 Q1817.18 1538.71 1818.98 1542.27 Q1820.81 1545.82 1824.42 1545.82 Q1828.06 1545.82 1829.86 1542.27 Q1831.69 1538.71 1831.69 1531.6 Q1831.69 1524.47 1829.86 1520.93 Q1828.06 1517.37 1824.42 1517.37 M1824.42 1513.66 Q1830.23 1513.66 1833.29 1518.27 Q1836.37 1522.85 1836.37 1531.6 Q1836.37 1540.33 1833.29 1544.94 Q1830.23 1549.52 1824.42 1549.52 Q1818.61 1549.52 1815.53 1544.94 Q1812.48 1540.33 1812.48 1531.6 Q1812.48 1522.85 1815.53 1518.27 Q1818.61 1513.66 1824.42 1513.66 Z\" fill=\"#000000\" fill-rule=\"evenodd\" fill-opacity=\"1\" /><path clip-path=\"url(#clip480)\" d=\"M2240.05 1544.91 L2256.37 1544.91 L2256.37 1548.85 L2234.43 1548.85 L2234.43 1544.91 Q2237.09 1542.16 2241.67 1537.53 Q2246.28 1532.88 2247.46 1531.53 Q2249.7 1529.01 2250.58 1527.27 Q2251.49 1525.51 2251.49 1523.82 Q2251.49 1521.07 2249.54 1519.33 Q2247.62 1517.6 2244.52 1517.6 Q2242.32 1517.6 2239.87 1518.36 Q2237.44 1519.13 2234.66 1520.68 L2234.66 1515.95 Q2237.48 1514.82 2239.94 1514.24 Q2242.39 1513.66 2244.43 1513.66 Q2249.8 1513.66 2252.99 1516.35 Q2256.19 1519.03 2256.19 1523.52 Q2256.19 1525.65 2255.38 1527.57 Q2254.59 1529.47 2252.48 1532.07 Q2251.9 1532.74 2248.8 1535.95 Q2245.7 1539.15 2240.05 1544.91 Z\" fill=\"#000000\" fill-rule=\"evenodd\" fill-opacity=\"1\" /><path clip-path=\"url(#clip480)\" d=\"M2276.19 1517.37 Q2272.57 1517.37 2270.75 1520.93 Q2268.94 1524.47 2268.94 1531.6 Q2268.94 1538.71 2270.75 1542.27 Q2272.57 1545.82 2276.19 1545.82 Q2279.82 1545.82 2281.63 1542.27 Q2283.45 1538.71 2283.45 1531.6 Q2283.45 1524.47 2281.63 1520.93 Q2279.82 1517.37 2276.19 1517.37 M2276.19 1513.66 Q2282 1513.66 2285.05 1518.27 Q2288.13 1522.85 2288.13 1531.6 Q2288.13 1540.33 2285.05 1544.94 Q2282 1549.52 2276.19 1549.52 Q2270.38 1549.52 2267.3 1544.94 Q2264.24 1540.33 2264.24 1531.6 Q2264.24 1522.85 2267.3 1518.27 Q2270.38 1513.66 2276.19 1513.66 Z\" fill=\"#000000\" fill-rule=\"evenodd\" fill-opacity=\"1\" /><path clip-path=\"url(#clip480)\" d=\"M2306.35 1517.37 Q2302.74 1517.37 2300.91 1520.93 Q2299.1 1524.47 2299.1 1531.6 Q2299.1 1538.71 2300.91 1542.27 Q2302.74 1545.82 2306.35 1545.82 Q2309.98 1545.82 2311.79 1542.27 Q2313.62 1538.71 2313.62 1531.6 Q2313.62 1524.47 2311.79 1520.93 Q2309.98 1517.37 2306.35 1517.37 M2306.35 1513.66 Q2312.16 1513.66 2315.21 1518.27 Q2318.29 1522.85 2318.29 1531.6 Q2318.29 1540.33 2315.21 1544.94 Q2312.16 1549.52 2306.35 1549.52 Q2300.54 1549.52 2297.46 1544.94 Q2294.4 1540.33 2294.4 1531.6 Q2294.4 1522.85 2297.46 1518.27 Q2300.54 1513.66 2306.35 1513.66 Z\" fill=\"#000000\" fill-rule=\"evenodd\" fill-opacity=\"1\" /><path clip-path=\"url(#clip480)\" d=\"M2336.51 1517.37 Q2332.9 1517.37 2331.07 1520.93 Q2329.26 1524.47 2329.26 1531.6 Q2329.26 1538.71 2331.07 1542.27 Q2332.9 1545.82 2336.51 1545.82 Q2340.14 1545.82 2341.95 1542.27 Q2343.78 1538.71 2343.78 1531.6 Q2343.78 1524.47 2341.95 1520.93 Q2340.14 1517.37 2336.51 1517.37 M2336.51 1513.66 Q2342.32 1513.66 2345.38 1518.27 Q2348.45 1522.85 2348.45 1531.6 Q2348.45 1540.33 2345.38 1544.94 Q2342.32 1549.52 2336.51 1549.52 Q2330.7 1549.52 2327.62 1544.94 Q2324.57 1540.33 2324.57 1531.6 Q2324.57 1522.85 2327.62 1518.27 Q2330.7 1513.66 2336.51 1513.66 Z\" fill=\"#000000\" fill-rule=\"evenodd\" fill-opacity=\"1\" /><polyline clip-path=\"url(#clip482)\" style=\"stroke:#000000; stroke-linecap:round; stroke-linejoin:round; stroke-width:2; stroke-opacity:0.1; fill:none\" points=\"\n",
       "  186.274,1403.35 2352.76,1403.35 \n",
       "  \"/>\n",
       "<polyline clip-path=\"url(#clip482)\" style=\"stroke:#000000; stroke-linecap:round; stroke-linejoin:round; stroke-width:2; stroke-opacity:0.1; fill:none\" points=\"\n",
       "  186.274,1181.86 2352.76,1181.86 \n",
       "  \"/>\n",
       "<polyline clip-path=\"url(#clip482)\" style=\"stroke:#000000; stroke-linecap:round; stroke-linejoin:round; stroke-width:2; stroke-opacity:0.1; fill:none\" points=\"\n",
       "  186.274,960.366 2352.76,960.366 \n",
       "  \"/>\n",
       "<polyline clip-path=\"url(#clip482)\" style=\"stroke:#000000; stroke-linecap:round; stroke-linejoin:round; stroke-width:2; stroke-opacity:0.1; fill:none\" points=\"\n",
       "  186.274,738.875 2352.76,738.875 \n",
       "  \"/>\n",
       "<polyline clip-path=\"url(#clip482)\" style=\"stroke:#000000; stroke-linecap:round; stroke-linejoin:round; stroke-width:2; stroke-opacity:0.1; fill:none\" points=\"\n",
       "  186.274,517.385 2352.76,517.385 \n",
       "  \"/>\n",
       "<polyline clip-path=\"url(#clip482)\" style=\"stroke:#000000; stroke-linecap:round; stroke-linejoin:round; stroke-width:2; stroke-opacity:0.1; fill:none\" points=\"\n",
       "  186.274,295.894 2352.76,295.894 \n",
       "  \"/>\n",
       "<polyline clip-path=\"url(#clip482)\" style=\"stroke:#000000; stroke-linecap:round; stroke-linejoin:round; stroke-width:2; stroke-opacity:0.1; fill:none\" points=\"\n",
       "  186.274,74.404 2352.76,74.404 \n",
       "  \"/>\n",
       "<polyline clip-path=\"url(#clip480)\" style=\"stroke:#000000; stroke-linecap:round; stroke-linejoin:round; stroke-width:4; stroke-opacity:1; fill:none\" points=\"\n",
       "  186.274,1486.45 186.274,47.2441 \n",
       "  \"/>\n",
       "<polyline clip-path=\"url(#clip480)\" style=\"stroke:#000000; stroke-linecap:round; stroke-linejoin:round; stroke-width:4; stroke-opacity:1; fill:none\" points=\"\n",
       "  186.274,1403.35 205.172,1403.35 \n",
       "  \"/>\n",
       "<polyline clip-path=\"url(#clip480)\" style=\"stroke:#000000; stroke-linecap:round; stroke-linejoin:round; stroke-width:4; stroke-opacity:1; fill:none\" points=\"\n",
       "  186.274,1181.86 205.172,1181.86 \n",
       "  \"/>\n",
       "<polyline clip-path=\"url(#clip480)\" style=\"stroke:#000000; stroke-linecap:round; stroke-linejoin:round; stroke-width:4; stroke-opacity:1; fill:none\" points=\"\n",
       "  186.274,960.366 205.172,960.366 \n",
       "  \"/>\n",
       "<polyline clip-path=\"url(#clip480)\" style=\"stroke:#000000; stroke-linecap:round; stroke-linejoin:round; stroke-width:4; stroke-opacity:1; fill:none\" points=\"\n",
       "  186.274,738.875 205.172,738.875 \n",
       "  \"/>\n",
       "<polyline clip-path=\"url(#clip480)\" style=\"stroke:#000000; stroke-linecap:round; stroke-linejoin:round; stroke-width:4; stroke-opacity:1; fill:none\" points=\"\n",
       "  186.274,517.385 205.172,517.385 \n",
       "  \"/>\n",
       "<polyline clip-path=\"url(#clip480)\" style=\"stroke:#000000; stroke-linecap:round; stroke-linejoin:round; stroke-width:4; stroke-opacity:1; fill:none\" points=\"\n",
       "  186.274,295.894 205.172,295.894 \n",
       "  \"/>\n",
       "<polyline clip-path=\"url(#clip480)\" style=\"stroke:#000000; stroke-linecap:round; stroke-linejoin:round; stroke-width:4; stroke-opacity:1; fill:none\" points=\"\n",
       "  186.274,74.404 205.172,74.404 \n",
       "  \"/>\n",
       "<path clip-path=\"url(#clip480)\" d=\"M63.9319 1389.15 Q60.3208 1389.15 58.4921 1392.71 Q56.6865 1396.25 56.6865 1403.38 Q56.6865 1410.49 58.4921 1414.05 Q60.3208 1417.59 63.9319 1417.59 Q67.5661 1417.59 69.3717 1414.05 Q71.2004 1410.49 71.2004 1403.38 Q71.2004 1396.25 69.3717 1392.71 Q67.5661 1389.15 63.9319 1389.15 M63.9319 1385.44 Q69.742 1385.44 72.7976 1390.05 Q75.8763 1394.63 75.8763 1403.38 Q75.8763 1412.11 72.7976 1416.71 Q69.742 1421.3 63.9319 1421.3 Q58.1217 1421.3 55.043 1416.71 Q51.9875 1412.11 51.9875 1403.38 Q51.9875 1394.63 55.043 1390.05 Q58.1217 1385.44 63.9319 1385.44 Z\" fill=\"#000000\" fill-rule=\"evenodd\" fill-opacity=\"1\" /><path clip-path=\"url(#clip480)\" d=\"M84.0938 1414.75 L88.978 1414.75 L88.978 1420.63 L84.0938 1420.63 L84.0938 1414.75 Z\" fill=\"#000000\" fill-rule=\"evenodd\" fill-opacity=\"1\" /><path clip-path=\"url(#clip480)\" d=\"M103.191 1416.69 L119.51 1416.69 L119.51 1420.63 L97.566 1420.63 L97.566 1416.69 Q100.228 1413.94 104.811 1409.31 Q109.418 1404.65 110.598 1403.31 Q112.844 1400.79 113.723 1399.05 Q114.626 1397.29 114.626 1395.6 Q114.626 1392.85 112.682 1391.11 Q110.76 1389.38 107.658 1389.38 Q105.459 1389.38 103.006 1390.14 Q100.575 1390.9 97.7974 1392.46 L97.7974 1387.73 Q100.621 1386.6 103.075 1386.02 Q105.529 1385.44 107.566 1385.44 Q112.936 1385.44 116.131 1388.13 Q119.325 1390.81 119.325 1395.3 Q119.325 1397.43 118.515 1399.35 Q117.728 1401.25 115.621 1403.84 Q115.043 1404.52 111.941 1407.73 Q108.839 1410.93 103.191 1416.69 Z\" fill=\"#000000\" fill-rule=\"evenodd\" fill-opacity=\"1\" /><path clip-path=\"url(#clip480)\" d=\"M129.371 1386.07 L147.728 1386.07 L147.728 1390 L133.654 1390 L133.654 1398.47 Q134.672 1398.13 135.691 1397.96 Q136.709 1397.78 137.728 1397.78 Q143.515 1397.78 146.894 1400.95 Q150.274 1404.12 150.274 1409.54 Q150.274 1415.12 146.802 1418.22 Q143.33 1421.3 137.01 1421.3 Q134.834 1421.3 132.566 1420.93 Q130.32 1420.56 127.913 1419.82 L127.913 1415.12 Q129.996 1416.25 132.219 1416.81 Q134.441 1417.36 136.918 1417.36 Q140.922 1417.36 143.26 1415.26 Q145.598 1413.15 145.598 1409.54 Q145.598 1405.93 143.26 1403.82 Q140.922 1401.71 136.918 1401.71 Q135.043 1401.71 133.168 1402.13 Q131.316 1402.55 129.371 1403.43 L129.371 1386.07 Z\" fill=\"#000000\" fill-rule=\"evenodd\" fill-opacity=\"1\" /><path clip-path=\"url(#clip480)\" d=\"M62.9365 1167.65 Q59.3254 1167.65 57.4967 1171.22 Q55.6912 1174.76 55.6912 1181.89 Q55.6912 1189 57.4967 1192.56 Q59.3254 1196.1 62.9365 1196.1 Q66.5707 1196.1 68.3763 1192.56 Q70.205 1189 70.205 1181.89 Q70.205 1174.76 68.3763 1171.22 Q66.5707 1167.65 62.9365 1167.65 M62.9365 1163.95 Q68.7467 1163.95 71.8022 1168.56 Q74.8809 1173.14 74.8809 1181.89 Q74.8809 1190.62 71.8022 1195.22 Q68.7467 1199.81 62.9365 1199.81 Q57.1264 1199.81 54.0477 1195.22 Q50.9921 1190.62 50.9921 1181.89 Q50.9921 1173.14 54.0477 1168.56 Q57.1264 1163.95 62.9365 1163.95 Z\" fill=\"#000000\" fill-rule=\"evenodd\" fill-opacity=\"1\" /><path clip-path=\"url(#clip480)\" d=\"M83.0984 1193.26 L87.9827 1193.26 L87.9827 1199.14 L83.0984 1199.14 L83.0984 1193.26 Z\" fill=\"#000000\" fill-rule=\"evenodd\" fill-opacity=\"1\" /><path clip-path=\"url(#clip480)\" d=\"M112.334 1180.5 Q115.691 1181.22 117.566 1183.49 Q119.464 1185.76 119.464 1189.09 Q119.464 1194.21 115.945 1197.01 Q112.427 1199.81 105.946 1199.81 Q103.77 1199.81 101.455 1199.37 Q99.1632 1198.95 96.7095 1198.09 L96.7095 1193.58 Q98.6539 1194.72 100.969 1195.29 Q103.284 1195.87 105.807 1195.87 Q110.205 1195.87 112.496 1194.14 Q114.811 1192.4 114.811 1189.09 Q114.811 1186.03 112.658 1184.32 Q110.529 1182.59 106.709 1182.59 L102.682 1182.59 L102.682 1178.74 L106.895 1178.74 Q110.344 1178.74 112.172 1177.38 Q114.001 1175.99 114.001 1173.4 Q114.001 1170.73 112.103 1169.32 Q110.228 1167.89 106.709 1167.89 Q104.788 1167.89 102.589 1168.3 Q100.39 1168.72 97.7511 1169.6 L97.7511 1165.43 Q100.413 1164.69 102.728 1164.32 Q105.066 1163.95 107.126 1163.95 Q112.45 1163.95 115.552 1166.38 Q118.654 1168.79 118.654 1172.91 Q118.654 1175.78 117.01 1177.77 Q115.367 1179.74 112.334 1180.5 Z\" fill=\"#000000\" fill-rule=\"evenodd\" fill-opacity=\"1\" /><path clip-path=\"url(#clip480)\" d=\"M138.33 1167.65 Q134.719 1167.65 132.89 1171.22 Q131.084 1174.76 131.084 1181.89 Q131.084 1189 132.89 1192.56 Q134.719 1196.1 138.33 1196.1 Q141.964 1196.1 143.769 1192.56 Q145.598 1189 145.598 1181.89 Q145.598 1174.76 143.769 1171.22 Q141.964 1167.65 138.33 1167.65 M138.33 1163.95 Q144.14 1163.95 147.195 1168.56 Q150.274 1173.14 150.274 1181.89 Q150.274 1190.62 147.195 1195.22 Q144.14 1199.81 138.33 1199.81 Q132.519 1199.81 129.441 1195.22 Q126.385 1190.62 126.385 1181.89 Q126.385 1173.14 129.441 1168.56 Q132.519 1163.95 138.33 1163.95 Z\" fill=\"#000000\" fill-rule=\"evenodd\" fill-opacity=\"1\" /><path clip-path=\"url(#clip480)\" d=\"M63.9319 946.165 Q60.3208 946.165 58.4921 949.729 Q56.6865 953.271 56.6865 960.401 Q56.6865 967.507 58.4921 971.072 Q60.3208 974.613 63.9319 974.613 Q67.5661 974.613 69.3717 971.072 Q71.2004 967.507 71.2004 960.401 Q71.2004 953.271 69.3717 949.729 Q67.5661 946.165 63.9319 946.165 M63.9319 942.461 Q69.742 942.461 72.7976 947.067 Q75.8763 951.651 75.8763 960.401 Q75.8763 969.127 72.7976 973.734 Q69.742 978.317 63.9319 978.317 Q58.1217 978.317 55.043 973.734 Q51.9875 969.127 51.9875 960.401 Q51.9875 951.651 55.043 947.067 Q58.1217 942.461 63.9319 942.461 Z\" fill=\"#000000\" fill-rule=\"evenodd\" fill-opacity=\"1\" /><path clip-path=\"url(#clip480)\" d=\"M84.0938 971.766 L88.978 971.766 L88.978 977.646 L84.0938 977.646 L84.0938 971.766 Z\" fill=\"#000000\" fill-rule=\"evenodd\" fill-opacity=\"1\" /><path clip-path=\"url(#clip480)\" d=\"M113.33 959.012 Q116.686 959.729 118.561 961.998 Q120.459 964.266 120.459 967.6 Q120.459 972.715 116.941 975.516 Q113.422 978.317 106.941 978.317 Q104.765 978.317 102.45 977.877 Q100.159 977.461 97.7048 976.604 L97.7048 972.09 Q99.6493 973.225 101.964 973.803 Q104.279 974.382 106.802 974.382 Q111.2 974.382 113.492 972.646 Q115.807 970.91 115.807 967.6 Q115.807 964.544 113.654 962.831 Q111.524 961.095 107.705 961.095 L103.677 961.095 L103.677 957.252 L107.89 957.252 Q111.339 957.252 113.168 955.887 Q114.996 954.498 114.996 951.905 Q114.996 949.243 113.098 947.831 Q111.223 946.396 107.705 946.396 Q105.783 946.396 103.584 946.813 Q101.385 947.229 98.7465 948.109 L98.7465 943.942 Q101.409 943.202 103.723 942.831 Q106.061 942.461 108.121 942.461 Q113.445 942.461 116.547 944.891 Q119.649 947.299 119.649 951.419 Q119.649 954.289 118.006 956.28 Q116.362 958.248 113.33 959.012 Z\" fill=\"#000000\" fill-rule=\"evenodd\" fill-opacity=\"1\" /><path clip-path=\"url(#clip480)\" d=\"M129.371 943.086 L147.728 943.086 L147.728 947.021 L133.654 947.021 L133.654 955.493 Q134.672 955.146 135.691 954.984 Q136.709 954.799 137.728 954.799 Q143.515 954.799 146.894 957.97 Q150.274 961.141 150.274 966.558 Q150.274 972.137 146.802 975.238 Q143.33 978.317 137.01 978.317 Q134.834 978.317 132.566 977.947 Q130.32 977.576 127.913 976.836 L127.913 972.137 Q129.996 973.271 132.219 973.826 Q134.441 974.382 136.918 974.382 Q140.922 974.382 143.26 972.275 Q145.598 970.169 145.598 966.558 Q145.598 962.947 143.26 960.84 Q140.922 958.734 136.918 958.734 Q135.043 958.734 133.168 959.151 Q131.316 959.567 129.371 960.447 L129.371 943.086 Z\" fill=\"#000000\" fill-rule=\"evenodd\" fill-opacity=\"1\" /><path clip-path=\"url(#clip480)\" d=\"M62.9365 724.674 Q59.3254 724.674 57.4967 728.239 Q55.6912 731.78 55.6912 738.91 Q55.6912 746.017 57.4967 749.581 Q59.3254 753.123 62.9365 753.123 Q66.5707 753.123 68.3763 749.581 Q70.205 746.017 70.205 738.91 Q70.205 731.78 68.3763 728.239 Q66.5707 724.674 62.9365 724.674 M62.9365 720.97 Q68.7467 720.97 71.8022 725.577 Q74.8809 730.16 74.8809 738.91 Q74.8809 747.637 71.8022 752.243 Q68.7467 756.827 62.9365 756.827 Q57.1264 756.827 54.0477 752.243 Q50.9921 747.637 50.9921 738.91 Q50.9921 730.16 54.0477 725.577 Q57.1264 720.97 62.9365 720.97 Z\" fill=\"#000000\" fill-rule=\"evenodd\" fill-opacity=\"1\" /><path clip-path=\"url(#clip480)\" d=\"M83.0984 750.276 L87.9827 750.276 L87.9827 756.155 L83.0984 756.155 L83.0984 750.276 Z\" fill=\"#000000\" fill-rule=\"evenodd\" fill-opacity=\"1\" /><path clip-path=\"url(#clip480)\" d=\"M111.015 725.669 L99.2095 744.118 L111.015 744.118 L111.015 725.669 M109.788 721.595 L115.668 721.595 L115.668 744.118 L120.598 744.118 L120.598 748.007 L115.668 748.007 L115.668 756.155 L111.015 756.155 L111.015 748.007 L95.4132 748.007 L95.4132 743.493 L109.788 721.595 Z\" fill=\"#000000\" fill-rule=\"evenodd\" fill-opacity=\"1\" /><path clip-path=\"url(#clip480)\" d=\"M138.33 724.674 Q134.719 724.674 132.89 728.239 Q131.084 731.78 131.084 738.91 Q131.084 746.017 132.89 749.581 Q134.719 753.123 138.33 753.123 Q141.964 753.123 143.769 749.581 Q145.598 746.017 145.598 738.91 Q145.598 731.78 143.769 728.239 Q141.964 724.674 138.33 724.674 M138.33 720.97 Q144.14 720.97 147.195 725.577 Q150.274 730.16 150.274 738.91 Q150.274 747.637 147.195 752.243 Q144.14 756.827 138.33 756.827 Q132.519 756.827 129.441 752.243 Q126.385 747.637 126.385 738.91 Q126.385 730.16 129.441 725.577 Q132.519 720.97 138.33 720.97 Z\" fill=\"#000000\" fill-rule=\"evenodd\" fill-opacity=\"1\" /><path clip-path=\"url(#clip480)\" d=\"M63.9319 503.184 Q60.3208 503.184 58.4921 506.748 Q56.6865 510.29 56.6865 517.42 Q56.6865 524.526 58.4921 528.091 Q60.3208 531.633 63.9319 531.633 Q67.5661 531.633 69.3717 528.091 Q71.2004 524.526 71.2004 517.42 Q71.2004 510.29 69.3717 506.748 Q67.5661 503.184 63.9319 503.184 M63.9319 499.48 Q69.742 499.48 72.7976 504.086 Q75.8763 508.67 75.8763 517.42 Q75.8763 526.146 72.7976 530.753 Q69.742 535.336 63.9319 535.336 Q58.1217 535.336 55.043 530.753 Q51.9875 526.146 51.9875 517.42 Q51.9875 508.67 55.043 504.086 Q58.1217 499.48 63.9319 499.48 Z\" fill=\"#000000\" fill-rule=\"evenodd\" fill-opacity=\"1\" /><path clip-path=\"url(#clip480)\" d=\"M84.0938 528.785 L88.978 528.785 L88.978 534.665 L84.0938 534.665 L84.0938 528.785 Z\" fill=\"#000000\" fill-rule=\"evenodd\" fill-opacity=\"1\" /><path clip-path=\"url(#clip480)\" d=\"M112.01 504.179 L100.205 522.628 L112.01 522.628 L112.01 504.179 M110.783 500.105 L116.663 500.105 L116.663 522.628 L121.594 522.628 L121.594 526.517 L116.663 526.517 L116.663 534.665 L112.01 534.665 L112.01 526.517 L96.4085 526.517 L96.4085 522.003 L110.783 500.105 Z\" fill=\"#000000\" fill-rule=\"evenodd\" fill-opacity=\"1\" /><path clip-path=\"url(#clip480)\" d=\"M129.371 500.105 L147.728 500.105 L147.728 504.04 L133.654 504.04 L133.654 512.512 Q134.672 512.165 135.691 512.003 Q136.709 511.818 137.728 511.818 Q143.515 511.818 146.894 514.989 Q150.274 518.16 150.274 523.577 Q150.274 529.156 146.802 532.258 Q143.33 535.336 137.01 535.336 Q134.834 535.336 132.566 534.966 Q130.32 534.595 127.913 533.855 L127.913 529.156 Q129.996 530.29 132.219 530.845 Q134.441 531.401 136.918 531.401 Q140.922 531.401 143.26 529.295 Q145.598 527.188 145.598 523.577 Q145.598 519.966 143.26 517.859 Q140.922 515.753 136.918 515.753 Q135.043 515.753 133.168 516.17 Q131.316 516.586 129.371 517.466 L129.371 500.105 Z\" fill=\"#000000\" fill-rule=\"evenodd\" fill-opacity=\"1\" /><path clip-path=\"url(#clip480)\" d=\"M62.9365 281.693 Q59.3254 281.693 57.4967 285.258 Q55.6912 288.8 55.6912 295.929 Q55.6912 303.036 57.4967 306.6 Q59.3254 310.142 62.9365 310.142 Q66.5707 310.142 68.3763 306.6 Q70.205 303.036 70.205 295.929 Q70.205 288.8 68.3763 285.258 Q66.5707 281.693 62.9365 281.693 M62.9365 277.989 Q68.7467 277.989 71.8022 282.596 Q74.8809 287.179 74.8809 295.929 Q74.8809 304.656 71.8022 309.262 Q68.7467 313.846 62.9365 313.846 Q57.1264 313.846 54.0477 309.262 Q50.9921 304.656 50.9921 295.929 Q50.9921 287.179 54.0477 282.596 Q57.1264 277.989 62.9365 277.989 Z\" fill=\"#000000\" fill-rule=\"evenodd\" fill-opacity=\"1\" /><path clip-path=\"url(#clip480)\" d=\"M83.0984 307.295 L87.9827 307.295 L87.9827 313.174 L83.0984 313.174 L83.0984 307.295 Z\" fill=\"#000000\" fill-rule=\"evenodd\" fill-opacity=\"1\" /><path clip-path=\"url(#clip480)\" d=\"M98.2141 278.614 L116.57 278.614 L116.57 282.55 L102.496 282.55 L102.496 291.022 Q103.515 290.675 104.534 290.513 Q105.552 290.327 106.571 290.327 Q112.358 290.327 115.737 293.499 Q119.117 296.67 119.117 302.087 Q119.117 307.665 115.645 310.767 Q112.172 313.846 105.853 313.846 Q103.677 313.846 101.409 313.475 Q99.1632 313.105 96.7558 312.364 L96.7558 307.665 Q98.8391 308.799 101.061 309.355 Q103.284 309.911 105.76 309.911 Q109.765 309.911 112.103 307.804 Q114.441 305.698 114.441 302.087 Q114.441 298.475 112.103 296.369 Q109.765 294.263 105.76 294.263 Q103.885 294.263 102.01 294.679 Q100.159 295.096 98.2141 295.975 L98.2141 278.614 Z\" fill=\"#000000\" fill-rule=\"evenodd\" fill-opacity=\"1\" /><path clip-path=\"url(#clip480)\" d=\"M138.33 281.693 Q134.719 281.693 132.89 285.258 Q131.084 288.8 131.084 295.929 Q131.084 303.036 132.89 306.6 Q134.719 310.142 138.33 310.142 Q141.964 310.142 143.769 306.6 Q145.598 303.036 145.598 295.929 Q145.598 288.8 143.769 285.258 Q141.964 281.693 138.33 281.693 M138.33 277.989 Q144.14 277.989 147.195 282.596 Q150.274 287.179 150.274 295.929 Q150.274 304.656 147.195 309.262 Q144.14 313.846 138.33 313.846 Q132.519 313.846 129.441 309.262 Q126.385 304.656 126.385 295.929 Q126.385 287.179 129.441 282.596 Q132.519 277.989 138.33 277.989 Z\" fill=\"#000000\" fill-rule=\"evenodd\" fill-opacity=\"1\" /><path clip-path=\"url(#clip480)\" d=\"M63.9319 60.2027 Q60.3208 60.2027 58.4921 63.7675 Q56.6865 67.3091 56.6865 74.4387 Q56.6865 81.5452 58.4921 85.1099 Q60.3208 88.6516 63.9319 88.6516 Q67.5661 88.6516 69.3717 85.1099 Q71.2004 81.5452 71.2004 74.4387 Q71.2004 67.3091 69.3717 63.7675 Q67.5661 60.2027 63.9319 60.2027 M63.9319 56.499 Q69.742 56.499 72.7976 61.1054 Q75.8763 65.6888 75.8763 74.4387 Q75.8763 83.1655 72.7976 87.772 Q69.742 92.3553 63.9319 92.3553 Q58.1217 92.3553 55.043 87.772 Q51.9875 83.1655 51.9875 74.4387 Q51.9875 65.6888 55.043 61.1054 Q58.1217 56.499 63.9319 56.499 Z\" fill=\"#000000\" fill-rule=\"evenodd\" fill-opacity=\"1\" /><path clip-path=\"url(#clip480)\" d=\"M84.0938 85.8044 L88.978 85.8044 L88.978 91.684 L84.0938 91.684 L84.0938 85.8044 Z\" fill=\"#000000\" fill-rule=\"evenodd\" fill-opacity=\"1\" /><path clip-path=\"url(#clip480)\" d=\"M99.2095 57.124 L117.566 57.124 L117.566 61.0592 L103.492 61.0592 L103.492 69.5313 Q104.51 69.1841 105.529 69.0221 Q106.547 68.8369 107.566 68.8369 Q113.353 68.8369 116.733 72.0082 Q120.112 75.1794 120.112 80.5961 Q120.112 86.1748 116.64 89.2766 Q113.168 92.3553 106.848 92.3553 Q104.672 92.3553 102.404 91.9849 Q100.159 91.6145 97.7511 90.8738 L97.7511 86.1748 Q99.8345 87.309 102.057 87.8646 Q104.279 88.4201 106.756 88.4201 Q110.76 88.4201 113.098 86.3136 Q115.436 84.2072 115.436 80.5961 Q115.436 76.985 113.098 74.8785 Q110.76 72.7721 106.756 72.7721 Q104.881 72.7721 103.006 73.1887 Q101.154 73.6054 99.2095 74.485 L99.2095 57.124 Z\" fill=\"#000000\" fill-rule=\"evenodd\" fill-opacity=\"1\" /><path clip-path=\"url(#clip480)\" d=\"M129.371 57.124 L147.728 57.124 L147.728 61.0592 L133.654 61.0592 L133.654 69.5313 Q134.672 69.1841 135.691 69.0221 Q136.709 68.8369 137.728 68.8369 Q143.515 68.8369 146.894 72.0082 Q150.274 75.1794 150.274 80.5961 Q150.274 86.1748 146.802 89.2766 Q143.33 92.3553 137.01 92.3553 Q134.834 92.3553 132.566 91.9849 Q130.32 91.6145 127.913 90.8738 L127.913 86.1748 Q129.996 87.309 132.219 87.8646 Q134.441 88.4201 136.918 88.4201 Q140.922 88.4201 143.26 86.3136 Q145.598 84.2072 145.598 80.5961 Q145.598 76.985 143.26 74.8785 Q140.922 72.7721 136.918 72.7721 Q135.043 72.7721 133.168 73.1887 Q131.316 73.6054 129.371 74.485 L129.371 57.124 Z\" fill=\"#000000\" fill-rule=\"evenodd\" fill-opacity=\"1\" /><polyline clip-path=\"url(#clip482)\" style=\"stroke:#009af9; stroke-linecap:round; stroke-linejoin:round; stroke-width:4; stroke-opacity:1; fill:none\" points=\"\n",
       "  247.59,87.9763 248.612,92.4815 249.634,96.9653 250.657,101.428 251.679,105.869 252.702,110.288 253.724,114.687 254.747,119.065 255.769,123.422 256.791,127.759 \n",
       "  257.814,132.075 258.836,136.37 259.859,140.646 260.881,144.901 261.904,149.136 262.926,153.351 263.949,157.546 264.971,161.722 265.993,165.878 267.016,170.015 \n",
       "  268.038,174.132 269.061,178.23 270.083,182.309 271.106,186.369 272.128,190.41 273.15,194.432 274.173,198.436 275.195,202.421 276.218,206.388 277.24,210.336 \n",
       "  278.263,214.266 279.285,218.178 280.307,222.072 281.33,225.948 282.352,229.807 283.375,233.647 284.397,237.47 285.42,241.276 286.442,245.064 287.465,248.835 \n",
       "  288.487,252.589 289.509,256.325 290.532,260.045 291.554,263.748 292.577,267.434 293.599,271.103 294.622,274.756 295.644,278.393 296.666,282.013 297.689,285.616 \n",
       "  298.711,289.204 299.734,292.775 300.756,296.33 301.779,299.87 302.801,303.393 303.824,306.901 304.846,310.394 305.868,313.87 306.891,317.332 307.913,320.778 \n",
       "  308.936,324.208 309.958,327.624 310.981,331.024 312.003,334.409 313.025,337.78 314.048,341.135 315.07,344.476 316.093,347.802 317.115,351.114 318.138,354.411 \n",
       "  319.16,357.693 320.183,360.961 321.205,364.215 322.227,367.455 323.25,370.681 324.272,373.893 325.295,377.09 326.317,380.274 327.34,383.445 328.362,386.601 \n",
       "  329.384,389.744 330.407,392.873 331.429,395.989 332.452,399.091 333.474,402.18 334.497,405.256 335.519,408.319 336.542,411.368 337.564,414.405 338.586,417.429 \n",
       "  339.609,420.439 340.631,423.437 341.654,426.423 342.676,429.395 343.699,432.355 344.721,435.303 345.743,438.238 346.766,441.16 347.788,444.071 348.811,446.969 \n",
       "  349.833,449.855 350.856,452.728 351.878,455.59 352.901,458.44 353.923,461.278 354.945,464.104 355.968,466.918 356.99,469.721 358.013,472.512 359.035,475.291 \n",
       "  360.058,478.059 361.08,480.815 362.102,483.56 363.125,486.294 364.147,489.016 365.17,491.727 366.192,494.427 367.215,497.116 368.237,499.794 369.259,502.461 \n",
       "  370.282,505.117 371.304,507.762 372.327,510.397 373.349,513.021 374.372,515.634 375.394,518.236 376.417,520.828 377.439,523.409 378.461,525.98 379.484,528.541 \n",
       "  380.506,531.091 381.529,533.631 382.551,536.161 383.574,538.68 384.596,541.19 385.618,543.689 386.641,546.179 387.663,548.658 388.686,551.128 389.708,553.587 \n",
       "  390.731,556.037 391.753,558.477 392.776,560.908 393.798,563.329 394.82,565.74 395.843,568.142 396.865,570.534 397.888,572.917 398.91,575.291 399.933,577.655 \n",
       "  400.955,580.01 401.977,582.355 403,584.692 404.022,587.019 405.045,589.337 406.067,591.646 407.09,593.946 408.112,596.238 409.135,598.52 410.157,600.794 \n",
       "  411.179,603.058 412.202,605.314 413.224,607.561 414.247,609.8 415.269,612.03 416.292,614.251 417.314,616.464 418.336,618.668 419.359,620.864 420.381,623.051 \n",
       "  421.404,625.23 422.426,627.401 423.449,629.563 424.471,631.718 425.494,633.864 426.516,636.001 427.538,638.131 428.561,640.253 429.583,642.367 430.606,644.472 \n",
       "  431.628,646.57 432.651,648.66 433.673,650.742 434.695,652.816 435.718,654.882 436.74,656.941 437.763,658.992 438.785,661.035 439.808,663.07 440.83,665.098 \n",
       "  441.852,667.119 442.875,669.132 443.897,671.137 444.92,673.135 445.942,675.126 446.965,677.109 447.987,679.085 449.01,681.054 450.032,683.015 451.054,684.969 \n",
       "  452.077,686.916 453.099,688.856 454.122,690.789 455.144,692.714 456.167,694.633 457.189,696.544 458.211,698.449 459.234,700.347 460.256,702.237 461.279,704.121 \n",
       "  462.301,705.998 463.324,707.868 464.346,709.732 465.369,711.589 466.391,713.439 467.413,715.282 468.436,717.119 469.458,718.949 470.481,720.773 471.503,722.59 \n",
       "  472.526,724.4 473.548,726.204 474.57,728.002 475.593,729.793 476.615,731.578 477.638,733.356 478.66,735.128 479.683,736.894 480.705,738.653 481.728,740.407 \n",
       "  482.75,742.154 483.772,743.895 484.795,745.63 485.817,747.358 486.84,749.081 487.862,750.797 488.885,752.508 489.907,754.212 490.929,755.911 491.952,757.604 \n",
       "  492.974,759.29 493.997,760.971 495.019,762.646 496.042,764.315 497.064,765.979 498.087,767.636 499.109,769.288 500.131,770.934 501.154,772.575 502.176,774.209 \n",
       "  503.199,775.838 504.221,777.462 505.244,779.08 506.266,780.692 507.288,782.299 508.311,783.9 509.333,785.496 510.356,787.087 511.378,788.672 512.401,790.251 \n",
       "  513.423,791.825 514.445,793.394 515.468,794.958 516.49,796.516 517.513,798.069 518.535,799.616 519.558,801.159 520.58,802.696 521.603,804.228 522.625,805.755 \n",
       "  523.647,807.277 524.67,808.793 525.692,810.305 526.715,811.811 527.737,813.313 528.76,814.809 529.782,816.301 530.804,817.787 531.827,819.268 532.849,820.745 \n",
       "  533.872,822.217 534.894,823.683 535.917,825.145 536.939,826.602 537.962,828.055 538.984,829.502 540.006,830.945 541.029,832.383 542.051,833.816 543.074,835.245 \n",
       "  544.096,836.668 545.119,838.088 546.141,839.502 547.163,840.912 548.186,842.317 549.208,843.718 550.231,845.114 551.253,846.506 552.276,847.893 553.298,849.275 \n",
       "  554.321,850.653 555.343,852.027 556.365,853.396 557.388,854.761 558.41,856.121 559.433,857.477 560.455,858.829 561.478,860.176 562.5,861.519 563.522,862.858 \n",
       "  564.545,864.192 565.567,865.522 566.59,866.848 567.612,868.17 568.635,869.487 569.657,870.8 570.68,872.109 571.702,873.414 572.724,874.715 573.747,876.012 \n",
       "  574.769,877.304 575.792,878.593 576.814,879.877 577.837,881.157 578.859,882.434 579.881,883.706 580.904,884.974 581.926,886.238 582.949,887.499 583.971,888.755 \n",
       "  584.994,890.008 586.016,891.256 587.038,892.501 588.061,893.742 589.083,894.978 590.106,896.212 591.128,897.441 592.151,898.666 593.173,899.888 594.196,901.106 \n",
       "  595.218,902.32 596.24,903.53 597.263,904.737 598.285,905.94 599.308,907.139 600.33,908.334 601.353,909.526 602.375,910.715 603.397,911.899 604.42,913.08 \n",
       "  605.442,914.257 606.465,915.431 607.487,916.601 608.51,917.768 609.532,918.931 610.555,920.091 611.577,921.247 612.599,922.399 613.622,923.548 614.644,924.694 \n",
       "  615.667,925.836 616.689,926.975 617.712,928.11 618.734,929.242 619.756,930.37 620.779,931.495 621.801,932.617 622.824,933.735 623.846,934.85 624.869,935.962 \n",
       "  625.891,937.07 626.914,938.175 627.936,939.277 628.958,940.376 629.981,941.471 631.003,942.563 632.026,943.652 633.048,944.737 634.071,945.82 635.093,946.899 \n",
       "  636.115,947.975 637.138,949.047 638.16,950.117 639.183,951.183 640.205,952.247 641.228,953.307 642.25,954.364 643.273,955.418 644.295,956.469 645.317,957.517 \n",
       "  646.34,958.562 647.362,959.604 648.385,960.643 649.407,961.678 650.43,962.711 651.452,963.741 652.474,964.768 653.497,965.792 654.519,966.812 655.542,967.83 \n",
       "  656.564,968.845 657.587,969.857 658.609,970.867 659.631,971.873 660.654,972.876 661.676,973.877 662.699,974.874 663.721,975.869 664.744,976.861 665.766,977.85 \n",
       "  666.789,978.837 667.811,979.82 668.833,980.801 669.856,981.779 670.878,982.754 671.901,983.726 672.923,984.696 673.946,985.663 674.968,986.627 675.99,987.588 \n",
       "  677.013,988.547 678.035,989.503 679.058,990.457 680.08,991.407 681.103,992.355 682.125,993.301 683.148,994.243 684.17,995.184 685.192,996.121 686.215,997.056 \n",
       "  687.237,997.988 688.26,998.918 689.282,999.845 690.305,1000.77 691.327,1001.69 692.349,1002.61 693.372,1003.53 694.394,1004.44 695.417,1005.35 696.439,1006.26 \n",
       "  697.462,1007.17 698.484,1008.07 699.507,1008.98 700.529,1009.88 701.551,1010.77 702.574,1011.67 703.596,1012.56 704.619,1013.45 705.641,1014.34 706.664,1015.22 \n",
       "  707.686,1016.1 708.708,1016.98 709.731,1017.86 710.753,1018.73 711.776,1019.61 712.798,1020.48 713.821,1021.35 714.843,1022.21 715.866,1023.08 716.888,1023.94 \n",
       "  717.91,1024.79 718.933,1025.65 719.955,1026.51 720.978,1027.36 722,1028.21 723.023,1029.05 724.045,1029.9 725.067,1030.74 726.09,1031.58 727.112,1032.42 \n",
       "  728.135,1033.26 729.157,1034.09 730.18,1034.92 731.202,1035.75 732.224,1036.58 733.247,1037.4 734.269,1038.23 735.292,1039.05 736.314,1039.87 737.337,1040.68 \n",
       "  738.359,1041.5 739.382,1042.31 740.404,1043.12 741.426,1043.93 742.449,1044.73 743.471,1045.53 744.494,1046.34 745.516,1047.13 746.539,1047.93 747.561,1048.73 \n",
       "  748.583,1049.52 749.606,1050.31 750.628,1051.1 751.651,1051.89 752.673,1052.67 753.696,1053.46 754.718,1054.24 755.741,1055.01 756.763,1055.79 757.785,1056.57 \n",
       "  758.808,1057.34 759.83,1058.11 760.853,1058.88 761.875,1059.65 762.898,1060.41 763.92,1061.17 764.942,1061.93 765.965,1062.69 766.987,1063.45 768.01,1064.21 \n",
       "  769.032,1064.96 770.055,1065.71 771.077,1066.46 772.1,1067.21 773.122,1067.95 774.144,1068.7 775.167,1069.44 776.189,1070.18 777.212,1070.92 778.234,1071.65 \n",
       "  779.257,1072.39 780.279,1073.12 781.301,1073.85 782.324,1074.58 783.346,1075.31 784.369,1076.03 785.391,1076.75 786.414,1077.48 787.436,1078.2 788.459,1078.91 \n",
       "  789.481,1079.63 790.503,1080.34 791.526,1081.06 792.548,1081.77 793.571,1082.48 794.593,1083.18 795.616,1083.89 796.638,1084.59 797.66,1085.29 798.683,1085.99 \n",
       "  799.705,1086.69 800.728,1087.39 801.75,1088.09 802.773,1088.78 803.795,1089.47 804.817,1090.16 805.84,1090.85 806.862,1091.54 807.885,1092.22 808.907,1092.9 \n",
       "  809.93,1093.59 810.952,1094.27 811.975,1094.94 812.997,1095.62 814.019,1096.3 815.042,1096.97 816.064,1097.64 817.087,1098.31 818.109,1098.98 819.132,1099.65 \n",
       "  820.154,1100.31 821.176,1100.97 822.199,1101.64 823.221,1102.3 824.244,1102.96 825.266,1103.61 826.289,1104.27 827.311,1104.92 828.334,1105.58 829.356,1106.23 \n",
       "  830.378,1106.88 831.401,1107.52 832.423,1108.17 833.446,1108.81 834.468,1109.46 835.491,1110.1 836.513,1110.74 837.535,1111.38 838.558,1112.02 839.58,1112.65 \n",
       "  840.603,1113.29 841.625,1113.92 842.648,1114.55 843.67,1115.18 844.693,1115.81 845.715,1116.43 846.737,1117.06 847.76,1117.68 848.782,1118.31 849.805,1118.93 \n",
       "  850.827,1119.55 851.85,1120.16 852.872,1120.78 853.894,1121.39 854.917,1122.01 855.939,1122.62 856.962,1123.23 857.984,1123.84 859.007,1124.45 860.029,1125.05 \n",
       "  861.052,1125.66 862.074,1126.26 863.096,1126.87 864.119,1127.47 865.141,1128.07 866.164,1128.66 867.186,1129.26 868.209,1129.86 869.231,1130.45 870.253,1131.04 \n",
       "  871.276,1131.63 872.298,1132.22 873.321,1132.81 874.343,1133.4 875.366,1133.99 876.388,1134.57 877.411,1135.15 878.433,1135.74 879.455,1136.32 880.478,1136.9 \n",
       "  881.5,1137.47 882.523,1138.05 883.545,1138.63 884.568,1139.2 885.59,1139.77 886.612,1140.34 887.635,1140.91 888.657,1141.48 889.68,1142.05 890.702,1142.62 \n",
       "  891.725,1143.18 892.747,1143.74 893.769,1144.31 894.792,1144.87 895.814,1145.43 896.837,1145.99 897.859,1146.54 898.882,1147.1 899.904,1147.66 900.927,1148.21 \n",
       "  901.949,1148.76 902.971,1149.31 903.994,1149.86 905.016,1150.41 906.039,1150.96 907.061,1151.51 908.084,1152.05 909.106,1152.6 910.128,1153.14 911.151,1153.68 \n",
       "  912.173,1154.22 913.196,1154.76 914.218,1155.3 915.241,1155.83 916.263,1156.37 917.286,1156.9 918.308,1157.44 919.33,1157.97 920.353,1158.5 921.375,1159.03 \n",
       "  922.398,1159.56 923.42,1160.09 924.443,1160.61 925.465,1161.14 926.487,1161.66 927.51,1162.18 928.532,1162.71 929.555,1163.23 930.577,1163.75 931.6,1164.26 \n",
       "  932.622,1164.78 933.645,1165.3 934.667,1165.81 935.689,1166.33 936.712,1166.84 937.734,1167.35 938.757,1167.86 939.779,1168.37 940.802,1168.88 941.824,1169.39 \n",
       "  942.846,1169.89 943.869,1170.4 944.891,1170.9 945.914,1171.41 946.936,1171.91 947.959,1172.41 948.981,1172.91 950.004,1173.41 951.026,1173.9 952.048,1174.4 \n",
       "  953.071,1174.9 954.093,1175.39 955.116,1175.88 956.138,1176.38 957.161,1176.87 958.183,1177.36 959.205,1177.85 960.228,1178.34 961.25,1178.82 962.273,1179.31 \n",
       "  963.295,1179.8 964.318,1180.28 965.34,1180.76 966.362,1181.25 967.385,1181.73 968.407,1182.21 969.43,1182.69 970.452,1183.16 971.475,1183.64 972.497,1184.12 \n",
       "  973.52,1184.59 974.542,1185.07 975.564,1185.54 976.587,1186.01 977.609,1186.48 978.632,1186.95 979.654,1187.42 980.677,1187.89 981.699,1188.36 982.721,1188.82 \n",
       "  983.744,1189.29 984.766,1189.75 985.789,1190.22 986.811,1190.68 987.834,1191.14 988.856,1191.6 989.879,1192.06 990.901,1192.52 991.923,1192.98 992.946,1193.44 \n",
       "  993.968,1193.89 994.991,1194.35 996.013,1194.8 997.036,1195.25 998.058,1195.71 999.08,1196.16 1000.1,1196.61 1001.13,1197.06 1002.15,1197.51 1003.17,1197.96 \n",
       "  1004.19,1198.4 1005.22,1198.85 1006.24,1199.29 1007.26,1199.74 1008.28,1200.18 1009.3,1200.62 1010.33,1201.06 1011.35,1201.5 1012.37,1201.94 1013.39,1202.38 \n",
       "  1014.42,1202.82 1015.44,1203.26 1016.46,1203.69 1017.48,1204.13 1018.51,1204.56 1019.53,1205 1020.55,1205.43 1021.57,1205.86 1022.6,1206.29 1023.62,1206.72 \n",
       "  1024.64,1207.15 1025.66,1207.58 1026.69,1208.01 1027.71,1208.44 1028.73,1208.86 1029.75,1209.29 1030.78,1209.71 1031.8,1210.13 1032.82,1210.56 1033.84,1210.98 \n",
       "  1034.87,1211.4 1035.89,1211.82 1036.91,1212.24 1037.93,1212.66 1038.96,1213.07 1039.98,1213.49 1041,1213.91 1042.02,1214.32 1043.05,1214.74 1044.07,1215.15 \n",
       "  1045.09,1215.56 1046.11,1215.98 1047.13,1216.39 1048.16,1216.8 1049.18,1217.21 1050.2,1217.61 1051.22,1218.02 1052.25,1218.43 1053.27,1218.84 1054.29,1219.24 \n",
       "  1055.31,1219.65 1056.34,1220.05 1057.36,1220.45 1058.38,1220.86 1059.4,1221.26 1060.43,1221.66 1061.45,1222.06 1062.47,1222.46 1063.49,1222.86 1064.52,1223.26 \n",
       "  1065.54,1223.65 1066.56,1224.05 1067.58,1224.44 1068.61,1224.84 1069.63,1225.23 1070.65,1225.63 1071.67,1226.02 1072.7,1226.41 1073.72,1226.8 1074.74,1227.19 \n",
       "  1075.76,1227.58 1076.79,1227.97 1077.81,1228.36 1078.83,1228.75 1079.85,1229.13 1080.88,1229.52 1081.9,1229.9 1082.92,1230.29 1083.94,1230.67 1084.97,1231.06 \n",
       "  1085.99,1231.44 1087.01,1231.82 1088.03,1232.2 1089.05,1232.58 1090.08,1232.96 1091.1,1233.34 1092.12,1233.72 1093.14,1234.1 1094.17,1234.47 1095.19,1234.85 \n",
       "  1096.21,1235.22 1097.23,1235.6 1098.26,1235.97 1099.28,1236.35 1100.3,1236.72 1101.32,1237.09 1102.35,1237.46 1103.37,1237.83 1104.39,1238.2 1105.41,1238.57 \n",
       "  1106.44,1238.94 1107.46,1239.31 1108.48,1239.67 1109.5,1240.04 1110.53,1240.41 1111.55,1240.77 1112.57,1241.13 1113.59,1241.5 1114.62,1241.86 1115.64,1242.22 \n",
       "  1116.66,1242.59 1117.68,1242.95 1118.71,1243.31 1119.73,1243.67 1120.75,1244.03 1121.77,1244.38 1122.8,1244.74 1123.82,1245.1 1124.84,1245.46 1125.86,1245.81 \n",
       "  1126.89,1246.17 1127.91,1246.52 1128.93,1246.87 1129.95,1247.23 1130.97,1247.58 1132,1247.93 1133.02,1248.28 1134.04,1248.63 1135.06,1248.98 1136.09,1249.33 \n",
       "  1137.11,1249.68 1138.13,1250.03 1139.15,1250.38 1140.18,1250.73 1141.2,1251.07 1142.22,1251.42 1143.24,1251.76 1144.27,1252.11 1145.29,1252.45 1146.31,1252.79 \n",
       "  1147.33,1253.14 1148.36,1253.48 1149.38,1253.82 1150.4,1254.16 1151.42,1254.5 1152.45,1254.84 1153.47,1255.18 1154.49,1255.52 1155.51,1255.86 1156.54,1256.19 \n",
       "  1157.56,1256.53 1158.58,1256.87 1159.6,1257.2 1160.63,1257.54 1161.65,1257.87 1162.67,1258.21 1163.69,1258.54 1164.72,1258.87 1165.74,1259.2 1166.76,1259.53 \n",
       "  1167.78,1259.87 1168.8,1260.2 1169.83,1260.53 1170.85,1260.85 1171.87,1261.18 1172.89,1261.51 1173.92,1261.84 1174.94,1262.16 1175.96,1262.49 1176.98,1262.82 \n",
       "  1178.01,1263.14 1179.03,1263.47 1180.05,1263.79 1181.07,1264.11 1182.1,1264.44 1183.12,1264.76 1184.14,1265.08 1185.16,1265.4 1186.19,1265.72 1187.21,1266.04 \n",
       "  1188.23,1266.36 1189.25,1266.68 1190.28,1267 1191.3,1267.32 1192.32,1267.63 1193.34,1267.95 1194.37,1268.27 1195.39,1268.58 1196.41,1268.9 1197.43,1269.21 \n",
       "  1198.46,1269.53 1199.48,1269.84 1200.5,1270.15 1201.52,1270.47 1202.55,1270.78 1203.57,1271.09 1204.59,1271.4 1205.61,1271.71 1206.64,1272.02 1207.66,1272.33 \n",
       "  1208.68,1272.64 1209.7,1272.95 1210.72,1273.25 1211.75,1273.56 1212.77,1273.87 1213.79,1274.18 1214.81,1274.48 1215.84,1274.79 1216.86,1275.09 1217.88,1275.39 \n",
       "  1218.9,1275.7 1219.93,1276 1220.95,1276.3 1221.97,1276.61 1222.99,1276.91 1224.02,1277.21 1225.04,1277.51 1226.06,1277.81 1227.08,1278.11 1228.11,1278.41 \n",
       "  1229.13,1278.71 1230.15,1279.01 1231.17,1279.3 1232.2,1279.6 1233.22,1279.9 1234.24,1280.19 1235.26,1280.49 1236.29,1280.78 1237.31,1281.08 1238.33,1281.37 \n",
       "  1239.35,1281.67 1240.38,1281.96 1241.4,1282.25 1242.42,1282.55 1243.44,1282.84 1244.47,1283.13 1245.49,1283.42 1246.51,1283.71 1247.53,1284 1248.56,1284.29 \n",
       "  1249.58,1284.58 1250.6,1284.87 1251.62,1285.15 1252.64,1285.44 1253.67,1285.73 1254.69,1286.02 1255.71,1286.3 1256.73,1286.59 1257.76,1286.87 1258.78,1287.16 \n",
       "  1259.8,1287.44 1260.82,1287.73 1261.85,1288.01 1262.87,1288.29 1263.89,1288.57 1264.91,1288.86 1265.94,1289.14 1266.96,1289.42 1267.98,1289.7 1269,1289.98 \n",
       "  1270.03,1290.26 1271.05,1290.54 1272.07,1290.82 1273.09,1291.1 1274.12,1291.37 1275.14,1291.65 1276.16,1291.93 1277.18,1292.21 1278.21,1292.48 1279.23,1292.76 \n",
       "  1280.25,1293.03 1281.27,1293.31 1282.3,1293.58 1283.32,1293.86 1284.34,1294.13 1285.36,1294.4 1286.39,1294.68 1287.41,1294.95 1288.43,1295.22 1289.45,1295.49 \n",
       "  1290.47,1295.76 1291.5,1296.03 1292.52,1296.3 1293.54,1296.57 1294.56,1296.84 1295.59,1297.11 1296.61,1297.38 1297.63,1297.65 1298.65,1297.91 1299.68,1298.18 \n",
       "  1300.7,1298.45 1301.72,1298.71 1302.74,1298.98 1303.77,1299.25 1304.79,1299.51 1305.81,1299.78 1306.83,1300.04 1307.86,1300.3 1308.88,1300.57 1309.9,1300.83 \n",
       "  1310.92,1301.09 1311.95,1301.35 1312.97,1301.62 1313.99,1301.88 1315.01,1302.14 1316.04,1302.4 1317.06,1302.66 1318.08,1302.92 1319.1,1303.18 1320.13,1303.44 \n",
       "  1321.15,1303.7 1322.17,1303.95 1323.19,1304.21 1324.22,1304.47 1325.24,1304.73 1326.26,1304.98 1327.28,1305.24 1328.31,1305.49 1329.33,1305.75 1330.35,1306.01 \n",
       "  1331.37,1306.26 1332.39,1306.51 1333.42,1306.77 1334.44,1307.02 1335.46,1307.27 1336.48,1307.53 1337.51,1307.78 1338.53,1308.03 1339.55,1308.28 1340.57,1308.53 \n",
       "  1341.6,1308.78 1342.62,1309.03 1343.64,1309.28 1344.66,1309.53 1345.69,1309.78 1346.71,1310.03 1347.73,1310.28 1348.75,1310.53 1349.78,1310.78 1350.8,1311.02 \n",
       "  1351.82,1311.27 1352.84,1311.52 1353.87,1311.76 1354.89,1312.01 1355.91,1312.26 1356.93,1312.5 1357.96,1312.75 1358.98,1312.99 1360,1313.23 1361.02,1313.48 \n",
       "  1362.05,1313.72 1363.07,1313.96 1364.09,1314.21 1365.11,1314.45 1366.14,1314.69 1367.16,1314.93 1368.18,1315.17 1369.2,1315.41 1370.22,1315.65 1371.25,1315.89 \n",
       "  1372.27,1316.13 1373.29,1316.37 1374.31,1316.61 1375.34,1316.85 1376.36,1317.09 1377.38,1317.33 1378.4,1317.56 1379.43,1317.8 1380.45,1318.04 1381.47,1318.28 \n",
       "  1382.49,1318.51 1383.52,1318.75 1384.54,1318.98 1385.56,1319.22 1386.58,1319.45 1387.61,1319.69 1388.63,1319.92 1389.65,1320.16 1390.67,1320.39 1391.7,1320.62 \n",
       "  1392.72,1320.85 1393.74,1321.09 1394.76,1321.32 1395.79,1321.55 1396.81,1321.78 1397.83,1322.01 1398.85,1322.24 1399.88,1322.47 1400.9,1322.7 1401.92,1322.93 \n",
       "  1402.94,1323.16 1403.97,1323.39 1404.99,1323.62 1406.01,1323.85 1407.03,1324.08 1408.06,1324.3 1409.08,1324.53 1410.1,1324.76 1411.12,1324.99 1412.14,1325.21 \n",
       "  1413.17,1325.44 1414.19,1325.66 1415.21,1325.89 1416.23,1326.11 1417.26,1326.34 1418.28,1326.56 1419.3,1326.79 1420.32,1327.01 1421.35,1327.24 1422.37,1327.46 \n",
       "  1423.39,1327.68 1424.41,1327.9 1425.44,1328.13 1426.46,1328.35 1427.48,1328.57 1428.5,1328.79 1429.53,1329.01 1430.55,1329.23 1431.57,1329.45 1432.59,1329.67 \n",
       "  1433.62,1329.89 1434.64,1330.11 1435.66,1330.33 1436.68,1330.55 1437.71,1330.77 1438.73,1330.99 1439.75,1331.2 1440.77,1331.42 1441.8,1331.64 1442.82,1331.86 \n",
       "  1443.84,1332.07 1444.86,1332.29 1445.89,1332.51 1446.91,1332.72 1447.93,1332.94 1448.95,1333.15 1449.98,1333.37 1451,1333.58 1452.02,1333.79 1453.04,1334.01 \n",
       "  1454.06,1334.22 1455.09,1334.44 1456.11,1334.65 1457.13,1334.86 1458.15,1335.07 1459.18,1335.29 1460.2,1335.5 1461.22,1335.71 1462.24,1335.92 1463.27,1336.13 \n",
       "  1464.29,1336.34 1465.31,1336.55 1466.33,1336.76 1467.36,1336.97 1468.38,1337.18 1469.4,1337.39 1470.42,1337.6 1471.45,1337.81 1472.47,1338.02 1473.49,1338.22 \n",
       "  1474.51,1338.43 1475.54,1338.64 1476.56,1338.85 1477.58,1339.05 1478.6,1339.26 1479.63,1339.47 1480.65,1339.67 1481.67,1339.88 1482.69,1340.08 1483.72,1340.29 \n",
       "  1484.74,1340.49 1485.76,1340.7 1486.78,1340.9 1487.81,1341.11 1488.83,1341.31 1489.85,1341.51 1490.87,1341.72 1491.89,1341.92 1492.92,1342.12 1493.94,1342.33 \n",
       "  1494.96,1342.53 1495.98,1342.73 1497.01,1342.93 1498.03,1343.13 1499.05,1343.33 1500.07,1343.53 1501.1,1343.74 1502.12,1343.94 1503.14,1344.14 1504.16,1344.33 \n",
       "  1505.19,1344.53 1506.21,1344.73 1507.23,1344.93 1508.25,1345.13 1509.28,1345.33 1510.3,1345.53 1511.32,1345.73 1512.34,1345.92 1513.37,1346.12 1514.39,1346.32 \n",
       "  1515.41,1346.51 1516.43,1346.71 1517.46,1346.91 1518.48,1347.1 1519.5,1347.3 1520.52,1347.49 1521.55,1347.69 1522.57,1347.88 1523.59,1348.08 1524.61,1348.27 \n",
       "  1525.64,1348.47 1526.66,1348.66 1527.68,1348.85 1528.7,1349.05 1529.73,1349.24 1530.75,1349.43 1531.77,1349.63 1532.79,1349.82 1533.81,1350.01 1534.84,1350.2 \n",
       "  1535.86,1350.39 1536.88,1350.59 1537.9,1350.78 1538.93,1350.97 1539.95,1351.16 1540.97,1351.35 1541.99,1351.54 1543.02,1351.73 1544.04,1351.92 1545.06,1352.11 \n",
       "  1546.08,1352.3 1547.11,1352.49 1548.13,1352.67 1549.15,1352.86 1550.17,1353.05 1551.2,1353.24 1552.22,1353.43 1553.24,1353.61 1554.26,1353.8 1555.29,1353.99 \n",
       "  1556.31,1354.17 1557.33,1354.36 1558.35,1354.55 1559.38,1354.73 1560.4,1354.92 1561.42,1355.1 1562.44,1355.29 1563.47,1355.47 1564.49,1355.66 1565.51,1355.84 \n",
       "  1566.53,1356.03 1567.56,1356.21 1568.58,1356.39 1569.6,1356.58 1570.62,1356.76 1571.64,1356.94 1572.67,1357.13 1573.69,1357.31 1574.71,1357.49 1575.73,1357.67 \n",
       "  1576.76,1357.86 1577.78,1358.04 1578.8,1358.22 1579.82,1358.4 1580.85,1358.58 1581.87,1358.76 1582.89,1358.94 1583.91,1359.12 1584.94,1359.3 1585.96,1359.48 \n",
       "  1586.98,1359.66 1588,1359.84 1589.03,1360.02 1590.05,1360.2 1591.07,1360.38 1592.09,1360.56 1593.12,1360.73 1594.14,1360.91 1595.16,1361.09 1596.18,1361.27 \n",
       "  1597.21,1361.44 1598.23,1361.62 1599.25,1361.8 1600.27,1361.97 1601.3,1362.15 1602.32,1362.33 1603.34,1362.5 1604.36,1362.68 1605.39,1362.85 1606.41,1363.03 \n",
       "  1607.43,1363.2 1608.45,1363.38 1609.48,1363.55 1610.5,1363.73 1611.52,1363.9 1612.54,1364.08 1613.56,1364.25 1614.59,1364.42 1615.61,1364.6 1616.63,1364.77 \n",
       "  1617.65,1364.94 1618.68,1365.12 1619.7,1365.29 1620.72,1365.46 1621.74,1365.63 1622.77,1365.8 1623.79,1365.98 1624.81,1366.15 1625.83,1366.32 1626.86,1366.49 \n",
       "  1627.88,1366.66 1628.9,1366.83 1629.92,1367 1630.95,1367.17 1631.97,1367.34 1632.99,1367.51 1634.01,1367.68 1635.04,1367.85 1636.06,1368.02 1637.08,1368.19 \n",
       "  1638.1,1368.36 1639.13,1368.52 1640.15,1368.69 1641.17,1368.86 1642.19,1369.03 1643.22,1369.2 1644.24,1369.36 1645.26,1369.53 1646.28,1369.7 1647.31,1369.86 \n",
       "  1648.33,1370.03 1649.35,1370.2 1650.37,1370.36 1651.4,1370.53 1652.42,1370.69 1653.44,1370.86 1654.46,1371.02 1655.48,1371.19 1656.51,1371.35 1657.53,1371.52 \n",
       "  1658.55,1371.68 1659.57,1371.85 1660.6,1372.01 1661.62,1372.18 1662.64,1372.34 1663.66,1372.5 1664.69,1372.67 1665.71,1372.83 1666.73,1372.99 1667.75,1373.16 \n",
       "  1668.78,1373.32 1669.8,1373.48 1670.82,1373.64 1671.84,1373.8 1672.87,1373.97 1673.89,1374.13 1674.91,1374.29 1675.93,1374.45 1676.96,1374.61 1677.98,1374.77 \n",
       "  1679,1374.93 1680.02,1375.09 1681.05,1375.25 1682.07,1375.41 1683.09,1375.57 1684.11,1375.73 1685.14,1375.89 1686.16,1376.05 1687.18,1376.21 1688.2,1376.37 \n",
       "  1689.23,1376.53 1690.25,1376.69 1691.27,1376.85 1692.29,1377 1693.31,1377.16 1694.34,1377.32 1695.36,1377.48 1696.38,1377.63 1697.4,1377.79 1698.43,1377.95 \n",
       "  1699.45,1378.1 1700.47,1378.26 1701.49,1378.42 1702.52,1378.57 1703.54,1378.73 1704.56,1378.89 1705.58,1379.04 1706.61,1379.2 1707.63,1379.35 1708.65,1379.51 \n",
       "  1709.67,1379.66 1710.7,1379.82 1711.72,1379.97 1712.74,1380.13 1713.76,1380.28 1714.79,1380.43 1715.81,1380.59 1716.83,1380.74 1717.85,1380.9 1718.88,1381.05 \n",
       "  1719.9,1381.2 1720.92,1381.35 1721.94,1381.51 1722.97,1381.66 1723.99,1381.81 1725.01,1381.96 1726.03,1382.12 1727.06,1382.27 1728.08,1382.42 1729.1,1382.57 \n",
       "  1730.12,1382.72 1731.15,1382.87 1732.17,1383.03 1733.19,1383.18 1734.21,1383.33 1735.23,1383.48 1736.26,1383.63 1737.28,1383.78 1738.3,1383.93 1739.32,1384.08 \n",
       "  1740.35,1384.23 1741.37,1384.38 1742.39,1384.53 1743.41,1384.67 1744.44,1384.82 1745.46,1384.97 1746.48,1385.12 1747.5,1385.27 1748.53,1385.42 1749.55,1385.57 \n",
       "  1750.57,1385.71 1751.59,1385.86 1752.62,1386.01 1753.64,1386.16 1754.66,1386.3 1755.68,1386.45 1756.71,1386.6 1757.73,1386.74 1758.75,1386.89 1759.77,1387.04 \n",
       "  1760.8,1387.18 1761.82,1387.33 1762.84,1387.47 1763.86,1387.62 1764.89,1387.77 1765.91,1387.91 1766.93,1388.06 1767.95,1388.2 1768.98,1388.35 1770,1388.49 \n",
       "  1771.02,1388.64 1772.04,1388.78 1773.07,1388.92 1774.09,1389.07 1775.11,1389.21 1776.13,1389.36 1777.15,1389.5 1778.18,1389.64 1779.2,1389.79 1780.22,1389.93 \n",
       "  1781.24,1390.07 1782.27,1390.21 1783.29,1390.36 1784.31,1390.5 1785.33,1390.64 1786.36,1390.78 1787.38,1390.93 1788.4,1391.07 1789.42,1391.21 1790.45,1391.35 \n",
       "  1791.47,1391.49 1792.49,1391.63 1793.51,1391.77 1794.54,1391.91 1795.56,1392.06 1796.58,1392.2 1797.6,1392.34 1798.63,1392.48 1799.65,1392.62 1800.67,1392.76 \n",
       "  1801.69,1392.9 1802.72,1393.04 1803.74,1393.18 1804.76,1393.31 1805.78,1393.45 1806.81,1393.59 1807.83,1393.73 1808.85,1393.87 1809.87,1394.01 1810.9,1394.15 \n",
       "  1811.92,1394.28 1812.94,1394.42 1813.96,1394.56 1814.98,1394.7 1816.01,1394.84 1817.03,1394.97 1818.05,1395.11 1819.07,1395.25 1820.1,1395.38 1821.12,1395.52 \n",
       "  1822.14,1395.66 1823.16,1395.79 1824.19,1395.93 1825.21,1396.07 1826.23,1396.2 1827.25,1396.34 1828.28,1396.47 1829.3,1396.61 1830.32,1396.75 1831.34,1396.88 \n",
       "  1832.37,1397.02 1833.39,1397.15 1834.41,1397.29 1835.43,1397.42 1836.46,1397.56 1837.48,1397.69 1838.5,1397.82 1839.52,1397.96 1840.55,1398.09 1841.57,1398.23 \n",
       "  1842.59,1398.36 1843.61,1398.49 1844.64,1398.63 1845.66,1398.76 1846.68,1398.89 1847.7,1399.03 1848.73,1399.16 1849.75,1399.29 1850.77,1399.42 1851.79,1399.56 \n",
       "  1852.82,1399.69 1853.84,1399.82 1854.86,1399.95 1855.88,1400.08 1856.9,1400.22 1857.93,1400.35 1858.95,1400.48 1859.97,1400.61 1860.99,1400.74 1862.02,1400.87 \n",
       "  1863.04,1401 1864.06,1401.13 1865.08,1401.26 1866.11,1401.39 1867.13,1401.52 1868.15,1401.65 1869.17,1401.78 1870.2,1401.91 1871.22,1402.04 1872.24,1402.17 \n",
       "  1873.26,1402.3 1874.29,1402.43 1875.31,1402.56 1876.33,1402.69 1877.35,1402.82 1878.38,1402.95 1879.4,1403.08 1880.42,1403.21 1881.44,1403.33 1882.47,1403.46 \n",
       "  1883.49,1403.59 1884.51,1403.72 1885.53,1403.85 1886.56,1403.97 1887.58,1404.1 1888.6,1404.23 1889.62,1404.35 1890.65,1404.48 1891.67,1404.61 1892.69,1404.74 \n",
       "  1893.71,1404.86 1894.73,1404.99 1895.76,1405.12 1896.78,1405.24 1897.8,1405.37 1898.82,1405.49 1899.85,1405.62 1900.87,1405.75 1901.89,1405.87 1902.91,1406 \n",
       "  1903.94,1406.12 1904.96,1406.25 1905.98,1406.37 1907,1406.5 1908.03,1406.62 1909.05,1406.75 1910.07,1406.87 1911.09,1407 1912.12,1407.12 1913.14,1407.24 \n",
       "  1914.16,1407.37 1915.18,1407.49 1916.21,1407.62 1917.23,1407.74 1918.25,1407.86 1919.27,1407.99 1920.3,1408.11 1921.32,1408.23 1922.34,1408.36 1923.36,1408.48 \n",
       "  1924.39,1408.6 1925.41,1408.72 1926.43,1408.85 1927.45,1408.97 1928.48,1409.09 1929.5,1409.21 1930.52,1409.33 1931.54,1409.46 1932.57,1409.58 1933.59,1409.7 \n",
       "  1934.61,1409.82 1935.63,1409.94 1936.65,1410.06 1937.68,1410.19 1938.7,1410.31 1939.72,1410.43 1940.74,1410.55 1941.77,1410.67 1942.79,1410.79 1943.81,1410.91 \n",
       "  1944.83,1411.03 1945.86,1411.15 1946.88,1411.27 1947.9,1411.39 1948.92,1411.51 1949.95,1411.63 1950.97,1411.75 1951.99,1411.87 1953.01,1411.99 1954.04,1412.11 \n",
       "  1955.06,1412.22 1956.08,1412.34 1957.1,1412.46 1958.13,1412.58 1959.15,1412.7 1960.17,1412.82 1961.19,1412.94 1962.22,1413.05 1963.24,1413.17 1964.26,1413.29 \n",
       "  1965.28,1413.41 1966.31,1413.53 1967.33,1413.64 1968.35,1413.76 1969.37,1413.88 1970.4,1413.99 1971.42,1414.11 1972.44,1414.23 1973.46,1414.35 1974.49,1414.46 \n",
       "  1975.51,1414.58 1976.53,1414.7 1977.55,1414.81 1978.57,1414.93 1979.6,1415.04 1980.62,1415.16 1981.64,1415.28 1982.66,1415.39 1983.69,1415.51 1984.71,1415.62 \n",
       "  1985.73,1415.74 1986.75,1415.85 1987.78,1415.97 1988.8,1416.08 1989.82,1416.2 1990.84,1416.31 1991.87,1416.43 1992.89,1416.54 1993.91,1416.66 1994.93,1416.77 \n",
       "  1995.96,1416.89 1996.98,1417 1998,1417.11 1999.02,1417.23 2000.05,1417.34 2001.07,1417.46 2002.09,1417.57 2003.11,1417.68 2004.14,1417.8 2005.16,1417.91 \n",
       "  2006.18,1418.02 2007.2,1418.14 2008.23,1418.25 2009.25,1418.36 2010.27,1418.47 2011.29,1418.59 2012.32,1418.7 2013.34,1418.81 2014.36,1418.92 2015.38,1419.04 \n",
       "  2016.4,1419.15 2017.43,1419.26 2018.45,1419.37 2019.47,1419.48 2020.49,1419.59 2021.52,1419.71 2022.54,1419.82 2023.56,1419.93 2024.58,1420.04 2025.61,1420.15 \n",
       "  2026.63,1420.26 2027.65,1420.37 2028.67,1420.48 2029.7,1420.59 2030.72,1420.7 2031.74,1420.81 2032.76,1420.92 2033.79,1421.03 2034.81,1421.14 2035.83,1421.25 \n",
       "  2036.85,1421.36 2037.88,1421.47 2038.9,1421.58 2039.92,1421.69 2040.94,1421.8 2041.97,1421.91 2042.99,1422.02 2044.01,1422.13 2045.03,1422.24 2046.06,1422.35 \n",
       "  2047.08,1422.46 2048.1,1422.56 2049.12,1422.67 2050.15,1422.78 2051.17,1422.89 2052.19,1423 2053.21,1423.11 2054.24,1423.21 2055.26,1423.32 2056.28,1423.43 \n",
       "  2057.3,1423.54 2058.32,1423.64 2059.35,1423.75 2060.37,1423.86 2061.39,1423.97 2062.41,1424.07 2063.44,1424.18 2064.46,1424.29 2065.48,1424.39 2066.5,1424.5 \n",
       "  2067.53,1424.61 2068.55,1424.71 2069.57,1424.82 2070.59,1424.93 2071.62,1425.03 2072.64,1425.14 2073.66,1425.25 2074.68,1425.35 2075.71,1425.46 2076.73,1425.56 \n",
       "  2077.75,1425.67 2078.77,1425.77 2079.8,1425.88 2080.82,1425.98 2081.84,1426.09 2082.86,1426.2 2083.89,1426.3 2084.91,1426.41 2085.93,1426.51 2086.95,1426.61 \n",
       "  2087.98,1426.72 2089,1426.82 2090.02,1426.93 2091.04,1427.03 2092.07,1427.14 2093.09,1427.24 2094.11,1427.34 2095.13,1427.45 2096.15,1427.55 2097.18,1427.66 \n",
       "  2098.2,1427.76 2099.22,1427.86 2100.24,1427.97 2101.27,1428.07 2102.29,1428.17 2103.31,1428.28 2104.33,1428.38 2105.36,1428.48 2106.38,1428.58 2107.4,1428.69 \n",
       "  2108.42,1428.79 2109.45,1428.89 2110.47,1429 2111.49,1429.1 2112.51,1429.2 2113.54,1429.3 2114.56,1429.4 2115.58,1429.51 2116.6,1429.61 2117.63,1429.71 \n",
       "  2118.65,1429.81 2119.67,1429.91 2120.69,1430.01 2121.72,1430.12 2122.74,1430.22 2123.76,1430.32 2124.78,1430.42 2125.81,1430.52 2126.83,1430.62 2127.85,1430.72 \n",
       "  2128.87,1430.82 2129.9,1430.92 2130.92,1431.02 2131.94,1431.12 2132.96,1431.22 2133.99,1431.32 2135.01,1431.42 2136.03,1431.52 2137.05,1431.62 2138.07,1431.72 \n",
       "  2139.1,1431.82 2140.12,1431.92 2141.14,1432.02 2142.16,1432.12 2143.19,1432.22 2144.21,1432.32 2145.23,1432.42 2146.25,1432.52 2147.28,1432.62 2148.3,1432.72 \n",
       "  2149.32,1432.82 2150.34,1432.92 2151.37,1433.01 2152.39,1433.11 2153.41,1433.21 2154.43,1433.31 2155.46,1433.41 2156.48,1433.51 2157.5,1433.6 2158.52,1433.7 \n",
       "  2159.55,1433.8 2160.57,1433.9 2161.59,1434 2162.61,1434.09 2163.64,1434.19 2164.66,1434.29 2165.68,1434.39 2166.7,1434.48 2167.73,1434.58 2168.75,1434.68 \n",
       "  2169.77,1434.77 2170.79,1434.87 2171.82,1434.97 2172.84,1435.06 2173.86,1435.16 2174.88,1435.26 2175.91,1435.35 2176.93,1435.45 2177.95,1435.55 2178.97,1435.64 \n",
       "  2179.99,1435.74 2181.02,1435.84 2182.04,1435.93 2183.06,1436.03 2184.08,1436.12 2185.11,1436.22 2186.13,1436.31 2187.15,1436.41 2188.17,1436.51 2189.2,1436.6 \n",
       "  2190.22,1436.7 2191.24,1436.79 2192.26,1436.89 2193.29,1436.98 2194.31,1437.08 2195.33,1437.17 2196.35,1437.27 2197.38,1437.36 2198.4,1437.45 2199.42,1437.55 \n",
       "  2200.44,1437.64 2201.47,1437.74 2202.49,1437.83 2203.51,1437.93 2204.53,1438.02 2205.56,1438.11 2206.58,1438.21 2207.6,1438.3 2208.62,1438.4 2209.65,1438.49 \n",
       "  2210.67,1438.58 2211.69,1438.68 2212.71,1438.77 2213.74,1438.86 2214.76,1438.96 2215.78,1439.05 2216.8,1439.14 2217.82,1439.24 2218.85,1439.33 2219.87,1439.42 \n",
       "  2220.89,1439.51 2221.91,1439.61 2222.94,1439.7 2223.96,1439.79 2224.98,1439.88 2226,1439.98 2227.03,1440.07 2228.05,1440.16 2229.07,1440.25 2230.09,1440.34 \n",
       "  2231.12,1440.44 2232.14,1440.53 2233.16,1440.62 2234.18,1440.71 2235.21,1440.8 2236.23,1440.89 2237.25,1440.99 2238.27,1441.08 2239.3,1441.17 2240.32,1441.26 \n",
       "  2241.34,1441.35 2242.36,1441.44 2243.39,1441.53 2244.41,1441.62 2245.43,1441.71 2246.45,1441.8 2247.48,1441.9 2248.5,1441.99 2249.52,1442.08 2250.54,1442.17 \n",
       "  2251.57,1442.26 2252.59,1442.35 2253.61,1442.44 2254.63,1442.53 2255.66,1442.62 2256.68,1442.71 2257.7,1442.8 2258.72,1442.89 2259.74,1442.98 2260.77,1443.07 \n",
       "  2261.79,1443.16 2262.81,1443.24 2263.83,1443.33 2264.86,1443.42 2265.88,1443.51 2266.9,1443.6 2267.92,1443.69 2268.95,1443.78 2269.97,1443.87 2270.99,1443.96 \n",
       "  2272.01,1444.05 2273.04,1444.13 2274.06,1444.22 2275.08,1444.31 2276.1,1444.4 2277.13,1444.49 2278.15,1444.58 2279.17,1444.66 2280.19,1444.75 2281.22,1444.84 \n",
       "  2282.24,1444.93 2283.26,1445.02 2284.28,1445.1 2285.31,1445.19 2286.33,1445.28 2287.35,1445.37 2288.37,1445.45 2289.4,1445.54 2290.42,1445.63 2291.44,1445.72 \n",
       "  \n",
       "  \"/>\n",
       "</svg>\n"
      ]
     },
     "metadata": {},
     "output_type": "display_data"
    }
   ],
   "source": [
    "plot(1:num_epochs, losses, legend=false)"
   ]
  },
  {
   "cell_type": "markdown",
   "id": "d188cf7a",
   "metadata": {
    "colab_type": "text",
    "id": "iOdv_QdIrREr"
   },
   "source": [
    "## 3. Evaluate our model\n",
    "\n",
    "In this section, you will evaluate your model on train set and test set and make some comment about the result."
   ]
  },
  {
   "cell_type": "markdown",
   "id": "9617edaf",
   "metadata": {},
   "source": [
    "### Evaluate model on training set"
   ]
  },
  {
   "cell_type": "code",
   "execution_count": 28,
   "id": "3960bb52",
   "metadata": {},
   "outputs": [
    {
     "name": "stdout",
     "output_type": "stream",
     "text": [
      " acc: 0.9241333333333334\n",
      " precision: 0.8902352102637205\n",
      " recall: 0.37051320083061406\n",
      " f1_score: 0.5232509426057813\n"
     ]
    },
    {
     "name": "stderr",
     "output_type": "stream",
     "text": [
      "┌ Warning: The classes are un-ordered,\n",
      "│ using: negative='0' and positive='1'.\n",
      "│ To suppress this warning, consider coercing to OrderedFactor.\n",
      "└ @ MLJBase /Users/quytrungg/.julia/packages/MLJBase/U4Dis/src/measures/confusion_matrix.jl:116\n",
      "┌ Warning: The classes are un-ordered,\n",
      "│ using: negative='0' and positive='1'.\n",
      "│ To suppress this warning, consider coercing to OrderedFactor.\n",
      "└ @ MLJBase /Users/quytrungg/.julia/packages/MLJBase/U4Dis/src/measures/confusion_matrix.jl:116\n"
     ]
    }
   ],
   "source": [
    "preds_train = predict(W, add_one_train_x)\n",
    "\n",
    "train_y_new = reshape(train_y_new, length(train_y_new), 1)\n",
    "acc = accuracy(preds_train, train_y_new)\n",
    "p = precision(preds_train, train_y_new)\n",
    "r = recall(preds_train, train_y_new)\n",
    "f1 = 2*p*r/(p + r)\n",
    "\n",
    "print(\" acc: $acc\\n precision: $p\\n recall: $r\\n f1_score: $f1\\n\")"
   ]
  },
  {
   "cell_type": "markdown",
   "id": "5a3c1298",
   "metadata": {},
   "source": [
    "### Evaluate model on test set\n",
    "\n",
    "In order to predict the result on test set, you have to perform data pre-process first. The pre-process is done exactly what we have done on train set. That means, you have to:\n",
    "\n",
    "- Change the label in `test_y` to `0` and `1` and store in a new variable named `test_y_new`\n",
    "- Calculate `test_intensity` and `test_symmetry` to form `test_x_new` (the shape should be `(10000,2)`)\n",
    "- Normalized `test_x_new` by z-score. Note the you will re-use variable `mean_` and `std_` to calculate `test_x_new` instead of compute new ones. You will store the result in `normalized_test_x`\n",
    "- Add a column that's full of one to `test_x_new` and store in `add_one_test_x` (the shape should be `(10000,3)`)"
   ]
  },
  {
   "cell_type": "code",
   "execution_count": 29,
   "id": "48cc1d4d",
   "metadata": {},
   "outputs": [
    {
     "data": {
      "text/plain": [
       "(10000, 3)"
      ]
     },
     "metadata": {},
     "output_type": "display_data"
    }
   ],
   "source": [
    "#TODO\n",
    "\n",
    "# compute test_y_new\n",
    "test_y_new = reshape(deepcopy(test_y), (size(test_y)[1], 1))\n",
    "test_y_new[test_y_new .!= 1] .= 0\n",
    "\n",
    "# compute test_intensity and test_symmetry to form test_x_new\n",
    "test_intensity = mean(test_x_flatten, dims=2)\n",
    "test_symmetry = compute_symmetry(test_x_flatten)\n",
    "test_x_new = hcat(test_intensity, test_symmetry)\n",
    "\n",
    "# normalize test_x_new to form normalized_test_x\n",
    "normalized_test_x = normalize(test_x_new, mean_, std_)\n",
    "\n",
    "# add column `ones` to test_x_new\n",
    "add_one_test_x = hcat(ones(size(normalized_test_x)[1],), normalized_test_x)\n",
    "size(add_one_test_x)"
   ]
  },
  {
   "cell_type": "markdown",
   "id": "be01a35a",
   "metadata": {},
   "source": [
    "After doing all these stuffs, you now can predict and evaluate your model"
   ]
  },
  {
   "cell_type": "code",
   "execution_count": 30,
   "id": "74b30e4b",
   "metadata": {},
   "outputs": [
    {
     "name": "stdout",
     "output_type": "stream",
     "text": [
      " acc: 0.9261\n",
      " precision: 0.8913043478260869\n",
      " recall: 0.3973568281938326\n",
      " f1_score: 0.5496648385131018\n"
     ]
    },
    {
     "name": "stderr",
     "output_type": "stream",
     "text": [
      "┌ Warning: The classes are un-ordered,\n",
      "│ using: negative='0' and positive='1'.\n",
      "│ To suppress this warning, consider coercing to OrderedFactor.\n",
      "└ @ MLJBase /Users/quytrungg/.julia/packages/MLJBase/U4Dis/src/measures/confusion_matrix.jl:116\n",
      "┌ Warning: The classes are un-ordered,\n",
      "│ using: negative='0' and positive='1'.\n",
      "│ To suppress this warning, consider coercing to OrderedFactor.\n",
      "└ @ MLJBase /Users/quytrungg/.julia/packages/MLJBase/U4Dis/src/measures/confusion_matrix.jl:116\n"
     ]
    }
   ],
   "source": [
    "preds_test = predict(W, add_one_test_x)\n",
    "\n",
    "test_y_new = reshape(test_y_new, length(test_y_new), 1)\n",
    "acc = accuracy(preds_test, test_y_new)\n",
    "p = precision(preds_test, test_y_new)\n",
    "r = recall(preds_test, test_y_new)\n",
    "f1 = 2*p*r/(p + r) #**TODO: Comment on the result**\n",
    "\n",
    "print(\" acc: $acc\\n precision: $p\\n recall: $r\\n f1_score: $f1\\n\")"
   ]
  },
  {
   "cell_type": "markdown",
   "id": "8acd6681",
   "metadata": {
    "colab_type": "text",
    "id": "B1pwx72_rRFe"
   },
   "source": [
    "**TODO: Comment on the result**\n",
    "- At first glance, the model's prediction on train data and test data has a very high accuracy, with 89.18% on train data and 89.05% on test data.\n",
    "- In details, the model's precision percentage on train and test data is also very high (> 88%), which means that everytime the model predicts a data sample to be number 1 (label 1), the high chance that prediction is correct.\n",
    "- On the other hand, the model's recall percentage is below 35% on train and test data, which means the percentage of the model recognizing a data sample to be number 1 (label 1) is not that high, many number 0s data is predicted to be number 1 by the model.\n",
    "- Overall, since the precision is high and recall is low, the f1_score (calculated by the artihmetic mean of its precision and recall) is also below 50% (approximately 48% on both train and test data).\n",
    "- The final conclusion of this model using logistic regression method above is that the accuracy of predicting number 1s data (label 1) is very high, meanwhile, if there are many not-number 0s data (label 0) in the data, chances are the model does not perform well on recognizing between label 1 and label 0 data."
   ]
  },
  {
   "cell_type": "markdown",
   "id": "a25e1609",
   "metadata": {},
   "source": []
  }
 ],
 "metadata": {
  "kernelspec": {
   "display_name": "Julia 1.8.2",
   "language": "julia",
   "name": "julia-1.8"
  },
  "language_info": {
   "file_extension": ".jl",
   "mimetype": "application/julia",
   "name": "julia",
   "version": "1.8.2"
  }
 },
 "nbformat": 4,
 "nbformat_minor": 5
}
