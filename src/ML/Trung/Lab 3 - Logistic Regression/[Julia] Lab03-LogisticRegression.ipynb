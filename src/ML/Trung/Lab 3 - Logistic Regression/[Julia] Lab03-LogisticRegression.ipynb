{
 "cells": [
  {
   "cell_type": "markdown",
   "id": "81e33c21",
   "metadata": {
    "colab_type": "text",
    "id": "joowx9GCrRAw"
   },
   "source": [
    "# Lab03: Logistic Regression.\n",
    "\n",
    "- Student ID: 20127370\n",
    "- Student name: Mai Quý Trung"
   ]
  },
  {
   "cell_type": "markdown",
   "id": "f4f1d521",
   "metadata": {
    "colab_type": "text",
    "id": "0XnaW0UKrRA0"
   },
   "source": [
    "**How to do your homework**\n",
    "\n",
    "\n",
    "You will work directly on this notebook; the word `TODO` indicate the parts you need to do.\n",
    "\n",
    "You can discuss ideas with classmates as well as finding information from the internet, book, etc...; but *this homework must be your*.\n",
    "\n",
    "**How to submit your homework**\n",
    "\n",
    "Before submitting, rerun the notebook (`Kernel` ->` Restart & Run All`).\n",
    "\n",
    "Then create a folder named `ID` (for example, if your ID is 1234567, then name the folder `1234567`). Copy file notebook to this folder, compress and submit it on moodle.\n",
    "\n",
    "**Contents:**\n",
    "- Logistic Regression."
   ]
  },
  {
   "cell_type": "markdown",
   "id": "51673795",
   "metadata": {
    "colab_type": "text",
    "id": "J53xGOE7rRA1"
   },
   "source": [
    "## 1. Feature Extraction"
   ]
  },
  {
   "cell_type": "markdown",
   "id": "dc78eb95",
   "metadata": {
    "colab_type": "text",
    "id": "kG06cwK8rRA3"
   },
   "source": [
    "### Import Library"
   ]
  },
  {
   "cell_type": "code",
   "execution_count": 1,
   "id": "a894d2db",
   "metadata": {},
   "outputs": [
    {
     "data": {
      "text/plain": [
       "Plots.GRBackend()"
      ]
     },
     "metadata": {},
     "output_type": "display_data"
    }
   ],
   "source": [
    "using Flux, Images, MLDatasets, Plots\n",
    "using Statistics, Distributions\n",
    "using MLJ \n",
    "gr()"
   ]
  },
  {
   "cell_type": "markdown",
   "id": "1705b618",
   "metadata": {
    "colab_type": "text",
    "id": "sPfHpi6orRBN"
   },
   "source": [
    "### Load data"
   ]
  },
  {
   "cell_type": "code",
   "execution_count": 2,
   "id": "a29abad1",
   "metadata": {},
   "outputs": [
    {
     "name": "stderr",
     "output_type": "stream",
     "text": [
      "┌ Warning: MNIST.traindata() is deprecated, use `MNIST(split=:train)[:]` instead.\n",
      "└ @ MLDatasets /Users/quytrungg/.julia/packages/MLDatasets/A3giY/src/datasets/vision/mnist.jl:187\n",
      "┌ Warning: MNIST.testdata() is deprecated, use `MNIST(split=:test)[:]` instead.\n",
      "└ @ MLDatasets /Users/quytrungg/.julia/packages/MLDatasets/A3giY/src/datasets/vision/mnist.jl:195\n"
     ]
    },
    {
     "data": {
      "text/plain": [
       "((60000, 784), (60000,), (10000, 784), (10000,))"
      ]
     },
     "metadata": {},
     "output_type": "display_data"
    }
   ],
   "source": [
    "train_x, train_y = MNIST.traindata(Int64);\n",
    "test_x, test_y = MNIST.testdata(Int64);\n",
    "\n",
    "train_x_flatten = Flux.flatten(train_x)'\n",
    "test_x_flatten = Flux.flatten(test_x)'\n",
    "\n",
    "size(train_x_flatten), size(train_y), size(test_x_flatten), size(test_y)"
   ]
  },
  {
   "cell_type": "markdown",
   "id": "102d5ef8",
   "metadata": {
    "colab_type": "text",
    "id": "x7D18ySErRBr"
   },
   "source": [
    "### Extract Features"
   ]
  },
  {
   "cell_type": "markdown",
   "id": "83f6cab6",
   "metadata": {
    "colab_type": "text",
    "id": "NlYT1LtnrRBt"
   },
   "source": [
    "So we basically have 70000 samples with each sample having 784 features - pixels in this case and a label - the digit the image represent.\n",
    "\n",
    "Let’s play around and see if we can extract any features from the pixels that can be more informative. First I’d like to know more about average intensity - that is the average value of a pixel in an image for the different digits"
   ]
  },
  {
   "cell_type": "code",
   "execution_count": 3,
   "id": "42d2e2ae",
   "metadata": {},
   "outputs": [],
   "source": [
    "function compute_average_intensity(x, y)\n",
    "    mean = zeros(10) # 10 is number of labels\n",
    "    #TODO compute average intensity for each label\n",
    "    count = zeros(10)\n",
    "    for i in 1:length(y)\n",
    "        count[y[i]+1] += 1\n",
    "    end\n",
    "\n",
    "    for i in 1:length(y)\n",
    "        mean[y[i]+1] += sum(x[i, :])\n",
    "    end\n",
    "\n",
    "    for i in 1:10\n",
    "        mean[i] /= count[i]\n",
    "    end\n",
    "    return mean\n",
    "end\n",
    "\n",
    "l_mean = compute_average_intensity(train_x_flatten, train_y);"
   ]
  },
  {
   "cell_type": "markdown",
   "id": "fb235f3d",
   "metadata": {
    "colab_type": "text",
    "id": "WMykV-q5rRB2"
   },
   "source": [
    "Plot the average intensity using matplotlib"
   ]
  },
  {
   "cell_type": "code",
   "execution_count": 4,
   "id": "baf91a21",
   "metadata": {},
   "outputs": [
    {
     "data": {
      "image/png": "[encoded data removed]",
      "image/svg+xml": "<?xml version=\"1.0\" encoding=\"utf-8\"?>\n<svg xmlns=\"http://www.w3.org/2000/svg\" xmlns:xlink=\"http://www.w3.org/1999/xlink\" width=\"600\" height=\"400\" viewBox=\"0 0 2400 1600\">\n<defs>\n  <clipPath id=\"clip010\">\n    <rect x=\"0\" y=\"0\" width=\"2400\" height=\"1600\"/>\n  </clipPath>\n</defs>\n<path clip-path=\"url(#clip010)\" d=\"\nM0 1600 L2400 1600 L2400 0 L0 0  Z\n  \" fill=\"#ffffff\" fill-rule=\"evenodd\" fill-opacity=\"1\"/>\n<defs>\n  <clipPath id=\"clip011\">\n    <rect x=\"480\" y=\"0\" width=\"1681\" height=\"1600\"/>\n  </clipPath>\n</defs>\n<path clip-path=\"url(#clip010)\" d=\"\nM276.274 1486.45 L2352.76 1486.45 L2352.76 47.2441 L276.274 47.2441  Z\n  \" fill=\"#ffffff\" fill-rule=\"evenodd\" fill-opacity=\"1\"/>\n<defs>\n  <clipPath id=\"clip012\">\n    <rect x=\"276\" y=\"47\" width=\"2077\" height=\"1440\"/>\n  </clipPath>\n</defs>\n<polyline clip-path=\"url(#clip012)\" style=\"stroke:#000000; stroke-linecap:round; stroke-linejoin:round; stroke-width:2; stroke-opacity:0.1; fill:none\" points=\"\n  465.915,1486.45 465.915,47.2441 \n  \"/>\n<polyline clip-path=\"url(#clip012)\" style=\"stroke:#000000; stroke-linecap:round; stroke-linejoin:round; stroke-width:2; stroke-opacity:0.1; fill:none\" points=\"\n  937.359,1486.45 937.359,47.2441 \n  \"/>\n<polyline clip-path=\"url(#clip012)\" style=\"stroke:#000000; stroke-linecap:round; stroke-linejoin:round; stroke-width:2; stroke-opacity:0.1; fill:none\" points=\"\n  1408.8,1486.45 1408.8,47.2441 \n  \"/>\n<polyline clip-path=\"url(#clip012)\" style=\"stroke:#000000; stroke-linecap:round; stroke-linejoin:round; stroke-width:2; stroke-opacity:0.1; fill:none\" points=\"\n  1880.25,1486.45 1880.25,47.2441 \n  \"/>\n<polyline clip-path=\"url(#clip012)\" style=\"stroke:#000000; stroke-linecap:round; stroke-linejoin:round; stroke-width:2; stroke-opacity:0.1; fill:none\" points=\"\n  2351.69,1486.45 2351.69,47.2441 \n  \"/>\n<polyline clip-path=\"url(#clip010)\" style=\"stroke:#000000; stroke-linecap:round; stroke-linejoin:round; stroke-width:4; stroke-opacity:1; fill:none\" points=\"\n  276.274,1486.45 2352.76,1486.45 \n  \"/>\n<polyline clip-path=\"url(#clip010)\" style=\"stroke:#000000; stroke-linecap:round; stroke-linejoin:round; stroke-width:4; stroke-opacity:1; fill:none\" points=\"\n  465.915,1486.45 465.915,1467.55 \n  \"/>\n<polyline clip-path=\"url(#clip010)\" style=\"stroke:#000000; stroke-linecap:round; stroke-linejoin:round; stroke-width:4; stroke-opacity:1; fill:none\" points=\"\n  937.359,1486.45 937.359,1467.55 \n  \"/>\n<polyline clip-path=\"url(#clip010)\" style=\"stroke:#000000; stroke-linecap:round; stroke-linejoin:round; stroke-width:4; stroke-opacity:1; fill:none\" points=\"\n  1408.8,1486.45 1408.8,1467.55 \n  \"/>\n<polyline clip-path=\"url(#clip010)\" style=\"stroke:#000000; stroke-linecap:round; stroke-linejoin:round; stroke-width:4; stroke-opacity:1; fill:none\" points=\"\n  1880.25,1486.45 1880.25,1467.55 \n  \"/>\n<polyline clip-path=\"url(#clip010)\" style=\"stroke:#000000; stroke-linecap:round; stroke-linejoin:round; stroke-width:4; stroke-opacity:1; fill:none\" points=\"\n  2351.69,1486.45 2351.69,1467.55 \n  \"/>\n<path clip-path=\"url(#clip010)\" d=\"M443.299 1517.37 Q439.688 1517.37 437.859 1520.93 Q436.054 1524.47 436.054 1531.6 Q436.054 1538.71 437.859 1542.27 Q439.688 1545.82 443.299 1545.82 Q446.933 1545.82 448.739 1542.27 Q450.568 1538.71 450.568 1531.6 Q450.568 1524.47 448.739 1520.93 Q446.933 1517.37 443.299 1517.37 M443.299 1513.66 Q449.109 1513.66 452.165 1518.27 Q455.244 1522.85 455.244 1531.6 Q455.244 1540.33 452.165 1544.94 Q449.109 1549.52 443.299 1549.52 Q437.489 1549.52 434.41 1544.94 Q431.355 1540.33 431.355 1531.6 Q431.355 1522.85 434.41 1518.27 Q437.489 1513.66 443.299 1513.66 Z\" fill=\"#000000\" fill-rule=\"evenodd\" fill-opacity=\"1\" /><path clip-path=\"url(#clip010)\" d=\"M463.461 1542.97 L468.345 1542.97 L468.345 1548.85 L463.461 1548.85 L463.461 1542.97 Z\" fill=\"#000000\" fill-rule=\"evenodd\" fill-opacity=\"1\" /><path clip-path=\"url(#clip010)\" d=\"M488.53 1517.37 Q484.919 1517.37 483.091 1520.93 Q481.285 1524.47 481.285 1531.6 Q481.285 1538.71 483.091 1542.27 Q484.919 1545.82 488.53 1545.82 Q492.165 1545.82 493.97 1542.27 Q495.799 1538.71 495.799 1531.6 Q495.799 1524.47 493.97 1520.93 Q492.165 1517.37 488.53 1517.37 M488.53 1513.66 Q494.341 1513.66 497.396 1518.27 Q500.475 1522.85 500.475 1531.6 Q500.475 1540.33 497.396 1544.94 Q494.341 1549.52 488.53 1549.52 Q482.72 1549.52 479.642 1544.94 Q476.586 1540.33 476.586 1531.6 Q476.586 1522.85 479.642 1518.27 Q482.72 1513.66 488.53 1513.66 Z\" fill=\"#000000\" fill-rule=\"evenodd\" fill-opacity=\"1\" /><path clip-path=\"url(#clip010)\" d=\"M909.095 1544.91 L925.415 1544.91 L925.415 1548.85 L903.471 1548.85 L903.471 1544.91 Q906.133 1542.16 910.716 1537.53 Q915.322 1532.88 916.503 1531.53 Q918.748 1529.01 919.628 1527.27 Q920.531 1525.51 920.531 1523.82 Q920.531 1521.07 918.586 1519.33 Q916.665 1517.6 913.563 1517.6 Q911.364 1517.6 908.91 1518.36 Q906.48 1519.13 903.702 1520.68 L903.702 1515.95 Q906.526 1514.82 908.98 1514.24 Q911.433 1513.66 913.47 1513.66 Q918.841 1513.66 922.035 1516.35 Q925.23 1519.03 925.23 1523.52 Q925.23 1525.65 924.419 1527.57 Q923.632 1529.47 921.526 1532.07 Q920.947 1532.74 917.845 1535.95 Q914.744 1539.15 909.095 1544.91 Z\" fill=\"#000000\" fill-rule=\"evenodd\" fill-opacity=\"1\" /><path clip-path=\"url(#clip010)\" d=\"M935.23 1542.97 L940.114 1542.97 L940.114 1548.85 L935.23 1548.85 L935.23 1542.97 Z\" fill=\"#000000\" fill-rule=\"evenodd\" fill-opacity=\"1\" /><path clip-path=\"url(#clip010)\" d=\"M950.345 1514.29 L968.702 1514.29 L968.702 1518.22 L954.628 1518.22 L954.628 1526.7 Q955.646 1526.35 956.665 1526.19 Q957.683 1526 958.702 1526 Q964.489 1526 967.868 1529.17 Q971.248 1532.34 971.248 1537.76 Q971.248 1543.34 967.776 1546.44 Q964.304 1549.52 957.984 1549.52 Q955.808 1549.52 953.54 1549.15 Q951.294 1548.78 948.887 1548.04 L948.887 1543.34 Q950.97 1544.47 953.192 1545.03 Q955.415 1545.58 957.892 1545.58 Q961.896 1545.58 964.234 1543.48 Q966.572 1541.37 966.572 1537.76 Q966.572 1534.15 964.234 1532.04 Q961.896 1529.94 957.892 1529.94 Q956.017 1529.94 954.142 1530.35 Q952.29 1530.77 950.345 1531.65 L950.345 1514.29 Z\" fill=\"#000000\" fill-rule=\"evenodd\" fill-opacity=\"1\" /><path clip-path=\"url(#clip010)\" d=\"M1375.97 1514.29 L1394.32 1514.29 L1394.32 1518.22 L1380.25 1518.22 L1380.25 1526.7 Q1381.27 1526.35 1382.29 1526.19 Q1383.31 1526 1384.32 1526 Q1390.11 1526 1393.49 1529.17 Q1396.87 1532.34 1396.87 1537.76 Q1396.87 1543.34 1393.4 1546.44 Q1389.93 1549.52 1383.61 1549.52 Q1381.43 1549.52 1379.16 1549.15 Q1376.92 1548.78 1374.51 1548.04 L1374.51 1543.34 Q1376.59 1544.47 1378.82 1545.03 Q1381.04 1545.58 1383.51 1545.58 Q1387.52 1545.58 1389.86 1543.48 Q1392.19 1541.37 1392.19 1537.76 Q1392.19 1534.15 1389.86 1532.04 Q1387.52 1529.94 1383.51 1529.94 Q1381.64 1529.94 1379.76 1530.35 Q1377.91 1530.77 1375.97 1531.65 L1375.97 1514.29 Z\" fill=\"#000000\" fill-rule=\"evenodd\" fill-opacity=\"1\" /><path clip-path=\"url(#clip010)\" d=\"M1406.08 1542.97 L1410.97 1542.97 L1410.97 1548.85 L1406.08 1548.85 L1406.08 1542.97 Z\" fill=\"#000000\" fill-rule=\"evenodd\" fill-opacity=\"1\" /><path clip-path=\"url(#clip010)\" d=\"M1431.15 1517.37 Q1427.54 1517.37 1425.71 1520.93 Q1423.91 1524.47 1423.91 1531.6 Q1423.91 1538.71 1425.71 1542.27 Q1427.54 1545.82 1431.15 1545.82 Q1434.79 1545.82 1436.59 1542.27 Q1438.42 1538.71 1438.42 1531.6 Q1438.42 1524.47 1436.59 1520.93 Q1434.79 1517.37 1431.15 1517.37 M1431.15 1513.66 Q1436.96 1513.66 1440.02 1518.27 Q1443.1 1522.85 1443.1 1531.6 Q1443.1 1540.33 1440.02 1544.94 Q1436.96 1549.52 1431.15 1549.52 Q1425.34 1549.52 1422.26 1544.94 Q1419.21 1540.33 1419.21 1531.6 Q1419.21 1522.85 1422.26 1518.27 Q1425.34 1513.66 1431.15 1513.66 Z\" fill=\"#000000\" fill-rule=\"evenodd\" fill-opacity=\"1\" /><path clip-path=\"url(#clip010)\" d=\"M1846.57 1514.29 L1868.79 1514.29 L1868.79 1516.28 L1856.24 1548.85 L1851.36 1548.85 L1863.16 1518.22 L1846.57 1518.22 L1846.57 1514.29 Z\" fill=\"#000000\" fill-rule=\"evenodd\" fill-opacity=\"1\" /><path clip-path=\"url(#clip010)\" d=\"M1877.91 1542.97 L1882.79 1542.97 L1882.79 1548.85 L1877.91 1548.85 L1877.91 1542.97 Z\" fill=\"#000000\" fill-rule=\"evenodd\" fill-opacity=\"1\" /><path clip-path=\"url(#clip010)\" d=\"M1893.03 1514.29 L1911.38 1514.29 L1911.38 1518.22 L1897.31 1518.22 L1897.31 1526.7 Q1898.33 1526.35 1899.35 1526.19 Q1900.36 1526 1901.38 1526 Q1907.17 1526 1910.55 1529.17 Q1913.93 1532.34 1913.93 1537.76 Q1913.93 1543.34 1910.46 1546.44 Q1906.98 1549.52 1900.66 1549.52 Q1898.49 1549.52 1896.22 1549.15 Q1893.97 1548.78 1891.57 1548.04 L1891.57 1543.34 Q1893.65 1544.47 1895.87 1545.03 Q1898.1 1545.58 1900.57 1545.58 Q1904.58 1545.58 1906.91 1543.48 Q1909.25 1541.37 1909.25 1537.76 Q1909.25 1534.15 1906.91 1532.04 Q1904.58 1529.94 1900.57 1529.94 Q1898.7 1529.94 1896.82 1530.35 Q1894.97 1530.77 1893.03 1531.65 L1893.03 1514.29 Z\" fill=\"#000000\" fill-rule=\"evenodd\" fill-opacity=\"1\" /><path clip-path=\"url(#clip010)\" d=\"M2303.76 1544.91 L2311.4 1544.91 L2311.4 1518.55 L2303.09 1520.21 L2303.09 1515.95 L2311.36 1514.29 L2316.03 1514.29 L2316.03 1544.91 L2323.67 1544.91 L2323.67 1548.85 L2303.76 1548.85 L2303.76 1544.91 Z\" fill=\"#000000\" fill-rule=\"evenodd\" fill-opacity=\"1\" /><path clip-path=\"url(#clip010)\" d=\"M2343.12 1517.37 Q2339.5 1517.37 2337.68 1520.93 Q2335.87 1524.47 2335.87 1531.6 Q2335.87 1538.71 2337.68 1542.27 Q2339.5 1545.82 2343.12 1545.82 Q2346.75 1545.82 2348.56 1542.27 Q2350.38 1538.71 2350.38 1531.6 Q2350.38 1524.47 2348.56 1520.93 Q2346.75 1517.37 2343.12 1517.37 M2343.12 1513.66 Q2348.93 1513.66 2351.98 1518.27 Q2355.06 1522.85 2355.06 1531.6 Q2355.06 1540.33 2351.98 1544.94 Q2348.93 1549.52 2343.12 1549.52 Q2337.31 1549.52 2334.23 1544.94 Q2331.17 1540.33 2331.17 1531.6 Q2331.17 1522.85 2334.23 1518.27 Q2337.31 1513.66 2343.12 1513.66 Z\" fill=\"#000000\" fill-rule=\"evenodd\" fill-opacity=\"1\" /><path clip-path=\"url(#clip010)\" d=\"M2363.28 1542.97 L2368.16 1542.97 L2368.16 1548.85 L2363.28 1548.85 L2363.28 1542.97 Z\" fill=\"#000000\" fill-rule=\"evenodd\" fill-opacity=\"1\" /><path clip-path=\"url(#clip010)\" d=\"M2388.35 1517.37 Q2384.74 1517.37 2382.91 1520.93 Q2381.1 1524.47 2381.1 1531.6 Q2381.1 1538.71 2382.91 1542.27 Q2384.74 1545.82 2388.35 1545.82 Q2391.98 1545.82 2393.79 1542.27 Q2395.62 1538.71 2395.62 1531.6 Q2395.62 1524.47 2393.79 1520.93 Q2391.98 1517.37 2388.35 1517.37 M2388.35 1513.66 Q2394.16 1513.66 2397.21 1518.27 Q2400.29 1522.85 2400.29 1531.6 Q2400.29 1540.33 2397.21 1544.94 Q2394.16 1549.52 2388.35 1549.52 Q2382.54 1549.52 2379.46 1544.94 Q2376.4 1540.33 2376.4 1531.6 Q2376.4 1522.85 2379.46 1518.27 Q2382.54 1513.66 2388.35 1513.66 Z\" fill=\"#000000\" fill-rule=\"evenodd\" fill-opacity=\"1\" /><polyline clip-path=\"url(#clip012)\" style=\"stroke:#000000; stroke-linecap:round; stroke-linejoin:round; stroke-width:2; stroke-opacity:0.1; fill:none\" points=\"\n  276.274,1445.72 2352.76,1445.72 \n  \"/>\n<polyline clip-path=\"url(#clip012)\" style=\"stroke:#000000; stroke-linecap:round; stroke-linejoin:round; stroke-width:2; stroke-opacity:0.1; fill:none\" points=\"\n  276.274,1054.05 2352.76,1054.05 \n  \"/>\n<polyline clip-path=\"url(#clip012)\" style=\"stroke:#000000; stroke-linecap:round; stroke-linejoin:round; stroke-width:2; stroke-opacity:0.1; fill:none\" points=\"\n  276.274,662.389 2352.76,662.389 \n  \"/>\n<polyline clip-path=\"url(#clip012)\" style=\"stroke:#000000; stroke-linecap:round; stroke-linejoin:round; stroke-width:2; stroke-opacity:0.1; fill:none\" points=\"\n  276.274,270.726 2352.76,270.726 \n  \"/>\n<polyline clip-path=\"url(#clip010)\" style=\"stroke:#000000; stroke-linecap:round; stroke-linejoin:round; stroke-width:4; stroke-opacity:1; fill:none\" points=\"\n  276.274,1486.45 276.274,47.2441 \n  \"/>\n<polyline clip-path=\"url(#clip010)\" style=\"stroke:#000000; stroke-linecap:round; stroke-linejoin:round; stroke-width:4; stroke-opacity:1; fill:none\" points=\"\n  276.274,1445.72 295.171,1445.72 \n  \"/>\n<polyline clip-path=\"url(#clip010)\" style=\"stroke:#000000; stroke-linecap:round; stroke-linejoin:round; stroke-width:4; stroke-opacity:1; fill:none\" points=\"\n  276.274,1054.05 295.171,1054.05 \n  \"/>\n<polyline clip-path=\"url(#clip010)\" style=\"stroke:#000000; stroke-linecap:round; stroke-linejoin:round; stroke-width:4; stroke-opacity:1; fill:none\" points=\"\n  276.274,662.389 295.171,662.389 \n  \"/>\n<polyline clip-path=\"url(#clip010)\" style=\"stroke:#000000; stroke-linecap:round; stroke-linejoin:round; stroke-width:4; stroke-opacity:1; fill:none\" points=\"\n  276.274,270.726 295.171,270.726 \n  \"/>\n<path clip-path=\"url(#clip010)\" d=\"M228.329 1431.51 Q224.718 1431.51 222.889 1435.08 Q221.084 1438.62 221.084 1445.75 Q221.084 1452.86 222.889 1456.42 Q224.718 1459.96 228.329 1459.96 Q231.963 1459.96 233.769 1456.42 Q235.598 1452.86 235.598 1445.75 Q235.598 1438.62 233.769 1435.08 Q231.963 1431.51 228.329 1431.51 M228.329 1427.81 Q234.139 1427.81 237.195 1432.42 Q240.274 1437 240.274 1445.75 Q240.274 1454.48 237.195 1459.08 Q234.139 1463.67 228.329 1463.67 Q222.519 1463.67 219.44 1459.08 Q216.385 1454.48 216.385 1445.75 Q216.385 1437 219.44 1432.42 Q222.519 1427.81 228.329 1427.81 Z\" fill=\"#000000\" fill-rule=\"evenodd\" fill-opacity=\"1\" /><path clip-path=\"url(#clip010)\" d=\"M53.3995 1073.84 L61.0384 1073.84 L61.0384 1047.48 L52.7282 1049.15 L52.7282 1044.89 L60.9921 1043.22 L65.668 1043.22 L65.668 1073.84 L73.3068 1073.84 L73.3068 1077.78 L53.3995 1077.78 L53.3995 1073.84 Z\" fill=\"#000000\" fill-rule=\"evenodd\" fill-opacity=\"1\" /><path clip-path=\"url(#clip010)\" d=\"M82.7512 1071.9 L87.6354 1071.9 L87.6354 1077.78 L82.7512 1077.78 L82.7512 1071.9 Z\" fill=\"#000000\" fill-rule=\"evenodd\" fill-opacity=\"1\" /><path clip-path=\"url(#clip010)\" d=\"M107.821 1046.3 Q104.209 1046.3 102.381 1049.86 Q100.575 1053.41 100.575 1060.53 Q100.575 1067.64 102.381 1071.21 Q104.209 1074.75 107.821 1074.75 Q111.455 1074.75 113.26 1071.21 Q115.089 1067.64 115.089 1060.53 Q115.089 1053.41 113.26 1049.86 Q111.455 1046.3 107.821 1046.3 M107.821 1042.6 Q113.631 1042.6 116.686 1047.2 Q119.765 1051.78 119.765 1060.53 Q119.765 1069.26 116.686 1073.87 Q113.631 1078.45 107.821 1078.45 Q102.01 1078.45 98.9317 1073.87 Q95.8761 1069.26 95.8761 1060.53 Q95.8761 1051.78 98.9317 1047.2 Q102.01 1042.6 107.821 1042.6 Z\" fill=\"#000000\" fill-rule=\"evenodd\" fill-opacity=\"1\" /><path clip-path=\"url(#clip010)\" d=\"M156.154 1052.32 L145.575 1062.94 L156.154 1073.52 L153.399 1076.32 L142.774 1065.7 L132.149 1076.32 L129.418 1073.52 L139.973 1062.94 L129.418 1052.32 L132.149 1049.52 L142.774 1060.14 L153.399 1049.52 L156.154 1052.32 Z\" fill=\"#000000\" fill-rule=\"evenodd\" fill-opacity=\"1\" /><path clip-path=\"url(#clip010)\" d=\"M168.515 1073.84 L176.153 1073.84 L176.153 1047.48 L167.843 1049.15 L167.843 1044.89 L176.107 1043.22 L180.783 1043.22 L180.783 1073.84 L188.422 1073.84 L188.422 1077.78 L168.515 1077.78 L168.515 1073.84 Z\" fill=\"#000000\" fill-rule=\"evenodd\" fill-opacity=\"1\" /><path clip-path=\"url(#clip010)\" d=\"M207.866 1046.3 Q204.255 1046.3 202.426 1049.86 Q200.621 1053.41 200.621 1060.53 Q200.621 1067.64 202.426 1071.21 Q204.255 1074.75 207.866 1074.75 Q211.501 1074.75 213.306 1071.21 Q215.135 1067.64 215.135 1060.53 Q215.135 1053.41 213.306 1049.86 Q211.501 1046.3 207.866 1046.3 M207.866 1042.6 Q213.676 1042.6 216.732 1047.2 Q219.811 1051.78 219.811 1060.53 Q219.811 1069.26 216.732 1073.87 Q213.676 1078.45 207.866 1078.45 Q202.056 1078.45 198.977 1073.87 Q195.922 1069.26 195.922 1060.53 Q195.922 1051.78 198.977 1047.2 Q202.056 1042.6 207.866 1042.6 Z\" fill=\"#000000\" fill-rule=\"evenodd\" fill-opacity=\"1\" /><path clip-path=\"url(#clip010)\" d=\"M232.487 1025.6 L222.895 1040.59 L232.487 1040.59 L232.487 1025.6 M231.49 1022.29 L236.267 1022.29 L236.267 1040.59 L240.274 1040.59 L240.274 1043.75 L236.267 1043.75 L236.267 1050.37 L232.487 1050.37 L232.487 1043.75 L219.811 1043.75 L219.811 1040.08 L231.49 1022.29 Z\" fill=\"#000000\" fill-rule=\"evenodd\" fill-opacity=\"1\" /><path clip-path=\"url(#clip010)\" d=\"M56.6171 682.182 L72.9365 682.182 L72.9365 686.117 L50.9921 686.117 L50.9921 682.182 Q53.6541 679.427 58.2375 674.797 Q62.8439 670.145 64.0245 668.802 Q66.2698 666.279 67.1494 664.543 Q68.0522 662.784 68.0522 661.094 Q68.0522 658.339 66.1078 656.603 Q64.1865 654.867 61.0847 654.867 Q58.8856 654.867 56.4319 655.631 Q54.0014 656.395 51.2236 657.946 L51.2236 653.224 Q54.0477 652.089 56.5014 651.511 Q58.955 650.932 60.9921 650.932 Q66.3624 650.932 69.5568 653.617 Q72.7513 656.302 72.7513 660.793 Q72.7513 662.923 71.9411 664.844 Q71.1541 666.742 69.0476 669.335 Q68.4689 670.006 65.367 673.223 Q62.2652 676.418 56.6171 682.182 Z\" fill=\"#000000\" fill-rule=\"evenodd\" fill-opacity=\"1\" /><path clip-path=\"url(#clip010)\" d=\"M82.7512 680.237 L87.6354 680.237 L87.6354 686.117 L82.7512 686.117 L82.7512 680.237 Z\" fill=\"#000000\" fill-rule=\"evenodd\" fill-opacity=\"1\" /><path clip-path=\"url(#clip010)\" d=\"M107.821 654.636 Q104.209 654.636 102.381 658.2 Q100.575 661.742 100.575 668.872 Q100.575 675.978 102.381 679.543 Q104.209 683.084 107.821 683.084 Q111.455 683.084 113.26 679.543 Q115.089 675.978 115.089 668.872 Q115.089 661.742 113.26 658.2 Q111.455 654.636 107.821 654.636 M107.821 650.932 Q113.631 650.932 116.686 655.538 Q119.765 660.122 119.765 668.872 Q119.765 677.598 116.686 682.205 Q113.631 686.788 107.821 686.788 Q102.01 686.788 98.9317 682.205 Q95.8761 677.598 95.8761 668.872 Q95.8761 660.122 98.9317 655.538 Q102.01 650.932 107.821 650.932 Z\" fill=\"#000000\" fill-rule=\"evenodd\" fill-opacity=\"1\" /><path clip-path=\"url(#clip010)\" d=\"M156.154 660.654 L145.575 671.279 L156.154 681.858 L153.399 684.659 L142.774 674.034 L132.149 684.659 L129.418 681.858 L139.973 671.279 L129.418 660.654 L132.149 657.853 L142.774 668.478 L153.399 657.853 L156.154 660.654 Z\" fill=\"#000000\" fill-rule=\"evenodd\" fill-opacity=\"1\" /><path clip-path=\"url(#clip010)\" d=\"M168.515 682.182 L176.153 682.182 L176.153 655.816 L167.843 657.483 L167.843 653.224 L176.107 651.557 L180.783 651.557 L180.783 682.182 L188.422 682.182 L188.422 686.117 L168.515 686.117 L168.515 682.182 Z\" fill=\"#000000\" fill-rule=\"evenodd\" fill-opacity=\"1\" /><path clip-path=\"url(#clip010)\" d=\"M207.866 654.636 Q204.255 654.636 202.426 658.2 Q200.621 661.742 200.621 668.872 Q200.621 675.978 202.426 679.543 Q204.255 683.084 207.866 683.084 Q211.501 683.084 213.306 679.543 Q215.135 675.978 215.135 668.872 Q215.135 661.742 213.306 658.2 Q211.501 654.636 207.866 654.636 M207.866 650.932 Q213.676 650.932 216.732 655.538 Q219.811 660.122 219.811 668.872 Q219.811 677.598 216.732 682.205 Q213.676 686.788 207.866 686.788 Q202.056 686.788 198.977 682.205 Q195.922 677.598 195.922 668.872 Q195.922 660.122 198.977 655.538 Q202.056 650.932 207.866 650.932 Z\" fill=\"#000000\" fill-rule=\"evenodd\" fill-opacity=\"1\" /><path clip-path=\"url(#clip010)\" d=\"M232.487 633.937 L222.895 648.926 L232.487 648.926 L232.487 633.937 M231.49 630.626 L236.267 630.626 L236.267 648.926 L240.274 648.926 L240.274 652.086 L236.267 652.086 L236.267 658.706 L232.487 658.706 L232.487 652.086 L219.811 652.086 L219.811 648.419 L231.49 630.626 Z\" fill=\"#000000\" fill-rule=\"evenodd\" fill-opacity=\"1\" /><path clip-path=\"url(#clip010)\" d=\"M66.7559 275.82 Q70.1124 276.537 71.9874 278.806 Q73.8855 281.074 73.8855 284.407 Q73.8855 289.523 70.367 292.324 Q66.8485 295.125 60.3671 295.125 Q58.1912 295.125 55.8764 294.685 Q53.5847 294.268 51.131 293.412 L51.131 288.898 Q53.0754 290.032 55.3903 290.611 Q57.7051 291.19 60.2282 291.19 Q64.6263 291.19 66.918 289.454 Q69.2328 287.718 69.2328 284.407 Q69.2328 281.352 67.08 279.639 Q64.9504 277.903 61.131 277.903 L57.1032 277.903 L57.1032 274.06 L61.3161 274.06 Q64.7652 274.06 66.5939 272.695 Q68.4226 271.306 68.4226 268.713 Q68.4226 266.051 66.5245 264.639 Q64.6495 263.204 61.131 263.204 Q59.2097 263.204 57.0106 263.62 Q54.8115 264.037 52.1727 264.917 L52.1727 260.75 Q54.8347 260.009 57.1495 259.639 Q59.4875 259.269 61.5476 259.269 Q66.8717 259.269 69.9735 261.699 Q73.0753 264.107 73.0753 268.227 Q73.0753 271.097 71.4318 273.088 Q69.7883 275.056 66.7559 275.82 Z\" fill=\"#000000\" fill-rule=\"evenodd\" fill-opacity=\"1\" /><path clip-path=\"url(#clip010)\" d=\"M82.7512 288.574 L87.6354 288.574 L87.6354 294.454 L82.7512 294.454 L82.7512 288.574 Z\" fill=\"#000000\" fill-rule=\"evenodd\" fill-opacity=\"1\" /><path clip-path=\"url(#clip010)\" d=\"M107.821 262.972 Q104.209 262.972 102.381 266.537 Q100.575 270.079 100.575 277.208 Q100.575 284.315 102.381 287.88 Q104.209 291.421 107.821 291.421 Q111.455 291.421 113.26 287.88 Q115.089 284.315 115.089 277.208 Q115.089 270.079 113.26 266.537 Q111.455 262.972 107.821 262.972 M107.821 259.269 Q113.631 259.269 116.686 263.875 Q119.765 268.458 119.765 277.208 Q119.765 285.935 116.686 290.542 Q113.631 295.125 107.821 295.125 Q102.01 295.125 98.9317 290.542 Q95.8761 285.935 95.8761 277.208 Q95.8761 268.458 98.9317 263.875 Q102.01 259.269 107.821 259.269 Z\" fill=\"#000000\" fill-rule=\"evenodd\" fill-opacity=\"1\" /><path clip-path=\"url(#clip010)\" d=\"M156.154 268.991 L145.575 279.616 L156.154 290.194 L153.399 292.995 L142.774 282.37 L132.149 292.995 L129.418 290.194 L139.973 279.616 L129.418 268.991 L132.149 266.19 L142.774 276.815 L153.399 266.19 L156.154 268.991 Z\" fill=\"#000000\" fill-rule=\"evenodd\" fill-opacity=\"1\" /><path clip-path=\"url(#clip010)\" d=\"M168.515 290.518 L176.153 290.518 L176.153 264.153 L167.843 265.82 L167.843 261.56 L176.107 259.894 L180.783 259.894 L180.783 290.518 L188.422 290.518 L188.422 294.454 L168.515 294.454 L168.515 290.518 Z\" fill=\"#000000\" fill-rule=\"evenodd\" fill-opacity=\"1\" /><path clip-path=\"url(#clip010)\" d=\"M207.866 262.972 Q204.255 262.972 202.426 266.537 Q200.621 270.079 200.621 277.208 Q200.621 284.315 202.426 287.88 Q204.255 291.421 207.866 291.421 Q211.501 291.421 213.306 287.88 Q215.135 284.315 215.135 277.208 Q215.135 270.079 213.306 266.537 Q211.501 262.972 207.866 262.972 M207.866 259.269 Q213.676 259.269 216.732 263.875 Q219.811 268.458 219.811 277.208 Q219.811 285.935 216.732 290.542 Q213.676 295.125 207.866 295.125 Q202.056 295.125 198.977 290.542 Q195.922 285.935 195.922 277.208 Q195.922 268.458 198.977 263.875 Q202.056 259.269 207.866 259.269 Z\" fill=\"#000000\" fill-rule=\"evenodd\" fill-opacity=\"1\" /><path clip-path=\"url(#clip010)\" d=\"M232.487 242.273 L222.895 257.263 L232.487 257.263 L232.487 242.273 M231.49 238.963 L236.267 238.963 L236.267 257.263 L240.274 257.263 L240.274 260.423 L236.267 260.423 L236.267 267.043 L232.487 267.043 L232.487 260.423 L219.811 260.423 L219.811 256.755 L231.49 238.963 Z\" fill=\"#000000\" fill-rule=\"evenodd\" fill-opacity=\"1\" /><path clip-path=\"url(#clip012)\" d=\"\nM390.484 87.9763 L390.484 1445.72 L541.346 1445.72 L541.346 87.9763 L390.484 87.9763 L390.484 87.9763  Z\n  \" fill=\"#009af9\" fill-rule=\"evenodd\" fill-opacity=\"1\"/>\n<polyline clip-path=\"url(#clip012)\" style=\"stroke:#000000; stroke-linecap:round; stroke-linejoin:round; stroke-width:4; stroke-opacity:1; fill:none\" points=\"\n  390.484,87.9763 390.484,1445.72 541.346,1445.72 541.346,87.9763 390.484,87.9763 \n  \"/>\n<path clip-path=\"url(#clip012)\" d=\"\nM579.061 850.636 L579.061 1445.72 L729.924 1445.72 L729.924 850.636 L579.061 850.636 L579.061 850.636  Z\n  \" fill=\"#009af9\" fill-rule=\"evenodd\" fill-opacity=\"1\"/>\n<polyline clip-path=\"url(#clip012)\" style=\"stroke:#000000; stroke-linecap:round; stroke-linejoin:round; stroke-width:4; stroke-opacity:1; fill:none\" points=\"\n  579.061,850.636 579.061,1445.72 729.924,1445.72 729.924,850.636 579.061,850.636 \n  \"/>\n<path clip-path=\"url(#clip012)\" d=\"\nM767.639 279.221 L767.639 1445.72 L918.501 1445.72 L918.501 279.221 L767.639 279.221 L767.639 279.221  Z\n  \" fill=\"#009af9\" fill-rule=\"evenodd\" fill-opacity=\"1\"/>\n<polyline clip-path=\"url(#clip012)\" style=\"stroke:#000000; stroke-linecap:round; stroke-linejoin:round; stroke-width:4; stroke-opacity:1; fill:none\" points=\"\n  767.639,279.221 767.639,1445.72 918.501,1445.72 918.501,279.221 767.639,279.221 \n  \"/>\n<path clip-path=\"url(#clip012)\" d=\"\nM956.217 337.516 L956.217 1445.72 L1107.08 1445.72 L1107.08 337.516 L956.217 337.516 L956.217 337.516  Z\n  \" fill=\"#009af9\" fill-rule=\"evenodd\" fill-opacity=\"1\"/>\n<polyline clip-path=\"url(#clip012)\" style=\"stroke:#000000; stroke-linecap:round; stroke-linejoin:round; stroke-width:4; stroke-opacity:1; fill:none\" points=\"\n  956.217,337.516 956.217,1445.72 1107.08,1445.72 1107.08,337.516 956.217,337.516 \n  \"/>\n<path clip-path=\"url(#clip012)\" d=\"\nM1144.79 495.407 L1144.79 1445.72 L1295.66 1445.72 L1295.66 495.407 L1144.79 495.407 L1144.79 495.407  Z\n  \" fill=\"#009af9\" fill-rule=\"evenodd\" fill-opacity=\"1\"/>\n<polyline clip-path=\"url(#clip012)\" style=\"stroke:#000000; stroke-linecap:round; stroke-linejoin:round; stroke-width:4; stroke-opacity:1; fill:none\" points=\"\n  1144.79,495.407 1144.79,1445.72 1295.66,1445.72 1295.66,495.407 1144.79,495.407 \n  \"/>\n<path clip-path=\"url(#clip012)\" d=\"\nM1333.37 437.591 L1333.37 1445.72 L1484.23 1445.72 L1484.23 437.591 L1333.37 437.591 L1333.37 437.591  Z\n  \" fill=\"#009af9\" fill-rule=\"evenodd\" fill-opacity=\"1\"/>\n<polyline clip-path=\"url(#clip012)\" style=\"stroke:#000000; stroke-linecap:round; stroke-linejoin:round; stroke-width:4; stroke-opacity:1; fill:none\" points=\"\n  1333.37,437.591 1333.37,1445.72 1484.23,1445.72 1484.23,437.591 1333.37,437.591 \n  \"/>\n<path clip-path=\"url(#clip012)\" d=\"\nM1521.95 370.625 L1521.95 1445.72 L1672.81 1445.72 L1672.81 370.625 L1521.95 370.625 L1521.95 370.625  Z\n  \" fill=\"#009af9\" fill-rule=\"evenodd\" fill-opacity=\"1\"/>\n<polyline clip-path=\"url(#clip012)\" style=\"stroke:#000000; stroke-linecap:round; stroke-linejoin:round; stroke-width:4; stroke-opacity:1; fill:none\" points=\"\n  1521.95,370.625 1521.95,1445.72 1672.81,1445.72 1672.81,370.625 1521.95,370.625 \n  \"/>\n<path clip-path=\"url(#clip012)\" d=\"\nM1710.53 548.949 L1710.53 1445.72 L1861.39 1445.72 L1861.39 548.949 L1710.53 548.949 L1710.53 548.949  Z\n  \" fill=\"#009af9\" fill-rule=\"evenodd\" fill-opacity=\"1\"/>\n<polyline clip-path=\"url(#clip012)\" style=\"stroke:#000000; stroke-linecap:round; stroke-linejoin:round; stroke-width:4; stroke-opacity:1; fill:none\" points=\"\n  1710.53,548.949 1710.53,1445.72 1861.39,1445.72 1861.39,548.949 1710.53,548.949 \n  \"/>\n<path clip-path=\"url(#clip012)\" d=\"\nM1899.11 269.975 L1899.11 1445.72 L2049.97 1445.72 L2049.97 269.975 L1899.11 269.975 L1899.11 269.975  Z\n  \" fill=\"#009af9\" fill-rule=\"evenodd\" fill-opacity=\"1\"/>\n<polyline clip-path=\"url(#clip012)\" style=\"stroke:#000000; stroke-linecap:round; stroke-linejoin:round; stroke-width:4; stroke-opacity:1; fill:none\" points=\"\n  1899.11,269.975 1899.11,1445.72 2049.97,1445.72 2049.97,269.975 1899.11,269.975 \n  \"/>\n<path clip-path=\"url(#clip012)\" d=\"\nM2087.68 485.82 L2087.68 1445.72 L2238.55 1445.72 L2238.55 485.82 L2087.68 485.82 L2087.68 485.82  Z\n  \" fill=\"#009af9\" fill-rule=\"evenodd\" fill-opacity=\"1\"/>\n<polyline clip-path=\"url(#clip012)\" style=\"stroke:#000000; stroke-linecap:round; stroke-linejoin:round; stroke-width:4; stroke-opacity:1; fill:none\" points=\"\n  2087.68,485.82 2087.68,1445.72 2238.55,1445.72 2238.55,485.82 2087.68,485.82 \n  \"/>\n<circle clip-path=\"url(#clip012)\" style=\"fill:#009af9; stroke:none; fill-opacity:0\" cx=\"465.915\" cy=\"87.9763\" r=\"2\"/>\n<circle clip-path=\"url(#clip012)\" style=\"fill:#009af9; stroke:none; fill-opacity:0\" cx=\"654.493\" cy=\"850.636\" r=\"2\"/>\n<circle clip-path=\"url(#clip012)\" style=\"fill:#009af9; stroke:none; fill-opacity:0\" cx=\"843.07\" cy=\"279.221\" r=\"2\"/>\n<circle clip-path=\"url(#clip012)\" style=\"fill:#009af9; stroke:none; fill-opacity:0\" cx=\"1031.65\" cy=\"337.516\" r=\"2\"/>\n<circle clip-path=\"url(#clip012)\" style=\"fill:#009af9; stroke:none; fill-opacity:0\" cx=\"1220.23\" cy=\"495.407\" r=\"2\"/>\n<circle clip-path=\"url(#clip012)\" style=\"fill:#009af9; stroke:none; fill-opacity:0\" cx=\"1408.8\" cy=\"437.591\" r=\"2\"/>\n<circle clip-path=\"url(#clip012)\" style=\"fill:#009af9; stroke:none; fill-opacity:0\" cx=\"1597.38\" cy=\"370.625\" r=\"2\"/>\n<circle clip-path=\"url(#clip012)\" style=\"fill:#009af9; stroke:none; fill-opacity:0\" cx=\"1785.96\" cy=\"548.949\" r=\"2\"/>\n<circle clip-path=\"url(#clip012)\" style=\"fill:#009af9; stroke:none; fill-opacity:0\" cx=\"1974.54\" cy=\"269.975\" r=\"2\"/>\n<circle clip-path=\"url(#clip012)\" style=\"fill:#009af9; stroke:none; fill-opacity:0\" cx=\"2163.11\" cy=\"485.82\" r=\"2\"/>\n</svg>\n",
      "text/html": [
       "<?xml version=\"1.0\" encoding=\"utf-8\"?>\n",
       "<svg xmlns=\"http://www.w3.org/2000/svg\" xmlns:xlink=\"http://www.w3.org/1999/xlink\" width=\"600\" height=\"400\" viewBox=\"0 0 2400 1600\">\n",
       "<defs>\n",
       "  <clipPath id=\"clip060\">\n",
       "    <rect x=\"0\" y=\"0\" width=\"2400\" height=\"1600\"/>\n",
       "  </clipPath>\n",
       "</defs>\n",
       "<path clip-path=\"url(#clip060)\" d=\"\n",
       "M0 1600 L2400 1600 L2400 0 L0 0  Z\n",
       "  \" fill=\"#ffffff\" fill-rule=\"evenodd\" fill-opacity=\"1\"/>\n",
       "<defs>\n",
       "  <clipPath id=\"clip061\">\n",
       "    <rect x=\"480\" y=\"0\" width=\"1681\" height=\"1600\"/>\n",
       "  </clipPath>\n",
       "</defs>\n",
       "<path clip-path=\"url(#clip060)\" d=\"\n",
       "M276.274 1486.45 L2352.76 1486.45 L2352.76 47.2441 L276.274 47.2441  Z\n",
       "  \" fill=\"#ffffff\" fill-rule=\"evenodd\" fill-opacity=\"1\"/>\n",
       "<defs>\n",
       "  <clipPath id=\"clip062\">\n",
       "    <rect x=\"276\" y=\"47\" width=\"2077\" height=\"1440\"/>\n",
       "  </clipPath>\n",
       "</defs>\n",
       "<polyline clip-path=\"url(#clip062)\" style=\"stroke:#000000; stroke-linecap:round; stroke-linejoin:round; stroke-width:2; stroke-opacity:0.1; fill:none\" points=\"\n",
       "  465.915,1486.45 465.915,47.2441 \n",
       "  \"/>\n",
       "<polyline clip-path=\"url(#clip062)\" style=\"stroke:#000000; stroke-linecap:round; stroke-linejoin:round; stroke-width:2; stroke-opacity:0.1; fill:none\" points=\"\n",
       "  937.359,1486.45 937.359,47.2441 \n",
       "  \"/>\n",
       "<polyline clip-path=\"url(#clip062)\" style=\"stroke:#000000; stroke-linecap:round; stroke-linejoin:round; stroke-width:2; stroke-opacity:0.1; fill:none\" points=\"\n",
       "  1408.8,1486.45 1408.8,47.2441 \n",
       "  \"/>\n",
       "<polyline clip-path=\"url(#clip062)\" style=\"stroke:#000000; stroke-linecap:round; stroke-linejoin:round; stroke-width:2; stroke-opacity:0.1; fill:none\" points=\"\n",
       "  1880.25,1486.45 1880.25,47.2441 \n",
       "  \"/>\n",
       "<polyline clip-path=\"url(#clip062)\" style=\"stroke:#000000; stroke-linecap:round; stroke-linejoin:round; stroke-width:2; stroke-opacity:0.1; fill:none\" points=\"\n",
       "  2351.69,1486.45 2351.69,47.2441 \n",
       "  \"/>\n",
       "<polyline clip-path=\"url(#clip060)\" style=\"stroke:#000000; stroke-linecap:round; stroke-linejoin:round; stroke-width:4; stroke-opacity:1; fill:none\" points=\"\n",
       "  276.274,1486.45 2352.76,1486.45 \n",
       "  \"/>\n",
       "<polyline clip-path=\"url(#clip060)\" style=\"stroke:#000000; stroke-linecap:round; stroke-linejoin:round; stroke-width:4; stroke-opacity:1; fill:none\" points=\"\n",
       "  465.915,1486.45 465.915,1467.55 \n",
       "  \"/>\n",
       "<polyline clip-path=\"url(#clip060)\" style=\"stroke:#000000; stroke-linecap:round; stroke-linejoin:round; stroke-width:4; stroke-opacity:1; fill:none\" points=\"\n",
       "  937.359,1486.45 937.359,1467.55 \n",
       "  \"/>\n",
       "<polyline clip-path=\"url(#clip060)\" style=\"stroke:#000000; stroke-linecap:round; stroke-linejoin:round; stroke-width:4; stroke-opacity:1; fill:none\" points=\"\n",
       "  1408.8,1486.45 1408.8,1467.55 \n",
       "  \"/>\n",
       "<polyline clip-path=\"url(#clip060)\" style=\"stroke:#000000; stroke-linecap:round; stroke-linejoin:round; stroke-width:4; stroke-opacity:1; fill:none\" points=\"\n",
       "  1880.25,1486.45 1880.25,1467.55 \n",
       "  \"/>\n",
       "<polyline clip-path=\"url(#clip060)\" style=\"stroke:#000000; stroke-linecap:round; stroke-linejoin:round; stroke-width:4; stroke-opacity:1; fill:none\" points=\"\n",
       "  2351.69,1486.45 2351.69,1467.55 \n",
       "  \"/>\n",
       "<path clip-path=\"url(#clip060)\" d=\"M443.299 1517.37 Q439.688 1517.37 437.859 1520.93 Q436.054 1524.47 436.054 1531.6 Q436.054 1538.71 437.859 1542.27 Q439.688 1545.82 443.299 1545.82 Q446.933 1545.82 448.739 1542.27 Q450.568 1538.71 450.568 1531.6 Q450.568 1524.47 448.739 1520.93 Q446.933 1517.37 443.299 1517.37 M443.299 1513.66 Q449.109 1513.66 452.165 1518.27 Q455.244 1522.85 455.244 1531.6 Q455.244 1540.33 452.165 1544.94 Q449.109 1549.52 443.299 1549.52 Q437.489 1549.52 434.41 1544.94 Q431.355 1540.33 431.355 1531.6 Q431.355 1522.85 434.41 1518.27 Q437.489 1513.66 443.299 1513.66 Z\" fill=\"#000000\" fill-rule=\"evenodd\" fill-opacity=\"1\" /><path clip-path=\"url(#clip060)\" d=\"M463.461 1542.97 L468.345 1542.97 L468.345 1548.85 L463.461 1548.85 L463.461 1542.97 Z\" fill=\"#000000\" fill-rule=\"evenodd\" fill-opacity=\"1\" /><path clip-path=\"url(#clip060)\" d=\"M488.53 1517.37 Q484.919 1517.37 483.091 1520.93 Q481.285 1524.47 481.285 1531.6 Q481.285 1538.71 483.091 1542.27 Q484.919 1545.82 488.53 1545.82 Q492.165 1545.82 493.97 1542.27 Q495.799 1538.71 495.799 1531.6 Q495.799 1524.47 493.97 1520.93 Q492.165 1517.37 488.53 1517.37 M488.53 1513.66 Q494.341 1513.66 497.396 1518.27 Q500.475 1522.85 500.475 1531.6 Q500.475 1540.33 497.396 1544.94 Q494.341 1549.52 488.53 1549.52 Q482.72 1549.52 479.642 1544.94 Q476.586 1540.33 476.586 1531.6 Q476.586 1522.85 479.642 1518.27 Q482.72 1513.66 488.53 1513.66 Z\" fill=\"#000000\" fill-rule=\"evenodd\" fill-opacity=\"1\" /><path clip-path=\"url(#clip060)\" d=\"M909.095 1544.91 L925.415 1544.91 L925.415 1548.85 L903.471 1548.85 L903.471 1544.91 Q906.133 1542.16 910.716 1537.53 Q915.322 1532.88 916.503 1531.53 Q918.748 1529.01 919.628 1527.27 Q920.531 1525.51 920.531 1523.82 Q920.531 1521.07 918.586 1519.33 Q916.665 1517.6 913.563 1517.6 Q911.364 1517.6 908.91 1518.36 Q906.48 1519.13 903.702 1520.68 L903.702 1515.95 Q906.526 1514.82 908.98 1514.24 Q911.433 1513.66 913.47 1513.66 Q918.841 1513.66 922.035 1516.35 Q925.23 1519.03 925.23 1523.52 Q925.23 1525.65 924.419 1527.57 Q923.632 1529.47 921.526 1532.07 Q920.947 1532.74 917.845 1535.95 Q914.744 1539.15 909.095 1544.91 Z\" fill=\"#000000\" fill-rule=\"evenodd\" fill-opacity=\"1\" /><path clip-path=\"url(#clip060)\" d=\"M935.23 1542.97 L940.114 1542.97 L940.114 1548.85 L935.23 1548.85 L935.23 1542.97 Z\" fill=\"#000000\" fill-rule=\"evenodd\" fill-opacity=\"1\" /><path clip-path=\"url(#clip060)\" d=\"M950.345 1514.29 L968.702 1514.29 L968.702 1518.22 L954.628 1518.22 L954.628 1526.7 Q955.646 1526.35 956.665 1526.19 Q957.683 1526 958.702 1526 Q964.489 1526 967.868 1529.17 Q971.248 1532.34 971.248 1537.76 Q971.248 1543.34 967.776 1546.44 Q964.304 1549.52 957.984 1549.52 Q955.808 1549.52 953.54 1549.15 Q951.294 1548.78 948.887 1548.04 L948.887 1543.34 Q950.97 1544.47 953.192 1545.03 Q955.415 1545.58 957.892 1545.58 Q961.896 1545.58 964.234 1543.48 Q966.572 1541.37 966.572 1537.76 Q966.572 1534.15 964.234 1532.04 Q961.896 1529.94 957.892 1529.94 Q956.017 1529.94 954.142 1530.35 Q952.29 1530.77 950.345 1531.65 L950.345 1514.29 Z\" fill=\"#000000\" fill-rule=\"evenodd\" fill-opacity=\"1\" /><path clip-path=\"url(#clip060)\" d=\"M1375.97 1514.29 L1394.32 1514.29 L1394.32 1518.22 L1380.25 1518.22 L1380.25 1526.7 Q1381.27 1526.35 1382.29 1526.19 Q1383.31 1526 1384.32 1526 Q1390.11 1526 1393.49 1529.17 Q1396.87 1532.34 1396.87 1537.76 Q1396.87 1543.34 1393.4 1546.44 Q1389.93 1549.52 1383.61 1549.52 Q1381.43 1549.52 1379.16 1549.15 Q1376.92 1548.78 1374.51 1548.04 L1374.51 1543.34 Q1376.59 1544.47 1378.82 1545.03 Q1381.04 1545.58 1383.51 1545.58 Q1387.52 1545.58 1389.86 1543.48 Q1392.19 1541.37 1392.19 1537.76 Q1392.19 1534.15 1389.86 1532.04 Q1387.52 1529.94 1383.51 1529.94 Q1381.64 1529.94 1379.76 1530.35 Q1377.91 1530.77 1375.97 1531.65 L1375.97 1514.29 Z\" fill=\"#000000\" fill-rule=\"evenodd\" fill-opacity=\"1\" /><path clip-path=\"url(#clip060)\" d=\"M1406.08 1542.97 L1410.97 1542.97 L1410.97 1548.85 L1406.08 1548.85 L1406.08 1542.97 Z\" fill=\"#000000\" fill-rule=\"evenodd\" fill-opacity=\"1\" /><path clip-path=\"url(#clip060)\" d=\"M1431.15 1517.37 Q1427.54 1517.37 1425.71 1520.93 Q1423.91 1524.47 1423.91 1531.6 Q1423.91 1538.71 1425.71 1542.27 Q1427.54 1545.82 1431.15 1545.82 Q1434.79 1545.82 1436.59 1542.27 Q1438.42 1538.71 1438.42 1531.6 Q1438.42 1524.47 1436.59 1520.93 Q1434.79 1517.37 1431.15 1517.37 M1431.15 1513.66 Q1436.96 1513.66 1440.02 1518.27 Q1443.1 1522.85 1443.1 1531.6 Q1443.1 1540.33 1440.02 1544.94 Q1436.96 1549.52 1431.15 1549.52 Q1425.34 1549.52 1422.26 1544.94 Q1419.21 1540.33 1419.21 1531.6 Q1419.21 1522.85 1422.26 1518.27 Q1425.34 1513.66 1431.15 1513.66 Z\" fill=\"#000000\" fill-rule=\"evenodd\" fill-opacity=\"1\" /><path clip-path=\"url(#clip060)\" d=\"M1846.57 1514.29 L1868.79 1514.29 L1868.79 1516.28 L1856.24 1548.85 L1851.36 1548.85 L1863.16 1518.22 L1846.57 1518.22 L1846.57 1514.29 Z\" fill=\"#000000\" fill-rule=\"evenodd\" fill-opacity=\"1\" /><path clip-path=\"url(#clip060)\" d=\"M1877.91 1542.97 L1882.79 1542.97 L1882.79 1548.85 L1877.91 1548.85 L1877.91 1542.97 Z\" fill=\"#000000\" fill-rule=\"evenodd\" fill-opacity=\"1\" /><path clip-path=\"url(#clip060)\" d=\"M1893.03 1514.29 L1911.38 1514.29 L1911.38 1518.22 L1897.31 1518.22 L1897.31 1526.7 Q1898.33 1526.35 1899.35 1526.19 Q1900.36 1526 1901.38 1526 Q1907.17 1526 1910.55 1529.17 Q1913.93 1532.34 1913.93 1537.76 Q1913.93 1543.34 1910.46 1546.44 Q1906.98 1549.52 1900.66 1549.52 Q1898.49 1549.52 1896.22 1549.15 Q1893.97 1548.78 1891.57 1548.04 L1891.57 1543.34 Q1893.65 1544.47 1895.87 1545.03 Q1898.1 1545.58 1900.57 1545.58 Q1904.58 1545.58 1906.91 1543.48 Q1909.25 1541.37 1909.25 1537.76 Q1909.25 1534.15 1906.91 1532.04 Q1904.58 1529.94 1900.57 1529.94 Q1898.7 1529.94 1896.82 1530.35 Q1894.97 1530.77 1893.03 1531.65 L1893.03 1514.29 Z\" fill=\"#000000\" fill-rule=\"evenodd\" fill-opacity=\"1\" /><path clip-path=\"url(#clip060)\" d=\"M2303.76 1544.91 L2311.4 1544.91 L2311.4 1518.55 L2303.09 1520.21 L2303.09 1515.95 L2311.36 1514.29 L2316.03 1514.29 L2316.03 1544.91 L2323.67 1544.91 L2323.67 1548.85 L2303.76 1548.85 L2303.76 1544.91 Z\" fill=\"#000000\" fill-rule=\"evenodd\" fill-opacity=\"1\" /><path clip-path=\"url(#clip060)\" d=\"M2343.12 1517.37 Q2339.5 1517.37 2337.68 1520.93 Q2335.87 1524.47 2335.87 1531.6 Q2335.87 1538.71 2337.68 1542.27 Q2339.5 1545.82 2343.12 1545.82 Q2346.75 1545.82 2348.56 1542.27 Q2350.38 1538.71 2350.38 1531.6 Q2350.38 1524.47 2348.56 1520.93 Q2346.75 1517.37 2343.12 1517.37 M2343.12 1513.66 Q2348.93 1513.66 2351.98 1518.27 Q2355.06 1522.85 2355.06 1531.6 Q2355.06 1540.33 2351.98 1544.94 Q2348.93 1549.52 2343.12 1549.52 Q2337.31 1549.52 2334.23 1544.94 Q2331.17 1540.33 2331.17 1531.6 Q2331.17 1522.85 2334.23 1518.27 Q2337.31 1513.66 2343.12 1513.66 Z\" fill=\"#000000\" fill-rule=\"evenodd\" fill-opacity=\"1\" /><path clip-path=\"url(#clip060)\" d=\"M2363.28 1542.97 L2368.16 1542.97 L2368.16 1548.85 L2363.28 1548.85 L2363.28 1542.97 Z\" fill=\"#000000\" fill-rule=\"evenodd\" fill-opacity=\"1\" /><path clip-path=\"url(#clip060)\" d=\"M2388.35 1517.37 Q2384.74 1517.37 2382.91 1520.93 Q2381.1 1524.47 2381.1 1531.6 Q2381.1 1538.71 2382.91 1542.27 Q2384.74 1545.82 2388.35 1545.82 Q2391.98 1545.82 2393.79 1542.27 Q2395.62 1538.71 2395.62 1531.6 Q2395.62 1524.47 2393.79 1520.93 Q2391.98 1517.37 2388.35 1517.37 M2388.35 1513.66 Q2394.16 1513.66 2397.21 1518.27 Q2400.29 1522.85 2400.29 1531.6 Q2400.29 1540.33 2397.21 1544.94 Q2394.16 1549.52 2388.35 1549.52 Q2382.54 1549.52 2379.46 1544.94 Q2376.4 1540.33 2376.4 1531.6 Q2376.4 1522.85 2379.46 1518.27 Q2382.54 1513.66 2388.35 1513.66 Z\" fill=\"#000000\" fill-rule=\"evenodd\" fill-opacity=\"1\" /><polyline clip-path=\"url(#clip062)\" style=\"stroke:#000000; stroke-linecap:round; stroke-linejoin:round; stroke-width:2; stroke-opacity:0.1; fill:none\" points=\"\n",
       "  276.274,1445.72 2352.76,1445.72 \n",
       "  \"/>\n",
       "<polyline clip-path=\"url(#clip062)\" style=\"stroke:#000000; stroke-linecap:round; stroke-linejoin:round; stroke-width:2; stroke-opacity:0.1; fill:none\" points=\"\n",
       "  276.274,1054.05 2352.76,1054.05 \n",
       "  \"/>\n",
       "<polyline clip-path=\"url(#clip062)\" style=\"stroke:#000000; stroke-linecap:round; stroke-linejoin:round; stroke-width:2; stroke-opacity:0.1; fill:none\" points=\"\n",
       "  276.274,662.389 2352.76,662.389 \n",
       "  \"/>\n",
       "<polyline clip-path=\"url(#clip062)\" style=\"stroke:#000000; stroke-linecap:round; stroke-linejoin:round; stroke-width:2; stroke-opacity:0.1; fill:none\" points=\"\n",
       "  276.274,270.726 2352.76,270.726 \n",
       "  \"/>\n",
       "<polyline clip-path=\"url(#clip060)\" style=\"stroke:#000000; stroke-linecap:round; stroke-linejoin:round; stroke-width:4; stroke-opacity:1; fill:none\" points=\"\n",
       "  276.274,1486.45 276.274,47.2441 \n",
       "  \"/>\n",
       "<polyline clip-path=\"url(#clip060)\" style=\"stroke:#000000; stroke-linecap:round; stroke-linejoin:round; stroke-width:4; stroke-opacity:1; fill:none\" points=\"\n",
       "  276.274,1445.72 295.171,1445.72 \n",
       "  \"/>\n",
       "<polyline clip-path=\"url(#clip060)\" style=\"stroke:#000000; stroke-linecap:round; stroke-linejoin:round; stroke-width:4; stroke-opacity:1; fill:none\" points=\"\n",
       "  276.274,1054.05 295.171,1054.05 \n",
       "  \"/>\n",
       "<polyline clip-path=\"url(#clip060)\" style=\"stroke:#000000; stroke-linecap:round; stroke-linejoin:round; stroke-width:4; stroke-opacity:1; fill:none\" points=\"\n",
       "  276.274,662.389 295.171,662.389 \n",
       "  \"/>\n",
       "<polyline clip-path=\"url(#clip060)\" style=\"stroke:#000000; stroke-linecap:round; stroke-linejoin:round; stroke-width:4; stroke-opacity:1; fill:none\" points=\"\n",
       "  276.274,270.726 295.171,270.726 \n",
       "  \"/>\n",
       "<path clip-path=\"url(#clip060)\" d=\"M228.329 1431.51 Q224.718 1431.51 222.889 1435.08 Q221.084 1438.62 221.084 1445.75 Q221.084 1452.86 222.889 1456.42 Q224.718 1459.96 228.329 1459.96 Q231.963 1459.96 233.769 1456.42 Q235.598 1452.86 235.598 1445.75 Q235.598 1438.62 233.769 1435.08 Q231.963 1431.51 228.329 1431.51 M228.329 1427.81 Q234.139 1427.81 237.195 1432.42 Q240.274 1437 240.274 1445.75 Q240.274 1454.48 237.195 1459.08 Q234.139 1463.67 228.329 1463.67 Q222.519 1463.67 219.44 1459.08 Q216.385 1454.48 216.385 1445.75 Q216.385 1437 219.44 1432.42 Q222.519 1427.81 228.329 1427.81 Z\" fill=\"#000000\" fill-rule=\"evenodd\" fill-opacity=\"1\" /><path clip-path=\"url(#clip060)\" d=\"M53.3995 1073.84 L61.0384 1073.84 L61.0384 1047.48 L52.7282 1049.15 L52.7282 1044.89 L60.9921 1043.22 L65.668 1043.22 L65.668 1073.84 L73.3068 1073.84 L73.3068 1077.78 L53.3995 1077.78 L53.3995 1073.84 Z\" fill=\"#000000\" fill-rule=\"evenodd\" fill-opacity=\"1\" /><path clip-path=\"url(#clip060)\" d=\"M82.7512 1071.9 L87.6354 1071.9 L87.6354 1077.78 L82.7512 1077.78 L82.7512 1071.9 Z\" fill=\"#000000\" fill-rule=\"evenodd\" fill-opacity=\"1\" /><path clip-path=\"url(#clip060)\" d=\"M107.821 1046.3 Q104.209 1046.3 102.381 1049.86 Q100.575 1053.41 100.575 1060.53 Q100.575 1067.64 102.381 1071.21 Q104.209 1074.75 107.821 1074.75 Q111.455 1074.75 113.26 1071.21 Q115.089 1067.64 115.089 1060.53 Q115.089 1053.41 113.26 1049.86 Q111.455 1046.3 107.821 1046.3 M107.821 1042.6 Q113.631 1042.6 116.686 1047.2 Q119.765 1051.78 119.765 1060.53 Q119.765 1069.26 116.686 1073.87 Q113.631 1078.45 107.821 1078.45 Q102.01 1078.45 98.9317 1073.87 Q95.8761 1069.26 95.8761 1060.53 Q95.8761 1051.78 98.9317 1047.2 Q102.01 1042.6 107.821 1042.6 Z\" fill=\"#000000\" fill-rule=\"evenodd\" fill-opacity=\"1\" /><path clip-path=\"url(#clip060)\" d=\"M156.154 1052.32 L145.575 1062.94 L156.154 1073.52 L153.399 1076.32 L142.774 1065.7 L132.149 1076.32 L129.418 1073.52 L139.973 1062.94 L129.418 1052.32 L132.149 1049.52 L142.774 1060.14 L153.399 1049.52 L156.154 1052.32 Z\" fill=\"#000000\" fill-rule=\"evenodd\" fill-opacity=\"1\" /><path clip-path=\"url(#clip060)\" d=\"M168.515 1073.84 L176.153 1073.84 L176.153 1047.48 L167.843 1049.15 L167.843 1044.89 L176.107 1043.22 L180.783 1043.22 L180.783 1073.84 L188.422 1073.84 L188.422 1077.78 L168.515 1077.78 L168.515 1073.84 Z\" fill=\"#000000\" fill-rule=\"evenodd\" fill-opacity=\"1\" /><path clip-path=\"url(#clip060)\" d=\"M207.866 1046.3 Q204.255 1046.3 202.426 1049.86 Q200.621 1053.41 200.621 1060.53 Q200.621 1067.64 202.426 1071.21 Q204.255 1074.75 207.866 1074.75 Q211.501 1074.75 213.306 1071.21 Q215.135 1067.64 215.135 1060.53 Q215.135 1053.41 213.306 1049.86 Q211.501 1046.3 207.866 1046.3 M207.866 1042.6 Q213.676 1042.6 216.732 1047.2 Q219.811 1051.78 219.811 1060.53 Q219.811 1069.26 216.732 1073.87 Q213.676 1078.45 207.866 1078.45 Q202.056 1078.45 198.977 1073.87 Q195.922 1069.26 195.922 1060.53 Q195.922 1051.78 198.977 1047.2 Q202.056 1042.6 207.866 1042.6 Z\" fill=\"#000000\" fill-rule=\"evenodd\" fill-opacity=\"1\" /><path clip-path=\"url(#clip060)\" d=\"M232.487 1025.6 L222.895 1040.59 L232.487 1040.59 L232.487 1025.6 M231.49 1022.29 L236.267 1022.29 L236.267 1040.59 L240.274 1040.59 L240.274 1043.75 L236.267 1043.75 L236.267 1050.37 L232.487 1050.37 L232.487 1043.75 L219.811 1043.75 L219.811 1040.08 L231.49 1022.29 Z\" fill=\"#000000\" fill-rule=\"evenodd\" fill-opacity=\"1\" /><path clip-path=\"url(#clip060)\" d=\"M56.6171 682.182 L72.9365 682.182 L72.9365 686.117 L50.9921 686.117 L50.9921 682.182 Q53.6541 679.427 58.2375 674.797 Q62.8439 670.145 64.0245 668.802 Q66.2698 666.279 67.1494 664.543 Q68.0522 662.784 68.0522 661.094 Q68.0522 658.339 66.1078 656.603 Q64.1865 654.867 61.0847 654.867 Q58.8856 654.867 56.4319 655.631 Q54.0014 656.395 51.2236 657.946 L51.2236 653.224 Q54.0477 652.089 56.5014 651.511 Q58.955 650.932 60.9921 650.932 Q66.3624 650.932 69.5568 653.617 Q72.7513 656.302 72.7513 660.793 Q72.7513 662.923 71.9411 664.844 Q71.1541 666.742 69.0476 669.335 Q68.4689 670.006 65.367 673.223 Q62.2652 676.418 56.6171 682.182 Z\" fill=\"#000000\" fill-rule=\"evenodd\" fill-opacity=\"1\" /><path clip-path=\"url(#clip060)\" d=\"M82.7512 680.237 L87.6354 680.237 L87.6354 686.117 L82.7512 686.117 L82.7512 680.237 Z\" fill=\"#000000\" fill-rule=\"evenodd\" fill-opacity=\"1\" /><path clip-path=\"url(#clip060)\" d=\"M107.821 654.636 Q104.209 654.636 102.381 658.2 Q100.575 661.742 100.575 668.872 Q100.575 675.978 102.381 679.543 Q104.209 683.084 107.821 683.084 Q111.455 683.084 113.26 679.543 Q115.089 675.978 115.089 668.872 Q115.089 661.742 113.26 658.2 Q111.455 654.636 107.821 654.636 M107.821 650.932 Q113.631 650.932 116.686 655.538 Q119.765 660.122 119.765 668.872 Q119.765 677.598 116.686 682.205 Q113.631 686.788 107.821 686.788 Q102.01 686.788 98.9317 682.205 Q95.8761 677.598 95.8761 668.872 Q95.8761 660.122 98.9317 655.538 Q102.01 650.932 107.821 650.932 Z\" fill=\"#000000\" fill-rule=\"evenodd\" fill-opacity=\"1\" /><path clip-path=\"url(#clip060)\" d=\"M156.154 660.654 L145.575 671.279 L156.154 681.858 L153.399 684.659 L142.774 674.034 L132.149 684.659 L129.418 681.858 L139.973 671.279 L129.418 660.654 L132.149 657.853 L142.774 668.478 L153.399 657.853 L156.154 660.654 Z\" fill=\"#000000\" fill-rule=\"evenodd\" fill-opacity=\"1\" /><path clip-path=\"url(#clip060)\" d=\"M168.515 682.182 L176.153 682.182 L176.153 655.816 L167.843 657.483 L167.843 653.224 L176.107 651.557 L180.783 651.557 L180.783 682.182 L188.422 682.182 L188.422 686.117 L168.515 686.117 L168.515 682.182 Z\" fill=\"#000000\" fill-rule=\"evenodd\" fill-opacity=\"1\" /><path clip-path=\"url(#clip060)\" d=\"M207.866 654.636 Q204.255 654.636 202.426 658.2 Q200.621 661.742 200.621 668.872 Q200.621 675.978 202.426 679.543 Q204.255 683.084 207.866 683.084 Q211.501 683.084 213.306 679.543 Q215.135 675.978 215.135 668.872 Q215.135 661.742 213.306 658.2 Q211.501 654.636 207.866 654.636 M207.866 650.932 Q213.676 650.932 216.732 655.538 Q219.811 660.122 219.811 668.872 Q219.811 677.598 216.732 682.205 Q213.676 686.788 207.866 686.788 Q202.056 686.788 198.977 682.205 Q195.922 677.598 195.922 668.872 Q195.922 660.122 198.977 655.538 Q202.056 650.932 207.866 650.932 Z\" fill=\"#000000\" fill-rule=\"evenodd\" fill-opacity=\"1\" /><path clip-path=\"url(#clip060)\" d=\"M232.487 633.937 L222.895 648.926 L232.487 648.926 L232.487 633.937 M231.49 630.626 L236.267 630.626 L236.267 648.926 L240.274 648.926 L240.274 652.086 L236.267 652.086 L236.267 658.706 L232.487 658.706 L232.487 652.086 L219.811 652.086 L219.811 648.419 L231.49 630.626 Z\" fill=\"#000000\" fill-rule=\"evenodd\" fill-opacity=\"1\" /><path clip-path=\"url(#clip060)\" d=\"M66.7559 275.82 Q70.1124 276.537 71.9874 278.806 Q73.8855 281.074 73.8855 284.407 Q73.8855 289.523 70.367 292.324 Q66.8485 295.125 60.3671 295.125 Q58.1912 295.125 55.8764 294.685 Q53.5847 294.268 51.131 293.412 L51.131 288.898 Q53.0754 290.032 55.3903 290.611 Q57.7051 291.19 60.2282 291.19 Q64.6263 291.19 66.918 289.454 Q69.2328 287.718 69.2328 284.407 Q69.2328 281.352 67.08 279.639 Q64.9504 277.903 61.131 277.903 L57.1032 277.903 L57.1032 274.06 L61.3161 274.06 Q64.7652 274.06 66.5939 272.695 Q68.4226 271.306 68.4226 268.713 Q68.4226 266.051 66.5245 264.639 Q64.6495 263.204 61.131 263.204 Q59.2097 263.204 57.0106 263.62 Q54.8115 264.037 52.1727 264.917 L52.1727 260.75 Q54.8347 260.009 57.1495 259.639 Q59.4875 259.269 61.5476 259.269 Q66.8717 259.269 69.9735 261.699 Q73.0753 264.107 73.0753 268.227 Q73.0753 271.097 71.4318 273.088 Q69.7883 275.056 66.7559 275.82 Z\" fill=\"#000000\" fill-rule=\"evenodd\" fill-opacity=\"1\" /><path clip-path=\"url(#clip060)\" d=\"M82.7512 288.574 L87.6354 288.574 L87.6354 294.454 L82.7512 294.454 L82.7512 288.574 Z\" fill=\"#000000\" fill-rule=\"evenodd\" fill-opacity=\"1\" /><path clip-path=\"url(#clip060)\" d=\"M107.821 262.972 Q104.209 262.972 102.381 266.537 Q100.575 270.079 100.575 277.208 Q100.575 284.315 102.381 287.88 Q104.209 291.421 107.821 291.421 Q111.455 291.421 113.26 287.88 Q115.089 284.315 115.089 277.208 Q115.089 270.079 113.26 266.537 Q111.455 262.972 107.821 262.972 M107.821 259.269 Q113.631 259.269 116.686 263.875 Q119.765 268.458 119.765 277.208 Q119.765 285.935 116.686 290.542 Q113.631 295.125 107.821 295.125 Q102.01 295.125 98.9317 290.542 Q95.8761 285.935 95.8761 277.208 Q95.8761 268.458 98.9317 263.875 Q102.01 259.269 107.821 259.269 Z\" fill=\"#000000\" fill-rule=\"evenodd\" fill-opacity=\"1\" /><path clip-path=\"url(#clip060)\" d=\"M156.154 268.991 L145.575 279.616 L156.154 290.194 L153.399 292.995 L142.774 282.37 L132.149 292.995 L129.418 290.194 L139.973 279.616 L129.418 268.991 L132.149 266.19 L142.774 276.815 L153.399 266.19 L156.154 268.991 Z\" fill=\"#000000\" fill-rule=\"evenodd\" fill-opacity=\"1\" /><path clip-path=\"url(#clip060)\" d=\"M168.515 290.518 L176.153 290.518 L176.153 264.153 L167.843 265.82 L167.843 261.56 L176.107 259.894 L180.783 259.894 L180.783 290.518 L188.422 290.518 L188.422 294.454 L168.515 294.454 L168.515 290.518 Z\" fill=\"#000000\" fill-rule=\"evenodd\" fill-opacity=\"1\" /><path clip-path=\"url(#clip060)\" d=\"M207.866 262.972 Q204.255 262.972 202.426 266.537 Q200.621 270.079 200.621 277.208 Q200.621 284.315 202.426 287.88 Q204.255 291.421 207.866 291.421 Q211.501 291.421 213.306 287.88 Q215.135 284.315 215.135 277.208 Q215.135 270.079 213.306 266.537 Q211.501 262.972 207.866 262.972 M207.866 259.269 Q213.676 259.269 216.732 263.875 Q219.811 268.458 219.811 277.208 Q219.811 285.935 216.732 290.542 Q213.676 295.125 207.866 295.125 Q202.056 295.125 198.977 290.542 Q195.922 285.935 195.922 277.208 Q195.922 268.458 198.977 263.875 Q202.056 259.269 207.866 259.269 Z\" fill=\"#000000\" fill-rule=\"evenodd\" fill-opacity=\"1\" /><path clip-path=\"url(#clip060)\" d=\"M232.487 242.273 L222.895 257.263 L232.487 257.263 L232.487 242.273 M231.49 238.963 L236.267 238.963 L236.267 257.263 L240.274 257.263 L240.274 260.423 L236.267 260.423 L236.267 267.043 L232.487 267.043 L232.487 260.423 L219.811 260.423 L219.811 256.755 L231.49 238.963 Z\" fill=\"#000000\" fill-rule=\"evenodd\" fill-opacity=\"1\" /><path clip-path=\"url(#clip062)\" d=\"\n",
       "M390.484 87.9763 L390.484 1445.72 L541.346 1445.72 L541.346 87.9763 L390.484 87.9763 L390.484 87.9763  Z\n",
       "  \" fill=\"#009af9\" fill-rule=\"evenodd\" fill-opacity=\"1\"/>\n",
       "<polyline clip-path=\"url(#clip062)\" style=\"stroke:#000000; stroke-linecap:round; stroke-linejoin:round; stroke-width:4; stroke-opacity:1; fill:none\" points=\"\n",
       "  390.484,87.9763 390.484,1445.72 541.346,1445.72 541.346,87.9763 390.484,87.9763 \n",
       "  \"/>\n",
       "<path clip-path=\"url(#clip062)\" d=\"\n",
       "M579.061 850.636 L579.061 1445.72 L729.924 1445.72 L729.924 850.636 L579.061 850.636 L579.061 850.636  Z\n",
       "  \" fill=\"#009af9\" fill-rule=\"evenodd\" fill-opacity=\"1\"/>\n",
       "<polyline clip-path=\"url(#clip062)\" style=\"stroke:#000000; stroke-linecap:round; stroke-linejoin:round; stroke-width:4; stroke-opacity:1; fill:none\" points=\"\n",
       "  579.061,850.636 579.061,1445.72 729.924,1445.72 729.924,850.636 579.061,850.636 \n",
       "  \"/>\n",
       "<path clip-path=\"url(#clip062)\" d=\"\n",
       "M767.639 279.221 L767.639 1445.72 L918.501 1445.72 L918.501 279.221 L767.639 279.221 L767.639 279.221  Z\n",
       "  \" fill=\"#009af9\" fill-rule=\"evenodd\" fill-opacity=\"1\"/>\n",
       "<polyline clip-path=\"url(#clip062)\" style=\"stroke:#000000; stroke-linecap:round; stroke-linejoin:round; stroke-width:4; stroke-opacity:1; fill:none\" points=\"\n",
       "  767.639,279.221 767.639,1445.72 918.501,1445.72 918.501,279.221 767.639,279.221 \n",
       "  \"/>\n",
       "<path clip-path=\"url(#clip062)\" d=\"\n",
       "M956.217 337.516 L956.217 1445.72 L1107.08 1445.72 L1107.08 337.516 L956.217 337.516 L956.217 337.516  Z\n",
       "  \" fill=\"#009af9\" fill-rule=\"evenodd\" fill-opacity=\"1\"/>\n",
       "<polyline clip-path=\"url(#clip062)\" style=\"stroke:#000000; stroke-linecap:round; stroke-linejoin:round; stroke-width:4; stroke-opacity:1; fill:none\" points=\"\n",
       "  956.217,337.516 956.217,1445.72 1107.08,1445.72 1107.08,337.516 956.217,337.516 \n",
       "  \"/>\n",
       "<path clip-path=\"url(#clip062)\" d=\"\n",
       "M1144.79 495.407 L1144.79 1445.72 L1295.66 1445.72 L1295.66 495.407 L1144.79 495.407 L1144.79 495.407  Z\n",
       "  \" fill=\"#009af9\" fill-rule=\"evenodd\" fill-opacity=\"1\"/>\n",
       "<polyline clip-path=\"url(#clip062)\" style=\"stroke:#000000; stroke-linecap:round; stroke-linejoin:round; stroke-width:4; stroke-opacity:1; fill:none\" points=\"\n",
       "  1144.79,495.407 1144.79,1445.72 1295.66,1445.72 1295.66,495.407 1144.79,495.407 \n",
       "  \"/>\n",
       "<path clip-path=\"url(#clip062)\" d=\"\n",
       "M1333.37 437.591 L1333.37 1445.72 L1484.23 1445.72 L1484.23 437.591 L1333.37 437.591 L1333.37 437.591  Z\n",
       "  \" fill=\"#009af9\" fill-rule=\"evenodd\" fill-opacity=\"1\"/>\n",
       "<polyline clip-path=\"url(#clip062)\" style=\"stroke:#000000; stroke-linecap:round; stroke-linejoin:round; stroke-width:4; stroke-opacity:1; fill:none\" points=\"\n",
       "  1333.37,437.591 1333.37,1445.72 1484.23,1445.72 1484.23,437.591 1333.37,437.591 \n",
       "  \"/>\n",
       "<path clip-path=\"url(#clip062)\" d=\"\n",
       "M1521.95 370.625 L1521.95 1445.72 L1672.81 1445.72 L1672.81 370.625 L1521.95 370.625 L1521.95 370.625  Z\n",
       "  \" fill=\"#009af9\" fill-rule=\"evenodd\" fill-opacity=\"1\"/>\n",
       "<polyline clip-path=\"url(#clip062)\" style=\"stroke:#000000; stroke-linecap:round; stroke-linejoin:round; stroke-width:4; stroke-opacity:1; fill:none\" points=\"\n",
       "  1521.95,370.625 1521.95,1445.72 1672.81,1445.72 1672.81,370.625 1521.95,370.625 \n",
       "  \"/>\n",
       "<path clip-path=\"url(#clip062)\" d=\"\n",
       "M1710.53 548.949 L1710.53 1445.72 L1861.39 1445.72 L1861.39 548.949 L1710.53 548.949 L1710.53 548.949  Z\n",
       "  \" fill=\"#009af9\" fill-rule=\"evenodd\" fill-opacity=\"1\"/>\n",
       "<polyline clip-path=\"url(#clip062)\" style=\"stroke:#000000; stroke-linecap:round; stroke-linejoin:round; stroke-width:4; stroke-opacity:1; fill:none\" points=\"\n",
       "  1710.53,548.949 1710.53,1445.72 1861.39,1445.72 1861.39,548.949 1710.53,548.949 \n",
       "  \"/>\n",
       "<path clip-path=\"url(#clip062)\" d=\"\n",
       "M1899.11 269.975 L1899.11 1445.72 L2049.97 1445.72 L2049.97 269.975 L1899.11 269.975 L1899.11 269.975  Z\n",
       "  \" fill=\"#009af9\" fill-rule=\"evenodd\" fill-opacity=\"1\"/>\n",
       "<polyline clip-path=\"url(#clip062)\" style=\"stroke:#000000; stroke-linecap:round; stroke-linejoin:round; stroke-width:4; stroke-opacity:1; fill:none\" points=\"\n",
       "  1899.11,269.975 1899.11,1445.72 2049.97,1445.72 2049.97,269.975 1899.11,269.975 \n",
       "  \"/>\n",
       "<path clip-path=\"url(#clip062)\" d=\"\n",
       "M2087.68 485.82 L2087.68 1445.72 L2238.55 1445.72 L2238.55 485.82 L2087.68 485.82 L2087.68 485.82  Z\n",
       "  \" fill=\"#009af9\" fill-rule=\"evenodd\" fill-opacity=\"1\"/>\n",
       "<polyline clip-path=\"url(#clip062)\" style=\"stroke:#000000; stroke-linecap:round; stroke-linejoin:round; stroke-width:4; stroke-opacity:1; fill:none\" points=\"\n",
       "  2087.68,485.82 2087.68,1445.72 2238.55,1445.72 2238.55,485.82 2087.68,485.82 \n",
       "  \"/>\n",
       "<circle clip-path=\"url(#clip062)\" style=\"fill:#009af9; stroke:none; fill-opacity:0\" cx=\"465.915\" cy=\"87.9763\" r=\"2\"/>\n",
       "<circle clip-path=\"url(#clip062)\" style=\"fill:#009af9; stroke:none; fill-opacity:0\" cx=\"654.493\" cy=\"850.636\" r=\"2\"/>\n",
       "<circle clip-path=\"url(#clip062)\" style=\"fill:#009af9; stroke:none; fill-opacity:0\" cx=\"843.07\" cy=\"279.221\" r=\"2\"/>\n",
       "<circle clip-path=\"url(#clip062)\" style=\"fill:#009af9; stroke:none; fill-opacity:0\" cx=\"1031.65\" cy=\"337.516\" r=\"2\"/>\n",
       "<circle clip-path=\"url(#clip062)\" style=\"fill:#009af9; stroke:none; fill-opacity:0\" cx=\"1220.23\" cy=\"495.407\" r=\"2\"/>\n",
       "<circle clip-path=\"url(#clip062)\" style=\"fill:#009af9; stroke:none; fill-opacity:0\" cx=\"1408.8\" cy=\"437.591\" r=\"2\"/>\n",
       "<circle clip-path=\"url(#clip062)\" style=\"fill:#009af9; stroke:none; fill-opacity:0\" cx=\"1597.38\" cy=\"370.625\" r=\"2\"/>\n",
       "<circle clip-path=\"url(#clip062)\" style=\"fill:#009af9; stroke:none; fill-opacity:0\" cx=\"1785.96\" cy=\"548.949\" r=\"2\"/>\n",
       "<circle clip-path=\"url(#clip062)\" style=\"fill:#009af9; stroke:none; fill-opacity:0\" cx=\"1974.54\" cy=\"269.975\" r=\"2\"/>\n",
       "<circle clip-path=\"url(#clip062)\" style=\"fill:#009af9; stroke:none; fill-opacity:0\" cx=\"2163.11\" cy=\"485.82\" r=\"2\"/>\n",
       "</svg>\n"
      ]
     },
     "metadata": {},
     "output_type": "display_data"
    }
   ],
   "source": [
    "bar(0:9, l_mean, legend=false)"
   ]
  },
  {
   "cell_type": "markdown",
   "id": "ec8766a0",
   "metadata": {
    "colab_type": "text",
    "id": "sABXrPHwrRCU"
   },
   "source": [
    "As we can see there are some differences in intensity. The digit “1” is the less intense while the digit “0” is the most intense. So this new feature seems to have some predictive value if you wanted to know if say your digit is a “1” or not."
   ]
  },
  {
   "cell_type": "code",
   "execution_count": 5,
   "id": "504bc748",
   "metadata": {},
   "outputs": [
    {
     "data": {
      "text/plain": [
       "(60000, 1)"
      ]
     },
     "metadata": {},
     "output_type": "display_data"
    }
   ],
   "source": [
    "#TODO compute average intensity for each data sample\n",
    "intensity = mean(train_x_flatten, dims=2)\n",
    "size(intensity)"
   ]
  },
  {
   "cell_type": "markdown",
   "id": "498e0421",
   "metadata": {
    "colab_type": "text",
    "id": "xff4VjFerRCn"
   },
   "source": [
    "Some digits are symmetric (1, 3, 8, 0) some are not (2, 4, 5, 6, 9). Creating a new feature capturing this could be useful. Specifically, we calculate $s = -\\frac{s_1 + s_2}{2}$ for each image:\n",
    "- $s_1$: flip the image along y-axis and compute the mean value of result\n",
    "- $s_2$: flip the image along x-axis and compute the mean value of result"
   ]
  },
  {
   "cell_type": "code",
   "execution_count": 6,
   "id": "13b9bbd9",
   "metadata": {},
   "outputs": [
    {
     "data": {
      "text/plain": [
       "(60000,)"
      ]
     },
     "metadata": {},
     "output_type": "display_data"
    }
   ],
   "source": [
    "function compute_symmetry(train_x)\n",
    "    symmetry = []\n",
    "    for i in 1:size(train_x)[1]\n",
    "        img = reshape(train_x[i,:], (28,28))\n",
    "        s1 = mean(abs.(img - reverse(img, dims=1)))\n",
    "        s2 = mean(abs.(img - reverse(img, dims=2)))\n",
    "        s = -0.5 .* (s1 + s2)\n",
    "        append!(symmetry, s)\n",
    "    end\n",
    "    return symmetry\n",
    "end\n",
    "\n",
    "symmetry = compute_symmetry(train_x_flatten)\n",
    "size(symmetry)"
   ]
  },
  {
   "cell_type": "markdown",
   "id": "a8b78faf",
   "metadata": {},
   "source": [
    "Visualize 10 samples in order to illustrate symmetry"
   ]
  },
  {
   "cell_type": "code",
   "execution_count": 7,
   "id": "4b8b85e5",
   "metadata": {},
   "outputs": [
    {
     "data": {
      "text/html": [
       "<table><tbody><tr><td style='text-align:center;vertical-align:middle; margin: 0.5em;border:1px #90999f solid;border-collapse:collapse'><img style='max-width: 100px; max-height:100px;display:inline' src=\"data:image/png;base64,iVBORw0KGgoAAAANSUhEUgAAAHAAAABwCAAAAADji6uXAAAABGdBTUEAALGPC/xhBQAAAAFzUkdCAK7OHOkAAAAgY0hSTQAAeiYAAICEAAD6AAAAgOgAAHUwAADqYAAAOpgAABdwnLpRPAAAARlJREFUaAW9wUtuYgEQwEC35PtfuWfBAiUI3oeMqyQmMYlJTGISk5jEJCYxiUlMYhKTmMQkJjGJSUwuWq4ZfpKYxCQmB5a/JTGJSUw+WL4zvJKYxCQmf2Q4R2ISk5h8MMDy3gDLNRKTmMTkwADLq+FhuEZiEpOYnDA8LE8LDNdJTGISk5jEJCYxuWCA5Wl5Gs6RmMQkJhcNsLxaYDgmMYlJTG4YYHm1wPCZxCQmMblpgOU6iUlMYvKF4WF5WmB4T2ISk5jctNwjMYlJTC5aPhs+k5jEJCYnLceGYxKTmMTkwHLOcI7EJCYxeWM5Z7hGYhKTmPyynDPcIzGJSUwuGr4jMYlJTH4Z/i+JSUxiEpOYxCQmMYlJTGL/AOuLGMQ6CbkDAAAAAElFTkSuQmCC\"></td><td style='text-align:center;vertical-align:middle; margin: 0.5em;border:1px #90999f solid;border-collapse:collapse'><img style='max-width: 100px; max-height:100px;display:inline' src=\"data:image/png;base64,iVBORw0KGgoAAAANSUhEUgAAAHAAAABwCAAAAADji6uXAAAABGdBTUEAALGPC/xhBQAAAAFzUkdCAK7OHOkAAAAgY0hSTQAAeiYAAICEAAD6AAAAgOgAAHUwAADqYAAAOpgAABdwnLpRPAAAAQJJREFUaAW9wUGOg0AQwECP5P9/ufeQU0QgBFhXSUxiEpOYxCQmMYlJTGISk5jEJCYxickNw9bimMQkJjG5aLhGYhKTmFww7BteFp9JTGISkx8M90lMYhKTmMQkJjE5aXiGxCQmMTlh+G7xMrwMsNiSmMQkJl8Mny2ukZjEJCYHhudJTGISkx8s7pOYxCQmJy2eITGJSUx2DP9DYhKTmDxkOEdiEpOYnLA4NmwtPpOYxCQmNw3vFsckJjGJyQ3Du8V3EpOYxOSE4TkSk5jE5AGL8yQmMYnJDYvfSUxiEpMdCxj2La6RmMQkJgcWz5OYxCQmMYlJTGISk5jEJCYxiUlMYn+JIhO/PQpEBAAAAABJRU5ErkJg\"></td><td style='text-align:center;vertical-align:middle; margin: 0.5em;border:1px #90999f solid;border-collapse:collapse'><img style='max-width: 100px; max-height:100px;display:inline' src=\"data:image/png;base64,iVBORw0KGgoAAAANSUhEUgAAAHAAAABwCAAAAADji6uXAAAABGdBTUEAALGPC/xhBQAAAAFzUkdCAK7OHOkAAAAgY0hSTQAAeiYAAICEAAD6AAAAgOgAAHUwAADqYAAAOpgAABdwnLpRPAAAAOFJREFUaAW9wUkOAkEQwLC0lP9/uThwALGOoCe2xCQmMYlJTGISk5jEJCYxiUlMYhKTmMQkJjGJyWbDzeKZxCQmMXkwXC3OITGJSUw2Gr6TmMQkJidZvCYxiUlMYhKTmMTkznA+iUlMYrLJcIzEJCYxiUlMYhKTPwyvLd6TmMQkJgcM+0hMYhKTN4bfLD6TmMQkJncWMHy2eDYcJzGJSUweLM4lMYlJTGISk5jEJCYxiUlMYhKTmMQkJjGJSUxiEpOYxCQmMYlJTGISk5jEZIPFcRKTmMQkJjGJSUxiEpOYxC6wPQvAxfFFGAAAAABJRU5ErkJg\"></td><td style='text-align:center;vertical-align:middle; margin: 0.5em;border:1px #90999f solid;border-collapse:collapse'><img style='max-width: 100px; max-height:100px;display:inline' src=\"data:image/png;base64,iVBORw0KGgoAAAANSUhEUgAAAHAAAABwCAAAAADji6uXAAAABGdBTUEAALGPC/xhBQAAAAFzUkdCAK7OHOkAAAAgY0hSTQAAeiYAAICEAAD6AAAAgOgAAHUwAADqYAAAOpgAABdwnLpRPAAAAOVJREFUaAW9wUFqwDAQwEAZ9P8vb88lpYkToxmJSUxiEpOYxCQmMYlJTGISk5jEJCYxiUlMYhKTQ4bfFn+TmMQkJgcMz0lMYhKTmMQkJjH5aNgjMYlJTD4Yrhb/k5jEJCYHLe5JTGISk5eGdyQmMYnJC8PV4hmJSUxiEpOYxCQmm4arxXMSk5jEZMNwtdgjMYlJTGISk5jE5KHharFPYhKTmMQkJjGJyUuLdyQmMYnJA8M5EpOYxOTGcJbEJCYx2bT4RmISk5jEJCYxiUlMYhKTmNxYnCUxiUlMYhKTmMQkJjGJSewHh+wMwBjFURMAAAAASUVORK5C\"></td><td style='text-align:center;vertical-align:middle; margin: 0.5em;border:1px #90999f solid;border-collapse:collapse'><img style='max-width: 100px; max-height:100px;display:inline' src=\"data:image/png;base64,iVBORw0KGgoAAAANSUhEUgAAAHAAAABwCAAAAADji6uXAAAABGdBTUEAALGPC/xhBQAAAAFzUkdCAK7OHOkAAAAgY0hSTQAAeiYAAICEAAD6AAAAgOgAAHUwAADqYAAAOpgAABdwnLpRPAAAAQFJREFUaAW9wUGO20AQwEA2wP9/uXPYQxA4tqVZgVUSk5jEJCYxiUlMYhKTmMQkJjGJSUxiEpOYxCQmMYlJTGISk5jEJCY3Ld8N70lMYhKTG5bfk5jEJCYXLM+RmMQkJoeGH8s9EpOYxOSL5dXw3vCZxCQmMflgeTX8WF4N30lMYhKTN5Z/DX8t5yQmMYnJRctnwzUSk5jE5AHDdRKTmMTkjQGW50lMYhKTD4b/W85JTGISk5jEJCYxOTDAckZiEpOYHFjOSUxiEpOYxCQmMYlJTGISkwMDLGckJjGJyQMWGK6RmMQkJg9ZYPhOYhKTmBwaYLlPYhKTmPzCcJ/EJCaxP4awE8CyhygFAAAAAElFTkSuQmCC\"></td><td style='text-align:center;vertical-align:middle; margin: 0.5em;border:1px #90999f solid;border-collapse:collapse'><img style='max-width: 100px; max-height:100px;display:inline' src=\"data:image/png;base64,iVBORw0KGgoAAAANSUhEUgAAAHAAAABwCAAAAADji6uXAAAABGdBTUEAALGPC/xhBQAAAAFzUkdCAK7OHOkAAAAgY0hSTQAAeiYAAICEAAD6AAAAgOgAAHUwAADqYAAAOpgAABdwnLpRPAAAAQ1JREFUaAW9wTFywgAQwEDdjP7/5UuRggIbjEm0KzGJSUxiEpOYxCQmMYlJTGISk5jEJCYxiUlMYvKF5dnwmsQkJjG5YblPYhKTmHxgeW+B4ZzEJCYxuWD5OxKTmMTkSwMs10lMYhKTLwyfk5jEJCY3DPdJTGISkwuGvyMxiUlMbljuk5jEJCYXLdcMr0lMYhKTN5bPLDCck5jEJCYvLMcGWM4tMByTmMQkJieWYwMs7y0Pw4PEJCYxObAcG2B5NsByjcQkJjH5wPJs+DU8LOckJjGJyReGY8M5iUlMYnLTcI/EJCYx+cDwPYlJTGJyYPg/EpOYxCQmMYlJTGISk5jEJCYxiUlMYhKTmMR+AEzLFsHwL8oLAAAAAElFTkSuQmCC\"></td><td style='text-align:center;vertical-align:middle; margin: 0.5em;border:1px #90999f solid;border-collapse:collapse'><img style='max-width: 100px; max-height:100px;display:inline' src=\"data:image/png;base64,iVBORw0KGgoAAAANSUhEUgAAAHAAAABwCAAAAADji6uXAAAABGdBTUEAALGPC/xhBQAAAAFzUkdCAK7OHOkAAAAgY0hSTQAAeiYAAICEAAD6AAAAgOgAAHUwAADqYAAAOpgAABdwnLpRPAAAANlJREFUaAW9wbFtBDEABDEKmP5blmNH/vszlsxYxjKWsYxlLGMZy1jGMpaxjGUsYxnLQ9dvxzMZy1jG8sD1XsYylrGMZSxjGcsDB9c7GctYxvLA9V7GMpaxvHRxfC5jGctYHji43slYxjKWhw6u72UsYxnLWMYylrGMZSxjGctYxjKWsYxlLGMZy1jGMpax/IOL4zMZy1jGMpaxjGUsYxnLWMbyhYPrt4vjbxnLWMYylrGMZSxjGctYxjKWsYxlLF86vpOxjGUsYxnLWMYylrGMZSxjGctYxn4A32YLwPT9QrYAAAAASUVORK5C\"></td><td style='text-align:center;vertical-align:middle; margin: 0.5em;border:1px #90999f solid;border-collapse:collapse'><img style='max-width: 100px; max-height:100px;display:inline' src=\"data:image/png;base64,iVBORw0KGgoAAAANSUhEUgAAAHAAAABwCAAAAADji6uXAAAABGdBTUEAALGPC/xhBQAAAAFzUkdCAK7OHOkAAAAgY0hSTQAAeiYAAICEAAD6AAAAgOgAAHUwAADqYAAAOpgAABdwnLpRPAAAAP9JREFUaAW9wVFOwzAUAMG1tPe/8uMTIRJqp2VnJCYxiUlMYhKTmMQkJjGJSUxiEpOYxCQmMYlJTA4M+xbXJCYxicmG4dwAi98kJjGJSUxiEpOYxCQmMYnJA4ufhn0Sk5jEZMPi3OKaxCQmMXnTcEZiEpOYPDQ8IzGJSUw2DGcW9yQmMYnJC8O+xWsSk5jE5IMGWPxNYhKTmLywgOFzJCYxicmGxb3hjMQkJjGJSUxiEpMbw7fFteGcxCQmMbkw/G14TmISk5hsGPYsXpOYxCQmH7LYIzGJSUzetDgjMYlJTC4sYLi3eE5iEpOY3Fj8D4lJTGISk5jEJCYxiUlMYl/UrBLBewH0uQAAAABJRU5ErkJg\"></td><td style='text-align:center;vertical-align:middle; margin: 0.5em;border:1px #90999f solid;border-collapse:collapse'><img style='max-width: 100px; max-height:100px;display:inline' src=\"data:image/png;base64,iVBORw0KGgoAAAANSUhEUgAAAHAAAABwCAAAAADji6uXAAAABGdBTUEAALGPC/xhBQAAAAFzUkdCAK7OHOkAAAAgY0hSTQAAeiYAAICEAAD6AAAAgOgAAHUwAADqYAAAOpgAABdwnLpRPAAAAMhJREFUaAW9wbENwDAMwDAZ0P8vu2PXJgVESkxiEpOYxCQmMYlJTGISk5jEJCYxiUlMYhKTmBxaXsM5iUlMYvLDAsMZiUlMYhKTmMQkJjGJSUxiEpOYxCQmMYlJTGISk5jEJCaHBljuSUxiEpOYxCQmMYlJTGISk5jEJCYxiUlMYhKTnxYYvpOYxCQmMYlJTGJyYYDljsQkJjGJSUxiEpOYxCQmMYlJTGISk5jEJCYxiUlMYhKTS8MdiUlMYhKTmMQkJjGJSUxiD80uBsIuYeKkAAAAAElFTkSuQmCC\"></td><td style='text-align:center;vertical-align:middle; margin: 0.5em;border:1px #90999f solid;border-collapse:collapse'><img style='max-width: 100px; max-height:100px;display:inline' src=\"data:image/png;base64,iVBORw0KGgoAAAANSUhEUgAAAHAAAABwCAAAAADji6uXAAAABGdBTUEAALGPC/xhBQAAAAFzUkdCAK7OHOkAAAAgY0hSTQAAeiYAAICEAAD6AAAAgOgAAHUwAADqYAAAOpgAABdwnLpRPAAAAQhJREFUaAW9wUmKw1AUwEA90P2v/HvRi2DieAiOqiQmMYlJTGISk5jEJCYxiUlMYhKTmMTkRxb/hi2JSUxi8gOLzyQmMYnJwxbHJCYxickPDe8kJjGJyU2Ll2FrcU5iEpOY/MiwT2ISk5g8ZHGNxCQmMblhsW9xncQkJjG5aLE17BuOSUxiEpMLFlvDy+IeiUlMYnJgsW+xbzgnMYlJTB4yXCMxiUlMPljcs/g3HJOYxCQmFwwvi8+GcxKTmMTkxPAsiUlMYvLB8G6xNdwnMYlJTGISk5jE5KLF1vAdiUlMYvKF4XsSk5jEJCYxiUlMLhqeITGJSUxiEpOYxCQmMYlJTGISk5jE/gCVNBPB/mKP8wAAAABJRU5ErkJg\"></td></tr></tbody></table><div><small>(a vector displayed as a row to save space)</small></div>"
      ],
      "text/plain": [
       "10-element Vector{Base.ReinterpretArray{Gray{Float32}, 2, Float32, Matrix{Float32}, true}}:\n",
       " [Gray{Float32}(0.0f0) Gray{Float32}(0.0f0) … Gray{Float32}(0.0f0) Gray{Float32}(0.0f0); Gray{Float32}(0.0f0) Gray{Float32}(0.0f0) … Gray{Float32}(0.0f0) Gray{Float32}(0.0f0); … ; Gray{Float32}(0.0f0) Gray{Float32}(0.0f0) … Gray{Float32}(0.0f0) Gray{Float32}(0.0f0); Gray{Float32}(0.0f0) Gray{Float32}(0.0f0) … Gray{Float32}(0.0f0) Gray{Float32}(0.0f0)]\n",
       " [Gray{Float32}(0.0f0) Gray{Float32}(0.0f0) … Gray{Float32}(0.0f0) Gray{Float32}(0.0f0); Gray{Float32}(0.0f0) Gray{Float32}(0.0f0) … Gray{Float32}(0.0f0) Gray{Float32}(0.0f0); … ; Gray{Float32}(0.0f0) Gray{Float32}(0.0f0) … Gray{Float32}(0.0f0) Gray{Float32}(0.0f0); Gray{Float32}(0.0f0) Gray{Float32}(0.0f0) … Gray{Float32}(0.0f0) Gray{Float32}(0.0f0)]\n",
       " [Gray{Float32}(0.0f0) Gray{Float32}(0.0f0) … Gray{Float32}(0.0f0) Gray{Float32}(0.0f0); Gray{Float32}(0.0f0) Gray{Float32}(0.0f0) … Gray{Float32}(0.0f0) Gray{Float32}(0.0f0); … ; Gray{Float32}(0.0f0) Gray{Float32}(0.0f0) … Gray{Float32}(0.0f0) Gray{Float32}(0.0f0); Gray{Float32}(0.0f0) Gray{Float32}(0.0f0) … Gray{Float32}(0.0f0) Gray{Float32}(0.0f0)]\n",
       " [Gray{Float32}(0.0f0) Gray{Float32}(0.0f0) … Gray{Float32}(0.0f0) Gray{Float32}(0.0f0); Gray{Float32}(0.0f0) Gray{Float32}(0.0f0) … Gray{Float32}(0.0f0) Gray{Float32}(0.0f0); … ; Gray{Float32}(0.0f0) Gray{Float32}(0.0f0) … Gray{Float32}(0.0f0) Gray{Float32}(0.0f0); Gray{Float32}(0.0f0) Gray{Float32}(0.0f0) … Gray{Float32}(0.0f0) Gray{Float32}(0.0f0)]\n",
       " [Gray{Float32}(0.0f0) Gray{Float32}(0.0f0) … Gray{Float32}(0.0f0) Gray{Float32}(0.0f0); Gray{Float32}(0.0f0) Gray{Float32}(0.0f0) … Gray{Float32}(0.0f0) Gray{Float32}(0.0f0); … ; Gray{Float32}(0.0f0) Gray{Float32}(0.0f0) … Gray{Float32}(0.0f0) Gray{Float32}(0.0f0); Gray{Float32}(0.0f0) Gray{Float32}(0.0f0) … Gray{Float32}(0.0f0) Gray{Float32}(0.0f0)]\n",
       " [Gray{Float32}(0.0f0) Gray{Float32}(0.0f0) … Gray{Float32}(0.0f0) Gray{Float32}(0.0f0); Gray{Float32}(0.0f0) Gray{Float32}(0.0f0) … Gray{Float32}(0.0f0) Gray{Float32}(0.0f0); … ; Gray{Float32}(0.0f0) Gray{Float32}(0.0f0) … Gray{Float32}(0.0f0) Gray{Float32}(0.0f0); Gray{Float32}(0.0f0) Gray{Float32}(0.0f0) … Gray{Float32}(0.0f0) Gray{Float32}(0.0f0)]\n",
       " [Gray{Float32}(0.0f0) Gray{Float32}(0.0f0) … Gray{Float32}(0.0f0) Gray{Float32}(0.0f0); Gray{Float32}(0.0f0) Gray{Float32}(0.0f0) … Gray{Float32}(0.0f0) Gray{Float32}(0.0f0); … ; Gray{Float32}(0.0f0) Gray{Float32}(0.0f0) … Gray{Float32}(0.0f0) Gray{Float32}(0.0f0); Gray{Float32}(0.0f0) Gray{Float32}(0.0f0) … Gray{Float32}(0.0f0) Gray{Float32}(0.0f0)]\n",
       " [Gray{Float32}(0.0f0) Gray{Float32}(0.0f0) … Gray{Float32}(0.0f0) Gray{Float32}(0.0f0); Gray{Float32}(0.0f0) Gray{Float32}(0.0f0) … Gray{Float32}(0.0f0) Gray{Float32}(0.0f0); … ; Gray{Float32}(0.0f0) Gray{Float32}(0.0f0) … Gray{Float32}(0.0f0) Gray{Float32}(0.0f0); Gray{Float32}(0.0f0) Gray{Float32}(0.0f0) … Gray{Float32}(0.0f0) Gray{Float32}(0.0f0)]\n",
       " [Gray{Float32}(0.0f0) Gray{Float32}(0.0f0) … Gray{Float32}(0.0f0) Gray{Float32}(0.0f0); Gray{Float32}(0.0f0) Gray{Float32}(0.0f0) … Gray{Float32}(0.0f0) Gray{Float32}(0.0f0); … ; Gray{Float32}(0.0f0) Gray{Float32}(0.0f0) … Gray{Float32}(0.0f0) Gray{Float32}(0.0f0); Gray{Float32}(0.0f0) Gray{Float32}(0.0f0) … Gray{Float32}(0.0f0) Gray{Float32}(0.0f0)]\n",
       " [Gray{Float32}(0.0f0) Gray{Float32}(0.0f0) … Gray{Float32}(0.0f0) Gray{Float32}(0.0f0); Gray{Float32}(0.0f0) Gray{Float32}(0.0f0) … Gray{Float32}(0.0f0) Gray{Float32}(0.0f0); … ; Gray{Float32}(0.0f0) Gray{Float32}(0.0f0) … Gray{Float32}(0.0f0) Gray{Float32}(0.0f0); Gray{Float32}(0.0f0) Gray{Float32}(0.0f0) … Gray{Float32}(0.0f0) Gray{Float32}(0.0f0)]"
      ]
     },
     "metadata": {},
     "output_type": "display_data"
    }
   ],
   "source": [
    "num_img = 10\n",
    "img_flat = train_x_flatten[1:num_img,:]\n",
    "img = [reshape(img_flat[i,:], (28,28))' for i in 1:num_img]\n",
    "[colorview(Gray, Float32.(img[i])) for i in 1:num_img]"
   ]
  },
  {
   "cell_type": "code",
   "execution_count": 8,
   "id": "9710ae50",
   "metadata": {},
   "outputs": [
    {
     "data": {
      "text/html": [
       "<table><tbody><tr><td style='text-align:center;vertical-align:middle; margin: 0.5em;border:1px #90999f solid;border-collapse:collapse'><img style='max-width: 100px; max-height:100px;display:inline' src=\"data:image/png;base64,iVBORw0KGgoAAAANSUhEUgAAAHAAAABwCAAAAADji6uXAAAABGdBTUEAALGPC/xhBQAAAAFzUkdCAK7OHOkAAAAgY0hSTQAAeiYAAICEAAD6AAAAgOgAAHUwAADqYAAAOpgAABdwnLpRPAAAARhJREFUaAW9wUFOwwAQwECv5P9/eTn0UAElTVLhGYlJTGISk5jEJCYxiUlMYhKTDy3Hhu8kJjGJyU3LPRKTmMTkouWc4TWJSUxictJyznBMYhKTmJywvDecIzGJSUzeWI4N10hMYhKTA8vfhnskJjGJyQXD5yQmMYnJgQGWp+VhuE9iEpOY3LDAcI/EJCYxeWOA5bcFhuskJjGJyQkDLL8tMFwjMYlJTE4anpanBYbzJCYxiUlMYhKTmNwwwPK0PAzvSUxiEpOTlocBltcWGI5JTGISk4uWYwsMf5OYxCQmLyz/R2ISk5j8sHxmOCYxiUlMPjRcIzGJSUx+GP6XxCQmMYlJTGISk5jEJCYxiUlMYhKTmMQkJrEvpmAawI0E0F8AAAAASUVORK5C\"></td><td style='text-align:center;vertical-align:middle; margin: 0.5em;border:1px #90999f solid;border-collapse:collapse'><img style='max-width: 100px; max-height:100px;display:inline' src=\"data:image/png;base64,iVBORw0KGgoAAAANSUhEUgAAAHAAAABwCAAAAADji6uXAAAABGdBTUEAALGPC/xhBQAAAAFzUkdCAK7OHOkAAAAgY0hSTQAAeiYAAICEAAD6AAAAgOgAAHUwAADqYAAAOpgAABdwnLpRPAAAAQNJREFUaAW9wTFuw0AQwEAuwP9/+VK4CixZylnhjMQkJjGJSUxiEpOYxCQmMYlJTGISk5hsWpwbzklMYhKTDYvPFjAck5jEJCZ/sPiexCQmMblh8RyJSUxismE4trgmMYlJTC4sfhu+IzGJSUxOLN4N35OYxCQmBxbvhs8W90hMYhKTC8OzJCYxick/GM5JTGISkwcs7pOYxCQmmxZ7JCYxicnDhs8kJjGJyU2La8M1iUlMYnJggMXL4p7hHolJTGLygOE+iUlMYhKTmMQkJl8Y/k5iEpOYnBheFseGPRKTmMRkw7BPYhKTmFwYniUxiUlMYhKTmMQkJjGJSUxiEpOYxH4A58URw47uoDUAAAAASUVORK5C\"></td><td style='text-align:center;vertical-align:middle; margin: 0.5em;border:1px #90999f solid;border-collapse:collapse'><img style='max-width: 100px; max-height:100px;display:inline' src=\"data:image/png;base64,iVBORw0KGgoAAAANSUhEUgAAAHAAAABwCAAAAADji6uXAAAABGdBTUEAALGPC/xhBQAAAAFzUkdCAK7OHOkAAAAgY0hSTQAAeiYAAICEAAD6AAAAgOgAAHUwAADqYAAAOpgAABdwnLpRPAAAAOBJREFUaAW9wUEOglAUwMC+pPe/8ndJSBBFoTMSk5jEJCYxiUlMYhKTmMQkJh8sNsP/JCYxiUlMYhKTmMQkJjGJSUxiEpOYxCQmMYlJTGISk5jEJCYxiUlMYhKTmPxpcW7Yk5jEJCYXLK5bwLCRmMQkJicW1wybxTGJSUxi8oPhdxKTmMTkjcXecA+JSUxiEpOYxCQmXxjuIzGJSUweNuxJTGISk5jEJCYxObB4jsQkJjH5YLiXxCQmMXnIcExiEpOYHBieIzGJSUxiEpOYxCQmMYlJTGISk5jEJCYxiUnsBR1SCcScxkxGAAAAAElFTkSuQmCC\"></td><td style='text-align:center;vertical-align:middle; margin: 0.5em;border:1px #90999f solid;border-collapse:collapse'><img style='max-width: 100px; max-height:100px;display:inline' src=\"data:image/png;base64,iVBORw0KGgoAAAANSUhEUgAAAHAAAABwCAAAAADji6uXAAAABGdBTUEAALGPC/xhBQAAAAFzUkdCAK7OHOkAAAAgY0hSTQAAeiYAAICEAAD6AAAAgOgAAHUwAADqYAAAOpgAABdwnLpRPAAAAOZJREFUaAW9wUGOg0AQwEC35P9/eXKO2GxgIK6SmMQkJjGJSUxiEpOYxCQmMblp8W74n8QkJjGJSUxiEpOYxCQmMdm02CMxiUlMHjR8JzGJSUweMpwjMYlJTDYs9klMYhKTmMQkJjG5aHE0nCcxiUlMYhKTmMTkgsXRcI3EJCYxOWlxNFwnMYlJTGISk5jE5ITF0bBHYhKTmGwY9klMYhKTLxbPkpjEJCYfLP423CMxiUlMLhjuk5jEJCYxiUlMYnLS8AyJSUxi8sHwGxKTmMQkJjGJSUxiEpOYxCQmMYlJTGISk5jEXvC3CsSgEMRuAAAAAElFTkSuQmCC\"></td><td style='text-align:center;vertical-align:middle; margin: 0.5em;border:1px #90999f solid;border-collapse:collapse'><img style='max-width: 100px; max-height:100px;display:inline' src=\"data:image/png;base64,iVBORw0KGgoAAAANSUhEUgAAAHAAAABwCAAAAADji6uXAAAABGdBTUEAALGPC/xhBQAAAAFzUkdCAK7OHOkAAAAgY0hSTQAAeiYAAICEAAD6AAAAgOgAAHUwAADqYAAAOpgAABdwnLpRPAAAAQFJREFUaAW9wUluwwAMwEAK4P+/rB56KIJsjp1yRmISk5jE5IDl1nCexCQmMTlhgeEciUlMYnLAAMt3SExiEpODBliuk5jEJCYnLTB8TmISk5jEJCYxiUlMYhKTmJw0nCMxiUlMTlpg+JzEJCYxiUlMYhKTC5bHhuckJjGJyT9YYHhMYhKTmBy0fIfEJCYxOWB5bPizHCMxiUlMThp+LfeG5yQmMYnJG8ut4c9yb3hNYhKTmLywPLfcG96TmMQkJh9arpGYxCQmXzAcJzGJSUwuGj4jMYlJTF4Yvk9iEpOYxCQmMYlJTGISk5jEJCYxiUlMYhKTmMQkJjGJSUxiEpPYD9T9EsLiq5gXAAAAAElFTkSuQmCC\"></td><td style='text-align:center;vertical-align:middle; margin: 0.5em;border:1px #90999f solid;border-collapse:collapse'><img style='max-width: 100px; max-height:100px;display:inline' src=\"data:image/png;base64,iVBORw0KGgoAAAANSUhEUgAAAHAAAABwCAAAAADji6uXAAAABGdBTUEAALGPC/xhBQAAAAFzUkdCAK7OHOkAAAAgY0hSTQAAeiYAAICEAAD6AAAAgOgAAHUwAADqYAAAOpgAABdwnLpRPAAAAQ1JREFUaAW9wUFuwgAQwECv5P9/eXtsEZAmAXlGYhKTmMQkJjGJSUxiEpOYxCQmMYlJTGISk5jE5AuW14ZnEpOYxOSm5R6JSUxicsNyn8QkJjH5Y3k0PFs+IzGJSUwOLL8GWJ4NsJwnMYlJTE5ang2wvDa8JjGJSUz+GH4txwZYXhvek5jEJCZvDLC8t7w2HJOYxCQmBwZYzhnOkZjEJCYHlmPDdRKTmMTkguFzEpOYxOQDy6PhfxKTmMTkhuU+iUlMYnLR8hmJSUxicsHyOYlJTGLyBcN5EpOYxOTAAMt7w3USk5jE5IbhPolJTGLyj+G7JCYxiUlMYhKTmMQkJjGJSUxiEpOYxCQmMYn9AInrFsHOe5wjAAAAAElFTkSuQmCC\"></td><td style='text-align:center;vertical-align:middle; margin: 0.5em;border:1px #90999f solid;border-collapse:collapse'><img style='max-width: 100px; max-height:100px;display:inline' src=\"data:image/png;base64,iVBORw0KGgoAAAANSUhEUgAAAHAAAABwCAAAAADji6uXAAAABGdBTUEAALGPC/xhBQAAAAFzUkdCAK7OHOkAAAAgY0hSTQAAeiYAAICEAAD6AAAAgOgAAHUwAADqYAAAOpgAABdwnLpRPAAAANdJREFUaAW9wTFqwEAABDEdzP+/fKlDGjuGlTKWsYxlLGMZy1jGMpaxjGUsYxnLWMbywPXX8T8Zy1jGMpaxjGUsYxnLWMYylrGMZSwPHFy/XRzvZSxjGctYxjKWsYxlLGMZy0MH13cZy1jGMpaxjGUsYxnLWMYylrGMZSxjGctYxjKWsYxlLB9cHO9kLGMZy0cXx3MZy1jG8sLB9U3GMpaxfHS8k7GMZSwfXRzPZSxjGctYxjKWsXx0vJOxjGUsLx3fZCxjGctYxjKWsYxlLGMZy1jGMpaxH7YvCcTh0WjRAAAAAElFTkSuQmCC\"></td><td style='text-align:center;vertical-align:middle; margin: 0.5em;border:1px #90999f solid;border-collapse:collapse'><img style='max-width: 100px; max-height:100px;display:inline' src=\"data:image/png;base64,iVBORw0KGgoAAAANSUhEUgAAAHAAAABwCAAAAADji6uXAAAABGdBTUEAALGPC/xhBQAAAAFzUkdCAK7OHOkAAAAgY0hSTQAAeiYAAICEAAD6AAAAgOgAAHUwAADqYAAAOpgAABdwnLpRPAAAAP5JREFUaAW9wUFuhEAQwEC35P9/eXJeBXYgEFdJTGISk5jEJCYxiUlMYhKTmDywODcck5jEJCY3La5ZwPCbxCQmMblo8Q6JSUxicsHiPRKTmMRkY3Fu+LTYk5jEJCZ/MOwNxyQmMYnJTcO5YU9iEpOYxCQmMYnJTYtzw57EJCYxedEChu8kJjGJycYAi/dITGISky8W9wx7EpOYxOTE4rvhbyQmMYnJTcMzEpOYxOSG4TmJSUxicmBxzeLTsCcxiUlMblg8JzGJSUxiEpOYxCQmMYlJTA4MsLhuuE5iEpOYnBj+h8QkJjGJSUxiEpOYxCQmMYlJTGISk5jEJCaxH7x5EcMRGDWnAAAAAElFTkSuQmCC\"></td><td style='text-align:center;vertical-align:middle; margin: 0.5em;border:1px #90999f solid;border-collapse:collapse'><img style='max-width: 100px; max-height:100px;display:inline' src=\"data:image/png;base64,iVBORw0KGgoAAAANSUhEUgAAAHAAAABwCAAAAADji6uXAAAABGdBTUEAALGPC/xhBQAAAAFzUkdCAK7OHOkAAAAgY0hSTQAAeiYAAICEAAD6AAAAgOgAAHUwAADqYAAAOpgAABdwnLpRPAAAAMhJREFUaAW9wbENA0EMwDAZ0P4rO2Xq8wMiJSYxiUlMYhKTmMQkJjGJSUweLH/DjcQkJjGJSUxiEpOYxCQmMYlJTGISk5jEJCYxiUlMYhKTowWGdxKTmMQkJjGJSUweDLB8IzGJSUxiEpOYxCQmMYlJTGISk5jEJCYxiUlMPlhgeCMxiUlMYhKTmMQkJjGJSUxiEpOYxCQmMYlJTGISk5jE5NEAy53EJCYxORjuJCYxiUlMYhKTmMQkJjGJSUxiEpOYxCQmMYn9AFyNBsLNRdQsAAAAAElFTkSuQmCC\"></td><td style='text-align:center;vertical-align:middle; margin: 0.5em;border:1px #90999f solid;border-collapse:collapse'><img style='max-width: 100px; max-height:100px;display:inline' src=\"data:image/png;base64,iVBORw0KGgoAAAANSUhEUgAAAHAAAABwCAAAAADji6uXAAAABGdBTUEAALGPC/xhBQAAAAFzUkdCAK7OHOkAAAAgY0hSTQAAeiYAAICEAAD6AAAAgOgAAHUwAADqYAAAOpgAABdwnLpRPAAAAQhJREFUaAW9wUFuwkAQAMEeqf//5c0hB2SC8UKgqyQmMYlJTGISk5jEJCYxiUlMYhKTmMTkHxY3wx6JSUxiEpOYxCQmb1q8R2ISk5i8YXE07JOYxCQmMYlJTGKyYXFuOFr8Gh6TmMQkJh+0uCYxiUlMLiyeW7xGYhKTmFwYfi32DeckJjGJyYbF50hMYhKTC4uj4WZxNFyTmMQkJi8YbhZHwx6JSUxicmJxbnE07JOYxCQmm4bHhtdITGISkw3D50hMYhKTBxbfIzGJSUwuDH8N75OYxCQmdxbfJTGJSUyeGD5PYhKTmJwYvkNiEpOY3Bm+S2ISk5jEJCYxiUlMYhKTmMQkJjGJ/QCSfxLDf5alBwAAAABJRU5ErkJg\"></td></tr></tbody></table><div><small>(a vector displayed as a row to save space)</small></div>"
      ],
      "text/plain": [
       "10-element Vector{Base.ReinterpretArray{Gray{Float32}, 2, Float32, Matrix{Float32}, true}}:\n",
       " [Gray{Float32}(0.0f0) Gray{Float32}(0.0f0) … Gray{Float32}(0.0f0) Gray{Float32}(0.0f0); Gray{Float32}(0.0f0) Gray{Float32}(0.0f0) … Gray{Float32}(0.0f0) Gray{Float32}(0.0f0); … ; Gray{Float32}(0.0f0) Gray{Float32}(0.0f0) … Gray{Float32}(0.0f0) Gray{Float32}(0.0f0); Gray{Float32}(0.0f0) Gray{Float32}(0.0f0) … Gray{Float32}(0.0f0) Gray{Float32}(0.0f0)]\n",
       " [Gray{Float32}(0.0f0) Gray{Float32}(0.0f0) … Gray{Float32}(0.0f0) Gray{Float32}(0.0f0); Gray{Float32}(0.0f0) Gray{Float32}(0.0f0) … Gray{Float32}(0.0f0) Gray{Float32}(0.0f0); … ; Gray{Float32}(0.0f0) Gray{Float32}(0.0f0) … Gray{Float32}(0.0f0) Gray{Float32}(0.0f0); Gray{Float32}(0.0f0) Gray{Float32}(0.0f0) … Gray{Float32}(0.0f0) Gray{Float32}(0.0f0)]\n",
       " [Gray{Float32}(0.0f0) Gray{Float32}(0.0f0) … Gray{Float32}(0.0f0) Gray{Float32}(0.0f0); Gray{Float32}(0.0f0) Gray{Float32}(0.0f0) … Gray{Float32}(0.0f0) Gray{Float32}(0.0f0); … ; Gray{Float32}(0.0f0) Gray{Float32}(0.0f0) … Gray{Float32}(0.0f0) Gray{Float32}(0.0f0); Gray{Float32}(0.0f0) Gray{Float32}(0.0f0) … Gray{Float32}(0.0f0) Gray{Float32}(0.0f0)]\n",
       " [Gray{Float32}(0.0f0) Gray{Float32}(0.0f0) … Gray{Float32}(0.0f0) Gray{Float32}(0.0f0); Gray{Float32}(0.0f0) Gray{Float32}(0.0f0) … Gray{Float32}(0.0f0) Gray{Float32}(0.0f0); … ; Gray{Float32}(0.0f0) Gray{Float32}(0.0f0) … Gray{Float32}(0.0f0) Gray{Float32}(0.0f0); Gray{Float32}(0.0f0) Gray{Float32}(0.0f0) … Gray{Float32}(0.0f0) Gray{Float32}(0.0f0)]\n",
       " [Gray{Float32}(0.0f0) Gray{Float32}(0.0f0) … Gray{Float32}(0.0f0) Gray{Float32}(0.0f0); Gray{Float32}(0.0f0) Gray{Float32}(0.0f0) … Gray{Float32}(0.0f0) Gray{Float32}(0.0f0); … ; Gray{Float32}(0.0f0) Gray{Float32}(0.0f0) … Gray{Float32}(0.0f0) Gray{Float32}(0.0f0); Gray{Float32}(0.0f0) Gray{Float32}(0.0f0) … Gray{Float32}(0.0f0) Gray{Float32}(0.0f0)]\n",
       " [Gray{Float32}(0.0f0) Gray{Float32}(0.0f0) … Gray{Float32}(0.0f0) Gray{Float32}(0.0f0); Gray{Float32}(0.0f0) Gray{Float32}(0.0f0) … Gray{Float32}(0.0f0) Gray{Float32}(0.0f0); … ; Gray{Float32}(0.0f0) Gray{Float32}(0.0f0) … Gray{Float32}(0.0f0) Gray{Float32}(0.0f0); Gray{Float32}(0.0f0) Gray{Float32}(0.0f0) … Gray{Float32}(0.0f0) Gray{Float32}(0.0f0)]\n",
       " [Gray{Float32}(0.0f0) Gray{Float32}(0.0f0) … Gray{Float32}(0.0f0) Gray{Float32}(0.0f0); Gray{Float32}(0.0f0) Gray{Float32}(0.0f0) … Gray{Float32}(0.0f0) Gray{Float32}(0.0f0); … ; Gray{Float32}(0.0f0) Gray{Float32}(0.0f0) … Gray{Float32}(0.0f0) Gray{Float32}(0.0f0); Gray{Float32}(0.0f0) Gray{Float32}(0.0f0) … Gray{Float32}(0.0f0) Gray{Float32}(0.0f0)]\n",
       " [Gray{Float32}(0.0f0) Gray{Float32}(0.0f0) … Gray{Float32}(0.0f0) Gray{Float32}(0.0f0); Gray{Float32}(0.0f0) Gray{Float32}(0.0f0) … Gray{Float32}(0.0f0) Gray{Float32}(0.0f0); … ; Gray{Float32}(0.0f0) Gray{Float32}(0.0f0) … Gray{Float32}(0.0f0) Gray{Float32}(0.0f0); Gray{Float32}(0.0f0) Gray{Float32}(0.0f0) … Gray{Float32}(0.0f0) Gray{Float32}(0.0f0)]\n",
       " [Gray{Float32}(0.0f0) Gray{Float32}(0.0f0) … Gray{Float32}(0.0f0) Gray{Float32}(0.0f0); Gray{Float32}(0.0f0) Gray{Float32}(0.0f0) … Gray{Float32}(0.0f0) Gray{Float32}(0.0f0); … ; Gray{Float32}(0.0f0) Gray{Float32}(0.0f0) … Gray{Float32}(0.0f0) Gray{Float32}(0.0f0); Gray{Float32}(0.0f0) Gray{Float32}(0.0f0) … Gray{Float32}(0.0f0) Gray{Float32}(0.0f0)]\n",
       " [Gray{Float32}(0.0f0) Gray{Float32}(0.0f0) … Gray{Float32}(0.0f0) Gray{Float32}(0.0f0); Gray{Float32}(0.0f0) Gray{Float32}(0.0f0) … Gray{Float32}(0.0f0) Gray{Float32}(0.0f0); … ; Gray{Float32}(0.0f0) Gray{Float32}(0.0f0) … Gray{Float32}(0.0f0) Gray{Float32}(0.0f0); Gray{Float32}(0.0f0) Gray{Float32}(0.0f0) … Gray{Float32}(0.0f0) Gray{Float32}(0.0f0)]"
      ]
     },
     "metadata": {},
     "output_type": "display_data"
    }
   ],
   "source": [
    "img_reverse_flat = reverse(img_flat, dims=2)\n",
    "img_reverse = [reshape(img_reverse_flat[i,:], (28,28))' for i in 1:num_img]\n",
    "[colorview(Gray, Float32.(img_reverse[i])) for i in 1:num_img]"
   ]
  },
  {
   "cell_type": "markdown",
   "id": "42848d50",
   "metadata": {
    "colab_type": "text",
    "id": "7PP8w2NqrRC3"
   },
   "source": [
    "Our new training data will have 60000 samples and 2 features: intensity, symmetry."
   ]
  },
  {
   "cell_type": "code",
   "execution_count": 9,
   "id": "d544a8b6",
   "metadata": {},
   "outputs": [
    {
     "data": {
      "text/plain": [
       "(60000, 2)"
      ]
     },
     "metadata": {},
     "output_type": "display_data"
    }
   ],
   "source": [
    "#TODO create X_new by horizontal stack intensity and symmetry\n",
    "train_x_new = hcat(intensity, symmetry)\n",
    "size(train_x_new)"
   ]
  },
  {
   "cell_type": "markdown",
   "id": "d2457f30",
   "metadata": {
    "colab_type": "text",
    "id": "M3_pISperRDF"
   },
   "source": [
    "## 2. Training "
   ]
  },
  {
   "cell_type": "markdown",
   "id": "94cac8eb",
   "metadata": {
    "colab_type": "text",
    "id": "6-AXlZ4DrRDG"
   },
   "source": [
    "Usually logistic regression is a good first choice for classification. In this homework we use logistic regression for classifying digit 1 images and not digit 1's images."
   ]
  },
  {
   "cell_type": "markdown",
   "id": "bb6ac92a",
   "metadata": {
    "colab_type": "text",
    "id": "0pprRrTyrRDH"
   },
   "source": [
    "### Normalize data\n",
    "\n",
    "In data process, you will first process training data. The parameter obtained in the process will be reused for processing test set\n",
    "\n",
    "First normalize data using Z-score normalization\n",
    "- **TODO: Study about Z-score normalization**\n",
    "    - Z-score (also called standard score) is a measure of how many std below or above the mean a raw data is.\n",
    "    - Equation: $z = \\frac{x - \\bar{A}}{\\sigma}$\n",
    "    - $\\bar{A}$ is mean\n",
    "    - ${\\sigma}$ is standard deviation\n",
    "- **TODO: Why should we normalize data?**"
   ]
  },
  {
   "cell_type": "code",
   "execution_count": 10,
   "id": "63b44763",
   "metadata": {},
   "outputs": [
    {
     "data": {
      "image/png": "[encoded data removed]",
      "image/svg+xml": "<?xml version=\"1.0\" encoding=\"utf-8\"?>\n<svg xmlns=\"http://www.w3.org/2000/svg\" xmlns:xlink=\"http://www.w3.org/1999/xlink\" width=\"600\" height=\"400\" viewBox=\"0 0 2400 1600\">\n<defs>\n  <clipPath id=\"clip100\">\n    <rect x=\"0\" y=\"0\" width=\"2400\" height=\"1600\"/>\n  </clipPath>\n</defs>\n<path clip-path=\"url(#clip100)\" d=\"\nM0 1600 L2400 1600 L2400 0 L0 0  Z\n  \" fill=\"#ffffff\" fill-rule=\"evenodd\" fill-opacity=\"1\"/>\n<defs>\n  <clipPath id=\"clip101\">\n    <rect x=\"480\" y=\"0\" width=\"1681\" height=\"1600\"/>\n  </clipPath>\n</defs>\n<path clip-path=\"url(#clip100)\" d=\"\nM193.288 1486.45 L2352.76 1486.45 L2352.76 47.2441 L193.288 47.2441  Z\n  \" fill=\"#ffffff\" fill-rule=\"evenodd\" fill-opacity=\"1\"/>\n<defs>\n  <clipPath id=\"clip102\">\n    <rect x=\"193\" y=\"47\" width=\"2160\" height=\"1440\"/>\n  </clipPath>\n</defs>\n<polyline clip-path=\"url(#clip102)\" style=\"stroke:#000000; stroke-linecap:round; stroke-linejoin:round; stroke-width:2; stroke-opacity:0.1; fill:none\" points=\"\n  390.508,1486.45 390.508,47.2441 \n  \"/>\n<polyline clip-path=\"url(#clip102)\" style=\"stroke:#000000; stroke-linecap:round; stroke-linejoin:round; stroke-width:2; stroke-opacity:0.1; fill:none\" points=\"\n  880.794,1486.45 880.794,47.2441 \n  \"/>\n<polyline clip-path=\"url(#clip102)\" style=\"stroke:#000000; stroke-linecap:round; stroke-linejoin:round; stroke-width:2; stroke-opacity:0.1; fill:none\" points=\"\n  1371.08,1486.45 1371.08,47.2441 \n  \"/>\n<polyline clip-path=\"url(#clip102)\" style=\"stroke:#000000; stroke-linecap:round; stroke-linejoin:round; stroke-width:2; stroke-opacity:0.1; fill:none\" points=\"\n  1861.36,1486.45 1861.36,47.2441 \n  \"/>\n<polyline clip-path=\"url(#clip102)\" style=\"stroke:#000000; stroke-linecap:round; stroke-linejoin:round; stroke-width:2; stroke-opacity:0.1; fill:none\" points=\"\n  2351.65,1486.45 2351.65,47.2441 \n  \"/>\n<polyline clip-path=\"url(#clip100)\" style=\"stroke:#000000; stroke-linecap:round; stroke-linejoin:round; stroke-width:4; stroke-opacity:1; fill:none\" points=\"\n  193.288,1486.45 2352.76,1486.45 \n  \"/>\n<polyline clip-path=\"url(#clip100)\" style=\"stroke:#000000; stroke-linecap:round; stroke-linejoin:round; stroke-width:4; stroke-opacity:1; fill:none\" points=\"\n  390.508,1486.45 390.508,1467.55 \n  \"/>\n<polyline clip-path=\"url(#clip100)\" style=\"stroke:#000000; stroke-linecap:round; stroke-linejoin:round; stroke-width:4; stroke-opacity:1; fill:none\" points=\"\n  880.794,1486.45 880.794,1467.55 \n  \"/>\n<polyline clip-path=\"url(#clip100)\" style=\"stroke:#000000; stroke-linecap:round; stroke-linejoin:round; stroke-width:4; stroke-opacity:1; fill:none\" points=\"\n  1371.08,1486.45 1371.08,1467.55 \n  \"/>\n<polyline clip-path=\"url(#clip100)\" style=\"stroke:#000000; stroke-linecap:round; stroke-linejoin:round; stroke-width:4; stroke-opacity:1; fill:none\" points=\"\n  1861.36,1486.45 1861.36,1467.55 \n  \"/>\n<polyline clip-path=\"url(#clip100)\" style=\"stroke:#000000; stroke-linecap:round; stroke-linejoin:round; stroke-width:4; stroke-opacity:1; fill:none\" points=\"\n  2351.65,1486.45 2351.65,1467.55 \n  \"/>\n<path clip-path=\"url(#clip100)\" d=\"M367.892 1517.37 Q364.281 1517.37 362.453 1520.93 Q360.647 1524.47 360.647 1531.6 Q360.647 1538.71 362.453 1542.27 Q364.281 1545.82 367.892 1545.82 Q371.527 1545.82 373.332 1542.27 Q375.161 1538.71 375.161 1531.6 Q375.161 1524.47 373.332 1520.93 Q371.527 1517.37 367.892 1517.37 M367.892 1513.66 Q373.703 1513.66 376.758 1518.27 Q379.837 1522.85 379.837 1531.6 Q379.837 1540.33 376.758 1544.94 Q373.703 1549.52 367.892 1549.52 Q362.082 1549.52 359.004 1544.94 Q355.948 1540.33 355.948 1531.6 Q355.948 1522.85 359.004 1518.27 Q362.082 1513.66 367.892 1513.66 Z\" fill=\"#000000\" fill-rule=\"evenodd\" fill-opacity=\"1\" /><path clip-path=\"url(#clip100)\" d=\"M388.054 1542.97 L392.939 1542.97 L392.939 1548.85 L388.054 1548.85 L388.054 1542.97 Z\" fill=\"#000000\" fill-rule=\"evenodd\" fill-opacity=\"1\" /><path clip-path=\"url(#clip100)\" d=\"M413.124 1517.37 Q409.513 1517.37 407.684 1520.93 Q405.878 1524.47 405.878 1531.6 Q405.878 1538.71 407.684 1542.27 Q409.513 1545.82 413.124 1545.82 Q416.758 1545.82 418.564 1542.27 Q420.392 1538.71 420.392 1531.6 Q420.392 1524.47 418.564 1520.93 Q416.758 1517.37 413.124 1517.37 M413.124 1513.66 Q418.934 1513.66 421.989 1518.27 Q425.068 1522.85 425.068 1531.6 Q425.068 1540.33 421.989 1544.94 Q418.934 1549.52 413.124 1549.52 Q407.314 1549.52 404.235 1544.94 Q401.179 1540.33 401.179 1531.6 Q401.179 1522.85 404.235 1518.27 Q407.314 1513.66 413.124 1513.66 Z\" fill=\"#000000\" fill-rule=\"evenodd\" fill-opacity=\"1\" /><path clip-path=\"url(#clip100)\" d=\"M852.53 1544.91 L868.849 1544.91 L868.849 1548.85 L846.905 1548.85 L846.905 1544.91 Q849.567 1542.16 854.15 1537.53 Q858.757 1532.88 859.937 1531.53 Q862.183 1529.01 863.062 1527.27 Q863.965 1525.51 863.965 1523.82 Q863.965 1521.07 862.02 1519.33 Q860.099 1517.6 856.997 1517.6 Q854.798 1517.6 852.345 1518.36 Q849.914 1519.13 847.136 1520.68 L847.136 1515.95 Q849.96 1514.82 852.414 1514.24 Q854.868 1513.66 856.905 1513.66 Q862.275 1513.66 865.47 1516.35 Q868.664 1519.03 868.664 1523.52 Q868.664 1525.65 867.854 1527.57 Q867.067 1529.47 864.96 1532.07 Q864.382 1532.74 861.28 1535.95 Q858.178 1539.15 852.53 1544.91 Z\" fill=\"#000000\" fill-rule=\"evenodd\" fill-opacity=\"1\" /><path clip-path=\"url(#clip100)\" d=\"M878.664 1542.97 L883.548 1542.97 L883.548 1548.85 L878.664 1548.85 L878.664 1542.97 Z\" fill=\"#000000\" fill-rule=\"evenodd\" fill-opacity=\"1\" /><path clip-path=\"url(#clip100)\" d=\"M893.78 1514.29 L912.136 1514.29 L912.136 1518.22 L898.062 1518.22 L898.062 1526.7 Q899.08 1526.35 900.099 1526.19 Q901.118 1526 902.136 1526 Q907.923 1526 911.303 1529.17 Q914.682 1532.34 914.682 1537.76 Q914.682 1543.34 911.21 1546.44 Q907.738 1549.52 901.418 1549.52 Q899.243 1549.52 896.974 1549.15 Q894.729 1548.78 892.321 1548.04 L892.321 1543.34 Q894.405 1544.47 896.627 1545.03 Q898.849 1545.58 901.326 1545.58 Q905.33 1545.58 907.668 1543.48 Q910.006 1541.37 910.006 1537.76 Q910.006 1534.15 907.668 1532.04 Q905.33 1529.94 901.326 1529.94 Q899.451 1529.94 897.576 1530.35 Q895.724 1530.77 893.78 1531.65 L893.78 1514.29 Z\" fill=\"#000000\" fill-rule=\"evenodd\" fill-opacity=\"1\" /><path clip-path=\"url(#clip100)\" d=\"M1338.24 1514.29 L1356.6 1514.29 L1356.6 1518.22 L1342.53 1518.22 L1342.53 1526.7 Q1343.54 1526.35 1344.56 1526.19 Q1345.58 1526 1346.6 1526 Q1352.39 1526 1355.77 1529.17 Q1359.15 1532.34 1359.15 1537.76 Q1359.15 1543.34 1355.67 1546.44 Q1352.2 1549.52 1345.88 1549.52 Q1343.71 1549.52 1341.44 1549.15 Q1339.19 1548.78 1336.79 1548.04 L1336.79 1543.34 Q1338.87 1544.47 1341.09 1545.03 Q1343.31 1545.58 1345.79 1545.58 Q1349.79 1545.58 1352.13 1543.48 Q1354.47 1541.37 1354.47 1537.76 Q1354.47 1534.15 1352.13 1532.04 Q1349.79 1529.94 1345.79 1529.94 Q1343.91 1529.94 1342.04 1530.35 Q1340.19 1530.77 1338.24 1531.65 L1338.24 1514.29 Z\" fill=\"#000000\" fill-rule=\"evenodd\" fill-opacity=\"1\" /><path clip-path=\"url(#clip100)\" d=\"M1368.36 1542.97 L1373.24 1542.97 L1373.24 1548.85 L1368.36 1548.85 L1368.36 1542.97 Z\" fill=\"#000000\" fill-rule=\"evenodd\" fill-opacity=\"1\" /><path clip-path=\"url(#clip100)\" d=\"M1393.43 1517.37 Q1389.82 1517.37 1387.99 1520.93 Q1386.18 1524.47 1386.18 1531.6 Q1386.18 1538.71 1387.99 1542.27 Q1389.82 1545.82 1393.43 1545.82 Q1397.06 1545.82 1398.87 1542.27 Q1400.7 1538.71 1400.7 1531.6 Q1400.7 1524.47 1398.87 1520.93 Q1397.06 1517.37 1393.43 1517.37 M1393.43 1513.66 Q1399.24 1513.66 1402.29 1518.27 Q1405.37 1522.85 1405.37 1531.6 Q1405.37 1540.33 1402.29 1544.94 Q1399.24 1549.52 1393.43 1549.52 Q1387.62 1549.52 1384.54 1544.94 Q1381.48 1540.33 1381.48 1531.6 Q1381.48 1522.85 1384.54 1518.27 Q1387.62 1513.66 1393.43 1513.66 Z\" fill=\"#000000\" fill-rule=\"evenodd\" fill-opacity=\"1\" /><path clip-path=\"url(#clip100)\" d=\"M1827.68 1514.29 L1849.91 1514.29 L1849.91 1516.28 L1837.36 1548.85 L1832.48 1548.85 L1844.28 1518.22 L1827.68 1518.22 L1827.68 1514.29 Z\" fill=\"#000000\" fill-rule=\"evenodd\" fill-opacity=\"1\" /><path clip-path=\"url(#clip100)\" d=\"M1859.03 1542.97 L1863.91 1542.97 L1863.91 1548.85 L1859.03 1548.85 L1859.03 1542.97 Z\" fill=\"#000000\" fill-rule=\"evenodd\" fill-opacity=\"1\" /><path clip-path=\"url(#clip100)\" d=\"M1874.14 1514.29 L1892.5 1514.29 L1892.5 1518.22 L1878.42 1518.22 L1878.42 1526.7 Q1879.44 1526.35 1880.46 1526.19 Q1881.48 1526 1882.5 1526 Q1888.29 1526 1891.67 1529.17 Q1895.04 1532.34 1895.04 1537.76 Q1895.04 1543.34 1891.57 1546.44 Q1888.1 1549.52 1881.78 1549.52 Q1879.61 1549.52 1877.34 1549.15 Q1875.09 1548.78 1872.68 1548.04 L1872.68 1543.34 Q1874.77 1544.47 1876.99 1545.03 Q1879.21 1545.58 1881.69 1545.58 Q1885.69 1545.58 1888.03 1543.48 Q1890.37 1541.37 1890.37 1537.76 Q1890.37 1534.15 1888.03 1532.04 Q1885.69 1529.94 1881.69 1529.94 Q1879.81 1529.94 1877.94 1530.35 Q1876.09 1530.77 1874.14 1531.65 L1874.14 1514.29 Z\" fill=\"#000000\" fill-rule=\"evenodd\" fill-opacity=\"1\" /><path clip-path=\"url(#clip100)\" d=\"M2303.72 1544.91 L2311.36 1544.91 L2311.36 1518.55 L2303.05 1520.21 L2303.05 1515.95 L2311.31 1514.29 L2315.99 1514.29 L2315.99 1544.91 L2323.63 1544.91 L2323.63 1548.85 L2303.72 1548.85 L2303.72 1544.91 Z\" fill=\"#000000\" fill-rule=\"evenodd\" fill-opacity=\"1\" /><path clip-path=\"url(#clip100)\" d=\"M2343.07 1517.37 Q2339.46 1517.37 2337.63 1520.93 Q2335.83 1524.47 2335.83 1531.6 Q2335.83 1538.71 2337.63 1542.27 Q2339.46 1545.82 2343.07 1545.82 Q2346.71 1545.82 2348.51 1542.27 Q2350.34 1538.71 2350.34 1531.6 Q2350.34 1524.47 2348.51 1520.93 Q2346.71 1517.37 2343.07 1517.37 M2343.07 1513.66 Q2348.88 1513.66 2351.94 1518.27 Q2355.02 1522.85 2355.02 1531.6 Q2355.02 1540.33 2351.94 1544.94 Q2348.88 1549.52 2343.07 1549.52 Q2337.26 1549.52 2334.18 1544.94 Q2331.13 1540.33 2331.13 1531.6 Q2331.13 1522.85 2334.18 1518.27 Q2337.26 1513.66 2343.07 1513.66 Z\" fill=\"#000000\" fill-rule=\"evenodd\" fill-opacity=\"1\" /><path clip-path=\"url(#clip100)\" d=\"M2363.24 1542.97 L2368.12 1542.97 L2368.12 1548.85 L2363.24 1548.85 L2363.24 1542.97 Z\" fill=\"#000000\" fill-rule=\"evenodd\" fill-opacity=\"1\" /><path clip-path=\"url(#clip100)\" d=\"M2388.3 1517.37 Q2384.69 1517.37 2382.86 1520.93 Q2381.06 1524.47 2381.06 1531.6 Q2381.06 1538.71 2382.86 1542.27 Q2384.69 1545.82 2388.3 1545.82 Q2391.94 1545.82 2393.74 1542.27 Q2395.57 1538.71 2395.57 1531.6 Q2395.57 1524.47 2393.74 1520.93 Q2391.94 1517.37 2388.3 1517.37 M2388.3 1513.66 Q2394.11 1513.66 2397.17 1518.27 Q2400.25 1522.85 2400.25 1531.6 Q2400.25 1540.33 2397.17 1544.94 Q2394.11 1549.52 2388.3 1549.52 Q2382.49 1549.52 2379.42 1544.94 Q2376.36 1540.33 2376.36 1531.6 Q2376.36 1522.85 2379.42 1518.27 Q2382.49 1513.66 2388.3 1513.66 Z\" fill=\"#000000\" fill-rule=\"evenodd\" fill-opacity=\"1\" /><polyline clip-path=\"url(#clip102)\" style=\"stroke:#000000; stroke-linecap:round; stroke-linejoin:round; stroke-width:2; stroke-opacity:0.1; fill:none\" points=\"\n  193.288,1344.36 2352.76,1344.36 \n  \"/>\n<polyline clip-path=\"url(#clip102)\" style=\"stroke:#000000; stroke-linecap:round; stroke-linejoin:round; stroke-width:2; stroke-opacity:0.1; fill:none\" points=\"\n  193.288,1132.61 2352.76,1132.61 \n  \"/>\n<polyline clip-path=\"url(#clip102)\" style=\"stroke:#000000; stroke-linecap:round; stroke-linejoin:round; stroke-width:2; stroke-opacity:0.1; fill:none\" points=\"\n  193.288,920.865 2352.76,920.865 \n  \"/>\n<polyline clip-path=\"url(#clip102)\" style=\"stroke:#000000; stroke-linecap:round; stroke-linejoin:round; stroke-width:2; stroke-opacity:0.1; fill:none\" points=\"\n  193.288,709.119 2352.76,709.119 \n  \"/>\n<polyline clip-path=\"url(#clip102)\" style=\"stroke:#000000; stroke-linecap:round; stroke-linejoin:round; stroke-width:2; stroke-opacity:0.1; fill:none\" points=\"\n  193.288,497.372 2352.76,497.372 \n  \"/>\n<polyline clip-path=\"url(#clip102)\" style=\"stroke:#000000; stroke-linecap:round; stroke-linejoin:round; stroke-width:2; stroke-opacity:0.1; fill:none\" points=\"\n  193.288,285.626 2352.76,285.626 \n  \"/>\n<polyline clip-path=\"url(#clip102)\" style=\"stroke:#000000; stroke-linecap:round; stroke-linejoin:round; stroke-width:2; stroke-opacity:0.1; fill:none\" points=\"\n  193.288,73.8793 2352.76,73.8793 \n  \"/>\n<polyline clip-path=\"url(#clip100)\" style=\"stroke:#000000; stroke-linecap:round; stroke-linejoin:round; stroke-width:4; stroke-opacity:1; fill:none\" points=\"\n  193.288,1486.45 193.288,47.2441 \n  \"/>\n<polyline clip-path=\"url(#clip100)\" style=\"stroke:#000000; stroke-linecap:round; stroke-linejoin:round; stroke-width:4; stroke-opacity:1; fill:none\" points=\"\n  193.288,1344.36 212.185,1344.36 \n  \"/>\n<polyline clip-path=\"url(#clip100)\" style=\"stroke:#000000; stroke-linecap:round; stroke-linejoin:round; stroke-width:4; stroke-opacity:1; fill:none\" points=\"\n  193.288,1132.61 212.185,1132.61 \n  \"/>\n<polyline clip-path=\"url(#clip100)\" style=\"stroke:#000000; stroke-linecap:round; stroke-linejoin:round; stroke-width:4; stroke-opacity:1; fill:none\" points=\"\n  193.288,920.865 212.185,920.865 \n  \"/>\n<polyline clip-path=\"url(#clip100)\" style=\"stroke:#000000; stroke-linecap:round; stroke-linejoin:round; stroke-width:4; stroke-opacity:1; fill:none\" points=\"\n  193.288,709.119 212.185,709.119 \n  \"/>\n<polyline clip-path=\"url(#clip100)\" style=\"stroke:#000000; stroke-linecap:round; stroke-linejoin:round; stroke-width:4; stroke-opacity:1; fill:none\" points=\"\n  193.288,497.372 212.185,497.372 \n  \"/>\n<polyline clip-path=\"url(#clip100)\" style=\"stroke:#000000; stroke-linecap:round; stroke-linejoin:round; stroke-width:4; stroke-opacity:1; fill:none\" points=\"\n  193.288,285.626 212.185,285.626 \n  \"/>\n<polyline clip-path=\"url(#clip100)\" style=\"stroke:#000000; stroke-linecap:round; stroke-linejoin:round; stroke-width:4; stroke-opacity:1; fill:none\" points=\"\n  193.288,73.8793 212.185,73.8793 \n  \"/>\n<path clip-path=\"url(#clip100)\" d=\"M50.9921 1344.81 L80.6679 1344.81 L80.6679 1348.74 L50.9921 1348.74 L50.9921 1344.81 Z\" fill=\"#000000\" fill-rule=\"evenodd\" fill-opacity=\"1\" /><path clip-path=\"url(#clip100)\" d=\"M100.76 1330.16 Q97.1493 1330.16 95.3206 1333.72 Q93.515 1337.26 93.515 1344.39 Q93.515 1351.5 95.3206 1355.06 Q97.1493 1358.61 100.76 1358.61 Q104.395 1358.61 106.2 1355.06 Q108.029 1351.5 108.029 1344.39 Q108.029 1337.26 106.2 1333.72 Q104.395 1330.16 100.76 1330.16 M100.76 1326.45 Q106.571 1326.45 109.626 1331.06 Q112.705 1335.64 112.705 1344.39 Q112.705 1353.12 109.626 1357.73 Q106.571 1362.31 100.76 1362.31 Q94.9502 1362.31 91.8715 1357.73 Q88.816 1353.12 88.816 1344.39 Q88.816 1335.64 91.8715 1331.06 Q94.9502 1326.45 100.76 1326.45 Z\" fill=\"#000000\" fill-rule=\"evenodd\" fill-opacity=\"1\" /><path clip-path=\"url(#clip100)\" d=\"M120.922 1355.76 L125.807 1355.76 L125.807 1361.64 L120.922 1361.64 L120.922 1355.76 Z\" fill=\"#000000\" fill-rule=\"evenodd\" fill-opacity=\"1\" /><path clip-path=\"url(#clip100)\" d=\"M150.158 1343 Q153.515 1343.72 155.39 1345.99 Q157.288 1348.26 157.288 1351.59 Q157.288 1356.71 153.769 1359.51 Q150.251 1362.31 143.769 1362.31 Q141.593 1362.31 139.279 1361.87 Q136.987 1361.45 134.533 1360.6 L134.533 1356.08 Q136.478 1357.22 138.793 1357.8 Q141.107 1358.37 143.631 1358.37 Q148.029 1358.37 150.32 1356.64 Q152.635 1354.9 152.635 1351.59 Q152.635 1348.54 150.482 1346.82 Q148.353 1345.09 144.533 1345.09 L140.506 1345.09 L140.506 1341.24 L144.718 1341.24 Q148.168 1341.24 149.996 1339.88 Q151.825 1338.49 151.825 1335.9 Q151.825 1333.24 149.927 1331.82 Q148.052 1330.39 144.533 1330.39 Q142.612 1330.39 140.413 1330.81 Q138.214 1331.22 135.575 1332.1 L135.575 1327.93 Q138.237 1327.19 140.552 1326.82 Q142.89 1326.45 144.95 1326.45 Q150.274 1326.45 153.376 1328.88 Q156.478 1331.29 156.478 1335.41 Q156.478 1338.28 154.834 1340.27 Q153.191 1342.24 150.158 1343 Z\" fill=\"#000000\" fill-rule=\"evenodd\" fill-opacity=\"1\" /><path clip-path=\"url(#clip100)\" d=\"M51.9412 1133.06 L81.617 1133.06 L81.617 1137 L51.9412 1137 L51.9412 1133.06 Z\" fill=\"#000000\" fill-rule=\"evenodd\" fill-opacity=\"1\" /><path clip-path=\"url(#clip100)\" d=\"M101.709 1118.41 Q98.0984 1118.41 96.2697 1121.98 Q94.4641 1125.52 94.4641 1132.65 Q94.4641 1139.75 96.2697 1143.32 Q98.0984 1146.86 101.709 1146.86 Q105.344 1146.86 107.149 1143.32 Q108.978 1139.75 108.978 1132.65 Q108.978 1125.52 107.149 1121.98 Q105.344 1118.41 101.709 1118.41 M101.709 1114.71 Q107.52 1114.71 110.575 1119.31 Q113.654 1123.9 113.654 1132.65 Q113.654 1141.37 110.575 1145.98 Q107.52 1150.56 101.709 1150.56 Q95.8993 1150.56 92.8206 1145.98 Q89.7651 1141.37 89.7651 1132.65 Q89.7651 1123.9 92.8206 1119.31 Q95.8993 1114.71 101.709 1114.71 Z\" fill=\"#000000\" fill-rule=\"evenodd\" fill-opacity=\"1\" /><path clip-path=\"url(#clip100)\" d=\"M121.871 1144.01 L126.756 1144.01 L126.756 1149.89 L121.871 1149.89 L121.871 1144.01 Z\" fill=\"#000000\" fill-rule=\"evenodd\" fill-opacity=\"1\" /><path clip-path=\"url(#clip100)\" d=\"M140.968 1145.96 L157.288 1145.96 L157.288 1149.89 L135.344 1149.89 L135.344 1145.96 Q138.006 1143.2 142.589 1138.57 Q147.195 1133.92 148.376 1132.58 Q150.621 1130.05 151.501 1128.32 Q152.404 1126.56 152.404 1124.87 Q152.404 1122.11 150.459 1120.38 Q148.538 1118.64 145.436 1118.64 Q143.237 1118.64 140.783 1119.41 Q138.353 1120.17 135.575 1121.72 L135.575 1117 Q138.399 1115.86 140.853 1115.29 Q143.306 1114.71 145.343 1114.71 Q150.714 1114.71 153.908 1117.39 Q157.103 1120.08 157.103 1124.57 Q157.103 1126.7 156.292 1128.62 Q155.505 1130.52 153.399 1133.11 Q152.82 1133.78 149.718 1137 Q146.617 1140.19 140.968 1145.96 Z\" fill=\"#000000\" fill-rule=\"evenodd\" fill-opacity=\"1\" /><path clip-path=\"url(#clip100)\" d=\"M51.5708 921.317 L81.2466 921.317 L81.2466 925.252 L51.5708 925.252 L51.5708 921.317 Z\" fill=\"#000000\" fill-rule=\"evenodd\" fill-opacity=\"1\" /><path clip-path=\"url(#clip100)\" d=\"M101.339 906.664 Q97.728 906.664 95.8993 910.229 Q94.0937 913.77 94.0937 920.9 Q94.0937 928.006 95.8993 931.571 Q97.728 935.113 101.339 935.113 Q104.973 935.113 106.779 931.571 Q108.608 928.006 108.608 920.9 Q108.608 913.77 106.779 910.229 Q104.973 906.664 101.339 906.664 M101.339 902.96 Q107.149 902.96 110.205 907.567 Q113.283 912.15 113.283 920.9 Q113.283 929.627 110.205 934.233 Q107.149 938.817 101.339 938.817 Q95.5289 938.817 92.4502 934.233 Q89.3947 929.627 89.3947 920.9 Q89.3947 912.15 92.4502 907.567 Q95.5289 902.96 101.339 902.96 Z\" fill=\"#000000\" fill-rule=\"evenodd\" fill-opacity=\"1\" /><path clip-path=\"url(#clip100)\" d=\"M121.501 932.266 L126.385 932.266 L126.385 938.145 L121.501 938.145 L121.501 932.266 Z\" fill=\"#000000\" fill-rule=\"evenodd\" fill-opacity=\"1\" /><path clip-path=\"url(#clip100)\" d=\"M137.381 934.21 L145.019 934.21 L145.019 907.844 L136.709 909.511 L136.709 905.252 L144.973 903.585 L149.649 903.585 L149.649 934.21 L157.288 934.21 L157.288 938.145 L137.381 938.145 L137.381 934.21 Z\" fill=\"#000000\" fill-rule=\"evenodd\" fill-opacity=\"1\" /><path clip-path=\"url(#clip100)\" d=\"M100.112 694.917 Q96.5011 694.917 94.6724 698.482 Q92.8669 702.024 92.8669 709.153 Q92.8669 716.26 94.6724 719.825 Q96.5011 723.366 100.112 723.366 Q103.746 723.366 105.552 719.825 Q107.381 716.26 107.381 709.153 Q107.381 702.024 105.552 698.482 Q103.746 694.917 100.112 694.917 M100.112 691.214 Q105.922 691.214 108.978 695.82 Q112.057 700.404 112.057 709.153 Q112.057 717.88 108.978 722.487 Q105.922 727.07 100.112 727.07 Q94.3021 727.07 91.2234 722.487 Q88.1679 717.88 88.1679 709.153 Q88.1679 700.404 91.2234 695.82 Q94.3021 691.214 100.112 691.214 Z\" fill=\"#000000\" fill-rule=\"evenodd\" fill-opacity=\"1\" /><path clip-path=\"url(#clip100)\" d=\"M120.274 720.519 L125.158 720.519 L125.158 726.399 L120.274 726.399 L120.274 720.519 Z\" fill=\"#000000\" fill-rule=\"evenodd\" fill-opacity=\"1\" /><path clip-path=\"url(#clip100)\" d=\"M145.343 694.917 Q141.732 694.917 139.904 698.482 Q138.098 702.024 138.098 709.153 Q138.098 716.26 139.904 719.825 Q141.732 723.366 145.343 723.366 Q148.978 723.366 150.783 719.825 Q152.612 716.26 152.612 709.153 Q152.612 702.024 150.783 698.482 Q148.978 694.917 145.343 694.917 M145.343 691.214 Q151.154 691.214 154.209 695.82 Q157.288 700.404 157.288 709.153 Q157.288 717.88 154.209 722.487 Q151.154 727.07 145.343 727.07 Q139.533 727.07 136.455 722.487 Q133.399 717.88 133.399 709.153 Q133.399 700.404 136.455 695.82 Q139.533 691.214 145.343 691.214 Z\" fill=\"#000000\" fill-rule=\"evenodd\" fill-opacity=\"1\" /><path clip-path=\"url(#clip100)\" d=\"M101.339 483.171 Q97.728 483.171 95.8993 486.736 Q94.0937 490.277 94.0937 497.407 Q94.0937 504.513 95.8993 508.078 Q97.728 511.62 101.339 511.62 Q104.973 511.62 106.779 508.078 Q108.608 504.513 108.608 497.407 Q108.608 490.277 106.779 486.736 Q104.973 483.171 101.339 483.171 M101.339 479.467 Q107.149 479.467 110.205 484.074 Q113.283 488.657 113.283 497.407 Q113.283 506.134 110.205 510.74 Q107.149 515.324 101.339 515.324 Q95.5289 515.324 92.4502 510.74 Q89.3947 506.134 89.3947 497.407 Q89.3947 488.657 92.4502 484.074 Q95.5289 479.467 101.339 479.467 Z\" fill=\"#000000\" fill-rule=\"evenodd\" fill-opacity=\"1\" /><path clip-path=\"url(#clip100)\" d=\"M121.501 508.773 L126.385 508.773 L126.385 514.652 L121.501 514.652 L121.501 508.773 Z\" fill=\"#000000\" fill-rule=\"evenodd\" fill-opacity=\"1\" /><path clip-path=\"url(#clip100)\" d=\"M137.381 510.717 L145.019 510.717 L145.019 484.352 L136.709 486.018 L136.709 481.759 L144.973 480.092 L149.649 480.092 L149.649 510.717 L157.288 510.717 L157.288 514.652 L137.381 514.652 L137.381 510.717 Z\" fill=\"#000000\" fill-rule=\"evenodd\" fill-opacity=\"1\" /><path clip-path=\"url(#clip100)\" d=\"M101.709 271.424 Q98.0984 271.424 96.2697 274.989 Q94.4641 278.531 94.4641 285.661 Q94.4641 292.767 96.2697 296.332 Q98.0984 299.873 101.709 299.873 Q105.344 299.873 107.149 296.332 Q108.978 292.767 108.978 285.661 Q108.978 278.531 107.149 274.989 Q105.344 271.424 101.709 271.424 M101.709 267.721 Q107.52 267.721 110.575 272.327 Q113.654 276.911 113.654 285.661 Q113.654 294.387 110.575 298.994 Q107.52 303.577 101.709 303.577 Q95.8993 303.577 92.8206 298.994 Q89.7651 294.387 89.7651 285.661 Q89.7651 276.911 92.8206 272.327 Q95.8993 267.721 101.709 267.721 Z\" fill=\"#000000\" fill-rule=\"evenodd\" fill-opacity=\"1\" /><path clip-path=\"url(#clip100)\" d=\"M121.871 297.026 L126.756 297.026 L126.756 302.906 L121.871 302.906 L121.871 297.026 Z\" fill=\"#000000\" fill-rule=\"evenodd\" fill-opacity=\"1\" /><path clip-path=\"url(#clip100)\" d=\"M140.968 298.971 L157.288 298.971 L157.288 302.906 L135.344 302.906 L135.344 298.971 Q138.006 296.216 142.589 291.586 Q147.195 286.934 148.376 285.591 Q150.621 283.068 151.501 281.332 Q152.404 279.573 152.404 277.883 Q152.404 275.128 150.459 273.392 Q148.538 271.656 145.436 271.656 Q143.237 271.656 140.783 272.42 Q138.353 273.184 135.575 274.735 L135.575 270.012 Q138.399 268.878 140.853 268.299 Q143.306 267.721 145.343 267.721 Q150.714 267.721 153.908 270.406 Q157.103 273.091 157.103 277.582 Q157.103 279.711 156.292 281.633 Q155.505 283.531 153.399 286.123 Q152.82 286.795 149.718 290.012 Q146.617 293.207 140.968 298.971 Z\" fill=\"#000000\" fill-rule=\"evenodd\" fill-opacity=\"1\" /><path clip-path=\"url(#clip100)\" d=\"M100.76 59.678 Q97.1493 59.678 95.3206 63.2428 Q93.515 66.7844 93.515 73.914 Q93.515 81.0205 95.3206 84.5853 Q97.1493 88.1269 100.76 88.1269 Q104.395 88.1269 106.2 84.5853 Q108.029 81.0205 108.029 73.914 Q108.029 66.7844 106.2 63.2428 Q104.395 59.678 100.76 59.678 M100.76 55.9743 Q106.571 55.9743 109.626 60.5808 Q112.705 65.1641 112.705 73.914 Q112.705 82.6408 109.626 87.2473 Q106.571 91.8306 100.76 91.8306 Q94.9502 91.8306 91.8715 87.2473 Q88.816 82.6408 88.816 73.914 Q88.816 65.1641 91.8715 60.5808 Q94.9502 55.9743 100.76 55.9743 Z\" fill=\"#000000\" fill-rule=\"evenodd\" fill-opacity=\"1\" /><path clip-path=\"url(#clip100)\" d=\"M120.922 85.2797 L125.807 85.2797 L125.807 91.1593 L120.922 91.1593 L120.922 85.2797 Z\" fill=\"#000000\" fill-rule=\"evenodd\" fill-opacity=\"1\" /><path clip-path=\"url(#clip100)\" d=\"M150.158 72.5251 Q153.515 73.2427 155.39 75.5112 Q157.288 77.7797 157.288 81.1131 Q157.288 86.2288 153.769 89.0297 Q150.251 91.8306 143.769 91.8306 Q141.593 91.8306 139.279 91.3908 Q136.987 90.9741 134.533 90.1176 L134.533 85.6038 Q136.478 86.738 138.793 87.3167 Q141.107 87.8954 143.631 87.8954 Q148.029 87.8954 150.32 86.1593 Q152.635 84.4232 152.635 81.1131 Q152.635 78.0575 150.482 76.3446 Q148.353 74.6085 144.533 74.6085 L140.506 74.6085 L140.506 70.7659 L144.718 70.7659 Q148.168 70.7659 149.996 69.4002 Q151.825 68.0113 151.825 65.4187 Q151.825 62.7567 149.927 61.3446 Q148.052 59.9095 144.533 59.9095 Q142.612 59.9095 140.413 60.3261 Q138.214 60.7428 135.575 61.6224 L135.575 57.4558 Q138.237 56.715 140.552 56.3447 Q142.89 55.9743 144.95 55.9743 Q150.274 55.9743 153.376 58.4048 Q156.478 60.8122 156.478 64.9326 Q156.478 67.8029 154.834 69.7937 Q153.191 71.7613 150.158 72.5251 Z\" fill=\"#000000\" fill-rule=\"evenodd\" fill-opacity=\"1\" /><path clip-path=\"url(#clip102)\" d=\"\nM312.062 87.9763 L312.062 709.119 L468.954 709.119 L468.954 87.9763 L312.062 87.9763 L312.062 87.9763  Z\n  \" fill=\"#009af9\" fill-rule=\"evenodd\" fill-opacity=\"1\"/>\n<polyline clip-path=\"url(#clip102)\" style=\"stroke:#000000; stroke-linecap:round; stroke-linejoin:round; stroke-width:4; stroke-opacity:1; fill:none\" points=\"\n  312.062,87.9763 312.062,709.119 468.954,709.119 468.954,87.9763 312.062,87.9763 \n  \"/>\n<path clip-path=\"url(#clip102)\" d=\"\nM508.177 855.954 L508.177 709.119 L665.068 709.119 L665.068 855.954 L508.177 855.954 L508.177 855.954  Z\n  \" fill=\"#009af9\" fill-rule=\"evenodd\" fill-opacity=\"1\"/>\n<polyline clip-path=\"url(#clip102)\" style=\"stroke:#000000; stroke-linecap:round; stroke-linejoin:round; stroke-width:4; stroke-opacity:1; fill:none\" points=\"\n  508.177,855.954 508.177,709.119 665.068,709.119 665.068,855.954 508.177,855.954 \n  \"/>\n<path clip-path=\"url(#clip102)\" d=\"\nM704.291 966.292 L704.291 709.119 L861.182 709.119 L861.182 966.292 L704.291 966.292 L704.291 966.292  Z\n  \" fill=\"#009af9\" fill-rule=\"evenodd\" fill-opacity=\"1\"/>\n<polyline clip-path=\"url(#clip102)\" style=\"stroke:#000000; stroke-linecap:round; stroke-linejoin:round; stroke-width:4; stroke-opacity:1; fill:none\" points=\"\n  704.291,966.292 704.291,709.119 861.182,709.119 861.182,966.292 704.291,966.292 \n  \"/>\n<path clip-path=\"url(#clip102)\" d=\"\nM900.405 633.92 L900.405 709.119 L1057.3 709.119 L1057.3 633.92 L900.405 633.92 L900.405 633.92  Z\n  \" fill=\"#009af9\" fill-rule=\"evenodd\" fill-opacity=\"1\"/>\n<polyline clip-path=\"url(#clip102)\" style=\"stroke:#000000; stroke-linecap:round; stroke-linejoin:round; stroke-width:4; stroke-opacity:1; fill:none\" points=\"\n  900.405,633.92 900.405,709.119 1057.3,709.119 1057.3,633.92 900.405,633.92 \n  \"/>\n<path clip-path=\"url(#clip102)\" d=\"\nM1096.52 490.968 L1096.52 709.119 L1253.41 709.119 L1253.41 490.968 L1096.52 490.968 L1096.52 490.968  Z\n  \" fill=\"#009af9\" fill-rule=\"evenodd\" fill-opacity=\"1\"/>\n<polyline clip-path=\"url(#clip102)\" style=\"stroke:#000000; stroke-linecap:round; stroke-linejoin:round; stroke-width:4; stroke-opacity:1; fill:none\" points=\"\n  1096.52,490.968 1096.52,709.119 1253.41,709.119 1253.41,490.968 1096.52,490.968 \n  \"/>\n<path clip-path=\"url(#clip102)\" d=\"\nM1292.63 1445.72 L1292.63 709.119 L1449.52 709.119 L1449.52 1445.72 L1292.63 1445.72 L1292.63 1445.72  Z\n  \" fill=\"#009af9\" fill-rule=\"evenodd\" fill-opacity=\"1\"/>\n<polyline clip-path=\"url(#clip102)\" style=\"stroke:#000000; stroke-linecap:round; stroke-linejoin:round; stroke-width:4; stroke-opacity:1; fill:none\" points=\"\n  1292.63,1445.72 1292.63,709.119 1449.52,709.119 1449.52,1445.72 1292.63,1445.72 \n  \"/>\n<path clip-path=\"url(#clip102)\" d=\"\nM1488.75 484.899 L1488.75 709.119 L1645.64 709.119 L1645.64 484.899 L1488.75 484.899 L1488.75 484.899  Z\n  \" fill=\"#009af9\" fill-rule=\"evenodd\" fill-opacity=\"1\"/>\n<polyline clip-path=\"url(#clip102)\" style=\"stroke:#000000; stroke-linecap:round; stroke-linejoin:round; stroke-width:4; stroke-opacity:1; fill:none\" points=\"\n  1488.75,484.899 1488.75,709.119 1645.64,709.119 1645.64,484.899 1488.75,484.899 \n  \"/>\n<path clip-path=\"url(#clip102)\" d=\"\nM1684.86 1233.62 L1684.86 709.119 L1841.75 709.119 L1841.75 1233.62 L1684.86 1233.62 L1684.86 1233.62  Z\n  \" fill=\"#009af9\" fill-rule=\"evenodd\" fill-opacity=\"1\"/>\n<polyline clip-path=\"url(#clip102)\" style=\"stroke:#000000; stroke-linecap:round; stroke-linejoin:round; stroke-width:4; stroke-opacity:1; fill:none\" points=\"\n  1684.86,1233.62 1684.86,709.119 1841.75,709.119 1841.75,1233.62 1684.86,1233.62 \n  \"/>\n<path clip-path=\"url(#clip102)\" d=\"\nM1880.98 491.309 L1880.98 709.119 L2037.87 709.119 L2037.87 491.309 L1880.98 491.309 L1880.98 491.309  Z\n  \" fill=\"#009af9\" fill-rule=\"evenodd\" fill-opacity=\"1\"/>\n<polyline clip-path=\"url(#clip102)\" style=\"stroke:#000000; stroke-linecap:round; stroke-linejoin:round; stroke-width:4; stroke-opacity:1; fill:none\" points=\"\n  1880.98,491.309 1880.98,709.119 2037.87,709.119 2037.87,491.309 1880.98,491.309 \n  \"/>\n<path clip-path=\"url(#clip102)\" d=\"\nM2077.09 408.996 L2077.09 709.119 L2233.98 709.119 L2233.98 408.996 L2077.09 408.996 L2077.09 408.996  Z\n  \" fill=\"#009af9\" fill-rule=\"evenodd\" fill-opacity=\"1\"/>\n<polyline clip-path=\"url(#clip102)\" style=\"stroke:#000000; stroke-linecap:round; stroke-linejoin:round; stroke-width:4; stroke-opacity:1; fill:none\" points=\"\n  2077.09,408.996 2077.09,709.119 2233.98,709.119 2233.98,408.996 2077.09,408.996 \n  \"/>\n<circle clip-path=\"url(#clip102)\" style=\"fill:#009af9; stroke:none; fill-opacity:0\" cx=\"390.508\" cy=\"87.9763\" r=\"2\"/>\n<circle clip-path=\"url(#clip102)\" style=\"fill:#009af9; stroke:none; fill-opacity:0\" cx=\"586.622\" cy=\"855.954\" r=\"2\"/>\n<circle clip-path=\"url(#clip102)\" style=\"fill:#009af9; stroke:none; fill-opacity:0\" cx=\"782.736\" cy=\"966.292\" r=\"2\"/>\n<circle clip-path=\"url(#clip102)\" style=\"fill:#009af9; stroke:none; fill-opacity:0\" cx=\"978.851\" cy=\"633.92\" r=\"2\"/>\n<circle clip-path=\"url(#clip102)\" style=\"fill:#009af9; stroke:none; fill-opacity:0\" cx=\"1174.96\" cy=\"490.968\" r=\"2\"/>\n<circle clip-path=\"url(#clip102)\" style=\"fill:#009af9; stroke:none; fill-opacity:0\" cx=\"1371.08\" cy=\"1445.72\" r=\"2\"/>\n<circle clip-path=\"url(#clip102)\" style=\"fill:#009af9; stroke:none; fill-opacity:0\" cx=\"1567.19\" cy=\"484.899\" r=\"2\"/>\n<circle clip-path=\"url(#clip102)\" style=\"fill:#009af9; stroke:none; fill-opacity:0\" cx=\"1763.31\" cy=\"1233.62\" r=\"2\"/>\n<circle clip-path=\"url(#clip102)\" style=\"fill:#009af9; stroke:none; fill-opacity:0\" cx=\"1959.42\" cy=\"491.309\" r=\"2\"/>\n<circle clip-path=\"url(#clip102)\" style=\"fill:#009af9; stroke:none; fill-opacity:0\" cx=\"2155.54\" cy=\"408.996\" r=\"2\"/>\n</svg>\n",
      "text/html": [
       "<?xml version=\"1.0\" encoding=\"utf-8\"?>\n",
       "<svg xmlns=\"http://www.w3.org/2000/svg\" xmlns:xlink=\"http://www.w3.org/1999/xlink\" width=\"600\" height=\"400\" viewBox=\"0 0 2400 1600\">\n",
       "<defs>\n",
       "  <clipPath id=\"clip150\">\n",
       "    <rect x=\"0\" y=\"0\" width=\"2400\" height=\"1600\"/>\n",
       "  </clipPath>\n",
       "</defs>\n",
       "<path clip-path=\"url(#clip150)\" d=\"\n",
       "M0 1600 L2400 1600 L2400 0 L0 0  Z\n",
       "  \" fill=\"#ffffff\" fill-rule=\"evenodd\" fill-opacity=\"1\"/>\n",
       "<defs>\n",
       "  <clipPath id=\"clip151\">\n",
       "    <rect x=\"480\" y=\"0\" width=\"1681\" height=\"1600\"/>\n",
       "  </clipPath>\n",
       "</defs>\n",
       "<path clip-path=\"url(#clip150)\" d=\"\n",
       "M193.288 1486.45 L2352.76 1486.45 L2352.76 47.2441 L193.288 47.2441  Z\n",
       "  \" fill=\"#ffffff\" fill-rule=\"evenodd\" fill-opacity=\"1\"/>\n",
       "<defs>\n",
       "  <clipPath id=\"clip152\">\n",
       "    <rect x=\"193\" y=\"47\" width=\"2160\" height=\"1440\"/>\n",
       "  </clipPath>\n",
       "</defs>\n",
       "<polyline clip-path=\"url(#clip152)\" style=\"stroke:#000000; stroke-linecap:round; stroke-linejoin:round; stroke-width:2; stroke-opacity:0.1; fill:none\" points=\"\n",
       "  390.508,1486.45 390.508,47.2441 \n",
       "  \"/>\n",
       "<polyline clip-path=\"url(#clip152)\" style=\"stroke:#000000; stroke-linecap:round; stroke-linejoin:round; stroke-width:2; stroke-opacity:0.1; fill:none\" points=\"\n",
       "  880.794,1486.45 880.794,47.2441 \n",
       "  \"/>\n",
       "<polyline clip-path=\"url(#clip152)\" style=\"stroke:#000000; stroke-linecap:round; stroke-linejoin:round; stroke-width:2; stroke-opacity:0.1; fill:none\" points=\"\n",
       "  1371.08,1486.45 1371.08,47.2441 \n",
       "  \"/>\n",
       "<polyline clip-path=\"url(#clip152)\" style=\"stroke:#000000; stroke-linecap:round; stroke-linejoin:round; stroke-width:2; stroke-opacity:0.1; fill:none\" points=\"\n",
       "  1861.36,1486.45 1861.36,47.2441 \n",
       "  \"/>\n",
       "<polyline clip-path=\"url(#clip152)\" style=\"stroke:#000000; stroke-linecap:round; stroke-linejoin:round; stroke-width:2; stroke-opacity:0.1; fill:none\" points=\"\n",
       "  2351.65,1486.45 2351.65,47.2441 \n",
       "  \"/>\n",
       "<polyline clip-path=\"url(#clip150)\" style=\"stroke:#000000; stroke-linecap:round; stroke-linejoin:round; stroke-width:4; stroke-opacity:1; fill:none\" points=\"\n",
       "  193.288,1486.45 2352.76,1486.45 \n",
       "  \"/>\n",
       "<polyline clip-path=\"url(#clip150)\" style=\"stroke:#000000; stroke-linecap:round; stroke-linejoin:round; stroke-width:4; stroke-opacity:1; fill:none\" points=\"\n",
       "  390.508,1486.45 390.508,1467.55 \n",
       "  \"/>\n",
       "<polyline clip-path=\"url(#clip150)\" style=\"stroke:#000000; stroke-linecap:round; stroke-linejoin:round; stroke-width:4; stroke-opacity:1; fill:none\" points=\"\n",
       "  880.794,1486.45 880.794,1467.55 \n",
       "  \"/>\n",
       "<polyline clip-path=\"url(#clip150)\" style=\"stroke:#000000; stroke-linecap:round; stroke-linejoin:round; stroke-width:4; stroke-opacity:1; fill:none\" points=\"\n",
       "  1371.08,1486.45 1371.08,1467.55 \n",
       "  \"/>\n",
       "<polyline clip-path=\"url(#clip150)\" style=\"stroke:#000000; stroke-linecap:round; stroke-linejoin:round; stroke-width:4; stroke-opacity:1; fill:none\" points=\"\n",
       "  1861.36,1486.45 1861.36,1467.55 \n",
       "  \"/>\n",
       "<polyline clip-path=\"url(#clip150)\" style=\"stroke:#000000; stroke-linecap:round; stroke-linejoin:round; stroke-width:4; stroke-opacity:1; fill:none\" points=\"\n",
       "  2351.65,1486.45 2351.65,1467.55 \n",
       "  \"/>\n",
       "<path clip-path=\"url(#clip150)\" d=\"M367.892 1517.37 Q364.281 1517.37 362.453 1520.93 Q360.647 1524.47 360.647 1531.6 Q360.647 1538.71 362.453 1542.27 Q364.281 1545.82 367.892 1545.82 Q371.527 1545.82 373.332 1542.27 Q375.161 1538.71 375.161 1531.6 Q375.161 1524.47 373.332 1520.93 Q371.527 1517.37 367.892 1517.37 M367.892 1513.66 Q373.703 1513.66 376.758 1518.27 Q379.837 1522.85 379.837 1531.6 Q379.837 1540.33 376.758 1544.94 Q373.703 1549.52 367.892 1549.52 Q362.082 1549.52 359.004 1544.94 Q355.948 1540.33 355.948 1531.6 Q355.948 1522.85 359.004 1518.27 Q362.082 1513.66 367.892 1513.66 Z\" fill=\"#000000\" fill-rule=\"evenodd\" fill-opacity=\"1\" /><path clip-path=\"url(#clip150)\" d=\"M388.054 1542.97 L392.939 1542.97 L392.939 1548.85 L388.054 1548.85 L388.054 1542.97 Z\" fill=\"#000000\" fill-rule=\"evenodd\" fill-opacity=\"1\" /><path clip-path=\"url(#clip150)\" d=\"M413.124 1517.37 Q409.513 1517.37 407.684 1520.93 Q405.878 1524.47 405.878 1531.6 Q405.878 1538.71 407.684 1542.27 Q409.513 1545.82 413.124 1545.82 Q416.758 1545.82 418.564 1542.27 Q420.392 1538.71 420.392 1531.6 Q420.392 1524.47 418.564 1520.93 Q416.758 1517.37 413.124 1517.37 M413.124 1513.66 Q418.934 1513.66 421.989 1518.27 Q425.068 1522.85 425.068 1531.6 Q425.068 1540.33 421.989 1544.94 Q418.934 1549.52 413.124 1549.52 Q407.314 1549.52 404.235 1544.94 Q401.179 1540.33 401.179 1531.6 Q401.179 1522.85 404.235 1518.27 Q407.314 1513.66 413.124 1513.66 Z\" fill=\"#000000\" fill-rule=\"evenodd\" fill-opacity=\"1\" /><path clip-path=\"url(#clip150)\" d=\"M852.53 1544.91 L868.849 1544.91 L868.849 1548.85 L846.905 1548.85 L846.905 1544.91 Q849.567 1542.16 854.15 1537.53 Q858.757 1532.88 859.937 1531.53 Q862.183 1529.01 863.062 1527.27 Q863.965 1525.51 863.965 1523.82 Q863.965 1521.07 862.02 1519.33 Q860.099 1517.6 856.997 1517.6 Q854.798 1517.6 852.345 1518.36 Q849.914 1519.13 847.136 1520.68 L847.136 1515.95 Q849.96 1514.82 852.414 1514.24 Q854.868 1513.66 856.905 1513.66 Q862.275 1513.66 865.47 1516.35 Q868.664 1519.03 868.664 1523.52 Q868.664 1525.65 867.854 1527.57 Q867.067 1529.47 864.96 1532.07 Q864.382 1532.74 861.28 1535.95 Q858.178 1539.15 852.53 1544.91 Z\" fill=\"#000000\" fill-rule=\"evenodd\" fill-opacity=\"1\" /><path clip-path=\"url(#clip150)\" d=\"M878.664 1542.97 L883.548 1542.97 L883.548 1548.85 L878.664 1548.85 L878.664 1542.97 Z\" fill=\"#000000\" fill-rule=\"evenodd\" fill-opacity=\"1\" /><path clip-path=\"url(#clip150)\" d=\"M893.78 1514.29 L912.136 1514.29 L912.136 1518.22 L898.062 1518.22 L898.062 1526.7 Q899.08 1526.35 900.099 1526.19 Q901.118 1526 902.136 1526 Q907.923 1526 911.303 1529.17 Q914.682 1532.34 914.682 1537.76 Q914.682 1543.34 911.21 1546.44 Q907.738 1549.52 901.418 1549.52 Q899.243 1549.52 896.974 1549.15 Q894.729 1548.78 892.321 1548.04 L892.321 1543.34 Q894.405 1544.47 896.627 1545.03 Q898.849 1545.58 901.326 1545.58 Q905.33 1545.58 907.668 1543.48 Q910.006 1541.37 910.006 1537.76 Q910.006 1534.15 907.668 1532.04 Q905.33 1529.94 901.326 1529.94 Q899.451 1529.94 897.576 1530.35 Q895.724 1530.77 893.78 1531.65 L893.78 1514.29 Z\" fill=\"#000000\" fill-rule=\"evenodd\" fill-opacity=\"1\" /><path clip-path=\"url(#clip150)\" d=\"M1338.24 1514.29 L1356.6 1514.29 L1356.6 1518.22 L1342.53 1518.22 L1342.53 1526.7 Q1343.54 1526.35 1344.56 1526.19 Q1345.58 1526 1346.6 1526 Q1352.39 1526 1355.77 1529.17 Q1359.15 1532.34 1359.15 1537.76 Q1359.15 1543.34 1355.67 1546.44 Q1352.2 1549.52 1345.88 1549.52 Q1343.71 1549.52 1341.44 1549.15 Q1339.19 1548.78 1336.79 1548.04 L1336.79 1543.34 Q1338.87 1544.47 1341.09 1545.03 Q1343.31 1545.58 1345.79 1545.58 Q1349.79 1545.58 1352.13 1543.48 Q1354.47 1541.37 1354.47 1537.76 Q1354.47 1534.15 1352.13 1532.04 Q1349.79 1529.94 1345.79 1529.94 Q1343.91 1529.94 1342.04 1530.35 Q1340.19 1530.77 1338.24 1531.65 L1338.24 1514.29 Z\" fill=\"#000000\" fill-rule=\"evenodd\" fill-opacity=\"1\" /><path clip-path=\"url(#clip150)\" d=\"M1368.36 1542.97 L1373.24 1542.97 L1373.24 1548.85 L1368.36 1548.85 L1368.36 1542.97 Z\" fill=\"#000000\" fill-rule=\"evenodd\" fill-opacity=\"1\" /><path clip-path=\"url(#clip150)\" d=\"M1393.43 1517.37 Q1389.82 1517.37 1387.99 1520.93 Q1386.18 1524.47 1386.18 1531.6 Q1386.18 1538.71 1387.99 1542.27 Q1389.82 1545.82 1393.43 1545.82 Q1397.06 1545.82 1398.87 1542.27 Q1400.7 1538.71 1400.7 1531.6 Q1400.7 1524.47 1398.87 1520.93 Q1397.06 1517.37 1393.43 1517.37 M1393.43 1513.66 Q1399.24 1513.66 1402.29 1518.27 Q1405.37 1522.85 1405.37 1531.6 Q1405.37 1540.33 1402.29 1544.94 Q1399.24 1549.52 1393.43 1549.52 Q1387.62 1549.52 1384.54 1544.94 Q1381.48 1540.33 1381.48 1531.6 Q1381.48 1522.85 1384.54 1518.27 Q1387.62 1513.66 1393.43 1513.66 Z\" fill=\"#000000\" fill-rule=\"evenodd\" fill-opacity=\"1\" /><path clip-path=\"url(#clip150)\" d=\"M1827.68 1514.29 L1849.91 1514.29 L1849.91 1516.28 L1837.36 1548.85 L1832.48 1548.85 L1844.28 1518.22 L1827.68 1518.22 L1827.68 1514.29 Z\" fill=\"#000000\" fill-rule=\"evenodd\" fill-opacity=\"1\" /><path clip-path=\"url(#clip150)\" d=\"M1859.03 1542.97 L1863.91 1542.97 L1863.91 1548.85 L1859.03 1548.85 L1859.03 1542.97 Z\" fill=\"#000000\" fill-rule=\"evenodd\" fill-opacity=\"1\" /><path clip-path=\"url(#clip150)\" d=\"M1874.14 1514.29 L1892.5 1514.29 L1892.5 1518.22 L1878.42 1518.22 L1878.42 1526.7 Q1879.44 1526.35 1880.46 1526.19 Q1881.48 1526 1882.5 1526 Q1888.29 1526 1891.67 1529.17 Q1895.04 1532.34 1895.04 1537.76 Q1895.04 1543.34 1891.57 1546.44 Q1888.1 1549.52 1881.78 1549.52 Q1879.61 1549.52 1877.34 1549.15 Q1875.09 1548.78 1872.68 1548.04 L1872.68 1543.34 Q1874.77 1544.47 1876.99 1545.03 Q1879.21 1545.58 1881.69 1545.58 Q1885.69 1545.58 1888.03 1543.48 Q1890.37 1541.37 1890.37 1537.76 Q1890.37 1534.15 1888.03 1532.04 Q1885.69 1529.94 1881.69 1529.94 Q1879.81 1529.94 1877.94 1530.35 Q1876.09 1530.77 1874.14 1531.65 L1874.14 1514.29 Z\" fill=\"#000000\" fill-rule=\"evenodd\" fill-opacity=\"1\" /><path clip-path=\"url(#clip150)\" d=\"M2303.72 1544.91 L2311.36 1544.91 L2311.36 1518.55 L2303.05 1520.21 L2303.05 1515.95 L2311.31 1514.29 L2315.99 1514.29 L2315.99 1544.91 L2323.63 1544.91 L2323.63 1548.85 L2303.72 1548.85 L2303.72 1544.91 Z\" fill=\"#000000\" fill-rule=\"evenodd\" fill-opacity=\"1\" /><path clip-path=\"url(#clip150)\" d=\"M2343.07 1517.37 Q2339.46 1517.37 2337.63 1520.93 Q2335.83 1524.47 2335.83 1531.6 Q2335.83 1538.71 2337.63 1542.27 Q2339.46 1545.82 2343.07 1545.82 Q2346.71 1545.82 2348.51 1542.27 Q2350.34 1538.71 2350.34 1531.6 Q2350.34 1524.47 2348.51 1520.93 Q2346.71 1517.37 2343.07 1517.37 M2343.07 1513.66 Q2348.88 1513.66 2351.94 1518.27 Q2355.02 1522.85 2355.02 1531.6 Q2355.02 1540.33 2351.94 1544.94 Q2348.88 1549.52 2343.07 1549.52 Q2337.26 1549.52 2334.18 1544.94 Q2331.13 1540.33 2331.13 1531.6 Q2331.13 1522.85 2334.18 1518.27 Q2337.26 1513.66 2343.07 1513.66 Z\" fill=\"#000000\" fill-rule=\"evenodd\" fill-opacity=\"1\" /><path clip-path=\"url(#clip150)\" d=\"M2363.24 1542.97 L2368.12 1542.97 L2368.12 1548.85 L2363.24 1548.85 L2363.24 1542.97 Z\" fill=\"#000000\" fill-rule=\"evenodd\" fill-opacity=\"1\" /><path clip-path=\"url(#clip150)\" d=\"M2388.3 1517.37 Q2384.69 1517.37 2382.86 1520.93 Q2381.06 1524.47 2381.06 1531.6 Q2381.06 1538.71 2382.86 1542.27 Q2384.69 1545.82 2388.3 1545.82 Q2391.94 1545.82 2393.74 1542.27 Q2395.57 1538.71 2395.57 1531.6 Q2395.57 1524.47 2393.74 1520.93 Q2391.94 1517.37 2388.3 1517.37 M2388.3 1513.66 Q2394.11 1513.66 2397.17 1518.27 Q2400.25 1522.85 2400.25 1531.6 Q2400.25 1540.33 2397.17 1544.94 Q2394.11 1549.52 2388.3 1549.52 Q2382.49 1549.52 2379.42 1544.94 Q2376.36 1540.33 2376.36 1531.6 Q2376.36 1522.85 2379.42 1518.27 Q2382.49 1513.66 2388.3 1513.66 Z\" fill=\"#000000\" fill-rule=\"evenodd\" fill-opacity=\"1\" /><polyline clip-path=\"url(#clip152)\" style=\"stroke:#000000; stroke-linecap:round; stroke-linejoin:round; stroke-width:2; stroke-opacity:0.1; fill:none\" points=\"\n",
       "  193.288,1344.36 2352.76,1344.36 \n",
       "  \"/>\n",
       "<polyline clip-path=\"url(#clip152)\" style=\"stroke:#000000; stroke-linecap:round; stroke-linejoin:round; stroke-width:2; stroke-opacity:0.1; fill:none\" points=\"\n",
       "  193.288,1132.61 2352.76,1132.61 \n",
       "  \"/>\n",
       "<polyline clip-path=\"url(#clip152)\" style=\"stroke:#000000; stroke-linecap:round; stroke-linejoin:round; stroke-width:2; stroke-opacity:0.1; fill:none\" points=\"\n",
       "  193.288,920.865 2352.76,920.865 \n",
       "  \"/>\n",
       "<polyline clip-path=\"url(#clip152)\" style=\"stroke:#000000; stroke-linecap:round; stroke-linejoin:round; stroke-width:2; stroke-opacity:0.1; fill:none\" points=\"\n",
       "  193.288,709.119 2352.76,709.119 \n",
       "  \"/>\n",
       "<polyline clip-path=\"url(#clip152)\" style=\"stroke:#000000; stroke-linecap:round; stroke-linejoin:round; stroke-width:2; stroke-opacity:0.1; fill:none\" points=\"\n",
       "  193.288,497.372 2352.76,497.372 \n",
       "  \"/>\n",
       "<polyline clip-path=\"url(#clip152)\" style=\"stroke:#000000; stroke-linecap:round; stroke-linejoin:round; stroke-width:2; stroke-opacity:0.1; fill:none\" points=\"\n",
       "  193.288,285.626 2352.76,285.626 \n",
       "  \"/>\n",
       "<polyline clip-path=\"url(#clip152)\" style=\"stroke:#000000; stroke-linecap:round; stroke-linejoin:round; stroke-width:2; stroke-opacity:0.1; fill:none\" points=\"\n",
       "  193.288,73.8793 2352.76,73.8793 \n",
       "  \"/>\n",
       "<polyline clip-path=\"url(#clip150)\" style=\"stroke:#000000; stroke-linecap:round; stroke-linejoin:round; stroke-width:4; stroke-opacity:1; fill:none\" points=\"\n",
       "  193.288,1486.45 193.288,47.2441 \n",
       "  \"/>\n",
       "<polyline clip-path=\"url(#clip150)\" style=\"stroke:#000000; stroke-linecap:round; stroke-linejoin:round; stroke-width:4; stroke-opacity:1; fill:none\" points=\"\n",
       "  193.288,1344.36 212.185,1344.36 \n",
       "  \"/>\n",
       "<polyline clip-path=\"url(#clip150)\" style=\"stroke:#000000; stroke-linecap:round; stroke-linejoin:round; stroke-width:4; stroke-opacity:1; fill:none\" points=\"\n",
       "  193.288,1132.61 212.185,1132.61 \n",
       "  \"/>\n",
       "<polyline clip-path=\"url(#clip150)\" style=\"stroke:#000000; stroke-linecap:round; stroke-linejoin:round; stroke-width:4; stroke-opacity:1; fill:none\" points=\"\n",
       "  193.288,920.865 212.185,920.865 \n",
       "  \"/>\n",
       "<polyline clip-path=\"url(#clip150)\" style=\"stroke:#000000; stroke-linecap:round; stroke-linejoin:round; stroke-width:4; stroke-opacity:1; fill:none\" points=\"\n",
       "  193.288,709.119 212.185,709.119 \n",
       "  \"/>\n",
       "<polyline clip-path=\"url(#clip150)\" style=\"stroke:#000000; stroke-linecap:round; stroke-linejoin:round; stroke-width:4; stroke-opacity:1; fill:none\" points=\"\n",
       "  193.288,497.372 212.185,497.372 \n",
       "  \"/>\n",
       "<polyline clip-path=\"url(#clip150)\" style=\"stroke:#000000; stroke-linecap:round; stroke-linejoin:round; stroke-width:4; stroke-opacity:1; fill:none\" points=\"\n",
       "  193.288,285.626 212.185,285.626 \n",
       "  \"/>\n",
       "<polyline clip-path=\"url(#clip150)\" style=\"stroke:#000000; stroke-linecap:round; stroke-linejoin:round; stroke-width:4; stroke-opacity:1; fill:none\" points=\"\n",
       "  193.288,73.8793 212.185,73.8793 \n",
       "  \"/>\n",
       "<path clip-path=\"url(#clip150)\" d=\"M50.9921 1344.81 L80.6679 1344.81 L80.6679 1348.74 L50.9921 1348.74 L50.9921 1344.81 Z\" fill=\"#000000\" fill-rule=\"evenodd\" fill-opacity=\"1\" /><path clip-path=\"url(#clip150)\" d=\"M100.76 1330.16 Q97.1493 1330.16 95.3206 1333.72 Q93.515 1337.26 93.515 1344.39 Q93.515 1351.5 95.3206 1355.06 Q97.1493 1358.61 100.76 1358.61 Q104.395 1358.61 106.2 1355.06 Q108.029 1351.5 108.029 1344.39 Q108.029 1337.26 106.2 1333.72 Q104.395 1330.16 100.76 1330.16 M100.76 1326.45 Q106.571 1326.45 109.626 1331.06 Q112.705 1335.64 112.705 1344.39 Q112.705 1353.12 109.626 1357.73 Q106.571 1362.31 100.76 1362.31 Q94.9502 1362.31 91.8715 1357.73 Q88.816 1353.12 88.816 1344.39 Q88.816 1335.64 91.8715 1331.06 Q94.9502 1326.45 100.76 1326.45 Z\" fill=\"#000000\" fill-rule=\"evenodd\" fill-opacity=\"1\" /><path clip-path=\"url(#clip150)\" d=\"M120.922 1355.76 L125.807 1355.76 L125.807 1361.64 L120.922 1361.64 L120.922 1355.76 Z\" fill=\"#000000\" fill-rule=\"evenodd\" fill-opacity=\"1\" /><path clip-path=\"url(#clip150)\" d=\"M150.158 1343 Q153.515 1343.72 155.39 1345.99 Q157.288 1348.26 157.288 1351.59 Q157.288 1356.71 153.769 1359.51 Q150.251 1362.31 143.769 1362.31 Q141.593 1362.31 139.279 1361.87 Q136.987 1361.45 134.533 1360.6 L134.533 1356.08 Q136.478 1357.22 138.793 1357.8 Q141.107 1358.37 143.631 1358.37 Q148.029 1358.37 150.32 1356.64 Q152.635 1354.9 152.635 1351.59 Q152.635 1348.54 150.482 1346.82 Q148.353 1345.09 144.533 1345.09 L140.506 1345.09 L140.506 1341.24 L144.718 1341.24 Q148.168 1341.24 149.996 1339.88 Q151.825 1338.49 151.825 1335.9 Q151.825 1333.24 149.927 1331.82 Q148.052 1330.39 144.533 1330.39 Q142.612 1330.39 140.413 1330.81 Q138.214 1331.22 135.575 1332.1 L135.575 1327.93 Q138.237 1327.19 140.552 1326.82 Q142.89 1326.45 144.95 1326.45 Q150.274 1326.45 153.376 1328.88 Q156.478 1331.29 156.478 1335.41 Q156.478 1338.28 154.834 1340.27 Q153.191 1342.24 150.158 1343 Z\" fill=\"#000000\" fill-rule=\"evenodd\" fill-opacity=\"1\" /><path clip-path=\"url(#clip150)\" d=\"M51.9412 1133.06 L81.617 1133.06 L81.617 1137 L51.9412 1137 L51.9412 1133.06 Z\" fill=\"#000000\" fill-rule=\"evenodd\" fill-opacity=\"1\" /><path clip-path=\"url(#clip150)\" d=\"M101.709 1118.41 Q98.0984 1118.41 96.2697 1121.98 Q94.4641 1125.52 94.4641 1132.65 Q94.4641 1139.75 96.2697 1143.32 Q98.0984 1146.86 101.709 1146.86 Q105.344 1146.86 107.149 1143.32 Q108.978 1139.75 108.978 1132.65 Q108.978 1125.52 107.149 1121.98 Q105.344 1118.41 101.709 1118.41 M101.709 1114.71 Q107.52 1114.71 110.575 1119.31 Q113.654 1123.9 113.654 1132.65 Q113.654 1141.37 110.575 1145.98 Q107.52 1150.56 101.709 1150.56 Q95.8993 1150.56 92.8206 1145.98 Q89.7651 1141.37 89.7651 1132.65 Q89.7651 1123.9 92.8206 1119.31 Q95.8993 1114.71 101.709 1114.71 Z\" fill=\"#000000\" fill-rule=\"evenodd\" fill-opacity=\"1\" /><path clip-path=\"url(#clip150)\" d=\"M121.871 1144.01 L126.756 1144.01 L126.756 1149.89 L121.871 1149.89 L121.871 1144.01 Z\" fill=\"#000000\" fill-rule=\"evenodd\" fill-opacity=\"1\" /><path clip-path=\"url(#clip150)\" d=\"M140.968 1145.96 L157.288 1145.96 L157.288 1149.89 L135.344 1149.89 L135.344 1145.96 Q138.006 1143.2 142.589 1138.57 Q147.195 1133.92 148.376 1132.58 Q150.621 1130.05 151.501 1128.32 Q152.404 1126.56 152.404 1124.87 Q152.404 1122.11 150.459 1120.38 Q148.538 1118.64 145.436 1118.64 Q143.237 1118.64 140.783 1119.41 Q138.353 1120.17 135.575 1121.72 L135.575 1117 Q138.399 1115.86 140.853 1115.29 Q143.306 1114.71 145.343 1114.71 Q150.714 1114.71 153.908 1117.39 Q157.103 1120.08 157.103 1124.57 Q157.103 1126.7 156.292 1128.62 Q155.505 1130.52 153.399 1133.11 Q152.82 1133.78 149.718 1137 Q146.617 1140.19 140.968 1145.96 Z\" fill=\"#000000\" fill-rule=\"evenodd\" fill-opacity=\"1\" /><path clip-path=\"url(#clip150)\" d=\"M51.5708 921.317 L81.2466 921.317 L81.2466 925.252 L51.5708 925.252 L51.5708 921.317 Z\" fill=\"#000000\" fill-rule=\"evenodd\" fill-opacity=\"1\" /><path clip-path=\"url(#clip150)\" d=\"M101.339 906.664 Q97.728 906.664 95.8993 910.229 Q94.0937 913.77 94.0937 920.9 Q94.0937 928.006 95.8993 931.571 Q97.728 935.113 101.339 935.113 Q104.973 935.113 106.779 931.571 Q108.608 928.006 108.608 920.9 Q108.608 913.77 106.779 910.229 Q104.973 906.664 101.339 906.664 M101.339 902.96 Q107.149 902.96 110.205 907.567 Q113.283 912.15 113.283 920.9 Q113.283 929.627 110.205 934.233 Q107.149 938.817 101.339 938.817 Q95.5289 938.817 92.4502 934.233 Q89.3947 929.627 89.3947 920.9 Q89.3947 912.15 92.4502 907.567 Q95.5289 902.96 101.339 902.96 Z\" fill=\"#000000\" fill-rule=\"evenodd\" fill-opacity=\"1\" /><path clip-path=\"url(#clip150)\" d=\"M121.501 932.266 L126.385 932.266 L126.385 938.145 L121.501 938.145 L121.501 932.266 Z\" fill=\"#000000\" fill-rule=\"evenodd\" fill-opacity=\"1\" /><path clip-path=\"url(#clip150)\" d=\"M137.381 934.21 L145.019 934.21 L145.019 907.844 L136.709 909.511 L136.709 905.252 L144.973 903.585 L149.649 903.585 L149.649 934.21 L157.288 934.21 L157.288 938.145 L137.381 938.145 L137.381 934.21 Z\" fill=\"#000000\" fill-rule=\"evenodd\" fill-opacity=\"1\" /><path clip-path=\"url(#clip150)\" d=\"M100.112 694.917 Q96.5011 694.917 94.6724 698.482 Q92.8669 702.024 92.8669 709.153 Q92.8669 716.26 94.6724 719.825 Q96.5011 723.366 100.112 723.366 Q103.746 723.366 105.552 719.825 Q107.381 716.26 107.381 709.153 Q107.381 702.024 105.552 698.482 Q103.746 694.917 100.112 694.917 M100.112 691.214 Q105.922 691.214 108.978 695.82 Q112.057 700.404 112.057 709.153 Q112.057 717.88 108.978 722.487 Q105.922 727.07 100.112 727.07 Q94.3021 727.07 91.2234 722.487 Q88.1679 717.88 88.1679 709.153 Q88.1679 700.404 91.2234 695.82 Q94.3021 691.214 100.112 691.214 Z\" fill=\"#000000\" fill-rule=\"evenodd\" fill-opacity=\"1\" /><path clip-path=\"url(#clip150)\" d=\"M120.274 720.519 L125.158 720.519 L125.158 726.399 L120.274 726.399 L120.274 720.519 Z\" fill=\"#000000\" fill-rule=\"evenodd\" fill-opacity=\"1\" /><path clip-path=\"url(#clip150)\" d=\"M145.343 694.917 Q141.732 694.917 139.904 698.482 Q138.098 702.024 138.098 709.153 Q138.098 716.26 139.904 719.825 Q141.732 723.366 145.343 723.366 Q148.978 723.366 150.783 719.825 Q152.612 716.26 152.612 709.153 Q152.612 702.024 150.783 698.482 Q148.978 694.917 145.343 694.917 M145.343 691.214 Q151.154 691.214 154.209 695.82 Q157.288 700.404 157.288 709.153 Q157.288 717.88 154.209 722.487 Q151.154 727.07 145.343 727.07 Q139.533 727.07 136.455 722.487 Q133.399 717.88 133.399 709.153 Q133.399 700.404 136.455 695.82 Q139.533 691.214 145.343 691.214 Z\" fill=\"#000000\" fill-rule=\"evenodd\" fill-opacity=\"1\" /><path clip-path=\"url(#clip150)\" d=\"M101.339 483.171 Q97.728 483.171 95.8993 486.736 Q94.0937 490.277 94.0937 497.407 Q94.0937 504.513 95.8993 508.078 Q97.728 511.62 101.339 511.62 Q104.973 511.62 106.779 508.078 Q108.608 504.513 108.608 497.407 Q108.608 490.277 106.779 486.736 Q104.973 483.171 101.339 483.171 M101.339 479.467 Q107.149 479.467 110.205 484.074 Q113.283 488.657 113.283 497.407 Q113.283 506.134 110.205 510.74 Q107.149 515.324 101.339 515.324 Q95.5289 515.324 92.4502 510.74 Q89.3947 506.134 89.3947 497.407 Q89.3947 488.657 92.4502 484.074 Q95.5289 479.467 101.339 479.467 Z\" fill=\"#000000\" fill-rule=\"evenodd\" fill-opacity=\"1\" /><path clip-path=\"url(#clip150)\" d=\"M121.501 508.773 L126.385 508.773 L126.385 514.652 L121.501 514.652 L121.501 508.773 Z\" fill=\"#000000\" fill-rule=\"evenodd\" fill-opacity=\"1\" /><path clip-path=\"url(#clip150)\" d=\"M137.381 510.717 L145.019 510.717 L145.019 484.352 L136.709 486.018 L136.709 481.759 L144.973 480.092 L149.649 480.092 L149.649 510.717 L157.288 510.717 L157.288 514.652 L137.381 514.652 L137.381 510.717 Z\" fill=\"#000000\" fill-rule=\"evenodd\" fill-opacity=\"1\" /><path clip-path=\"url(#clip150)\" d=\"M101.709 271.424 Q98.0984 271.424 96.2697 274.989 Q94.4641 278.531 94.4641 285.661 Q94.4641 292.767 96.2697 296.332 Q98.0984 299.873 101.709 299.873 Q105.344 299.873 107.149 296.332 Q108.978 292.767 108.978 285.661 Q108.978 278.531 107.149 274.989 Q105.344 271.424 101.709 271.424 M101.709 267.721 Q107.52 267.721 110.575 272.327 Q113.654 276.911 113.654 285.661 Q113.654 294.387 110.575 298.994 Q107.52 303.577 101.709 303.577 Q95.8993 303.577 92.8206 298.994 Q89.7651 294.387 89.7651 285.661 Q89.7651 276.911 92.8206 272.327 Q95.8993 267.721 101.709 267.721 Z\" fill=\"#000000\" fill-rule=\"evenodd\" fill-opacity=\"1\" /><path clip-path=\"url(#clip150)\" d=\"M121.871 297.026 L126.756 297.026 L126.756 302.906 L121.871 302.906 L121.871 297.026 Z\" fill=\"#000000\" fill-rule=\"evenodd\" fill-opacity=\"1\" /><path clip-path=\"url(#clip150)\" d=\"M140.968 298.971 L157.288 298.971 L157.288 302.906 L135.344 302.906 L135.344 298.971 Q138.006 296.216 142.589 291.586 Q147.195 286.934 148.376 285.591 Q150.621 283.068 151.501 281.332 Q152.404 279.573 152.404 277.883 Q152.404 275.128 150.459 273.392 Q148.538 271.656 145.436 271.656 Q143.237 271.656 140.783 272.42 Q138.353 273.184 135.575 274.735 L135.575 270.012 Q138.399 268.878 140.853 268.299 Q143.306 267.721 145.343 267.721 Q150.714 267.721 153.908 270.406 Q157.103 273.091 157.103 277.582 Q157.103 279.711 156.292 281.633 Q155.505 283.531 153.399 286.123 Q152.82 286.795 149.718 290.012 Q146.617 293.207 140.968 298.971 Z\" fill=\"#000000\" fill-rule=\"evenodd\" fill-opacity=\"1\" /><path clip-path=\"url(#clip150)\" d=\"M100.76 59.678 Q97.1493 59.678 95.3206 63.2428 Q93.515 66.7844 93.515 73.914 Q93.515 81.0205 95.3206 84.5853 Q97.1493 88.1269 100.76 88.1269 Q104.395 88.1269 106.2 84.5853 Q108.029 81.0205 108.029 73.914 Q108.029 66.7844 106.2 63.2428 Q104.395 59.678 100.76 59.678 M100.76 55.9743 Q106.571 55.9743 109.626 60.5808 Q112.705 65.1641 112.705 73.914 Q112.705 82.6408 109.626 87.2473 Q106.571 91.8306 100.76 91.8306 Q94.9502 91.8306 91.8715 87.2473 Q88.816 82.6408 88.816 73.914 Q88.816 65.1641 91.8715 60.5808 Q94.9502 55.9743 100.76 55.9743 Z\" fill=\"#000000\" fill-rule=\"evenodd\" fill-opacity=\"1\" /><path clip-path=\"url(#clip150)\" d=\"M120.922 85.2797 L125.807 85.2797 L125.807 91.1593 L120.922 91.1593 L120.922 85.2797 Z\" fill=\"#000000\" fill-rule=\"evenodd\" fill-opacity=\"1\" /><path clip-path=\"url(#clip150)\" d=\"M150.158 72.5251 Q153.515 73.2427 155.39 75.5112 Q157.288 77.7797 157.288 81.1131 Q157.288 86.2288 153.769 89.0297 Q150.251 91.8306 143.769 91.8306 Q141.593 91.8306 139.279 91.3908 Q136.987 90.9741 134.533 90.1176 L134.533 85.6038 Q136.478 86.738 138.793 87.3167 Q141.107 87.8954 143.631 87.8954 Q148.029 87.8954 150.32 86.1593 Q152.635 84.4232 152.635 81.1131 Q152.635 78.0575 150.482 76.3446 Q148.353 74.6085 144.533 74.6085 L140.506 74.6085 L140.506 70.7659 L144.718 70.7659 Q148.168 70.7659 149.996 69.4002 Q151.825 68.0113 151.825 65.4187 Q151.825 62.7567 149.927 61.3446 Q148.052 59.9095 144.533 59.9095 Q142.612 59.9095 140.413 60.3261 Q138.214 60.7428 135.575 61.6224 L135.575 57.4558 Q138.237 56.715 140.552 56.3447 Q142.89 55.9743 144.95 55.9743 Q150.274 55.9743 153.376 58.4048 Q156.478 60.8122 156.478 64.9326 Q156.478 67.8029 154.834 69.7937 Q153.191 71.7613 150.158 72.5251 Z\" fill=\"#000000\" fill-rule=\"evenodd\" fill-opacity=\"1\" /><path clip-path=\"url(#clip152)\" d=\"\n",
       "M312.062 87.9763 L312.062 709.119 L468.954 709.119 L468.954 87.9763 L312.062 87.9763 L312.062 87.9763  Z\n",
       "  \" fill=\"#009af9\" fill-rule=\"evenodd\" fill-opacity=\"1\"/>\n",
       "<polyline clip-path=\"url(#clip152)\" style=\"stroke:#000000; stroke-linecap:round; stroke-linejoin:round; stroke-width:4; stroke-opacity:1; fill:none\" points=\"\n",
       "  312.062,87.9763 312.062,709.119 468.954,709.119 468.954,87.9763 312.062,87.9763 \n",
       "  \"/>\n",
       "<path clip-path=\"url(#clip152)\" d=\"\n",
       "M508.177 855.954 L508.177 709.119 L665.068 709.119 L665.068 855.954 L508.177 855.954 L508.177 855.954  Z\n",
       "  \" fill=\"#009af9\" fill-rule=\"evenodd\" fill-opacity=\"1\"/>\n",
       "<polyline clip-path=\"url(#clip152)\" style=\"stroke:#000000; stroke-linecap:round; stroke-linejoin:round; stroke-width:4; stroke-opacity:1; fill:none\" points=\"\n",
       "  508.177,855.954 508.177,709.119 665.068,709.119 665.068,855.954 508.177,855.954 \n",
       "  \"/>\n",
       "<path clip-path=\"url(#clip152)\" d=\"\n",
       "M704.291 966.292 L704.291 709.119 L861.182 709.119 L861.182 966.292 L704.291 966.292 L704.291 966.292  Z\n",
       "  \" fill=\"#009af9\" fill-rule=\"evenodd\" fill-opacity=\"1\"/>\n",
       "<polyline clip-path=\"url(#clip152)\" style=\"stroke:#000000; stroke-linecap:round; stroke-linejoin:round; stroke-width:4; stroke-opacity:1; fill:none\" points=\"\n",
       "  704.291,966.292 704.291,709.119 861.182,709.119 861.182,966.292 704.291,966.292 \n",
       "  \"/>\n",
       "<path clip-path=\"url(#clip152)\" d=\"\n",
       "M900.405 633.92 L900.405 709.119 L1057.3 709.119 L1057.3 633.92 L900.405 633.92 L900.405 633.92  Z\n",
       "  \" fill=\"#009af9\" fill-rule=\"evenodd\" fill-opacity=\"1\"/>\n",
       "<polyline clip-path=\"url(#clip152)\" style=\"stroke:#000000; stroke-linecap:round; stroke-linejoin:round; stroke-width:4; stroke-opacity:1; fill:none\" points=\"\n",
       "  900.405,633.92 900.405,709.119 1057.3,709.119 1057.3,633.92 900.405,633.92 \n",
       "  \"/>\n",
       "<path clip-path=\"url(#clip152)\" d=\"\n",
       "M1096.52 490.968 L1096.52 709.119 L1253.41 709.119 L1253.41 490.968 L1096.52 490.968 L1096.52 490.968  Z\n",
       "  \" fill=\"#009af9\" fill-rule=\"evenodd\" fill-opacity=\"1\"/>\n",
       "<polyline clip-path=\"url(#clip152)\" style=\"stroke:#000000; stroke-linecap:round; stroke-linejoin:round; stroke-width:4; stroke-opacity:1; fill:none\" points=\"\n",
       "  1096.52,490.968 1096.52,709.119 1253.41,709.119 1253.41,490.968 1096.52,490.968 \n",
       "  \"/>\n",
       "<path clip-path=\"url(#clip152)\" d=\"\n",
       "M1292.63 1445.72 L1292.63 709.119 L1449.52 709.119 L1449.52 1445.72 L1292.63 1445.72 L1292.63 1445.72  Z\n",
       "  \" fill=\"#009af9\" fill-rule=\"evenodd\" fill-opacity=\"1\"/>\n",
       "<polyline clip-path=\"url(#clip152)\" style=\"stroke:#000000; stroke-linecap:round; stroke-linejoin:round; stroke-width:4; stroke-opacity:1; fill:none\" points=\"\n",
       "  1292.63,1445.72 1292.63,709.119 1449.52,709.119 1449.52,1445.72 1292.63,1445.72 \n",
       "  \"/>\n",
       "<path clip-path=\"url(#clip152)\" d=\"\n",
       "M1488.75 484.899 L1488.75 709.119 L1645.64 709.119 L1645.64 484.899 L1488.75 484.899 L1488.75 484.899  Z\n",
       "  \" fill=\"#009af9\" fill-rule=\"evenodd\" fill-opacity=\"1\"/>\n",
       "<polyline clip-path=\"url(#clip152)\" style=\"stroke:#000000; stroke-linecap:round; stroke-linejoin:round; stroke-width:4; stroke-opacity:1; fill:none\" points=\"\n",
       "  1488.75,484.899 1488.75,709.119 1645.64,709.119 1645.64,484.899 1488.75,484.899 \n",
       "  \"/>\n",
       "<path clip-path=\"url(#clip152)\" d=\"\n",
       "M1684.86 1233.62 L1684.86 709.119 L1841.75 709.119 L1841.75 1233.62 L1684.86 1233.62 L1684.86 1233.62  Z\n",
       "  \" fill=\"#009af9\" fill-rule=\"evenodd\" fill-opacity=\"1\"/>\n",
       "<polyline clip-path=\"url(#clip152)\" style=\"stroke:#000000; stroke-linecap:round; stroke-linejoin:round; stroke-width:4; stroke-opacity:1; fill:none\" points=\"\n",
       "  1684.86,1233.62 1684.86,709.119 1841.75,709.119 1841.75,1233.62 1684.86,1233.62 \n",
       "  \"/>\n",
       "<path clip-path=\"url(#clip152)\" d=\"\n",
       "M1880.98 491.309 L1880.98 709.119 L2037.87 709.119 L2037.87 491.309 L1880.98 491.309 L1880.98 491.309  Z\n",
       "  \" fill=\"#009af9\" fill-rule=\"evenodd\" fill-opacity=\"1\"/>\n",
       "<polyline clip-path=\"url(#clip152)\" style=\"stroke:#000000; stroke-linecap:round; stroke-linejoin:round; stroke-width:4; stroke-opacity:1; fill:none\" points=\"\n",
       "  1880.98,491.309 1880.98,709.119 2037.87,709.119 2037.87,491.309 1880.98,491.309 \n",
       "  \"/>\n",
       "<path clip-path=\"url(#clip152)\" d=\"\n",
       "M2077.09 408.996 L2077.09 709.119 L2233.98 709.119 L2233.98 408.996 L2077.09 408.996 L2077.09 408.996  Z\n",
       "  \" fill=\"#009af9\" fill-rule=\"evenodd\" fill-opacity=\"1\"/>\n",
       "<polyline clip-path=\"url(#clip152)\" style=\"stroke:#000000; stroke-linecap:round; stroke-linejoin:round; stroke-width:4; stroke-opacity:1; fill:none\" points=\"\n",
       "  2077.09,408.996 2077.09,709.119 2233.98,709.119 2233.98,408.996 2077.09,408.996 \n",
       "  \"/>\n",
       "<circle clip-path=\"url(#clip152)\" style=\"fill:#009af9; stroke:none; fill-opacity:0\" cx=\"390.508\" cy=\"87.9763\" r=\"2\"/>\n",
       "<circle clip-path=\"url(#clip152)\" style=\"fill:#009af9; stroke:none; fill-opacity:0\" cx=\"586.622\" cy=\"855.954\" r=\"2\"/>\n",
       "<circle clip-path=\"url(#clip152)\" style=\"fill:#009af9; stroke:none; fill-opacity:0\" cx=\"782.736\" cy=\"966.292\" r=\"2\"/>\n",
       "<circle clip-path=\"url(#clip152)\" style=\"fill:#009af9; stroke:none; fill-opacity:0\" cx=\"978.851\" cy=\"633.92\" r=\"2\"/>\n",
       "<circle clip-path=\"url(#clip152)\" style=\"fill:#009af9; stroke:none; fill-opacity:0\" cx=\"1174.96\" cy=\"490.968\" r=\"2\"/>\n",
       "<circle clip-path=\"url(#clip152)\" style=\"fill:#009af9; stroke:none; fill-opacity:0\" cx=\"1371.08\" cy=\"1445.72\" r=\"2\"/>\n",
       "<circle clip-path=\"url(#clip152)\" style=\"fill:#009af9; stroke:none; fill-opacity:0\" cx=\"1567.19\" cy=\"484.899\" r=\"2\"/>\n",
       "<circle clip-path=\"url(#clip152)\" style=\"fill:#009af9; stroke:none; fill-opacity:0\" cx=\"1763.31\" cy=\"1233.62\" r=\"2\"/>\n",
       "<circle clip-path=\"url(#clip152)\" style=\"fill:#009af9; stroke:none; fill-opacity:0\" cx=\"1959.42\" cy=\"491.309\" r=\"2\"/>\n",
       "<circle clip-path=\"url(#clip152)\" style=\"fill:#009af9; stroke:none; fill-opacity:0\" cx=\"2155.54\" cy=\"408.996\" r=\"2\"/>\n",
       "</svg>\n"
      ]
     },
     "metadata": {},
     "output_type": "display_data"
    }
   ],
   "source": [
    "function normalize(x_train, mean_=nothing, std_=nothing)\n",
    "    if mean_ == nothing && std_ == nothing\n",
    "        #TODO normalize x_train\n",
    "        #return `normalized_train_x`, `mean_`, `std_`\n",
    "        #mean_ and std_ will be re-used to pre-process test set\n",
    "        mean_ = mean(x_train, dims=1)\n",
    "        std_ = std(x_train, dims=1)\n",
    "        z_score = (x_train .- mean_) ./ std_\n",
    "        return z_score, mean_, std_\n",
    "    end\n",
    "    return (x_train .- mean_) ./ std_\n",
    "end\n",
    "\n",
    "normalized_train_x, mean_, std_ = normalize(train_x_new)\n",
    "\n",
    "s_mean = compute_average_intensity(normalized_train_x, train_y)\n",
    "bar(0:9, s_mean, legend=false)"
   ]
  },
  {
   "cell_type": "markdown",
   "id": "ff7aa29a",
   "metadata": {
    "colab_type": "text",
    "id": "KRLBISDqrRDW"
   },
   "source": [
    "### Construct  data"
   ]
  },
  {
   "cell_type": "code",
   "execution_count": 11,
   "id": "efe8d064",
   "metadata": {},
   "outputs": [
    {
     "data": {
      "text/plain": [
       "(60000, 1)"
      ]
     },
     "metadata": {},
     "output_type": "display_data"
    }
   ],
   "source": [
    "# change the label: y=1 -> stay unchanged, y!=1 -> y=0\n",
    "train_y_new = reshape(deepcopy(train_y), (size(train_y)[1], 1))\n",
    "train_y_new[train_y_new .!= 1] .= 0\n",
    "size(train_y_new)"
   ]
  },
  {
   "cell_type": "code",
   "execution_count": 12,
   "id": "98dfb0f9",
   "metadata": {},
   "outputs": [
    {
     "data": {
      "text/plain": [
       "(60000, 3)"
      ]
     },
     "metadata": {},
     "output_type": "display_data"
    }
   ],
   "source": [
    "# contruct data by adding ones\n",
    "add_one_train_x = hcat(ones(size(normalized_train_x)[1],), normalized_train_x)\n",
    "size(add_one_train_x)"
   ]
  },
  {
   "cell_type": "markdown",
   "id": "ef20783b",
   "metadata": {
    "colab_type": "text",
    "id": "CIeY4oA8rRDo"
   },
   "source": [
    "### Sigmoid function and derivative of the sigmoid function"
   ]
  },
  {
   "cell_type": "code",
   "execution_count": 13,
   "id": "08a7c92c",
   "metadata": {},
   "outputs": [
    {
     "data": {
      "text/plain": [
       "sigmoid_deriv (generic function with 1 method)"
      ]
     },
     "metadata": {},
     "output_type": "display_data"
    }
   ],
   "source": [
    "function sigmoid_activation(x)\n",
    "    \"\"\"\n",
    "    Compute the sigmoid activation value for a given input\n",
    "    \"\"\"\n",
    "    return 1.0 ./ (1.0 .+ exp.(-x))\n",
    "end\n",
    "\n",
    "function sigmoid_deriv(x)\n",
    "    \"\"\"\n",
    "    Compute the derivative of the sigmoid function ASSUMING\n",
    "    that the input 'x' has already been passed through the sigmoid\n",
    "    activation function\n",
    "    \"\"\"\n",
    "    return x .* (1 .- x)\n",
    "end"
   ]
  },
  {
   "cell_type": "markdown",
   "id": "b378bcda",
   "metadata": {
    "colab_type": "text",
    "id": "bvFr3X38rRD0"
   },
   "source": [
    "### Compute output"
   ]
  },
  {
   "cell_type": "code",
   "execution_count": 14,
   "id": "37b4e61f",
   "metadata": {},
   "outputs": [
    {
     "data": {
      "text/plain": [
       "predict (generic function with 1 method)"
      ]
     },
     "metadata": {},
     "output_type": "display_data"
    }
   ],
   "source": [
    "function compute_h(W, X)\n",
    "    \"\"\"\n",
    "    Compute output: Take the inner product between our features 'X' and the weight\n",
    "    matrix 'W', then pass this value through our sigmoid activation function \n",
    "    \"\"\"\n",
    "    return X*W\n",
    "end\n",
    "\n",
    "function predict(W, X)\n",
    "    \"\"\"\n",
    "    Take the inner product between our features and weight matrix, \n",
    "    then pass this value through our sigmoid activation\n",
    "    \"\"\"\n",
    "    preds = sigmoid_activation(compute_h(W, X))\n",
    "\n",
    "    # apply a step function to threshold the outputs to binary\n",
    "    # class labels\n",
    "    preds[preds .<= 0.5] .= 0\n",
    "    preds[preds .> 0] .= 1\n",
    "\n",
    "    return preds\n",
    "end"
   ]
  },
  {
   "cell_type": "markdown",
   "id": "d4a09ea4",
   "metadata": {},
   "source": [
    "### Compute gradient"
   ]
  },
  {
   "cell_type": "markdown",
   "id": "7d90076f",
   "metadata": {},
   "source": [
    "**Loss Function: Average negative log likelihood**\n",
    "$$\\mathcal{L}=\\dfrac{1}{N} \\sum_{i=1}^{N} -\\left(y^{i}\\ln h_{\\mathbf{w}}\\left(\\mathbf{x}^{i}\\right)+\\left(1-y^{i}\\right)\\ln \\left(1-h_{\\mathbf{w}}\\left(x^{i}\\right)\\right)\\right) $$\n",
    "\n",
    "\n",
    "$$\\text{Sigmoid Activation: } z= \\sigma \\left(h\\right)= \\dfrac{1}{1+e^{-h}}$$\n",
    "\n",
    "$$\\text{Cross-entropy: } J(w)=-\\left({ylog(z)+(1-y)log(1-z)}\\right)$$\n",
    "\n",
    "$$\\text{Chain rule: } \\dfrac{\\partial J(w)}{\\partial w}=\\dfrac{\\partial J(w)}{\\partial z} \\dfrac{\\partial z}{\\partial h}\\dfrac{\\partial h}{\\partial w}  $$\n",
    "\n",
    "$$\\dfrac{\\partial J(w)}{\\partial z}=-\\left(\\dfrac{y}{z}-\\dfrac{1-y}{1-z}\\right)=\\dfrac{z-y}{z(1-z)}$$\n",
    "\n",
    "$$\\dfrac{\\partial z}{\\partial h}=z(1-z)$$\n",
    "\n",
    "$$\\dfrac{\\partial h}{\\partial w}=X$$\n",
    "\n",
    "$$\\dfrac{\\partial J(w)}{\\partial w}=X^T(z-y)$$"
   ]
  },
  {
   "cell_type": "code",
   "execution_count": 17,
   "id": "8a7fe449",
   "metadata": {},
   "outputs": [
    {
     "data": {
      "text/plain": [
       "compute_gradient (generic function with 1 method)"
      ]
     },
     "metadata": {},
     "output_type": "display_data"
    }
   ],
   "source": [
    "function compute_gradient(error, train_x)\n",
    "    \"\"\"\n",
    "    the gradient descent update is the dot product between our\n",
    "    features and the error of the sigmoid derivative of\n",
    "    our predictions\n",
    "    \"\"\"\n",
    "    #TODO compute gradient\n",
    "    gradient = (train_x' * error) / size(train_x)[1]\n",
    "    return gradient\n",
    "end"
   ]
  },
  {
   "cell_type": "code",
   "execution_count": 18,
   "id": "cd44a9dc",
   "metadata": {},
   "outputs": [
    {
     "data": {
      "text/plain": [
       "train (generic function with 1 method)"
      ]
     },
     "metadata": {},
     "output_type": "display_data"
    }
   ],
   "source": [
    "function train(W, train_x, train_y, learning_rate, num_epochs)\n",
    "    losses = []\n",
    "    for epoch in 1:num_epochs\n",
    "        y_hat = sigmoid_activation(compute_h(W, train_x))\n",
    "        error = y_hat - train_y\n",
    "        append!(losses, mean(-1 .* train_y .* log.(y_hat) .- (1 .- train_y) .* log.(1 .- y_hat)))\n",
    "        grad = compute_gradient(error, train_x)\n",
    "        W -= learning_rate * grad\n",
    "\n",
    "        if epoch == 1 || epoch % 50 == 0\n",
    "            print(\"Epoch=$epoch; Loss=$(losses[end])\\n\")\n",
    "        end\n",
    "    end\n",
    "    return W, losses\n",
    "end"
   ]
  },
  {
   "cell_type": "markdown",
   "id": "c7f5f22e",
   "metadata": {
    "colab_type": "text",
    "id": "ovhGMiV6rREb"
   },
   "source": [
    "### Train our model"
   ]
  },
  {
   "cell_type": "code",
   "execution_count": 19,
   "id": "73ee3728",
   "metadata": {
    "scrolled": true
   },
   "outputs": [
    {
     "name": "stdout",
     "output_type": "stream",
     "text": [
      "Epoch=1; Loss=0.6385663580105079\n",
      "Epoch=50; Loss=0.57381437074418\n"
     ]
    },
    {
     "name": "stdout",
     "output_type": "stream",
     "text": [
      "Epoch=100; Loss=0.5214123933513425\n",
      "Epoch=150; Loss=0.47954673947459187\n"
     ]
    },
    {
     "name": "stdout",
     "output_type": "stream",
     "text": [
      "Epoch=200; Loss=0.44574286801677165\n",
      "Epoch=250; Loss=0.418151756185508\n"
     ]
    },
    {
     "name": "stdout",
     "output_type": "stream",
     "text": [
      "Epoch=300; Loss=0.3953889389110175\n",
      "Epoch=350; Loss=0.37641258133302175\n"
     ]
    },
    {
     "name": "stdout",
     "output_type": "stream",
     "text": [
      "Epoch=400; Loss=0.36043345043323777\n",
      "Epoch=450; Loss=0.3468491269319924\n"
     ]
    },
    {
     "name": "stdout",
     "output_type": "stream",
     "text": [
      "Epoch=500; Loss=0.33519606545203834\n",
      "Epoch=550; Loss=0.32511461399793007\n"
     ]
    },
    {
     "name": "stdout",
     "output_type": "stream",
     "text": [
      "Epoch=600; Loss=0.3163233933344088\n",
      "Epoch=650; Loss=0.30860043324637165\n"
     ]
    },
    {
     "name": "stdout",
     "output_type": "stream",
     "text": [
      "Epoch=700; Loss=0.301769198126413\n",
      "Epoch=750; Loss=0.2956881652367983\n"
     ]
    },
    {
     "name": "stdout",
     "output_type": "stream",
     "text": [
      "Epoch=800; Loss=0.29024299809649834\n",
      "Epoch=850; Loss=0.285340626941159\n"
     ]
    },
    {
     "name": "stdout",
     "output_type": "stream",
     "text": [
      "Epoch=900; Loss=0.2809047396638571\n",
      "Epoch=950; Loss=0.27687232291651537\n"
     ]
    },
    {
     "name": "stdout",
     "output_type": "stream",
     "text": [
      "Epoch=1000; Loss=0.2731909903838079\n",
      "Epoch=1050; Loss=0.2698169050812212\n"
     ]
    },
    {
     "name": "stdout",
     "output_type": "stream",
     "text": [
      "Epoch=1100; Loss=0.266713152909979\n",
      "Epoch=1150; Loss=0.2638484612568013\n"
     ]
    },
    {
     "name": "stdout",
     "output_type": "stream",
     "text": [
      "Epoch=1200; Loss=0.2611961831117174\n",
      "Epoch=1250; Loss=0.2587334867786868\n"
     ]
    },
    {
     "name": "stdout",
     "output_type": "stream",
     "text": [
      "Epoch=1300; Loss=0.2564407057422177\n",
      "Epoch=1350; Loss=0.2543008140289246\n"
     ]
    },
    {
     "name": "stdout",
     "output_type": "stream",
     "text": [
      "Epoch=1400; Loss=0.252299000466561\n",
      "Epoch=1450; Loss=0.25042232131334785\n"
     ]
    },
    {
     "name": "stdout",
     "output_type": "stream",
     "text": [
      "Epoch=1500; Loss=0.24865941532686545\n",
      "Epoch=1550; Loss=0.24700026884201898\n"
     ]
    },
    {
     "name": "stdout",
     "output_type": "stream",
     "text": [
      "Epoch=1600; Loss=0.2454360211077548\n",
      "Epoch=1650; Loss=0.24395880219540017\n"
     ]
    },
    {
     "name": "stdout",
     "output_type": "stream",
     "text": [
      "Epoch=1700; Loss=0.24256159738797697\n",
      "Epoch=1750; Loss=0.24123813320137208\n"
     ]
    },
    {
     "name": "stdout",
     "output_type": "stream",
     "text": [
      "Epoch=1800; Loss=0.23998278115846003\n",
      "Epoch=1850; Loss=0.23879047619904298\n"
     ]
    },
    {
     "name": "stdout",
     "output_type": "stream",
     "text": [
      "Epoch=1900; Loss=0.23765664720933655\n",
      "Epoch=1950; Loss=0.2365771576308057\n"
     ]
    },
    {
     "name": "stdout",
     "output_type": "stream",
     "text": [
      "Epoch=2000; Loss=0.23554825448700523\n"
     ]
    }
   ],
   "source": [
    "W = rand(Normal(), (size(add_one_train_x)[2], 1))\n",
    "\n",
    "num_epochs=2000\n",
    "learning_rate=0.01\n",
    "W, losses = train(W, add_one_train_x, train_y_new, learning_rate, num_epochs);"
   ]
  },
  {
   "cell_type": "code",
   "execution_count": 20,
   "id": "ac5a2524",
   "metadata": {},
   "outputs": [
    {
     "data": {
      "image/png": "[encoded data removed]",
      "image/svg+xml": "<?xml version=\"1.0\" encoding=\"utf-8\"?>\n<svg xmlns=\"http://www.w3.org/2000/svg\" xmlns:xlink=\"http://www.w3.org/1999/xlink\" width=\"600\" height=\"400\" viewBox=\"0 0 2400 1600\">\n<defs>\n  <clipPath id=\"clip190\">\n    <rect x=\"0\" y=\"0\" width=\"2400\" height=\"1600\"/>\n  </clipPath>\n</defs>\n<path clip-path=\"url(#clip190)\" d=\"\nM0 1600 L2400 1600 L2400 0 L0 0  Z\n  \" fill=\"#ffffff\" fill-rule=\"evenodd\" fill-opacity=\"1\"/>\n<defs>\n  <clipPath id=\"clip191\">\n    <rect x=\"480\" y=\"0\" width=\"1681\" height=\"1600\"/>\n  </clipPath>\n</defs>\n<path clip-path=\"url(#clip190)\" d=\"\nM156.598 1486.45 L2352.76 1486.45 L2352.76 47.2441 L156.598 47.2441  Z\n  \" fill=\"#ffffff\" fill-rule=\"evenodd\" fill-opacity=\"1\"/>\n<defs>\n  <clipPath id=\"clip192\">\n    <rect x=\"156\" y=\"47\" width=\"2197\" height=\"1440\"/>\n  </clipPath>\n</defs>\n<polyline clip-path=\"url(#clip192)\" style=\"stroke:#000000; stroke-linecap:round; stroke-linejoin:round; stroke-width:2; stroke-opacity:0.1; fill:none\" points=\"\n  217.717,1486.45 217.717,47.2441 \n  \"/>\n<polyline clip-path=\"url(#clip192)\" style=\"stroke:#000000; stroke-linecap:round; stroke-linejoin:round; stroke-width:2; stroke-opacity:0.1; fill:none\" points=\"\n  735.938,1486.45 735.938,47.2441 \n  \"/>\n<polyline clip-path=\"url(#clip192)\" style=\"stroke:#000000; stroke-linecap:round; stroke-linejoin:round; stroke-width:2; stroke-opacity:0.1; fill:none\" points=\"\n  1254.16,1486.45 1254.16,47.2441 \n  \"/>\n<polyline clip-path=\"url(#clip192)\" style=\"stroke:#000000; stroke-linecap:round; stroke-linejoin:round; stroke-width:2; stroke-opacity:0.1; fill:none\" points=\"\n  1772.38,1486.45 1772.38,47.2441 \n  \"/>\n<polyline clip-path=\"url(#clip192)\" style=\"stroke:#000000; stroke-linecap:round; stroke-linejoin:round; stroke-width:2; stroke-opacity:0.1; fill:none\" points=\"\n  2290.6,1486.45 2290.6,47.2441 \n  \"/>\n<polyline clip-path=\"url(#clip190)\" style=\"stroke:#000000; stroke-linecap:round; stroke-linejoin:round; stroke-width:4; stroke-opacity:1; fill:none\" points=\"\n  156.598,1486.45 2352.76,1486.45 \n  \"/>\n<polyline clip-path=\"url(#clip190)\" style=\"stroke:#000000; stroke-linecap:round; stroke-linejoin:round; stroke-width:4; stroke-opacity:1; fill:none\" points=\"\n  217.717,1486.45 217.717,1467.55 \n  \"/>\n<polyline clip-path=\"url(#clip190)\" style=\"stroke:#000000; stroke-linecap:round; stroke-linejoin:round; stroke-width:4; stroke-opacity:1; fill:none\" points=\"\n  735.938,1486.45 735.938,1467.55 \n  \"/>\n<polyline clip-path=\"url(#clip190)\" style=\"stroke:#000000; stroke-linecap:round; stroke-linejoin:round; stroke-width:4; stroke-opacity:1; fill:none\" points=\"\n  1254.16,1486.45 1254.16,1467.55 \n  \"/>\n<polyline clip-path=\"url(#clip190)\" style=\"stroke:#000000; stroke-linecap:round; stroke-linejoin:round; stroke-width:4; stroke-opacity:1; fill:none\" points=\"\n  1772.38,1486.45 1772.38,1467.55 \n  \"/>\n<polyline clip-path=\"url(#clip190)\" style=\"stroke:#000000; stroke-linecap:round; stroke-linejoin:round; stroke-width:4; stroke-opacity:1; fill:none\" points=\"\n  2290.6,1486.45 2290.6,1467.55 \n  \"/>\n<path clip-path=\"url(#clip190)\" d=\"M217.717 1517.37 Q214.106 1517.37 212.277 1520.93 Q210.472 1524.47 210.472 1531.6 Q210.472 1538.71 212.277 1542.27 Q214.106 1545.82 217.717 1545.82 Q221.351 1545.82 223.157 1542.27 Q224.986 1538.71 224.986 1531.6 Q224.986 1524.47 223.157 1520.93 Q221.351 1517.37 217.717 1517.37 M217.717 1513.66 Q223.527 1513.66 226.583 1518.27 Q229.662 1522.85 229.662 1531.6 Q229.662 1540.33 226.583 1544.94 Q223.527 1549.52 217.717 1549.52 Q211.907 1549.52 208.828 1544.94 Q205.773 1540.33 205.773 1531.6 Q205.773 1522.85 208.828 1518.27 Q211.907 1513.66 217.717 1513.66 Z\" fill=\"#000000\" fill-rule=\"evenodd\" fill-opacity=\"1\" /><path clip-path=\"url(#clip190)\" d=\"M695.556 1514.29 L713.913 1514.29 L713.913 1518.22 L699.839 1518.22 L699.839 1526.7 Q700.857 1526.35 701.876 1526.19 Q702.894 1526 703.913 1526 Q709.7 1526 713.079 1529.17 Q716.459 1532.34 716.459 1537.76 Q716.459 1543.34 712.987 1546.44 Q709.515 1549.52 703.195 1549.52 Q701.019 1549.52 698.751 1549.15 Q696.505 1548.78 694.098 1548.04 L694.098 1543.34 Q696.181 1544.47 698.404 1545.03 Q700.626 1545.58 703.103 1545.58 Q707.107 1545.58 709.445 1543.48 Q711.783 1541.37 711.783 1537.76 Q711.783 1534.15 709.445 1532.04 Q707.107 1529.94 703.103 1529.94 Q701.228 1529.94 699.353 1530.35 Q697.501 1530.77 695.556 1531.65 L695.556 1514.29 Z\" fill=\"#000000\" fill-rule=\"evenodd\" fill-opacity=\"1\" /><path clip-path=\"url(#clip190)\" d=\"M735.672 1517.37 Q732.061 1517.37 730.232 1520.93 Q728.426 1524.47 728.426 1531.6 Q728.426 1538.71 730.232 1542.27 Q732.061 1545.82 735.672 1545.82 Q739.306 1545.82 741.112 1542.27 Q742.94 1538.71 742.94 1531.6 Q742.94 1524.47 741.112 1520.93 Q739.306 1517.37 735.672 1517.37 M735.672 1513.66 Q741.482 1513.66 744.538 1518.27 Q747.616 1522.85 747.616 1531.6 Q747.616 1540.33 744.538 1544.94 Q741.482 1549.52 735.672 1549.52 Q729.862 1549.52 726.783 1544.94 Q723.727 1540.33 723.727 1531.6 Q723.727 1522.85 726.783 1518.27 Q729.862 1513.66 735.672 1513.66 Z\" fill=\"#000000\" fill-rule=\"evenodd\" fill-opacity=\"1\" /><path clip-path=\"url(#clip190)\" d=\"M765.834 1517.37 Q762.223 1517.37 760.394 1520.93 Q758.588 1524.47 758.588 1531.6 Q758.588 1538.71 760.394 1542.27 Q762.223 1545.82 765.834 1545.82 Q769.468 1545.82 771.273 1542.27 Q773.102 1538.71 773.102 1531.6 Q773.102 1524.47 771.273 1520.93 Q769.468 1517.37 765.834 1517.37 M765.834 1513.66 Q771.644 1513.66 774.699 1518.27 Q777.778 1522.85 777.778 1531.6 Q777.778 1540.33 774.699 1544.94 Q771.644 1549.52 765.834 1549.52 Q760.024 1549.52 756.945 1544.94 Q753.889 1540.33 753.889 1531.6 Q753.889 1522.85 756.945 1518.27 Q760.024 1513.66 765.834 1513.66 Z\" fill=\"#000000\" fill-rule=\"evenodd\" fill-opacity=\"1\" /><path clip-path=\"url(#clip190)\" d=\"M1198.68 1544.91 L1206.32 1544.91 L1206.32 1518.55 L1198.01 1520.21 L1198.01 1515.95 L1206.28 1514.29 L1210.95 1514.29 L1210.95 1544.91 L1218.59 1544.91 L1218.59 1548.85 L1198.68 1548.85 L1198.68 1544.91 Z\" fill=\"#000000\" fill-rule=\"evenodd\" fill-opacity=\"1\" /><path clip-path=\"url(#clip190)\" d=\"M1238.04 1517.37 Q1234.43 1517.37 1232.6 1520.93 Q1230.79 1524.47 1230.79 1531.6 Q1230.79 1538.71 1232.6 1542.27 Q1234.43 1545.82 1238.04 1545.82 Q1241.67 1545.82 1243.48 1542.27 Q1245.3 1538.71 1245.3 1531.6 Q1245.3 1524.47 1243.48 1520.93 Q1241.67 1517.37 1238.04 1517.37 M1238.04 1513.66 Q1243.85 1513.66 1246.9 1518.27 Q1249.98 1522.85 1249.98 1531.6 Q1249.98 1540.33 1246.9 1544.94 Q1243.85 1549.52 1238.04 1549.52 Q1232.23 1549.52 1229.15 1544.94 Q1226.09 1540.33 1226.09 1531.6 Q1226.09 1522.85 1229.15 1518.27 Q1232.23 1513.66 1238.04 1513.66 Z\" fill=\"#000000\" fill-rule=\"evenodd\" fill-opacity=\"1\" /><path clip-path=\"url(#clip190)\" d=\"M1268.2 1517.37 Q1264.59 1517.37 1262.76 1520.93 Q1260.95 1524.47 1260.95 1531.6 Q1260.95 1538.71 1262.76 1542.27 Q1264.59 1545.82 1268.2 1545.82 Q1271.83 1545.82 1273.64 1542.27 Q1275.47 1538.71 1275.47 1531.6 Q1275.47 1524.47 1273.64 1520.93 Q1271.83 1517.37 1268.2 1517.37 M1268.2 1513.66 Q1274.01 1513.66 1277.06 1518.27 Q1280.14 1522.85 1280.14 1531.6 Q1280.14 1540.33 1277.06 1544.94 Q1274.01 1549.52 1268.2 1549.52 Q1262.39 1549.52 1259.31 1544.94 Q1256.25 1540.33 1256.25 1531.6 Q1256.25 1522.85 1259.31 1518.27 Q1262.39 1513.66 1268.2 1513.66 Z\" fill=\"#000000\" fill-rule=\"evenodd\" fill-opacity=\"1\" /><path clip-path=\"url(#clip190)\" d=\"M1298.36 1517.37 Q1294.75 1517.37 1292.92 1520.93 Q1291.11 1524.47 1291.11 1531.6 Q1291.11 1538.71 1292.92 1542.27 Q1294.75 1545.82 1298.36 1545.82 Q1301.99 1545.82 1303.8 1542.27 Q1305.63 1538.71 1305.63 1531.6 Q1305.63 1524.47 1303.8 1520.93 Q1301.99 1517.37 1298.36 1517.37 M1298.36 1513.66 Q1304.17 1513.66 1307.23 1518.27 Q1310.3 1522.85 1310.3 1531.6 Q1310.3 1540.33 1307.23 1544.94 Q1304.17 1549.52 1298.36 1549.52 Q1292.55 1549.52 1289.47 1544.94 Q1286.42 1540.33 1286.42 1531.6 Q1286.42 1522.85 1289.47 1518.27 Q1292.55 1513.66 1298.36 1513.66 Z\" fill=\"#000000\" fill-rule=\"evenodd\" fill-opacity=\"1\" /><path clip-path=\"url(#clip190)\" d=\"M1716.91 1544.91 L1724.54 1544.91 L1724.54 1518.55 L1716.23 1520.21 L1716.23 1515.95 L1724.5 1514.29 L1729.17 1514.29 L1729.17 1544.91 L1736.81 1544.91 L1736.81 1548.85 L1716.91 1548.85 L1716.91 1544.91 Z\" fill=\"#000000\" fill-rule=\"evenodd\" fill-opacity=\"1\" /><path clip-path=\"url(#clip190)\" d=\"M1746.3 1514.29 L1764.66 1514.29 L1764.66 1518.22 L1750.59 1518.22 L1750.59 1526.7 Q1751.6 1526.35 1752.62 1526.19 Q1753.64 1526 1754.66 1526 Q1760.45 1526 1763.83 1529.17 Q1767.21 1532.34 1767.21 1537.76 Q1767.21 1543.34 1763.73 1546.44 Q1760.26 1549.52 1753.94 1549.52 Q1751.77 1549.52 1749.5 1549.15 Q1747.25 1548.78 1744.85 1548.04 L1744.85 1543.34 Q1746.93 1544.47 1749.15 1545.03 Q1751.37 1545.58 1753.85 1545.58 Q1757.85 1545.58 1760.19 1543.48 Q1762.53 1541.37 1762.53 1537.76 Q1762.53 1534.15 1760.19 1532.04 Q1757.85 1529.94 1753.85 1529.94 Q1751.97 1529.94 1750.1 1530.35 Q1748.25 1530.77 1746.3 1531.65 L1746.3 1514.29 Z\" fill=\"#000000\" fill-rule=\"evenodd\" fill-opacity=\"1\" /><path clip-path=\"url(#clip190)\" d=\"M1786.42 1517.37 Q1782.81 1517.37 1780.98 1520.93 Q1779.17 1524.47 1779.17 1531.6 Q1779.17 1538.71 1780.98 1542.27 Q1782.81 1545.82 1786.42 1545.82 Q1790.05 1545.82 1791.86 1542.27 Q1793.69 1538.71 1793.69 1531.6 Q1793.69 1524.47 1791.86 1520.93 Q1790.05 1517.37 1786.42 1517.37 M1786.42 1513.66 Q1792.23 1513.66 1795.28 1518.27 Q1798.36 1522.85 1798.36 1531.6 Q1798.36 1540.33 1795.28 1544.94 Q1792.23 1549.52 1786.42 1549.52 Q1780.61 1549.52 1777.53 1544.94 Q1774.47 1540.33 1774.47 1531.6 Q1774.47 1522.85 1777.53 1518.27 Q1780.61 1513.66 1786.42 1513.66 Z\" fill=\"#000000\" fill-rule=\"evenodd\" fill-opacity=\"1\" /><path clip-path=\"url(#clip190)\" d=\"M1816.58 1517.37 Q1812.97 1517.37 1811.14 1520.93 Q1809.34 1524.47 1809.34 1531.6 Q1809.34 1538.71 1811.14 1542.27 Q1812.97 1545.82 1816.58 1545.82 Q1820.22 1545.82 1822.02 1542.27 Q1823.85 1538.71 1823.85 1531.6 Q1823.85 1524.47 1822.02 1520.93 Q1820.22 1517.37 1816.58 1517.37 M1816.58 1513.66 Q1822.39 1513.66 1825.45 1518.27 Q1828.53 1522.85 1828.53 1531.6 Q1828.53 1540.33 1825.45 1544.94 Q1822.39 1549.52 1816.58 1549.52 Q1810.77 1549.52 1807.69 1544.94 Q1804.64 1540.33 1804.64 1531.6 Q1804.64 1522.85 1807.69 1518.27 Q1810.77 1513.66 1816.58 1513.66 Z\" fill=\"#000000\" fill-rule=\"evenodd\" fill-opacity=\"1\" /><path clip-path=\"url(#clip190)\" d=\"M2239.21 1544.91 L2255.53 1544.91 L2255.53 1548.85 L2233.59 1548.85 L2233.59 1544.91 Q2236.25 1542.16 2240.83 1537.53 Q2245.44 1532.88 2246.62 1531.53 Q2248.86 1529.01 2249.74 1527.27 Q2250.65 1525.51 2250.65 1523.82 Q2250.65 1521.07 2248.7 1519.33 Q2246.78 1517.6 2243.68 1517.6 Q2241.48 1517.6 2239.03 1518.36 Q2236.6 1519.13 2233.82 1520.68 L2233.82 1515.95 Q2236.64 1514.82 2239.1 1514.24 Q2241.55 1513.66 2243.59 1513.66 Q2248.96 1513.66 2252.15 1516.35 Q2255.35 1519.03 2255.35 1523.52 Q2255.35 1525.65 2254.54 1527.57 Q2253.75 1529.47 2251.64 1532.07 Q2251.06 1532.74 2247.96 1535.95 Q2244.86 1539.15 2239.21 1544.91 Z\" fill=\"#000000\" fill-rule=\"evenodd\" fill-opacity=\"1\" /><path clip-path=\"url(#clip190)\" d=\"M2275.35 1517.37 Q2271.73 1517.37 2269.91 1520.93 Q2268.1 1524.47 2268.1 1531.6 Q2268.1 1538.71 2269.91 1542.27 Q2271.73 1545.82 2275.35 1545.82 Q2278.98 1545.82 2280.79 1542.27 Q2282.61 1538.71 2282.61 1531.6 Q2282.61 1524.47 2280.79 1520.93 Q2278.98 1517.37 2275.35 1517.37 M2275.35 1513.66 Q2281.16 1513.66 2284.21 1518.27 Q2287.29 1522.85 2287.29 1531.6 Q2287.29 1540.33 2284.21 1544.94 Q2281.16 1549.52 2275.35 1549.52 Q2269.54 1549.52 2266.46 1544.94 Q2263.4 1540.33 2263.4 1531.6 Q2263.4 1522.85 2266.46 1518.27 Q2269.54 1513.66 2275.35 1513.66 Z\" fill=\"#000000\" fill-rule=\"evenodd\" fill-opacity=\"1\" /><path clip-path=\"url(#clip190)\" d=\"M2305.51 1517.37 Q2301.9 1517.37 2300.07 1520.93 Q2298.26 1524.47 2298.26 1531.6 Q2298.26 1538.71 2300.07 1542.27 Q2301.9 1545.82 2305.51 1545.82 Q2309.14 1545.82 2310.95 1542.27 Q2312.78 1538.71 2312.78 1531.6 Q2312.78 1524.47 2310.95 1520.93 Q2309.14 1517.37 2305.51 1517.37 M2305.51 1513.66 Q2311.32 1513.66 2314.37 1518.27 Q2317.45 1522.85 2317.45 1531.6 Q2317.45 1540.33 2314.37 1544.94 Q2311.32 1549.52 2305.51 1549.52 Q2299.7 1549.52 2296.62 1544.94 Q2293.56 1540.33 2293.56 1531.6 Q2293.56 1522.85 2296.62 1518.27 Q2299.7 1513.66 2305.51 1513.66 Z\" fill=\"#000000\" fill-rule=\"evenodd\" fill-opacity=\"1\" /><path clip-path=\"url(#clip190)\" d=\"M2335.67 1517.37 Q2332.06 1517.37 2330.23 1520.93 Q2328.42 1524.47 2328.42 1531.6 Q2328.42 1538.71 2330.23 1542.27 Q2332.06 1545.82 2335.67 1545.82 Q2339.3 1545.82 2341.11 1542.27 Q2342.94 1538.71 2342.94 1531.6 Q2342.94 1524.47 2341.11 1520.93 Q2339.3 1517.37 2335.67 1517.37 M2335.67 1513.66 Q2341.48 1513.66 2344.54 1518.27 Q2347.61 1522.85 2347.61 1531.6 Q2347.61 1540.33 2344.54 1544.94 Q2341.48 1549.52 2335.67 1549.52 Q2329.86 1549.52 2326.78 1544.94 Q2323.73 1540.33 2323.73 1531.6 Q2323.73 1522.85 2326.78 1518.27 Q2329.86 1513.66 2335.67 1513.66 Z\" fill=\"#000000\" fill-rule=\"evenodd\" fill-opacity=\"1\" /><polyline clip-path=\"url(#clip192)\" style=\"stroke:#000000; stroke-linecap:round; stroke-linejoin:round; stroke-width:2; stroke-opacity:0.1; fill:none\" points=\"\n  156.598,1228.58 2352.76,1228.58 \n  \"/>\n<polyline clip-path=\"url(#clip192)\" style=\"stroke:#000000; stroke-linecap:round; stroke-linejoin:round; stroke-width:2; stroke-opacity:0.1; fill:none\" points=\"\n  156.598,891.689 2352.76,891.689 \n  \"/>\n<polyline clip-path=\"url(#clip192)\" style=\"stroke:#000000; stroke-linecap:round; stroke-linejoin:round; stroke-width:2; stroke-opacity:0.1; fill:none\" points=\"\n  156.598,554.797 2352.76,554.797 \n  \"/>\n<polyline clip-path=\"url(#clip192)\" style=\"stroke:#000000; stroke-linecap:round; stroke-linejoin:round; stroke-width:2; stroke-opacity:0.1; fill:none\" points=\"\n  156.598,217.904 2352.76,217.904 \n  \"/>\n<polyline clip-path=\"url(#clip190)\" style=\"stroke:#000000; stroke-linecap:round; stroke-linejoin:round; stroke-width:4; stroke-opacity:1; fill:none\" points=\"\n  156.598,1486.45 156.598,47.2441 \n  \"/>\n<polyline clip-path=\"url(#clip190)\" style=\"stroke:#000000; stroke-linecap:round; stroke-linejoin:round; stroke-width:4; stroke-opacity:1; fill:none\" points=\"\n  156.598,1228.58 175.496,1228.58 \n  \"/>\n<polyline clip-path=\"url(#clip190)\" style=\"stroke:#000000; stroke-linecap:round; stroke-linejoin:round; stroke-width:4; stroke-opacity:1; fill:none\" points=\"\n  156.598,891.689 175.496,891.689 \n  \"/>\n<polyline clip-path=\"url(#clip190)\" style=\"stroke:#000000; stroke-linecap:round; stroke-linejoin:round; stroke-width:4; stroke-opacity:1; fill:none\" points=\"\n  156.598,554.797 175.496,554.797 \n  \"/>\n<polyline clip-path=\"url(#clip190)\" style=\"stroke:#000000; stroke-linecap:round; stroke-linejoin:round; stroke-width:4; stroke-opacity:1; fill:none\" points=\"\n  156.598,217.904 175.496,217.904 \n  \"/>\n<path clip-path=\"url(#clip190)\" d=\"M64.0708 1214.38 Q60.4597 1214.38 58.631 1217.95 Q56.8254 1221.49 56.8254 1228.62 Q56.8254 1235.72 58.631 1239.29 Q60.4597 1242.83 64.0708 1242.83 Q67.705 1242.83 69.5105 1239.29 Q71.3392 1235.72 71.3392 1228.62 Q71.3392 1221.49 69.5105 1217.95 Q67.705 1214.38 64.0708 1214.38 M64.0708 1210.68 Q69.8809 1210.68 72.9365 1215.28 Q76.0151 1219.87 76.0151 1228.62 Q76.0151 1237.34 72.9365 1241.95 Q69.8809 1246.53 64.0708 1246.53 Q58.2606 1246.53 55.1819 1241.95 Q52.1264 1237.34 52.1264 1228.62 Q52.1264 1219.87 55.1819 1215.28 Q58.2606 1210.68 64.0708 1210.68 Z\" fill=\"#000000\" fill-rule=\"evenodd\" fill-opacity=\"1\" /><path clip-path=\"url(#clip190)\" d=\"M84.2327 1239.98 L89.1169 1239.98 L89.1169 1245.86 L84.2327 1245.86 L84.2327 1239.98 Z\" fill=\"#000000\" fill-rule=\"evenodd\" fill-opacity=\"1\" /><path clip-path=\"url(#clip190)\" d=\"M113.469 1227.23 Q116.825 1227.95 118.7 1230.21 Q120.598 1232.48 120.598 1235.82 Q120.598 1240.93 117.08 1243.73 Q113.561 1246.53 107.08 1246.53 Q104.904 1246.53 102.589 1246.09 Q100.297 1245.68 97.8437 1244.82 L97.8437 1240.31 Q99.7882 1241.44 102.103 1242.02 Q104.418 1242.6 106.941 1242.6 Q111.339 1242.6 113.631 1240.86 Q115.945 1239.13 115.945 1235.82 Q115.945 1232.76 113.793 1231.05 Q111.663 1229.31 107.844 1229.31 L103.816 1229.31 L103.816 1225.47 L108.029 1225.47 Q111.478 1225.47 113.307 1224.1 Q115.135 1222.71 115.135 1220.12 Q115.135 1217.46 113.237 1216.05 Q111.362 1214.61 107.844 1214.61 Q105.922 1214.61 103.723 1215.03 Q101.524 1215.45 98.8854 1216.33 L98.8854 1212.16 Q101.547 1211.42 103.862 1211.05 Q106.2 1210.68 108.26 1210.68 Q113.584 1210.68 116.686 1213.11 Q119.788 1215.52 119.788 1219.64 Q119.788 1222.51 118.145 1224.5 Q116.501 1226.46 113.469 1227.23 Z\" fill=\"#000000\" fill-rule=\"evenodd\" fill-opacity=\"1\" /><path clip-path=\"url(#clip190)\" d=\"M62.9365 877.488 Q59.3254 877.488 57.4967 881.053 Q55.6912 884.595 55.6912 891.724 Q55.6912 898.831 57.4967 902.395 Q59.3254 905.937 62.9365 905.937 Q66.5707 905.937 68.3763 902.395 Q70.205 898.831 70.205 891.724 Q70.205 884.595 68.3763 881.053 Q66.5707 877.488 62.9365 877.488 M62.9365 873.784 Q68.7467 873.784 71.8022 878.391 Q74.8809 882.974 74.8809 891.724 Q74.8809 900.451 71.8022 905.057 Q68.7467 909.641 62.9365 909.641 Q57.1264 909.641 54.0477 905.057 Q50.9921 900.451 50.9921 891.724 Q50.9921 882.974 54.0477 878.391 Q57.1264 873.784 62.9365 873.784 Z\" fill=\"#000000\" fill-rule=\"evenodd\" fill-opacity=\"1\" /><path clip-path=\"url(#clip190)\" d=\"M83.0984 903.09 L87.9827 903.09 L87.9827 908.969 L83.0984 908.969 L83.0984 903.09 Z\" fill=\"#000000\" fill-rule=\"evenodd\" fill-opacity=\"1\" /><path clip-path=\"url(#clip190)\" d=\"M111.015 878.483 L99.2095 896.932 L111.015 896.932 L111.015 878.483 M109.788 874.409 L115.668 874.409 L115.668 896.932 L120.598 896.932 L120.598 900.821 L115.668 900.821 L115.668 908.969 L111.015 908.969 L111.015 900.821 L95.4132 900.821 L95.4132 896.307 L109.788 874.409 Z\" fill=\"#000000\" fill-rule=\"evenodd\" fill-opacity=\"1\" /><path clip-path=\"url(#clip190)\" d=\"M64.418 540.595 Q60.8069 540.595 58.9782 544.16 Q57.1726 547.702 57.1726 554.831 Q57.1726 561.938 58.9782 565.502 Q60.8069 569.044 64.418 569.044 Q68.0522 569.044 69.8578 565.502 Q71.6865 561.938 71.6865 554.831 Q71.6865 547.702 69.8578 544.16 Q68.0522 540.595 64.418 540.595 M64.418 536.892 Q70.2281 536.892 73.2837 541.498 Q76.3624 546.081 76.3624 554.831 Q76.3624 563.558 73.2837 568.164 Q70.2281 572.748 64.418 572.748 Q58.6078 572.748 55.5291 568.164 Q52.4736 563.558 52.4736 554.831 Q52.4736 546.081 55.5291 541.498 Q58.6078 536.892 64.418 536.892 Z\" fill=\"#000000\" fill-rule=\"evenodd\" fill-opacity=\"1\" /><path clip-path=\"url(#clip190)\" d=\"M84.5799 566.197 L89.4641 566.197 L89.4641 572.077 L84.5799 572.077 L84.5799 566.197 Z\" fill=\"#000000\" fill-rule=\"evenodd\" fill-opacity=\"1\" /><path clip-path=\"url(#clip190)\" d=\"M99.6956 537.517 L118.052 537.517 L118.052 541.452 L103.978 541.452 L103.978 549.924 Q104.996 549.577 106.015 549.415 Q107.033 549.229 108.052 549.229 Q113.839 549.229 117.219 552.401 Q120.598 555.572 120.598 560.989 Q120.598 566.567 117.126 569.669 Q113.654 572.748 107.334 572.748 Q105.159 572.748 102.89 572.377 Q100.645 572.007 98.2372 571.266 L98.2372 566.567 Q100.321 567.702 102.543 568.257 Q104.765 568.813 107.242 568.813 Q111.246 568.813 113.584 566.706 Q115.922 564.6 115.922 560.989 Q115.922 557.378 113.584 555.271 Q111.246 553.165 107.242 553.165 Q105.367 553.165 103.492 553.581 Q101.64 553.998 99.6956 554.878 L99.6956 537.517 Z\" fill=\"#000000\" fill-rule=\"evenodd\" fill-opacity=\"1\" /><path clip-path=\"url(#clip190)\" d=\"M63.2606 203.702 Q59.6495 203.702 57.8208 207.267 Q56.0152 210.809 56.0152 217.938 Q56.0152 225.045 57.8208 228.61 Q59.6495 232.151 63.2606 232.151 Q66.8948 232.151 68.7004 228.61 Q70.5291 225.045 70.5291 217.938 Q70.5291 210.809 68.7004 207.267 Q66.8948 203.702 63.2606 203.702 M63.2606 199.999 Q69.0707 199.999 72.1263 204.605 Q75.205 209.188 75.205 217.938 Q75.205 226.665 72.1263 231.272 Q69.0707 235.855 63.2606 235.855 Q57.4504 235.855 54.3717 231.272 Q51.3162 226.665 51.3162 217.938 Q51.3162 209.188 54.3717 204.605 Q57.4504 199.999 63.2606 199.999 Z\" fill=\"#000000\" fill-rule=\"evenodd\" fill-opacity=\"1\" /><path clip-path=\"url(#clip190)\" d=\"M83.4225 229.304 L88.3067 229.304 L88.3067 235.184 L83.4225 235.184 L83.4225 229.304 Z\" fill=\"#000000\" fill-rule=\"evenodd\" fill-opacity=\"1\" /><path clip-path=\"url(#clip190)\" d=\"M109.071 216.04 Q105.922 216.04 104.071 218.193 Q102.242 220.346 102.242 224.096 Q102.242 227.823 104.071 229.998 Q105.922 232.151 109.071 232.151 Q112.219 232.151 114.047 229.998 Q115.899 227.823 115.899 224.096 Q115.899 220.346 114.047 218.193 Q112.219 216.04 109.071 216.04 M118.353 201.387 L118.353 205.647 Q116.594 204.813 114.788 204.374 Q113.006 203.934 111.246 203.934 Q106.617 203.934 104.163 207.059 Q101.733 210.184 101.385 216.503 Q102.751 214.489 104.811 213.424 Q106.871 212.337 109.348 212.337 Q114.557 212.337 117.566 215.508 Q120.598 218.656 120.598 224.096 Q120.598 229.42 117.45 232.637 Q114.302 235.855 109.071 235.855 Q103.075 235.855 99.9039 231.272 Q96.7326 226.665 96.7326 217.938 Q96.7326 209.744 100.621 204.883 Q104.51 199.999 111.061 199.999 Q112.82 199.999 114.603 200.346 Q116.408 200.693 118.353 201.387 Z\" fill=\"#000000\" fill-rule=\"evenodd\" fill-opacity=\"1\" /><polyline clip-path=\"url(#clip192)\" style=\"stroke:#009af9; stroke-linecap:round; stroke-linejoin:round; stroke-width:4; stroke-opacity:1; fill:none\" points=\"\n  218.754,87.9763 219.79,92.9601 220.827,97.9198 221.863,102.856 222.899,107.767 223.936,112.656 224.972,117.52 226.009,122.361 227.045,127.179 228.082,131.974 \n  229.118,136.746 230.154,141.494 231.191,146.22 232.227,150.923 233.264,155.604 234.3,160.262 235.337,164.898 236.373,169.511 237.41,174.103 238.446,178.673 \n  239.482,183.22 240.519,187.746 241.555,192.251 242.592,196.734 243.628,201.195 244.665,205.636 245.701,210.055 246.738,214.453 247.774,218.83 248.81,223.187 \n  249.847,227.523 250.883,231.838 251.92,236.133 252.956,240.407 253.993,244.661 255.029,248.895 256.066,253.109 257.102,257.304 258.138,261.478 259.175,265.633 \n  260.211,269.768 261.248,273.884 262.284,277.98 263.321,282.057 264.357,286.115 265.394,290.154 266.43,294.174 267.466,298.175 268.503,302.157 269.539,306.121 \n  270.576,310.066 271.612,313.993 272.649,317.902 273.685,321.792 274.721,325.664 275.758,329.518 276.794,333.354 277.831,337.173 278.867,340.973 279.904,344.756 \n  280.94,348.522 281.977,352.27 283.013,356 284.049,359.714 285.086,363.41 286.122,367.089 287.159,370.751 288.195,374.396 289.232,378.025 290.268,381.637 \n  291.305,385.232 292.341,388.811 293.377,392.373 294.414,395.919 295.45,399.448 296.487,402.962 297.523,406.459 298.56,409.941 299.596,413.406 300.633,416.856 \n  301.669,420.29 302.705,423.709 303.742,427.111 304.778,430.499 305.815,433.871 306.851,437.227 307.888,440.569 308.924,443.895 309.961,447.206 310.997,450.503 \n  312.033,453.784 313.07,457.051 314.106,460.303 315.143,463.54 316.179,466.762 317.216,469.971 318.252,473.164 319.288,476.344 320.325,479.509 321.361,482.66 \n  322.398,485.797 323.434,488.919 324.471,492.028 325.507,495.123 326.544,498.204 327.58,501.272 328.616,504.326 329.653,507.366 330.689,510.392 331.726,513.406 \n  332.762,516.406 333.799,519.392 334.835,522.365 335.872,525.326 336.908,528.273 337.944,531.207 338.981,534.128 340.017,537.037 341.054,539.932 342.09,542.815 \n  343.127,545.685 344.163,548.542 345.2,551.387 346.236,554.22 347.272,557.04 348.309,559.848 349.345,562.644 350.382,565.427 351.418,568.198 352.455,570.957 \n  353.491,573.704 354.527,576.44 355.564,579.163 356.6,581.874 357.637,584.574 358.673,587.262 359.71,589.939 360.746,592.604 361.783,595.257 362.819,597.899 \n  363.855,600.529 364.892,603.149 365.928,605.757 366.965,608.353 368.001,610.939 369.038,613.514 370.074,616.077 371.111,618.63 372.147,621.171 373.183,623.702 \n  374.22,626.222 375.256,628.731 376.293,631.23 377.329,633.718 378.366,636.195 379.402,638.662 380.439,641.119 381.475,643.565 382.511,646 383.548,648.426 \n  384.584,650.841 385.621,653.246 386.657,655.64 387.694,658.025 388.73,660.4 389.767,662.765 390.803,665.119 391.839,667.464 392.876,669.799 393.912,672.125 \n  394.949,674.44 395.985,676.746 397.022,679.043 398.058,681.33 399.094,683.607 400.131,685.875 401.167,688.133 402.204,690.382 403.24,692.622 404.277,694.852 \n  405.313,697.073 406.35,699.285 407.386,701.488 408.422,703.682 409.459,705.867 410.495,708.042 411.532,710.209 412.568,712.367 413.605,714.516 414.641,716.657 \n  415.678,718.788 416.714,720.911 417.75,723.025 418.787,725.131 419.823,727.227 420.86,729.316 421.896,731.396 422.933,733.467 423.969,735.53 425.006,737.585 \n  426.042,739.631 427.078,741.669 428.115,743.699 429.151,745.721 430.188,747.734 431.224,749.74 432.261,751.737 433.297,753.726 434.334,755.708 435.37,757.681 \n  436.406,759.646 437.443,761.604 438.479,763.554 439.516,765.496 440.552,767.43 441.589,769.357 442.625,771.275 443.661,773.187 444.698,775.09 445.734,776.986 \n  446.771,778.875 447.807,780.756 448.844,782.63 449.88,784.496 450.917,786.355 451.953,788.206 452.989,790.05 454.026,791.887 455.062,793.717 456.099,795.54 \n  457.135,797.355 458.172,799.164 459.208,800.965 460.245,802.759 461.281,804.546 462.317,806.327 463.354,808.1 464.39,809.866 465.427,811.626 466.463,813.379 \n  467.5,815.125 468.536,816.864 469.573,818.596 470.609,820.322 471.645,822.041 472.682,823.753 473.718,825.459 474.755,827.158 475.791,828.851 476.828,830.537 \n  477.864,832.217 478.9,833.891 479.937,835.557 480.973,837.218 482.01,838.872 483.046,840.52 484.083,842.162 485.119,843.797 486.156,845.426 487.192,847.049 \n  488.228,848.666 489.265,850.277 490.301,851.881 491.338,853.48 492.374,855.072 493.411,856.659 494.447,858.239 495.484,859.814 496.52,861.382 497.556,862.945 \n  498.593,864.502 499.629,866.053 500.666,867.598 501.702,869.138 502.739,870.671 503.775,872.199 504.812,873.722 505.848,875.238 506.884,876.749 507.921,878.255 \n  508.957,879.754 509.994,881.249 511.03,882.737 512.067,884.22 513.103,885.698 514.14,887.17 515.176,888.637 516.212,890.099 517.249,891.555 518.285,893.005 \n  519.322,894.451 520.358,895.891 521.395,897.326 522.431,898.755 523.467,900.18 524.504,901.599 525.54,903.013 526.577,904.421 527.613,905.825 528.65,907.224 \n  529.686,908.617 530.723,910.006 531.759,911.389 532.795,912.768 533.832,914.141 534.868,915.51 535.905,916.873 536.941,918.232 537.978,919.586 539.014,920.935 \n  540.051,922.279 541.087,923.618 542.123,924.952 543.16,926.282 544.196,927.607 545.233,928.927 546.269,930.243 547.306,931.554 548.342,932.86 549.379,934.161 \n  550.415,935.458 551.451,936.751 552.488,938.038 553.524,939.321 554.561,940.6 555.597,941.874 556.634,943.144 557.67,944.409 558.707,945.67 559.743,946.926 \n  560.779,948.178 561.816,949.426 562.852,950.669 563.889,951.908 564.925,953.142 565.962,954.372 566.998,955.598 568.034,956.82 569.071,958.037 570.107,959.25 \n  571.144,960.459 572.18,961.664 573.217,962.865 574.253,964.061 575.29,965.253 576.326,966.442 577.362,967.626 578.399,968.806 579.435,969.982 580.472,971.154 \n  581.508,972.322 582.545,973.486 583.581,974.646 584.618,975.802 585.654,976.954 586.69,978.102 587.727,979.246 588.763,980.386 589.8,981.523 590.836,982.655 \n  591.873,983.784 592.909,984.909 593.946,986.03 594.982,987.147 596.018,988.261 597.055,989.371 598.091,990.477 599.128,991.579 600.164,992.678 601.201,993.773 \n  602.237,994.864 603.273,995.952 604.31,997.036 605.346,998.116 606.383,999.193 607.419,1000.27 608.456,1001.34 609.492,1002.4 610.529,1003.46 611.565,1004.52 \n  612.601,1005.58 613.638,1006.63 614.674,1007.68 615.711,1008.72 616.747,1009.77 617.784,1010.8 618.82,1011.84 619.857,1012.87 620.893,1013.9 621.929,1014.92 \n  622.966,1015.94 624.002,1016.96 625.039,1017.98 626.075,1018.99 627.112,1020 628.148,1021 629.185,1022 630.221,1023 631.257,1023.99 632.294,1024.99 \n  633.33,1025.97 634.367,1026.96 635.403,1027.94 636.44,1028.92 637.476,1029.9 638.513,1030.87 639.549,1031.84 640.585,1032.81 641.622,1033.77 642.658,1034.73 \n  643.695,1035.69 644.731,1036.64 645.768,1037.59 646.804,1038.54 647.84,1039.48 648.877,1040.43 649.913,1041.36 650.95,1042.3 651.986,1043.23 653.023,1044.16 \n  654.059,1045.09 655.096,1046.02 656.132,1046.94 657.168,1047.85 658.205,1048.77 659.241,1049.68 660.278,1050.59 661.314,1051.5 662.351,1052.4 663.387,1053.3 \n  664.424,1054.2 665.46,1055.1 666.496,1055.99 667.533,1056.88 668.569,1057.77 669.606,1058.65 670.642,1059.53 671.679,1060.41 672.715,1061.29 673.752,1062.16 \n  674.788,1063.03 675.824,1063.9 676.861,1064.77 677.897,1065.63 678.934,1066.49 679.97,1067.35 681.007,1068.2 682.043,1069.05 683.079,1069.9 684.116,1070.75 \n  685.152,1071.6 686.189,1072.44 687.225,1073.28 688.262,1074.11 689.298,1074.95 690.335,1075.78 691.371,1076.61 692.407,1077.43 693.444,1078.26 694.48,1079.08 \n  695.517,1079.9 696.553,1080.72 697.59,1081.53 698.626,1082.34 699.663,1083.15 700.699,1083.96 701.735,1084.76 702.772,1085.56 703.808,1086.36 704.845,1087.16 \n  705.881,1087.96 706.918,1088.75 707.954,1089.54 708.991,1090.33 710.027,1091.11 711.063,1091.89 712.1,1092.67 713.136,1093.45 714.173,1094.23 715.209,1095 \n  716.246,1095.77 717.282,1096.54 718.319,1097.31 719.355,1098.07 720.391,1098.84 721.428,1099.6 722.464,1100.36 723.501,1101.11 724.537,1101.86 725.574,1102.62 \n  726.61,1103.36 727.646,1104.11 728.683,1104.86 729.719,1105.6 730.756,1106.34 731.792,1107.08 732.829,1107.81 733.865,1108.55 734.902,1109.28 735.938,1110.01 \n  736.974,1110.74 738.011,1111.46 739.047,1112.19 740.084,1112.91 741.12,1113.63 742.157,1114.34 743.193,1115.06 744.23,1115.77 745.266,1116.48 746.302,1117.19 \n  747.339,1117.9 748.375,1118.6 749.412,1119.31 750.448,1120.01 751.485,1120.71 752.521,1121.4 753.558,1122.1 754.594,1122.79 755.63,1123.48 756.667,1124.17 \n  757.703,1124.86 758.74,1125.54 759.776,1126.23 760.813,1126.91 761.849,1127.59 762.886,1128.27 763.922,1128.94 764.958,1129.62 765.995,1130.29 767.031,1130.96 \n  768.068,1131.63 769.104,1132.29 770.141,1132.96 771.177,1133.62 772.213,1134.28 773.25,1134.94 774.286,1135.59 775.323,1136.25 776.359,1136.9 777.396,1137.56 \n  778.432,1138.2 779.469,1138.85 780.505,1139.5 781.541,1140.14 782.578,1140.79 783.614,1141.43 784.651,1142.07 785.687,1142.7 786.724,1143.34 787.76,1143.97 \n  788.797,1144.61 789.833,1145.24 790.869,1145.86 791.906,1146.49 792.942,1147.12 793.979,1147.74 795.015,1148.36 796.052,1148.98 797.088,1149.6 798.125,1150.22 \n  799.161,1150.83 800.197,1151.45 801.234,1152.06 802.27,1152.67 803.307,1153.28 804.343,1153.88 805.38,1154.49 806.416,1155.09 807.452,1155.7 808.489,1156.3 \n  809.525,1156.89 810.562,1157.49 811.598,1158.09 812.635,1158.68 813.671,1159.27 814.708,1159.86 815.744,1160.45 816.78,1161.04 817.817,1161.63 818.853,1162.21 \n  819.89,1162.8 820.926,1163.38 821.963,1163.96 822.999,1164.54 824.036,1165.11 825.072,1165.69 826.108,1166.26 827.145,1166.84 828.181,1167.41 829.218,1167.98 \n  830.254,1168.54 831.291,1169.11 832.327,1169.68 833.364,1170.24 834.4,1170.8 835.436,1171.36 836.473,1171.92 837.509,1172.48 838.546,1173.04 839.582,1173.59 \n  840.619,1174.14 841.655,1174.7 842.692,1175.25 843.728,1175.8 844.764,1176.34 845.801,1176.89 846.837,1177.43 847.874,1177.98 848.91,1178.52 849.947,1179.06 \n  850.983,1179.6 852.019,1180.14 853.056,1180.67 854.092,1181.21 855.129,1181.74 856.165,1182.28 857.202,1182.81 858.238,1183.34 859.275,1183.87 860.311,1184.39 \n  861.347,1184.92 862.384,1185.44 863.42,1185.97 864.457,1186.49 865.493,1187.01 866.53,1187.53 867.566,1188.05 868.603,1188.56 869.639,1189.08 870.675,1189.59 \n  871.712,1190.1 872.748,1190.62 873.785,1191.13 874.821,1191.63 875.858,1192.14 876.894,1192.65 877.931,1193.15 878.967,1193.66 880.003,1194.16 881.04,1194.66 \n  882.076,1195.16 883.113,1195.66 884.149,1196.16 885.186,1196.66 886.222,1197.15 887.259,1197.64 888.295,1198.14 889.331,1198.63 890.368,1199.12 891.404,1199.61 \n  892.441,1200.1 893.477,1200.58 894.514,1201.07 895.55,1201.55 896.586,1202.04 897.623,1202.52 898.659,1203 899.696,1203.48 900.732,1203.96 901.769,1204.43 \n  902.805,1204.91 903.842,1205.39 904.878,1205.86 905.914,1206.33 906.951,1206.8 907.987,1207.27 909.024,1207.74 910.06,1208.21 911.097,1208.68 912.133,1209.15 \n  913.17,1209.61 914.206,1210.07 915.242,1210.54 916.279,1211 917.315,1211.46 918.352,1211.92 919.388,1212.38 920.425,1212.83 921.461,1213.29 922.498,1213.74 \n  923.534,1214.2 924.57,1214.65 925.607,1215.1 926.643,1215.55 927.68,1216 928.716,1216.45 929.753,1216.9 930.789,1217.35 931.825,1217.79 932.862,1218.24 \n  933.898,1218.68 934.935,1219.12 935.971,1219.56 937.008,1220 938.044,1220.44 939.081,1220.88 940.117,1221.32 941.153,1221.75 942.19,1222.19 943.226,1222.62 \n  944.263,1223.06 945.299,1223.49 946.336,1223.92 947.372,1224.35 948.409,1224.78 949.445,1225.21 950.481,1225.63 951.518,1226.06 952.554,1226.48 953.591,1226.91 \n  954.627,1227.33 955.664,1227.75 956.7,1228.17 957.737,1228.59 958.773,1229.01 959.809,1229.43 960.846,1229.85 961.882,1230.27 962.919,1230.68 963.955,1231.1 \n  964.992,1231.51 966.028,1231.92 967.065,1232.33 968.101,1232.75 969.137,1233.16 970.174,1233.56 971.21,1233.97 972.247,1234.38 973.283,1234.79 974.32,1235.19 \n  975.356,1235.6 976.392,1236 977.429,1236.4 978.465,1236.8 979.502,1237.2 980.538,1237.6 981.575,1238 982.611,1238.4 983.648,1238.8 984.684,1239.19 \n  985.72,1239.59 986.757,1239.98 987.793,1240.38 988.83,1240.77 989.866,1241.16 990.903,1241.55 991.939,1241.94 992.976,1242.33 994.012,1242.72 995.048,1243.11 \n  996.085,1243.5 997.121,1243.88 998.158,1244.27 999.194,1244.65 1000.23,1245.03 1001.27,1245.42 1002.3,1245.8 1003.34,1246.18 1004.38,1246.56 1005.41,1246.94 \n  1006.45,1247.32 1007.49,1247.69 1008.52,1248.07 1009.56,1248.45 1010.6,1248.82 1011.63,1249.2 1012.67,1249.57 1013.7,1249.94 1014.74,1250.31 1015.78,1250.68 \n  1016.81,1251.05 1017.85,1251.42 1018.89,1251.79 1019.92,1252.16 1020.96,1252.53 1022,1252.89 1023.03,1253.26 1024.07,1253.62 1025.11,1253.99 1026.14,1254.35 \n  1027.18,1254.71 1028.21,1255.07 1029.25,1255.44 1030.29,1255.8 1031.32,1256.15 1032.36,1256.51 1033.4,1256.87 1034.43,1257.23 1035.47,1257.58 1036.51,1257.94 \n  1037.54,1258.29 1038.58,1258.65 1039.62,1259 1040.65,1259.35 1041.69,1259.71 1042.72,1260.06 1043.76,1260.41 1044.8,1260.76 1045.83,1261.1 1046.87,1261.45 \n  1047.91,1261.8 1048.94,1262.15 1049.98,1262.49 1051.02,1262.84 1052.05,1263.18 1053.09,1263.53 1054.13,1263.87 1055.16,1264.21 1056.2,1264.55 1057.23,1264.89 \n  1058.27,1265.23 1059.31,1265.57 1060.34,1265.91 1061.38,1266.25 1062.42,1266.59 1063.45,1266.92 1064.49,1267.26 1065.53,1267.59 1066.56,1267.93 1067.6,1268.26 \n  1068.64,1268.6 1069.67,1268.93 1070.71,1269.26 1071.75,1269.59 1072.78,1269.92 1073.82,1270.25 1074.85,1270.58 1075.89,1270.91 1076.93,1271.24 1077.96,1271.56 \n  1079,1271.89 1080.04,1272.22 1081.07,1272.54 1082.11,1272.87 1083.15,1273.19 1084.18,1273.51 1085.22,1273.84 1086.26,1274.16 1087.29,1274.48 1088.33,1274.8 \n  1089.36,1275.12 1090.4,1275.44 1091.44,1275.76 1092.47,1276.07 1093.51,1276.39 1094.55,1276.71 1095.58,1277.02 1096.62,1277.34 1097.66,1277.65 1098.69,1277.97 \n  1099.73,1278.28 1100.77,1278.6 1101.8,1278.91 1102.84,1279.22 1103.87,1279.53 1104.91,1279.84 1105.95,1280.15 1106.98,1280.46 1108.02,1280.77 1109.06,1281.08 \n  1110.09,1281.38 1111.13,1281.69 1112.17,1282 1113.2,1282.3 1114.24,1282.61 1115.28,1282.91 1116.31,1283.21 1117.35,1283.52 1118.38,1283.82 1119.42,1284.12 \n  1120.46,1284.42 1121.49,1284.72 1122.53,1285.02 1123.57,1285.32 1124.6,1285.62 1125.64,1285.92 1126.68,1286.22 1127.71,1286.52 1128.75,1286.81 1129.79,1287.11 \n  1130.82,1287.4 1131.86,1287.7 1132.9,1287.99 1133.93,1288.29 1134.97,1288.58 1136,1288.87 1137.04,1289.17 1138.08,1289.46 1139.11,1289.75 1140.15,1290.04 \n  1141.19,1290.33 1142.22,1290.62 1143.26,1290.91 1144.3,1291.2 1145.33,1291.48 1146.37,1291.77 1147.41,1292.06 1148.44,1292.34 1149.48,1292.63 1150.51,1292.91 \n  1151.55,1293.2 1152.59,1293.48 1153.62,1293.76 1154.66,1294.05 1155.7,1294.33 1156.73,1294.61 1157.77,1294.89 1158.81,1295.17 1159.84,1295.45 1160.88,1295.73 \n  1161.92,1296.01 1162.95,1296.29 1163.99,1296.57 1165.02,1296.85 1166.06,1297.12 1167.1,1297.4 1168.13,1297.67 1169.17,1297.95 1170.21,1298.23 1171.24,1298.5 \n  1172.28,1298.77 1173.32,1299.05 1174.35,1299.32 1175.39,1299.59 1176.43,1299.86 1177.46,1300.13 1178.5,1300.41 1179.54,1300.68 1180.57,1300.95 1181.61,1301.21 \n  1182.64,1301.48 1183.68,1301.75 1184.72,1302.02 1185.75,1302.29 1186.79,1302.55 1187.83,1302.82 1188.86,1303.09 1189.9,1303.35 1190.94,1303.62 1191.97,1303.88 \n  1193.01,1304.14 1194.05,1304.41 1195.08,1304.67 1196.12,1304.93 1197.15,1305.2 1198.19,1305.46 1199.23,1305.72 1200.26,1305.98 1201.3,1306.24 1202.34,1306.5 \n  1203.37,1306.76 1204.41,1307.02 1205.45,1307.27 1206.48,1307.53 1207.52,1307.79 1208.56,1308.05 1209.59,1308.3 1210.63,1308.56 1211.66,1308.81 1212.7,1309.07 \n  1213.74,1309.32 1214.77,1309.58 1215.81,1309.83 1216.85,1310.08 1217.88,1310.34 1218.92,1310.59 1219.96,1310.84 1220.99,1311.09 1222.03,1311.34 1223.07,1311.59 \n  1224.1,1311.84 1225.14,1312.09 1226.17,1312.34 1227.21,1312.59 1228.25,1312.84 1229.28,1313.08 1230.32,1313.33 1231.36,1313.58 1232.39,1313.83 1233.43,1314.07 \n  1234.47,1314.32 1235.5,1314.56 1236.54,1314.81 1237.58,1315.05 1238.61,1315.29 1239.65,1315.54 1240.69,1315.78 1241.72,1316.02 1242.76,1316.27 1243.79,1316.51 \n  1244.83,1316.75 1245.87,1316.99 1246.9,1317.23 1247.94,1317.47 1248.98,1317.71 1250.01,1317.95 1251.05,1318.19 1252.09,1318.42 1253.12,1318.66 1254.16,1318.9 \n  1255.2,1319.14 1256.23,1319.37 1257.27,1319.61 1258.3,1319.85 1259.34,1320.08 1260.38,1320.32 1261.41,1320.55 1262.45,1320.78 1263.49,1321.02 1264.52,1321.25 \n  1265.56,1321.48 1266.6,1321.72 1267.63,1321.95 1268.67,1322.18 1269.71,1322.41 1270.74,1322.64 1271.78,1322.87 1272.81,1323.1 1273.85,1323.33 1274.89,1323.56 \n  1275.92,1323.79 1276.96,1324.02 1278,1324.25 1279.03,1324.48 1280.07,1324.7 1281.11,1324.93 1282.14,1325.16 1283.18,1325.38 1284.22,1325.61 1285.25,1325.84 \n  1286.29,1326.06 1287.32,1326.29 1288.36,1326.51 1289.4,1326.73 1290.43,1326.96 1291.47,1327.18 1292.51,1327.4 1293.54,1327.63 1294.58,1327.85 1295.62,1328.07 \n  1296.65,1328.29 1297.69,1328.51 1298.73,1328.73 1299.76,1328.95 1300.8,1329.17 1301.84,1329.39 1302.87,1329.61 1303.91,1329.83 1304.94,1330.05 1305.98,1330.27 \n  1307.02,1330.48 1308.05,1330.7 1309.09,1330.92 1310.13,1331.14 1311.16,1331.35 1312.2,1331.57 1313.24,1331.78 1314.27,1332 1315.31,1332.21 1316.35,1332.43 \n  1317.38,1332.64 1318.42,1332.86 1319.45,1333.07 1320.49,1333.28 1321.53,1333.49 1322.56,1333.71 1323.6,1333.92 1324.64,1334.13 1325.67,1334.34 1326.71,1334.55 \n  1327.75,1334.76 1328.78,1334.97 1329.82,1335.18 1330.86,1335.39 1331.89,1335.6 1332.93,1335.81 1333.96,1336.02 1335,1336.23 1336.04,1336.44 1337.07,1336.64 \n  1338.11,1336.85 1339.15,1337.06 1340.18,1337.26 1341.22,1337.47 1342.26,1337.68 1343.29,1337.88 1344.33,1338.09 1345.37,1338.29 1346.4,1338.5 1347.44,1338.7 \n  1348.48,1338.9 1349.51,1339.11 1350.55,1339.31 1351.58,1339.51 1352.62,1339.72 1353.66,1339.92 1354.69,1340.12 1355.73,1340.32 1356.77,1340.52 1357.8,1340.72 \n  1358.84,1340.92 1359.88,1341.12 1360.91,1341.32 1361.95,1341.52 1362.99,1341.72 1364.02,1341.92 1365.06,1342.12 1366.09,1342.32 1367.13,1342.52 1368.17,1342.71 \n  1369.2,1342.91 1370.24,1343.11 1371.28,1343.31 1372.31,1343.5 1373.35,1343.7 1374.39,1343.89 1375.42,1344.09 1376.46,1344.29 1377.5,1344.48 1378.53,1344.68 \n  1379.57,1344.87 1380.6,1345.06 1381.64,1345.26 1382.68,1345.45 1383.71,1345.64 1384.75,1345.84 1385.79,1346.03 1386.82,1346.22 1387.86,1346.41 1388.9,1346.6 \n  1389.93,1346.8 1390.97,1346.99 1392.01,1347.18 1393.04,1347.37 1394.08,1347.56 1395.11,1347.75 1396.15,1347.94 1397.19,1348.13 1398.22,1348.32 1399.26,1348.5 \n  1400.3,1348.69 1401.33,1348.88 1402.37,1349.07 1403.41,1349.26 1404.44,1349.44 1405.48,1349.63 1406.52,1349.82 1407.55,1350 1408.59,1350.19 1409.63,1350.37 \n  1410.66,1350.56 1411.7,1350.74 1412.73,1350.93 1413.77,1351.11 1414.81,1351.3 1415.84,1351.48 1416.88,1351.67 1417.92,1351.85 1418.95,1352.03 1419.99,1352.22 \n  1421.03,1352.4 1422.06,1352.58 1423.1,1352.76 1424.14,1352.94 1425.17,1353.13 1426.21,1353.31 1427.24,1353.49 1428.28,1353.67 1429.32,1353.85 1430.35,1354.03 \n  1431.39,1354.21 1432.43,1354.39 1433.46,1354.57 1434.5,1354.75 1435.54,1354.93 1436.57,1355.1 1437.61,1355.28 1438.65,1355.46 1439.68,1355.64 1440.72,1355.82 \n  1441.75,1355.99 1442.79,1356.17 1443.83,1356.35 1444.86,1356.52 1445.9,1356.7 1446.94,1356.88 1447.97,1357.05 1449.01,1357.23 1450.05,1357.4 1451.08,1357.58 \n  1452.12,1357.75 1453.16,1357.92 1454.19,1358.1 1455.23,1358.27 1456.26,1358.45 1457.3,1358.62 1458.34,1358.79 1459.37,1358.96 1460.41,1359.14 1461.45,1359.31 \n  1462.48,1359.48 1463.52,1359.65 1464.56,1359.82 1465.59,1360 1466.63,1360.17 1467.67,1360.34 1468.7,1360.51 1469.74,1360.68 1470.78,1360.85 1471.81,1361.02 \n  1472.85,1361.19 1473.88,1361.36 1474.92,1361.53 1475.96,1361.69 1476.99,1361.86 1478.03,1362.03 1479.07,1362.2 1480.1,1362.37 1481.14,1362.53 1482.18,1362.7 \n  1483.21,1362.87 1484.25,1363.03 1485.29,1363.2 1486.32,1363.37 1487.36,1363.53 1488.39,1363.7 1489.43,1363.86 1490.47,1364.03 1491.5,1364.2 1492.54,1364.36 \n  1493.58,1364.52 1494.61,1364.69 1495.65,1364.85 1496.69,1365.02 1497.72,1365.18 1498.76,1365.34 1499.8,1365.51 1500.83,1365.67 1501.87,1365.83 1502.9,1365.99 \n  1503.94,1366.16 1504.98,1366.32 1506.01,1366.48 1507.05,1366.64 1508.09,1366.8 1509.12,1366.96 1510.16,1367.13 1511.2,1367.29 1512.23,1367.45 1513.27,1367.61 \n  1514.31,1367.77 1515.34,1367.93 1516.38,1368.09 1517.42,1368.24 1518.45,1368.4 1519.49,1368.56 1520.52,1368.72 1521.56,1368.88 1522.6,1369.04 1523.63,1369.19 \n  1524.67,1369.35 1525.71,1369.51 1526.74,1369.67 1527.78,1369.82 1528.82,1369.98 1529.85,1370.14 1530.89,1370.29 1531.93,1370.45 1532.96,1370.61 1534,1370.76 \n  1535.03,1370.92 1536.07,1371.07 1537.11,1371.23 1538.14,1371.38 1539.18,1371.54 1540.22,1371.69 1541.25,1371.84 1542.29,1372 1543.33,1372.15 1544.36,1372.31 \n  1545.4,1372.46 1546.44,1372.61 1547.47,1372.76 1548.51,1372.92 1549.54,1373.07 1550.58,1373.22 1551.62,1373.37 1552.65,1373.53 1553.69,1373.68 1554.73,1373.83 \n  1555.76,1373.98 1556.8,1374.13 1557.84,1374.28 1558.87,1374.43 1559.91,1374.58 1560.95,1374.73 1561.98,1374.88 1563.02,1375.03 1564.05,1375.18 1565.09,1375.33 \n  1566.13,1375.48 1567.16,1375.63 1568.2,1375.78 1569.24,1375.93 1570.27,1376.07 1571.31,1376.22 1572.35,1376.37 1573.38,1376.52 1574.42,1376.66 1575.46,1376.81 \n  1576.49,1376.96 1577.53,1377.11 1578.57,1377.25 1579.6,1377.4 1580.64,1377.54 1581.67,1377.69 1582.71,1377.84 1583.75,1377.98 1584.78,1378.13 1585.82,1378.27 \n  1586.86,1378.42 1587.89,1378.56 1588.93,1378.71 1589.97,1378.85 1591,1379 1592.04,1379.14 1593.08,1379.28 1594.11,1379.43 1595.15,1379.57 1596.18,1379.71 \n  1597.22,1379.86 1598.26,1380 1599.29,1380.14 1600.33,1380.29 1601.37,1380.43 1602.4,1380.57 1603.44,1380.71 1604.48,1380.85 1605.51,1381 1606.55,1381.14 \n  1607.59,1381.28 1608.62,1381.42 1609.66,1381.56 1610.69,1381.7 1611.73,1381.84 1612.77,1381.98 1613.8,1382.12 1614.84,1382.26 1615.88,1382.4 1616.91,1382.54 \n  1617.95,1382.68 1618.99,1382.82 1620.02,1382.96 1621.06,1383.1 1622.1,1383.23 1623.13,1383.37 1624.17,1383.51 1625.2,1383.65 1626.24,1383.79 1627.28,1383.92 \n  1628.31,1384.06 1629.35,1384.2 1630.39,1384.34 1631.42,1384.47 1632.46,1384.61 1633.5,1384.75 1634.53,1384.88 1635.57,1385.02 1636.61,1385.15 1637.64,1385.29 \n  1638.68,1385.43 1639.72,1385.56 1640.75,1385.7 1641.79,1385.83 1642.82,1385.97 1643.86,1386.1 1644.9,1386.24 1645.93,1386.37 1646.97,1386.5 1648.01,1386.64 \n  1649.04,1386.77 1650.08,1386.91 1651.12,1387.04 1652.15,1387.17 1653.19,1387.31 1654.23,1387.44 1655.26,1387.57 1656.3,1387.71 1657.33,1387.84 1658.37,1387.97 \n  1659.41,1388.1 1660.44,1388.23 1661.48,1388.37 1662.52,1388.5 1663.55,1388.63 1664.59,1388.76 1665.63,1388.89 1666.66,1389.02 1667.7,1389.15 1668.74,1389.28 \n  1669.77,1389.41 1670.81,1389.54 1671.84,1389.67 1672.88,1389.8 1673.92,1389.93 1674.95,1390.06 1675.99,1390.19 1677.03,1390.32 1678.06,1390.45 1679.1,1390.58 \n  1680.14,1390.71 1681.17,1390.84 1682.21,1390.97 1683.25,1391.09 1684.28,1391.22 1685.32,1391.35 1686.36,1391.48 1687.39,1391.61 1688.43,1391.73 1689.46,1391.86 \n  1690.5,1391.99 1691.54,1392.12 1692.57,1392.24 1693.61,1392.37 1694.65,1392.5 1695.68,1392.62 1696.72,1392.75 1697.76,1392.87 1698.79,1393 1699.83,1393.13 \n  1700.87,1393.25 1701.9,1393.38 1702.94,1393.5 1703.97,1393.63 1705.01,1393.75 1706.05,1393.88 1707.08,1394 1708.12,1394.12 1709.16,1394.25 1710.19,1394.37 \n  1711.23,1394.5 1712.27,1394.62 1713.3,1394.74 1714.34,1394.87 1715.38,1394.99 1716.41,1395.11 1717.45,1395.24 1718.48,1395.36 1719.52,1395.48 1720.56,1395.61 \n  1721.59,1395.73 1722.63,1395.85 1723.67,1395.97 1724.7,1396.09 1725.74,1396.22 1726.78,1396.34 1727.81,1396.46 1728.85,1396.58 1729.89,1396.7 1730.92,1396.82 \n  1731.96,1396.94 1732.99,1397.07 1734.03,1397.19 1735.07,1397.31 1736.1,1397.43 1737.14,1397.55 1738.18,1397.67 1739.21,1397.79 1740.25,1397.91 1741.29,1398.03 \n  1742.32,1398.15 1743.36,1398.26 1744.4,1398.38 1745.43,1398.5 1746.47,1398.62 1747.51,1398.74 1748.54,1398.86 1749.58,1398.98 1750.61,1399.1 1751.65,1399.21 \n  1752.69,1399.33 1753.72,1399.45 1754.76,1399.57 1755.8,1399.68 1756.83,1399.8 1757.87,1399.92 1758.91,1400.04 1759.94,1400.15 1760.98,1400.27 1762.02,1400.39 \n  1763.05,1400.5 1764.09,1400.62 1765.12,1400.74 1766.16,1400.85 1767.2,1400.97 1768.23,1401.08 1769.27,1401.2 1770.31,1401.31 1771.34,1401.43 1772.38,1401.55 \n  1773.42,1401.66 1774.45,1401.78 1775.49,1401.89 1776.53,1402 1777.56,1402.12 1778.6,1402.23 1779.63,1402.35 1780.67,1402.46 1781.71,1402.58 1782.74,1402.69 \n  1783.78,1402.8 1784.82,1402.92 1785.85,1403.03 1786.89,1403.14 1787.93,1403.26 1788.96,1403.37 1790,1403.48 1791.04,1403.6 1792.07,1403.71 1793.11,1403.82 \n  1794.14,1403.93 1795.18,1404.05 1796.22,1404.16 1797.25,1404.27 1798.29,1404.38 1799.33,1404.49 1800.36,1404.6 1801.4,1404.72 1802.44,1404.83 1803.47,1404.94 \n  1804.51,1405.05 1805.55,1405.16 1806.58,1405.27 1807.62,1405.38 1808.66,1405.49 1809.69,1405.6 1810.73,1405.71 1811.76,1405.82 1812.8,1405.93 1813.84,1406.04 \n  1814.87,1406.15 1815.91,1406.26 1816.95,1406.37 1817.98,1406.48 1819.02,1406.59 1820.06,1406.7 1821.09,1406.81 1822.13,1406.92 1823.17,1407.03 1824.2,1407.13 \n  1825.24,1407.24 1826.27,1407.35 1827.31,1407.46 1828.35,1407.57 1829.38,1407.68 1830.42,1407.78 1831.46,1407.89 1832.49,1408 1833.53,1408.11 1834.57,1408.21 \n  1835.6,1408.32 1836.64,1408.43 1837.68,1408.53 1838.71,1408.64 1839.75,1408.75 1840.78,1408.85 1841.82,1408.96 1842.86,1409.07 1843.89,1409.17 1844.93,1409.28 \n  1845.97,1409.39 1847,1409.49 1848.04,1409.6 1849.08,1409.7 1850.11,1409.81 1851.15,1409.91 1852.19,1410.02 1853.22,1410.12 1854.26,1410.23 1855.3,1410.33 \n  1856.33,1410.44 1857.37,1410.54 1858.4,1410.65 1859.44,1410.75 1860.48,1410.86 1861.51,1410.96 1862.55,1411.06 1863.59,1411.17 1864.62,1411.27 1865.66,1411.37 \n  1866.7,1411.48 1867.73,1411.58 1868.77,1411.68 1869.81,1411.79 1870.84,1411.89 1871.88,1411.99 1872.91,1412.1 1873.95,1412.2 1874.99,1412.3 1876.02,1412.4 \n  1877.06,1412.51 1878.1,1412.61 1879.13,1412.71 1880.17,1412.81 1881.21,1412.91 1882.24,1413.02 1883.28,1413.12 1884.32,1413.22 1885.35,1413.32 1886.39,1413.42 \n  1887.42,1413.52 1888.46,1413.62 1889.5,1413.73 1890.53,1413.83 1891.57,1413.93 1892.61,1414.03 1893.64,1414.13 1894.68,1414.23 1895.72,1414.33 1896.75,1414.43 \n  1897.79,1414.53 1898.83,1414.63 1899.86,1414.73 1900.9,1414.83 1901.93,1414.93 1902.97,1415.03 1904.01,1415.13 1905.04,1415.23 1906.08,1415.33 1907.12,1415.42 \n  1908.15,1415.52 1909.19,1415.62 1910.23,1415.72 1911.26,1415.82 1912.3,1415.92 1913.34,1416.02 1914.37,1416.11 1915.41,1416.21 1916.45,1416.31 1917.48,1416.41 \n  1918.52,1416.51 1919.55,1416.6 1920.59,1416.7 1921.63,1416.8 1922.66,1416.9 1923.7,1416.99 1924.74,1417.09 1925.77,1417.19 1926.81,1417.28 1927.85,1417.38 \n  1928.88,1417.48 1929.92,1417.57 1930.96,1417.67 1931.99,1417.77 1933.03,1417.86 1934.06,1417.96 1935.1,1418.06 1936.14,1418.15 1937.17,1418.25 1938.21,1418.34 \n  1939.25,1418.44 1940.28,1418.53 1941.32,1418.63 1942.36,1418.73 1943.39,1418.82 1944.43,1418.92 1945.47,1419.01 1946.5,1419.11 1947.54,1419.2 1948.57,1419.3 \n  1949.61,1419.39 1950.65,1419.48 1951.68,1419.58 1952.72,1419.67 1953.76,1419.77 1954.79,1419.86 1955.83,1419.96 1956.87,1420.05 1957.9,1420.14 1958.94,1420.24 \n  1959.98,1420.33 1961.01,1420.42 1962.05,1420.52 1963.08,1420.61 1964.12,1420.7 1965.16,1420.8 1966.19,1420.89 1967.23,1420.98 1968.27,1421.07 1969.3,1421.17 \n  1970.34,1421.26 1971.38,1421.35 1972.41,1421.44 1973.45,1421.54 1974.49,1421.63 1975.52,1421.72 1976.56,1421.81 1977.6,1421.9 1978.63,1422 1979.67,1422.09 \n  1980.7,1422.18 1981.74,1422.27 1982.78,1422.36 1983.81,1422.45 1984.85,1422.54 1985.89,1422.64 1986.92,1422.73 1987.96,1422.82 1989,1422.91 1990.03,1423 \n  1991.07,1423.09 1992.11,1423.18 1993.14,1423.27 1994.18,1423.36 1995.21,1423.45 1996.25,1423.54 1997.29,1423.63 1998.32,1423.72 1999.36,1423.81 2000.4,1423.9 \n  2001.43,1423.99 2002.47,1424.08 2003.51,1424.17 2004.54,1424.26 2005.58,1424.35 2006.62,1424.44 2007.65,1424.53 2008.69,1424.61 2009.72,1424.7 2010.76,1424.79 \n  2011.8,1424.88 2012.83,1424.97 2013.87,1425.06 2014.91,1425.15 2015.94,1425.23 2016.98,1425.32 2018.02,1425.41 2019.05,1425.5 2020.09,1425.59 2021.13,1425.67 \n  2022.16,1425.76 2023.2,1425.85 2024.23,1425.94 2025.27,1426.02 2026.31,1426.11 2027.34,1426.2 2028.38,1426.29 2029.42,1426.37 2030.45,1426.46 2031.49,1426.55 \n  2032.53,1426.63 2033.56,1426.72 2034.6,1426.81 2035.64,1426.89 2036.67,1426.98 2037.71,1427.07 2038.75,1427.15 2039.78,1427.24 2040.82,1427.32 2041.85,1427.41 \n  2042.89,1427.5 2043.93,1427.58 2044.96,1427.67 2046,1427.75 2047.04,1427.84 2048.07,1427.92 2049.11,1428.01 2050.15,1428.09 2051.18,1428.18 2052.22,1428.27 \n  2053.26,1428.35 2054.29,1428.43 2055.33,1428.52 2056.36,1428.6 2057.4,1428.69 2058.44,1428.77 2059.47,1428.86 2060.51,1428.94 2061.55,1429.03 2062.58,1429.11 \n  2063.62,1429.19 2064.66,1429.28 2065.69,1429.36 2066.73,1429.45 2067.77,1429.53 2068.8,1429.61 2069.84,1429.7 2070.87,1429.78 2071.91,1429.86 2072.95,1429.95 \n  2073.98,1430.03 2075.02,1430.11 2076.06,1430.2 2077.09,1430.28 2078.13,1430.36 2079.17,1430.45 2080.2,1430.53 2081.24,1430.61 2082.28,1430.69 2083.31,1430.78 \n  2084.35,1430.86 2085.39,1430.94 2086.42,1431.02 2087.46,1431.11 2088.49,1431.19 2089.53,1431.27 2090.57,1431.35 2091.6,1431.43 2092.64,1431.51 2093.68,1431.6 \n  2094.71,1431.68 2095.75,1431.76 2096.79,1431.84 2097.82,1431.92 2098.86,1432 2099.9,1432.08 2100.93,1432.16 2101.97,1432.25 2103,1432.33 2104.04,1432.41 \n  2105.08,1432.49 2106.11,1432.57 2107.15,1432.65 2108.19,1432.73 2109.22,1432.81 2110.26,1432.89 2111.3,1432.97 2112.33,1433.05 2113.37,1433.13 2114.41,1433.21 \n  2115.44,1433.29 2116.48,1433.37 2117.51,1433.45 2118.55,1433.53 2119.59,1433.61 2120.62,1433.69 2121.66,1433.77 2122.7,1433.85 2123.73,1433.93 2124.77,1434.01 \n  2125.81,1434.08 2126.84,1434.16 2127.88,1434.24 2128.92,1434.32 2129.95,1434.4 2130.99,1434.48 2132.02,1434.56 2133.06,1434.64 2134.1,1434.71 2135.13,1434.79 \n  2136.17,1434.87 2137.21,1434.95 2138.24,1435.03 2139.28,1435.11 2140.32,1435.18 2141.35,1435.26 2142.39,1435.34 2143.43,1435.42 2144.46,1435.49 2145.5,1435.57 \n  2146.54,1435.65 2147.57,1435.73 2148.61,1435.8 2149.64,1435.88 2150.68,1435.96 2151.72,1436.04 2152.75,1436.11 2153.79,1436.19 2154.83,1436.27 2155.86,1436.34 \n  2156.9,1436.42 2157.94,1436.5 2158.97,1436.57 2160.01,1436.65 2161.05,1436.73 2162.08,1436.8 2163.12,1436.88 2164.15,1436.96 2165.19,1437.03 2166.23,1437.11 \n  2167.26,1437.18 2168.3,1437.26 2169.34,1437.34 2170.37,1437.41 2171.41,1437.49 2172.45,1437.56 2173.48,1437.64 2174.52,1437.71 2175.56,1437.79 2176.59,1437.86 \n  2177.63,1437.94 2178.66,1438.01 2179.7,1438.09 2180.74,1438.16 2181.77,1438.24 2182.81,1438.31 2183.85,1438.39 2184.88,1438.46 2185.92,1438.54 2186.96,1438.61 \n  2187.99,1438.69 2189.03,1438.76 2190.07,1438.84 2191.1,1438.91 2192.14,1438.98 2193.17,1439.06 2194.21,1439.13 2195.25,1439.21 2196.28,1439.28 2197.32,1439.35 \n  2198.36,1439.43 2199.39,1439.5 2200.43,1439.58 2201.47,1439.65 2202.5,1439.72 2203.54,1439.8 2204.58,1439.87 2205.61,1439.94 2206.65,1440.02 2207.69,1440.09 \n  2208.72,1440.16 2209.76,1440.23 2210.79,1440.31 2211.83,1440.38 2212.87,1440.45 2213.9,1440.53 2214.94,1440.6 2215.98,1440.67 2217.01,1440.74 2218.05,1440.82 \n  2219.09,1440.89 2220.12,1440.96 2221.16,1441.03 2222.2,1441.1 2223.23,1441.18 2224.27,1441.25 2225.3,1441.32 2226.34,1441.39 2227.38,1441.46 2228.41,1441.54 \n  2229.45,1441.61 2230.49,1441.68 2231.52,1441.75 2232.56,1441.82 2233.6,1441.89 2234.63,1441.96 2235.67,1442.04 2236.71,1442.11 2237.74,1442.18 2238.78,1442.25 \n  2239.81,1442.32 2240.85,1442.39 2241.89,1442.46 2242.92,1442.53 2243.96,1442.6 2245,1442.67 2246.03,1442.74 2247.07,1442.82 2248.11,1442.89 2249.14,1442.96 \n  2250.18,1443.03 2251.22,1443.1 2252.25,1443.17 2253.29,1443.24 2254.33,1443.31 2255.36,1443.38 2256.4,1443.45 2257.43,1443.52 2258.47,1443.59 2259.51,1443.66 \n  2260.54,1443.73 2261.58,1443.79 2262.62,1443.86 2263.65,1443.93 2264.69,1444 2265.73,1444.07 2266.76,1444.14 2267.8,1444.21 2268.84,1444.28 2269.87,1444.35 \n  2270.91,1444.42 2271.94,1444.49 2272.98,1444.56 2274.02,1444.62 2275.05,1444.69 2276.09,1444.76 2277.13,1444.83 2278.16,1444.9 2279.2,1444.97 2280.24,1445.04 \n  2281.27,1445.1 2282.31,1445.17 2283.35,1445.24 2284.38,1445.31 2285.42,1445.38 2286.45,1445.44 2287.49,1445.51 2288.53,1445.58 2289.56,1445.65 2290.6,1445.72 \n  \n  \"/>\n</svg>\n",
      "text/html": [
       "<?xml version=\"1.0\" encoding=\"utf-8\"?>\n",
       "<svg xmlns=\"http://www.w3.org/2000/svg\" xmlns:xlink=\"http://www.w3.org/1999/xlink\" width=\"600\" height=\"400\" viewBox=\"0 0 2400 1600\">\n",
       "<defs>\n",
       "  <clipPath id=\"clip240\">\n",
       "    <rect x=\"0\" y=\"0\" width=\"2400\" height=\"1600\"/>\n",
       "  </clipPath>\n",
       "</defs>\n",
       "<path clip-path=\"url(#clip240)\" d=\"\n",
       "M0 1600 L2400 1600 L2400 0 L0 0  Z\n",
       "  \" fill=\"#ffffff\" fill-rule=\"evenodd\" fill-opacity=\"1\"/>\n",
       "<defs>\n",
       "  <clipPath id=\"clip241\">\n",
       "    <rect x=\"480\" y=\"0\" width=\"1681\" height=\"1600\"/>\n",
       "  </clipPath>\n",
       "</defs>\n",
       "<path clip-path=\"url(#clip240)\" d=\"\n",
       "M156.598 1486.45 L2352.76 1486.45 L2352.76 47.2441 L156.598 47.2441  Z\n",
       "  \" fill=\"#ffffff\" fill-rule=\"evenodd\" fill-opacity=\"1\"/>\n",
       "<defs>\n",
       "  <clipPath id=\"clip242\">\n",
       "    <rect x=\"156\" y=\"47\" width=\"2197\" height=\"1440\"/>\n",
       "  </clipPath>\n",
       "</defs>\n",
       "<polyline clip-path=\"url(#clip242)\" style=\"stroke:#000000; stroke-linecap:round; stroke-linejoin:round; stroke-width:2; stroke-opacity:0.1; fill:none\" points=\"\n",
       "  217.717,1486.45 217.717,47.2441 \n",
       "  \"/>\n",
       "<polyline clip-path=\"url(#clip242)\" style=\"stroke:#000000; stroke-linecap:round; stroke-linejoin:round; stroke-width:2; stroke-opacity:0.1; fill:none\" points=\"\n",
       "  735.938,1486.45 735.938,47.2441 \n",
       "  \"/>\n",
       "<polyline clip-path=\"url(#clip242)\" style=\"stroke:#000000; stroke-linecap:round; stroke-linejoin:round; stroke-width:2; stroke-opacity:0.1; fill:none\" points=\"\n",
       "  1254.16,1486.45 1254.16,47.2441 \n",
       "  \"/>\n",
       "<polyline clip-path=\"url(#clip242)\" style=\"stroke:#000000; stroke-linecap:round; stroke-linejoin:round; stroke-width:2; stroke-opacity:0.1; fill:none\" points=\"\n",
       "  1772.38,1486.45 1772.38,47.2441 \n",
       "  \"/>\n",
       "<polyline clip-path=\"url(#clip242)\" style=\"stroke:#000000; stroke-linecap:round; stroke-linejoin:round; stroke-width:2; stroke-opacity:0.1; fill:none\" points=\"\n",
       "  2290.6,1486.45 2290.6,47.2441 \n",
       "  \"/>\n",
       "<polyline clip-path=\"url(#clip240)\" style=\"stroke:#000000; stroke-linecap:round; stroke-linejoin:round; stroke-width:4; stroke-opacity:1; fill:none\" points=\"\n",
       "  156.598,1486.45 2352.76,1486.45 \n",
       "  \"/>\n",
       "<polyline clip-path=\"url(#clip240)\" style=\"stroke:#000000; stroke-linecap:round; stroke-linejoin:round; stroke-width:4; stroke-opacity:1; fill:none\" points=\"\n",
       "  217.717,1486.45 217.717,1467.55 \n",
       "  \"/>\n",
       "<polyline clip-path=\"url(#clip240)\" style=\"stroke:#000000; stroke-linecap:round; stroke-linejoin:round; stroke-width:4; stroke-opacity:1; fill:none\" points=\"\n",
       "  735.938,1486.45 735.938,1467.55 \n",
       "  \"/>\n",
       "<polyline clip-path=\"url(#clip240)\" style=\"stroke:#000000; stroke-linecap:round; stroke-linejoin:round; stroke-width:4; stroke-opacity:1; fill:none\" points=\"\n",
       "  1254.16,1486.45 1254.16,1467.55 \n",
       "  \"/>\n",
       "<polyline clip-path=\"url(#clip240)\" style=\"stroke:#000000; stroke-linecap:round; stroke-linejoin:round; stroke-width:4; stroke-opacity:1; fill:none\" points=\"\n",
       "  1772.38,1486.45 1772.38,1467.55 \n",
       "  \"/>\n",
       "<polyline clip-path=\"url(#clip240)\" style=\"stroke:#000000; stroke-linecap:round; stroke-linejoin:round; stroke-width:4; stroke-opacity:1; fill:none\" points=\"\n",
       "  2290.6,1486.45 2290.6,1467.55 \n",
       "  \"/>\n",
       "<path clip-path=\"url(#clip240)\" d=\"M217.717 1517.37 Q214.106 1517.37 212.277 1520.93 Q210.472 1524.47 210.472 1531.6 Q210.472 1538.71 212.277 1542.27 Q214.106 1545.82 217.717 1545.82 Q221.351 1545.82 223.157 1542.27 Q224.986 1538.71 224.986 1531.6 Q224.986 1524.47 223.157 1520.93 Q221.351 1517.37 217.717 1517.37 M217.717 1513.66 Q223.527 1513.66 226.583 1518.27 Q229.662 1522.85 229.662 1531.6 Q229.662 1540.33 226.583 1544.94 Q223.527 1549.52 217.717 1549.52 Q211.907 1549.52 208.828 1544.94 Q205.773 1540.33 205.773 1531.6 Q205.773 1522.85 208.828 1518.27 Q211.907 1513.66 217.717 1513.66 Z\" fill=\"#000000\" fill-rule=\"evenodd\" fill-opacity=\"1\" /><path clip-path=\"url(#clip240)\" d=\"M695.556 1514.29 L713.913 1514.29 L713.913 1518.22 L699.839 1518.22 L699.839 1526.7 Q700.857 1526.35 701.876 1526.19 Q702.894 1526 703.913 1526 Q709.7 1526 713.079 1529.17 Q716.459 1532.34 716.459 1537.76 Q716.459 1543.34 712.987 1546.44 Q709.515 1549.52 703.195 1549.52 Q701.019 1549.52 698.751 1549.15 Q696.505 1548.78 694.098 1548.04 L694.098 1543.34 Q696.181 1544.47 698.404 1545.03 Q700.626 1545.58 703.103 1545.58 Q707.107 1545.58 709.445 1543.48 Q711.783 1541.37 711.783 1537.76 Q711.783 1534.15 709.445 1532.04 Q707.107 1529.94 703.103 1529.94 Q701.228 1529.94 699.353 1530.35 Q697.501 1530.77 695.556 1531.65 L695.556 1514.29 Z\" fill=\"#000000\" fill-rule=\"evenodd\" fill-opacity=\"1\" /><path clip-path=\"url(#clip240)\" d=\"M735.672 1517.37 Q732.061 1517.37 730.232 1520.93 Q728.426 1524.47 728.426 1531.6 Q728.426 1538.71 730.232 1542.27 Q732.061 1545.82 735.672 1545.82 Q739.306 1545.82 741.112 1542.27 Q742.94 1538.71 742.94 1531.6 Q742.94 1524.47 741.112 1520.93 Q739.306 1517.37 735.672 1517.37 M735.672 1513.66 Q741.482 1513.66 744.538 1518.27 Q747.616 1522.85 747.616 1531.6 Q747.616 1540.33 744.538 1544.94 Q741.482 1549.52 735.672 1549.52 Q729.862 1549.52 726.783 1544.94 Q723.727 1540.33 723.727 1531.6 Q723.727 1522.85 726.783 1518.27 Q729.862 1513.66 735.672 1513.66 Z\" fill=\"#000000\" fill-rule=\"evenodd\" fill-opacity=\"1\" /><path clip-path=\"url(#clip240)\" d=\"M765.834 1517.37 Q762.223 1517.37 760.394 1520.93 Q758.588 1524.47 758.588 1531.6 Q758.588 1538.71 760.394 1542.27 Q762.223 1545.82 765.834 1545.82 Q769.468 1545.82 771.273 1542.27 Q773.102 1538.71 773.102 1531.6 Q773.102 1524.47 771.273 1520.93 Q769.468 1517.37 765.834 1517.37 M765.834 1513.66 Q771.644 1513.66 774.699 1518.27 Q777.778 1522.85 777.778 1531.6 Q777.778 1540.33 774.699 1544.94 Q771.644 1549.52 765.834 1549.52 Q760.024 1549.52 756.945 1544.94 Q753.889 1540.33 753.889 1531.6 Q753.889 1522.85 756.945 1518.27 Q760.024 1513.66 765.834 1513.66 Z\" fill=\"#000000\" fill-rule=\"evenodd\" fill-opacity=\"1\" /><path clip-path=\"url(#clip240)\" d=\"M1198.68 1544.91 L1206.32 1544.91 L1206.32 1518.55 L1198.01 1520.21 L1198.01 1515.95 L1206.28 1514.29 L1210.95 1514.29 L1210.95 1544.91 L1218.59 1544.91 L1218.59 1548.85 L1198.68 1548.85 L1198.68 1544.91 Z\" fill=\"#000000\" fill-rule=\"evenodd\" fill-opacity=\"1\" /><path clip-path=\"url(#clip240)\" d=\"M1238.04 1517.37 Q1234.43 1517.37 1232.6 1520.93 Q1230.79 1524.47 1230.79 1531.6 Q1230.79 1538.71 1232.6 1542.27 Q1234.43 1545.82 1238.04 1545.82 Q1241.67 1545.82 1243.48 1542.27 Q1245.3 1538.71 1245.3 1531.6 Q1245.3 1524.47 1243.48 1520.93 Q1241.67 1517.37 1238.04 1517.37 M1238.04 1513.66 Q1243.85 1513.66 1246.9 1518.27 Q1249.98 1522.85 1249.98 1531.6 Q1249.98 1540.33 1246.9 1544.94 Q1243.85 1549.52 1238.04 1549.52 Q1232.23 1549.52 1229.15 1544.94 Q1226.09 1540.33 1226.09 1531.6 Q1226.09 1522.85 1229.15 1518.27 Q1232.23 1513.66 1238.04 1513.66 Z\" fill=\"#000000\" fill-rule=\"evenodd\" fill-opacity=\"1\" /><path clip-path=\"url(#clip240)\" d=\"M1268.2 1517.37 Q1264.59 1517.37 1262.76 1520.93 Q1260.95 1524.47 1260.95 1531.6 Q1260.95 1538.71 1262.76 1542.27 Q1264.59 1545.82 1268.2 1545.82 Q1271.83 1545.82 1273.64 1542.27 Q1275.47 1538.71 1275.47 1531.6 Q1275.47 1524.47 1273.64 1520.93 Q1271.83 1517.37 1268.2 1517.37 M1268.2 1513.66 Q1274.01 1513.66 1277.06 1518.27 Q1280.14 1522.85 1280.14 1531.6 Q1280.14 1540.33 1277.06 1544.94 Q1274.01 1549.52 1268.2 1549.52 Q1262.39 1549.52 1259.31 1544.94 Q1256.25 1540.33 1256.25 1531.6 Q1256.25 1522.85 1259.31 1518.27 Q1262.39 1513.66 1268.2 1513.66 Z\" fill=\"#000000\" fill-rule=\"evenodd\" fill-opacity=\"1\" /><path clip-path=\"url(#clip240)\" d=\"M1298.36 1517.37 Q1294.75 1517.37 1292.92 1520.93 Q1291.11 1524.47 1291.11 1531.6 Q1291.11 1538.71 1292.92 1542.27 Q1294.75 1545.82 1298.36 1545.82 Q1301.99 1545.82 1303.8 1542.27 Q1305.63 1538.71 1305.63 1531.6 Q1305.63 1524.47 1303.8 1520.93 Q1301.99 1517.37 1298.36 1517.37 M1298.36 1513.66 Q1304.17 1513.66 1307.23 1518.27 Q1310.3 1522.85 1310.3 1531.6 Q1310.3 1540.33 1307.23 1544.94 Q1304.17 1549.52 1298.36 1549.52 Q1292.55 1549.52 1289.47 1544.94 Q1286.42 1540.33 1286.42 1531.6 Q1286.42 1522.85 1289.47 1518.27 Q1292.55 1513.66 1298.36 1513.66 Z\" fill=\"#000000\" fill-rule=\"evenodd\" fill-opacity=\"1\" /><path clip-path=\"url(#clip240)\" d=\"M1716.91 1544.91 L1724.54 1544.91 L1724.54 1518.55 L1716.23 1520.21 L1716.23 1515.95 L1724.5 1514.29 L1729.17 1514.29 L1729.17 1544.91 L1736.81 1544.91 L1736.81 1548.85 L1716.91 1548.85 L1716.91 1544.91 Z\" fill=\"#000000\" fill-rule=\"evenodd\" fill-opacity=\"1\" /><path clip-path=\"url(#clip240)\" d=\"M1746.3 1514.29 L1764.66 1514.29 L1764.66 1518.22 L1750.59 1518.22 L1750.59 1526.7 Q1751.6 1526.35 1752.62 1526.19 Q1753.64 1526 1754.66 1526 Q1760.45 1526 1763.83 1529.17 Q1767.21 1532.34 1767.21 1537.76 Q1767.21 1543.34 1763.73 1546.44 Q1760.26 1549.52 1753.94 1549.52 Q1751.77 1549.52 1749.5 1549.15 Q1747.25 1548.78 1744.85 1548.04 L1744.85 1543.34 Q1746.93 1544.47 1749.15 1545.03 Q1751.37 1545.58 1753.85 1545.58 Q1757.85 1545.58 1760.19 1543.48 Q1762.53 1541.37 1762.53 1537.76 Q1762.53 1534.15 1760.19 1532.04 Q1757.85 1529.94 1753.85 1529.94 Q1751.97 1529.94 1750.1 1530.35 Q1748.25 1530.77 1746.3 1531.65 L1746.3 1514.29 Z\" fill=\"#000000\" fill-rule=\"evenodd\" fill-opacity=\"1\" /><path clip-path=\"url(#clip240)\" d=\"M1786.42 1517.37 Q1782.81 1517.37 1780.98 1520.93 Q1779.17 1524.47 1779.17 1531.6 Q1779.17 1538.71 1780.98 1542.27 Q1782.81 1545.82 1786.42 1545.82 Q1790.05 1545.82 1791.86 1542.27 Q1793.69 1538.71 1793.69 1531.6 Q1793.69 1524.47 1791.86 1520.93 Q1790.05 1517.37 1786.42 1517.37 M1786.42 1513.66 Q1792.23 1513.66 1795.28 1518.27 Q1798.36 1522.85 1798.36 1531.6 Q1798.36 1540.33 1795.28 1544.94 Q1792.23 1549.52 1786.42 1549.52 Q1780.61 1549.52 1777.53 1544.94 Q1774.47 1540.33 1774.47 1531.6 Q1774.47 1522.85 1777.53 1518.27 Q1780.61 1513.66 1786.42 1513.66 Z\" fill=\"#000000\" fill-rule=\"evenodd\" fill-opacity=\"1\" /><path clip-path=\"url(#clip240)\" d=\"M1816.58 1517.37 Q1812.97 1517.37 1811.14 1520.93 Q1809.34 1524.47 1809.34 1531.6 Q1809.34 1538.71 1811.14 1542.27 Q1812.97 1545.82 1816.58 1545.82 Q1820.22 1545.82 1822.02 1542.27 Q1823.85 1538.71 1823.85 1531.6 Q1823.85 1524.47 1822.02 1520.93 Q1820.22 1517.37 1816.58 1517.37 M1816.58 1513.66 Q1822.39 1513.66 1825.45 1518.27 Q1828.53 1522.85 1828.53 1531.6 Q1828.53 1540.33 1825.45 1544.94 Q1822.39 1549.52 1816.58 1549.52 Q1810.77 1549.52 1807.69 1544.94 Q1804.64 1540.33 1804.64 1531.6 Q1804.64 1522.85 1807.69 1518.27 Q1810.77 1513.66 1816.58 1513.66 Z\" fill=\"#000000\" fill-rule=\"evenodd\" fill-opacity=\"1\" /><path clip-path=\"url(#clip240)\" d=\"M2239.21 1544.91 L2255.53 1544.91 L2255.53 1548.85 L2233.59 1548.85 L2233.59 1544.91 Q2236.25 1542.16 2240.83 1537.53 Q2245.44 1532.88 2246.62 1531.53 Q2248.86 1529.01 2249.74 1527.27 Q2250.65 1525.51 2250.65 1523.82 Q2250.65 1521.07 2248.7 1519.33 Q2246.78 1517.6 2243.68 1517.6 Q2241.48 1517.6 2239.03 1518.36 Q2236.6 1519.13 2233.82 1520.68 L2233.82 1515.95 Q2236.64 1514.82 2239.1 1514.24 Q2241.55 1513.66 2243.59 1513.66 Q2248.96 1513.66 2252.15 1516.35 Q2255.35 1519.03 2255.35 1523.52 Q2255.35 1525.65 2254.54 1527.57 Q2253.75 1529.47 2251.64 1532.07 Q2251.06 1532.74 2247.96 1535.95 Q2244.86 1539.15 2239.21 1544.91 Z\" fill=\"#000000\" fill-rule=\"evenodd\" fill-opacity=\"1\" /><path clip-path=\"url(#clip240)\" d=\"M2275.35 1517.37 Q2271.73 1517.37 2269.91 1520.93 Q2268.1 1524.47 2268.1 1531.6 Q2268.1 1538.71 2269.91 1542.27 Q2271.73 1545.82 2275.35 1545.82 Q2278.98 1545.82 2280.79 1542.27 Q2282.61 1538.71 2282.61 1531.6 Q2282.61 1524.47 2280.79 1520.93 Q2278.98 1517.37 2275.35 1517.37 M2275.35 1513.66 Q2281.16 1513.66 2284.21 1518.27 Q2287.29 1522.85 2287.29 1531.6 Q2287.29 1540.33 2284.21 1544.94 Q2281.16 1549.52 2275.35 1549.52 Q2269.54 1549.52 2266.46 1544.94 Q2263.4 1540.33 2263.4 1531.6 Q2263.4 1522.85 2266.46 1518.27 Q2269.54 1513.66 2275.35 1513.66 Z\" fill=\"#000000\" fill-rule=\"evenodd\" fill-opacity=\"1\" /><path clip-path=\"url(#clip240)\" d=\"M2305.51 1517.37 Q2301.9 1517.37 2300.07 1520.93 Q2298.26 1524.47 2298.26 1531.6 Q2298.26 1538.71 2300.07 1542.27 Q2301.9 1545.82 2305.51 1545.82 Q2309.14 1545.82 2310.95 1542.27 Q2312.78 1538.71 2312.78 1531.6 Q2312.78 1524.47 2310.95 1520.93 Q2309.14 1517.37 2305.51 1517.37 M2305.51 1513.66 Q2311.32 1513.66 2314.37 1518.27 Q2317.45 1522.85 2317.45 1531.6 Q2317.45 1540.33 2314.37 1544.94 Q2311.32 1549.52 2305.51 1549.52 Q2299.7 1549.52 2296.62 1544.94 Q2293.56 1540.33 2293.56 1531.6 Q2293.56 1522.85 2296.62 1518.27 Q2299.7 1513.66 2305.51 1513.66 Z\" fill=\"#000000\" fill-rule=\"evenodd\" fill-opacity=\"1\" /><path clip-path=\"url(#clip240)\" d=\"M2335.67 1517.37 Q2332.06 1517.37 2330.23 1520.93 Q2328.42 1524.47 2328.42 1531.6 Q2328.42 1538.71 2330.23 1542.27 Q2332.06 1545.82 2335.67 1545.82 Q2339.3 1545.82 2341.11 1542.27 Q2342.94 1538.71 2342.94 1531.6 Q2342.94 1524.47 2341.11 1520.93 Q2339.3 1517.37 2335.67 1517.37 M2335.67 1513.66 Q2341.48 1513.66 2344.54 1518.27 Q2347.61 1522.85 2347.61 1531.6 Q2347.61 1540.33 2344.54 1544.94 Q2341.48 1549.52 2335.67 1549.52 Q2329.86 1549.52 2326.78 1544.94 Q2323.73 1540.33 2323.73 1531.6 Q2323.73 1522.85 2326.78 1518.27 Q2329.86 1513.66 2335.67 1513.66 Z\" fill=\"#000000\" fill-rule=\"evenodd\" fill-opacity=\"1\" /><polyline clip-path=\"url(#clip242)\" style=\"stroke:#000000; stroke-linecap:round; stroke-linejoin:round; stroke-width:2; stroke-opacity:0.1; fill:none\" points=\"\n",
       "  156.598,1228.58 2352.76,1228.58 \n",
       "  \"/>\n",
       "<polyline clip-path=\"url(#clip242)\" style=\"stroke:#000000; stroke-linecap:round; stroke-linejoin:round; stroke-width:2; stroke-opacity:0.1; fill:none\" points=\"\n",
       "  156.598,891.689 2352.76,891.689 \n",
       "  \"/>\n",
       "<polyline clip-path=\"url(#clip242)\" style=\"stroke:#000000; stroke-linecap:round; stroke-linejoin:round; stroke-width:2; stroke-opacity:0.1; fill:none\" points=\"\n",
       "  156.598,554.797 2352.76,554.797 \n",
       "  \"/>\n",
       "<polyline clip-path=\"url(#clip242)\" style=\"stroke:#000000; stroke-linecap:round; stroke-linejoin:round; stroke-width:2; stroke-opacity:0.1; fill:none\" points=\"\n",
       "  156.598,217.904 2352.76,217.904 \n",
       "  \"/>\n",
       "<polyline clip-path=\"url(#clip240)\" style=\"stroke:#000000; stroke-linecap:round; stroke-linejoin:round; stroke-width:4; stroke-opacity:1; fill:none\" points=\"\n",
       "  156.598,1486.45 156.598,47.2441 \n",
       "  \"/>\n",
       "<polyline clip-path=\"url(#clip240)\" style=\"stroke:#000000; stroke-linecap:round; stroke-linejoin:round; stroke-width:4; stroke-opacity:1; fill:none\" points=\"\n",
       "  156.598,1228.58 175.496,1228.58 \n",
       "  \"/>\n",
       "<polyline clip-path=\"url(#clip240)\" style=\"stroke:#000000; stroke-linecap:round; stroke-linejoin:round; stroke-width:4; stroke-opacity:1; fill:none\" points=\"\n",
       "  156.598,891.689 175.496,891.689 \n",
       "  \"/>\n",
       "<polyline clip-path=\"url(#clip240)\" style=\"stroke:#000000; stroke-linecap:round; stroke-linejoin:round; stroke-width:4; stroke-opacity:1; fill:none\" points=\"\n",
       "  156.598,554.797 175.496,554.797 \n",
       "  \"/>\n",
       "<polyline clip-path=\"url(#clip240)\" style=\"stroke:#000000; stroke-linecap:round; stroke-linejoin:round; stroke-width:4; stroke-opacity:1; fill:none\" points=\"\n",
       "  156.598,217.904 175.496,217.904 \n",
       "  \"/>\n",
       "<path clip-path=\"url(#clip240)\" d=\"M64.0708 1214.38 Q60.4597 1214.38 58.631 1217.95 Q56.8254 1221.49 56.8254 1228.62 Q56.8254 1235.72 58.631 1239.29 Q60.4597 1242.83 64.0708 1242.83 Q67.705 1242.83 69.5105 1239.29 Q71.3392 1235.72 71.3392 1228.62 Q71.3392 1221.49 69.5105 1217.95 Q67.705 1214.38 64.0708 1214.38 M64.0708 1210.68 Q69.8809 1210.68 72.9365 1215.28 Q76.0151 1219.87 76.0151 1228.62 Q76.0151 1237.34 72.9365 1241.95 Q69.8809 1246.53 64.0708 1246.53 Q58.2606 1246.53 55.1819 1241.95 Q52.1264 1237.34 52.1264 1228.62 Q52.1264 1219.87 55.1819 1215.28 Q58.2606 1210.68 64.0708 1210.68 Z\" fill=\"#000000\" fill-rule=\"evenodd\" fill-opacity=\"1\" /><path clip-path=\"url(#clip240)\" d=\"M84.2327 1239.98 L89.1169 1239.98 L89.1169 1245.86 L84.2327 1245.86 L84.2327 1239.98 Z\" fill=\"#000000\" fill-rule=\"evenodd\" fill-opacity=\"1\" /><path clip-path=\"url(#clip240)\" d=\"M113.469 1227.23 Q116.825 1227.95 118.7 1230.21 Q120.598 1232.48 120.598 1235.82 Q120.598 1240.93 117.08 1243.73 Q113.561 1246.53 107.08 1246.53 Q104.904 1246.53 102.589 1246.09 Q100.297 1245.68 97.8437 1244.82 L97.8437 1240.31 Q99.7882 1241.44 102.103 1242.02 Q104.418 1242.6 106.941 1242.6 Q111.339 1242.6 113.631 1240.86 Q115.945 1239.13 115.945 1235.82 Q115.945 1232.76 113.793 1231.05 Q111.663 1229.31 107.844 1229.31 L103.816 1229.31 L103.816 1225.47 L108.029 1225.47 Q111.478 1225.47 113.307 1224.1 Q115.135 1222.71 115.135 1220.12 Q115.135 1217.46 113.237 1216.05 Q111.362 1214.61 107.844 1214.61 Q105.922 1214.61 103.723 1215.03 Q101.524 1215.45 98.8854 1216.33 L98.8854 1212.16 Q101.547 1211.42 103.862 1211.05 Q106.2 1210.68 108.26 1210.68 Q113.584 1210.68 116.686 1213.11 Q119.788 1215.52 119.788 1219.64 Q119.788 1222.51 118.145 1224.5 Q116.501 1226.46 113.469 1227.23 Z\" fill=\"#000000\" fill-rule=\"evenodd\" fill-opacity=\"1\" /><path clip-path=\"url(#clip240)\" d=\"M62.9365 877.488 Q59.3254 877.488 57.4967 881.053 Q55.6912 884.595 55.6912 891.724 Q55.6912 898.831 57.4967 902.395 Q59.3254 905.937 62.9365 905.937 Q66.5707 905.937 68.3763 902.395 Q70.205 898.831 70.205 891.724 Q70.205 884.595 68.3763 881.053 Q66.5707 877.488 62.9365 877.488 M62.9365 873.784 Q68.7467 873.784 71.8022 878.391 Q74.8809 882.974 74.8809 891.724 Q74.8809 900.451 71.8022 905.057 Q68.7467 909.641 62.9365 909.641 Q57.1264 909.641 54.0477 905.057 Q50.9921 900.451 50.9921 891.724 Q50.9921 882.974 54.0477 878.391 Q57.1264 873.784 62.9365 873.784 Z\" fill=\"#000000\" fill-rule=\"evenodd\" fill-opacity=\"1\" /><path clip-path=\"url(#clip240)\" d=\"M83.0984 903.09 L87.9827 903.09 L87.9827 908.969 L83.0984 908.969 L83.0984 903.09 Z\" fill=\"#000000\" fill-rule=\"evenodd\" fill-opacity=\"1\" /><path clip-path=\"url(#clip240)\" d=\"M111.015 878.483 L99.2095 896.932 L111.015 896.932 L111.015 878.483 M109.788 874.409 L115.668 874.409 L115.668 896.932 L120.598 896.932 L120.598 900.821 L115.668 900.821 L115.668 908.969 L111.015 908.969 L111.015 900.821 L95.4132 900.821 L95.4132 896.307 L109.788 874.409 Z\" fill=\"#000000\" fill-rule=\"evenodd\" fill-opacity=\"1\" /><path clip-path=\"url(#clip240)\" d=\"M64.418 540.595 Q60.8069 540.595 58.9782 544.16 Q57.1726 547.702 57.1726 554.831 Q57.1726 561.938 58.9782 565.502 Q60.8069 569.044 64.418 569.044 Q68.0522 569.044 69.8578 565.502 Q71.6865 561.938 71.6865 554.831 Q71.6865 547.702 69.8578 544.16 Q68.0522 540.595 64.418 540.595 M64.418 536.892 Q70.2281 536.892 73.2837 541.498 Q76.3624 546.081 76.3624 554.831 Q76.3624 563.558 73.2837 568.164 Q70.2281 572.748 64.418 572.748 Q58.6078 572.748 55.5291 568.164 Q52.4736 563.558 52.4736 554.831 Q52.4736 546.081 55.5291 541.498 Q58.6078 536.892 64.418 536.892 Z\" fill=\"#000000\" fill-rule=\"evenodd\" fill-opacity=\"1\" /><path clip-path=\"url(#clip240)\" d=\"M84.5799 566.197 L89.4641 566.197 L89.4641 572.077 L84.5799 572.077 L84.5799 566.197 Z\" fill=\"#000000\" fill-rule=\"evenodd\" fill-opacity=\"1\" /><path clip-path=\"url(#clip240)\" d=\"M99.6956 537.517 L118.052 537.517 L118.052 541.452 L103.978 541.452 L103.978 549.924 Q104.996 549.577 106.015 549.415 Q107.033 549.229 108.052 549.229 Q113.839 549.229 117.219 552.401 Q120.598 555.572 120.598 560.989 Q120.598 566.567 117.126 569.669 Q113.654 572.748 107.334 572.748 Q105.159 572.748 102.89 572.377 Q100.645 572.007 98.2372 571.266 L98.2372 566.567 Q100.321 567.702 102.543 568.257 Q104.765 568.813 107.242 568.813 Q111.246 568.813 113.584 566.706 Q115.922 564.6 115.922 560.989 Q115.922 557.378 113.584 555.271 Q111.246 553.165 107.242 553.165 Q105.367 553.165 103.492 553.581 Q101.64 553.998 99.6956 554.878 L99.6956 537.517 Z\" fill=\"#000000\" fill-rule=\"evenodd\" fill-opacity=\"1\" /><path clip-path=\"url(#clip240)\" d=\"M63.2606 203.702 Q59.6495 203.702 57.8208 207.267 Q56.0152 210.809 56.0152 217.938 Q56.0152 225.045 57.8208 228.61 Q59.6495 232.151 63.2606 232.151 Q66.8948 232.151 68.7004 228.61 Q70.5291 225.045 70.5291 217.938 Q70.5291 210.809 68.7004 207.267 Q66.8948 203.702 63.2606 203.702 M63.2606 199.999 Q69.0707 199.999 72.1263 204.605 Q75.205 209.188 75.205 217.938 Q75.205 226.665 72.1263 231.272 Q69.0707 235.855 63.2606 235.855 Q57.4504 235.855 54.3717 231.272 Q51.3162 226.665 51.3162 217.938 Q51.3162 209.188 54.3717 204.605 Q57.4504 199.999 63.2606 199.999 Z\" fill=\"#000000\" fill-rule=\"evenodd\" fill-opacity=\"1\" /><path clip-path=\"url(#clip240)\" d=\"M83.4225 229.304 L88.3067 229.304 L88.3067 235.184 L83.4225 235.184 L83.4225 229.304 Z\" fill=\"#000000\" fill-rule=\"evenodd\" fill-opacity=\"1\" /><path clip-path=\"url(#clip240)\" d=\"M109.071 216.04 Q105.922 216.04 104.071 218.193 Q102.242 220.346 102.242 224.096 Q102.242 227.823 104.071 229.998 Q105.922 232.151 109.071 232.151 Q112.219 232.151 114.047 229.998 Q115.899 227.823 115.899 224.096 Q115.899 220.346 114.047 218.193 Q112.219 216.04 109.071 216.04 M118.353 201.387 L118.353 205.647 Q116.594 204.813 114.788 204.374 Q113.006 203.934 111.246 203.934 Q106.617 203.934 104.163 207.059 Q101.733 210.184 101.385 216.503 Q102.751 214.489 104.811 213.424 Q106.871 212.337 109.348 212.337 Q114.557 212.337 117.566 215.508 Q120.598 218.656 120.598 224.096 Q120.598 229.42 117.45 232.637 Q114.302 235.855 109.071 235.855 Q103.075 235.855 99.9039 231.272 Q96.7326 226.665 96.7326 217.938 Q96.7326 209.744 100.621 204.883 Q104.51 199.999 111.061 199.999 Q112.82 199.999 114.603 200.346 Q116.408 200.693 118.353 201.387 Z\" fill=\"#000000\" fill-rule=\"evenodd\" fill-opacity=\"1\" /><polyline clip-path=\"url(#clip242)\" style=\"stroke:#009af9; stroke-linecap:round; stroke-linejoin:round; stroke-width:4; stroke-opacity:1; fill:none\" points=\"\n",
       "  218.754,87.9763 219.79,92.9601 220.827,97.9198 221.863,102.856 222.899,107.767 223.936,112.656 224.972,117.52 226.009,122.361 227.045,127.179 228.082,131.974 \n",
       "  229.118,136.746 230.154,141.494 231.191,146.22 232.227,150.923 233.264,155.604 234.3,160.262 235.337,164.898 236.373,169.511 237.41,174.103 238.446,178.673 \n",
       "  239.482,183.22 240.519,187.746 241.555,192.251 242.592,196.734 243.628,201.195 244.665,205.636 245.701,210.055 246.738,214.453 247.774,218.83 248.81,223.187 \n",
       "  249.847,227.523 250.883,231.838 251.92,236.133 252.956,240.407 253.993,244.661 255.029,248.895 256.066,253.109 257.102,257.304 258.138,261.478 259.175,265.633 \n",
       "  260.211,269.768 261.248,273.884 262.284,277.98 263.321,282.057 264.357,286.115 265.394,290.154 266.43,294.174 267.466,298.175 268.503,302.157 269.539,306.121 \n",
       "  270.576,310.066 271.612,313.993 272.649,317.902 273.685,321.792 274.721,325.664 275.758,329.518 276.794,333.354 277.831,337.173 278.867,340.973 279.904,344.756 \n",
       "  280.94,348.522 281.977,352.27 283.013,356 284.049,359.714 285.086,363.41 286.122,367.089 287.159,370.751 288.195,374.396 289.232,378.025 290.268,381.637 \n",
       "  291.305,385.232 292.341,388.811 293.377,392.373 294.414,395.919 295.45,399.448 296.487,402.962 297.523,406.459 298.56,409.941 299.596,413.406 300.633,416.856 \n",
       "  301.669,420.29 302.705,423.709 303.742,427.111 304.778,430.499 305.815,433.871 306.851,437.227 307.888,440.569 308.924,443.895 309.961,447.206 310.997,450.503 \n",
       "  312.033,453.784 313.07,457.051 314.106,460.303 315.143,463.54 316.179,466.762 317.216,469.971 318.252,473.164 319.288,476.344 320.325,479.509 321.361,482.66 \n",
       "  322.398,485.797 323.434,488.919 324.471,492.028 325.507,495.123 326.544,498.204 327.58,501.272 328.616,504.326 329.653,507.366 330.689,510.392 331.726,513.406 \n",
       "  332.762,516.406 333.799,519.392 334.835,522.365 335.872,525.326 336.908,528.273 337.944,531.207 338.981,534.128 340.017,537.037 341.054,539.932 342.09,542.815 \n",
       "  343.127,545.685 344.163,548.542 345.2,551.387 346.236,554.22 347.272,557.04 348.309,559.848 349.345,562.644 350.382,565.427 351.418,568.198 352.455,570.957 \n",
       "  353.491,573.704 354.527,576.44 355.564,579.163 356.6,581.874 357.637,584.574 358.673,587.262 359.71,589.939 360.746,592.604 361.783,595.257 362.819,597.899 \n",
       "  363.855,600.529 364.892,603.149 365.928,605.757 366.965,608.353 368.001,610.939 369.038,613.514 370.074,616.077 371.111,618.63 372.147,621.171 373.183,623.702 \n",
       "  374.22,626.222 375.256,628.731 376.293,631.23 377.329,633.718 378.366,636.195 379.402,638.662 380.439,641.119 381.475,643.565 382.511,646 383.548,648.426 \n",
       "  384.584,650.841 385.621,653.246 386.657,655.64 387.694,658.025 388.73,660.4 389.767,662.765 390.803,665.119 391.839,667.464 392.876,669.799 393.912,672.125 \n",
       "  394.949,674.44 395.985,676.746 397.022,679.043 398.058,681.33 399.094,683.607 400.131,685.875 401.167,688.133 402.204,690.382 403.24,692.622 404.277,694.852 \n",
       "  405.313,697.073 406.35,699.285 407.386,701.488 408.422,703.682 409.459,705.867 410.495,708.042 411.532,710.209 412.568,712.367 413.605,714.516 414.641,716.657 \n",
       "  415.678,718.788 416.714,720.911 417.75,723.025 418.787,725.131 419.823,727.227 420.86,729.316 421.896,731.396 422.933,733.467 423.969,735.53 425.006,737.585 \n",
       "  426.042,739.631 427.078,741.669 428.115,743.699 429.151,745.721 430.188,747.734 431.224,749.74 432.261,751.737 433.297,753.726 434.334,755.708 435.37,757.681 \n",
       "  436.406,759.646 437.443,761.604 438.479,763.554 439.516,765.496 440.552,767.43 441.589,769.357 442.625,771.275 443.661,773.187 444.698,775.09 445.734,776.986 \n",
       "  446.771,778.875 447.807,780.756 448.844,782.63 449.88,784.496 450.917,786.355 451.953,788.206 452.989,790.05 454.026,791.887 455.062,793.717 456.099,795.54 \n",
       "  457.135,797.355 458.172,799.164 459.208,800.965 460.245,802.759 461.281,804.546 462.317,806.327 463.354,808.1 464.39,809.866 465.427,811.626 466.463,813.379 \n",
       "  467.5,815.125 468.536,816.864 469.573,818.596 470.609,820.322 471.645,822.041 472.682,823.753 473.718,825.459 474.755,827.158 475.791,828.851 476.828,830.537 \n",
       "  477.864,832.217 478.9,833.891 479.937,835.557 480.973,837.218 482.01,838.872 483.046,840.52 484.083,842.162 485.119,843.797 486.156,845.426 487.192,847.049 \n",
       "  488.228,848.666 489.265,850.277 490.301,851.881 491.338,853.48 492.374,855.072 493.411,856.659 494.447,858.239 495.484,859.814 496.52,861.382 497.556,862.945 \n",
       "  498.593,864.502 499.629,866.053 500.666,867.598 501.702,869.138 502.739,870.671 503.775,872.199 504.812,873.722 505.848,875.238 506.884,876.749 507.921,878.255 \n",
       "  508.957,879.754 509.994,881.249 511.03,882.737 512.067,884.22 513.103,885.698 514.14,887.17 515.176,888.637 516.212,890.099 517.249,891.555 518.285,893.005 \n",
       "  519.322,894.451 520.358,895.891 521.395,897.326 522.431,898.755 523.467,900.18 524.504,901.599 525.54,903.013 526.577,904.421 527.613,905.825 528.65,907.224 \n",
       "  529.686,908.617 530.723,910.006 531.759,911.389 532.795,912.768 533.832,914.141 534.868,915.51 535.905,916.873 536.941,918.232 537.978,919.586 539.014,920.935 \n",
       "  540.051,922.279 541.087,923.618 542.123,924.952 543.16,926.282 544.196,927.607 545.233,928.927 546.269,930.243 547.306,931.554 548.342,932.86 549.379,934.161 \n",
       "  550.415,935.458 551.451,936.751 552.488,938.038 553.524,939.321 554.561,940.6 555.597,941.874 556.634,943.144 557.67,944.409 558.707,945.67 559.743,946.926 \n",
       "  560.779,948.178 561.816,949.426 562.852,950.669 563.889,951.908 564.925,953.142 565.962,954.372 566.998,955.598 568.034,956.82 569.071,958.037 570.107,959.25 \n",
       "  571.144,960.459 572.18,961.664 573.217,962.865 574.253,964.061 575.29,965.253 576.326,966.442 577.362,967.626 578.399,968.806 579.435,969.982 580.472,971.154 \n",
       "  581.508,972.322 582.545,973.486 583.581,974.646 584.618,975.802 585.654,976.954 586.69,978.102 587.727,979.246 588.763,980.386 589.8,981.523 590.836,982.655 \n",
       "  591.873,983.784 592.909,984.909 593.946,986.03 594.982,987.147 596.018,988.261 597.055,989.371 598.091,990.477 599.128,991.579 600.164,992.678 601.201,993.773 \n",
       "  602.237,994.864 603.273,995.952 604.31,997.036 605.346,998.116 606.383,999.193 607.419,1000.27 608.456,1001.34 609.492,1002.4 610.529,1003.46 611.565,1004.52 \n",
       "  612.601,1005.58 613.638,1006.63 614.674,1007.68 615.711,1008.72 616.747,1009.77 617.784,1010.8 618.82,1011.84 619.857,1012.87 620.893,1013.9 621.929,1014.92 \n",
       "  622.966,1015.94 624.002,1016.96 625.039,1017.98 626.075,1018.99 627.112,1020 628.148,1021 629.185,1022 630.221,1023 631.257,1023.99 632.294,1024.99 \n",
       "  633.33,1025.97 634.367,1026.96 635.403,1027.94 636.44,1028.92 637.476,1029.9 638.513,1030.87 639.549,1031.84 640.585,1032.81 641.622,1033.77 642.658,1034.73 \n",
       "  643.695,1035.69 644.731,1036.64 645.768,1037.59 646.804,1038.54 647.84,1039.48 648.877,1040.43 649.913,1041.36 650.95,1042.3 651.986,1043.23 653.023,1044.16 \n",
       "  654.059,1045.09 655.096,1046.02 656.132,1046.94 657.168,1047.85 658.205,1048.77 659.241,1049.68 660.278,1050.59 661.314,1051.5 662.351,1052.4 663.387,1053.3 \n",
       "  664.424,1054.2 665.46,1055.1 666.496,1055.99 667.533,1056.88 668.569,1057.77 669.606,1058.65 670.642,1059.53 671.679,1060.41 672.715,1061.29 673.752,1062.16 \n",
       "  674.788,1063.03 675.824,1063.9 676.861,1064.77 677.897,1065.63 678.934,1066.49 679.97,1067.35 681.007,1068.2 682.043,1069.05 683.079,1069.9 684.116,1070.75 \n",
       "  685.152,1071.6 686.189,1072.44 687.225,1073.28 688.262,1074.11 689.298,1074.95 690.335,1075.78 691.371,1076.61 692.407,1077.43 693.444,1078.26 694.48,1079.08 \n",
       "  695.517,1079.9 696.553,1080.72 697.59,1081.53 698.626,1082.34 699.663,1083.15 700.699,1083.96 701.735,1084.76 702.772,1085.56 703.808,1086.36 704.845,1087.16 \n",
       "  705.881,1087.96 706.918,1088.75 707.954,1089.54 708.991,1090.33 710.027,1091.11 711.063,1091.89 712.1,1092.67 713.136,1093.45 714.173,1094.23 715.209,1095 \n",
       "  716.246,1095.77 717.282,1096.54 718.319,1097.31 719.355,1098.07 720.391,1098.84 721.428,1099.6 722.464,1100.36 723.501,1101.11 724.537,1101.86 725.574,1102.62 \n",
       "  726.61,1103.36 727.646,1104.11 728.683,1104.86 729.719,1105.6 730.756,1106.34 731.792,1107.08 732.829,1107.81 733.865,1108.55 734.902,1109.28 735.938,1110.01 \n",
       "  736.974,1110.74 738.011,1111.46 739.047,1112.19 740.084,1112.91 741.12,1113.63 742.157,1114.34 743.193,1115.06 744.23,1115.77 745.266,1116.48 746.302,1117.19 \n",
       "  747.339,1117.9 748.375,1118.6 749.412,1119.31 750.448,1120.01 751.485,1120.71 752.521,1121.4 753.558,1122.1 754.594,1122.79 755.63,1123.48 756.667,1124.17 \n",
       "  757.703,1124.86 758.74,1125.54 759.776,1126.23 760.813,1126.91 761.849,1127.59 762.886,1128.27 763.922,1128.94 764.958,1129.62 765.995,1130.29 767.031,1130.96 \n",
       "  768.068,1131.63 769.104,1132.29 770.141,1132.96 771.177,1133.62 772.213,1134.28 773.25,1134.94 774.286,1135.59 775.323,1136.25 776.359,1136.9 777.396,1137.56 \n",
       "  778.432,1138.2 779.469,1138.85 780.505,1139.5 781.541,1140.14 782.578,1140.79 783.614,1141.43 784.651,1142.07 785.687,1142.7 786.724,1143.34 787.76,1143.97 \n",
       "  788.797,1144.61 789.833,1145.24 790.869,1145.86 791.906,1146.49 792.942,1147.12 793.979,1147.74 795.015,1148.36 796.052,1148.98 797.088,1149.6 798.125,1150.22 \n",
       "  799.161,1150.83 800.197,1151.45 801.234,1152.06 802.27,1152.67 803.307,1153.28 804.343,1153.88 805.38,1154.49 806.416,1155.09 807.452,1155.7 808.489,1156.3 \n",
       "  809.525,1156.89 810.562,1157.49 811.598,1158.09 812.635,1158.68 813.671,1159.27 814.708,1159.86 815.744,1160.45 816.78,1161.04 817.817,1161.63 818.853,1162.21 \n",
       "  819.89,1162.8 820.926,1163.38 821.963,1163.96 822.999,1164.54 824.036,1165.11 825.072,1165.69 826.108,1166.26 827.145,1166.84 828.181,1167.41 829.218,1167.98 \n",
       "  830.254,1168.54 831.291,1169.11 832.327,1169.68 833.364,1170.24 834.4,1170.8 835.436,1171.36 836.473,1171.92 837.509,1172.48 838.546,1173.04 839.582,1173.59 \n",
       "  840.619,1174.14 841.655,1174.7 842.692,1175.25 843.728,1175.8 844.764,1176.34 845.801,1176.89 846.837,1177.43 847.874,1177.98 848.91,1178.52 849.947,1179.06 \n",
       "  850.983,1179.6 852.019,1180.14 853.056,1180.67 854.092,1181.21 855.129,1181.74 856.165,1182.28 857.202,1182.81 858.238,1183.34 859.275,1183.87 860.311,1184.39 \n",
       "  861.347,1184.92 862.384,1185.44 863.42,1185.97 864.457,1186.49 865.493,1187.01 866.53,1187.53 867.566,1188.05 868.603,1188.56 869.639,1189.08 870.675,1189.59 \n",
       "  871.712,1190.1 872.748,1190.62 873.785,1191.13 874.821,1191.63 875.858,1192.14 876.894,1192.65 877.931,1193.15 878.967,1193.66 880.003,1194.16 881.04,1194.66 \n",
       "  882.076,1195.16 883.113,1195.66 884.149,1196.16 885.186,1196.66 886.222,1197.15 887.259,1197.64 888.295,1198.14 889.331,1198.63 890.368,1199.12 891.404,1199.61 \n",
       "  892.441,1200.1 893.477,1200.58 894.514,1201.07 895.55,1201.55 896.586,1202.04 897.623,1202.52 898.659,1203 899.696,1203.48 900.732,1203.96 901.769,1204.43 \n",
       "  902.805,1204.91 903.842,1205.39 904.878,1205.86 905.914,1206.33 906.951,1206.8 907.987,1207.27 909.024,1207.74 910.06,1208.21 911.097,1208.68 912.133,1209.15 \n",
       "  913.17,1209.61 914.206,1210.07 915.242,1210.54 916.279,1211 917.315,1211.46 918.352,1211.92 919.388,1212.38 920.425,1212.83 921.461,1213.29 922.498,1213.74 \n",
       "  923.534,1214.2 924.57,1214.65 925.607,1215.1 926.643,1215.55 927.68,1216 928.716,1216.45 929.753,1216.9 930.789,1217.35 931.825,1217.79 932.862,1218.24 \n",
       "  933.898,1218.68 934.935,1219.12 935.971,1219.56 937.008,1220 938.044,1220.44 939.081,1220.88 940.117,1221.32 941.153,1221.75 942.19,1222.19 943.226,1222.62 \n",
       "  944.263,1223.06 945.299,1223.49 946.336,1223.92 947.372,1224.35 948.409,1224.78 949.445,1225.21 950.481,1225.63 951.518,1226.06 952.554,1226.48 953.591,1226.91 \n",
       "  954.627,1227.33 955.664,1227.75 956.7,1228.17 957.737,1228.59 958.773,1229.01 959.809,1229.43 960.846,1229.85 961.882,1230.27 962.919,1230.68 963.955,1231.1 \n",
       "  964.992,1231.51 966.028,1231.92 967.065,1232.33 968.101,1232.75 969.137,1233.16 970.174,1233.56 971.21,1233.97 972.247,1234.38 973.283,1234.79 974.32,1235.19 \n",
       "  975.356,1235.6 976.392,1236 977.429,1236.4 978.465,1236.8 979.502,1237.2 980.538,1237.6 981.575,1238 982.611,1238.4 983.648,1238.8 984.684,1239.19 \n",
       "  985.72,1239.59 986.757,1239.98 987.793,1240.38 988.83,1240.77 989.866,1241.16 990.903,1241.55 991.939,1241.94 992.976,1242.33 994.012,1242.72 995.048,1243.11 \n",
       "  996.085,1243.5 997.121,1243.88 998.158,1244.27 999.194,1244.65 1000.23,1245.03 1001.27,1245.42 1002.3,1245.8 1003.34,1246.18 1004.38,1246.56 1005.41,1246.94 \n",
       "  1006.45,1247.32 1007.49,1247.69 1008.52,1248.07 1009.56,1248.45 1010.6,1248.82 1011.63,1249.2 1012.67,1249.57 1013.7,1249.94 1014.74,1250.31 1015.78,1250.68 \n",
       "  1016.81,1251.05 1017.85,1251.42 1018.89,1251.79 1019.92,1252.16 1020.96,1252.53 1022,1252.89 1023.03,1253.26 1024.07,1253.62 1025.11,1253.99 1026.14,1254.35 \n",
       "  1027.18,1254.71 1028.21,1255.07 1029.25,1255.44 1030.29,1255.8 1031.32,1256.15 1032.36,1256.51 1033.4,1256.87 1034.43,1257.23 1035.47,1257.58 1036.51,1257.94 \n",
       "  1037.54,1258.29 1038.58,1258.65 1039.62,1259 1040.65,1259.35 1041.69,1259.71 1042.72,1260.06 1043.76,1260.41 1044.8,1260.76 1045.83,1261.1 1046.87,1261.45 \n",
       "  1047.91,1261.8 1048.94,1262.15 1049.98,1262.49 1051.02,1262.84 1052.05,1263.18 1053.09,1263.53 1054.13,1263.87 1055.16,1264.21 1056.2,1264.55 1057.23,1264.89 \n",
       "  1058.27,1265.23 1059.31,1265.57 1060.34,1265.91 1061.38,1266.25 1062.42,1266.59 1063.45,1266.92 1064.49,1267.26 1065.53,1267.59 1066.56,1267.93 1067.6,1268.26 \n",
       "  1068.64,1268.6 1069.67,1268.93 1070.71,1269.26 1071.75,1269.59 1072.78,1269.92 1073.82,1270.25 1074.85,1270.58 1075.89,1270.91 1076.93,1271.24 1077.96,1271.56 \n",
       "  1079,1271.89 1080.04,1272.22 1081.07,1272.54 1082.11,1272.87 1083.15,1273.19 1084.18,1273.51 1085.22,1273.84 1086.26,1274.16 1087.29,1274.48 1088.33,1274.8 \n",
       "  1089.36,1275.12 1090.4,1275.44 1091.44,1275.76 1092.47,1276.07 1093.51,1276.39 1094.55,1276.71 1095.58,1277.02 1096.62,1277.34 1097.66,1277.65 1098.69,1277.97 \n",
       "  1099.73,1278.28 1100.77,1278.6 1101.8,1278.91 1102.84,1279.22 1103.87,1279.53 1104.91,1279.84 1105.95,1280.15 1106.98,1280.46 1108.02,1280.77 1109.06,1281.08 \n",
       "  1110.09,1281.38 1111.13,1281.69 1112.17,1282 1113.2,1282.3 1114.24,1282.61 1115.28,1282.91 1116.31,1283.21 1117.35,1283.52 1118.38,1283.82 1119.42,1284.12 \n",
       "  1120.46,1284.42 1121.49,1284.72 1122.53,1285.02 1123.57,1285.32 1124.6,1285.62 1125.64,1285.92 1126.68,1286.22 1127.71,1286.52 1128.75,1286.81 1129.79,1287.11 \n",
       "  1130.82,1287.4 1131.86,1287.7 1132.9,1287.99 1133.93,1288.29 1134.97,1288.58 1136,1288.87 1137.04,1289.17 1138.08,1289.46 1139.11,1289.75 1140.15,1290.04 \n",
       "  1141.19,1290.33 1142.22,1290.62 1143.26,1290.91 1144.3,1291.2 1145.33,1291.48 1146.37,1291.77 1147.41,1292.06 1148.44,1292.34 1149.48,1292.63 1150.51,1292.91 \n",
       "  1151.55,1293.2 1152.59,1293.48 1153.62,1293.76 1154.66,1294.05 1155.7,1294.33 1156.73,1294.61 1157.77,1294.89 1158.81,1295.17 1159.84,1295.45 1160.88,1295.73 \n",
       "  1161.92,1296.01 1162.95,1296.29 1163.99,1296.57 1165.02,1296.85 1166.06,1297.12 1167.1,1297.4 1168.13,1297.67 1169.17,1297.95 1170.21,1298.23 1171.24,1298.5 \n",
       "  1172.28,1298.77 1173.32,1299.05 1174.35,1299.32 1175.39,1299.59 1176.43,1299.86 1177.46,1300.13 1178.5,1300.41 1179.54,1300.68 1180.57,1300.95 1181.61,1301.21 \n",
       "  1182.64,1301.48 1183.68,1301.75 1184.72,1302.02 1185.75,1302.29 1186.79,1302.55 1187.83,1302.82 1188.86,1303.09 1189.9,1303.35 1190.94,1303.62 1191.97,1303.88 \n",
       "  1193.01,1304.14 1194.05,1304.41 1195.08,1304.67 1196.12,1304.93 1197.15,1305.2 1198.19,1305.46 1199.23,1305.72 1200.26,1305.98 1201.3,1306.24 1202.34,1306.5 \n",
       "  1203.37,1306.76 1204.41,1307.02 1205.45,1307.27 1206.48,1307.53 1207.52,1307.79 1208.56,1308.05 1209.59,1308.3 1210.63,1308.56 1211.66,1308.81 1212.7,1309.07 \n",
       "  1213.74,1309.32 1214.77,1309.58 1215.81,1309.83 1216.85,1310.08 1217.88,1310.34 1218.92,1310.59 1219.96,1310.84 1220.99,1311.09 1222.03,1311.34 1223.07,1311.59 \n",
       "  1224.1,1311.84 1225.14,1312.09 1226.17,1312.34 1227.21,1312.59 1228.25,1312.84 1229.28,1313.08 1230.32,1313.33 1231.36,1313.58 1232.39,1313.83 1233.43,1314.07 \n",
       "  1234.47,1314.32 1235.5,1314.56 1236.54,1314.81 1237.58,1315.05 1238.61,1315.29 1239.65,1315.54 1240.69,1315.78 1241.72,1316.02 1242.76,1316.27 1243.79,1316.51 \n",
       "  1244.83,1316.75 1245.87,1316.99 1246.9,1317.23 1247.94,1317.47 1248.98,1317.71 1250.01,1317.95 1251.05,1318.19 1252.09,1318.42 1253.12,1318.66 1254.16,1318.9 \n",
       "  1255.2,1319.14 1256.23,1319.37 1257.27,1319.61 1258.3,1319.85 1259.34,1320.08 1260.38,1320.32 1261.41,1320.55 1262.45,1320.78 1263.49,1321.02 1264.52,1321.25 \n",
       "  1265.56,1321.48 1266.6,1321.72 1267.63,1321.95 1268.67,1322.18 1269.71,1322.41 1270.74,1322.64 1271.78,1322.87 1272.81,1323.1 1273.85,1323.33 1274.89,1323.56 \n",
       "  1275.92,1323.79 1276.96,1324.02 1278,1324.25 1279.03,1324.48 1280.07,1324.7 1281.11,1324.93 1282.14,1325.16 1283.18,1325.38 1284.22,1325.61 1285.25,1325.84 \n",
       "  1286.29,1326.06 1287.32,1326.29 1288.36,1326.51 1289.4,1326.73 1290.43,1326.96 1291.47,1327.18 1292.51,1327.4 1293.54,1327.63 1294.58,1327.85 1295.62,1328.07 \n",
       "  1296.65,1328.29 1297.69,1328.51 1298.73,1328.73 1299.76,1328.95 1300.8,1329.17 1301.84,1329.39 1302.87,1329.61 1303.91,1329.83 1304.94,1330.05 1305.98,1330.27 \n",
       "  1307.02,1330.48 1308.05,1330.7 1309.09,1330.92 1310.13,1331.14 1311.16,1331.35 1312.2,1331.57 1313.24,1331.78 1314.27,1332 1315.31,1332.21 1316.35,1332.43 \n",
       "  1317.38,1332.64 1318.42,1332.86 1319.45,1333.07 1320.49,1333.28 1321.53,1333.49 1322.56,1333.71 1323.6,1333.92 1324.64,1334.13 1325.67,1334.34 1326.71,1334.55 \n",
       "  1327.75,1334.76 1328.78,1334.97 1329.82,1335.18 1330.86,1335.39 1331.89,1335.6 1332.93,1335.81 1333.96,1336.02 1335,1336.23 1336.04,1336.44 1337.07,1336.64 \n",
       "  1338.11,1336.85 1339.15,1337.06 1340.18,1337.26 1341.22,1337.47 1342.26,1337.68 1343.29,1337.88 1344.33,1338.09 1345.37,1338.29 1346.4,1338.5 1347.44,1338.7 \n",
       "  1348.48,1338.9 1349.51,1339.11 1350.55,1339.31 1351.58,1339.51 1352.62,1339.72 1353.66,1339.92 1354.69,1340.12 1355.73,1340.32 1356.77,1340.52 1357.8,1340.72 \n",
       "  1358.84,1340.92 1359.88,1341.12 1360.91,1341.32 1361.95,1341.52 1362.99,1341.72 1364.02,1341.92 1365.06,1342.12 1366.09,1342.32 1367.13,1342.52 1368.17,1342.71 \n",
       "  1369.2,1342.91 1370.24,1343.11 1371.28,1343.31 1372.31,1343.5 1373.35,1343.7 1374.39,1343.89 1375.42,1344.09 1376.46,1344.29 1377.5,1344.48 1378.53,1344.68 \n",
       "  1379.57,1344.87 1380.6,1345.06 1381.64,1345.26 1382.68,1345.45 1383.71,1345.64 1384.75,1345.84 1385.79,1346.03 1386.82,1346.22 1387.86,1346.41 1388.9,1346.6 \n",
       "  1389.93,1346.8 1390.97,1346.99 1392.01,1347.18 1393.04,1347.37 1394.08,1347.56 1395.11,1347.75 1396.15,1347.94 1397.19,1348.13 1398.22,1348.32 1399.26,1348.5 \n",
       "  1400.3,1348.69 1401.33,1348.88 1402.37,1349.07 1403.41,1349.26 1404.44,1349.44 1405.48,1349.63 1406.52,1349.82 1407.55,1350 1408.59,1350.19 1409.63,1350.37 \n",
       "  1410.66,1350.56 1411.7,1350.74 1412.73,1350.93 1413.77,1351.11 1414.81,1351.3 1415.84,1351.48 1416.88,1351.67 1417.92,1351.85 1418.95,1352.03 1419.99,1352.22 \n",
       "  1421.03,1352.4 1422.06,1352.58 1423.1,1352.76 1424.14,1352.94 1425.17,1353.13 1426.21,1353.31 1427.24,1353.49 1428.28,1353.67 1429.32,1353.85 1430.35,1354.03 \n",
       "  1431.39,1354.21 1432.43,1354.39 1433.46,1354.57 1434.5,1354.75 1435.54,1354.93 1436.57,1355.1 1437.61,1355.28 1438.65,1355.46 1439.68,1355.64 1440.72,1355.82 \n",
       "  1441.75,1355.99 1442.79,1356.17 1443.83,1356.35 1444.86,1356.52 1445.9,1356.7 1446.94,1356.88 1447.97,1357.05 1449.01,1357.23 1450.05,1357.4 1451.08,1357.58 \n",
       "  1452.12,1357.75 1453.16,1357.92 1454.19,1358.1 1455.23,1358.27 1456.26,1358.45 1457.3,1358.62 1458.34,1358.79 1459.37,1358.96 1460.41,1359.14 1461.45,1359.31 \n",
       "  1462.48,1359.48 1463.52,1359.65 1464.56,1359.82 1465.59,1360 1466.63,1360.17 1467.67,1360.34 1468.7,1360.51 1469.74,1360.68 1470.78,1360.85 1471.81,1361.02 \n",
       "  1472.85,1361.19 1473.88,1361.36 1474.92,1361.53 1475.96,1361.69 1476.99,1361.86 1478.03,1362.03 1479.07,1362.2 1480.1,1362.37 1481.14,1362.53 1482.18,1362.7 \n",
       "  1483.21,1362.87 1484.25,1363.03 1485.29,1363.2 1486.32,1363.37 1487.36,1363.53 1488.39,1363.7 1489.43,1363.86 1490.47,1364.03 1491.5,1364.2 1492.54,1364.36 \n",
       "  1493.58,1364.52 1494.61,1364.69 1495.65,1364.85 1496.69,1365.02 1497.72,1365.18 1498.76,1365.34 1499.8,1365.51 1500.83,1365.67 1501.87,1365.83 1502.9,1365.99 \n",
       "  1503.94,1366.16 1504.98,1366.32 1506.01,1366.48 1507.05,1366.64 1508.09,1366.8 1509.12,1366.96 1510.16,1367.13 1511.2,1367.29 1512.23,1367.45 1513.27,1367.61 \n",
       "  1514.31,1367.77 1515.34,1367.93 1516.38,1368.09 1517.42,1368.24 1518.45,1368.4 1519.49,1368.56 1520.52,1368.72 1521.56,1368.88 1522.6,1369.04 1523.63,1369.19 \n",
       "  1524.67,1369.35 1525.71,1369.51 1526.74,1369.67 1527.78,1369.82 1528.82,1369.98 1529.85,1370.14 1530.89,1370.29 1531.93,1370.45 1532.96,1370.61 1534,1370.76 \n",
       "  1535.03,1370.92 1536.07,1371.07 1537.11,1371.23 1538.14,1371.38 1539.18,1371.54 1540.22,1371.69 1541.25,1371.84 1542.29,1372 1543.33,1372.15 1544.36,1372.31 \n",
       "  1545.4,1372.46 1546.44,1372.61 1547.47,1372.76 1548.51,1372.92 1549.54,1373.07 1550.58,1373.22 1551.62,1373.37 1552.65,1373.53 1553.69,1373.68 1554.73,1373.83 \n",
       "  1555.76,1373.98 1556.8,1374.13 1557.84,1374.28 1558.87,1374.43 1559.91,1374.58 1560.95,1374.73 1561.98,1374.88 1563.02,1375.03 1564.05,1375.18 1565.09,1375.33 \n",
       "  1566.13,1375.48 1567.16,1375.63 1568.2,1375.78 1569.24,1375.93 1570.27,1376.07 1571.31,1376.22 1572.35,1376.37 1573.38,1376.52 1574.42,1376.66 1575.46,1376.81 \n",
       "  1576.49,1376.96 1577.53,1377.11 1578.57,1377.25 1579.6,1377.4 1580.64,1377.54 1581.67,1377.69 1582.71,1377.84 1583.75,1377.98 1584.78,1378.13 1585.82,1378.27 \n",
       "  1586.86,1378.42 1587.89,1378.56 1588.93,1378.71 1589.97,1378.85 1591,1379 1592.04,1379.14 1593.08,1379.28 1594.11,1379.43 1595.15,1379.57 1596.18,1379.71 \n",
       "  1597.22,1379.86 1598.26,1380 1599.29,1380.14 1600.33,1380.29 1601.37,1380.43 1602.4,1380.57 1603.44,1380.71 1604.48,1380.85 1605.51,1381 1606.55,1381.14 \n",
       "  1607.59,1381.28 1608.62,1381.42 1609.66,1381.56 1610.69,1381.7 1611.73,1381.84 1612.77,1381.98 1613.8,1382.12 1614.84,1382.26 1615.88,1382.4 1616.91,1382.54 \n",
       "  1617.95,1382.68 1618.99,1382.82 1620.02,1382.96 1621.06,1383.1 1622.1,1383.23 1623.13,1383.37 1624.17,1383.51 1625.2,1383.65 1626.24,1383.79 1627.28,1383.92 \n",
       "  1628.31,1384.06 1629.35,1384.2 1630.39,1384.34 1631.42,1384.47 1632.46,1384.61 1633.5,1384.75 1634.53,1384.88 1635.57,1385.02 1636.61,1385.15 1637.64,1385.29 \n",
       "  1638.68,1385.43 1639.72,1385.56 1640.75,1385.7 1641.79,1385.83 1642.82,1385.97 1643.86,1386.1 1644.9,1386.24 1645.93,1386.37 1646.97,1386.5 1648.01,1386.64 \n",
       "  1649.04,1386.77 1650.08,1386.91 1651.12,1387.04 1652.15,1387.17 1653.19,1387.31 1654.23,1387.44 1655.26,1387.57 1656.3,1387.71 1657.33,1387.84 1658.37,1387.97 \n",
       "  1659.41,1388.1 1660.44,1388.23 1661.48,1388.37 1662.52,1388.5 1663.55,1388.63 1664.59,1388.76 1665.63,1388.89 1666.66,1389.02 1667.7,1389.15 1668.74,1389.28 \n",
       "  1669.77,1389.41 1670.81,1389.54 1671.84,1389.67 1672.88,1389.8 1673.92,1389.93 1674.95,1390.06 1675.99,1390.19 1677.03,1390.32 1678.06,1390.45 1679.1,1390.58 \n",
       "  1680.14,1390.71 1681.17,1390.84 1682.21,1390.97 1683.25,1391.09 1684.28,1391.22 1685.32,1391.35 1686.36,1391.48 1687.39,1391.61 1688.43,1391.73 1689.46,1391.86 \n",
       "  1690.5,1391.99 1691.54,1392.12 1692.57,1392.24 1693.61,1392.37 1694.65,1392.5 1695.68,1392.62 1696.72,1392.75 1697.76,1392.87 1698.79,1393 1699.83,1393.13 \n",
       "  1700.87,1393.25 1701.9,1393.38 1702.94,1393.5 1703.97,1393.63 1705.01,1393.75 1706.05,1393.88 1707.08,1394 1708.12,1394.12 1709.16,1394.25 1710.19,1394.37 \n",
       "  1711.23,1394.5 1712.27,1394.62 1713.3,1394.74 1714.34,1394.87 1715.38,1394.99 1716.41,1395.11 1717.45,1395.24 1718.48,1395.36 1719.52,1395.48 1720.56,1395.61 \n",
       "  1721.59,1395.73 1722.63,1395.85 1723.67,1395.97 1724.7,1396.09 1725.74,1396.22 1726.78,1396.34 1727.81,1396.46 1728.85,1396.58 1729.89,1396.7 1730.92,1396.82 \n",
       "  1731.96,1396.94 1732.99,1397.07 1734.03,1397.19 1735.07,1397.31 1736.1,1397.43 1737.14,1397.55 1738.18,1397.67 1739.21,1397.79 1740.25,1397.91 1741.29,1398.03 \n",
       "  1742.32,1398.15 1743.36,1398.26 1744.4,1398.38 1745.43,1398.5 1746.47,1398.62 1747.51,1398.74 1748.54,1398.86 1749.58,1398.98 1750.61,1399.1 1751.65,1399.21 \n",
       "  1752.69,1399.33 1753.72,1399.45 1754.76,1399.57 1755.8,1399.68 1756.83,1399.8 1757.87,1399.92 1758.91,1400.04 1759.94,1400.15 1760.98,1400.27 1762.02,1400.39 \n",
       "  1763.05,1400.5 1764.09,1400.62 1765.12,1400.74 1766.16,1400.85 1767.2,1400.97 1768.23,1401.08 1769.27,1401.2 1770.31,1401.31 1771.34,1401.43 1772.38,1401.55 \n",
       "  1773.42,1401.66 1774.45,1401.78 1775.49,1401.89 1776.53,1402 1777.56,1402.12 1778.6,1402.23 1779.63,1402.35 1780.67,1402.46 1781.71,1402.58 1782.74,1402.69 \n",
       "  1783.78,1402.8 1784.82,1402.92 1785.85,1403.03 1786.89,1403.14 1787.93,1403.26 1788.96,1403.37 1790,1403.48 1791.04,1403.6 1792.07,1403.71 1793.11,1403.82 \n",
       "  1794.14,1403.93 1795.18,1404.05 1796.22,1404.16 1797.25,1404.27 1798.29,1404.38 1799.33,1404.49 1800.36,1404.6 1801.4,1404.72 1802.44,1404.83 1803.47,1404.94 \n",
       "  1804.51,1405.05 1805.55,1405.16 1806.58,1405.27 1807.62,1405.38 1808.66,1405.49 1809.69,1405.6 1810.73,1405.71 1811.76,1405.82 1812.8,1405.93 1813.84,1406.04 \n",
       "  1814.87,1406.15 1815.91,1406.26 1816.95,1406.37 1817.98,1406.48 1819.02,1406.59 1820.06,1406.7 1821.09,1406.81 1822.13,1406.92 1823.17,1407.03 1824.2,1407.13 \n",
       "  1825.24,1407.24 1826.27,1407.35 1827.31,1407.46 1828.35,1407.57 1829.38,1407.68 1830.42,1407.78 1831.46,1407.89 1832.49,1408 1833.53,1408.11 1834.57,1408.21 \n",
       "  1835.6,1408.32 1836.64,1408.43 1837.68,1408.53 1838.71,1408.64 1839.75,1408.75 1840.78,1408.85 1841.82,1408.96 1842.86,1409.07 1843.89,1409.17 1844.93,1409.28 \n",
       "  1845.97,1409.39 1847,1409.49 1848.04,1409.6 1849.08,1409.7 1850.11,1409.81 1851.15,1409.91 1852.19,1410.02 1853.22,1410.12 1854.26,1410.23 1855.3,1410.33 \n",
       "  1856.33,1410.44 1857.37,1410.54 1858.4,1410.65 1859.44,1410.75 1860.48,1410.86 1861.51,1410.96 1862.55,1411.06 1863.59,1411.17 1864.62,1411.27 1865.66,1411.37 \n",
       "  1866.7,1411.48 1867.73,1411.58 1868.77,1411.68 1869.81,1411.79 1870.84,1411.89 1871.88,1411.99 1872.91,1412.1 1873.95,1412.2 1874.99,1412.3 1876.02,1412.4 \n",
       "  1877.06,1412.51 1878.1,1412.61 1879.13,1412.71 1880.17,1412.81 1881.21,1412.91 1882.24,1413.02 1883.28,1413.12 1884.32,1413.22 1885.35,1413.32 1886.39,1413.42 \n",
       "  1887.42,1413.52 1888.46,1413.62 1889.5,1413.73 1890.53,1413.83 1891.57,1413.93 1892.61,1414.03 1893.64,1414.13 1894.68,1414.23 1895.72,1414.33 1896.75,1414.43 \n",
       "  1897.79,1414.53 1898.83,1414.63 1899.86,1414.73 1900.9,1414.83 1901.93,1414.93 1902.97,1415.03 1904.01,1415.13 1905.04,1415.23 1906.08,1415.33 1907.12,1415.42 \n",
       "  1908.15,1415.52 1909.19,1415.62 1910.23,1415.72 1911.26,1415.82 1912.3,1415.92 1913.34,1416.02 1914.37,1416.11 1915.41,1416.21 1916.45,1416.31 1917.48,1416.41 \n",
       "  1918.52,1416.51 1919.55,1416.6 1920.59,1416.7 1921.63,1416.8 1922.66,1416.9 1923.7,1416.99 1924.74,1417.09 1925.77,1417.19 1926.81,1417.28 1927.85,1417.38 \n",
       "  1928.88,1417.48 1929.92,1417.57 1930.96,1417.67 1931.99,1417.77 1933.03,1417.86 1934.06,1417.96 1935.1,1418.06 1936.14,1418.15 1937.17,1418.25 1938.21,1418.34 \n",
       "  1939.25,1418.44 1940.28,1418.53 1941.32,1418.63 1942.36,1418.73 1943.39,1418.82 1944.43,1418.92 1945.47,1419.01 1946.5,1419.11 1947.54,1419.2 1948.57,1419.3 \n",
       "  1949.61,1419.39 1950.65,1419.48 1951.68,1419.58 1952.72,1419.67 1953.76,1419.77 1954.79,1419.86 1955.83,1419.96 1956.87,1420.05 1957.9,1420.14 1958.94,1420.24 \n",
       "  1959.98,1420.33 1961.01,1420.42 1962.05,1420.52 1963.08,1420.61 1964.12,1420.7 1965.16,1420.8 1966.19,1420.89 1967.23,1420.98 1968.27,1421.07 1969.3,1421.17 \n",
       "  1970.34,1421.26 1971.38,1421.35 1972.41,1421.44 1973.45,1421.54 1974.49,1421.63 1975.52,1421.72 1976.56,1421.81 1977.6,1421.9 1978.63,1422 1979.67,1422.09 \n",
       "  1980.7,1422.18 1981.74,1422.27 1982.78,1422.36 1983.81,1422.45 1984.85,1422.54 1985.89,1422.64 1986.92,1422.73 1987.96,1422.82 1989,1422.91 1990.03,1423 \n",
       "  1991.07,1423.09 1992.11,1423.18 1993.14,1423.27 1994.18,1423.36 1995.21,1423.45 1996.25,1423.54 1997.29,1423.63 1998.32,1423.72 1999.36,1423.81 2000.4,1423.9 \n",
       "  2001.43,1423.99 2002.47,1424.08 2003.51,1424.17 2004.54,1424.26 2005.58,1424.35 2006.62,1424.44 2007.65,1424.53 2008.69,1424.61 2009.72,1424.7 2010.76,1424.79 \n",
       "  2011.8,1424.88 2012.83,1424.97 2013.87,1425.06 2014.91,1425.15 2015.94,1425.23 2016.98,1425.32 2018.02,1425.41 2019.05,1425.5 2020.09,1425.59 2021.13,1425.67 \n",
       "  2022.16,1425.76 2023.2,1425.85 2024.23,1425.94 2025.27,1426.02 2026.31,1426.11 2027.34,1426.2 2028.38,1426.29 2029.42,1426.37 2030.45,1426.46 2031.49,1426.55 \n",
       "  2032.53,1426.63 2033.56,1426.72 2034.6,1426.81 2035.64,1426.89 2036.67,1426.98 2037.71,1427.07 2038.75,1427.15 2039.78,1427.24 2040.82,1427.32 2041.85,1427.41 \n",
       "  2042.89,1427.5 2043.93,1427.58 2044.96,1427.67 2046,1427.75 2047.04,1427.84 2048.07,1427.92 2049.11,1428.01 2050.15,1428.09 2051.18,1428.18 2052.22,1428.27 \n",
       "  2053.26,1428.35 2054.29,1428.43 2055.33,1428.52 2056.36,1428.6 2057.4,1428.69 2058.44,1428.77 2059.47,1428.86 2060.51,1428.94 2061.55,1429.03 2062.58,1429.11 \n",
       "  2063.62,1429.19 2064.66,1429.28 2065.69,1429.36 2066.73,1429.45 2067.77,1429.53 2068.8,1429.61 2069.84,1429.7 2070.87,1429.78 2071.91,1429.86 2072.95,1429.95 \n",
       "  2073.98,1430.03 2075.02,1430.11 2076.06,1430.2 2077.09,1430.28 2078.13,1430.36 2079.17,1430.45 2080.2,1430.53 2081.24,1430.61 2082.28,1430.69 2083.31,1430.78 \n",
       "  2084.35,1430.86 2085.39,1430.94 2086.42,1431.02 2087.46,1431.11 2088.49,1431.19 2089.53,1431.27 2090.57,1431.35 2091.6,1431.43 2092.64,1431.51 2093.68,1431.6 \n",
       "  2094.71,1431.68 2095.75,1431.76 2096.79,1431.84 2097.82,1431.92 2098.86,1432 2099.9,1432.08 2100.93,1432.16 2101.97,1432.25 2103,1432.33 2104.04,1432.41 \n",
       "  2105.08,1432.49 2106.11,1432.57 2107.15,1432.65 2108.19,1432.73 2109.22,1432.81 2110.26,1432.89 2111.3,1432.97 2112.33,1433.05 2113.37,1433.13 2114.41,1433.21 \n",
       "  2115.44,1433.29 2116.48,1433.37 2117.51,1433.45 2118.55,1433.53 2119.59,1433.61 2120.62,1433.69 2121.66,1433.77 2122.7,1433.85 2123.73,1433.93 2124.77,1434.01 \n",
       "  2125.81,1434.08 2126.84,1434.16 2127.88,1434.24 2128.92,1434.32 2129.95,1434.4 2130.99,1434.48 2132.02,1434.56 2133.06,1434.64 2134.1,1434.71 2135.13,1434.79 \n",
       "  2136.17,1434.87 2137.21,1434.95 2138.24,1435.03 2139.28,1435.11 2140.32,1435.18 2141.35,1435.26 2142.39,1435.34 2143.43,1435.42 2144.46,1435.49 2145.5,1435.57 \n",
       "  2146.54,1435.65 2147.57,1435.73 2148.61,1435.8 2149.64,1435.88 2150.68,1435.96 2151.72,1436.04 2152.75,1436.11 2153.79,1436.19 2154.83,1436.27 2155.86,1436.34 \n",
       "  2156.9,1436.42 2157.94,1436.5 2158.97,1436.57 2160.01,1436.65 2161.05,1436.73 2162.08,1436.8 2163.12,1436.88 2164.15,1436.96 2165.19,1437.03 2166.23,1437.11 \n",
       "  2167.26,1437.18 2168.3,1437.26 2169.34,1437.34 2170.37,1437.41 2171.41,1437.49 2172.45,1437.56 2173.48,1437.64 2174.52,1437.71 2175.56,1437.79 2176.59,1437.86 \n",
       "  2177.63,1437.94 2178.66,1438.01 2179.7,1438.09 2180.74,1438.16 2181.77,1438.24 2182.81,1438.31 2183.85,1438.39 2184.88,1438.46 2185.92,1438.54 2186.96,1438.61 \n",
       "  2187.99,1438.69 2189.03,1438.76 2190.07,1438.84 2191.1,1438.91 2192.14,1438.98 2193.17,1439.06 2194.21,1439.13 2195.25,1439.21 2196.28,1439.28 2197.32,1439.35 \n",
       "  2198.36,1439.43 2199.39,1439.5 2200.43,1439.58 2201.47,1439.65 2202.5,1439.72 2203.54,1439.8 2204.58,1439.87 2205.61,1439.94 2206.65,1440.02 2207.69,1440.09 \n",
       "  2208.72,1440.16 2209.76,1440.23 2210.79,1440.31 2211.83,1440.38 2212.87,1440.45 2213.9,1440.53 2214.94,1440.6 2215.98,1440.67 2217.01,1440.74 2218.05,1440.82 \n",
       "  2219.09,1440.89 2220.12,1440.96 2221.16,1441.03 2222.2,1441.1 2223.23,1441.18 2224.27,1441.25 2225.3,1441.32 2226.34,1441.39 2227.38,1441.46 2228.41,1441.54 \n",
       "  2229.45,1441.61 2230.49,1441.68 2231.52,1441.75 2232.56,1441.82 2233.6,1441.89 2234.63,1441.96 2235.67,1442.04 2236.71,1442.11 2237.74,1442.18 2238.78,1442.25 \n",
       "  2239.81,1442.32 2240.85,1442.39 2241.89,1442.46 2242.92,1442.53 2243.96,1442.6 2245,1442.67 2246.03,1442.74 2247.07,1442.82 2248.11,1442.89 2249.14,1442.96 \n",
       "  2250.18,1443.03 2251.22,1443.1 2252.25,1443.17 2253.29,1443.24 2254.33,1443.31 2255.36,1443.38 2256.4,1443.45 2257.43,1443.52 2258.47,1443.59 2259.51,1443.66 \n",
       "  2260.54,1443.73 2261.58,1443.79 2262.62,1443.86 2263.65,1443.93 2264.69,1444 2265.73,1444.07 2266.76,1444.14 2267.8,1444.21 2268.84,1444.28 2269.87,1444.35 \n",
       "  2270.91,1444.42 2271.94,1444.49 2272.98,1444.56 2274.02,1444.62 2275.05,1444.69 2276.09,1444.76 2277.13,1444.83 2278.16,1444.9 2279.2,1444.97 2280.24,1445.04 \n",
       "  2281.27,1445.1 2282.31,1445.17 2283.35,1445.24 2284.38,1445.31 2285.42,1445.38 2286.45,1445.44 2287.49,1445.51 2288.53,1445.58 2289.56,1445.65 2290.6,1445.72 \n",
       "  \n",
       "  \"/>\n",
       "</svg>\n"
      ]
     },
     "metadata": {},
     "output_type": "display_data"
    }
   ],
   "source": [
    "plot(1:num_epochs, losses, legend=false)"
   ]
  },
  {
   "cell_type": "markdown",
   "id": "d188cf7a",
   "metadata": {
    "colab_type": "text",
    "id": "iOdv_QdIrREr"
   },
   "source": [
    "## 3. Evaluate our model\n",
    "\n",
    "In this section, you will evaluate your model on train set and test set and make some comment about the result."
   ]
  },
  {
   "cell_type": "markdown",
   "id": "9617edaf",
   "metadata": {},
   "source": [
    "### Evaluate model on training set"
   ]
  },
  {
   "cell_type": "code",
   "execution_count": 22,
   "id": "3960bb52",
   "metadata": {},
   "outputs": [
    {
     "name": "stdout",
     "output_type": "stream",
     "text": [
      " acc: 0.91855\n",
      " precision: 0.8661666008685354\n",
      " recall: 0.3254227232275289\n",
      " f1_score: 0.473099730458221\n"
     ]
    },
    {
     "name": "stderr",
     "output_type": "stream",
     "text": [
      "┌ Warning: The classes are un-ordered,\n",
      "│ using: negative='0' and positive='1'.\n",
      "│ To suppress this warning, consider coercing to OrderedFactor.\n",
      "└ @ MLJBase /Users/quytrungg/.julia/packages/MLJBase/U4Dis/src/measures/confusion_matrix.jl:116\n",
      "┌ Warning: The classes are un-ordered,\n",
      "│ using: negative='0' and positive='1'.\n",
      "│ To suppress this warning, consider coercing to OrderedFactor.\n",
      "└ @ MLJBase /Users/quytrungg/.julia/packages/MLJBase/U4Dis/src/measures/confusion_matrix.jl:116\n"
     ]
    }
   ],
   "source": [
    "preds_train = predict(W, add_one_train_x)\n",
    "\n",
    "train_y_new = reshape(train_y_new, length(train_y_new), 1)\n",
    "acc = accuracy(preds_train, train_y_new)\n",
    "p = precision(preds_train, train_y_new)\n",
    "r = recall(preds_train, train_y_new)\n",
    "f1 = 2*p*r/(p + r)\n",
    "\n",
    "print(\" acc: $acc\\n precision: $p\\n recall: $r\\n f1_score: $f1\\n\")"
   ]
  },
  {
   "cell_type": "markdown",
   "id": "5a3c1298",
   "metadata": {},
   "source": [
    "### Evaluate model on test set\n",
    "\n",
    "In order to predict the result on test set, you have to perform data pre-process first. The pre-process is done exactly what we have done on train set. That means, you have to:\n",
    "\n",
    "- Change the label in `test_y` to `0` and `1` and store in a new variable named `test_y_new`\n",
    "- Calculate `test_intensity` and `test_symmetry` to form `test_x_new` (the shape should be `(10000,2)`)\n",
    "- Normalized `test_x_new` by z-score. Note the you will re-use variable `mean_` and `std_` to calculate `test_x_new` instead of compute new ones. You will store the result in `normalized_test_x`\n",
    "- Add a column that's full of one to `test_x_new` and store in `add_one_test_x` (the shape should be `(10000,3)`)"
   ]
  },
  {
   "cell_type": "code",
   "execution_count": 23,
   "id": "48cc1d4d",
   "metadata": {},
   "outputs": [
    {
     "data": {
      "text/plain": [
       "(10000, 3)"
      ]
     },
     "metadata": {},
     "output_type": "display_data"
    }
   ],
   "source": [
    "#TODO\n",
    "\n",
    "# compute test_y_new\n",
    "test_y_new = reshape(deepcopy(test_y), (size(test_y)[1], 1))\n",
    "test_y_new[test_y_new .!= 1] .= 0\n",
    "\n",
    "# compute test_intensity and test_symmetry to form test_x_new\n",
    "test_intensity = mean(test_x_flatten, dims=2)\n",
    "test_symmetry = compute_symmetry(test_x_flatten)\n",
    "test_x_new = hcat(test_intensity, test_symmetry)\n",
    "\n",
    "# normalize test_x_new to form normalized_test_x\n",
    "normalized_test_x = normalize(test_x_new, mean_, std_)\n",
    "\n",
    "# add column `ones` to test_x_new\n",
    "add_one_test_x = hcat(ones(size(normalized_test_x)[1],), normalized_test_x)\n",
    "size(add_one_test_x)"
   ]
  },
  {
   "cell_type": "markdown",
   "id": "be01a35a",
   "metadata": {},
   "source": [
    "After doing all these stuffs, you now can predict and evaluate your model"
   ]
  },
  {
   "cell_type": "code",
   "execution_count": 24,
   "id": "74b30e4b",
   "metadata": {},
   "outputs": [
    {
     "name": "stdout",
     "output_type": "stream",
     "text": [
      " acc: 0.9198\n",
      " precision: 0.8643326039387309\n",
      " recall: 0.34801762114537443\n",
      " f1_score: 0.49623115577889443\n"
     ]
    },
    {
     "name": "stderr",
     "output_type": "stream",
     "text": [
      "┌ Warning: The classes are un-ordered,\n",
      "│ using: negative='0' and positive='1'.\n",
      "│ To suppress this warning, consider coercing to OrderedFactor.\n",
      "└ @ MLJBase /Users/quytrungg/.julia/packages/MLJBase/U4Dis/src/measures/confusion_matrix.jl:116\n",
      "┌ Warning: The classes are un-ordered,\n",
      "│ using: negative='0' and positive='1'.\n",
      "│ To suppress this warning, consider coercing to OrderedFactor.\n",
      "└ @ MLJBase /Users/quytrungg/.julia/packages/MLJBase/U4Dis/src/measures/confusion_matrix.jl:116\n"
     ]
    }
   ],
   "source": [
    "preds_test = predict(W, add_one_test_x)\n",
    "\n",
    "test_y_new = reshape(test_y_new, length(test_y_new), 1)\n",
    "acc = accuracy(preds_test, test_y_new)\n",
    "p = precision(preds_test, test_y_new)\n",
    "r = recall(preds_test, test_y_new)\n",
    "f1 = 2*p*r/(p + r) #**TODO: Comment on the result**\n",
    "\n",
    "print(\" acc: $acc\\n precision: $p\\n recall: $r\\n f1_score: $f1\\n\")"
   ]
  },
  {
   "cell_type": "markdown",
   "id": "8acd6681",
   "metadata": {
    "colab_type": "text",
    "id": "B1pwx72_rRFe"
   },
   "source": [
    "**TODO: Comment on the result**\n",
    "- At first glance, the model's prediction on train data and test data has a very high accuracy, with 89.18% on train data and 89.05% on test data.\n",
    "- In details, the model's precision percentage on train and test data is also very high (> 88%), which means that everytime the model predicts a data sample to be number 1 (label 1), the high chance that prediction is correct.\n",
    "- On the other hand, the model's recall percentage is below 35% on train and test data, which means the percentage of the model recognizing a data sample to be number 1 (label 1) is not that high, many number 0s data is predicted to be number 1 by the model.\n",
    "- Overall, since the precision is high and recall is low, the f1_score (calculated by the artihmetic mean of its precision and recall) is also below 50% (approximately 48% on both train and test data).\n",
    "- The final conclusion of this model using logistic regression method above is that the accuracy of predicting number 1s data (label 1) is very high, meanwhile, if there are many not-number 0s data (label 0) in the data, chances are the model does not perform well on recognizing between label 1 and label 0 data."
   ]
  },
  {
   "cell_type": "markdown",
   "id": "a25e1609",
   "metadata": {},
   "source": []
  }
 ],
 "metadata": {
  "kernelspec": {
   "display_name": "Julia 1.8.2",
   "language": "julia",
   "name": "julia-1.8"
  },
  "language_info": {
   "file_extension": ".jl",
   "mimetype": "application/julia",
   "name": "julia",
   "version": "1.8.2"
  }
 },
 "nbformat": 4,
 "nbformat_minor": 5
}
