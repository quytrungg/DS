{
 "cells": [
  {
   "cell_type": "markdown",
   "id": "a577d301",
   "metadata": {
    "id": "a577d301"
   },
   "source": [
    "### Crawl a page with requests and parse it with Beautiful Soup\n",
    "https://nathanaelvictorious.medium.com/simple-web-scraping-using-beautifulsoup-and-python-in-google-colab-4084be701851"
   ]
  },
  {
   "cell_type": "code",
   "execution_count": 2,
   "id": "652e004b",
   "metadata": {
    "id": "652e004b"
   },
   "outputs": [],
   "source": [
    "# Import requests for crawling a page and Beautiful Soup for parse the HTML content\n",
    "# Import other libraries for demonstration\n",
    "from bs4 import BeautifulSoup\n",
    "import requests\n",
    "import pandas as pd\n",
    "import matplotlib.pyplot as plt\n",
    "import numpy as np"
   ]
  },
  {
   "cell_type": "code",
   "execution_count": 3,
   "id": "01f8d403",
   "metadata": {
    "id": "01f8d403"
   },
   "outputs": [],
   "source": [
    "# Fetch a website URL and store it to webpage\n",
    "webpage = requests.get(\"https://content.codecademy.com/courses/beautifulsoup/cacao/index.html\")\n",
    "\n",
    "#Take the webpage variable and fetch the content using BeautifulSoup\n",
    "soup = BeautifulSoup(webpage.content, \"html.parser\")"
   ]
  },
  {
   "cell_type": "code",
   "execution_count": 4,
   "id": "fdb6c77b",
   "metadata": {
    "id": "fdb6c77b"
   },
   "outputs": [],
   "source": [
    "# Store the whole text in HTML that have the class \"Rating\" and \"CocoaPercent\"\n",
    "rating_column = soup.find_all(attrs={\"class\": \"Rating\"})\n",
    "cocoa_percent_tags = soup.find_all(attrs={\"class\": \"CocoaPercent\"})"
   ]
  },
  {
   "cell_type": "code",
   "execution_count": 5,
   "id": "f1885a75",
   "metadata": {
    "colab": {
     "base_uri": "https://localhost:8080/"
    },
    "id": "f1885a75",
    "outputId": "c7fb1dc3-196b-4323-df79-9b05459246b4"
   },
   "outputs": [],
   "source": [
    "# Make a empty lists for Rating and CocoaPercent\n",
    "ratings = []\n",
    "cocoa_percents = []\n",
    "\n",
    "# Loop for inserting each table data to list\n",
    "for x in rating_column[1:] :\n",
    "  ratings.append(float(x.get_text()))\n",
    "\n",
    "for td in cocoa_percent_tags[1:] :\n",
    "  percent = float(td.get_text().strip('%'))\n",
    "  cocoa_percents.append(percent)\n",
    "\n",
    "# Combining both ratings and cocoa_percents list to a dictionary\n",
    "data = {\"Rating\": ratings, \"CocoaPercentage\": cocoa_percents}\n",
    "\n",
    "# Make a new Data Frame from data dictionary\n",
    "df = pd.DataFrame.from_dict(data)\n"
   ]
  },
  {
   "cell_type": "code",
   "execution_count": 6,
   "id": "feabbc76",
   "metadata": {},
   "outputs": [
    {
     "data": {
      "text/html": [
       "<div>\n",
       "<style scoped>\n",
       "    .dataframe tbody tr th:only-of-type {\n",
       "        vertical-align: middle;\n",
       "    }\n",
       "\n",
       "    .dataframe tbody tr th {\n",
       "        vertical-align: top;\n",
       "    }\n",
       "\n",
       "    .dataframe thead th {\n",
       "        text-align: right;\n",
       "    }\n",
       "</style>\n",
       "<table border=\"1\" class=\"dataframe\">\n",
       "  <thead>\n",
       "    <tr style=\"text-align: right;\">\n",
       "      <th></th>\n",
       "      <th>Rating</th>\n",
       "      <th>CocoaPercentage</th>\n",
       "    </tr>\n",
       "  </thead>\n",
       "  <tbody>\n",
       "    <tr>\n",
       "      <th>0</th>\n",
       "      <td>3.75</td>\n",
       "      <td>63.0</td>\n",
       "    </tr>\n",
       "    <tr>\n",
       "      <th>1</th>\n",
       "      <td>2.75</td>\n",
       "      <td>70.0</td>\n",
       "    </tr>\n",
       "    <tr>\n",
       "      <th>2</th>\n",
       "      <td>3.00</td>\n",
       "      <td>70.0</td>\n",
       "    </tr>\n",
       "    <tr>\n",
       "      <th>3</th>\n",
       "      <td>3.50</td>\n",
       "      <td>70.0</td>\n",
       "    </tr>\n",
       "    <tr>\n",
       "      <th>4</th>\n",
       "      <td>3.50</td>\n",
       "      <td>70.0</td>\n",
       "    </tr>\n",
       "    <tr>\n",
       "      <th>...</th>\n",
       "      <td>...</td>\n",
       "      <td>...</td>\n",
       "    </tr>\n",
       "    <tr>\n",
       "      <th>1790</th>\n",
       "      <td>3.75</td>\n",
       "      <td>70.0</td>\n",
       "    </tr>\n",
       "    <tr>\n",
       "      <th>1791</th>\n",
       "      <td>3.00</td>\n",
       "      <td>65.0</td>\n",
       "    </tr>\n",
       "    <tr>\n",
       "      <th>1792</th>\n",
       "      <td>3.50</td>\n",
       "      <td>65.0</td>\n",
       "    </tr>\n",
       "    <tr>\n",
       "      <th>1793</th>\n",
       "      <td>3.25</td>\n",
       "      <td>62.0</td>\n",
       "    </tr>\n",
       "    <tr>\n",
       "      <th>1794</th>\n",
       "      <td>3.00</td>\n",
       "      <td>65.0</td>\n",
       "    </tr>\n",
       "  </tbody>\n",
       "</table>\n",
       "<p>1795 rows × 2 columns</p>\n",
       "</div>"
      ],
      "text/plain": [
       "      Rating  CocoaPercentage\n",
       "0       3.75             63.0\n",
       "1       2.75             70.0\n",
       "2       3.00             70.0\n",
       "3       3.50             70.0\n",
       "4       3.50             70.0\n",
       "...      ...              ...\n",
       "1790    3.75             70.0\n",
       "1791    3.00             65.0\n",
       "1792    3.50             65.0\n",
       "1793    3.25             62.0\n",
       "1794    3.00             65.0\n",
       "\n",
       "[1795 rows x 2 columns]"
      ]
     },
     "execution_count": 6,
     "metadata": {},
     "output_type": "execute_result"
    }
   ],
   "source": [
    "df "
   ]
  },
  {
   "cell_type": "code",
   "execution_count": 5,
   "id": "f75a99bc",
   "metadata": {
    "id": "f75a99bc"
   },
   "outputs": [],
   "source": [
    "# Find the fits using polyfit\n",
    "z = np.polyfit(df.CocoaPercentage, df.Rating, 1)\n",
    "\n",
    "# Make the line polynomial function using poly1d\n",
    "line_function = np.poly1d(z)\n"
   ]
  },
  {
   "cell_type": "code",
   "execution_count": 33,
   "id": "nt31l-L6A8Nr",
   "metadata": {
    "colab": {
     "base_uri": "https://localhost:8080/",
     "height": 295
    },
    "id": "nt31l-L6A8Nr",
    "outputId": "e748b7fc-d612-4a65-9d08-d01f4f995636"
   },
   "outputs": [
    {
     "data": {
      "image/png": "[encoded data removed]",
      "text/plain": [
       "<Figure size 432x288 with 1 Axes>"
      ]
     },
     "metadata": {
      "needs_background": "light"
     },
     "output_type": "display_data"
    }
   ],
   "source": [
    "# Plotting the data\n",
    "plt.scatter(df.CocoaPercentage, df.Rating)\n",
    "plt.title('Cocoa Percentage & Ratings Correlation')\n",
    "plt.xlabel('Cocoa Percentage (%)')\n",
    "plt.ylabel('Ratings')\n",
    "plt.plot(df.CocoaPercentage, line_function(df.CocoaPercentage), \"r--\")\n",
    "plt.show()"
   ]
  }
 ],
 "metadata": {
  "colab": {
   "provenance": []
  },
  "kernelspec": {
   "display_name": "Python 3.10.6 64-bit ('3.10.6')",
   "language": "python",
   "name": "python3"
  },
  "language_info": {
   "codemirror_mode": {
    "name": "ipython",
    "version": 3
   },
   "file_extension": ".py",
   "mimetype": "text/x-python",
   "name": "python",
   "nbconvert_exporter": "python",
   "pygments_lexer": "ipython3",
   "version": "3.10.6"
  },
  "vscode": {
   "interpreter": {
    "hash": "89e8354a88354ecf7ffb299b56239fb0ecc48c48d372ba43f5b93cc4e944f72d"
   }
  }
 },
 "nbformat": 4,
 "nbformat_minor": 5
}
