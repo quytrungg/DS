{
 "cells": [
  {
   "cell_type": "markdown",
   "id": "43a85733",
   "metadata": {},
   "source": [
    "## Download images using open source Google image downloader\n",
    "https://github.com/RiddlerQ/simple_image_download"
   ]
  },
  {
   "cell_type": "code",
   "execution_count": 1,
   "id": "39390f86",
   "metadata": {},
   "outputs": [],
   "source": [
    "import simple_image_download.simple_image_download as simp"
   ]
  },
  {
   "cell_type": "code",
   "execution_count": 2,
   "id": "62548d36",
   "metadata": {},
   "outputs": [],
   "source": [
    "my_downloader = simp.Downloader()"
   ]
  },
  {
   "cell_type": "markdown",
   "id": "c0be011e",
   "metadata": {},
   "source": [
    "### Get the URLs but not actually download the files"
   ]
  },
  {
   "cell_type": "code",
   "execution_count": 6,
   "id": "e30a519e",
   "metadata": {},
   "outputs": [
    {
     "name": "stderr",
     "output_type": "stream",
     "text": [
      "[========================================================================] 100%\r"
     ]
    },
    {
     "name": "stdout",
     "output_type": "stream",
     "text": [
      "bear_2a5.png\n",
      "bear_3b3.png\n",
      "bear_3e6.png\n",
      "bear_232.jpeg\n",
      "bear_3.jpeg\n",
      "bear_2e1.jpeg\n",
      "bear_c7.jpeg\n",
      "bear_210.jpeg\n",
      "bear_73.jpeg\n",
      "supermario_7b.png\n",
      "supermario_36.png\n",
      "supermario_29b.png\n",
      "supermario_108.png\n",
      "supermario_99.png\n",
      "supermario_99.jpeg\n",
      "supermario_153.jpeg\n",
      "supermario_2db.png\n",
      "supermario_145.jpeg\n"
     ]
    },
    {
     "name": "stderr",
     "output_type": "stream",
     "text": [
      "\n"
     ]
    },
    {
     "data": {
      "text/plain": [
       "{'bear_2a5.png': ['simple_images/bear', <Response [200]>],\n",
       " 'bear_3b3.png': ['simple_images/bear', <Response [200]>],\n",
       " 'bear_3e6.png': ['simple_images/bear', <Response [200]>],\n",
       " 'bear_232.jpeg': ['simple_images/bear', <Response [200]>],\n",
       " 'bear_3.jpeg': ['simple_images/bear', <Response [200]>],\n",
       " 'bear_2e1.jpeg': ['simple_images/bear', <Response [200]>],\n",
       " 'bear_c7.jpeg': ['simple_images/bear', <Response [200]>],\n",
       " 'bear_210.jpeg': ['simple_images/bear', <Response [200]>],\n",
       " 'bear_73.jpeg': ['simple_images/bear', <Response [200]>],\n",
       " 'supermario_7b.png': ['simple_images/supermario', <Response [200]>],\n",
       " 'supermario_36.png': ['simple_images/supermario', <Response [200]>],\n",
       " 'supermario_29b.png': ['simple_images/supermario', <Response [200]>],\n",
       " 'supermario_108.png': ['simple_images/supermario', <Response [200]>],\n",
       " 'supermario_99.png': ['simple_images/supermario', <Response [200]>],\n",
       " 'supermario_99.jpeg': ['simple_images/supermario', <Response [200]>],\n",
       " 'supermario_153.jpeg': ['simple_images/supermario', <Response [200]>],\n",
       " 'supermario_2db.png': ['simple_images/supermario', <Response [200]>],\n",
       " 'supermario_145.jpeg': ['simple_images/supermario', <Response [200]>]}"
      ]
     },
     "execution_count": 6,
     "metadata": {},
     "output_type": "execute_result"
    }
   ],
   "source": [
    "my_downloader.search_urls('bear supermario',limit=10, verbose=True)"
   ]
  },
  {
   "cell_type": "code",
   "execution_count": 7,
   "id": "173e39b9",
   "metadata": {},
   "outputs": [
    {
     "name": "stdout",
     "output_type": "stream",
     "text": [
      "['https://www.gstatic.com/ui/v1/menu/light_thumbnail2.png', 'https://www.gstatic.com/ui/v1/menu/dark_thumbnail2.png', 'https://www.gstatic.com/ui/v1/menu/device_default_thumbnail2.png', 'https://upload.wikimedia.org/wikipedia/commons/9/9e/Ours_brun_parcanimalierpyrenees_1.jpg', 'https://upload.wikimedia.org/wikipedia/commons/thumb/7/71/2010-kodiak-bear-1.jpg/1200px-2010-kodiak-bear-1.jpg', 'https://i.natgeofe.com/n/3754013c-ec10-4315-b142-22b21b5bf677/bears_02_16x9.jpg', 'https://cdn.britannica.com/41/156441-050-A4424AEC/Grizzly-bear-Jasper-National-Park-Canada-Alberta.jpg', 'https://i.natgeofe.com/n/04fcf985-fc13-4dd3-ac21-03ad540915c1/0000016c-25c4-d982-a7ff-fdf7352c0000_2x1.jpg', 'https://www.nps.gov/common/uploads/grid_builder/bears/crop1_1/C3BE26F2-9BDC-F09E-B6619CD1AACDD95F.jpg?width', 'https://www.gstatic.com/ui/v1/menu/light_thumbnail2.png', 'https://www.gstatic.com/ui/v1/menu/dark_thumbnail2.png', 'https://www.gstatic.com/ui/v1/menu/device_default_thumbnail2.png', 'https://upload.wikimedia.org/wikipedia/vi/a/a9/MarioNSMBUDeluxe.png', 'https://supermariorun.com/assets/img/stage/mario03.png', 'https://m.media-amazon.com/images/M/MV5BYzAzYjU0ZDItMmZmNi00YzI3LWI0MTgtMDVhMzkwNTRkOTYxXkEyXkFqcGdeQWFybm8@._V1_.jpg', 'https://fs-prod-cdn.nintendo-europe.com/media/images/10_share_images/portals_3/H2x1_SuperMario_Hub_image1600w.jpg', 'https://mario.wiki.gallery/images/3/3e/MPSS_Mario.png', 'https://m.media-amazon.com/images/I/71iUgldMJPL.jpg']\n"
     ]
    }
   ],
   "source": [
    "# Get List of Saved URLs in cache\n",
    "print(my_downloader.get_urls())"
   ]
  },
  {
   "cell_type": "code",
   "execution_count": 8,
   "id": "729d6f6d",
   "metadata": {},
   "outputs": [
    {
     "name": "stdout",
     "output_type": "stream",
     "text": [
      "{'bear_2a5.png': ['simple_images/bear', <Response [200]>], 'bear_3b3.png': ['simple_images/bear', <Response [200]>], 'bear_3e6.png': ['simple_images/bear', <Response [200]>], 'bear_232.jpeg': ['simple_images/bear', <Response [200]>], 'bear_3.jpeg': ['simple_images/bear', <Response [200]>], 'bear_2e1.jpeg': ['simple_images/bear', <Response [200]>], 'bear_c7.jpeg': ['simple_images/bear', <Response [200]>], 'bear_210.jpeg': ['simple_images/bear', <Response [200]>], 'bear_73.jpeg': ['simple_images/bear', <Response [200]>], 'supermario_7b.png': ['simple_images/supermario', <Response [200]>], 'supermario_36.png': ['simple_images/supermario', <Response [200]>], 'supermario_29b.png': ['simple_images/supermario', <Response [200]>], 'supermario_108.png': ['simple_images/supermario', <Response [200]>], 'supermario_99.png': ['simple_images/supermario', <Response [200]>], 'supermario_99.jpeg': ['simple_images/supermario', <Response [200]>], 'supermario_153.jpeg': ['simple_images/supermario', <Response [200]>], 'supermario_2db.png': ['simple_images/supermario', <Response [200]>], 'supermario_145.jpeg': ['simple_images/supermario', <Response [200]>]}\n"
     ]
    }
   ],
   "source": [
    "# Prints the Whole Cache\n",
    "print(my_downloader.cached_urls)"
   ]
  },
  {
   "cell_type": "code",
   "execution_count": 9,
   "id": "420aaecd",
   "metadata": {},
   "outputs": [],
   "source": [
    "# Flush cache\n",
    "my_downloader.flush_cache()"
   ]
  },
  {
   "cell_type": "markdown",
   "id": "fe0ae09f",
   "metadata": {},
   "source": [
    "### Search and download the files"
   ]
  },
  {
   "cell_type": "code",
   "execution_count": 12,
   "id": "c707f86b",
   "metadata": {},
   "outputs": [
    {
     "name": "stderr",
     "output_type": "stream",
     "text": [
      "[========================================================================] 100%\n"
     ]
    },
    {
     "name": "stdout",
     "output_type": "stream",
     "text": [
      "'cheese_20b.jpeg\n",
      "'cheese_2df.jpeg\n",
      "'cheese_364.jpeg\n",
      "'cheese_1c9.jpeg\n",
      "'cheese_16c.jpeg\n",
      "'cheese_154.jpeg\n",
      "'cheese_1e8.jpeg\n",
      "'cheese_263.jpeg\n",
      "'cheese_108.jpeg\n",
      "'cheese_f1.jpeg\n",
      "'cheese_ee.jpeg\n",
      "'cheese_334.jpeg\n",
      "'cheese_243.jpeg\n",
      "'cheese_2a4.jpeg\n",
      "'cheese_265.webp\n",
      "'cheese_42.jpeg\n",
      "'cheese_3a0.jpeg\n",
      "'cheese_37b.jpeg\n",
      "'cheese_87.jpeg\n",
      "'cheese_96.jpeg\n",
      "cake'_268.jpeg\n",
      "cake'_2fa.jpeg\n",
      "cake'_20c.jpeg\n",
      "cake'_2d4.jpeg\n",
      "cake'_16.jpeg\n",
      "cake'_3d1.jpeg\n",
      "cake'_1da.jpeg\n",
      "cake'_1ae.jpeg\n",
      "cake'_2e.jpeg\n",
      "cake'_2f9.jpeg\n",
      "cake'_3c7.jpeg\n",
      "cake'_1ff.jpeg\n",
      "cake'_352.jpeg\n",
      "cake'_b4.jpeg\n",
      "cake'_191.jpeg\n",
      "cake'_293.jpeg\n",
      "cake'_244.jpeg\n",
      "bread_36d.jpeg\n",
      "bread_89.jpeg\n",
      "bread_3d4.jpeg\n",
      "bread_347.jpeg\n",
      "bread_d.jpeg\n",
      "bread_35a.jpeg\n",
      "bread_90.jpeg\n",
      "bread_1ea.jpeg\n",
      "bread_219.jpeg\n",
      "bread_2da.jpeg\n",
      "bread_240.jpeg\n",
      "bread_393.jpeg\n",
      "bread_17c.jpeg\n",
      "bread_3c2.jpeg\n",
      "bread_15e.jpeg\n",
      "bread_2af.jpeg\n",
      "File Name='cheese_20b.jpeg, Downloaded from https://cdn.huongnghiepaau.com/wp-content/uploads/2019/01/cheese-la-gi.jpg\n",
      "File Name='cheese_2df.jpeg, Downloaded from https://images-prod.healthline.com/hlcmsresource/images/AN_images/healthiest-cheese-1296x728-swiss.jpg\n",
      "File Name='cheese_364.jpeg, Downloaded from https://cdn.britannica.com/60/217660-050-DBCC409A/cheddar-cheese-wedge.jpg\n",
      "File Name='cheese_1c9.jpeg, Downloaded from https://www.healthyeating.org/images/default-source/home-0.0/nutrition-topics-2.0/milk-dairy/2-1-3-1dairyfoods_cheese_detailfeature_thumb.jpg?sfvrsn\n",
      "File Name='cheese_16c.jpeg, Downloaded from https://upload.wikimedia.org/wikipedia/commons/thumb/6/61/Trappista_cheese_original.jpg/1200px-Trappista_cheese_original.jpg\n",
      "File Name='cheese_154.jpeg, Downloaded from https://media.gq.com/photos/581799e0a6fe84375dbe8d86/16:9/w_2560%2Cc_limit/Cheese%25201.jpg\n",
      "File Name='cheese_1e8.jpeg, Downloaded from https://media.wired.co.uk/photos/606db59587b15dc95f9cd468/16:9/w_1920,h_1080,c_limit/Cheese_01.jpg\n",
      "File Name='cheese_263.jpeg, Downloaded from https://cdn.daylambanh.edu.vn/wp-content/uploads/2019/06/cheese-la-nguyen-lieu-quan-trong-trong-nganh-banh.jpg\n",
      "File Name='cheese_108.jpeg, Downloaded from https://media.newyorker.com/photos/5f245aa0698a316b79e7ce0c/2:1/w_2250,h_1125,c_limit/Tandoh-cheese.jpg\n",
      "File Name='cheese_f1.jpeg, Downloaded from https://img1.10bestmedia.com/Images/Photos/385140/GettyImages-531048911_54_990x660.jpg\n",
      "File Name='cheese_ee.jpeg, Downloaded from https://images.everydayhealth.com/images/all-about-cheese-alt-1440x810.jpg\n",
      "File Name='cheese_334.jpeg, Downloaded from https://www.meggle-cheese.com/wp-content/uploads/2022/02/MEGGLE-Cheese-Mini-Header-left-Emmental-block-1200x600-1-1024x512.jpg\n",
      "File Name='cheese_243.jpeg, Downloaded from https://bepcuana.com/wp-content/uploads/2021/06/cheese-la-gi.jpg\n",
      "File Name='cheese_2a4.jpeg, Downloaded from https://cdn.tgdd.vn/2020/09/CookProductThumb/Untitled-1-620x620.jpg\n",
      "File Name='cheese_265.webp, Downloaded from https://www.usdairy.com/optimize/getmedia/6ab03180-cc90-4a03-a339-13b540ecc8a5/american.jpg.jpg.aspx?format\n",
      "File Name='cheese_42.jpeg, Downloaded from https://lovingitvegan.com/wp-content/uploads/2018/11/Vegan-Cheddar-Cheese-12.jpg\n",
      "File Name='cheese_3a0.jpeg, Downloaded from https://nguyenhafood.vn/uploads/2017/10/11/a55f9a18192be5793bbf8ff2d374b591_400x400.jpg\n",
      "File Name='cheese_37b.jpeg, Downloaded from https://alexfortrade.com/wp-content/uploads/2021/02/square.jpg\n",
      "File Name='cheese_87.jpeg, Downloaded from https://natashaskitchen.com/wp-content/uploads/2021/08/Grilled-Cheese-Sandwich-SQ.jpg\n",
      "File Name='cheese_96.jpeg, Downloaded from https://static01.nyt.com/images/2016/03/03/world/00WIT_CHINA-CHEESE/00WIT_CHINA-CHEESE-articleLarge-v6.jpg?year\n",
      "File Name=cake'_268.jpeg, Downloaded from https://handletheheat.com/wp-content/uploads/2015/03/Best-Birthday-Cake-with-milk-chocolate-buttercream-SQUARE.jpg\n",
      "File Name=cake'_2fa.jpeg, Downloaded from https://food-images.files.bbci.co.uk/food/recipes/rainbow_cake_20402_16x9.jpg\n",
      "File Name=cake'_20c.jpeg, Downloaded from https://upload.wikimedia.org/wikipedia/commons/thumb/0/04/Pound_layer_cake.jpg/800px-Pound_layer_cake.jpg\n",
      "File Name=cake'_2d4.jpeg, Downloaded from https://images.immediate.co.uk/production/volatile/sites/30/2020/04/strawberry-cake-8c9a6b6.jpg\n",
      "File Name=cake'_16.jpeg, Downloaded from https://storcpdkenticomedia.blob.core.windows.net/media/recipemanagementsystem/media/recipe-media-files/recipes/retail/x17/16714-birthday-cake-600x600.jpg?ext\n",
      "File Name=cake'_3d1.jpeg, Downloaded from https://img.taste.com.au/hbNtzI2Q/taste/2021/08/clinkers-cake-173208-2.jpg\n",
      "File Name=cake'_1da.jpeg, Downloaded from https://images.immediate.co.uk/production/volatile/sites/30/2021/03/Unicorn-cake-32e0971.jpg\n",
      "File Name=cake'_1ae.jpeg, Downloaded from https://www.onceuponachef.com/images/2012/11/Vanilla-Birthday-Cake-18.jpg\n",
      "File Name=cake'_2e.jpeg, Downloaded from https://www.recipetineats.com/wp-content/uploads/2020/08/My-best-Vanilla-Cake_9-SQ.jpg\n",
      "File Name=cake'_2f9.jpeg, Downloaded from https://i.pinimg.com/originals/b5/df/7c/b5df7c3f59cfc4508ab53ce31cfffe71.jpg\n",
      "File Name=cake'_3c7.jpeg, Downloaded from https://images-gmi-pmc.edge-generalmills.com/99d8ae9a-737f-491c-a7f7-34b014e5682c.jpg\n",
      "File Name=cake'_1ff.jpeg, Downloaded from https://upload.wikimedia.org/wikipedia/commons/thumb/a/a0/Wedding_cake_with_pillar_supports%2C_2009.jpg/1200px-Wedding_cake_with_pillar_supports%2C_2009.jpg\n",
      "File Name=cake'_352.jpeg, Downloaded from https://food-images.files.bbci.co.uk/food/recipes/rose_falooda_cake_55220_16x9.jpg\n",
      "File Name=cake'_b4.jpeg, Downloaded from https://cdn.igp.com/f_auto,q_auto,t_prodm/products/p-delicious-chocolate-cake-with-premium-frosting-half-kg--135596-m.jpg\n",
      "File Name=cake'_191.jpeg, Downloaded from https://nationaltoday.com/wp-content/uploads/2020/01/chocolatecake-1-640x514.jpg\n",
      "File Name=cake'_293.jpeg, Downloaded from https://assets.epicurious.com/photos/62b9e08fd12fc2ed10640798/4:6/w_3029,h_4544,c_limit/ChiffonCake_RECIPE_062322_36136.jpg\n",
      "File Name=cake'_244.jpeg, Downloaded from https://www.eatthis.com/wp-content/uploads/sites/4/2021/11/red-velvet-cake-slice.jpg?quality\n",
      "File Name=bread_36d.jpeg, Downloaded from https://assets.bonappetit.com/photos/5c62e4a3e81bbf522a9579ce/5:4/w_2815,h_2252,c_limit/milk-bread.jpg\n",
      "File Name=bread_89.jpeg, Downloaded from https://tmbidigitalassetsazure.blob.core.windows.net/toh/GoogleImagesPostCard/Basic-Homemade-Bread_EXPS_TOHcom20_32480_C01_26_2b.jpg\n",
      "File Name=bread_3d4.jpeg, Downloaded from https://www.kingarthurbaking.com/sites/default/files/2020-02/the-easiest-loaf-of-bread-youll-ever-bake.jpg\n",
      "File Name=bread_347.jpeg, Downloaded from https://suebeehomemaker.com/wp-content/uploads/2021/10/sliced-french-bread.jpg\n",
      "File Name=bread_d.jpeg, Downloaded from https://assets.bonappetit.com/photos/5f84743360f032defe1f5376/16:9/w_2192,h_1233,c_limit/Pullman-Loaf-Lede-new.jpg\n",
      "File Name=bread_35a.jpeg, Downloaded from https://www.cookingclassy.com/wp-content/uploads/2020/04/bread-recipe-1.jpg\n",
      "File Name=bread_90.jpeg, Downloaded from https://onedishkitchen.com/wp-content/uploads/2020/06/french-bread-small-loaf-side-view-one-dish-kitchen-sq-1200.jpg\n",
      "File Name=bread_1ea.jpeg, Downloaded from https://tmbidigitalassetsazure.blob.core.windows.net/rms3-prod/attachments/37/1200x1200/Golden-Santa-Bread_EXPS_HCA20_35968_05_27_E_6b.jpg\n",
      "File Name=bread_219.jpeg, Downloaded from https://ilove2bake.co.za/wp-content/uploads/2019/06/Basic-White-Bread.jpg\n",
      "File Name=bread_2da.jpeg, Downloaded from https://images-gmi-pmc.edge-generalmills.com/6ef7a9a1-08dc-4e94-8de9-10c4002103a5.jpg\n",
      "File Name=bread_240.jpeg, Downloaded from https://handletheheat.com/wp-content/uploads/2014/06/Homemade-Hawaiian-Bread-Rolls-Square.jpg\n",
      "File Name=bread_393.jpeg, Downloaded from https://healthynibblesandbits.com/wp-content/uploads/2019/12/Milk-Bread-FF2.jpg\n",
      "File Name=bread_17c.jpeg, Downloaded from https://img.bestrecipes.com.au/65aOrPSA/br/2014/06/basic-white-bread-961323-1.jpg\n",
      "File Name=bread_3c2.jpeg, Downloaded from https://www.ndtv.com/cooks/images/bread%20%281%29.jpg\n",
      "File Name=bread_15e.jpeg, Downloaded from https://i2.wp.com/lmld.org/wp-content/uploads/2020/05/Homemade-white-bread-7.jpg\n",
      "File Name=bread_2af.jpeg, Downloaded from https://assets.dovesfarm.co.uk/images/recipes/DF283_Traditional-White-Bread_1080.jpg\n",
      "{'.jpg'}\n"
     ]
    }
   ],
   "source": [
    "# Download + search file\n",
    "my_downloader.download(\"'cheese cake' bread\", limit=20, verbose=True)\n",
    "\n",
    "# Change Direcotory\n",
    "my_downloader.directory = 'my_dir/'\n",
    "\n",
    "# Change File extension type\n",
    "my_downloader.extensions = '.jpg'\n",
    "print(my_downloader.extensions)\n",
    "\n",
    "\n",
    "# Now doownload all the Searched picture\n",
    "my_downloader.download(download_cache=True)"
   ]
  },
  {
   "cell_type": "code",
   "execution_count": null,
   "id": "5509a208",
   "metadata": {},
   "outputs": [],
   "source": []
  }
 ],
 "metadata": {
  "kernelspec": {
   "display_name": "Python 3 (ipykernel)",
   "language": "python",
   "name": "python3"
  },
  "language_info": {
   "codemirror_mode": {
    "name": "ipython",
    "version": 3
   },
   "file_extension": ".py",
   "mimetype": "text/x-python",
   "name": "python",
   "nbconvert_exporter": "python",
   "pygments_lexer": "ipython3",
   "version": "3.9.7"
  }
 },
 "nbformat": 4,
 "nbformat_minor": 5
}
