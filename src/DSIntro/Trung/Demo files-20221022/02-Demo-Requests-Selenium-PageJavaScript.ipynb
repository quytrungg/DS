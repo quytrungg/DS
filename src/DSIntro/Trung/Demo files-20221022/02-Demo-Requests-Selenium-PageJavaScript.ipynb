{
 "cells": [
  {
   "cell_type": "code",
   "execution_count": 2,
   "id": "7a3af3dc",
   "metadata": {},
   "outputs": [],
   "source": [
    "import requests\n",
    "from bs4 import BeautifulSoup\n",
    "from selenium import webdriver"
   ]
  },
  {
   "cell_type": "markdown",
   "id": "d7112eed",
   "metadata": {},
   "source": [
    "## Fetch a page with requests"
   ]
  },
  {
   "cell_type": "code",
   "execution_count": null,
   "id": "d16b3620",
   "metadata": {},
   "outputs": [],
   "source": [
    "html_text = requests.get('http://avi.im/stuff/js-or-no-js.html').text"
   ]
  },
  {
   "cell_type": "code",
   "execution_count": null,
   "id": "99a389b5",
   "metadata": {},
   "outputs": [],
   "source": [
    "tree = BeautifulSoup(html_text)"
   ]
  },
  {
   "cell_type": "code",
   "execution_count": null,
   "id": "3ef6a2f8",
   "metadata": {},
   "outputs": [],
   "source": [
    "tree.find_all(attrs={'id': 'intro-text'})"
   ]
  },
  {
   "cell_type": "markdown",
   "id": "eba25ec8",
   "metadata": {},
   "source": [
    "## Fetch a page with Selenium"
   ]
  },
  {
   "cell_type": "code",
   "execution_count": 3,
   "id": "3f8cbbf7",
   "metadata": {},
   "outputs": [],
   "source": [
    "opts = webdriver.EdgeOptions()\n",
    "opts.headless = True\n",
    "browser = webdriver.Edge(options=opts) # No GUI\n",
    "# browser = webdriver.Edge() # with GUI"
   ]
  },
  {
   "cell_type": "code",
   "execution_count": 4,
   "id": "e1b22802",
   "metadata": {},
   "outputs": [],
   "source": [
    "browser.get('http://avi.im/stuff/js-or-no-js.html')\n",
    "html_text = browser.page_source\n",
    "browser.quit()"
   ]
  },
  {
   "cell_type": "code",
   "execution_count": 5,
   "id": "bf7addb2",
   "metadata": {},
   "outputs": [
    {
     "data": {
      "text/plain": [
       "[<p id=\"intro-text\">Yay! Supports javascript</p>]"
      ]
     },
     "execution_count": 5,
     "metadata": {},
     "output_type": "execute_result"
    }
   ],
   "source": [
    "tree = BeautifulSoup(html_text)\n",
    "tree.find_all(attrs={'id': 'intro-text'})"
   ]
  },
  {
   "cell_type": "markdown",
   "id": "7463ce37",
   "metadata": {},
   "source": [
    "## Take-away notes\n",
    "The HTML we get using Requests is the original HTML sent from the web server\n",
    "If this original HTML contains JavaScript codes, then the HTML we see in our web browser when using “inspect” feature is the HTML after JavaScript codes are executed (by our web browser)"
   ]
  }
 ],
 "metadata": {
  "kernelspec": {
   "display_name": "Python 3 (ipykernel)",
   "language": "python",
   "name": "python3"
  },
  "language_info": {
   "codemirror_mode": {
    "name": "ipython",
    "version": 3
   },
   "file_extension": ".py",
   "mimetype": "text/x-python",
   "name": "python",
   "nbconvert_exporter": "python",
   "pygments_lexer": "ipython3",
   "version": "3.9.7"
  }
 },
 "nbformat": 4,
 "nbformat_minor": 5
}
