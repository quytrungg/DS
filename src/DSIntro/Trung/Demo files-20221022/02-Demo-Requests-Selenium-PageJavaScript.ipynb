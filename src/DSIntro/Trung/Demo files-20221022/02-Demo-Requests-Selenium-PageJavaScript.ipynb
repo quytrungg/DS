{
 "cells": [
  {
   "cell_type": "code",
   "execution_count": 9,
   "id": "7a3af3dc",
   "metadata": {},
   "outputs": [],
   "source": [
    "import requests\n",
    "from bs4 import BeautifulSoup\n",
    "from selenium import webdriver\n",
    "from webdriver_manager.firefox import GeckoDriverManager"
   ]
  },
  {
   "cell_type": "markdown",
   "id": "d7112eed",
   "metadata": {},
   "source": [
    "## Fetch a page with requests"
   ]
  },
  {
   "cell_type": "code",
   "execution_count": 2,
   "id": "d16b3620",
   "metadata": {},
   "outputs": [],
   "source": [
    "html_text = requests.get('http://avi.im/stuff/js-or-no-js.html').text"
   ]
  },
  {
   "cell_type": "code",
   "execution_count": 4,
   "id": "e6acb1af",
   "metadata": {},
   "outputs": [],
   "source": [
    "pretty_html_text = BeautifulSoup(html_text, 'html.parser')"
   ]
  },
  {
   "cell_type": "code",
   "execution_count": 5,
   "id": "5c7fa02e",
   "metadata": {},
   "outputs": [
    {
     "data": {
      "text/plain": [
       "<!DOCTYPE html>\n",
       "\n",
       "<html>\n",
       "<head>\n",
       "<meta charset=\"utf-8\"/>\n",
       "<title>Javascript scraping test</title>\n",
       "</head>\n",
       "<body>\n",
       "<p id=\"intro-text\">No javascript support</p>\n",
       "<script type=\"text/javascript\">\n",
       "    document.getElementById('intro-text').innerHTML = 'Yay! Supports javascript';\n",
       "</script>\n",
       "</body>\n",
       "</html>"
      ]
     },
     "execution_count": 5,
     "metadata": {},
     "output_type": "execute_result"
    }
   ],
   "source": [
    "pretty_html_text"
   ]
  },
  {
   "cell_type": "code",
   "execution_count": 6,
   "id": "99a389b5",
   "metadata": {},
   "outputs": [],
   "source": [
    "tree = BeautifulSoup(html_text)"
   ]
  },
  {
   "cell_type": "code",
   "execution_count": 7,
   "id": "3ef6a2f8",
   "metadata": {},
   "outputs": [
    {
     "data": {
      "text/plain": [
       "[<p id=\"intro-text\">No javascript support</p>]"
      ]
     },
     "execution_count": 7,
     "metadata": {},
     "output_type": "execute_result"
    }
   ],
   "source": [
    "tree.find_all(attrs={'id': 'intro-text'})"
   ]
  },
  {
   "cell_type": "markdown",
   "id": "eba25ec8",
   "metadata": {},
   "source": [
    "## Fetch a page with Selenium"
   ]
  },
  {
   "cell_type": "code",
   "execution_count": 16,
   "id": "3f8cbbf7",
   "metadata": {},
   "outputs": [
    {
     "name": "stderr",
     "output_type": "stream",
     "text": [
      "[WDM] - Downloading: 19.0kB [00:00, 4.50MB/s]                   \n",
      "/var/folders/m7/368g6v5d01g4x7brwcqrgvg40000gn/T/ipykernel_47765/1189557755.py:3: DeprecationWarning: executable_path has been deprecated, please pass in a Service object\n",
      "  browser = webdriver.Firefox(executable_path=GeckoDriverManager().install()) # No GUI\n"
     ]
    }
   ],
   "source": [
    "# opts = webdriver.EdgeOptions()\n",
    "# opts.headless = True\n",
    "browser = webdriver.Firefox(executable_path=GeckoDriverManager().install()) # No GUI\n",
    "# browser = webdriver.Edge() # with GUI"
   ]
  },
  {
   "cell_type": "code",
   "execution_count": 17,
   "id": "e1b22802",
   "metadata": {},
   "outputs": [],
   "source": [
    "browser.get('http://avi.im/stuff/js-or-no-js.html')\n",
    "html_text = browser.page_source\n"
   ]
  },
  {
   "cell_type": "code",
   "execution_count": 18,
   "id": "bf7addb2",
   "metadata": {},
   "outputs": [
    {
     "data": {
      "text/plain": [
       "[<p id=\"intro-text\">Yay! Supports javascript</p>]"
      ]
     },
     "execution_count": 18,
     "metadata": {},
     "output_type": "execute_result"
    }
   ],
   "source": [
    "tree = BeautifulSoup(html_text)\n",
    "tree.find_all(attrs={'id': 'intro-text'})"
   ]
  },
  {
   "cell_type": "markdown",
   "id": "7463ce37",
   "metadata": {},
   "source": [
    "## Take-away notes\n",
    "The HTML we get using Requests is the original HTML sent from the web server\n",
    "If this original HTML contains JavaScript codes, then the HTML we see in our web browser when using “inspect” feature is the HTML after JavaScript codes are executed (by our web browser)"
   ]
  }
 ],
 "metadata": {
  "kernelspec": {
   "display_name": "Python 3.10.6 64-bit ('3.10.6')",
   "language": "python",
   "name": "python3"
  },
  "language_info": {
   "codemirror_mode": {
    "name": "ipython",
    "version": 3
   },
   "file_extension": ".py",
   "mimetype": "text/x-python",
   "name": "python",
   "nbconvert_exporter": "python",
   "pygments_lexer": "ipython3",
   "version": "3.10.6"
  },
  "vscode": {
   "interpreter": {
    "hash": "89e8354a88354ecf7ffb299b56239fb0ecc48c48d372ba43f5b93cc4e944f72d"
   }
  }
 },
 "nbformat": 4,
 "nbformat_minor": 5
}
