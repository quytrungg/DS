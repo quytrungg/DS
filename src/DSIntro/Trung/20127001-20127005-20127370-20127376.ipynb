{
 "cells": [
  {
   "cell_type": "markdown",
   "id": "0b480e03",
   "metadata": {},
   "source": [
    "## 20127001 - 20127005 - 20127370 - 20127376"
   ]
  },
  {
   "cell_type": "code",
   "execution_count": 3,
   "id": "3e396968",
   "metadata": {},
   "outputs": [],
   "source": [
    "# Include necesary packages\n",
    "from bs4 import BeautifulSoup\n",
    "from selenium import webdriver\n",
    "from selenium.webdriver.common.by import By\n",
    "from datetime import date, timedelta\n",
    "from selenium.webdriver import Keys\n",
    "import numpy\n",
    "import pandas\n",
    "from webdriver_manager.firefox import GeckoDriverManager"
   ]
  },
  {
   "cell_type": "code",
   "execution_count": 4,
   "id": "bd697810",
   "metadata": {},
   "outputs": [
    {
     "name": "stderr",
     "output_type": "stream",
     "text": [
      "[WDM] - Downloading: 100%|██████████| 2.01M/2.01M [00:01<00:00, 1.22MB/s]\n",
      "/var/folders/m7/368g6v5d01g4x7brwcqrgvg40000gn/T/ipykernel_69980/1312020087.py:3: DeprecationWarning: executable_path has been deprecated, please pass in a Service object\n",
      "  browser = webdriver.Firefox(executable_path=GeckoDriverManager().install())\n"
     ]
    }
   ],
   "source": [
    "# Open Chrome browser\n",
    "# browser = webdriver.Edge()\n",
    "browser = webdriver.Firefox(executable_path=GeckoDriverManager().install())"
   ]
  },
  {
   "cell_type": "code",
   "execution_count": 5,
   "id": "afae210f",
   "metadata": {},
   "outputs": [],
   "source": [
    "# go to trending search\n",
    "browser.get('https://trends.google.com.vn/trends/trendingsearches/daily?geo=VN')\n",
    "browser.maximize_window()\n",
    "browser.implicitly_wait(20)"
   ]
  },
  {
   "cell_type": "code",
   "execution_count": 9,
   "id": "cd9c8b23",
   "metadata": {},
   "outputs": [],
   "source": [
    "searchbar =  browser.find_element(By.CLASS_NAME,'search-directive-container')\n",
    "searchbar.find_element(By.TAG_NAME,'input').send_keys(\"Bóng Đá\\n\")\n",
    "searchbar.find_element(By.TAG_NAME,'input').send_keys(Keys.ENTER)"
   ]
  },
  {
   "cell_type": "code",
   "execution_count": 10,
   "id": "07271bfa",
   "metadata": {},
   "outputs": [],
   "source": [
    "data = []"
   ]
  },
  {
   "cell_type": "code",
   "execution_count": 12,
   "id": "c31826e0",
   "metadata": {},
   "outputs": [],
   "source": [
    "table = browser.find_element(By.CLASS_NAME,'related-queries-combo-wrapper')\n",
    "nextbutton =  table.find_element(By.CLASS_NAME,'pagination').find_elements(By.TAG_NAME,'button')[1]\n",
    "\n",
    "while not nextbutton.get_attribute('disabled'):\n",
    "    text = table.text.split('\\n')\n",
    "    text.pop(-1)\n",
    "    data+=text\n",
    "    try:\n",
    "        nextbutton.click()\n",
    "    except:\n",
    "        break"
   ]
  },
  {
   "cell_type": "code",
   "execution_count": 13,
   "id": "74316925",
   "metadata": {},
   "outputs": [],
   "source": [
    "data = numpy.array(data)"
   ]
  },
  {
   "cell_type": "code",
   "execution_count": 14,
   "id": "0b9800a2",
   "metadata": {},
   "outputs": [],
   "source": [
    "data = data.reshape(-1,3)"
   ]
  },
  {
   "cell_type": "code",
   "execution_count": 15,
   "id": "eb9e139b",
   "metadata": {},
   "outputs": [],
   "source": [
    "tab = pandas.DataFrame(data[:,1:],columns=['Tỉnh Thành','Mức Độ Tìm Kiếm'])"
   ]
  },
  {
   "cell_type": "code",
   "execution_count": 16,
   "id": "2a2b0d50",
   "metadata": {},
   "outputs": [
    {
     "data": {
      "text/html": [
       "<div>\n",
       "<style scoped>\n",
       "    .dataframe tbody tr th:only-of-type {\n",
       "        vertical-align: middle;\n",
       "    }\n",
       "\n",
       "    .dataframe tbody tr th {\n",
       "        vertical-align: top;\n",
       "    }\n",
       "\n",
       "    .dataframe thead th {\n",
       "        text-align: right;\n",
       "    }\n",
       "</style>\n",
       "<table border=\"1\" class=\"dataframe\">\n",
       "  <thead>\n",
       "    <tr style=\"text-align: right;\">\n",
       "      <th></th>\n",
       "      <th>Tỉnh Thành</th>\n",
       "      <th>Mức Độ Tìm Kiếm</th>\n",
       "    </tr>\n",
       "  </thead>\n",
       "  <tbody>\n",
       "    <tr>\n",
       "      <th>0</th>\n",
       "      <td>Ninh Thuận</td>\n",
       "      <td>100</td>\n",
       "    </tr>\n",
       "    <tr>\n",
       "      <th>1</th>\n",
       "      <td>Bình Thuận</td>\n",
       "      <td>88</td>\n",
       "    </tr>\n",
       "    <tr>\n",
       "      <th>2</th>\n",
       "      <td>Tây Ninh</td>\n",
       "      <td>83</td>\n",
       "    </tr>\n",
       "    <tr>\n",
       "      <th>3</th>\n",
       "      <td>An Giang</td>\n",
       "      <td>77</td>\n",
       "    </tr>\n",
       "    <tr>\n",
       "      <th>4</th>\n",
       "      <td>Bến Tre</td>\n",
       "      <td>74</td>\n",
       "    </tr>\n",
       "    <tr>\n",
       "      <th>...</th>\n",
       "      <td>...</td>\n",
       "      <td>...</td>\n",
       "    </tr>\n",
       "    <tr>\n",
       "      <th>60</th>\n",
       "      <td>Hà Nam</td>\n",
       "      <td>39</td>\n",
       "    </tr>\n",
       "    <tr>\n",
       "      <th>61</th>\n",
       "      <td>Ninh Bình</td>\n",
       "      <td>38</td>\n",
       "    </tr>\n",
       "    <tr>\n",
       "      <th>62</th>\n",
       "      <td>Yên Bái</td>\n",
       "      <td>37</td>\n",
       "    </tr>\n",
       "    <tr>\n",
       "      <th>63</th>\n",
       "      <td>Thái Nguyên</td>\n",
       "      <td>35</td>\n",
       "    </tr>\n",
       "    <tr>\n",
       "      <th>64</th>\n",
       "      <td>Lào Cai</td>\n",
       "      <td>34</td>\n",
       "    </tr>\n",
       "  </tbody>\n",
       "</table>\n",
       "<p>65 rows × 2 columns</p>\n",
       "</div>"
      ],
      "text/plain": [
       "     Tỉnh Thành Mức Độ Tìm Kiếm\n",
       "0    Ninh Thuận             100\n",
       "1    Bình Thuận              88\n",
       "2      Tây Ninh              83\n",
       "3      An Giang              77\n",
       "4       Bến Tre              74\n",
       "..          ...             ...\n",
       "60       Hà Nam              39\n",
       "61    Ninh Bình              38\n",
       "62      Yên Bái              37\n",
       "63  Thái Nguyên              35\n",
       "64      Lào Cai              34\n",
       "\n",
       "[65 rows x 2 columns]"
      ]
     },
     "execution_count": 16,
     "metadata": {},
     "output_type": "execute_result"
    }
   ],
   "source": [
    "tab"
   ]
  },
  {
   "cell_type": "code",
   "execution_count": null,
   "id": "c7121a2c",
   "metadata": {},
   "outputs": [],
   "source": []
  }
 ],
 "metadata": {
  "kernelspec": {
   "display_name": "Python 3.10.6 64-bit ('3.10.6')",
   "language": "python",
   "name": "python3"
  },
  "language_info": {
   "codemirror_mode": {
    "name": "ipython",
    "version": 3
   },
   "file_extension": ".py",
   "mimetype": "text/x-python",
   "name": "python",
   "nbconvert_exporter": "python",
   "pygments_lexer": "ipython3",
   "version": "3.10.6"
  },
  "vscode": {
   "interpreter": {
    "hash": "89e8354a88354ecf7ffb299b56239fb0ecc48c48d372ba43f5b93cc4e944f72d"
   }
  }
 },
 "nbformat": 4,
 "nbformat_minor": 5
}
