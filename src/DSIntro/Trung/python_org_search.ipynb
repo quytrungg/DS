{
 "cells": [
  {
   "cell_type": "code",
   "execution_count": 1,
   "metadata": {},
   "outputs": [],
   "source": [
    "from selenium import webdriver\n",
    "from selenium.webdriver.common.keys import Keys\n",
    "from selenium.webdriver.common.by import By\n",
    "from webdriver_manager.firefox import GeckoDriverManager\n",
    "from webdriver_manager.chrome import ChromeDriverManager"
   ]
  },
  {
   "cell_type": "code",
   "execution_count": 2,
   "metadata": {},
   "outputs": [],
   "source": [
    "def ChromeDriver():\n",
    "    return webdriver.Chrome(ChromeDriverManager().install())"
   ]
  },
  {
   "cell_type": "code",
   "execution_count": 3,
   "metadata": {},
   "outputs": [],
   "source": [
    "def FirefoxDriver():\n",
    "    return webdriver.Firefox(executable_path=GeckoDriverManager().install())"
   ]
  },
  {
   "cell_type": "code",
   "execution_count": 4,
   "metadata": {},
   "outputs": [
    {
     "name": "stderr",
     "output_type": "stream",
     "text": [
      "[WDM] - Downloading: 19.0kB [00:00, 4.26MB/s]                   \n",
      "[WDM] - Downloading: 100%|██████████| 2.01M/2.01M [00:02<00:00, 917kB/s] \n",
      "/var/folders/m7/368g6v5d01g4x7brwcqrgvg40000gn/T/ipykernel_51666/4008909042.py:2: DeprecationWarning: executable_path has been deprecated, please pass in a Service object\n",
      "  return webdriver.Firefox(executable_path=GeckoDriverManager().install())\n"
     ]
    },
    {
     "name": "stdout",
     "output_type": "stream",
     "text": [
      "<selenium.webdriver.common.html5.application_cache.ApplicationCache object at 0x1099ec100>\n"
     ]
    }
   ],
   "source": [
    "driver = FirefoxDriver()\n",
    "driver.get(\"http://www.python.org\")\n",
    "print(driver.application_cache)\n",
    "assert \"Welcome to Python.org\" in driver.title\n",
    "elem = driver.find_element(By.NAME, \"q\")\n",
    "elem.clear()\n",
    "elem.send_keys(\"sklearn\")\n",
    "elem.send_keys(Keys.ENTER)\n",
    "assert \"No results found.\" not in driver.page_source\n",
    "# driver.close()"
   ]
  },
  {
   "cell_type": "code",
   "execution_count": 5,
   "metadata": {},
   "outputs": [],
   "source": [
    "# import unittest\n",
    "\n",
    "# class PythonOrgSearch(unittest.TestCase):\n",
    "\n",
    "#     def setUp(self):\n",
    "#         self.driver = webdriver.Firefox(executable_path=GeckoDriverManager().install())\n",
    "\n",
    "#     def test_search_in_python_org(self):\n",
    "#         driver = self.driver\n",
    "#         driver.get(\"http://www.python.org\")\n",
    "#         self.assertIn(\"Python\", driver.title)\n",
    "#         elem = driver.find_element(By.NAME, \"q\")\n",
    "#         elem.send_keys(\"pycon\")\n",
    "#         elem.send_keys(Keys.RETURN)\n",
    "#         self.assertNotIn(\"No results found.\", driver.page_source)\n",
    "\n",
    "\n",
    "#     def tearDown(self):\n",
    "#         self.driver.close()\n",
    "\n",
    "# if __name__ == \"__main__\":\n",
    "#     unittest.main()"
   ]
  },
  {
   "cell_type": "code",
   "execution_count": null,
   "metadata": {},
   "outputs": [],
   "source": [
    "driver = FirefoxDriver()\n",
    "driver.get(\"http://www.python.org\")\n",
    "print(driver.application_cache)\n",
    "assert \"Welcome to Python.org\" in driver.title\n",
    "elem = driver.find_element(By.ID, \"about\")\n",
    "all_options = elem.find_elements(By.TAG_NAME, \"li\")\n",
    "for option in all_options:\n",
    "    temp = option.find_element(By.TAG_NAME, 'a')\n",
    "    print(\"Value is: %s\" % temp.get_attribute('href'))\n",
    "    option.click()\n",
    "assert \"No results found.\" not in driver.page_source\n",
    "# driver.close()"
   ]
  },
  {
   "cell_type": "code",
   "execution_count": null,
   "metadata": {},
   "outputs": [],
   "source": []
  }
 ],
 "metadata": {
  "kernelspec": {
   "display_name": "Python 3.10.6 64-bit ('3.10.6')",
   "language": "python",
   "name": "python3"
  },
  "language_info": {
   "codemirror_mode": {
    "name": "ipython",
    "version": 3
   },
   "file_extension": ".py",
   "mimetype": "text/x-python",
   "name": "python",
   "nbconvert_exporter": "python",
   "pygments_lexer": "ipython3",
   "version": "3.10.6"
  },
  "orig_nbformat": 4,
  "vscode": {
   "interpreter": {
    "hash": "89e8354a88354ecf7ffb299b56239fb0ecc48c48d372ba43f5b93cc4e944f72d"
   }
  }
 },
 "nbformat": 4,
 "nbformat_minor": 2
}
