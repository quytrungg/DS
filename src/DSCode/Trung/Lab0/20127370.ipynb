{
 "cells": [
  {
   "cell_type": "markdown",
   "id": "cd4bf486",
   "metadata": {},
   "source": [
    "# Lab 0: Warmup - Basic Python\n",
    "\n",
    "\n",
    "Firstly, please give your information\n",
    "\n",
    "Student ID: 20127370\n",
    "\n",
    "Student Name: Mai Quý Trung\n"
   ]
  },
  {
   "cell_type": "markdown",
   "id": "5366c683",
   "metadata": {},
   "source": [
    "## Jupyter and Colab Notebooks\n",
    "\n",
    "\n",
    "Before giving you a brief introduction to Python, we will briefly talk about *notebook*. Jupyter notebook is an open source web application that allows us to write (code) and run Python code locally on your computer, particularly in your browser (Google Chrome, Mozilla Firefox, and so on). Furthermore, you can use Visual Studio Code to create a notebook with some extensions. Jupyter notebook is very easy to use; its documents contain live code, equations, visualizations, and text, so that they are widely used in the scientific computing community.\n",
    "\n",
    "Why the name is Jupyter Notebooks. Because the name, Jupyter, comes from the core supported programming languages that Jupyter Notebooks supports. Those programming languages are Julia, Python, and R.\n",
    "\n",
    "\n",
    "Google Colab, or Colab for short, is a Google Jupyter notebook that is specifically familiar with machine learning, data analysis, and scientific computing and runs entirely on the cloud. Colab is essentially a Jupyter Notebook that is free, does not require you to set up an environment, has many installed packages, is simple to share with others, and benefits greatly from hardware accelerators such as GPU and TPU. \n",
    "\n",
    "**Run Tutorial in Colab (onlinely)**: Upload this tutorial on your Google Drive and open it with Colab.\n",
    "\n",
    "**Run Run Tutorial in Jupyter Notebook (locally)**: You need to install Anaconda to provide the environment that allows you to create a virtual environment by installing packages, etc. (Depend your operating system, please read the link https://docs.anaconda.com/anaconda/install/)\n",
    "\n",
    "In this tutorial, you will learn basic Python. At first, you setup the Conda environment by using the file `min_ds-env.yml`. Then, in the **TODO** task, you write Python code to finish this tutorial. "
   ]
  },
  {
   "cell_type": "markdown",
   "id": "42cab62f",
   "metadata": {},
   "source": [
    "## Primitive Datatypes and Operators"
   ]
  },
  {
   "cell_type": "code",
   "execution_count": 1,
   "id": "5189d8da",
   "metadata": {},
   "outputs": [
    {
     "data": {
      "text/plain": [
       "3"
      ]
     },
     "execution_count": 1,
     "metadata": {},
     "output_type": "execute_result"
    }
   ],
   "source": [
    "# You have numbers\n",
    "3  # => 3\n"
   ]
  },
  {
   "cell_type": "code",
   "execution_count": 2,
   "id": "b1125d32",
   "metadata": {},
   "outputs": [
    {
     "name": "stdout",
     "output_type": "stream",
     "text": [
      "Something\n",
      "4\n"
     ]
    }
   ],
   "source": [
    "# To print something\n",
    "print(\"Something\")\n",
    "print(4)\n"
   ]
  },
  {
   "cell_type": "code",
   "execution_count": 3,
   "id": "09e1e829",
   "metadata": {},
   "outputs": [
    {
     "name": "stdout",
     "output_type": "stream",
     "text": [
      "2\n",
      "7\n",
      "20\n",
      "7.0\n"
     ]
    }
   ],
   "source": [
    "# Math is what you would expect\n",
    "print(1 + 1)   # => 2\n",
    "print(8 - 1)   # => 7\n",
    "print(10 * 2)  # => 20\n",
    "print(35 / 5)  # => 7.0\n"
   ]
  },
  {
   "cell_type": "code",
   "execution_count": 4,
   "id": "40c78505",
   "metadata": {},
   "outputs": [
    {
     "name": "stdout",
     "output_type": "stream",
     "text": [
      "5\n",
      "-5\n",
      "-5\n",
      "5\n",
      "5.0\n",
      "5.0\n",
      "5.0\n",
      "3.0\n"
     ]
    }
   ],
   "source": [
    "# Integer division rounds down for both positive and negative numbers.\n",
    "print(10 // 2)\n",
    "print(-10 // 2)\n",
    "print(10 // -2)\n",
    "print(-10 // -2)\n",
    "\n",
    "print(10.0 // 2)\n",
    "print(10 // 2.0)\n",
    "print(10.0 // 2.0)\n",
    "\n",
    "print(10.0 // 3)\n"
   ]
  },
  {
   "cell_type": "code",
   "execution_count": 5,
   "id": "787d1280",
   "metadata": {},
   "outputs": [
    {
     "name": "stdout",
     "output_type": "stream",
     "text": [
      "3.3333333333333335\n"
     ]
    }
   ],
   "source": [
    "# The result of division is always a float\n",
    "print(10.0 / 3)  # => 3.3333333333333335\n"
   ]
  },
  {
   "cell_type": "code",
   "execution_count": 6,
   "id": "26a33172",
   "metadata": {},
   "outputs": [
    {
     "name": "stdout",
     "output_type": "stream",
     "text": [
      "3\n",
      "2\n",
      "-2\n",
      "-3\n"
     ]
    }
   ],
   "source": [
    "# Modulo operation\n",
    "print(8 % 5)\n",
    "print(-8 % 5)\n",
    "\n",
    "print(8 % -5)\n",
    "print(-8 % -5)\n",
    "\n",
    "# TODO: What is the issue here?\n",
    "# The calculation -8 % 5 and -8 % -5 should have a result of -3 instead of 2 and -3 respectively.\n",
    "# And the calculation 8 % -5 should have a result of 3 instead of -2."
   ]
  },
  {
   "cell_type": "code",
   "execution_count": 7,
   "id": "1f9f7096",
   "metadata": {},
   "outputs": [
    {
     "name": "stdout",
     "output_type": "stream",
     "text": [
      "64\n"
     ]
    }
   ],
   "source": [
    "# Exponentiation (x**y, x to the yth power)\n",
    "print(4**3)\n"
   ]
  },
  {
   "cell_type": "code",
   "execution_count": 8,
   "id": "6d9f89f5",
   "metadata": {},
   "outputs": [
    {
     "name": "stdout",
     "output_type": "stream",
     "text": [
      "8\n",
      "7\n"
     ]
    }
   ],
   "source": [
    "# Enforce precedence with parentheses\n",
    "\n",
    "equation_1 = (1 + 3) * 2\n",
    "equation_2 = 1 + 3 * 2\n",
    "\n",
    "print(equation_1)\n",
    "print(equation_2)\n"
   ]
  },
  {
   "cell_type": "code",
   "execution_count": 9,
   "id": "98486ed5",
   "metadata": {},
   "outputs": [
    {
     "name": "stdout",
     "output_type": "stream",
     "text": [
      "True\n",
      "False\n",
      "False\n",
      "True\n"
     ]
    }
   ],
   "source": [
    "# Boolean values are primitives (Note: the capitalization)\n",
    "print(True)   # => True\n",
    "print(False)  # => False\n",
    "\n",
    "# negate with not\n",
    "print(not True)   # => False\n",
    "print(not False)  # => True\n"
   ]
  },
  {
   "cell_type": "code",
   "execution_count": 10,
   "id": "b515c277",
   "metadata": {},
   "outputs": [
    {
     "name": "stdout",
     "output_type": "stream",
     "text": [
      "False\n",
      "True\n"
     ]
    }
   ],
   "source": [
    "# Boolean Operators\n",
    "# Note \"and\" and \"or\" are case-sensitive\n",
    "print(True and False)  # => False\n",
    "print(False or True)   # => True\n"
   ]
  },
  {
   "cell_type": "code",
   "execution_count": 11,
   "id": "79f306d0",
   "metadata": {},
   "outputs": [
    {
     "name": "stdout",
     "output_type": "stream",
     "text": [
      "2\n",
      "8\n",
      "-5\n"
     ]
    }
   ],
   "source": [
    "# True and False are actually 1 and 0 but with different keywords\n",
    "print(True + True) # => 2\n",
    "print(True * 8)    # => 8\n",
    "print(False - 5)   # => -5\n"
   ]
  },
  {
   "cell_type": "code",
   "execution_count": 12,
   "id": "72e5febd",
   "metadata": {},
   "outputs": [
    {
     "name": "stdout",
     "output_type": "stream",
     "text": [
      "True\n",
      "True\n",
      "False\n",
      "True\n"
     ]
    }
   ],
   "source": [
    "# Comparison operators look at the numerical value of True and False\n",
    "print(0 == False)  # => True\n",
    "print(1 == True)   # => True\n",
    "print(2 == True)   # => False\n",
    "print(-5 != False) # => True\n"
   ]
  },
  {
   "cell_type": "code",
   "execution_count": 13,
   "id": "aa7ee20f",
   "metadata": {},
   "outputs": [
    {
     "name": "stdout",
     "output_type": "stream",
     "text": [
      "False\n",
      "False\n",
      "False\n",
      "False\n",
      "False\n",
      "False\n",
      "True\n",
      "True\n"
     ]
    }
   ],
   "source": [
    "# None, 0, and empty strings/lists/dicts/tuples/sets all evaluate to False.\n",
    "# All other values are True\n",
    "print(bool(0))     # => False\n",
    "print(bool(\"\"))    # => False\n",
    "print(bool([]))    # => False\n",
    "print(bool({}))    # => False\n",
    "print(bool(()))    # => False\n",
    "print(bool(set())) # => False\n",
    "print(bool(4))     # => True\n",
    "print(bool(-6))    # => True\n"
   ]
  },
  {
   "cell_type": "code",
   "execution_count": 14,
   "id": "5cdd8750",
   "metadata": {},
   "outputs": [
    {
     "name": "stdout",
     "output_type": "stream",
     "text": [
      "False\n",
      "True\n",
      "0\n",
      "True\n",
      "True\n",
      "-5\n"
     ]
    }
   ],
   "source": [
    "# Using boolean logical operators on ints casts them to booleans for evaluation, but their non-cast value is returned\n",
    "\n",
    "# Don't mix up with bool(ints) and bitwise and/or (&,|)\n",
    "\n",
    "print(bool(0))     # => False\n",
    "print(bool(2))     # => True\n",
    "print(0 and 2)     # => 0\n",
    "print(bool(-5))    # => True\n",
    "print(bool(2))     # => True\n",
    "print(-5 or 0)     # => -5\n"
   ]
  },
  {
   "cell_type": "code",
   "execution_count": 15,
   "id": "2a73b1e7",
   "metadata": {},
   "outputs": [
    {
     "data": {
      "text/plain": [
       "False"
      ]
     },
     "execution_count": 15,
     "metadata": {},
     "output_type": "execute_result"
    }
   ],
   "source": [
    "# Equality is ==\n",
    "1 == 1  # => True\n",
    "2 == 1  # => False\n"
   ]
  },
  {
   "cell_type": "code",
   "execution_count": 16,
   "id": "cd332f37",
   "metadata": {},
   "outputs": [
    {
     "data": {
      "text/plain": [
       "True"
      ]
     },
     "execution_count": 16,
     "metadata": {},
     "output_type": "execute_result"
    }
   ],
   "source": [
    "# Inequality is !=\n",
    "1 != 1  # => False\n",
    "2 != 1  # => True\n"
   ]
  },
  {
   "cell_type": "code",
   "execution_count": 17,
   "id": "74fb2fe4",
   "metadata": {},
   "outputs": [
    {
     "data": {
      "text/plain": [
       "True"
      ]
     },
     "execution_count": 17,
     "metadata": {},
     "output_type": "execute_result"
    }
   ],
   "source": [
    "# More comparisons\n",
    "1 < 10  # => True\n",
    "1 > 10  # => False\n",
    "2 <= 2  # => True\n",
    "2 >= 2  # => True\n"
   ]
  },
  {
   "cell_type": "code",
   "execution_count": 18,
   "id": "07c8c10d",
   "metadata": {},
   "outputs": [
    {
     "data": {
      "text/plain": [
       "False"
      ]
     },
     "execution_count": 18,
     "metadata": {},
     "output_type": "execute_result"
    }
   ],
   "source": [
    "# Seeing whether a value is in a range\n",
    "1 < 2 and 2 < 3  # => True\n",
    "2 < 3 and 3 < 2  # => False\n"
   ]
  },
  {
   "cell_type": "code",
   "execution_count": 19,
   "id": "d98a222c",
   "metadata": {},
   "outputs": [
    {
     "data": {
      "text/plain": [
       "False"
      ]
     },
     "execution_count": 19,
     "metadata": {},
     "output_type": "execute_result"
    }
   ],
   "source": [
    "# Chaining makes this look nicer\n",
    "1 < 2 < 3  # => True\n",
    "2 < 3 < 2  # => False\n"
   ]
  },
  {
   "cell_type": "code",
   "execution_count": 20,
   "id": "af03d0d5",
   "metadata": {},
   "outputs": [
    {
     "name": "stdout",
     "output_type": "stream",
     "text": [
      "True\n",
      "True\n",
      "True\n",
      "False\n",
      "True\n",
      "False\n"
     ]
    }
   ],
   "source": [
    "# (is vs. ==) is checks if two variables refer to the same object, but == checks\n",
    "# if the objects pointed to have the same values.\n",
    "\n",
    "from copy import copy\n",
    "\n",
    "\n",
    "a = [1, 2, 3, 4]  # Point a at a new list, [1, 2, 3, 4]\n",
    "b = a             # Point b at what a is pointing to\n",
    "\n",
    "print(b is a)            # => True, a and b refer to the same object\n",
    "print(b == a)            # => True, a's and b's objects are equal\n",
    "print(b == [1, 2, 3, 4])  \n",
    "# Point b at a new list, [1, 2, 3, 4]\n",
    "b = [1, 2, 3, 4]\n",
    "print(b is a)            # => False, a and b do not refer to the same object\n",
    "print(b == a)            # => True, a's and b's objects are equal\n",
    "\n",
    "a_cp = copy(a)\n",
    "\n",
    "print(a_cp is a)     \n",
    "\n",
    "# TODO: Ouput: False\n",
    "# explain why?\n",
    "# False because a and a_cp do not rerfer the same object, which means they do not point to the sam id (address).\n",
    "# And a_cp is a copy variable of a, therefore they will have the same value but not the same id."
   ]
  },
  {
   "cell_type": "code",
   "execution_count": 21,
   "id": "6c1d229d",
   "metadata": {},
   "outputs": [
    {
     "name": "stdout",
     "output_type": "stream",
     "text": [
      "This is a string.\n",
      "This is also a string.\n"
     ]
    }
   ],
   "source": [
    "# Strings are created with \" or '\n",
    "print(\"This is a string.\")\n",
    "\n",
    "print('This is also a string.')\n"
   ]
  },
  {
   "cell_type": "code",
   "execution_count": 22,
   "id": "2ef028a7",
   "metadata": {},
   "outputs": [
    {
     "name": "stdout",
     "output_type": "stream",
     "text": [
      "Hello world!\n",
      "Hello world!\n"
     ]
    }
   ],
   "source": [
    "# Strings can be added too\n",
    "print(\"Hello \" + \"world!\")  # => \"Hello world!\"\n",
    "\n",
    "# String literals (but not variables) can be concatenated without using '+'\n",
    "print(\"Hello \" \"world!\")    # => \"Hello world!\"\n"
   ]
  },
  {
   "cell_type": "code",
   "execution_count": 23,
   "id": "d85ee06a",
   "metadata": {},
   "outputs": [
    {
     "name": "stdout",
     "output_type": "stream",
     "text": [
      "H\n"
     ]
    }
   ],
   "source": [
    "# A string can be treated like a list of characters\n",
    "print(\"Hello world!\"[0])  # => 'H'\n"
   ]
  },
  {
   "cell_type": "code",
   "execution_count": 24,
   "id": "1a468388",
   "metadata": {},
   "outputs": [
    {
     "data": {
      "text/plain": [
       "16"
      ]
     },
     "execution_count": 24,
     "metadata": {},
     "output_type": "execute_result"
    }
   ],
   "source": [
    "# You can find the length of a string\n",
    "len(\"This is a string\")  # => 16\n"
   ]
  },
  {
   "cell_type": "code",
   "execution_count": 25,
   "id": "bb65f87f",
   "metadata": {},
   "outputs": [
    {
     "name": "stdout",
     "output_type": "stream",
     "text": [
      "I said my name is Mai Quý Trung.\n",
      "Mai Quý Trung is 13 characters long.\n",
      "I said my name is Mai Quý Trung.\n",
      "Mai Quý Trung is 13 characters long.\n"
     ]
    }
   ],
   "source": [
    "# You can also format using f-strings or formatted string literals (in Python 3.6+)\n",
    "\n",
    "# TODO:\n",
    "# Replace your_name with your name\n",
    "\n",
    "name = \"Mai Quý Trung\"\n",
    "print(f\"I said my name is {name}.\")  # => \"I said my name is your_name\"\n",
    "\n",
    "# You can basically put any Python expression inside the braces and it will be output in the string.\n",
    "# => \"your_name is {length of your name} characters long.\"\n",
    "print(f\"{name} is {len(name)} characters long.\")\n",
    "\n",
    "\n",
    "# Or you can use .format method\n",
    "print(\"I said my name is {}.\".format(name))\n",
    "\n",
    "print(\"{} is {} characters long.\".format(name, len(name)))\n"
   ]
  },
  {
   "cell_type": "code",
   "execution_count": 26,
   "id": "d933d9c8",
   "metadata": {},
   "outputs": [],
   "source": [
    "# None is an object\n",
    "None  # => None\n"
   ]
  },
  {
   "cell_type": "code",
   "execution_count": 27,
   "id": "0dd2773a",
   "metadata": {},
   "outputs": [
    {
     "name": "stdout",
     "output_type": "stream",
     "text": [
      "False\n",
      "True\n"
     ]
    }
   ],
   "source": [
    "# Use the equality \"==\" symbol to compare objects to None\n",
    "\n",
    "print(\"etc\" == None)  # => False\n",
    "print(None == None)   # => True\n"
   ]
  },
  {
   "cell_type": "code",
   "execution_count": 28,
   "id": "581b6d02",
   "metadata": {},
   "outputs": [
    {
     "name": "stdout",
     "output_type": "stream",
     "text": [
      "False\n",
      "False\n",
      "False\n",
      "False\n",
      "False\n",
      "False\n"
     ]
    }
   ],
   "source": [
    "# None, 0, and empty strings/lists/dicts/tuples/sets all evaluate to False.\n",
    "# All other values are True\n",
    "\n",
    "print(bool(0))     # => False\n",
    "print(bool(\"\"))    # => False\n",
    "print(bool([]))    # => False\n",
    "print(bool({}))    # => False\n",
    "print(bool(()))    # => False\n",
    "print(bool(set()))  # => False\n"
   ]
  },
  {
   "cell_type": "markdown",
   "id": "cb0440bf",
   "metadata": {},
   "source": [
    "## Variables and Collections"
   ]
  },
  {
   "cell_type": "code",
   "execution_count": 29,
   "id": "5370fcdf",
   "metadata": {},
   "outputs": [
    {
     "data": {
      "text/plain": [
       "5"
      ]
     },
     "execution_count": 29,
     "metadata": {},
     "output_type": "execute_result"
    }
   ],
   "source": [
    "# There are no declarations, only assignments.\n",
    "# Convention is to use lower_case_with_underscores\n",
    "some_var = 5\n",
    "some_var  # => 5\n"
   ]
  },
  {
   "cell_type": "code",
   "execution_count": 30,
   "id": "1abaaa4e",
   "metadata": {},
   "outputs": [],
   "source": [
    "# Accessing a previously unassigned variable is an exception.\n",
    "# See Control Flow to learn more about exception handling.\n",
    "# some_unknown_var  # Raises a NameError\n"
   ]
  },
  {
   "cell_type": "code",
   "execution_count": 31,
   "id": "927b3caa",
   "metadata": {},
   "outputs": [
    {
     "data": {
      "text/plain": [
       "'nay!'"
      ]
     },
     "execution_count": 31,
     "metadata": {},
     "output_type": "execute_result"
    }
   ],
   "source": [
    "# if can be used as an expression\n",
    "# Equivalent of C's '?:' ternary operator\n",
    "\"yay!\" if 0 > 1 else \"nay!\"  # => \"nay!\"\n"
   ]
  },
  {
   "cell_type": "code",
   "execution_count": 32,
   "id": "69669aaf",
   "metadata": {},
   "outputs": [],
   "source": [
    "# Lists store sequences\n",
    "li = []\n",
    "\n",
    "# You can start with a prefilled list\n",
    "other_li = [4, 5, 6]\n"
   ]
  },
  {
   "cell_type": "code",
   "execution_count": 33,
   "id": "56ea1a56",
   "metadata": {},
   "outputs": [
    {
     "name": "stdout",
     "output_type": "stream",
     "text": [
      "[1]\n",
      "[1, 2]\n",
      "[1, 2, 4]\n",
      "[1, 2, 4, 3]\n"
     ]
    }
   ],
   "source": [
    "# Add stuff to the end of a list with append\n",
    "li.append(1)    # li is now [1]\n",
    "print(li)\n",
    "\n",
    "li.append(2)    # li is now [1, 2]\n",
    "print(li)\n",
    "\n",
    "li.append(4)    # li is now [1, 2, 4]\n",
    "print(li)\n",
    "\n",
    "li.append(3)    # li is now [1, 2, 4, 3]\n",
    "print(li)\n"
   ]
  },
  {
   "cell_type": "code",
   "execution_count": 34,
   "id": "f233fd0c",
   "metadata": {},
   "outputs": [
    {
     "name": "stdout",
     "output_type": "stream",
     "text": [
      "[1, 2, 4]\n"
     ]
    }
   ],
   "source": [
    "# Remove from the end with pop\n",
    "li.pop()        # => 3 and li is now [1, 2, 4]\n",
    "print(li)\n"
   ]
  },
  {
   "cell_type": "code",
   "execution_count": 35,
   "id": "fad587b5",
   "metadata": {},
   "outputs": [
    {
     "name": "stdout",
     "output_type": "stream",
     "text": [
      "[1, 2, 4, 3]\n"
     ]
    }
   ],
   "source": [
    "# Let's put it back\n",
    "li.append(3)    # li is now [1, 2, 4, 3] again.\n",
    "print(li)\n"
   ]
  },
  {
   "cell_type": "code",
   "execution_count": 36,
   "id": "70edaeec",
   "metadata": {},
   "outputs": [
    {
     "name": "stdout",
     "output_type": "stream",
     "text": [
      "1\n"
     ]
    }
   ],
   "source": [
    "# Access a list like you would any array\n",
    "print(li[0])   # => 1\n"
   ]
  },
  {
   "cell_type": "code",
   "execution_count": 37,
   "id": "ef9cb885",
   "metadata": {},
   "outputs": [
    {
     "name": "stdout",
     "output_type": "stream",
     "text": [
      "3\n"
     ]
    }
   ],
   "source": [
    "# Look at the last element\n",
    "print(li[-1])  # => 3"
   ]
  },
  {
   "cell_type": "code",
   "execution_count": 38,
   "id": "6ce30815",
   "metadata": {},
   "outputs": [],
   "source": [
    "# Looking out of bounds is an IndexError\n",
    "#print(li[4])  # Raises an IndexError"
   ]
  },
  {
   "cell_type": "code",
   "execution_count": 39,
   "id": "ca1b0c81",
   "metadata": {},
   "outputs": [
    {
     "name": "stdout",
     "output_type": "stream",
     "text": [
      "[2, 4]\n",
      "[4, 3]\n",
      "[1, 2, 4]\n",
      "[1, 4]\n",
      "[3, 4, 2, 1]\n"
     ]
    }
   ],
   "source": [
    "# You can look at ranges with slice syntax.\n",
    "# The start index is included, the end index is not\n",
    "# (It's a closed/open range for you mathy types.)\n",
    "\n",
    "print(li[1:3])   # Return list from index 1 to 3 => [2, 4]\n",
    "print(li[2:])    # Return list starting from index 2 => [4, 3]\n",
    "print(li[:3])    # Return list from beginning until index 3  => [1, 2, 4]\n",
    "print(li[::2])   # Return list selecting every second entry => [1, 4]\n",
    "print(li[::-1])  # Return list in reverse order => [3, 4, 2, 1]\n",
    "\n",
    "# Use any combination of these to make advanced slices\n",
    "# li[start:end:step]\n"
   ]
  },
  {
   "cell_type": "code",
   "execution_count": 40,
   "id": "e5c2718a",
   "metadata": {},
   "outputs": [],
   "source": [
    "# Make a one layer deep copy using slices\n",
    "li2 = li[:]  # => li2 = [1, 2, 4, 3] but (li2 is li) will result in false.\n"
   ]
  },
  {
   "cell_type": "code",
   "execution_count": 41,
   "id": "4b6c8895",
   "metadata": {},
   "outputs": [],
   "source": [
    "# Remove arbitrary elements from a list with \"del\"\n",
    "del li[2]  # li is now [1, 2, 3]\n"
   ]
  },
  {
   "cell_type": "code",
   "execution_count": 42,
   "id": "a58a5507",
   "metadata": {},
   "outputs": [
    {
     "name": "stdout",
     "output_type": "stream",
     "text": [
      "[1, 2, 3]\n"
     ]
    }
   ],
   "source": [
    "# Remove first occurrence of a value\n",
    "print(li)\n",
    "li.remove(2)  # li is now [1, 3]\n",
    "\n",
    "\n",
    "#li.remove(2)  # Raises a ValueError as 2 is not in the list\n"
   ]
  },
  {
   "cell_type": "code",
   "execution_count": 43,
   "id": "2179bdc0",
   "metadata": {},
   "outputs": [
    {
     "name": "stdout",
     "output_type": "stream",
     "text": [
      "[1, 2, 3]\n"
     ]
    }
   ],
   "source": [
    "# Insert an element at a specific index\n",
    "li.insert(1, 2)  # li is now [1, 2, 3] again\n",
    "print(li)\n"
   ]
  },
  {
   "cell_type": "code",
   "execution_count": 44,
   "id": "82a056e5",
   "metadata": {},
   "outputs": [
    {
     "data": {
      "text/plain": [
       "1"
      ]
     },
     "execution_count": 44,
     "metadata": {},
     "output_type": "execute_result"
    }
   ],
   "source": [
    "# Get the index of the first item found matching the argument\n",
    "li.index(2)  # => 1\n",
    "\n",
    "#li.index(4)  # Raises a ValueError as 4 is not in the list\n"
   ]
  },
  {
   "cell_type": "code",
   "execution_count": 45,
   "id": "a864d15c",
   "metadata": {},
   "outputs": [
    {
     "data": {
      "text/plain": [
       "[1, 2, 3, 4, 5, 6]"
      ]
     },
     "execution_count": 45,
     "metadata": {},
     "output_type": "execute_result"
    }
   ],
   "source": [
    "# You can add lists\n",
    "# Note: values for li and for other_li are not modified.\n",
    "li + other_li  # => [1, 2, 3, 4, 5, 6]\n"
   ]
  },
  {
   "cell_type": "code",
   "execution_count": 46,
   "id": "b59ddfbc",
   "metadata": {},
   "outputs": [],
   "source": [
    "# Concatenate lists with \"extend()\"\n",
    "li.extend(other_li)  # Now li is [1, 2, 3, 4, 5, 6]\n"
   ]
  },
  {
   "cell_type": "code",
   "execution_count": 47,
   "id": "4bcc3c7a",
   "metadata": {},
   "outputs": [
    {
     "data": {
      "text/plain": [
       "[1, 2, 3, 4, 5, 6]"
      ]
     },
     "execution_count": 47,
     "metadata": {},
     "output_type": "execute_result"
    }
   ],
   "source": [
    "li"
   ]
  },
  {
   "cell_type": "code",
   "execution_count": 48,
   "id": "6eccdc32",
   "metadata": {},
   "outputs": [
    {
     "data": {
      "text/plain": [
       "True"
      ]
     },
     "execution_count": 48,
     "metadata": {},
     "output_type": "execute_result"
    }
   ],
   "source": [
    "# Check for existence in a list with \"in\"\n",
    "1 in li  # => True\n"
   ]
  },
  {
   "cell_type": "code",
   "execution_count": 49,
   "id": "1017c918",
   "metadata": {},
   "outputs": [
    {
     "data": {
      "text/plain": [
       "6"
      ]
     },
     "execution_count": 49,
     "metadata": {},
     "output_type": "execute_result"
    }
   ],
   "source": [
    "# Examine the length with \"len()\"\n",
    "len(li)  # => 6\n"
   ]
  },
  {
   "cell_type": "code",
   "execution_count": 50,
   "id": "634a196d",
   "metadata": {},
   "outputs": [
    {
     "data": {
      "text/plain": [
       "1"
      ]
     },
     "execution_count": 50,
     "metadata": {},
     "output_type": "execute_result"
    }
   ],
   "source": [
    "# Tuples are like lists but are immutable.\n",
    "tup = (1, 2, 3)\n",
    "tup[0]      # => 1\n",
    "#tup[0] = 3  # Raises a TypeError\n"
   ]
  },
  {
   "cell_type": "code",
   "execution_count": 51,
   "id": "2e489a0b",
   "metadata": {},
   "outputs": [
    {
     "name": "stdout",
     "output_type": "stream",
     "text": [
      "<class 'int'>\n",
      "<class 'tuple'>\n",
      "<class 'tuple'>\n"
     ]
    }
   ],
   "source": [
    "# Note that a tuple of length one has to have a comma after the last element but\n",
    "# tuples of other lengths, even zero, do not.\n",
    "print(type((1)))   # => <class 'int'>\n",
    "print(type((1,)))  # => <class 'tuple'>\n",
    "print(type(()))    # => <class 'tuple'>\n"
   ]
  },
  {
   "cell_type": "code",
   "execution_count": 52,
   "id": "b4e5f3fd",
   "metadata": {},
   "outputs": [
    {
     "name": "stdout",
     "output_type": "stream",
     "text": [
      "3\n",
      "(1, 2, 3, 4, 5, 6)\n",
      "(1, 2)\n",
      "True\n"
     ]
    }
   ],
   "source": [
    "# You can do most of the list operations on tuples too\n",
    "print(len(tup))         # => 3\n",
    "print(tup + (4, 5, 6))  # => (1, 2, 3, 4, 5, 6)\n",
    "print(tup[:2])          # => (1, 2)\n",
    "print(2 in tup)         # => True\n"
   ]
  },
  {
   "cell_type": "code",
   "execution_count": 53,
   "id": "e5d35291",
   "metadata": {},
   "outputs": [],
   "source": [
    "# You can unpack tuples (or lists) into variables\n",
    "a, b, c = (1, 2, 3)  # a is now 1, b is now 2 and c is now 3\n",
    "\n",
    "# You can also do extended unpacking\n",
    "a, *b, c = (1, 2, 3, 4)  # a is now 1, b is now [2, 3] and c is now 4\n",
    "\n",
    "# Tuples are created by default if you leave out the parentheses\n",
    "d, e, f = 4, 5, 6  # tuple 4, 5, 6 is unpacked into variables d, e and f\n",
    "\n",
    "# respectively such that d = 4, e = 5 and f = 6\n",
    "# Now look how easy it is to swap two values\n",
    "e, d = d, e  # d is now 5 and e is now 4\n"
   ]
  },
  {
   "cell_type": "code",
   "execution_count": 54,
   "id": "300b9357",
   "metadata": {},
   "outputs": [
    {
     "name": "stdout",
     "output_type": "stream",
     "text": [
      "{}\n",
      "{'one': 1, 'two': 2, 'three': 3}\n"
     ]
    }
   ],
   "source": [
    "# Dictionaries store mappings from keys to values\n",
    "empty_dict = {}\n",
    "print(empty_dict)\n",
    "\n",
    "# Here is a prefilled dictionary\n",
    "filled_dict = {\"one\": 1, \"two\": 2, \"three\": 3}\n",
    "print(filled_dict)\n"
   ]
  },
  {
   "cell_type": "code",
   "execution_count": 55,
   "id": "088df3a2",
   "metadata": {},
   "outputs": [],
   "source": [
    "# Note keys for dictionaries have to be immutable types. This is to ensure that\n",
    "# the key can be converted to a constant hash value for quick look-ups.\n",
    "# Immutable types include ints, floats, strings, tuples.\n",
    "\n",
    "#invalid_dict = {[1,2,3]: \"123\"}  # => Raises a TypeError: unhashable type: 'list'\n",
    "\n",
    "\n",
    "valid_dict = {(1,2,3):[1,2,3]}   # Values can be of any type, however.\n"
   ]
  },
  {
   "cell_type": "code",
   "execution_count": 56,
   "id": "a9160e33",
   "metadata": {},
   "outputs": [
    {
     "data": {
      "text/plain": [
       "['one', 'two', 'three']"
      ]
     },
     "execution_count": 56,
     "metadata": {},
     "output_type": "execute_result"
    }
   ],
   "source": [
    "# Get all keys as an iterable with \"keys()\". We need to wrap the call in list()\n",
    "# to turn it into a list. We'll talk about those later.  Note - for Python\n",
    "# versions <3.7, dictionary key ordering is not guaranteed. Your results might\n",
    "# not match the example below exactly. However, as of Python 3.7, dictionary\n",
    "# items maintain the order at which they are inserted into the dictionary.\n",
    "\n",
    "list(filled_dict.keys())  # => [\"three\", \"two\", \"one\"] in Python <3.7\n",
    "list(filled_dict.keys())  # => [\"one\", \"two\", \"three\"] in Python 3.7+\n"
   ]
  },
  {
   "cell_type": "code",
   "execution_count": 57,
   "id": "3cdeb9c7",
   "metadata": {},
   "outputs": [
    {
     "data": {
      "text/plain": [
       "[1, 2, 3]"
      ]
     },
     "execution_count": 57,
     "metadata": {},
     "output_type": "execute_result"
    }
   ],
   "source": [
    "# Get all values as an iterable with \"values()\". Once again we need to wrap it\n",
    "# in list() to get it out of the iterable. Note - Same as above regarding key\n",
    "# ordering.\n",
    "list(filled_dict.values())  # => [3, 2, 1]  in Python <3.7\n",
    "list(filled_dict.values())  # => [1, 2, 3] in Python 3.7+\n"
   ]
  },
  {
   "cell_type": "code",
   "execution_count": 58,
   "id": "f5258a70",
   "metadata": {},
   "outputs": [
    {
     "data": {
      "text/plain": [
       "False"
      ]
     },
     "execution_count": 58,
     "metadata": {},
     "output_type": "execute_result"
    }
   ],
   "source": [
    "# Check for existence of keys in a dictionary with \"in\"\n",
    "\"one\" in filled_dict  # => True\n",
    "1 in filled_dict      # => False\n"
   ]
  },
  {
   "cell_type": "code",
   "execution_count": 59,
   "id": "7bc484fa",
   "metadata": {},
   "outputs": [],
   "source": [
    "# Looking up a non-existing key is a KeyError\n",
    "#filled_dict[\"four\"]  # KeyError\n"
   ]
  },
  {
   "cell_type": "code",
   "execution_count": 60,
   "id": "910cb014",
   "metadata": {},
   "outputs": [
    {
     "data": {
      "text/plain": [
       "4"
      ]
     },
     "execution_count": 60,
     "metadata": {},
     "output_type": "execute_result"
    }
   ],
   "source": [
    "# Use \"get()\" method to avoid the KeyError\n",
    "filled_dict.get(\"one\")      # => 1\n",
    "filled_dict.get(\"four\")     # => None\n",
    "\n",
    "# The get method supports a default argument when the value is missing\n",
    "filled_dict.get(\"one\", 4)   # => 1\n",
    "filled_dict.get(\"four\", 4)  # => 4\n"
   ]
  },
  {
   "cell_type": "code",
   "execution_count": 61,
   "id": "8620851e",
   "metadata": {},
   "outputs": [
    {
     "data": {
      "text/plain": [
       "5"
      ]
     },
     "execution_count": 61,
     "metadata": {},
     "output_type": "execute_result"
    }
   ],
   "source": [
    "# \"setdefault()\" inserts into a dictionary only if the given key isn't present\n",
    "filled_dict.setdefault(\"five\", 5)  # filled_dict[\"five\"] is set to 5\n",
    "filled_dict.setdefault(\"five\", 6)  # filled_dict[\"five\"] is still 5\n"
   ]
  },
  {
   "cell_type": "code",
   "execution_count": 62,
   "id": "adca3e7b",
   "metadata": {},
   "outputs": [],
   "source": [
    "# Adding to a dictionary\n",
    "filled_dict.update({\"four\": 4})  # => {\"one\": 1, \"two\": 2, \"three\": 3, \"four\": 4}\n",
    "filled_dict[\"four\"] = 4         # another way to add to dict\n"
   ]
  },
  {
   "cell_type": "code",
   "execution_count": 63,
   "id": "78fceb5e",
   "metadata": {},
   "outputs": [],
   "source": [
    "# Remove keys from a dictionary with del\n",
    "del filled_dict[\"one\"]  # Removes the key \"one\" from filled dict\n"
   ]
  },
  {
   "cell_type": "code",
   "execution_count": 64,
   "id": "834fbda0",
   "metadata": {},
   "outputs": [
    {
     "data": {
      "text/plain": [
       "{'a': 2}"
      ]
     },
     "execution_count": 64,
     "metadata": {},
     "output_type": "execute_result"
    }
   ],
   "source": [
    "# From Python 3.5 you can also use the additional unpacking options\n",
    "{'a': 1, **{'b': 2}}  # => {'a': 1, 'b': 2}\n",
    "{'a': 1, **{'a': 2}}  # => {'a': 2}\n"
   ]
  },
  {
   "cell_type": "code",
   "execution_count": 65,
   "id": "36200d43",
   "metadata": {},
   "outputs": [
    {
     "name": "stdout",
     "output_type": "stream",
     "text": [
      "set()\n"
     ]
    }
   ],
   "source": [
    "# Set\n",
    "empty_set = set()\n",
    "print(empty_set)\n"
   ]
  },
  {
   "cell_type": "code",
   "execution_count": 66,
   "id": "10e773c8",
   "metadata": {},
   "outputs": [
    {
     "name": "stdout",
     "output_type": "stream",
     "text": [
      "{1, 2, 3, 4, 6, 7}\n"
     ]
    }
   ],
   "source": [
    "some_set = {1, 1, 2, 2, 3, 4, 7, 6, 6}\n",
    "print(some_set) \n",
    "\n",
    "# TODO\n",
    "# Explain why we obtain this results?\n",
    "# We obtain this result because set data type will automatically remove duplicate values and sort them ascendingly."
   ]
  },
  {
   "cell_type": "code",
   "execution_count": 67,
   "id": "eb99df54",
   "metadata": {},
   "outputs": [],
   "source": [
    "# Similar to keys of a dictionary, elements of a set have to be immutable.\n",
    "#invalid_set = {[1], 1}  # => Raises a TypeError: unhashable type: 'list'\n",
    "valid_set = {(1,), 1}\n"
   ]
  },
  {
   "cell_type": "code",
   "execution_count": 68,
   "id": "6e2f653e",
   "metadata": {},
   "outputs": [
    {
     "name": "stdout",
     "output_type": "stream",
     "text": [
      "{1, 2, 3, 4, 5, 6, 7}\n"
     ]
    }
   ],
   "source": [
    "# Add one more item to the set\n",
    "filled_set = some_set\n",
    "filled_set.add(5)  # filled_set is now {1, 2, 3, 4, 5}\n",
    "# Sets do not have duplicate elements\n",
    "filled_set.add(5)  # it remains as before {1, 2, 3, 4, 5}\n",
    "\n",
    "print(filled_set)\n"
   ]
  },
  {
   "cell_type": "code",
   "execution_count": 69,
   "id": "5669fa28",
   "metadata": {},
   "outputs": [
    {
     "name": "stdout",
     "output_type": "stream",
     "text": [
      "{3, 4, 5, 6}\n"
     ]
    }
   ],
   "source": [
    "# Do set intersection with &\n",
    "other_set = {3, 4, 5, 6}\n",
    "\n",
    "print(filled_set & other_set)  # => {3, 4, 5}\n"
   ]
  },
  {
   "cell_type": "code",
   "execution_count": 70,
   "id": "b78d3871",
   "metadata": {},
   "outputs": [
    {
     "name": "stdout",
     "output_type": "stream",
     "text": [
      "{1, 2, 3, 4, 5, 6, 7}\n"
     ]
    }
   ],
   "source": [
    "# Do set union with |\n",
    "print(filled_set | other_set)  # => {1, 2, 3, 4, 5, 6}\n"
   ]
  },
  {
   "cell_type": "code",
   "execution_count": 71,
   "id": "e533eba7",
   "metadata": {},
   "outputs": [
    {
     "name": "stdout",
     "output_type": "stream",
     "text": [
      "{1, 4}\n"
     ]
    }
   ],
   "source": [
    "# Do set difference with -\n",
    "print({1, 2, 3, 4} - {2, 3, 5})  # => {1, 4}\n"
   ]
  },
  {
   "cell_type": "code",
   "execution_count": 72,
   "id": "7fa6b0cd",
   "metadata": {},
   "outputs": [
    {
     "name": "stdout",
     "output_type": "stream",
     "text": [
      "{1, 4, 5}\n"
     ]
    }
   ],
   "source": [
    "# Do set symmetric difference with ^\n",
    "print({1, 2, 3, 4} ^ {2, 3, 5})  # => {1, 4, 5}\n"
   ]
  },
  {
   "cell_type": "code",
   "execution_count": 73,
   "id": "9943dc1e",
   "metadata": {},
   "outputs": [
    {
     "name": "stdout",
     "output_type": "stream",
     "text": [
      "False\n"
     ]
    }
   ],
   "source": [
    "# Check if set on the left is a superset of set on the right\n",
    "print({1, 2} >= {1, 2, 3}) # => False\n"
   ]
  },
  {
   "cell_type": "code",
   "execution_count": 74,
   "id": "dfaf7c74",
   "metadata": {},
   "outputs": [
    {
     "data": {
      "text/plain": [
       "True"
      ]
     },
     "execution_count": 74,
     "metadata": {},
     "output_type": "execute_result"
    }
   ],
   "source": [
    "# Check if set on the left is a subset of set on the right\n",
    "{1, 2} <= {1, 2, 3} # => True\n"
   ]
  },
  {
   "cell_type": "code",
   "execution_count": 75,
   "id": "bc356cfb",
   "metadata": {},
   "outputs": [
    {
     "name": "stdout",
     "output_type": "stream",
     "text": [
      "True\n",
      "False\n"
     ]
    }
   ],
   "source": [
    "# Check for existence in a set with in\n",
    "print(2 in filled_set)   # => True\n",
    "\n",
    "print(10 in filled_set)  # => False\n"
   ]
  },
  {
   "cell_type": "code",
   "execution_count": 76,
   "id": "d9da2e1f",
   "metadata": {},
   "outputs": [
    {
     "name": "stdout",
     "output_type": "stream",
     "text": [
      "{1, 2, 3, 4, 5, 6, 7}\n"
     ]
    },
    {
     "data": {
      "text/plain": [
       "False"
      ]
     },
     "execution_count": 76,
     "metadata": {},
     "output_type": "execute_result"
    }
   ],
   "source": [
    "# Make a one layer deep copy\n",
    "filled_set = some_set.copy()  # filled_set is {1, 2, 3, 4, 5}\n",
    "print(filled_set)\n",
    "\n",
    "filled_set is some_set        # => False\n"
   ]
  },
  {
   "cell_type": "markdown",
   "id": "d62e0c43",
   "metadata": {},
   "source": [
    "## Control Flow and Iterables"
   ]
  },
  {
   "cell_type": "code",
   "execution_count": 77,
   "id": "92beb8e2",
   "metadata": {},
   "outputs": [
    {
     "name": "stdout",
     "output_type": "stream",
     "text": [
      "some_var is smaller than 10.\n"
     ]
    }
   ],
   "source": [
    "if some_var > 20:\n",
    "    print(\"some_var is totally bigger than 20.\")\n",
    "elif some_var < 20:    # This elif clause is optional.\n",
    "    print(\"some_var is smaller than 10.\")\n",
    "else:                  # This is optional too.\n",
    "    print(\"some_var is indeed 10.\")\n"
   ]
  },
  {
   "cell_type": "code",
   "execution_count": 78,
   "id": "7b9f5d23",
   "metadata": {},
   "outputs": [
    {
     "name": "stdout",
     "output_type": "stream",
     "text": [
      "dog is a mammal\n",
      "cat is a mammal\n",
      "mouse is a mammal\n"
     ]
    }
   ],
   "source": [
    "\"\"\"\n",
    "For loops iterate over lists\n",
    "prints:\n",
    "    dog is a mammal\n",
    "    cat is a mammal\n",
    "    mouse is a mammal\n",
    "\"\"\"\n",
    "for animal in [\"dog\", \"cat\", \"mouse\"]:\n",
    "    # You can use format() to interpolate formatted strings\n",
    "    print(\"{} is a mammal\".format(animal))\n"
   ]
  },
  {
   "cell_type": "code",
   "execution_count": 79,
   "id": "a6f72d0b",
   "metadata": {},
   "outputs": [
    {
     "name": "stdout",
     "output_type": "stream",
     "text": [
      "0\n",
      "1\n",
      "2\n",
      "3\n"
     ]
    }
   ],
   "source": [
    "\"\"\"\n",
    "\"range(number)\" returns an iterable of numbers\n",
    "from zero to the given number\n",
    "prints:\n",
    "    0\n",
    "    1\n",
    "    2\n",
    "    3\n",
    "\"\"\"\n",
    "for i in range(4):\n",
    "    print(i)\n"
   ]
  },
  {
   "cell_type": "code",
   "execution_count": 80,
   "id": "a4cb67fe",
   "metadata": {},
   "outputs": [
    {
     "name": "stdout",
     "output_type": "stream",
     "text": [
      "4\n",
      "5\n",
      "6\n",
      "7\n"
     ]
    }
   ],
   "source": [
    "\"\"\"\n",
    "\"range(lower, upper)\" returns an iterable of numbers\n",
    "from the lower number to the upper number\n",
    "prints:\n",
    "    4\n",
    "    5\n",
    "    6\n",
    "    7\n",
    "\"\"\"\n",
    "for i in range(4, 8):\n",
    "    print(i)\n"
   ]
  },
  {
   "cell_type": "code",
   "execution_count": 81,
   "id": "b7d2b983",
   "metadata": {},
   "outputs": [
    {
     "name": "stdout",
     "output_type": "stream",
     "text": [
      "4\n",
      "6\n"
     ]
    }
   ],
   "source": [
    "\"\"\"\n",
    "\"range(lower, upper, step)\" returns an iterable of numbers\n",
    "from the lower number to the upper number, while incrementing\n",
    "by step. If step is not indicated, the default value is 1.\n",
    "prints:\n",
    "    4\n",
    "    6\n",
    "\"\"\"\n",
    "for i in range(4, 8, 2):\n",
    "    print(i)\n"
   ]
  },
  {
   "cell_type": "code",
   "execution_count": 82,
   "id": "fe671f76",
   "metadata": {},
   "outputs": [
    {
     "name": "stdout",
     "output_type": "stream",
     "text": [
      "0 dog\n",
      "1 cat\n",
      "2 mouse\n"
     ]
    }
   ],
   "source": [
    "\"\"\"\n",
    "To loop over a list, and retrieve both the index and the value of each item in the list\n",
    "prints:\n",
    "    0 dog\n",
    "    1 cat\n",
    "    2 mouse\n",
    "\"\"\"\n",
    "animals = [\"dog\", \"cat\", \"mouse\"]\n",
    "for i, value in enumerate(animals):\n",
    "    print(i, value)\n"
   ]
  },
  {
   "cell_type": "code",
   "execution_count": 83,
   "id": "5dac4d16",
   "metadata": {},
   "outputs": [
    {
     "name": "stdout",
     "output_type": "stream",
     "text": [
      "0\n",
      "1\n",
      "2\n",
      "3\n"
     ]
    }
   ],
   "source": [
    "\"\"\"\n",
    "While loops go until a condition is no longer met.\n",
    "prints:\n",
    "    0\n",
    "    1\n",
    "    2\n",
    "    3\n",
    "\"\"\"\n",
    "x = 0\n",
    "while x < 4:\n",
    "    print(x)\n",
    "    x += 1  # Shorthand for x = x + 1\n"
   ]
  },
  {
   "cell_type": "code",
   "execution_count": 84,
   "id": "8c9ede0e",
   "metadata": {},
   "outputs": [
    {
     "name": "stdout",
     "output_type": "stream",
     "text": [
      "We can clean up resources here\n"
     ]
    }
   ],
   "source": [
    "# Handle exceptions with a try/except block\n",
    "try:\n",
    "    # Use \"raise\" to raise an error\n",
    "    raise IndexError(\"This is an index error\")\n",
    "except IndexError as e:\n",
    "    # Pass is just a no-op. Usually you would do recovery here.\n",
    "    pass\n",
    "except (TypeError, NameError):\n",
    "    # Multiple exceptions can be handled together, if required.\n",
    "    pass\n",
    "else:                    # Optional clause to the try/except block. Must follow all except blocks\n",
    "    print(\"All good!\")   # Runs only if the code in try raises no exceptions\n",
    "finally:                 # Execute under all circumstances\n",
    "    print(\"We can clean up resources here\")\n"
   ]
  },
  {
   "cell_type": "code",
   "execution_count": 85,
   "id": "dfb5a6f8",
   "metadata": {},
   "outputs": [],
   "source": [
    "# Writing to a file\n",
    "contents = {\"aa\": 12, \"bb\": 21}\n",
    "\n",
    "with open(\"myfile1.txt\", \"w+\") as file:\n",
    "    file.write(str(contents))        # writes a string to a file\n",
    "    "
   ]
  },
  {
   "cell_type": "code",
   "execution_count": 86,
   "id": "d5ac1738",
   "metadata": {},
   "outputs": [],
   "source": [
    "# Import some module, we can use import keyword to import module that we need\n",
    "import json\n",
    "\n",
    "with open(\"myfile2.txt\", \"w+\") as file:\n",
    "    file.write(json.dumps(contents)) # writes an object to a file\n",
    "    "
   ]
  },
  {
   "cell_type": "code",
   "execution_count": 87,
   "id": "955565c9",
   "metadata": {},
   "outputs": [
    {
     "name": "stdout",
     "output_type": "stream",
     "text": [
      "{'aa': 12, 'bb': 21}\n"
     ]
    }
   ],
   "source": [
    "# Reading from a file\n",
    "with open('myfile1.txt', \"r+\") as file:\n",
    "    contents = file.read()           # reads a string from a file\n",
    "    \n",
    "print(contents)\n"
   ]
  },
  {
   "cell_type": "code",
   "execution_count": 88,
   "id": "fcdadc83",
   "metadata": {},
   "outputs": [
    {
     "name": "stdout",
     "output_type": "stream",
     "text": [
      "{'aa': 12, 'bb': 21}\n"
     ]
    }
   ],
   "source": [
    "with open('myfile2.txt', \"r+\") as file:\n",
    "    contents = json.load(file)       # reads a json object from a file\n",
    "    \n",
    "print(contents)\n",
    "# print: {\"aa\": 12, \"bb\": 21}\n"
   ]
  },
  {
   "cell_type": "code",
   "execution_count": 89,
   "id": "53ba4555",
   "metadata": {},
   "outputs": [
    {
     "name": "stdout",
     "output_type": "stream",
     "text": [
      "dict_keys(['one', 'two', 'three'])\n"
     ]
    }
   ],
   "source": [
    "# Python offers a fundamental abstraction called the Iterable.\n",
    "# An iterable is an object that can be treated as a sequence.\n",
    "# The object returned by the range function, is an iterable.\n",
    "filled_dict = {\"one\": 1, \"two\": 2, \"three\": 3}\n",
    "our_iterable = filled_dict.keys()\n",
    "print(our_iterable)  # => dict_keys(['one', 'two', 'three']). This is an object that implements our Iterable interface.\n"
   ]
  },
  {
   "cell_type": "code",
   "execution_count": 90,
   "id": "82f6ab83",
   "metadata": {},
   "outputs": [
    {
     "name": "stdout",
     "output_type": "stream",
     "text": [
      "one\n",
      "two\n",
      "three\n"
     ]
    }
   ],
   "source": [
    "# We can loop over it.\n",
    "for i in our_iterable:\n",
    "    print(i)  # Prints one, two, three\n",
    "    "
   ]
  },
  {
   "cell_type": "code",
   "execution_count": 91,
   "id": "7309a9cc",
   "metadata": {},
   "outputs": [],
   "source": [
    "# However we cannot address elements by index.\n",
    "#our_iterable[1]  # Raises a TypeError\n"
   ]
  },
  {
   "cell_type": "code",
   "execution_count": 92,
   "id": "86fb2389",
   "metadata": {},
   "outputs": [],
   "source": [
    "# An iterable is an object that knows how to create an iterator.\n",
    "our_iterator = iter(our_iterable)\n"
   ]
  },
  {
   "cell_type": "code",
   "execution_count": 93,
   "id": "7ca84373",
   "metadata": {},
   "outputs": [
    {
     "data": {
      "text/plain": [
       "'one'"
      ]
     },
     "execution_count": 93,
     "metadata": {},
     "output_type": "execute_result"
    }
   ],
   "source": [
    "# Our iterator is an object that can remember the state as we traverse through it.\n",
    "# We get the next object with \"next()\".\n",
    "next(our_iterator)  # => \"one\"\n"
   ]
  },
  {
   "cell_type": "code",
   "execution_count": 94,
   "id": "a0858955",
   "metadata": {},
   "outputs": [
    {
     "data": {
      "text/plain": [
       "'two'"
      ]
     },
     "execution_count": 94,
     "metadata": {},
     "output_type": "execute_result"
    }
   ],
   "source": [
    "# It maintains state as we iterate.\n",
    "next(our_iterator)  # => \"two\"\n"
   ]
  },
  {
   "cell_type": "code",
   "execution_count": 95,
   "id": "e452b28c",
   "metadata": {},
   "outputs": [
    {
     "data": {
      "text/plain": [
       "'three'"
      ]
     },
     "execution_count": 95,
     "metadata": {},
     "output_type": "execute_result"
    }
   ],
   "source": [
    "next(our_iterator)  # => \"three\"\n"
   ]
  },
  {
   "cell_type": "code",
   "execution_count": 96,
   "id": "fe79dc40",
   "metadata": {},
   "outputs": [],
   "source": [
    "# After the iterator has returned all of its data, it raises a StopIteration exception\n",
    "#next(our_iterator)  # Raises StopIteration\n"
   ]
  },
  {
   "cell_type": "code",
   "execution_count": 97,
   "id": "4b91e47f",
   "metadata": {},
   "outputs": [
    {
     "name": "stdout",
     "output_type": "stream",
     "text": [
      "one\n",
      "two\n",
      "three\n"
     ]
    }
   ],
   "source": [
    "# We can also loop over it, in fact, \"for\" does this implicitly!\n",
    "our_iterator = iter(our_iterable)\n",
    "for i in our_iterator:\n",
    "    print(i)  # Prints one, two, three\n",
    "    "
   ]
  },
  {
   "cell_type": "code",
   "execution_count": 98,
   "id": "ea12d963",
   "metadata": {},
   "outputs": [
    {
     "data": {
      "text/plain": [
       "['one', 'two', 'three']"
      ]
     },
     "execution_count": 98,
     "metadata": {},
     "output_type": "execute_result"
    }
   ],
   "source": [
    "# You can grab all the elements of an iterable or iterator by calling list() on it.\n",
    "list(our_iterable)  # => Returns [\"one\", \"two\", \"three\"]\n"
   ]
  },
  {
   "cell_type": "code",
   "execution_count": 99,
   "id": "c601b8de",
   "metadata": {},
   "outputs": [
    {
     "data": {
      "text/plain": [
       "[]"
      ]
     },
     "execution_count": 99,
     "metadata": {},
     "output_type": "execute_result"
    }
   ],
   "source": [
    "list(our_iterator)  # => Returns [] because state is saved\n"
   ]
  },
  {
   "cell_type": "markdown",
   "id": "3e825d25",
   "metadata": {},
   "source": [
    "## Functions"
   ]
  },
  {
   "cell_type": "code",
   "execution_count": 100,
   "id": "b90b6cef",
   "metadata": {},
   "outputs": [],
   "source": [
    "# Use \"def\" to create new functions\n",
    "def add(x, y):\n",
    "    print(\"x is {} and y is {}\".format(x, y))\n",
    "    return x + y  # Return values with a return statement\n"
   ]
  },
  {
   "cell_type": "code",
   "execution_count": 101,
   "id": "6d2ae856",
   "metadata": {},
   "outputs": [
    {
     "name": "stdout",
     "output_type": "stream",
     "text": [
      "x is 5 and y is 6\n"
     ]
    },
    {
     "data": {
      "text/plain": [
       "11"
      ]
     },
     "execution_count": 101,
     "metadata": {},
     "output_type": "execute_result"
    }
   ],
   "source": [
    "# Calling functions with parameters\n",
    "add(5, 6)  # => prints out \"x is 5 and y is 6\" and returns 11\n"
   ]
  },
  {
   "cell_type": "code",
   "execution_count": 102,
   "id": "9e389fff",
   "metadata": {},
   "outputs": [
    {
     "name": "stdout",
     "output_type": "stream",
     "text": [
      "x is 5 and y is 6\n"
     ]
    },
    {
     "data": {
      "text/plain": [
       "11"
      ]
     },
     "execution_count": 102,
     "metadata": {},
     "output_type": "execute_result"
    }
   ],
   "source": [
    "# Another way to call functions is with keyword arguments\n",
    "add(y=6, x=5)  # Keyword arguments can arrive in any order.\n"
   ]
  },
  {
   "cell_type": "code",
   "execution_count": 103,
   "id": "6fdedd95",
   "metadata": {},
   "outputs": [
    {
     "data": {
      "text/plain": [
       "(1, 2, 3)"
      ]
     },
     "execution_count": 103,
     "metadata": {},
     "output_type": "execute_result"
    }
   ],
   "source": [
    "# You can define functions that take a variable number of\n",
    "# positional arguments\n",
    "def varargs(*args):\n",
    "    return args\n",
    "\n",
    "varargs(1, 2, 3)\n"
   ]
  },
  {
   "cell_type": "code",
   "execution_count": 104,
   "id": "51e83f68",
   "metadata": {},
   "outputs": [
    {
     "data": {
      "text/plain": [
       "{'big': 'foot', 'loch': 'ness'}"
      ]
     },
     "execution_count": 104,
     "metadata": {},
     "output_type": "execute_result"
    }
   ],
   "source": [
    "# You can define functions that take a variable number of\n",
    "# keyword arguments, as well\n",
    "def keyword_args(**kwargs):\n",
    "    return kwargs\n",
    "\n",
    "# Let's call it to see what happens\n",
    "keyword_args(big=\"foot\", loch=\"ness\")  # => {\"big\": \"foot\", \"loch\": \"ness\"}\n"
   ]
  },
  {
   "cell_type": "code",
   "execution_count": 105,
   "id": "56286095",
   "metadata": {},
   "outputs": [
    {
     "name": "stdout",
     "output_type": "stream",
     "text": [
      "(1, 2, 3, 4)\n",
      "{}\n",
      "()\n",
      "{'a': 3, 'b': 4}\n",
      "(1, 2, 3, 4)\n",
      "{'a': 3, 'b': 4}\n"
     ]
    }
   ],
   "source": [
    "# You can do both at once, if you like\n",
    "def all_the_args(*args, **kwargs):\n",
    "    print(args)\n",
    "    print(kwargs)\n",
    "    \n",
    "args = (1, 2, 3, 4)\n",
    "kwargs = {\"a\": 3, \"b\": 4}\n",
    "all_the_args(*args)            # equivalent to all_the_args(1, 2, 3, 4)\n",
    "all_the_args(**kwargs)         # equivalent to all_the_args(a=3, b=4)\n",
    "all_the_args(*args, **kwargs)  # equivalent to all_the_args(1, 2, 3, 4, a=3, b=4)\n"
   ]
  },
  {
   "cell_type": "code",
   "execution_count": 106,
   "id": "59957664",
   "metadata": {},
   "outputs": [
    {
     "name": "stdout",
     "output_type": "stream",
     "text": [
      "43\n",
      "5\n",
      "6\n"
     ]
    }
   ],
   "source": [
    "# Function Scope\n",
    "x = 5\n",
    "\n",
    "def set_x(num):\n",
    "    # Local var x not the same as global variable x\n",
    "    x = num    # => 43\n",
    "    print(x)   # => 43\n",
    "\n",
    "def set_global_x(num):\n",
    "    global x\n",
    "    print(x)   # => 5\n",
    "    x = num    # global var x is now set to 6\n",
    "    print(x)   # => 6\n",
    "\n",
    "set_x(43)\n",
    "set_global_x(6)\n"
   ]
  },
  {
   "cell_type": "code",
   "execution_count": 107,
   "id": "aef8a535",
   "metadata": {},
   "outputs": [
    {
     "data": {
      "text/plain": [
       "13"
      ]
     },
     "execution_count": 107,
     "metadata": {},
     "output_type": "execute_result"
    }
   ],
   "source": [
    "# Python has first class functions\n",
    "def create_adder(x):\n",
    "    def adder(y):\n",
    "        return x + y\n",
    "    return adder\n",
    "\n",
    "add_10 = create_adder(10)\n",
    "add_10(3)   # => 13\n"
   ]
  },
  {
   "cell_type": "code",
   "execution_count": 108,
   "id": "2cb9cf0d",
   "metadata": {},
   "outputs": [
    {
     "name": "stdout",
     "output_type": "stream",
     "text": [
      "True\n",
      "5\n"
     ]
    }
   ],
   "source": [
    "# There are also anonymous functions\n",
    "print((lambda x: x > 2)(3))                  # => True\n",
    "print((lambda x, y: x ** 2 + y ** 2)(2, 1))  # => 5\n"
   ]
  },
  {
   "cell_type": "code",
   "execution_count": 109,
   "id": "0e1692f1",
   "metadata": {},
   "outputs": [
    {
     "data": {
      "text/plain": [
       "0"
      ]
     },
     "execution_count": 109,
     "metadata": {},
     "output_type": "execute_result"
    }
   ],
   "source": [
    "f_x = lambda x : x**2 - 3 * x + 2\n",
    "f_x(1)\n"
   ]
  },
  {
   "cell_type": "code",
   "execution_count": 110,
   "id": "63526f4d",
   "metadata": {},
   "outputs": [
    {
     "data": {
      "text/plain": [
       "14"
      ]
     },
     "execution_count": 110,
     "metadata": {},
     "output_type": "execute_result"
    }
   ],
   "source": [
    "# TODO:\n",
    "# Define a lambda function to calculate f(x) = ax^3 + bx^2 + cx + d\n",
    "# with x, a, b, c, d are integer number, depend on your choice\n",
    "\n",
    "f_x3 = lambda x, a, b, c, d: a * (x ** 3) + b * (x ** 2) + c * x + d\n",
    "f_x3(1, 2, 3, 4, 5)"
   ]
  },
  {
   "cell_type": "code",
   "execution_count": 111,
   "id": "de25e3dc",
   "metadata": {},
   "outputs": [
    {
     "name": "stdout",
     "output_type": "stream",
     "text": [
      "[11, 12, 13]\n",
      "[4, 2, 3]\n",
      "[6, 7]\n"
     ]
    }
   ],
   "source": [
    "# There are built-in higher order functions\n",
    "print(list(map(add_10, [1, 2, 3])))         # => [11, 12, 13]\n",
    "print(list(map(max, [1, 2, 3], [4, 2, 1])))  # => [4, 2, 3]\n",
    "\n",
    "print(list(filter(lambda x: x > 5, [3, 4, 5, 6, 7])))  # => [6, 7]\n"
   ]
  },
  {
   "cell_type": "code",
   "execution_count": 112,
   "id": "dc146d5d",
   "metadata": {},
   "outputs": [
    {
     "name": "stdout",
     "output_type": "stream",
     "text": [
      "[11, 12, 13]\n",
      "[6, 7]\n",
      "{'e', 'f', 'd'}\n",
      "{0: 0, 1: 1, 2: 4, 3: 9, 4: 16}\n"
     ]
    }
   ],
   "source": [
    "# We can use list comprehensions for nice maps and filters\n",
    "# List comprehension stores the output as a list which can itself be a nested list\n",
    "print([add_10(i) for i in [1, 2, 3]])         # => [11, 12, 13]\n",
    "print([x for x in [3, 4, 5, 6, 7] if x > 5])  # => [6, 7]\n",
    "\n",
    "# You can construct set and dict comprehensions as well.\n",
    "print({x for x in 'abcddeef' if x not in 'abc'})  # => {'d', 'e', 'f'}\n",
    "print({x: x**2 for x in range(5)})  # => {0: 0, 1: 1, 2: 4, 3: 9, 4: 16}\n"
   ]
  },
  {
   "cell_type": "code",
   "execution_count": 113,
   "id": "c7b9093c",
   "metadata": {},
   "outputs": [
    {
     "name": "stdout",
     "output_type": "stream",
     "text": [
      "2\n",
      "4\n",
      "6\n",
      "8\n",
      "10\n",
      "12\n",
      "14\n",
      "16\n",
      "18\n",
      "20\n",
      "22\n",
      "24\n",
      "26\n",
      "28\n",
      "30\n"
     ]
    }
   ],
   "source": [
    "# Generators help you make lazy code.\n",
    "def double_numbers(iterable):\n",
    "    for i in iterable:\n",
    "        yield i + i\n",
    "        \n",
    "# Generators are memory-efficient because they only load the data needed to\n",
    "# process the next value in the iterable. This allows them to perform\n",
    "# operations on otherwise prohibitively large value ranges.\n",
    "# NOTE: `range` replaces `xrange` in Python 3.\n",
    "for i in double_numbers(range(1, 900000000)):  # `range` is a generator.\n",
    "    print(i)\n",
    "    if i >= 30:\n",
    "        break\n",
    "        "
   ]
  },
  {
   "cell_type": "code",
   "execution_count": 114,
   "id": "455d2ffa",
   "metadata": {},
   "outputs": [
    {
     "name": "stdout",
     "output_type": "stream",
     "text": [
      "-1\n",
      "-2\n",
      "-3\n",
      "-4\n",
      "-5\n"
     ]
    }
   ],
   "source": [
    "# Just as you can create a list comprehension, you can create generator\n",
    "# comprehensions as well.\n",
    "values = (-x for x in [1,2,3,4,5])\n",
    "for x in values:\n",
    "    print(x)  # prints -1 -2 -3 -4 -5 to console/terminal\n",
    "    "
   ]
  },
  {
   "cell_type": "code",
   "execution_count": 115,
   "id": "1d5b21ce",
   "metadata": {},
   "outputs": [
    {
     "name": "stdout",
     "output_type": "stream",
     "text": [
      "[-1, -2, -3, -4, -5]\n"
     ]
    }
   ],
   "source": [
    "# You can also cast a generator comprehension directly to a list.\n",
    "values = (-x for x in [1,2,3,4,5])\n",
    "gen_to_list = list(values)\n",
    "print(gen_to_list)  # => [-1, -2, -3, -4, -5]\n"
   ]
  },
  {
   "cell_type": "code",
   "execution_count": 116,
   "id": "c05c613e",
   "metadata": {},
   "outputs": [
    {
     "name": "stdout",
     "output_type": "stream",
     "text": [
      "Can you buy me a beer?\n",
      "Can you buy me a beer? Please! I am poor :(\n"
     ]
    }
   ],
   "source": [
    "# Decorators\n",
    "# In this example `beg` wraps `say`. If say_please is True then it\n",
    "# will change the returned message.\n",
    "from functools import wraps\n",
    "\n",
    "\n",
    "def beg(target_function):\n",
    "    @wraps(target_function)\n",
    "    def wrapper(*args, **kwargs):\n",
    "        msg, say_please = target_function(*args, **kwargs)\n",
    "        if say_please:\n",
    "            return \"{} {}\".format(msg, \"Please! I am poor :(\")\n",
    "        return msg\n",
    "\n",
    "    return wrapper\n",
    "\n",
    "\n",
    "@beg\n",
    "def say(say_please=False):\n",
    "    msg = \"Can you buy me a beer?\"\n",
    "    return msg, say_please\n",
    "\n",
    "\n",
    "print(say())                 # Can you buy me a beer?\n",
    "print(say(say_please=True))  # Can you buy me a beer? Please! I am poor :(\n"
   ]
  },
  {
   "cell_type": "markdown",
   "id": "687504d3",
   "metadata": {},
   "source": [
    "# References\n",
    "\n",
    "[1] [Python. Learn X in Y minutes.](https://learnxinyminutes.com/docs/python/)"
   ]
  }
 ],
 "metadata": {
  "kernelspec": {
   "display_name": "Python 3.8.8 ('min_ds-env')",
   "language": "python",
   "name": "python3"
  },
  "language_info": {
   "codemirror_mode": {
    "name": "ipython",
    "version": 3
   },
   "file_extension": ".py",
   "mimetype": "text/x-python",
   "name": "python",
   "nbconvert_exporter": "python",
   "pygments_lexer": "ipython3",
   "version": "3.8.8"
  },
  "vscode": {
   "interpreter": {
    "hash": "ae40947b55d23fa66de0056542b739ddefca8ca5c7aded5612b7ae61bb2128ef"
   }
  }
 },
 "nbformat": 4,
 "nbformat_minor": 5
}
