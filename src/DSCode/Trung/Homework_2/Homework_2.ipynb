{
 "cells": [
  {
   "cell_type": "markdown",
   "metadata": {},
   "source": [
    "# Homework 2: Numpy\n",
    "\n",
    "**Student information**\n",
    "\n",
    "Student ID: 20127370\n",
    "\n",
    "Student Fullname: Mai Quý Trung"
   ]
  },
  {
   "cell_type": "markdown",
   "metadata": {},
   "source": [
    "## Instructions for homework and submission\n",
    "\n",
    "&#9889; It's important to keep in mind that the teaching assistants will use a grading support application, so you must strictly adhere to the guidelines outlined in the instructions. If you are unsure, please ask the teaching assistants or the lab instructors as soon as you can. <font color=red>Do not follow your personal preferences at random. </font>\n",
    "\n",
    "### Instructions for doing homework\n",
    "\n",
    "The exercise will be completed directly from this notebook file. First, fill in the file header above with your name and student ID. You fill out the assignment in the notebook file where the given task starts with these patterns below: \n",
    "for required parts to implement\n",
    "```python\n",
    "# YOUR CODE HERE\n",
    "raise NotImplementedError()\n",
    "```\n",
    "or for optional parts:\n",
    "```python\n",
    "# YOUR CODE HERE (OPTION)\n",
    "```\n",
    "or for markdown cell:\n",
    "```markdown\n",
    "YOUR ANSWER HERE\n",
    "```\n",
    "\n",
    "Actually, when doing the lab, you just need to remove the line `raise NotImplementedError()`.\n",
    "\n",
    "There will typically be a cell (or several cells) with test suites to let you determine if the code is correct or not directly below the areas that require code that you need to implement; If there are no errors in this cell, the tests were successful.\n",
    "In some circumstances, test suites may be insufficient, meaning that even if the test passes but the code fails, it may not necessarily be correct. \n",
    "\n",
    "You can print on the screen as you work in the lab to generate more test cells. However, you can either erase the cells you make or add a comment to the statements that are displayed on the screen when you submit. <font color=red>Please be aware that you are not permitted to remove cells or change the coding of the teacher/assistant/lab instructor by yourselves (except where editing is allowed as mentioned above). </font>\n",
    "\n",
    "Try to keep the code organized and clear; name proposed variables, add comments when necessary, and limit the length of each line of code (because otherwise the reader will have to scroll). Use this guideline if needed: a line of code should not exceed 79 characters. \n",
    "\n",
    "It is advised to frequently press CTRL + S while performing the workouts to save your work and prevent data loss.\n",
    "\n",
    "*Keep in mind that <font color=green>knowledge and honest learning are the major objectives here</font>. Thoughts can be discussed, the work and <font color=green>code should be original to you and reflect your actual understanding</font>. <font color=red>Violations will result in a total course grade of zero.</font>*\n",
    "\n",
    "Other advice includes:\n",
    "- Starting early and not waiting until the last minute\n",
    "- Proceed with caution and gentleness. Coding in a very slow, but also very fast, manner. \n",
    "- Avoid sources of interference, such as social networks, games, etc.\n",
    "\n",
    "### Instructions for submission\n",
    "\n",
    "Your work will be graded by selecting `Kernel-Restart & Run All` to restart and run every cell in your notebook while grading. As a result, you should test run `Kernel-Restart` & `Run All` before submitting your work to ensure everything is working as it should.\n",
    "\n",
    "Then you create a submission folder with the following structure:\n",
    "- The `StudentID` folder (e.g., if you have an student ID of 1234567, name the folder 1234567):\n",
    "  - File `Homework_2.ipynb` (no need to submit other files)\n",
    "\n",
    "Finally, compress this `StudentID` folder with *.zip format and submit it on Moodle. <font color=red>Please be sure to strictly follow the submission rules.</font>"
   ]
  },
  {
   "cell_type": "markdown",
   "metadata": {},
   "source": [
    "## Programming environment"
   ]
  },
  {
   "cell_type": "markdown",
   "metadata": {},
   "source": [
    "In this course, we strictly follow three main rules below:\n",
    "- Programming on Linux environment to complete the labs (you have set up in HW0).\n",
    "- Use Jupyter Notebook or Jupyter Lab to complete the tasks assigned in the `.ipynb` file. Note that: <font color=red>you are NOT ALLOWED to use Google Colab</font>, because it can delete some meta data that our grading support program has created in the exercise file.\n",
    "- Use the package version as in the file \"min_ds-env.yml\" (you see in HW0 how to use Conda to create a code environment from the `.yml` file and how to activate this environment after it is created)"
   ]
  },
  {
   "cell_type": "code",
   "execution_count": 1,
   "metadata": {},
   "outputs": [
    {
     "data": {
      "text/plain": [
       "'/Users/quytrungg/opt/anaconda3/envs/min_ds-env/bin/python'"
      ]
     },
     "execution_count": 1,
     "metadata": {},
     "output_type": "execute_result"
    }
   ],
   "source": [
    "import sys\n",
    "sys.executable"
   ]
  },
  {
   "cell_type": "markdown",
   "metadata": {},
   "source": [
    "If there are no any issues/ problems, the file to run python will be the file of the \"min_ds-env\" code environment.\n",
    "\n",
    "To complete this lab, you are allowed to use the Python programming language; do not use any additional libraries such as Numpy, Pandas, etc. Furthermore, you also do not use any additional libraries such as `csv` for reading or writing files in Python."
   ]
  },
  {
   "cell_type": "markdown",
   "metadata": {},
   "source": [
    "## Import the necessary libraries"
   ]
  },
  {
   "cell_type": "code",
   "execution_count": 2,
   "metadata": {},
   "outputs": [
    {
     "data": {
      "text/plain": [
       "{'divide': 'warn', 'over': 'warn', 'under': 'ignore', 'invalid': 'warn'}"
      ]
     },
     "execution_count": 2,
     "metadata": {},
     "output_type": "execute_result"
    }
   ],
   "source": [
    "import numpy as np\n",
    "\n",
    "# TEACHER ADDITIONAL CODE\n",
    "import warnings\n",
    "\n",
    "warnings.simplefilter(\"ignore\", category=RuntimeWarning) \n",
    "np.seterr(divide='ignore', invalid='ignore')\n",
    "\n",
    "# YOUR CODE HERE (OPTION)"
   ]
  },
  {
   "cell_type": "markdown",
   "metadata": {},
   "source": [
    "## Research: The reason to use NumPy?"
   ]
  },
  {
   "cell_type": "code",
   "execution_count": null,
   "metadata": {},
   "outputs": [],
   "source": [
    "# Import libraries that help us generate number in randomly\n",
    "import random\n",
    "\n",
    "# First, we initialize two matrices that have a size of 1000 x 500 and 500 x 1000, respectively.\n",
    "nrows1 = 1000; ncols1 = nrows2 = 500; ncols2 = 1000\n",
    "\n",
    "m1_list = []\n",
    "for r in range(nrows1):\n",
    "    row_vals = []\n",
    "    for c in range(ncols1):\n",
    "        row_vals.append(random.randint(-100, 100))\n",
    "    m1_list.append(row_vals)\n",
    "    \n",
    "m2_list = []\n",
    "for r in range(nrows2):\n",
    "    row_vals = []\n",
    "    for c in range(ncols2):\n",
    "        row_vals.append(random.randint(-100, 100))\n",
    "    m2_list.append(row_vals)\n",
    "    \n",
    "print(len(m1_list), len(m1_list[0]))\n",
    "print(len(m2_list), len(m2_list[0]))"
   ]
  },
  {
   "cell_type": "code",
   "execution_count": null,
   "metadata": {},
   "outputs": [],
   "source": [
    "%%time # use this to calculate the runtime\n",
    "\n",
    "# It's very easy to implement matrix multiplication by using two for loop here.\n",
    "m3_list = []\n",
    "for r in range(nrows1):\n",
    "    row_vals = []\n",
    "    for c in range(ncols2):\n",
    "        temp = 0\n",
    "        for i in range(ncols1):\n",
    "            temp += m1_list[r][i] * m2_list[i][c]\n",
    "        row_vals.append(temp)\n",
    "    m3_list.append(row_vals)"
   ]
  },
  {
   "cell_type": "markdown",
   "metadata": {},
   "source": [
    "Here we perform multiplication for a matrix by using a NumPy array. Please note that the \"@\" denotes the multiply operator for matrix in NumPy."
   ]
  },
  {
   "cell_type": "code",
   "execution_count": null,
   "metadata": {},
   "outputs": [],
   "source": [
    "# First, we initialize two NumPy matrices from the two previous matrices, which are in the normal Python list datatype.\n",
    "m1_array = np.array(m1_list)\n",
    "m2_array = np.array(m2_list)"
   ]
  },
  {
   "cell_type": "code",
   "execution_count": null,
   "metadata": {},
   "outputs": [],
   "source": [
    "# Then, we calculate the running time\n",
    "%%time\n",
    "m3_array = m1_array @ m2_array"
   ]
  },
  {
   "cell_type": "markdown",
   "metadata": {},
   "source": [
    "Compare two ways:\n",
    "\n",
    "- Code writing time: <font color=green>NumPy writes code much faster.</font>\n",
    "- Runtime: <font color=green>NumPy for much faster speed.</font>\n",
    "- Result: <font color=green>Same (Daijoubu!)</font>"
   ]
  },
  {
   "cell_type": "markdown",
   "metadata": {},
   "source": [
    "### So, we can go deeper to know how to initialize NumPy array & check the property of a NumPy array"
   ]
  },
  {
   "cell_type": "code",
   "execution_count": null,
   "metadata": {},
   "outputs": [],
   "source": [
    "# We can initilize a NumPy array from list (1-dimensional)\n",
    "# You can see an example below:\n",
    "a = np.array([5, 6, 7, 8], dtype='float')\n",
    "a"
   ]
  },
  {
   "cell_type": "code",
   "execution_count": null,
   "metadata": {},
   "outputs": [],
   "source": [
    "# We can initilize a NumPy array from list (2-dimensional)\n",
    "b = np.array([[5, 6, 7, 8], [9, 0, 1, 2]])\n",
    "b"
   ]
  },
  {
   "cell_type": "code",
   "execution_count": null,
   "metadata": {},
   "outputs": [],
   "source": [
    "# We can check some information of a NumPy array\n",
    "print('Number of dimension:', b.ndim)\n",
    "print('Number of elements for each dimension:', b.shape)\n",
    "print('Total elements:', b.size)\n",
    "print('Data type for each element:', b.dtype)\n",
    "print('Size (byte) of each element', b.itemsize)\n",
    "print('Total size (byte):', b.nbytes)"
   ]
  },
  {
   "cell_type": "code",
   "execution_count": null,
   "metadata": {},
   "outputs": [],
   "source": [
    "# Initilize an array with fullfil one given value, example 0\n",
    "a = np.full((2,3),0) \n",
    "# Shortcut: np.zeros((2,3)) (similar to np.ones)\n",
    "a"
   ]
  },
  {
   "cell_type": "code",
   "execution_count": null,
   "metadata": {},
   "outputs": [],
   "source": [
    "# Initilize an array of randomly generated numbers\n",
    "# For example, integers are generated uniformly in [0, 10)\n",
    "a = np.random.randint(0, 10, (2, 3))\n",
    "a"
   ]
  },
  {
   "cell_type": "code",
   "execution_count": null,
   "metadata": {},
   "outputs": [],
   "source": [
    "# Initilize an empty array (have no initilize values)\n",
    "a = np.empty((2, 3))\n",
    "a"
   ]
  },
  {
   "cell_type": "code",
   "execution_count": null,
   "metadata": {},
   "outputs": [],
   "source": [
    "# Initilize an identity matrix\n",
    "a = np.eye(3)\n",
    "a"
   ]
  },
  {
   "cell_type": "code",
   "execution_count": null,
   "metadata": {},
   "outputs": [],
   "source": [
    "# Initilize an array of evenly spaced numbers\n",
    "# For example, the target array should be included: 1, 1.5, 2, 2.5, ..., 5\n",
    "# Solution 1: we can set the start value, end value and the step size\n",
    "a = np.arange(1, 5.1, 0.5)\n",
    "a"
   ]
  },
  {
   "cell_type": "code",
   "execution_count": null,
   "metadata": {},
   "outputs": [],
   "source": [
    "# Initilize an array of evenly spaced numbers\n",
    "# For example, the target array should be included: 1, 1.5, 2, 2.5, ..., 5\n",
    "# Solution 2: we can set the start value, end value and the number of elements\n",
    "a = np.linspace(1, 5, 9)\n",
    "a"
   ]
  },
  {
   "cell_type": "code",
   "execution_count": null,
   "metadata": {},
   "outputs": [],
   "source": [
    "# Initilize an array other array by changing the shape\n",
    "a = np.arange(6)\n",
    "print(a)\n",
    "b = a.reshape((2, 3), order='C')\n",
    "print()\n",
    "print(b)"
   ]
  },
  {
   "cell_type": "code",
   "execution_count": null,
   "metadata": {},
   "outputs": [],
   "source": [
    "# `b` points to an array object other than `a`:\n",
    "b is a"
   ]
  },
  {
   "cell_type": "markdown",
   "metadata": {},
   "source": [
    "If the object to which `b` points is completely independent of the object to which `a` points, then `b` is called `a` deep copy of `a` when the data in `b` is changed. (for example, `b[0, 0] = 99`) does not affect the data in `a`.\n",
    "\n",
    "And if the object that `b` points to shares data (an object with quite a few elements, including data) with the object that `a` points to, then `b` is called a view (shallow copy) of `a` when changing data in `b` will change data in `a`.\n",
    "\n",
    "Here, `b` is obtained by reshaping `a`. So, is `b` a copy or a view of `a`?\n",
    "\n",
    "One way is to check `b.flags.owndata`. If the result is True, it means that `b` has data independent of `b`, i.e., `b` is a copy of `a`; otherwise, `b` is the view of `a`."
   ]
  },
  {
   "cell_type": "code",
   "execution_count": null,
   "metadata": {},
   "outputs": [],
   "source": [
    "print(a.flags.owndata)\n",
    "print(b.flags.owndata)"
   ]
  },
  {
   "cell_type": "code",
   "execution_count": null,
   "metadata": {},
   "outputs": [],
   "source": [
    "b[0, 0] = 99\n",
    "a"
   ]
  },
  {
   "cell_type": "markdown",
   "metadata": {},
   "source": [
    "### Access (and modify) a NumPy array element. \n",
    "\n",
    "- Integer indexing\n",
    "- Slicing\n",
    "- Bool array indexing\n",
    "- Integer array indexing\n",
    "- Combine the above 4 techniques together (when working with multidimensional arrays)"
   ]
  },
  {
   "cell_type": "code",
   "execution_count": null,
   "metadata": {},
   "outputs": [],
   "source": [
    "# Integer indexing. References: https://docs.scipy.org/doc/numpy-1.10.4/reference/arrays.indexing.html\n",
    "x = np.array([0, 1, 2, 3, 4, 5, 6, 7, 8, 9])\n",
    "x[1:7:3]"
   ]
  },
  {
   "cell_type": "code",
   "execution_count": null,
   "metadata": {},
   "outputs": [],
   "source": [
    "x[-3:3:-1]"
   ]
  },
  {
   "cell_type": "code",
   "execution_count": null,
   "metadata": {},
   "outputs": [],
   "source": [
    "# slicing\n",
    "x = np.array([[1, 2, 3, 4, 5], [6, 7, 8, 9, 10]])\n",
    "x[:5, :3]"
   ]
  },
  {
   "cell_type": "markdown",
   "metadata": {},
   "source": [
    "### Apply these techniques in toy example"
   ]
  },
  {
   "cell_type": "markdown",
   "metadata": {},
   "source": [
    "Make an array of the scores in this subject from the file 'P4DS-Grades.csv.' (There aren't many of you, don't worry). The first three columns correspond to three HW points (each HW accounts for half of the total points). The final column of the project score (which accounts for 50% of the total score)"
   ]
  },
  {
   "cell_type": "code",
   "execution_count": null,
   "metadata": {},
   "outputs": [],
   "source": [
    "p4ds_grades = np.genfromtxt('data/P4DS-Grades.csv', delimiter=',', skip_header=1)\n",
    "p4ds_grades"
   ]
  },
  {
   "cell_type": "markdown",
   "metadata": {},
   "source": [
    "Question: What is the final project score of the first student?"
   ]
  },
  {
   "cell_type": "code",
   "execution_count": null,
   "metadata": {},
   "outputs": [],
   "source": [
    "# Using Integer indexing technique\n",
    "p4ds_grades[0, -1]"
   ]
  },
  {
   "cell_type": "markdown",
   "metadata": {},
   "source": [
    "Question: What is the final project score of the last student?"
   ]
  },
  {
   "cell_type": "code",
   "execution_count": null,
   "metadata": {},
   "outputs": [],
   "source": [
    "# Using Integer indexing technique\n",
    "p4ds_grades[-1, -1]"
   ]
  },
  {
   "cell_type": "markdown",
   "metadata": {},
   "source": [
    "The teacher needs to change the project score for the first student to 0.5, so we can apply this change by"
   ]
  },
  {
   "cell_type": "code",
   "execution_count": null,
   "metadata": {},
   "outputs": [],
   "source": [
    "# Using Integer indexing technique\n",
    "p4ds_grades[0, -1] = 0.5\n",
    "p4ds_grades"
   ]
  },
  {
   "cell_type": "markdown",
   "metadata": {},
   "source": [
    "Question: What the score of all homework for the first five students?"
   ]
  },
  {
   "cell_type": "code",
   "execution_count": null,
   "metadata": {},
   "outputs": [],
   "source": [
    "# Using Slicing technique\n",
    "p4ds_grades[:5, :3]"
   ]
  },
  {
   "cell_type": "markdown",
   "metadata": {},
   "source": [
    "The teacher needs to extract the final project score columns, so we can apply a technique to solve this task."
   ]
  },
  {
   "cell_type": "code",
   "execution_count": null,
   "metadata": {},
   "outputs": [],
   "source": [
    "# Using Slicing technique\n",
    "p4ds_grades[:, -1:]"
   ]
  },
  {
   "cell_type": "markdown",
   "metadata": {},
   "source": [
    "Combination of slicing and integer indexing"
   ]
  },
  {
   "cell_type": "code",
   "execution_count": null,
   "metadata": {},
   "outputs": [],
   "source": [
    "# By using slicing and combining slicing with integer indexing, get the final project score column\n",
    "p4ds_grades[:, -1]"
   ]
  },
  {
   "cell_type": "code",
   "execution_count": null,
   "metadata": {},
   "outputs": [],
   "source": [
    "# What is the final student score? (retrieves a one-dimensional array by slicing)\n",
    "p4ds_grades[-1, :] # Or: p4ds_grades[-1]"
   ]
  },
  {
   "cell_type": "markdown",
   "metadata": {},
   "source": [
    "You can also use boolean indexing"
   ]
  },
  {
   "cell_type": "code",
   "execution_count": null,
   "metadata": {},
   "outputs": [],
   "source": [
    "# For example, it is necessary to take out the final project points < 5\n",
    "final_grades = p4ds_grades[:, -1]\n",
    "mask = final_grades < 5\n",
    "final_grades[mask]\n",
    "# final_grades[final_grades < 5]"
   ]
  },
  {
   "cell_type": "markdown",
   "metadata": {},
   "source": [
    "Calculations with NumPy are relatively simple. To effectively use Numpy, we should shift our perspective: We should consider <font color=blue>the computation operations on the entire array</font> that Numpy provides, rather than the calculations on individual numbers."
   ]
  },
  {
   "cell_type": "markdown",
   "metadata": {},
   "source": [
    "Almost every array operation we can think of is already provided by Numpy. So, for a certain computation on the Numpy array, in addition to the function (or operator) form, we can usually also call the equivalent method from the Numpy array."
   ]
  },
  {
   "cell_type": "code",
   "execution_count": null,
   "metadata": {},
   "outputs": [],
   "source": [
    "# Calculate the min, max of each score column to check if there is anything out of the ordinary\n",
    "print(np.min(p4ds_grades, axis=0))\n",
    "print(np.max(p4ds_grades, axis=0))"
   ]
  },
  {
   "cell_type": "code",
   "execution_count": null,
   "metadata": {},
   "outputs": [],
   "source": [
    "# Calculate the summary score column\n",
    "avg_grades = (p4ds_grades[:, 0] * 0.5 / 3\n",
    "              + p4ds_grades[:, 1] * 0.5 / 3\n",
    "              + p4ds_grades[:, 2] * 0.5 / 3\n",
    "              + p4ds_grades[:, 3] * 0.5)\n",
    "avg_grades.round(1)"
   ]
  },
  {
   "cell_type": "code",
   "execution_count": null,
   "metadata": {},
   "outputs": [],
   "source": [
    "# What is the percentage of students who fail the subject?\n",
    "a = avg_grades < 5\n",
    "# a.sum() / len(a)\n",
    "a.mean()"
   ]
  },
  {
   "cell_type": "code",
   "execution_count": null,
   "metadata": {},
   "outputs": [],
   "source": [
    "# Calculate the mean and standard deviation of the summary score column?\n",
    "print(avg_grades.mean())\n",
    "print(avg_grades.std())"
   ]
  },
  {
   "cell_type": "code",
   "execution_count": null,
   "metadata": {},
   "outputs": [],
   "source": [
    "# Calculate min, lower quartile, median, upper quartile, max of the summary score column\n",
    "print(np.percentile(avg_grades, 0))\n",
    "print(np.percentile(avg_grades, 25))\n",
    "print(np.percentile(avg_grades, 50))\n",
    "print(np.percentile(avg_grades, 75))\n",
    "print(np.percentile(avg_grades, 100))"
   ]
  },
  {
   "cell_type": "code",
   "execution_count": null,
   "metadata": {},
   "outputs": [],
   "source": [
    "import math # It's time to import math :D\n",
    "\n",
    "# In this code cell, we want to compare our own implement percentile function vs. np.percentile.\n",
    "# It's not difficult to code this function.\n",
    "def compute_percentile(data, p):\n",
    "    sorted_data = sorted(data)\n",
    "    i = max(math.ceil(p / 100 * len(sorted_data)) - 1, 0)\n",
    "#   i = math.ceil(p/100 * (len(sorted_data) - 1)) # This is Numpy solution.\n",
    "    return sorted_data[i]\n",
    "\n",
    "data = np.arange(1, 10)\n",
    "for p in range(0, 101, 10):\n",
    "    print(compute_percentile(data, p), end=' ')\n",
    "    print(np.percentile(data, p))"
   ]
  },
  {
   "cell_type": "code",
   "execution_count": null,
   "metadata": {},
   "outputs": [],
   "source": [
    "# To visualize the information, we can use Matplotlib as a simple solution.\n",
    "# First, import this guy:\n",
    "import matplotlib.pyplot as plt\n",
    "\n",
    "# Calculate the histogram of the summary score column, then plot by using plt.hist\n",
    "counts, bins = np.histogram(avg_grades, bins=range(11))\n",
    "plt.hist(bins[:-1], bins, edgecolor='black', weights=counts)\n",
    "\n",
    "# Calculate the histogram and plot it once with the command plt.hist\n",
    "plt.figure()\n",
    "plt.hist(avg_grades, bins=range(11), edgecolor='black');"
   ]
  },
  {
   "cell_type": "code",
   "execution_count": null,
   "metadata": {},
   "outputs": [],
   "source": [
    "# Add the summary score column to the array of 4 component score columns\n",
    "np.concatenate((p4ds_grades, avg_grades.reshape(-1, 1)), axis=1)"
   ]
  },
  {
   "cell_type": "markdown",
   "metadata": {},
   "source": [
    "Ok, let's go back to the homework : D"
   ]
  },
  {
   "cell_type": "markdown",
   "metadata": {},
   "source": [
    "## Data collections"
   ]
  },
  {
   "cell_type": "markdown",
   "metadata": {},
   "source": [
    "In this assignment, we only consider using legacy datasets that have already been collected and published by others. You can download it [here](https://files.grouplens.org/datasets/movielens/ml-100k/u.data) and save it with the name \"u.data\" (note that there is no .txt or anything else for the extension of this file).\n",
    "\n",
    "According to the [description of this dataset](https://files.grouplens.org/datasets/movielens/ml-100k-README.txt):\n",
    "> MovieLens data sets were collected by the GroupLens Research Project\n",
    "at the University of Minnesota.\n",
    "> \n",
    "> This data set consists of:\n",
    "> * 100,000 ratings (1-5) from 943 users on 1682 movies. \n",
    "> * Each user has rated at least 20 movies.  \n",
    "> * Simple demographic info for the users (age, gender, occupation, zip)\n",
    ">\n",
    "> The data was collected through the MovieLens web site\n",
    "(movielens.umn.edu) during the seven-month period from September 19th, \n",
    "1997 through April 22nd, 1998. This data has been cleaned up - users\n",
    "who had less than 20 ratings or did not have complete demographic\n",
    "information were removed from this data set. Detailed descriptions of\n",
    "the data file can be found at the end of this file.\n",
    "\n",
    "And the specific description for the file \"u.data\":\n",
    "> The full u data set, 100000 ratings by 943 users on 1682 items. Each user has rated at least 20 movies. Users and items are numbered consecutively from 1. The data is randomly ordered. This is a tab separated list of user id | item id | rating | timestamp. The time stamps are unix seconds since 1/1/1970 UTC "
   ]
  },
  {
   "cell_type": "markdown",
   "metadata": {},
   "source": [
    "## Data explorations"
   ]
  },
  {
   "cell_type": "markdown",
   "metadata": {},
   "source": [
    "### Task: How many rows (observations) and columns (attributes) does the data have? <font color=green>(0.5 Points)</font>"
   ]
  },
  {
   "cell_type": "markdown",
   "metadata": {},
   "source": [
    "At first, your task is to read the data file \"u.data\" into a NumPy array named \"raw_ratings\" (use the np.genfromtxt method). You need to set the dtype to np.int64. You also need to put \"u.data\" in the same directory as this notebook, and when you call the np.genfromtxt method, you just need to use the filename \"u.data\" as a parameter of this method."
   ]
  },
  {
   "cell_type": "code",
   "execution_count": null,
   "metadata": {},
   "outputs": [],
   "source": [
    "# YOUR CODE HERE\n",
    "raise NotImplementedError()"
   ]
  },
  {
   "cell_type": "code",
   "execution_count": null,
   "metadata": {},
   "outputs": [],
   "source": [
    "# TEST\n",
    "assert raw_ratings.dtype == np.uint64\n",
    "assert raw_ratings.ndim == 2\n",
    "assert n_rows == 100000\n",
    "assert n_cols == 4\n",
    "raw_ratings[:5] "
   ]
  },
  {
   "cell_type": "markdown",
   "metadata": {},
   "source": [
    "### What does each row (observation) mean? Is there a phenomenon where rows (observations) have different meanings?"
   ]
  },
  {
   "cell_type": "markdown",
   "metadata": {},
   "source": [
    "A line indicates a user's scoring information for a movie, according to the data description file and preliminary data assessment. There doesn't have seemed to be an outlier line. "
   ]
  },
  {
   "cell_type": "markdown",
   "metadata": {},
   "source": [
    "### Are there any duplicate rows in the data? <font color=green>(0.5 Points)</font>"
   ]
  },
  {
   "cell_type": "markdown",
   "metadata": {},
   "source": [
    "In this task, you will check if there are duplicate observations and store the result into the \"have_duplicated_rows\" variable. This variable has a boolean datatype that represents whether the data has duplicate observations or not."
   ]
  },
  {
   "cell_type": "code",
   "execution_count": null,
   "metadata": {},
   "outputs": [],
   "source": [
    "# YOUR CODE HERE\n",
    "raise NotImplementedError()"
   ]
  },
  {
   "cell_type": "code",
   "execution_count": null,
   "metadata": {},
   "outputs": [],
   "source": [
    "# TEST\n",
    "assert have_duplicated_rows == False"
   ]
  },
  {
   "cell_type": "markdown",
   "metadata": {},
   "source": [
    "### What do the columns in the data mean?"
   ]
  },
  {
   "cell_type": "markdown",
   "metadata": {},
   "source": [
    "According the description file of this dataset:\n",
    "- The first column represents the user id.\n",
    "- The second column represents the movie id.\n",
    "- The third column represents the rating that users give for the respective movie.\n",
    "- The fourth column represents the time that the user gives the rating (calculated by seconds from the standard milestone)."
   ]
  },
  {
   "cell_type": "markdown",
   "metadata": {},
   "source": [
    "### What data type does each column currently have? Is there a column with a data type that is not suitable for further processing?"
   ]
  },
  {
   "cell_type": "markdown",
   "metadata": {},
   "source": [
    "At present, all columns have a numeric datatype."
   ]
  },
  {
   "cell_type": "code",
   "execution_count": null,
   "metadata": {},
   "outputs": [],
   "source": [
    "raw_ratings.dtype"
   ]
  },
  {
   "cell_type": "markdown",
   "metadata": {},
   "source": [
    "All columns have suitable datatype.\n",
    "\n",
    "Do you believe the time column for rating has the correct data type? This column represents time numerically (seconds from the standard milestone). We still calculate minimum, maximum, etc., for this column; and we can convert minimum, maximum values, etc., to date format for easier viewing when necessary. Of course, we can convert this column to date format right now; then, we calculate the minimum, maximum, etc., so that the result will be in date format. However, we do not follow this way in this case because the columns in a Numpy array should all be of the same data type. If you do it this way, your data will be divided into two arrays: one for the column at hand and one for the column at large. "
   ]
  },
  {
   "cell_type": "markdown",
   "metadata": {},
   "source": [
    "### For each column with numeric and datetime data types, how are the values distributed? <font color=green>(1 Points)</font>"
   ]
  },
  {
   "cell_type": "markdown",
   "metadata": {},
   "source": [
    "At first glance, it appears that all of the columns are numerical. However, we should categorize the \"user id\" and \"movie id\" columns (the first two columns). As a result, there will be two numeric columns: the score column (index column 2) and the score time column (index column 3).\n",
    "\n",
    "How many missing values do these two numerical columns have?\n",
    "\n",
    "Your task is to answer this question, you see the result by run the code cell below."
   ]
  },
  {
   "cell_type": "code",
   "execution_count": null,
   "metadata": {},
   "outputs": [],
   "source": [
    "np.sum(np.isnan(raw_ratings[:, 2:]), axis=0)"
   ]
  },
  {
   "cell_type": "markdown",
   "metadata": {},
   "source": [
    "Your task is to compute the minimum, median, and maximum values for the two columns (using the function `np.percentile`, with `interpolation` set to `linear` by default); then, save the results to `rate_col_profile` and `rate date_col_profile`, respectively. These are two one-dimensional numpy arrays, with `rate_col_profile` having a real numeric `dtype` and `rate_date_col_profile` having a `'datetime64[s]'` `dtype`. \n",
    "\n",
    "Hint: When casting an array, you can pass the type to be cast as a string."
   ]
  },
  {
   "cell_type": "code",
   "execution_count": null,
   "metadata": {},
   "outputs": [],
   "source": [
    "# YOUR CODE HERE\n",
    "raise NotImplementedError()"
   ]
  },
  {
   "cell_type": "code",
   "execution_count": null,
   "metadata": {},
   "outputs": [],
   "source": [
    "# TEST\n",
    "assert np.array_equal(rate_col_profile, np.array([1., 4., 5.]))\n",
    "assert np.array_equal(rate_date_col_profile, \n",
    "                      np.array(['1997-09-20T03:05:10', \n",
    "                                '1997-12-22T21:42:24',\n",
    "                                '1998-04-22T23:10:38'], \n",
    "                               dtype='datetime64[s]'))"
   ]
  },
  {
   "cell_type": "markdown",
   "metadata": {},
   "source": [
    "The min and max values of these two columns are not unexpected, and they correspond to the data description file. "
   ]
  },
  {
   "cell_type": "markdown",
   "metadata": {},
   "source": [
    "### With each categorical column, how are values distributed? <font color=green>(1 Points)</font>"
   ]
  },
  {
   "cell_type": "markdown",
   "metadata": {},
   "source": [
    "As mentioned, the 2 categorical columns are the first 2 columns. How many missing values in these columns:"
   ]
  },
  {
   "cell_type": "code",
   "execution_count": null,
   "metadata": {},
   "outputs": [],
   "source": [
    "np.sum(np.isnan(raw_ratings[:, :2]), axis=0)"
   ]
  },
  {
   "cell_type": "markdown",
   "metadata": {},
   "source": [
    "Your task is to compute a list of five numbers for each column: the number of different values; the value that appears at least twice with the same number of occurrences (total of two numbers); and the value that appears the most times with the same number. count of occurrences (a total of 2 numbers). You save two calculated lists with two columns each into two variables, `user_col_profile` and `movie_col_profile`, respectively.\n",
    "\n",
    "We all concur that if multiple values appear, take the smallest value; if multiple values appear only once, take the largest value. \n",
    "\n",
    "Hint:\n",
    "- <span style=\"color:dodgerblue\">If you set `stable` as the value for the `kind` parameter in the sort NumPy function, NumPy will sort your input array while ensuring that the same values in the original array remain in relative order in the resulting array.</span>"
   ]
  },
  {
   "cell_type": "code",
   "execution_count": null,
   "metadata": {},
   "outputs": [],
   "source": [
    "# YOUR CODE HERE\n",
    "raise NotImplementedError()"
   ]
  },
  {
   "cell_type": "code",
   "execution_count": null,
   "metadata": {},
   "outputs": [],
   "source": [
    "assert user_col_profile==[943, \n",
    "                          19,  \n",
    "                          20,  \n",
    "                          405, \n",
    "                          737] \n",
    "assert movie_col_profile==[1682,\n",
    "                           599, \n",
    "                           1,   \n",
    "                           50,  \n",
    "                           583]"
   ]
  },
  {
   "cell_type": "markdown",
   "metadata": {},
   "source": [
    "This information matches the data description file:\n",
    "> The full u data set, 100000 ratings by 943 users on 1682 items. Each user has rated at least 20 movies. Users and items are numbered consecutively from 1.\n",
    "\n",
    "That means \"Users and items are numbered consecutively from 1\" untested from the results above. Below, we will test this idea:"
   ]
  },
  {
   "cell_type": "code",
   "execution_count": null,
   "metadata": {},
   "outputs": [],
   "source": [
    "print('User id  - min & max:', \n",
    "      raw_ratings[:, 0].min(), '&', raw_ratings[:, 0].max()) \n",
    "print('Movie id - min & max:', \n",
    "      raw_ratings[:, 1].min(), '&', raw_ratings[:, 1].max()) "
   ]
  },
  {
   "cell_type": "markdown",
   "metadata": {},
   "source": [
    "## Ask a meaningful question that needs answering"
   ]
  },
  {
   "cell_type": "markdown",
   "metadata": {},
   "source": [
    "We now have a better understanding of the data. Let's see if there are any meaningful questions that this data can answer. *\"For each user, which movies should we recommend (recommend) for the user to watch?\"* is one possible question. Answering this question will benefit both users and movie service providers.\n",
    "- User: A user may want to watch a movie, but there are many movies to choose from, and the user is unsure which one to watch. It would be extremely helpful for users if the system could recommend a list of movies that they are more likely to enjoy.\n",
    "- Movie service providers: if the recommendation system is good, users are more likely to watch the movie and enjoy it, which means they will continue to pay for the service."
   ]
  },
  {
   "cell_type": "markdown",
   "metadata": {},
   "source": [
    "---"
   ]
  },
  {
   "cell_type": "markdown",
   "metadata": {},
   "source": [
    "## Data preprocessing <font color=green>(1 Points)</font>"
   ]
  },
  {
   "cell_type": "markdown",
   "metadata": {},
   "source": [
    "To create a recommendation system, first create an array of ratings from the initial data array `raw_ratings`, which includes the number of users for rows and the number of movies for columns. The entry `ratings[i, j]` indicate how many points were assigned to the movie with id `j` by the user with id `i`. If no value is specified, the value will be `nan`. Because Python indexes from 0, you should also change the user and movie ids to begin at 0 (instead of 1)."
   ]
  },
  {
   "cell_type": "code",
   "execution_count": null,
   "metadata": {},
   "outputs": [],
   "source": [
    "# YOUR CODE HERE\n",
    "raise NotImplementedError()"
   ]
  },
  {
   "cell_type": "code",
   "execution_count": null,
   "metadata": {},
   "outputs": [],
   "source": [
    "assert ratings.shape == (943, 1682)\n",
    "missing_ratios = np.mean(np.isnan(ratings))\n",
    "assert missing_ratios.round(3) == 0.937 # It has a nan value of 93.7%! :)"
   ]
  },
  {
   "cell_type": "markdown",
   "metadata": {},
   "source": [
    "---"
   ]
  },
  {
   "cell_type": "markdown",
   "metadata": {},
   "source": [
    "## Analyze data to answer the question <font color=green>(6 Points)</font>"
   ]
  },
  {
   "cell_type": "markdown",
   "metadata": {},
   "source": [
    "We will need to do two things in order to be able to recommend movies to each user:\n",
    "- Stage 1: predict each user's score for movies that they have not seen (in other words, enter nan values in the `ratings` array).\n",
    "- Stage 2: recommending movies (that the user has not seen) with high prediction scores to the user.\n",
    "\n",
    "In this assignment, we will only cover stage 1.\n",
    "\n",
    "First, we'll go over how to predict a user's score."
   ]
  },
  {
   "cell_type": "code",
   "execution_count": null,
   "metadata": {},
   "outputs": [],
   "source": [
    "# Assume we have the data example ratings stored in a Numpy array.\n",
    "# In this data, each column corresponds to a movie, \n",
    "# and each row corresponds to a user, \n",
    "# and each row indicates how many stars that user gave to each movie (from 1 to 5 stars).\n",
    "\n",
    "example_ratings = np.array([\n",
    "    [5, 4, np.nan, 1, np.nan],\n",
    "    [np.nan, 4, 4, 2, 2],\n",
    "    [3, np.nan, np.nan, 5, 5],\n",
    "    [np.nan, 3, 4, 4, np.nan]\n",
    "])\n",
    "\n",
    "example_ratings"
   ]
  },
  {
   "cell_type": "markdown",
   "metadata": {},
   "source": [
    "The goal here is to predict each user's missing values and then recommend movies that we believe will receive high ratings.\n",
    "\n",
    "For the sake of clarity, we will only focus on creating the first user here."
   ]
  },
  {
   "cell_type": "code",
   "execution_count": null,
   "metadata": {},
   "outputs": [],
   "source": [
    "# Calculate the weight of the similarity \n",
    "# between the first user and all users\n",
    "r0 = example_ratings[0]\n",
    "a = np.abs(example_ratings - r0)\n",
    "a = np.nanmean(a, axis=1) # Skip the nan value\n",
    "w = 1 / (a + 0.001) # Plus 0.001 to avoid divide by Zero\n",
    "w"
   ]
  },
  {
   "cell_type": "code",
   "execution_count": null,
   "metadata": {},
   "outputs": [],
   "source": [
    "# Get the columns corresponding to the movies \n",
    "# that the first user has not given a score\n",
    "a = example_ratings[:, np.isnan(r0)]\n",
    "a"
   ]
  },
  {
   "cell_type": "code",
   "execution_count": null,
   "metadata": {},
   "outputs": [],
   "source": [
    "# Calculate the normalized weight matrix \n",
    "# with the same shape as the result above \n",
    "# (sum of columns will be 1)\n",
    "normalized_w = ~np.isnan(a) * w.reshape(-1, 1)\n",
    "normalized_w = normalized_w / normalized_w.sum(axis=0)\n",
    "normalized_w"
   ]
  },
  {
   "cell_type": "code",
   "execution_count": null,
   "metadata": {},
   "outputs": [],
   "source": [
    "# Multiply the rating by the normalized weight \n",
    "# and add it up to get the prediction score for the first user\n",
    "np.nansum(a * normalized_w, axis=0)\n",
    "# Thus, we can recommend to the first user a movie with a high prediction score."
   ]
  },
  {
   "cell_type": "markdown",
   "metadata": {},
   "source": [
    "As a result, we can recommend a movie with a high prediction score to the first user. You will collaborate with all users in this assignment. However, you will not use loops and do it one by one for each user because Numpy dislikes loops (<span style=\"color:dodgerblue\">specifically, Python's loops are very slow, so we should use NumPy to speed up the computation there</span>). Instead, you will do it all at once for all users. To do this, calculate the rating for all movies for each user; if you only score for movies that have not been scored, it will be difficult to do it for all users at the same time because each user will have a different number of movies that have not been scored. Scoring for movies that already have points is redundant (the recalculated score will be very close to the original score because the original score has the most weight), but it may help speed things up because we can do it with all users at once.\n",
    "\n",
    "If you try it, you'll discover that you can't do it with all users at once because the intermediate result arrays will be about number of users $\\times$ number of users $\\times$ number of movies, and <span style=\"color:red\">there won't be enough memory</span>. One way to avoid having to browse each user again is to browse a group of users at once (called a batch) and predict their scores; the size of the intermediate result arrays will be reduced to about the number of users-of-a-batch $\\times$ number of users $\\times$ number of movies. So, in this case, you will be able to browse each batch using the loop (group of users).\n",
    "\n",
    "A `batch_size` of 32 will be used (the number of users per group). Finally, you'll fill the array `filled_ratings` with all of the movie scores; We only interested in the fill values that correspond to the nan values in the original `ratings` array (you can give other values anyway). Take care not to change the `ratings` array during the process."
   ]
  },
  {
   "cell_type": "code",
   "execution_count": null,
   "metadata": {},
   "outputs": [],
   "source": [
    "batch_size = 32\n",
    "filled_ratings = np.empty_like(ratings)"
   ]
  },
  {
   "cell_type": "markdown",
   "metadata": {},
   "source": [
    "I don't mean to scare you, but the setup is quite complicated, requiring knowledge of a mechanism known as <font color=green>broadcasting</font> as well as the ability to imagine three dimensional (higher dimensional, 4 or 5, etc.). As a result, you will first attempt this with a batch. I'll help you by breaking it down into steps and providing you with a test suite for each one. When switching from working with a single user to working with a batch size user, keep in mind that arrays will have an extra dimension at the top with the `batch_size` corresponding to the `batch_size` user. You will do the actual work with all of the data after the code has been successfully run with a batch."
   ]
  },
  {
   "cell_type": "markdown",
   "metadata": {},
   "source": [
    "## Tutorial: A brief knowledge about <font color=green>broadcasting</font>"
   ]
  },
  {
   "cell_type": "markdown",
   "metadata": {},
   "source": [
    "But at first, we should know what is <font color=green>broadcasting</font>. It is Numpy's mechanism that allows computations to be performed on arrays that do not have the same shape as if they did (this will be done effectively below: it will not create new arrays of the same shape).\n",
    "\n",
    "For example: \n",
    "\n",
    "`a = np.array([1, 2, 3])`\n",
    "\n",
    "`a + 10`\n",
    "\n",
    "[Broadcasting rules](https://numpy.org/devdocs/user/quickstart.html#broadcasting-rules):\n",
    "\n",
    "- Rule 1: if all input arrays do not have the same number of dimensions, a “1” will be repeatedly prepended to the shapes of the smaller arrays until all the arrays have the same number of dimensions.\n",
    "- Rule 2: arrays with a size of 1 along a particular dimension act as if they had the size of the array with the largest shape along that dimension. The value of the array element is assumed to be the same along that dimension for the “broadcast” array.\n",
    "- After application of the broadcasting rules, the sizes of all arrays must match."
   ]
  },
  {
   "cell_type": "code",
   "execution_count": null,
   "metadata": {},
   "outputs": [],
   "source": [
    "# Example 1\n",
    "a = np.array([[4, 5, 6],\n",
    "              [7, 8, 9]])\n",
    "a + 10"
   ]
  },
  {
   "cell_type": "markdown",
   "metadata": {},
   "source": [
    "Here is an explanation in detail:\n",
    "```\n",
    "shape of a:  2, 3\n",
    "shape of 10: \n",
    "              1, 1  [[10]]\n",
    "              2, 1  [[10],\n",
    "                     [10]]\n",
    "              2, 3  [[10, 10, 10],\n",
    "                     [10, 10, 10],\n",
    "                     [10, 10, 10]]\n",
    "```"
   ]
  },
  {
   "cell_type": "code",
   "execution_count": null,
   "metadata": {},
   "outputs": [],
   "source": [
    "# Example 2\n",
    "a = np.array([[4, 5, 6],\n",
    "              [7, 8, 9]])\n",
    "b = np.array([[1, 2, 3]])\n",
    "a * b"
   ]
  },
  {
   "cell_type": "markdown",
   "metadata": {},
   "source": [
    "Here is an explanation in detail:\n",
    "```\n",
    "shape of a: 2, 3\n",
    "shape of b: 1, 3  [[1, 2, 3]]\n",
    "             2, 3  [[1, 2, 3],\n",
    "                    [1, 2, 3]]\n",
    "```"
   ]
  },
  {
   "cell_type": "code",
   "execution_count": null,
   "metadata": {},
   "outputs": [],
   "source": [
    "# Example 3\n",
    "a = np.array([[4, 5, 6],\n",
    "              [7, 8, 9]])\n",
    "b = np.array([1, 2, 3])\n",
    "a * b"
   ]
  },
  {
   "cell_type": "markdown",
   "metadata": {},
   "source": [
    "Here is an explanation in detail:\n",
    "```\n",
    "shape of a: 2, 3\n",
    "shape of b: 3     [1, 2, 3]\n",
    "             1, 3  [[1, 2, 3]]\n",
    "             2, 3  [[1, 2, 3],\n",
    "                    [1, 2, 3]]\n",
    "```"
   ]
  },
  {
   "cell_type": "code",
   "execution_count": null,
   "metadata": {},
   "outputs": [],
   "source": [
    "# Broadcasting - Example 4\n",
    "a = np.array([[4],\n",
    "              [5],\n",
    "              [6]])\n",
    "b = np.array([1, 2, 3])\n",
    "a * b"
   ]
  },
  {
   "cell_type": "markdown",
   "metadata": {},
   "source": [
    "Here is an explanation in detail:\n",
    "```\n",
    "shape of a: 3, 1  [[4],\n",
    "                    [5],\n",
    "                    [6]]\n",
    "             3, 3  [[4, 4, 4],\n",
    "                    [5, 5, 5],\n",
    "                    [6, 6, 6]]\n",
    "shape of b: 3     [1, 2, 3]\n",
    "             1, 3  [[1, 2, 3]]\n",
    "             3, 3  [[1, 2, 3],\n",
    "                    [1, 2, 3],\n",
    "                    [1, 2, 3]]\n",
    "```"
   ]
  },
  {
   "cell_type": "code",
   "execution_count": null,
   "metadata": {},
   "outputs": [],
   "source": [
    "# Broadcasting - Exampl 5\n",
    "\n",
    "# a = np.array([[4, 5, 6],\n",
    "#               [7, 8, 9]])\n",
    "# b = np.array([1, 2])\n",
    "# a * b\n",
    "\n",
    "# There will error when you try to uncomment and run this cell?\n",
    "# Why it happen? Easy!! Just pay attention of the shape\n",
    "# shape of a: 2, 3\n",
    "# shape of b: 1, 2"
   ]
  },
  {
   "cell_type": "code",
   "execution_count": null,
   "metadata": {},
   "outputs": [],
   "source": [
    "# Applying broadcasting:\n",
    "# Normalize so that columns of array data have mean = 0 & std = 1\n",
    "# (How to do: subtract each column's mean by that column's std, then divide by that column's std)\n",
    "\n",
    "# First: Initialize data\n",
    "data = np.random.randint(0, 10, (20, 2))\n",
    "data[:, 1] *= 3\n",
    "\n",
    "# Then: Normalize so columns of array data have mean = 0 & std = 1\n",
    "data = (data - data.mean(axis=0)) / data.std(axis=0)\n",
    "\n",
    "print(data.mean(axis=0))\n",
    "print(data.std(axis=0))"
   ]
  },
  {
   "cell_type": "markdown",
   "metadata": {},
   "source": [
    "## Ok, let's go back to the homework : D"
   ]
  },
  {
   "cell_type": "markdown",
   "metadata": {},
   "source": [
    "At first, you will attempt to do it with a single batch that corresponds to users who have an id from beginning `start` to end `end` <font color=green>(5.5đ)</font>."
   ]
  },
  {
   "cell_type": "code",
   "execution_count": null,
   "metadata": {},
   "outputs": [],
   "source": [
    "start = 0\n",
    "end = batch_size"
   ]
  },
  {
   "cell_type": "markdown",
   "metadata": {},
   "source": [
    "Step 1: Compute the array `similarities`, which indicates the similarity between each user in the considering batch and all users in the entire dataset. The size of this array will be `batch_size` $\\times$ `n_users` (`n_users` is the total number of users in the dataset), and `similarities[i, j]` indicates the similarity between index user at index $i$ and user at index $i$. \n",
    "\n",
    "<span style=\"color:dodgerblue\">When two users have no movies in common (when running, you may see a warning \"RuntimeWarning: Mean of empty slice\"), then you assign the similarity with a value of 0.</span>"
   ]
  },
  {
   "cell_type": "code",
   "execution_count": null,
   "metadata": {},
   "outputs": [],
   "source": [
    "# YOUR CODE HERE\n",
    "raise NotImplementedError()"
   ]
  },
  {
   "cell_type": "code",
   "execution_count": null,
   "metadata": {},
   "outputs": [],
   "source": [
    "# TEST\n",
    "assert similarities.shape == (32, 943)\n",
    "assert np.array_equal(similarities[:3, :3].round(1), \n",
    "                      np.array([[1.0e+03, 1.1e+00, 7.0e-01],\n",
    "                                [1.1e+00, 1.0e+03, 7.0e-01],\n",
    "                                [7.0e-01, 7.0e-01, 1.0e+03]]))"
   ]
  },
  {
   "cell_type": "markdown",
   "metadata": {},
   "source": [
    "Step 2: Compute the weight array `weights` as a `similarity` normalized array. The similarity to all other users is normalized for each movie for each user in the batch under consideration; for users who have given movie scores, it is normalized by dividing the similarity by the total similarity that is considered only for users who have given movie scores, with the rest of the users normalized by giving similarity zero. The dimensions of the array `weights` will be `batch_size` x `n_users` x `n_movies` (where `n_movies` is the sum of the number of movies in the dataset).\n",
    "\n",
    "<span style=\"color:dodgerblue\">When you run the code, you will see the message \"RuntimeWarning: invalid value encountered in true divide.\" This is because the users who have a rating for the movie in question have a similarity of 0, resulting in normalization going to 0/0 and the result being nan. In this case, it means that there is insufficient information to predict the score, and you will leave it as is for this assignment.</span>"
   ]
  },
  {
   "cell_type": "code",
   "execution_count": null,
   "metadata": {},
   "outputs": [],
   "source": [
    "# YOUR CODE HERE\n",
    "raise NotImplementedError()"
   ]
  },
  {
   "cell_type": "code",
   "execution_count": null,
   "metadata": {},
   "outputs": [],
   "source": [
    "# TEST\n",
    "assert weights.shape == (32, 943, 1682)\n",
    "assert np.sum(np.isnan(weights)) == 31119"
   ]
  },
  {
   "cell_type": "markdown",
   "metadata": {},
   "source": [
    "Step 3: Calculate the score (for all movies) for each user in the batch under consideration by multiplying the scores of all users by the corresponding weights in the `weight` array; then write each user's scores down one line in the `filled_ratings` array."
   ]
  },
  {
   "cell_type": "code",
   "execution_count": null,
   "metadata": {},
   "outputs": [],
   "source": [
    "# YOUR CODE HERE\n",
    "raise NotImplementedError()"
   ]
  },
  {
   "cell_type": "code",
   "execution_count": null,
   "metadata": {},
   "outputs": [],
   "source": [
    "# TEST\n",
    "filled_batch = filled_ratings[start:end]\n",
    "filled_nanvals = filled_batch[np.isnan(ratings[start:end])]\n",
    "assert np.array_equal(filled_nanvals[:13].round(1), np.array(\n",
    "    [3.6, 3.5, 4., 3.8, 3.5, 3.2, 3.4, 3.1, 3.2, 3.7, 3.7, 3.2, 4.3]))\n",
    "assert np.array_equal(filled_nanvals[-13:].round(1), np.array(\n",
    "    [3., 1., 2., 3., 4., 3., 2., 3., 1., 3., 2., 3., 3.]))"
   ]
  },
  {
   "cell_type": "markdown",
   "metadata": {},
   "source": [
    "Your code has run OK with a batch, now you can do it for real on all the data <font color=green>(0.5 Points)</font>."
   ]
  },
  {
   "cell_type": "code",
   "execution_count": null,
   "metadata": {},
   "outputs": [],
   "source": [
    "# YOUR CODE HERE\n",
    "raise NotImplementedError()"
   ]
  },
  {
   "cell_type": "code",
   "execution_count": null,
   "metadata": {},
   "outputs": [],
   "source": [
    "# TEST\n",
    "filled_nanvals = filled_ratings[np.isnan(ratings)]\n",
    "assert np.array_equal(filled_nanvals[13:26].round(1), np.array(\n",
    "    [3.1, 3.6, 3.9, 1.4, 3.1, 3.3, 3., 3.8, 3.8, 3.4, 3.4, 4., 3.8]))\n",
    "assert np.array_equal(filled_nanvals[-26:-13].round(1), np.array(\n",
    "    [3., 3., 1., 2., 1., 2.5, 2., 3.2, 2., 2., 3., 3., 2.]))"
   ]
  },
  {
   "cell_type": "markdown",
   "metadata": {},
   "source": [
    "This is the end of Lab 2 (￣▽￣) Good luck!"
   ]
  }
 ],
 "metadata": {
  "kernelspec": {
   "display_name": "Python 3.8.8 ('min_ds-env')",
   "language": "python",
   "name": "python3"
  },
  "language_info": {
   "codemirror_mode": {
    "name": "ipython",
    "version": 3
   },
   "file_extension": ".py",
   "mimetype": "text/x-python",
   "name": "python",
   "nbconvert_exporter": "python",
   "pygments_lexer": "ipython3",
   "version": "3.8.8"
  },
  "orig_nbformat": 4,
  "vscode": {
   "interpreter": {
    "hash": "ae40947b55d23fa66de0056542b739ddefca8ca5c7aded5612b7ae61bb2128ef"
   }
  }
 },
 "nbformat": 4,
 "nbformat_minor": 2
}
