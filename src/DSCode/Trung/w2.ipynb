{
 "cells": [
  {
   "cell_type": "code",
   "execution_count": 3,
   "metadata": {},
   "outputs": [],
   "source": [
    "class Student:\n",
    "    __schoolName = 'XYZ School' # private class attribute\n",
    "\n",
    "    @staticmethod   \n",
    "    def __init__(self, name, age):\n",
    "        self.__name=name  # private instance attribute\n",
    "        self.__salary=age # private instance attribute\n",
    "    def display(self):  # private method\n",
    "\t    print(f'Name: {self.__name}\\nSchool name: {self.__schoolName}\\nSalary: {self.__salary}')\n",
    "\n"
   ]
  },
  {
   "cell_type": "code",
   "execution_count": 4,
   "metadata": {},
   "outputs": [
    {
     "name": "stdout",
     "output_type": "stream",
     "text": [
      "Name: abc\n",
      "School name: XYZ School\n",
      "Salary: 7000\n"
     ]
    }
   ],
   "source": [
    "stu = Student('abc', 7000)\n",
    "stu.display()"
   ]
  },
  {
   "cell_type": "code",
   "execution_count": 17,
   "metadata": {},
   "outputs": [],
   "source": [
    "class Shape:\n",
    "    def __init__(self, name):\n",
    "        self._name = name\n",
    "    def printShape(self):\n",
    "        print(f'this is a {self._name}')\n",
    "\n",
    "class Circle(Shape):\n",
    "    def __init__(self, name, r):\n",
    "        super().__init__(name)\n",
    "        self.__radius = r\n",
    "    def printShape(self):\n",
    "        print(f'this is a {self._name}')\n",
    "        print(f'radius: {self.__radius}')"
   ]
  },
  {
   "cell_type": "code",
   "execution_count": 18,
   "metadata": {},
   "outputs": [
    {
     "name": "stdout",
     "output_type": "stream",
     "text": [
      "this is a trung\n",
      "radius: 5\n"
     ]
    }
   ],
   "source": [
    "c = Circle('trung', 5)\n",
    "c.printShape()"
   ]
  },
  {
   "cell_type": "code",
   "execution_count": 21,
   "metadata": {},
   "outputs": [],
   "source": [
    "class first(object):\n",
    "    def __init__(self) -> None:\n",
    "        print('first')\n",
    "\n",
    "class second(first):\n",
    "    def __init__(self) -> None:\n",
    "        print('second')\n",
    "\n",
    "class third(first):\n",
    "    def __init__(self) -> None:\n",
    "        print('third')\n",
    "\n",
    "class fourth(second, first):\n",
    "    def __init__(self) -> None:\n",
    "        second.__init__(self)\n",
    "        third.__init__(self)\n"
   ]
  },
  {
   "cell_type": "code",
   "execution_count": 22,
   "metadata": {},
   "outputs": [
    {
     "name": "stdout",
     "output_type": "stream",
     "text": [
      "second\n",
      "third\n"
     ]
    }
   ],
   "source": [
    "f = fourth()"
   ]
  },
  {
   "cell_type": "code",
   "execution_count": null,
   "metadata": {},
   "outputs": [],
   "source": []
  }
 ],
 "metadata": {
  "kernelspec": {
   "display_name": "Python 3.10.6 64-bit ('3.10.6')",
   "language": "python",
   "name": "python3"
  },
  "language_info": {
   "codemirror_mode": {
    "name": "ipython",
    "version": 3
   },
   "file_extension": ".py",
   "mimetype": "text/x-python",
   "name": "python",
   "nbconvert_exporter": "python",
   "pygments_lexer": "ipython3",
   "version": "3.10.6"
  },
  "orig_nbformat": 4,
  "vscode": {
   "interpreter": {
    "hash": "89e8354a88354ecf7ffb299b56239fb0ecc48c48d372ba43f5b93cc4e944f72d"
   }
  }
 },
 "nbformat": 4,
 "nbformat_minor": 2
}
