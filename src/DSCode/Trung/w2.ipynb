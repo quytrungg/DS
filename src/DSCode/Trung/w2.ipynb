{
 "cells": [
  {
   "cell_type": "code",
   "execution_count": 3,
   "metadata": {},
   "outputs": [],
   "source": [
    "class Student:\n",
    "    __schoolName = 'XYZ School' # private class attribute\n",
    "\n",
    "    @staticmethod   \n",
    "    def __init__(self, name, age):\n",
    "        self.__name=name  # private instance attribute\n",
    "        self.__salary=age # private instance attribute\n",
    "    def display(self):  # private method\n",
    "\t    print(f'Name: {self.__name}\\nSchool name: {self.__schoolName}\\nSalary: {self.__salary}')\n",
    "\n"
   ]
  },
  {
   "cell_type": "code",
   "execution_count": 4,
   "metadata": {},
   "outputs": [
    {
     "name": "stdout",
     "output_type": "stream",
     "text": [
      "Name: abc\n",
      "School name: XYZ School\n",
      "Salary: 7000\n"
     ]
    }
   ],
   "source": [
    "stu = Student('abc', 7000)\n",
    "stu.display()"
   ]
  },
  {
   "cell_type": "code",
   "execution_count": 17,
   "metadata": {},
   "outputs": [],
   "source": [
    "class Shape:\n",
    "    def __init__(self, name):\n",
    "        self._name = name\n",
    "    def printShape(self):\n",
    "        print(f'this is a {self._name}')\n",
    "\n",
    "class Circle(Shape):\n",
    "    def __init__(self, name, r):\n",
    "        super().__init__(name)\n",
    "        self.__radius = r\n",
    "    def printShape(self):\n",
    "        print(f'this is a {self._name}')\n",
    "        print(f'radius: {self.__radius}')"
   ]
  },
  {
   "cell_type": "code",
   "execution_count": 18,
   "metadata": {},
   "outputs": [
    {
     "name": "stdout",
     "output_type": "stream",
     "text": [
      "this is a trung\n",
      "radius: 5\n"
     ]
    }
   ],
   "source": [
    "c = Circle('trung', 5)\n",
    "c.printShape()"
   ]
  },
  {
   "cell_type": "code",
   "execution_count": 21,
   "metadata": {},
   "outputs": [],
   "source": [
    "class first(object):\n",
    "    def __init__(self) -> None:\n",
    "        print('first')\n",
    "\n",
    "class second(first):\n",
    "    def __init__(self) -> None:\n",
    "        print('second')\n",
    "\n",
    "class third(first):\n",
    "    def __init__(self) -> None:\n",
    "        print('third')\n",
    "\n",
    "class fourth(second, first):\n",
    "    def __init__(self) -> None:\n",
    "        second.__init__(self)\n",
    "        third.__init__(self)\n"
   ]
  },
  {
   "cell_type": "code",
   "execution_count": 22,
   "metadata": {},
   "outputs": [
    {
     "name": "stdout",
     "output_type": "stream",
     "text": [
      "second\n",
      "third\n"
     ]
    }
   ],
   "source": [
    "f = fourth()"
   ]
  },
  {
   "cell_type": "code",
   "execution_count": 25,
   "metadata": {},
   "outputs": [
    {
     "name": "stdout",
     "output_type": "stream",
     "text": [
      "True \n",
      "\n",
      "40(0)\t\n",
      "\n",
      "30(40)\t60(40)\t\n",
      "\n",
      "20(30)\t35(30)\t55(60)\t70(60)\t\n",
      "\n",
      "80(70)\t\n",
      "\n",
      "90(80)\t\n",
      "\n"
     ]
    }
   ],
   "source": [
    "class Node:\n",
    "        def __init__(self, value):\n",
    "            self.value = value\n",
    "            self.left = None\n",
    "            self.right = None\n",
    "            \n",
    "class BST:\n",
    "\n",
    "    def __init__(self):\n",
    "        self.root = None\n",
    "\n",
    "    def draw(self):\n",
    "        q = []\n",
    "        q.append((self.root, 0))\n",
    "        while len(q) > 0:\n",
    "            n = len(q)\n",
    "            for i in range(n):\n",
    "                current, parent = q.pop(0)\n",
    "                print(f'{current.value}({parent})', end='\\t')\n",
    "                if current.left:\n",
    "                    q.append((current.left, current.value))\n",
    "                if current.right:\n",
    "                    q.append((current.right, current.value))\n",
    "            print(\"\\n\")            \n",
    "\n",
    "    def insert(self, value):\n",
    "        new_node = Node(value)\n",
    "        if self.root is None:\n",
    "            self.root = new_node\n",
    "        else:\n",
    "            current = self.root\n",
    "            while True:\n",
    "                if value < current.value:\n",
    "                    if current.left is None:\n",
    "                        current.left = new_node\n",
    "                        break\n",
    "                    else:\n",
    "                        current = current.left\n",
    "                elif value > current.value:\n",
    "                    if current.right is None:\n",
    "                        current.right = new_node\n",
    "                        break\n",
    "                    else:\n",
    "                        current = current.right\n",
    "\n",
    "    def search(self, value):\n",
    "        current = self.root\n",
    "        while current is not None:\n",
    "            if value == current.value:\n",
    "                return True\n",
    "            elif value < current.value:\n",
    "                current = current.left\n",
    "            else:\n",
    "                current = current.right\n",
    "        return False\n",
    "\n",
    "tree = BST()\n",
    "tree.insert(40)\n",
    "tree.insert(30)\n",
    "tree.insert(60)\n",
    "tree.insert(70)\n",
    "tree.insert(55)\n",
    "tree.insert(80)\n",
    "tree.insert(90)\n",
    "tree.insert(35)\n",
    "tree.insert(20)\n",
    "\n",
    "print(tree.search(55), \"\\n\"),\n",
    "tree.draw()"
   ]
  },
  {
   "cell_type": "code",
   "execution_count": 27,
   "metadata": {},
   "outputs": [
    {
     "name": "stdout",
     "output_type": "stream",
     "text": [
      "   __50_   \n",
      "  /     \\  \n",
      " 10_   60_ \n",
      "/   \\     \\\n",
      "5  30    90\n"
     ]
    }
   ],
   "source": [
    "class BstNode:\n",
    "    def __init__(self, key):\n",
    "        self.key = key\n",
    "        self.right = None\n",
    "        self.left = None\n",
    "    def insert(self, key):\n",
    "        if self.key == key:\n",
    "            return\n",
    "        elif self.key < key:\n",
    "            if self.right is None:\n",
    "                self.right = BstNode(key)\n",
    "            else:\n",
    "                self.right.insert(key)\n",
    "        else:\n",
    "            if self.left is None:\n",
    "                self.left = BstNode(key)\n",
    "            else:\n",
    "                self.left.insert(key)\n",
    "        return self\n",
    "    \n",
    "    def search(self, data):\n",
    "        if self.key == data:\n",
    "            return self\n",
    "        \n",
    "        elif self.key < data and self.right:\n",
    "            return self.right.search(data)\n",
    "            \n",
    "        elif self.key > data and self.left:\n",
    "            return self.left.search(data)\n",
    "    \n",
    "    def draw(self):\n",
    "        lines, *_ = self._display_aux()\n",
    "        for line in lines:\n",
    "            print(line)\n",
    "    def _display_aux(self):\n",
    "        # No child.\n",
    "        if self.right is None and self.left is None:\n",
    "            line = '%s' % self.key\n",
    "            width = len(line)\n",
    "            height = 1\n",
    "            middle = width // 2\n",
    "            return [line], width, height, middle\n",
    "        # Only left child.\n",
    "        if self.right is None:\n",
    "            lines, n, p, x = self.left._display_aux()\n",
    "            s = '%s' % self.key\n",
    "            u = len(s)\n",
    "            first_line = (x + 1) * ' ' + (n - x - 1) * '_' + s\n",
    "            second_line = x * ' ' + '/' + (n - x - 1 + u) * ' '\n",
    "            shifted_lines = [line + u * ' ' for line in lines]\n",
    "            return [first_line, second_line] + shifted_lines, n + u, p + 2, n + u // 2\n",
    "        # Only right child.\n",
    "        if self.left is None:\n",
    "            lines, n, p, x = self.right._display_aux()\n",
    "            s = '%s' % self.key\n",
    "            u = len(s)\n",
    "            first_line = s + x * '_' + (n - x) * ' '\n",
    "            second_line = (u + x) * ' ' + '\\\\' + (n - x - 1) * ' '\n",
    "            shifted_lines = [u * ' ' + line for line in lines]\n",
    "            return [first_line, second_line] + shifted_lines, n + u, p + 2, u // 2\n",
    "        # Two children.\n",
    "        left, n, p, x = self.left._display_aux()\n",
    "        right, m, q, y = self.right._display_aux()\n",
    "        s = '%s' % self.key\n",
    "        u = len(s)\n",
    "        first_line = (x + 1) * ' ' + (n - x - 1) * '_' + s + y * '_' + (m - y) * ' '\n",
    "        second_line = x * ' ' + '/' + (n - x - 1 + u + y) * ' ' + '\\\\' + (m - y - 1) * ' '\n",
    "        if p < q:\n",
    "            left += [n * ' '] * (q - p)\n",
    "        elif q < p:\n",
    "            right += [m * ' '] * (p - q)\n",
    "        zipped_lines = zip(left, right)\n",
    "        lines = [first_line, second_line] + [a + u * ' ' + b for a, b in zipped_lines]\n",
    "        return lines, n + m + u, max(p, q) + 2, n + u // 2\n",
    "    \n",
    "b = BstNode(50)\n",
    "b.insert(10).insert(60).insert(30).insert(90).insert(5)\n",
    "b.draw() \n",
    "foundNode = b.search(60)"
   ]
  },
  {
   "cell_type": "code",
   "execution_count": null,
   "metadata": {},
   "outputs": [],
   "source": [
    "def left_rotate(root):\n",
    "    temp = root.right\n",
    "    temp.left = root.left\n",
    "    root.left.right = root"
   ]
  },
  {
   "cell_type": "code",
   "execution_count": 4,
   "metadata": {},
   "outputs": [],
   "source": [
    "from git import Repo"
   ]
  },
  {
   "cell_type": "code",
   "execution_count": 5,
   "metadata": {},
   "outputs": [],
   "source": [
    "import git\n",
    "\n",
    "\n",
    "repo_url = ''\n",
    "g = git.Git(repo_url)"
   ]
  },
  {
   "cell_type": "code",
   "execution_count": 1,
   "metadata": {},
   "outputs": [],
   "source": [
    "import cv2 as cv"
   ]
  },
  {
   "cell_type": "code",
   "execution_count": null,
   "metadata": {},
   "outputs": [],
   "source": [
    "img = cv.imread('copy.jpg')\n",
    "\n",
    "cv.imshow(\"Dog\", img)"
   ]
  },
  {
   "cell_type": "code",
   "execution_count": null,
   "metadata": {},
   "outputs": [],
   "source": []
  }
 ],
 "metadata": {
  "kernelspec": {
   "display_name": "Python 3.10.6 64-bit ('3.10.6')",
   "language": "python",
   "name": "python3"
  },
  "language_info": {
   "codemirror_mode": {
    "name": "ipython",
    "version": 3
   },
   "file_extension": ".py",
   "mimetype": "text/x-python",
   "name": "python",
   "nbconvert_exporter": "python",
   "pygments_lexer": "ipython3",
   "version": "3.10.6"
  },
  "orig_nbformat": 4,
  "vscode": {
   "interpreter": {
    "hash": "89e8354a88354ecf7ffb299b56239fb0ecc48c48d372ba43f5b93cc4e944f72d"
   }
  }
 },
 "nbformat": 4,
 "nbformat_minor": 2
}
