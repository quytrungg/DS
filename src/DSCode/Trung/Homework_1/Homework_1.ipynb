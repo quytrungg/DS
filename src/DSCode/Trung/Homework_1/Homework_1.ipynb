{
 "cells": [
  {
   "cell_type": "markdown",
   "metadata": {},
   "source": [
    "# Homework 1: Linux & Python Commands\n",
    "\n",
    "**Student information**\n",
    "\n",
    "Student ID: 20127370\n",
    "\n",
    "Student Fullname: Mai Quý Trung"
   ]
  },
  {
   "cell_type": "markdown",
   "metadata": {},
   "source": [
    "## Instructions for homework and submission\n",
    "\n",
    "&#9889; It's important to keep in mind that the teaching assistants will use a grading support application, so you must strictly adhere to the guidelines outlined in the instructions. If you are unsure, please ask the teaching assistants or the lab instructors as soon as you can. <font color=red>Do not follow your personal preferences at random. </font>\n",
    "\n",
    "### Instructions for doing homework\n",
    "\n",
    "The exercise will be completed directly from this notebook file. First, fill in the file header above with your name and student ID. You fill out the assignment in the notebook file where the given task starts with these patterns below: \n",
    "for required parts to implement\n",
    "```python\n",
    "# YOUR CODE HERE\n",
    "raise NotImplementedError()\n",
    "```\n",
    "or for optional parts:\n",
    "```python\n",
    "# YOUR CODE HERE (OPTION)\n",
    "```\n",
    "or for markdown cell:\n",
    "```markdown\n",
    "YOUR ANSWER HERE\n",
    "```\n",
    "\n",
    "Actually, when doing the lab, you just need to remove the line `raise NotImplementedError()`.\n",
    "\n",
    "There will typically be a cell (or several cells) with test suites to let you determine if the code is correct or not directly below the areas that require code that you need to implement; If there are no errors in this cell, the tests were successful.\n",
    "In some circumstances, test suites may be insufficient, meaning that even if the test passes but the code fails, it may not necessarily be correct. \n",
    "\n",
    "You can print on the screen as you work in the lab to generate more test cells. However, you can either erase the cells you make or add a comment to the statements that are displayed on the screen when you submit. <font color=red>Please be aware that you are not permitted to remove cells or change the coding of the teacher/assistant/lab instructor by yourselves (except where editing is allowed as mentioned above). </font>\n",
    "\n",
    "Try to keep the code organized and clear; name proposed variables, add comments when necessary, and limit the length of each line of code (because otherwise the reader will have to scroll). Use this guideline if needed: a line of code should not exceed 79 characters. \n",
    "\n",
    "It is advised to frequently press CTRL + S while performing the workouts to save your work and prevent data loss.\n",
    "\n",
    "*Keep in mind that <font color=green>knowledge and honest learning are the major objectives here</font>. Thoughts can be discussed, the work and <font color=green>code should be original to you and reflect your actual understanding</font>. <font color=red>Violations will result in a total course grade of zero.</font>*\n",
    "\n",
    "Other advice includes:\n",
    "- Starting early and not waiting until the last minute\n",
    "- Proceed with caution and gentleness. Coding in a very slow, but also very fast, manner. \n",
    "- Avoid sources of interference, such as social networks, games, etc.\n",
    "\n",
    "### Instructions for submission\n",
    "\n",
    "Your work will be graded by selecting `Kernel-Restart & Run All` to restart and run every cell in your notebook while grading. As a result, you should test run `Kernel-Restart` & `Run All` before submitting your work to ensure everything is working as it should.\n",
    "\n",
    "Then you create a submission folder with the following structure:\n",
    "- The `StudentID` folder (e.g., if you have an student ID of 1234567, name the folder 1234567):\n",
    "  - File `Homework_1.ipynb` (no need to submit other files)\n",
    "\n",
    "Finally, compress this `StudentID` folder with *.zip format and submit it on Moodle. <font color=red>Please be sure to strictly follow the submission rules.</font>"
   ]
  },
  {
   "cell_type": "markdown",
   "metadata": {},
   "source": [
    "## Programming environment\n",
    "\n",
    "In this course, we strictly follow three main rules below:\n",
    "- Programming on Linux environment to complete the labs (you have set up in HW0).\n",
    "- Use Jupyter Notebook or Jupyter Lab to complete the tasks assigned in the `.ipynb` file. Note that: <font color=red>you are NOT ALLOWED to use Google Colab</font>, because it can delete some meta data that our grading support program has created in the exercise file.\n",
    "- Use the package version as in the file \"min_ds-env.yml\" (you see in HW0 how to use Conda to create a code environment from the `.yml` file and how to activate this environment after it is created)"
   ]
  },
  {
   "cell_type": "code",
   "execution_count": 1,
   "metadata": {},
   "outputs": [
    {
     "data": {
      "text/plain": [
       "'/Users/quytrungg/opt/anaconda3/envs/min_ds-env/bin/python'"
      ]
     },
     "execution_count": 1,
     "metadata": {},
     "output_type": "execute_result"
    }
   ],
   "source": [
    "import sys\n",
    "sys.executable"
   ]
  },
  {
   "cell_type": "markdown",
   "metadata": {},
   "source": [
    "If there are no any issues/ problems, the file to run python will be the file of the \"min_ds-env\" code environment.\n",
    "\n",
    "To complete this lab, you are allowed to use the Python programming language; do not use any additional libraries such as Numpy, Pandas, etc. Furthermore, you also do not use any additional libraries such as `csv` for reading or writing files in Python.\n"
   ]
  },
  {
   "cell_type": "markdown",
   "metadata": {},
   "source": [
    "## Import the necessary libraries"
   ]
  },
  {
   "cell_type": "code",
   "execution_count": 65,
   "metadata": {},
   "outputs": [],
   "source": [
    "import datetime\n",
    "# YOUR CODE HERE (OPTION)"
   ]
  },
  {
   "cell_type": "markdown",
   "metadata": {},
   "source": [
    "## Task: Data collection (3.5 Points)\n",
    "\n",
    "You will be required to gather log data from [the nbdime repository](https://github.com/KienTrann/nbdime) for this assignment. Nbdime is a software program that allows Git to properly compare and merge notebook files (instead of just treating them as regular text files). The URL given points to the repository forked (basically, made a copy) from the original source code of nbdime rather than the repository's original (official) repository. This is being done so that the fixed version will be the log data and that test suites will be available, allowing you to partially determine whether the code is correct or not. If utilizing the original repository, the test suites might not be valid in a few days because the log data might change.\n",
    "\n",
    "To be able to get log data, the first thing you need to do in the cell below is:\n",
    "- Clone the container using the Git command; do this into a folder that is the same level as this notebook file. <font color=gray>Hint: In Jupyter Notebook, you can run a Linux command (including a Git function) by adding a '!' at the top of the code cell. </font>\n",
    "- Then, determine the total size of the cloned folder and record it in the repo size variable `repo_size` (repo size variable `repo_size` is an integer with MB as the unit); We concur: Use the `--apparent-size` flag when using the `du` command, and keep in mind that this particular container is the only one for which the code must function properly. <font color=gray>Hint: You can assign the result of a Linux statement to a Python variable in Jupyter Notebook. </font>\\\n",
    "@ Users of Macs: The `--apparent-size` flag for the `du` command is not available on Macs.\n",
    "You can watch [this video](https://youtu.be/VGgTmxXp7xQ?t=894) to learn how to install the GNU `du` command because the `du` command for Linux is the GNU version while the `du` command for Mac is the BSD version (in the video it is about the `grep` command, but in practice it would be the same with the `du` command statement). "
   ]
  },
  {
   "cell_type": "code",
   "execution_count": 90,
   "metadata": {},
   "outputs": [
    {
     "name": "stdout",
     "output_type": "stream",
     "text": [
      "/Users/quytrungg/Desktop/DS/src/DSCode/Trung/Homework_1/nbdime/nbdime\n",
      "9.6\n"
     ]
    }
   ],
   "source": [
    "# YOUR CODE HERE\n",
    "# ! git clone 'https://github.com/KienTrann/nbdime.git'\n",
    "\n",
    "! cd nbdime && pwd\n",
    "totalSize = ! du -Aclnx -sh\n",
    "repo_size = float(totalSize[0][0:3])\n",
    "print(repo_size)\n",
    "! cd .."
   ]
  },
  {
   "cell_type": "markdown",
   "metadata": {},
   "source": [
    "After you have cloned the repository, the following step is to retrieve the log data using Linux commands (including Git commands) and Python and to save it in the file \"log.tsv\" (tsv format is like csv but the values are separated by tab).\n",
    "You can check the \"correct log.tsv\" file that you sent as the precise result. As you can see, each line in the table represents a commit (with the sole exception of the first line, which is the row holding the column names) and contains the details mentioned below: \n",
    "- Id: commit id (hash code).\n",
    "- ParentIds: parent commit id (hash code).\n",
    "- AuthorName: name of the Github Author.\n",
    "- AuthorEmail: contact email of the Github author.\n",
    "- AuthorDate: the date that the Github Author performs a commit to the repository. In addition, the date follows the RFC2822 format.\n",
    "- Subject: the title of the message (message is similar to that in an email; in addition to the \"subject\" part, there may be a \"body\" part; here we only take the \"subject\").\n",
    "- ChangedFiles: files are changed, if there are multiple files, the files are separated by comma.\n",
    "\n",
    "Why use tsv format instead of csv? Because the comma is more likely to be in the \"subject\" part of the message. Tabs are less likely to exist, but if they are, replace them with four spaces.\n",
    "\n",
    "<font color=gray>Hint:</font> \n",
    "- You can learn more about `git log` command at [here](https://git-scm.com/book/en/v2/Git-Basics-Viewing-the-Commit-History)\n",
    "- <font color=gray>Try to use `cd` to change the directory to the clone directory and then `pwd` when working with notebooks. This outcome is caused by the fact that when running a Linux command line in Notebook, Notebook will immediately open a temporary terminal to run the command line. In a temporary terminal, the `cd` command can change the directory to the clone directory. We will stay in the directory where the current copy of the notebook file is placed after the `cd` command has completed running. Putting these two statements on a single line and separating them with a '&&' allows us to enable `cd` and then `pwd`. Then, both command instructions are currently being run on the same terminal at this time.</font> "
   ]
  },
  {
   "cell_type": "code",
   "execution_count": 93,
   "metadata": {},
   "outputs": [
    {
     "name": "stdout",
     "output_type": "stream",
     "text": [
      "/Users/quytrungg/Desktop/DS/src/DSCode/Trung/Homework_1/nbdime/nbdime\n"
     ]
    }
   ],
   "source": [
    "# YOUR CODE HERE \n",
    "\n",
    "! cd nbdime && pwd\n",
    "! echo 'Id\tParentIds\tAuthorName\tAuthorEmail\tAuthorDate\tSubject\tChangedFiles' > '../log.tsv'\n",
    "! git log --pretty=format:\"%h %p %an %ae  %ad    %s\" >> '../log.tsv' \n",
    "! cd .."
   ]
  },
  {
   "cell_type": "code",
   "execution_count": null,
   "metadata": {},
   "outputs": [],
   "source": [
    "result = ''\n",
    "with open('test.txt') as f:\n",
    "    row = f.read().split('\\n')\n",
    "    result += ''.join(row)\n",
    "result"
   ]
  },
  {
   "cell_type": "code",
   "execution_count": 44,
   "metadata": {},
   "outputs": [
    {
     "name": "stdout",
     "output_type": "stream",
     "text": [
      "/Users/quytrungg/Desktop/DS/src/DSCode/Trung/Homework_1\n"
     ]
    },
    {
     "ename": "AssertionError",
     "evalue": "",
     "output_type": "error",
     "traceback": [
      "\u001b[0;31m---------------------------------------------------------------------------\u001b[0m",
      "\u001b[0;31mAssertionError\u001b[0m                            Traceback (most recent call last)",
      "Cell \u001b[0;32mIn [44], line 9\u001b[0m\n\u001b[1;32m      7\u001b[0m correct_log \u001b[39m=\u001b[39m file\u001b[39m.\u001b[39mread()\n\u001b[1;32m      8\u001b[0m file\u001b[39m.\u001b[39mclose()\n\u001b[0;32m----> 9\u001b[0m \u001b[39massert\u001b[39;00m log \u001b[39m==\u001b[39m correct_log\n",
      "\u001b[0;31mAssertionError\u001b[0m: "
     ]
    }
   ],
   "source": [
    "# TEST\n",
    "%cd '/Users/quytrungg/Desktop/DS/src/DSCode/Trung/Homework_1'\n",
    "file = open('log.tsv', 'r')\n",
    "log = file.read()\n",
    "file.close()\n",
    "file = open('correct_log.tsv', 'r')\n",
    "correct_log = file.read()\n",
    "file.close()\n",
    "assert log == correct_log"
   ]
  },
  {
   "cell_type": "markdown",
   "metadata": {},
   "source": [
    "## Data explorations"
   ]
  },
  {
   "cell_type": "markdown",
   "metadata": {},
   "source": [
    "### Task: How many rows (observations) and columns (attributes) does the data have? (0.5 Points)"
   ]
  },
  {
   "cell_type": "markdown",
   "metadata": {},
   "source": [
    "First, you read the data from the \"log.tsv\" file (if the data collection you did is not correct, you can read it from the \"correct_log.tsv\" file that I provided). You have to assign the results you read into the `cols` variable. The variable `cols` is a dictionary where each element corresponds to a column. The key is the string corresponding to the column name, and the value is the list containing the values of the column (for each value, you can temporarily set the data type to string)."
   ]
  },
  {
   "cell_type": "code",
   "execution_count": 69,
   "metadata": {},
   "outputs": [
    {
     "name": "stdout",
     "output_type": "stream",
     "text": [
      "/Users/quytrungg/Desktop/DS/src/DSCode/Trung/Homework_1\n"
     ]
    },
    {
     "data": {
      "text/plain": [
       "Index(['Id', 'ParentIds', 'AuthorName', 'AuthorEmail', 'AuthorDate', 'Subject',\n",
       "       'ChangedFiles'],\n",
       "      dtype='object')"
      ]
     },
     "execution_count": 69,
     "metadata": {},
     "output_type": "execute_result"
    }
   ],
   "source": [
    "# YOUR CODE HERE\n",
    "%cd '/Users/quytrungg/Desktop/DS/src/DSCode/Trung/Homework_1'\n",
    "cols = {}\n",
    "\n",
    "\n",
    "num_rows, num_cols = cols.shape\n",
    "\n",
    "cols.keys()"
   ]
  },
  {
   "cell_type": "code",
   "execution_count": 70,
   "metadata": {},
   "outputs": [],
   "source": [
    "# TEST\n",
    "assert num_rows == 1928\n",
    "assert num_cols == 7\n",
    "assert set(cols.keys()) == set(['Id', 'ParentIds', 'AuthorName', \n",
    "                                'AuthorEmail', 'AuthorDate', 'Subject', \n",
    "                                'ChangedFiles'])\n",
    "id_col_len = len(cols['Id'])\n",
    "for col_name in cols:\n",
    "    assert len(cols[col_name]) == id_col_len"
   ]
  },
  {
   "cell_type": "markdown",
   "metadata": {},
   "source": [
    "### What does each row (observation) mean? Is there a phenomenon where rows (observations) have different meanings?"
   ]
  },
  {
   "cell_type": "markdown",
   "metadata": {},
   "source": [
    "Each observation corresponds to a Git commit. This means that none of the observations are outliers. As a result, there is no problem with observations having different meanings."
   ]
  },
  {
   "cell_type": "markdown",
   "metadata": {},
   "source": [
    "### Are there any duplicate rows in the data? (0.25 Points)"
   ]
  },
  {
   "cell_type": "markdown",
   "metadata": {},
   "source": [
    "The answer to this question must be \"NO.\" But to verify this statement, we can check the column named \"Id\". If there is no Id value that is duplicated in this column, we have the ability to make the conclusion that our data has no duplicated observations. You have to complete this task and store the result in the duplicated_id variable. The type of this variable is boolean, where True is demonstrated for having duplicate observations and False otherwise."
   ]
  },
  {
   "cell_type": "code",
   "execution_count": 71,
   "metadata": {},
   "outputs": [],
   "source": [
    "# YOUR CODE HERE\n",
    "duplicated_id = False"
   ]
  },
  {
   "cell_type": "code",
   "execution_count": 72,
   "metadata": {},
   "outputs": [],
   "source": [
    "# TEST\n",
    "assert duplicated_id == False"
   ]
  },
  {
   "cell_type": "markdown",
   "metadata": {},
   "source": [
    "### What do the columns in the data mean?"
   ]
  },
  {
   "cell_type": "markdown",
   "metadata": {},
   "source": [
    "**Remind** from previous section\n",
    "- Id: commit id (hash code).\n",
    "- ParentIds: parent commit id (hash code).\n",
    "- AuthorName: name of the Github Author.\n",
    "- AuthorEmail: contact email of the Github author.\n",
    "- AuthorDate: the date that the Github Author performs a commit to the repository. In addition, the date follows the RFC2822 format.\n",
    "- Subject: the title of the message (message is similar to that in an email; in addition to the \"subject\" part, there may be a \"body\" part; here we only take the \"subject\").\n",
    "- ChangedFiles: files are changed, if there are multiple files, the files are separated by comma."
   ]
  },
  {
   "cell_type": "markdown",
   "metadata": {},
   "source": [
    "### What data type does each column currently have? Is there a column with a data type that is not suitable for further processing?"
   ]
  },
  {
   "cell_type": "markdown",
   "metadata": {},
   "source": [
    "- Columns \"Id\", \"ParentIds\", \"AuthorName\", \"AuthorEmail\", \"Subject\": string is a valid data type.\n",
    "- Column \"ChangedFiles\": Hmm, perhaps we should continue to leave the string for now. We will take care of everything we need later if there is anything. \n",
    "- Column \"AuthorDate\": We must change the column \"AuthorDate\" from a string data type to a datetime; you will soon be able to handle this scenario so that you can carry on exploring. "
   ]
  },
  {
   "cell_type": "markdown",
   "metadata": {},
   "source": [
    "## Task: Data preprocessing (0.5 Points)"
   ]
  },
  {
   "cell_type": "markdown",
   "metadata": {},
   "source": [
    "In this task, you have to convert data type of \"AuthorDate\" column to datetime datatype. \n",
    "\n",
    "Hint: [https://docs.python.org/3/library/datetime.html#strftime-and-strptime-format-codes](https://docs.python.org/3/library/datetime.html#strftime-and-strptime-format-codes)"
   ]
  },
  {
   "cell_type": "code",
   "execution_count": null,
   "metadata": {},
   "outputs": [],
   "source": [
    "# YOUR CODE HERE\n",
    "raise NotImplementedError()"
   ]
  },
  {
   "cell_type": "code",
   "execution_count": null,
   "metadata": {},
   "outputs": [],
   "source": [
    "# TEST\n",
    "assert type(cols['AuthorDate'][0]) == datetime.datetime\n",
    "assert cols['AuthorDate'][0] == datetime.datetime(2021, 4, 20, 12, 27, 9, \n",
    "            tzinfo=datetime.timezone(datetime.timedelta(seconds=3600)))"
   ]
  },
  {
   "cell_type": "markdown",
   "metadata": {},
   "source": [
    "## Task: Data explore (continue)\n",
    "\n",
    "### "
   ]
  },
  {
   "cell_type": "markdown",
   "metadata": {},
   "source": [
    "### For each column with numeric and datetime data types, how are the values distributed? (0.5 Points)"
   ]
  },
  {
   "cell_type": "markdown",
   "metadata": {},
   "source": [
    "There are no columns whose data type is numeric, and only one \"AuthorDate\" column has a datetime datatype.\n",
    "\n",
    "First, you have to calculate the proportion of missing values in the \"AuthorDate\" column. \n",
    "\n",
    "<font color=gray>Hint: You do not need to program. You can just base your argument on the result when converting the \"AuthorDate\" column data type from string to datetime, which was completed in the given task above.</font>"
   ]
  },
  {
   "cell_type": "markdown",
   "metadata": {},
   "source": [
    "YOUR ANSWER HERE"
   ]
  },
  {
   "cell_type": "markdown",
   "metadata": {},
   "source": [
    "For the next step, you have to calculate the minimum and maximum values in the \"AuthorDate\" column, and store them in two variables `author_date_min` and `author_date_max`, respectively."
   ]
  },
  {
   "cell_type": "code",
   "execution_count": null,
   "metadata": {},
   "outputs": [],
   "source": [
    "# YOUR CODE HERE\n",
    "raise NotImplementedError()"
   ]
  },
  {
   "cell_type": "code",
   "execution_count": null,
   "metadata": {},
   "outputs": [],
   "source": [
    "# TEST\n",
    "assert author_date_min == datetime.datetime(2015, 11, 9, 13, 13, 28, \n",
    "            tzinfo=datetime.timezone(datetime.timedelta(seconds=3600)))\n",
    "assert author_date_max == datetime.datetime(2021, 4, 20, 12, 27, 9, \n",
    "            tzinfo=datetime.timezone(datetime.timedelta(seconds=3600)))"
   ]
  },
  {
   "cell_type": "markdown",
   "metadata": {},
   "source": [
    "### For each column with a categorical data type, how are the values distributed? (1.75 Points)"
   ]
  },
  {
   "cell_type": "markdown",
   "metadata": {},
   "source": [
    "All columns except the \"AuthorDate\" column are categorical columns. The information from these columns will be stored in the variable `cate_col_profiles`. This variable is a dictionary with a categorical form column for each of its elements, whose key is the column name and whose value is a list that includes the proportion of missing values, the total number of distinct values (not including missing values), and the number of distinct values in the set (excluding missing values)."
   ]
  },
  {
   "cell_type": "code",
   "execution_count": null,
   "metadata": {},
   "outputs": [],
   "source": [
    "# YOUR CODE HERE\n",
    "raise NotImplementedError()"
   ]
  },
  {
   "cell_type": "code",
   "execution_count": null,
   "metadata": {},
   "outputs": [],
   "source": [
    "# TEST\n",
    "assert set(cate_col_profiles.keys()) == {'AuthorEmail', 'AuthorName', \n",
    "                                         'ChangedFiles', 'Id', \n",
    "                                         'ParentIds', 'Subject'}\n",
    "for col_name, col_profile in cate_col_profiles.items():\n",
    "    assert len(col_profile) == 3\n",
    "    assert len(col_profile[2]) == col_profile[1]\n",
    "assert round(cate_col_profiles['ParentIds'][0], 3) == 0.052\n",
    "assert round(cate_col_profiles['ChangedFiles'][0], 3) == 16.079\n",
    "assert cate_col_profiles['ParentIds'][1] == 1820\n",
    "assert cate_col_profiles['ChangedFiles'][1] == 842"
   ]
  },
  {
   "cell_type": "code",
   "execution_count": null,
   "metadata": {},
   "outputs": [],
   "source": [
    "# TEST (BY EYES)\n",
    "print(f\"{'ColName':12} {'Miss(%)':7} {'NumDifVals':10} {'SomeVals'}\")\n",
    "for col_name, col_profile in cate_col_profiles.items():\n",
    "    print(f'{col_name:12} {col_profile[0]:<7.3f} {col_profile[1]:<10} {col_profile[2].__repr__()[:34]+\"...\":<}')"
   ]
  },
  {
   "cell_type": "markdown",
   "metadata": {},
   "source": [
    "You look at the findings shown above, momentarily ignoring the column \"Miss(%),\" and you let me know if you notice anything out of the ordinary. Is everything normal, though? Tell me how you arrived at that decision. "
   ]
  },
  {
   "cell_type": "markdown",
   "metadata": {},
   "source": [
    "YOUR ANSWER HERE"
   ]
  },
  {
   "cell_type": "markdown",
   "metadata": {},
   "source": [
    "After that, print the lines with the missing numbers (whatever you like, but make sure it's clear). Then examine these lines to see why they are absent (if you are unsure, simply state that you are uncertain). "
   ]
  },
  {
   "cell_type": "code",
   "execution_count": null,
   "metadata": {},
   "outputs": [],
   "source": [
    "# YOUR CODE HERE\n",
    "raise NotImplementedError()"
   ]
  },
  {
   "cell_type": "markdown",
   "metadata": {},
   "source": [
    "## Ask a meaningful question that needs answering"
   ]
  },
  {
   "cell_type": "markdown",
   "metadata": {},
   "source": [
    "We now have a deeper comprehension of the facts after further exploration. Let's check the data now to see if any important questions can be resolved.\n",
    "\n",
    "Possible inquiries include:\n",
    "- Question 1: *Who has the most commitments in 2021 (or who has the second-most commitments, etc.)?* What's the response to this query? Hmm... To commend one example\n",
    "\n",
    "- Question 2: *What was the last commit (considering the \"AuthorDate\") that modified the \"nbdime/webapp/templates/difftool.html\" file?* What if I figure out the solution to this query, and for what? Consider blaming the perpetrator of the crime, for instance. "
   ]
  },
  {
   "cell_type": "markdown",
   "metadata": {},
   "source": [
    "## Preprocessing (if appropriate) and data analysis to address question 1 (1 Points)"
   ]
  },
  {
   "cell_type": "markdown",
   "metadata": {},
   "source": [
    "Remind the question 1: *Who has the most commitments in 2021 (or who has the second-most commitments, etc.)?*\n",
    "\n",
    "The results will be saved in the `wanted_people` variable. This variable is a dictionary. Each element represents a person who has made a commitment for 2021. The key of an element illustrates the name of the commitor, and the value represents that person's total number of commits. This dictionary is arranged in descending order of value."
   ]
  },
  {
   "cell_type": "code",
   "execution_count": null,
   "metadata": {},
   "outputs": [],
   "source": [
    "# YOUR CODE HERE\n",
    "raise NotImplementedError()"
   ]
  },
  {
   "cell_type": "code",
   "execution_count": null,
   "metadata": {},
   "outputs": [],
   "source": [
    "# TEST\n",
    "correct_wanted_people = {'Vidar Tonaas Fauske': 26, \n",
    "                         'Alex Bozarth': 9, \n",
    "                         'Frederic COLLONVAL': 7, \n",
    "                         'Frédéric Collonval': 6, \n",
    "                         'krassowski': 2, \n",
    "                         'Michał Krassowski': 2}\n",
    "assert wanted_people == correct_wanted_people"
   ]
  },
  {
   "cell_type": "markdown",
   "metadata": {},
   "source": [
    "## Preprocessing (if appropriate) and data analysis to address question 2 (2 Points)"
   ]
  },
  {
   "cell_type": "markdown",
   "metadata": {},
   "source": [
    "Remind the question 2: *What was the last commit (considering the \"AuthorDate\") that modified the \"nbdime/webapp/templates/difftool.html\" file?*\n",
    "\n",
    "We concur that \"merge pull request\" contributions should not be taken into account because they lack information regarding \"ChangedFiles\". \n",
    "\n",
    "The result is stored in the `wanted_commit` variable. This variable is a dictionary with information about each entry corresponding to a commit. The column name provides its key, and the corresponding value provides its value. "
   ]
  },
  {
   "cell_type": "code",
   "execution_count": null,
   "metadata": {},
   "outputs": [],
   "source": [
    "# YOUR CODE HERE\n",
    "raise NotImplementedError()"
   ]
  },
  {
   "cell_type": "code",
   "execution_count": null,
   "metadata": {},
   "outputs": [],
   "source": [
    "# TEST\n",
    "correct_wanted_commit = {\\\n",
    "    'Id': 'be0b5ee',\n",
    "    'ParentIds': '4226179',\n",
    "    'AuthorName': 'Vidar Tonaas Fauske',\n",
    "    'AuthorEmail': 'vidartf@gmail.com',\n",
    "    'AuthorDate': datetime.datetime(2017, 7, 4, 22, 53, 9, tzinfo=datetime.timezone(datetime.timedelta(seconds=7200))),\n",
    "    'Subject': 'jinja2 templates + avoid name collisions with nb',\n",
    "    'ChangedFiles': 'nbdime/webapp/nbdimeserver.py,nbdime/webapp/templates/compare.html,nbdime/webapp/templates/diff.html,nbdime/webapp/templates/difftool.html,nbdime/webapp/templates/merge.html,nbdime/webapp/templates/mergetool.html,nbdime/webapp/templates/nbdimepage.html,setup.py'\\\n",
    "}\n",
    "assert wanted_commit == correct_wanted_commit"
   ]
  }
 ],
 "metadata": {
  "kernelspec": {
   "display_name": "Python 3.8.8 ('min_ds-env')",
   "language": "python",
   "name": "python3"
  },
  "language_info": {
   "codemirror_mode": {
    "name": "ipython",
    "version": 3
   },
   "file_extension": ".py",
   "mimetype": "text/x-python",
   "name": "python",
   "nbconvert_exporter": "python",
   "pygments_lexer": "ipython3",
   "version": "3.8.8"
  },
  "orig_nbformat": 4,
  "vscode": {
   "interpreter": {
    "hash": "ae40947b55d23fa66de0056542b739ddefca8ca5c7aded5612b7ae61bb2128ef"
   }
  }
 },
 "nbformat": 4,
 "nbformat_minor": 2
}
