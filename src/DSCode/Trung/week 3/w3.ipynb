{
 "cells": [
  {
   "cell_type": "code",
   "execution_count": 2,
   "metadata": {},
   "outputs": [],
   "source": [
    "f = open('CQ2019Majors.txt')\n",
    "data = f.readlines()\n",
    "f.close()"
   ]
  },
  {
   "cell_type": "code",
   "execution_count": 9,
   "metadata": {},
   "outputs": [
    {
     "name": "stdout",
     "output_type": "stream",
     "text": [
      "STT MSSV Họ SV Tên SV Chuyên ngành Ghi chú\n",
      "\n",
      "1 1712222 Nguyễn Văn Hùng Mạng máy tính và viễn thông + Công nghệ thông tin\n",
      "\n",
      "2 1712437 Nguyễn Đăng Hiếu Mạng máy tính và viễn thông + Công nghệ thông tin\n",
      "\n",
      "3 1712469 Lê Gia Huấn Mạng máy tính và viễn thông + Công nghệ thông tin\n",
      "\n",
      "4 1712692 Nguyễn Hoàng Quân Mạng máy tính và viễn thông + Công nghệ thông tin\n",
      "\n",
      "391 19120730 Ngô Huỳnh Hải Vy Mạng máy tính và viễn thông + Công nghệ thông tin\n",
      "\n",
      "392 19120731 Trần Ngọc Vỹ Kỹ thuật phần mềm\n",
      "\n",
      "393 19120733 Lê Hoàng Thịnh Như Ý Hệ thống thông tin\n",
      "\n",
      "Danh sách có tổng cộng: 393 SV\n",
      "\n",
      "Page 6 of 6\n",
      "\n"
     ]
    }
   ],
   "source": [
    "for i in data[:5]:\n",
    "    print(i)\n",
    "\n",
    "for i in data[-5:]:\n",
    "    print(i)"
   ]
  },
  {
   "cell_type": "code",
   "execution_count": 22,
   "metadata": {},
   "outputs": [
    {
     "data": {
      "text/plain": [
       "(['vehicle', 'year', 'msrp', 'acceleration', 'mpg', 'class\\n'],\n",
       " [['Prius (1st Gen)', '1997', '24509.74', '7.46', '41.26', 'Compact\\n'],\n",
       "  ['Tino', '2000', '35354.97', '8.2', '54.1', 'Compact\\n'],\n",
       "  ['Prius (2nd Gen)', '2000', '26832.25', '7.97', '45.23', 'Compact\\n'],\n",
       "  ['Insight', '2000', '18936.41', '9.52', '53.0', 'Two Seater\\n'],\n",
       "  ['Civic (1st Gen)', '2001', '25833.38', '7.04', '47.04', 'Compact\\n']],\n",
       " [['S400', '2013', '92350.0', '13.89', '21.0', 'Large\\n'],\n",
       "  ['Prius Plug-in', '2013', '32000.0', '9.17', '50.0', 'Midsize\\n'],\n",
       "  ['C-Max Energi Plug-in', '2013', '32950.0', '11.76', '43.0', 'Midsize\\n'],\n",
       "  ['Fusion Energi Plug-in', '2013', '38700.0', '11.76', '43.0', 'Midsize\\n'],\n",
       "  ['Chevrolet Volt', '2013', '39145.0', '11.11', '37.0', 'Compact\\n']])"
      ]
     },
     "execution_count": 22,
     "metadata": {},
     "output_type": "execute_result"
    }
   ],
   "source": [
    "with open('Cars.csv') as f:\n",
    "    data = f.readlines()\n",
    "    header = data[0].split(',')\n",
    "    content = [i.split(',') for i in data[1:]]\n",
    "\n",
    "header, content[:5], content[-5:]"
   ]
  },
  {
   "cell_type": "code",
   "execution_count": 53,
   "metadata": {},
   "outputs": [
    {
     "data": {
      "text/plain": [
       "['999', '123223', '3.14', '1234.3242342', '-5.6']"
      ]
     },
     "execution_count": 53,
     "metadata": {},
     "output_type": "execute_result"
    }
   ],
   "source": [
    "import re\n",
    "txt = '999 text 123223 3.14 1234.3242342 -5.6'\n",
    "x = re.findall(r'[+-]?[0-9]*\\.?[0-9]{1,}', txt)\n",
    "x"
   ]
  },
  {
   "cell_type": "code",
   "execution_count": 60,
   "metadata": {},
   "outputs": [
    {
     "data": {
      "text/plain": [
       "[]"
      ]
     },
     "execution_count": 60,
     "metadata": {},
     "output_type": "execute_result"
    }
   ],
   "source": [
    "txt = 'ldskjf@gmail.com sdklfjks@ dlksf'\n",
    "x = re.findall(r'/[a-zA-Z0-9._%+-]+@([a-zA-Z-0-9]{2,}\\.)+[a-zA-Z]{2,}$/', txt)\n",
    "x"
   ]
  },
  {
   "cell_type": "code",
   "execution_count": 114,
   "metadata": {},
   "outputs": [
    {
     "name": "stdout",
     "output_type": "stream",
     "text": [
      "Counter({'<html>': 1, '<head>': 1, '<title>': 1, '<body>': 1, '<div>': 1})\n",
      "1\n"
     ]
    }
   ],
   "source": [
    "from urllib.request import urlopen\n",
    "from collections import Counter\n",
    "\n",
    "textPage = urlopen('http://www.pythonscraping.com/pages/page1.html')\n",
    "data = re.findall(r'<[a-z]+>', textPage.read().decode('utf-8'))\n",
    "print(Counter(data))\n",
    "textPage = urlopen('http://www.pythonscraping.com/pages/page1.html')\n",
    "h1 = re.findall(r'<[h]+[1-5]>', textPage.read().decode('utf-8'))\n",
    "print(len(h1))"
   ]
  },
  {
   "cell_type": "code",
   "execution_count": null,
   "metadata": {},
   "outputs": [],
   "source": [
    "html = open()\n",
    "raw = html.read()\n",
    "content = re.findall(r'<[\\w]+>([\\w\\s]+)<\\/[\\w]+>')"
   ]
  }
 ],
 "metadata": {
  "kernelspec": {
   "display_name": "Python 3.10.6 64-bit ('3.10.6')",
   "language": "python",
   "name": "python3"
  },
  "language_info": {
   "codemirror_mode": {
    "name": "ipython",
    "version": 3
   },
   "file_extension": ".py",
   "mimetype": "text/x-python",
   "name": "python",
   "nbconvert_exporter": "python",
   "pygments_lexer": "ipython3",
   "version": "3.10.6"
  },
  "orig_nbformat": 4,
  "vscode": {
   "interpreter": {
    "hash": "89e8354a88354ecf7ffb299b56239fb0ecc48c48d372ba43f5b93cc4e944f72d"
   }
  }
 },
 "nbformat": 4,
 "nbformat_minor": 2
}
