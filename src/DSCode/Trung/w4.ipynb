{
 "cells": [
  {
   "cell_type": "code",
   "execution_count": 1,
   "metadata": {},
   "outputs": [
    {
     "data": {
      "text/plain": [
       "[3, 23, 62, 6, 23, 52, 76, 6, 3, 23]"
      ]
     },
     "execution_count": 1,
     "metadata": {},
     "output_type": "execute_result"
    }
   ],
   "source": [
    "arr = [3,23,62,6,23,52,76,6,3,23]\n",
    "arr"
   ]
  },
  {
   "cell_type": "code",
   "execution_count": 4,
   "metadata": {},
   "outputs": [],
   "source": [
    "result = sorted(arr)"
   ]
  },
  {
   "cell_type": "code",
   "execution_count": 5,
   "metadata": {},
   "outputs": [
    {
     "data": {
      "text/plain": [
       "[3, 3, 6, 6, 23, 23, 23, 52, 62, 76]"
      ]
     },
     "execution_count": 5,
     "metadata": {},
     "output_type": "execute_result"
    }
   ],
   "source": [
    "result"
   ]
  },
  {
   "cell_type": "code",
   "execution_count": 6,
   "metadata": {},
   "outputs": [
    {
     "data": {
      "text/plain": [
       "{3, 6, 23, 52, 62, 76}"
      ]
     },
     "execution_count": 6,
     "metadata": {},
     "output_type": "execute_result"
    }
   ],
   "source": [
    "tmp = set(arr)\n",
    "tmp"
   ]
  },
  {
   "cell_type": "markdown",
   "metadata": {},
   "source": [
    "# FINAL PROJECT (INTRODUCTION TO DATA SCIENCE) - Group 10\n",
    "\n",
    "- **Lecturer**: Nguyễn Ngọc Thảo.\n",
    "- **Teaching Assistant**: Lê Nhựt Nam, Kiều Vũ Minh Đức.\n",
    "\n",
    "---\n",
    "\n",
    "1. **Team Members**:\n",
    "\n",
    "| **No.** | **Student ID** |  **Fullname**  |        **Contact**         |\n",
    "| :-----: | :------------: | :------------: | :------------------------: |\n",
    "|    1    |    20127370    | Mai Quý Trung  | mqtrung20@clc.fitus.edu.vn |\n",
    "|    2    |    20127005    | Nguyễn Đức Bảo | johnsonjustin442@gmail.com |\n",
    "|    3    |    20127001    |  Hà Quốc Anh   |    hqanh2804@gmail.com     |\n",
    "\n",
    "2. **Project Details**:\n",
    "\n",
    "- **Topic: Music**.\n",
    "- **Platform**: [Spotify](https://open.spotify.com/).\n",
    "- **Method**: API requests.\n",
    "- **Language**: Python.\n",
    "- **Tools**: Jupyter Notebook, Numpy, Pandas, Spotipy, Matplotlib, Scikit-learn,...\n",
    "- **Target**:\n",
    "    - Predict key elements that make a good song and a good artist based on features of the dataset using Linear Regression.\n",
    "    - Predictions about music trend in 2022: favorite genres, favorite artists, favorite songs, song/album/artist of the year, potential artists for the following year, best markets for music delivery,...\n",
    "    - Predictions about music trend for the next 5 years.\n",
    "    - Crawl data from music platforms using API requests and store data about music tracks and artists.\n",
    "    - The dataset includes differents stats of music tracks and artist: track id, track name, genre,  track duration, artist name, number of followers,  artist popularity, track popularity, song release date, available markets,...\n"
   ]
  },
  {
   "cell_type": "markdown",
   "metadata": {},
   "source": []
  }
 ],
 "metadata": {
  "kernelspec": {
   "display_name": "Python 3.10.6 64-bit ('3.10.6')",
   "language": "python",
   "name": "python3"
  },
  "language_info": {
   "codemirror_mode": {
    "name": "ipython",
    "version": 3
   },
   "file_extension": ".py",
   "mimetype": "text/x-python",
   "name": "python",
   "nbconvert_exporter": "python",
   "pygments_lexer": "ipython3",
   "version": "3.10.6"
  },
  "orig_nbformat": 4,
  "vscode": {
   "interpreter": {
    "hash": "89e8354a88354ecf7ffb299b56239fb0ecc48c48d372ba43f5b93cc4e944f72d"
   }
  }
 },
 "nbformat": 4,
 "nbformat_minor": 2
}
